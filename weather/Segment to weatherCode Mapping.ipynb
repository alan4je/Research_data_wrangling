{
 "cells": [
  {
   "cell_type": "code",
   "execution_count": 1,
   "metadata": {
    "collapsed": true
   },
   "outputs": [],
   "source": [
    "import numpy as np\n",
    "import pandas as pd\n",
    "import xlsxwriter"
   ]
  },
  {
   "cell_type": "code",
   "execution_count": 2,
   "metadata": {
    "collapsed": false
   },
   "outputs": [],
   "source": [
    "rdf = pd.read_csv('waMPfile.csv')\n",
    "codeDF = pd.read_csv('segAPcodeN1.csv')\n",
    "rdf[\"nearestAirport\"] = codeDF.TargetID\n",
    "rdf[\"Distance2Airport\"] = codeDF.Distance"
   ]
  },
  {
   "cell_type": "code",
   "execution_count": 3,
   "metadata": {
    "collapsed": true
   },
   "outputs": [],
   "source": [
    "def subVal(df, route, val):\n",
    "    for row in df[df.SR==route].index:\n",
    "        df.loc[row, 'MP_VALUE'] -= val\n",
    "    return"
   ]
  },
  {
   "cell_type": "code",
   "execution_count": 4,
   "metadata": {
    "collapsed": true
   },
   "outputs": [],
   "source": [
    "subVal(rdf, 10, 88)\n",
    "subVal(rdf, 41, 38)\n",
    "subVal(rdf, 205, 26)\n",
    "subVal(rdf, 530, 16)\n",
    "subVal(rdf, 397, -11)"
   ]
  },
  {
   "cell_type": "code",
   "execution_count": 5,
   "metadata": {
    "collapsed": false
   },
   "outputs": [
    {
     "name": "stdout",
     "output_type": "stream",
     "text": [
      "8909\n"
     ]
    }
   ],
   "source": [
    "traffic = pd.read_excel('../Research Data/alano/Traffic.xlsx')\n",
    "RouteSeg = traffic.drop_duplicates(subset= ['SR','Begin ARM','End ARM']).loc[:, ('SR','Begin ARM','End ARM')]\n",
    "RouteSeg.index = range(len(RouteSeg))\n",
    "print len(RouteSeg)"
   ]
  },
  {
   "cell_type": "code",
   "execution_count": 6,
   "metadata": {
    "collapsed": true
   },
   "outputs": [],
   "source": [
    "Routes = list(np.unique(np.array(RouteSeg.loc[:,'SR'])))\n",
    "mp_file = pd.read_csv('milePostFile.csv')\n",
    "mp_file['SR'] = mp_file['SR'].convert_objects(convert_numeric=True)\n",
    "mpRoutes = list(np.unique(np.array(mp_file.loc[:,'SR'])))\n",
    "routeToRemove = list(set(Routes) - set(mpRoutes))"
   ]
  },
  {
   "cell_type": "code",
   "execution_count": 7,
   "metadata": {
    "collapsed": true
   },
   "outputs": [],
   "source": [
    "RouteSeg = RouteSeg[~RouteSeg.SR.isin(routeToRemove)]"
   ]
  },
  {
   "cell_type": "code",
   "execution_count": 8,
   "metadata": {
    "collapsed": false
   },
   "outputs": [
    {
     "name": "stdout",
     "output_type": "stream",
     "text": [
      "8688\n"
     ]
    }
   ],
   "source": [
    "print len(RouteSeg)"
   ]
  },
  {
   "cell_type": "code",
   "execution_count": 9,
   "metadata": {
    "collapsed": true
   },
   "outputs": [],
   "source": [
    "def ab(val):\n",
    "    if val < 1:\n",
    "        return 1\n",
    "    return int(val)"
   ]
  },
  {
   "cell_type": "code",
   "execution_count": 10,
   "metadata": {
    "collapsed": true
   },
   "outputs": [],
   "source": [
    "mp_val = RouteSeg[\"End ARM\"].map(lambda s: ab(s))\n",
    "RouteSeg[\"MP_VALUE\"] = mp_val"
   ]
  },
  {
   "cell_type": "code",
   "execution_count": 11,
   "metadata": {
    "collapsed": true
   },
   "outputs": [],
   "source": [
    "def mergeDFs(df):\n",
    "    mergedDF = pd.merge(df, rdf, how = 'left',left_on = ['SR', 'MP_VALUE'], right_on = ['SR','MP_VALUE'])\n",
    "    tdf = mergedDF.drop_duplicates(subset = ['SR','Begin ARM','End ARM'])\n",
    "    tdf.index = range(len(tdf))\n",
    "    return tdf"
   ]
  },
  {
   "cell_type": "code",
   "execution_count": 12,
   "metadata": {
    "collapsed": false
   },
   "outputs": [
    {
     "data": {
      "text/plain": [
       "True"
      ]
     },
     "execution_count": 12,
     "metadata": {},
     "output_type": "execute_result"
    }
   ],
   "source": [
    "tdf = mergeDFs(RouteSeg)\n",
    "len(tdf) == len(RouteSeg)"
   ]
  },
  {
   "cell_type": "code",
   "execution_count": 13,
   "metadata": {
    "collapsed": false
   },
   "outputs": [],
   "source": [
    "criteria = tdf[tdf['UID'].apply(np.isnan)]\n",
    "missingMP = criteria.loc[:,(\"SR\",\"MP_VALUE\")].drop_duplicates(subset = [\"SR\", \"MP_VALUE\"])"
   ]
  },
  {
   "cell_type": "code",
   "execution_count": 14,
   "metadata": {
    "collapsed": false
   },
   "outputs": [],
   "source": [
    "def misupto(current,previous):\n",
    "    res = []\n",
    "    for i in current: #missing consecutive mp_values\n",
    "        if i not in previous: #missing single value\n",
    "            res.append(i)\n",
    "    return res"
   ]
  },
  {
   "cell_type": "code",
   "execution_count": 15,
   "metadata": {
    "collapsed": true
   },
   "outputs": [],
   "source": [
    "mis1 = np.array(missingMP[missingMP.MP_VALUE==1][\"SR\"])\n",
    "mis2 = np.array(missingMP[missingMP.MP_VALUE<=2][\"SR\"])\n",
    "mis3 = np.array(missingMP[missingMP.MP_VALUE<=3][\"SR\"])\n",
    "mis4 = np.array(missingMP[missingMP.MP_VALUE<=4][\"SR\"])\n",
    "mis5 = np.array(missingMP[missingMP.MP_VALUE<=5][\"SR\"])\n",
    "mis6 = np.array(missingMP[missingMP.MP_VALUE<=6][\"SR\"])\n",
    "mis7 = np.array(missingMP[missingMP.MP_VALUE<=7][\"SR\"])\n",
    "mis8 = np.array(missingMP[missingMP.MP_VALUE<=8][\"SR\"])"
   ]
  },
  {
   "cell_type": "code",
   "execution_count": 16,
   "metadata": {
    "collapsed": false
   },
   "outputs": [],
   "source": [
    "# print mis1, mis2, mis3, mis4, mis5, mis6, mis7, mis8"
   ]
  },
  {
   "cell_type": "code",
   "execution_count": 17,
   "metadata": {
    "collapsed": false
   },
   "outputs": [],
   "source": [
    "m18 = misupto(mis8, mis7)\n",
    "m17 = misupto(mis7, mis6)\n",
    "m16 = misupto(mis6, mis5)\n",
    "m15 = misupto(mis5, mis4)\n",
    "m14 = misupto(mis4, mis3)\n",
    "m13 = misupto(mis3, mis2)\n",
    "m12 = misupto(mis2, mis1)"
   ]
  },
  {
   "cell_type": "code",
   "execution_count": 18,
   "metadata": {
    "collapsed": false
   },
   "outputs": [
    {
     "name": "stdout",
     "output_type": "stream",
     "text": [
      "[544, 548] [5, 202] [16, 182] [125, 195] [] [22, 99, 166, 270, 525] [204, 395] [ 17  90 162 181 215 290 291 303 397 410 500 503 510 515 522 529 823 900\n",
      " 903]\n"
     ]
    }
   ],
   "source": [
    "print m18, m17, m16, m15, m14, m13, m12, mis1"
   ]
  },
  {
   "cell_type": "code",
   "execution_count": 19,
   "metadata": {
    "collapsed": false
   },
   "outputs": [],
   "source": [
    "def check(val):\n",
    "    if np.isnan(val):\n",
    "        return True\n",
    "    else:\n",
    "        return False"
   ]
  },
  {
   "cell_type": "code",
   "execution_count": 20,
   "metadata": {
    "collapsed": true
   },
   "outputs": [],
   "source": [
    "def addMPvalue(df):\n",
    "    for row in range(len(df)):\n",
    "        if check(df.loc[row, \"Distance2Airport\"]):\n",
    "            if df.loc[row, \"SR\"] == 529:\n",
    "                df.loc[row, \"MP_VALUE\"] = 5\n",
    "            elif df.loc[row, \"SR\"] == 215:\n",
    "                df.loc[row, \"MP_VALUE\"] = 4\n",
    "            elif df.loc[row, \"SR\"] == 303:\n",
    "                df.loc[row, \"MP_VALUE\"] = 5\n",
    "            elif df.loc[row, \"SR\"] == 515:\n",
    "                df.loc[row, \"MP_VALUE\"] = 4\n",
    "            elif ((df.loc[row, \"SR\"] == 165) & (df.loc[row, \"MP_VALUE\"] == 10)):\n",
    "                df.loc[row, \"MP_VALUE\"] += 1\n",
    "            elif ((df.loc[row, \"SR\"] == 397) & (df.loc[row, \"MP_VALUE\"] == 12)):\n",
    "                df.loc[row, \"MP_VALUE\"] += 1\n",
    "            elif df.loc[row, \"SR\"] == df.loc[(row-1), \"SR\"]:\n",
    "                df.loc[row, \"MP_VALUE\"] = df.loc[(row-1), \"MP_VALUE\"]\n",
    "            elif df.loc[row, \"SR\"] in mis1:\n",
    "                df.loc[row, \"MP_VALUE\"] +=1\n",
    "            elif df.loc[row, \"SR\"] in m12:\n",
    "                df.loc[row, \"MP_VALUE\"] +=2\n",
    "            elif df.loc[row, \"SR\"] in m13:\n",
    "                df.loc[row, \"MP_VALUE\"] +=3\n",
    "            elif df.loc[row, \"SR\"] in m14:\n",
    "                df.loc[row, \"MP_VALUE\"] +=4\n",
    "            elif df.loc[row, \"SR\"] in m15:\n",
    "                df.loc[row, \"MP_VALUE\"] +=5\n",
    "            elif df.loc[row, \"SR\"] in m16:\n",
    "                df.loc[row, \"MP_VALUE\"] +=6\n",
    "            elif df.loc[row, \"SR\"] in m17:\n",
    "                df.loc[row, \"MP_VALUE\"] +=7\n",
    "            elif df.loc[row, \"SR\"] in m18:\n",
    "                df.loc[row, \"MP_VALUE\"] +=8\n",
    "            else:\n",
    "                continue\n",
    "        else:\n",
    "            continue"
   ]
  },
  {
   "cell_type": "code",
   "execution_count": 21,
   "metadata": {
    "collapsed": false
   },
   "outputs": [],
   "source": [
    "def includeMissing(df):\n",
    "    for row in range(len(df)):\n",
    "        if check(df.loc[row, \"Distance2Airport\"]):\n",
    "            if df.loc[row, \"SR\"] == df.loc[(row-1), \"SR\"]:\n",
    "                df.loc[row, \"nearestAirport\"] = df.loc[(row-1), \"nearestAirport\"]\n",
    "                df.loc[row, \"Distance2Airport\"] = df.loc[(row-1), \"Distance2Airport\"]\n",
    "#             elif df.loc[row, \"SR\"] in m18:\n",
    "#                 df.loc[row, \"nearestAirport\"] = df.loc[(row+1), \"nearestAirport\"]\n",
    "#                 df.loc[row, \"Distance2Airport\"] = df.loc[(row+1), \"Distance2Airport\"]\n",
    "    return"
   ]
  },
  {
   "cell_type": "code",
   "execution_count": 22,
   "metadata": {
    "collapsed": false
   },
   "outputs": [],
   "source": [
    "# finalSegWcode.columns = ['SR', 'Begin ARM', 'End ARM', 'NearestAirport', 'Distance2Airport']"
   ]
  },
  {
   "cell_type": "code",
   "execution_count": 23,
   "metadata": {
    "collapsed": false
   },
   "outputs": [],
   "source": [
    "# check2 = finalSegWcode[finalSegWcode['Distance2Airport'].apply(np.isnan)]\n",
    "# print len(check2)"
   ]
  },
  {
   "cell_type": "code",
   "execution_count": 24,
   "metadata": {
    "collapsed": false
   },
   "outputs": [],
   "source": [
    "# finalSegWcode.to_csv(\"SegmentCodeDB.csv\")"
   ]
  },
  {
   "cell_type": "code",
   "execution_count": 25,
   "metadata": {
    "collapsed": false
   },
   "outputs": [],
   "source": [
    "# print len(mis1), len(m12), len(m13), len(m14), len(m15), len(m16), len(m18)"
   ]
  },
  {
   "cell_type": "code",
   "execution_count": 26,
   "metadata": {
    "collapsed": true
   },
   "outputs": [],
   "source": [
    "checkmp = tdf[tdf['UID'].apply(np.isnan)]"
   ]
  },
  {
   "cell_type": "code",
   "execution_count": 27,
   "metadata": {
    "collapsed": true
   },
   "outputs": [],
   "source": [
    "# missingMP = checkmp.loc[:,(\"SR\",\"MP_VALUE\")].drop_duplicates(subset = [\"SR\", \"MP_VALUE\"])"
   ]
  },
  {
   "cell_type": "code",
   "execution_count": 28,
   "metadata": {
    "collapsed": true
   },
   "outputs": [],
   "source": [
    "# addMPvalue(tdf)"
   ]
  },
  {
   "cell_type": "code",
   "execution_count": 29,
   "metadata": {
    "collapsed": true
   },
   "outputs": [],
   "source": [
    "# newdf = tdf.loc[:, ('SR','Begin ARM','End ARM', \"MP_VALUE\")]"
   ]
  },
  {
   "cell_type": "code",
   "execution_count": 30,
   "metadata": {
    "collapsed": true
   },
   "outputs": [],
   "source": [
    "def doThis(df):\n",
    "    mergedDF = pd.merge(df, rdf, how = 'left',left_on = ['SR', 'MP_VALUE'], right_on = ['SR','MP_VALUE'])\n",
    "    tdf = mergedDF.drop_duplicates(subset = ['SR','Begin ARM','End ARM'])\n",
    "    tdf.index = range(len(tdf))\n",
    "    finalSegWcode = tdf.loc[:,('SR','Begin ARM','End ARM', \"nearestAirport\", \"Distance2Airport\") ]\n",
    "    return finalSegWcode"
   ]
  },
  {
   "cell_type": "code",
   "execution_count": 31,
   "metadata": {
    "collapsed": false
   },
   "outputs": [],
   "source": [
    "# finalDF = doThis(newdf)\n",
    "# check3 = finalDF[finalDF['Distance2Airport'].apply(np.isnan)]\n",
    "# print len(check3)"
   ]
  },
  {
   "cell_type": "code",
   "execution_count": 32,
   "metadata": {
    "collapsed": false
   },
   "outputs": [],
   "source": [
    " def calAndCheck(checkmp, tdf):   \n",
    "    missingMP = checkmp.loc[:,(\"SR\",\"MP_VALUE\")].drop_duplicates(subset = [\"SR\", \"MP_VALUE\"])\n",
    "    mis1 = np.array(missingMP[missingMP.MP_VALUE==1][\"SR\"])\n",
    "    mis2 = np.array(missingMP[missingMP.MP_VALUE<=2][\"SR\"])\n",
    "    mis3 = np.array(missingMP[missingMP.MP_VALUE<=3][\"SR\"])\n",
    "    mis4 = np.array(missingMP[missingMP.MP_VALUE<=4][\"SR\"])\n",
    "    mis5 = np.array(missingMP[missingMP.MP_VALUE<=5][\"SR\"])\n",
    "    mis6 = np.array(missingMP[missingMP.MP_VALUE<=6][\"SR\"])\n",
    "    mis7 = np.array(missingMP[missingMP.MP_VALUE<=7][\"SR\"])\n",
    "    mis8 = np.array(missingMP[missingMP.MP_VALUE<=8][\"SR\"])\n",
    "    m18 = misupto(mis8, mis7)\n",
    "    m17 = misupto(mis7, mis6)\n",
    "    m16 = misupto(mis6, mis5)\n",
    "    m15 = misupto(mis5, mis4)\n",
    "    m14 = misupto(mis4, mis3)\n",
    "    m13 = misupto(mis3, mis2)\n",
    "    m12 = misupto(mis2, mis1)\n",
    "    addMPvalue(tdf)\n",
    "    newdf = tdf.loc[:, ('SR','Begin ARM','End ARM', \"MP_VALUE\")]\n",
    "    TDF = mergeDFs(newdf)\n",
    "    checkMissing = TDF[TDF['Distance2Airport'].apply(np.isnan)]\n",
    "    return len(checkMissing), TDF, checkMissing"
   ]
  },
  {
   "cell_type": "code",
   "execution_count": 63,
   "metadata": {
    "collapsed": true
   },
   "outputs": [],
   "source": [
    "#have not applied this function yet. I hope it works\n",
    "def cleanDataFrame(tdf):\n",
    "    while i < 20:\n",
    "        n, tdf, checkmp = calAndCheck(checkmp, tdf)\n",
    "        if n == 0:\n",
    "            return tdf, checkmp\n",
    "        i+=1\n",
    "    return tdf, checkmp"
   ]
  },
  {
   "cell_type": "code",
   "execution_count": 35,
   "metadata": {
    "collapsed": false
   },
   "outputs": [],
   "source": [
    "n, tdf2, checkdf = calAndCheck(checkmp, tdf)"
   ]
  },
  {
   "cell_type": "code",
   "execution_count": 37,
   "metadata": {
    "collapsed": false
   },
   "outputs": [],
   "source": [
    "n2, tdf3, checkdf = calAndCheck(checkdf, tdf2)"
   ]
  },
  {
   "cell_type": "code",
   "execution_count": 39,
   "metadata": {
    "collapsed": false
   },
   "outputs": [],
   "source": [
    "n3, tdf4, checkdf = calAndCheck(checkdf, tdf3)"
   ]
  },
  {
   "cell_type": "code",
   "execution_count": 43,
   "metadata": {
    "collapsed": true
   },
   "outputs": [],
   "source": [
    "n4, tdf5, checkdf = calAndCheck(checkdf, tdf4)"
   ]
  },
  {
   "cell_type": "code",
   "execution_count": 45,
   "metadata": {
    "collapsed": true
   },
   "outputs": [],
   "source": [
    "n5, tdf6, checkdf = calAndCheck(checkdf, tdf5)"
   ]
  },
  {
   "cell_type": "code",
   "execution_count": 51,
   "metadata": {
    "collapsed": true
   },
   "outputs": [],
   "source": [
    "n6, tdf7, checkdf = calAndCheck(checkdf, tdf6)"
   ]
  },
  {
   "cell_type": "code",
   "execution_count": 55,
   "metadata": {
    "collapsed": true
   },
   "outputs": [],
   "source": [
    "n7, tdf8, checkdf = calAndCheck(checkdf, tdf7)"
   ]
  },
  {
   "cell_type": "code",
   "execution_count": 60,
   "metadata": {
    "collapsed": true
   },
   "outputs": [],
   "source": [
    "n8, tdf9, checkdf = calAndCheck(checkdf, tdf8)"
   ]
  },
  {
   "cell_type": "code",
   "execution_count": 61,
   "metadata": {
    "collapsed": false
   },
   "outputs": [
    {
     "name": "stdout",
     "output_type": "stream",
     "text": [
      "0\n"
     ]
    }
   ],
   "source": [
    "print n8"
   ]
  },
  {
   "cell_type": "code",
   "execution_count": 64,
   "metadata": {
    "collapsed": false,
    "scrolled": true
   },
   "outputs": [
    {
     "data": {
      "text/plain": [
       "array([], dtype=int64)"
      ]
     },
     "execution_count": 64,
     "metadata": {},
     "output_type": "execute_result"
    }
   ],
   "source": [
    "np.unique(np.array(checkdf.loc[:, \"SR\"]))"
   ]
  },
  {
   "cell_type": "code",
   "execution_count": null,
   "metadata": {
    "collapsed": false
   },
   "outputs": [],
   "source": [
    "# checkmp[checkmp.SR==303]"
   ]
  },
  {
   "cell_type": "code",
   "execution_count": null,
   "metadata": {
    "collapsed": false
   },
   "outputs": [],
   "source": [
    "# RouteSeg[RouteSeg.SR==397]"
   ]
  },
  {
   "cell_type": "code",
   "execution_count": 65,
   "metadata": {
    "collapsed": false
   },
   "outputs": [
    {
     "name": "stdout",
     "output_type": "stream",
     "text": [
      "True\n"
     ]
    }
   ],
   "source": [
    "print len(tdf9) == len(RouteSeg)"
   ]
  },
  {
   "cell_type": "code",
   "execution_count": null,
   "metadata": {
    "collapsed": true
   },
   "outputs": [],
   "source": [
    "reqdf = tdf9.loc[:, ('SR', 'Begin ARM', 'End ARM', 'nearestAirport', 'Distance2Airport')]\n",
    "reqdf.columns = ['SR', 'Begin ARM', 'End ARM', 'NearestAirport', 'Distance2Airport']"
   ]
  },
  {
   "cell_type": "code",
   "execution_count": 66,
   "metadata": {
    "collapsed": true
   },
   "outputs": [],
   "source": [
    "tdf9.to_csv(\"SegmentCodeDB.csv\")"
   ]
  },
  {
   "cell_type": "code",
   "execution_count": null,
   "metadata": {
    "collapsed": true
   },
   "outputs": [],
   "source": []
  }
 ],
 "metadata": {
  "kernelspec": {
   "display_name": "Python 2",
   "language": "python",
   "name": "python2"
  }
 },
 "nbformat": 4,
 "nbformat_minor": 0
}
