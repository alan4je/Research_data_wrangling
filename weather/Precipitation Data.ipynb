{
 "cells": [
  {
   "cell_type": "code",
   "execution_count": 1,
   "metadata": {
    "collapsed": true
   },
   "outputs": [],
   "source": [
    "from urllib2 import urlopen\n",
    "from bs4 import BeautifulSoup\n",
    "import re, time\n",
    "import numpy as np\n",
    "import pandas as pd\n",
    "import requests\n",
    "import sys\n",
    "import json\n",
    "\n",
    "#cdd4868100681033 API key"
   ]
  },
  {
   "cell_type": "code",
   "execution_count": 2,
   "metadata": {
    "collapsed": true
   },
   "outputs": [],
   "source": [
    "def getValue(sourceTitle,soup):\n",
    "    segmentSoup = soup.find(\"div\", sourceTitle)\n",
    "    valSoup     = BeautifulSoup(str(segmentSoup), \"lxml\")\n",
    "    val         = valSoup.find(\"span\", \"value\")\n",
    "    if val == None:\n",
    "        return \"missing\"\n",
    "    return val.string"
   ]
  },
  {
   "cell_type": "code",
   "execution_count": 31,
   "metadata": {
    "collapsed": false
   },
   "outputs": [],
   "source": [
    "def findAnnualPrecipitation(year, city):\n",
    "    urlA = 'http://www.wunderground.com/history/airport/KSEA/'\n",
    "    urlB = '/12/31/DailyHistory.html?req_city='\n",
    "    urlC = '&req_state=WA&req_statename=Washington&reqdb.zip=98446&reqdb.magic=1&reqdb.wmo=99999'\n",
    "    url  = urlA+str(year)+urlB+city+urlC\n",
    "    print url\n",
    "#     try:\n",
    "#         url  = urlA+str(year)+urlB+city+urlC\n",
    "#     except ConnectionError:\n",
    "#         return \"missing\"\n",
    "    page = requests.get(url).text\n",
    "    pIndex = page.index(\"Year to date precipitation\") #index in urlpage where the string is found\n",
    "    prepContent = page[pIndex+50:pIndex+72] #gets the entire value required in html format\n",
    "    valSoup     = BeautifulSoup(str(prepContent), \"lxml\")\n",
    "    val         = valSoup.find(\"td\", \"\")\n",
    "    if val == None:\n",
    "        return \"missing\"\n",
    "    return val.string"
   ]
  },
  {
   "cell_type": "code",
   "execution_count": 121,
   "metadata": {
    "collapsed": true
   },
   "outputs": [],
   "source": [
    "url = 'http://www.wunderground.com/history/airport/KSEA/1999/2/1/MonthlyHistory.html?req_city=Auburn&req_state=WA&req_statename=Washington&reqdb.zip=98001&reqdb.magic=1&reqdb.wmo=99999&MR=1'\n",
    "page = requests.get(url).text"
   ]
  },
  {
   "cell_type": "code",
   "execution_count": 144,
   "metadata": {
    "collapsed": true
   },
   "outputs": [],
   "source": [
    "def getMonthWeather(city, zipcode, year, month):\n",
    "    wBank = {}\n",
    "    part1 = 'http://www.wunderground.com/history/airport/KSEA/'\n",
    "    part2 = str(year)+'/'+str(month)+'/1/MonthlyHistory.html?req_city='\n",
    "    part3 = city + '&req_state=WA&req_statename=Washington&reqdb.zip='\n",
    "    part4 = str(zipcode) + '&reqdb.magic=1&reqdb.wmo=99999'\n",
    "    url = part1 + part2 + part3 + part4\n",
    "    page = requests.get(url).text\n",
    "    snowdays, events = getEvents(page)\n",
    "    maxTemps = getData(\"Max Temperature\", 400)\n",
    "    meanTemps = getData(\"Mean Temperature\", 400)\n",
    "    minTemps = getData(\"Min Temperature\", 400)\n",
    "    preci = getData(\"Precipitation</span>\", 450)\n",
    "    key   = city+'-'+str(year)+'-'+str(month)\n",
    "    wBank[key] = {'MaxTemp' : maxTemps, 'MeanTemp' : meanTemps, 'MinTemp' : minTemps, \n",
    "                  'Precipitation' : preci, 'Snowed':snowDays, 'DailyEvents':events}\n",
    "    return wBank"
   ]
  },
  {
   "cell_type": "code",
   "execution_count": 103,
   "metadata": {
    "collapsed": false
   },
   "outputs": [],
   "source": [
    "# text = [str(i.string) for i in table.findAll(text=lambda(x): len(x) >4)]"
   ]
  },
  {
   "cell_type": "code",
   "execution_count": 152,
   "metadata": {
    "collapsed": false
   },
   "outputs": [],
   "source": [
    "test1 = getMonthWeather('Cheney', 99004, 1990, 8)"
   ]
  },
  {
   "cell_type": "code",
   "execution_count": 153,
   "metadata": {
    "collapsed": false
   },
   "outputs": [
    {
     "name": "stdout",
     "output_type": "stream",
     "text": [
      "{'Cheney-1990-8': {'MeanTemp': ['49', '42', '34'], 'MaxTemp': ['53', '47', '37'], 'MinTemp': ['45', '38', '30'], 'DailyEvents': ['Fog', 'Fog', 'Rain', 'Rain', 'Rain', 'Fog', 'Rain', 'Fog', 'Rain', 'Fog', 'Rain', 'Rain', 'Fog', 'Rain'], 'Snowed': 3, 'Precipitation': ['1.04', '0.24', '0.00', '6.84']}}\n"
     ]
    }
   ],
   "source": [
    "print test1"
   ]
  },
  {
   "cell_type": "code",
   "execution_count": 120,
   "metadata": {
    "collapsed": true
   },
   "outputs": [],
   "source": [
    "def getEvents(page):\n",
    "    soup = BeautifulSoup(page, \"lxml\")\n",
    "    table = soup.findAll(\"table\")[3]\n",
    "    text = re.findall(\"\\\\n[a-zA-Z]+\\\\n[\\\\t]?\", str(table))\n",
    "    events = [re.findall(\"[a-zA-Z]+\", event)[0] for event in text]\n",
    "    snowDays = events.count(\"Snow\")\n",
    "    return snowDays, events"
   ]
  },
  {
   "cell_type": "code",
   "execution_count": 123,
   "metadata": {
    "collapsed": false
   },
   "outputs": [],
   "source": [
    "snowDays, Events = getEvents(page)"
   ]
  },
  {
   "cell_type": "code",
   "execution_count": 33,
   "metadata": {
    "collapsed": true
   },
   "outputs": [],
   "source": [
    "def getData(name, nx):\n",
    "    try:\n",
    "        startInd = page.index(name)\n",
    "    except ValueError:\n",
    "        return \"Not found\"\n",
    "    content  = page[startInd+30 : startInd+nx]\n",
    "    valSoup  = BeautifulSoup(str(content), \"lxml\")\n",
    "    values   = valSoup.findAll(\"span\", \"wx-value\")\n",
    "    return [str(val.string) for val in values]"
   ]
  },
  {
   "cell_type": "code",
   "execution_count": 36,
   "metadata": {
    "collapsed": false
   },
   "outputs": [],
   "source": [
    "minTemps = getData(\"Min Temperature\", 400)"
   ]
  },
  {
   "cell_type": "code",
   "execution_count": 31,
   "metadata": {
    "collapsed": true
   },
   "outputs": [],
   "source": [
    "preci = getData(\"Precipitation</span>\", 450)"
   ]
  },
  {
   "cell_type": "code",
   "execution_count": 32,
   "metadata": {
    "collapsed": false
   },
   "outputs": [
    {
     "name": "stdout",
     "output_type": "stream",
     "text": [
      "['1.40', '0.16', '0.00', '5.01']\n"
     ]
    }
   ],
   "source": [
    "print preci"
   ]
  },
  {
   "cell_type": "code",
   "execution_count": 4,
   "metadata": {
    "collapsed": false
   },
   "outputs": [],
   "source": [
    "Aub1980 = findAnnualPrecipitation(1980, 'Auburn')"
   ]
  },
  {
   "cell_type": "code",
   "execution_count": 5,
   "metadata": {
    "collapsed": false
   },
   "outputs": [
    {
     "name": "stdout",
     "output_type": "stream",
     "text": [
      "37.49\n"
     ]
    }
   ],
   "source": [
    "print Aub1980"
   ]
  },
  {
   "cell_type": "code",
   "execution_count": 6,
   "metadata": {
    "collapsed": true
   },
   "outputs": [],
   "source": [
    "def getAnnualPrec(city):\n",
    "    values = []\n",
    "    for year in np.arange(20)+1980:\n",
    "        aPrec = findAnnualPrecipitation(year, city)\n",
    "        values.append(aPrec)\n",
    "        time.sleep(10)\n",
    "    return values"
   ]
  },
  {
   "cell_type": "code",
   "execution_count": 7,
   "metadata": {
    "collapsed": false
   },
   "outputs": [],
   "source": [
    "# AubPrec = getAnnualPrec('Auburn')"
   ]
  },
  {
   "cell_type": "code",
   "execution_count": 8,
   "metadata": {
    "collapsed": false
   },
   "outputs": [],
   "source": [
    "# print AubPrec"
   ]
  },
  {
   "cell_type": "code",
   "execution_count": 9,
   "metadata": {
    "collapsed": false
   },
   "outputs": [],
   "source": [
    "xl_file = pd.ExcelFile('zip_code_database.xls')"
   ]
  },
  {
   "cell_type": "code",
   "execution_count": 10,
   "metadata": {
    "collapsed": true
   },
   "outputs": [],
   "source": [
    "dfWSzip = xl_file.parse('Sheet1') "
   ]
  },
  {
   "cell_type": "code",
   "execution_count": 11,
   "metadata": {
    "collapsed": false
   },
   "outputs": [
    {
     "data": {
      "text/html": [
       "<div style=\"max-height:1000px;max-width:1500px;overflow:auto;\">\n",
       "<table border=\"1\" class=\"dataframe\">\n",
       "  <thead>\n",
       "    <tr style=\"text-align: right;\">\n",
       "      <th></th>\n",
       "      <th>type</th>\n",
       "      <th>primary_city</th>\n",
       "      <th>acceptable_cities</th>\n",
       "      <th>unacceptable_cities</th>\n",
       "      <th>state</th>\n",
       "      <th>county</th>\n",
       "      <th>timezone</th>\n",
       "      <th>area_codes</th>\n",
       "      <th>latitude</th>\n",
       "      <th>longitude</th>\n",
       "      <th>world_region</th>\n",
       "      <th>country</th>\n",
       "      <th>decommissioned</th>\n",
       "      <th>estimated_population</th>\n",
       "      <th>notes</th>\n",
       "    </tr>\n",
       "  </thead>\n",
       "  <tbody>\n",
       "    <tr>\n",
       "      <th>98001</th>\n",
       "      <td>STANDARD</td>\n",
       "      <td>Auburn</td>\n",
       "      <td>Algona, Federal Way</td>\n",
       "      <td>NaN</td>\n",
       "      <td>WA</td>\n",
       "      <td>King County</td>\n",
       "      <td>America/Los_Angeles</td>\n",
       "      <td>206253</td>\n",
       "      <td>47.30</td>\n",
       "      <td>-122.26</td>\n",
       "      <td>NaN</td>\n",
       "      <td>US</td>\n",
       "      <td>0</td>\n",
       "      <td>26341</td>\n",
       "      <td>NaN</td>\n",
       "    </tr>\n",
       "    <tr>\n",
       "      <th>98002</th>\n",
       "      <td>STANDARD</td>\n",
       "      <td>Auburn</td>\n",
       "      <td>NaN</td>\n",
       "      <td>NaN</td>\n",
       "      <td>WA</td>\n",
       "      <td>King County</td>\n",
       "      <td>America/Los_Angeles</td>\n",
       "      <td>253206</td>\n",
       "      <td>47.31</td>\n",
       "      <td>-122.20</td>\n",
       "      <td>NaN</td>\n",
       "      <td>US</td>\n",
       "      <td>0</td>\n",
       "      <td>23795</td>\n",
       "      <td>NaN</td>\n",
       "    </tr>\n",
       "    <tr>\n",
       "      <th>98003</th>\n",
       "      <td>STANDARD</td>\n",
       "      <td>Federal Way</td>\n",
       "      <td>Auburn</td>\n",
       "      <td>NaN</td>\n",
       "      <td>WA</td>\n",
       "      <td>King County</td>\n",
       "      <td>America/Los_Angeles</td>\n",
       "      <td>206253</td>\n",
       "      <td>47.30</td>\n",
       "      <td>-122.31</td>\n",
       "      <td>NaN</td>\n",
       "      <td>US</td>\n",
       "      <td>0</td>\n",
       "      <td>33131</td>\n",
       "      <td>NaN</td>\n",
       "    </tr>\n",
       "    <tr>\n",
       "      <th>98004</th>\n",
       "      <td>STANDARD</td>\n",
       "      <td>Bellevue</td>\n",
       "      <td>Beaux Arts, Clyde Hill, Hunts Point, Yarrow Point</td>\n",
       "      <td>Beaux Arts Village</td>\n",
       "      <td>WA</td>\n",
       "      <td>King County</td>\n",
       "      <td>America/Los_Angeles</td>\n",
       "      <td>425206253</td>\n",
       "      <td>47.61</td>\n",
       "      <td>-122.21</td>\n",
       "      <td>NaN</td>\n",
       "      <td>US</td>\n",
       "      <td>0</td>\n",
       "      <td>23399</td>\n",
       "      <td>NaN</td>\n",
       "    </tr>\n",
       "    <tr>\n",
       "      <th>98005</th>\n",
       "      <td>STANDARD</td>\n",
       "      <td>Bellevue</td>\n",
       "      <td>NaN</td>\n",
       "      <td>NaN</td>\n",
       "      <td>WA</td>\n",
       "      <td>King County</td>\n",
       "      <td>America/Los_Angeles</td>\n",
       "      <td>425206</td>\n",
       "      <td>47.62</td>\n",
       "      <td>-122.16</td>\n",
       "      <td>NaN</td>\n",
       "      <td>US</td>\n",
       "      <td>0</td>\n",
       "      <td>15676</td>\n",
       "      <td>NaN</td>\n",
       "    </tr>\n",
       "  </tbody>\n",
       "</table>\n",
       "</div>"
      ],
      "text/plain": [
       "           type primary_city  \\\n",
       "98001  STANDARD       Auburn   \n",
       "98002  STANDARD       Auburn   \n",
       "98003  STANDARD  Federal Way   \n",
       "98004  STANDARD     Bellevue   \n",
       "98005  STANDARD     Bellevue   \n",
       "\n",
       "                                       acceptable_cities unacceptable_cities  \\\n",
       "98001                                Algona, Federal Way                 NaN   \n",
       "98002                                                NaN                 NaN   \n",
       "98003                                             Auburn                 NaN   \n",
       "98004  Beaux Arts, Clyde Hill, Hunts Point, Yarrow Point  Beaux Arts Village   \n",
       "98005                                                NaN                 NaN   \n",
       "\n",
       "      state       county             timezone  area_codes  latitude  \\\n",
       "98001    WA  King County  America/Los_Angeles      206253     47.30   \n",
       "98002    WA  King County  America/Los_Angeles      253206     47.31   \n",
       "98003    WA  King County  America/Los_Angeles      206253     47.30   \n",
       "98004    WA  King County  America/Los_Angeles   425206253     47.61   \n",
       "98005    WA  King County  America/Los_Angeles      425206     47.62   \n",
       "\n",
       "       longitude  world_region country  decommissioned  estimated_population  \\\n",
       "98001    -122.26           NaN      US               0                 26341   \n",
       "98002    -122.20           NaN      US               0                 23795   \n",
       "98003    -122.31           NaN      US               0                 33131   \n",
       "98004    -122.21           NaN      US               0                 23399   \n",
       "98005    -122.16           NaN      US               0                 15676   \n",
       "\n",
       "      notes  \n",
       "98001   NaN  \n",
       "98002   NaN  \n",
       "98003   NaN  \n",
       "98004   NaN  \n",
       "98005   NaN  "
      ]
     },
     "execution_count": 11,
     "metadata": {},
     "output_type": "execute_result"
    }
   ],
   "source": [
    "dfWSzip.head()"
   ]
  },
  {
   "cell_type": "code",
   "execution_count": 12,
   "metadata": {
    "collapsed": false
   },
   "outputs": [],
   "source": [
    "cities = np.unique(np.array(dfWSzip.loc[:,'primary_city']))"
   ]
  },
  {
   "cell_type": "code",
   "execution_count": 13,
   "metadata": {
    "collapsed": false
   },
   "outputs": [],
   "source": [
    "cities = [str(city) for city in cities]"
   ]
  },
  {
   "cell_type": "code",
   "execution_count": 14,
   "metadata": {
    "collapsed": false
   },
   "outputs": [],
   "source": [
    "def prep(cityList):\n",
    "    dic = {}\n",
    "    for city in cityList:\n",
    "        annualPreps = getAnnualPrec(city)\n",
    "        dic[city] = annualPreps\n",
    "    return dic"
   ]
  },
  {
   "cell_type": "code",
   "execution_count": 15,
   "metadata": {
    "collapsed": false
   },
   "outputs": [
    {
     "name": "stdout",
     "output_type": "stream",
     "text": [
      "['Aberdeen', 'Acme', 'Addy', 'Adna', 'Airway Heights', 'Albion', 'Allyn', 'Almira', 'Amanda Park', 'Amboy']\n"
     ]
    }
   ],
   "source": [
    "print cities[:10]"
   ]
  },
  {
   "cell_type": "code",
   "execution_count": 37,
   "metadata": {
    "collapsed": false
   },
   "outputs": [
    {
     "name": "stdout",
     "output_type": "stream",
     "text": [
      "http://www.wunderground.com/history/airport/KSEA/1999/12/31/DailyHistory.html?req_city=Tacoma&req_state=WA&req_statename=Washington&reqdb.zip=98446&reqdb.magic=1&reqdb.wmo=99999\n",
      "37.49\n"
     ]
    }
   ],
   "source": [
    "print findAnnualPrecipitation(1999, 'Tacoma')"
   ]
  },
  {
   "cell_type": "code",
   "execution_count": 177,
   "metadata": {
    "collapsed": false
   },
   "outputs": [],
   "source": [
    "f = urllib2.urlopen('http://api.wunderground.com/api/cdd4868100681033/history_20100208/q/WA/Cheney.json')\n",
    "json_string = f.read()\n",
    "# parsed_json = json.loads(json_string)\n",
    "# location = parsed_json['location']['city']\n",
    "# temp_f = parsed_json['current_observation']['temp_f']\n",
    "# print \"Current temperature in %s is: %s\" % (location, temp_f)\n",
    "f.close()"
   ]
  },
  {
   "cell_type": "code",
   "execution_count": 2,
   "metadata": {
    "collapsed": false
   },
   "outputs": [],
   "source": [
    "url = '7&yearend=2014&format=1'"
   ]
  },
  {
   "cell_type": "code",
   "execution_count": 3,
   "metadata": {
    "collapsed": true
   },
   "outputs": [],
   "source": [
    "page = requests.get(url).text"
   ]
  },
  {
   "cell_type": "code",
   "execution_count": 40,
   "metadata": {
    "collapsed": false
   },
   "outputs": [],
   "source": [
    "# print page"
   ]
  },
  {
   "cell_type": "code",
   "execution_count": 4,
   "metadata": {
    "collapsed": true
   },
   "outputs": [],
   "source": [
    "data = page.split(\"<br />\")"
   ]
  },
  {
   "cell_type": "code",
   "execution_count": 5,
   "metadata": {
    "collapsed": false
   },
   "outputs": [],
   "source": [
    "colnames = [str(name) for name in data[0].split(\",\")]"
   ]
  },
  {
   "cell_type": "code",
   "execution_count": 25,
   "metadata": {
    "collapsed": false
   },
   "outputs": [],
   "source": [
    "dic = {}\n",
    "for i in data[1:-1]:\n",
    "    item = i.split(\",\")\n",
    "    dic[str(item[0])[1:]] = [str(a) for a in item[1:]]"
   ]
  },
  {
   "cell_type": "code",
   "execution_count": 28,
   "metadata": {
    "collapsed": false
   },
   "outputs": [
    {
     "name": "stdout",
     "output_type": "stream",
     "text": [
      "['86', '68', '50', '55', '50', '42', '94', '52', '21', '30.13', '30.09', '30.02', '10', '10', '10', '14', '5', '18', '0.00', '0', '', '35']\n"
     ]
    }
   ],
   "source": [
    "print dic['2014-7-31']"
   ]
  },
  {
   "cell_type": "code",
   "execution_count": 30,
   "metadata": {
    "collapsed": false
   },
   "outputs": [],
   "source": [
    "df = pd.DataFrame.from_dict(dic, orient = \"index\")\n"
   ]
  },
  {
   "cell_type": "code",
   "execution_count": 32,
   "metadata": {
    "collapsed": false
   },
   "outputs": [
    {
     "name": "stdout",
     "output_type": "stream",
     "text": [
      "365\n"
     ]
    }
   ],
   "source": [
    "print len(df)"
   ]
  },
  {
   "cell_type": "code",
   "execution_count": 38,
   "metadata": {
    "collapsed": false
   },
   "outputs": [],
   "source": [
    "df.columns = colnames[1:]"
   ]
  },
  {
   "cell_type": "code",
   "execution_count": 49,
   "metadata": {
    "collapsed": false
   },
   "outputs": [],
   "source": [
    "def weatherHist(airportIndex, year):\n",
    "    a = 'http://api.wunderground.com/history/airport/'\n",
    "    b = airportIndex +'/'+ str(year)+'/1/1/CustomHistory.html?dayend=31&monthend=12&yearend='\n",
    "    c = str(year)+'&format=1'\n",
    "    url = a+b+c\n",
    "    page = requests.get(url).text\n",
    "    data = page.split(\"<br />\")\n",
    "    dic = {}\n",
    "    for i in data[1:-1]:\n",
    "        item = i.split(\",\")\n",
    "        dic[str(item[0])[1:]] = [str(a) for a in item[1:]]\n",
    "    df = pd.DataFrame.from_dict(dic, orient = \"index\")\n",
    "    colnames = [str(name) for name in data[0].split(\",\")]\n",
    "    df.columns = colnames[1:]\n",
    "    return df"
   ]
  },
  {
   "cell_type": "code",
   "execution_count": 50,
   "metadata": {
    "collapsed": true
   },
   "outputs": [],
   "source": [
    "df1 = weatherHist('KSEA', 1981)"
   ]
  },
  {
   "cell_type": "code",
   "execution_count": 57,
   "metadata": {
    "collapsed": false
   },
   "outputs": [
    {
     "name": "stdout",
     "output_type": "stream",
     "text": [
      "           Max TemperatureF Mean TemperatureF Min TemperatureF Max Dew PointF  \\\n",
      "1981-12-9                50                46               41             46   \n",
      "1981-12-8                42                40               37             38   \n",
      "1981-11-30               46                41               37             40   \n",
      "1981-12-7                48                45               39             41   \n",
      "1981-12-6                46                44               43             43   \n",
      "\n",
      "           MeanDew PointF Min DewpointF Max Humidity  Mean Humidity  \\\n",
      "1981-12-9              41            37           90             84   \n",
      "1981-12-8              36            34           93             86   \n",
      "1981-11-30             36            33           85             79   \n",
      "1981-12-7              38            36           89             76   \n",
      "1981-12-6              41            39           90             85   \n",
      "\n",
      "            Min Humidity  Max Sea Level PressureIn       ...        \\\n",
      "1981-12-9             74                     29.75       ...         \n",
      "1981-12-8             73                     30.30       ...         \n",
      "1981-11-30            74                     30.22       ...         \n",
      "1981-12-7             66                     30.32       ...         \n",
      "1981-12-6             79                     29.82       ...         \n",
      "\n",
      "            Max VisibilityMiles  Mean VisibilityMiles  Min VisibilityMiles  \\\n",
      "1981-12-9                    15                    10                    2   \n",
      "1981-12-8                    15                    11                    2   \n",
      "1981-11-30                   15                    12                    6   \n",
      "1981-12-7                    20                    13                    7   \n",
      "1981-12-6                    20                     7                    2   \n",
      "\n",
      "            Max Wind SpeedMPH  Mean Wind SpeedMPH  Max Gust SpeedMPH  \\\n",
      "1981-12-9                  15                   7                 30   \n",
      "1981-12-8                  14                   9                      \n",
      "1981-11-30                 18                  10                 24   \n",
      "1981-12-7                  26                  14                 37   \n",
      "1981-12-6                  13                   7                      \n",
      "\n",
      "           PrecipitationIn  CloudCover    Events  WindDirDegrees  \n",
      "1981-12-9             0.25           8  Fog-Rain             175  \n",
      "1981-12-8             0.01           7  Fog-Rain              12  \n",
      "1981-11-30            0.17           8  Fog-Rain             174  \n",
      "1981-12-7             0.00           6      Rain             178  \n",
      "1981-12-6             0.20           8  Fog-Rain             129  \n",
      "\n",
      "[5 rows x 22 columns]\n"
     ]
    }
   ],
   "source": [
    "print df1.head()"
   ]
  },
  {
   "cell_type": "code",
   "execution_count": 51,
   "metadata": {
    "collapsed": false
   },
   "outputs": [],
   "source": [
    "code = \"test\""
   ]
  },
  {
   "cell_type": "code",
   "execution_count": 71,
   "metadata": {
    "collapsed": false
   },
   "outputs": [],
   "source": [
    "def saveDF(code, df):\n",
    "    name = 'WeatherHistWA/'+code+'.xlsx'\n",
    "    writer = pd.ExcelWriter(name, engine='xlsxwriter')\n",
    "    df.to_excel(writer,'Sheet1') # change the dateframe respectively\n",
    "    writer.save()"
   ]
  },
  {
   "cell_type": "code",
   "execution_count": 63,
   "metadata": {
    "collapsed": false
   },
   "outputs": [],
   "source": [
    "import xlsxwriter #import this first!!"
   ]
  },
  {
   "cell_type": "code",
   "execution_count": 72,
   "metadata": {
    "collapsed": true
   },
   "outputs": [],
   "source": [
    "saveDF(code, df1)"
   ]
  },
  {
   "cell_type": "code",
   "execution_count": 73,
   "metadata": {
    "collapsed": false
   },
   "outputs": [
    {
     "data": {
      "text/plain": [
       "pandas.core.frame.DataFrame"
      ]
     },
     "execution_count": 73,
     "metadata": {},
     "output_type": "execute_result"
    }
   ],
   "source": [
    "type(df1)"
   ]
  },
  {
   "cell_type": "code",
   "execution_count": 74,
   "metadata": {
    "collapsed": false
   },
   "outputs": [
    {
     "data": {
      "text/plain": [
       "str"
      ]
     },
     "execution_count": 74,
     "metadata": {},
     "output_type": "execute_result"
    }
   ],
   "source": [
    "type(code)"
   ]
  },
  {
   "cell_type": "code",
   "execution_count": 78,
   "metadata": {
    "collapsed": true
   },
   "outputs": [],
   "source": [
    "def checkType(item):\n",
    "    if type(item) != str:\n",
    "        print \"okay\"\n",
    "    print \"NIce\""
   ]
  },
  {
   "cell_type": "code",
   "execution_count": 80,
   "metadata": {
    "collapsed": false
   },
   "outputs": [
    {
     "name": "stdout",
     "output_type": "stream",
     "text": [
      "okay\n",
      "NIce\n"
     ]
    }
   ],
   "source": [
    "checkType(df1)"
   ]
  },
  {
   "cell_type": "code",
   "execution_count": null,
   "metadata": {
    "collapsed": true
   },
   "outputs": [],
   "source": []
  }
 ],
 "metadata": {
  "kernelspec": {
   "display_name": "Python 2",
   "language": "python",
   "name": "python2"
  },
  "language_info": {
   "codemirror_mode": {
    "name": "ipython",
    "version": 2
   },
   "file_extension": ".py",
   "mimetype": "text/x-python",
   "name": "python",
   "nbconvert_exporter": "python",
   "pygments_lexer": "ipython2",
   "version": "2.7.9"
  }
 },
 "nbformat": 4,
 "nbformat_minor": 0
}
