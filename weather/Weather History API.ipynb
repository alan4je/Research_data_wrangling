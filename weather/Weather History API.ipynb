{
 "cells": [
  {
   "cell_type": "code",
   "execution_count": 1,
   "metadata": {
    "collapsed": true
   },
   "outputs": [],
   "source": [
    "import time\n",
    "import numpy as np\n",
    "import pandas as pd\n",
    "import requests\n",
    "import xlsxwriter"
   ]
  },
  {
   "cell_type": "code",
   "execution_count": 2,
   "metadata": {
    "collapsed": true
   },
   "outputs": [],
   "source": [
    "def weatherHist(airportIndex, year):\n",
    "    a = 'http://api.wunderground.com/history/airport/'\n",
    "    b = airportIndex +'/'+ str(year)+'/1/1/CustomHistory.html?dayend=31&monthend=12&yearend='\n",
    "    c = str(year)+'&format=1'\n",
    "    url = a+b+c\n",
    "    page = requests.get(url).text\n",
    "    data = page.split(\"<br />\")\n",
    "    dic = {}\n",
    "    for i in data[1:-1]:\n",
    "        item = i.split(\",\")\n",
    "        dic[str(item[0])[1:]] = [str(a) for a in item[1:]]\n",
    "    df = pd.DataFrame.from_dict(dic, orient = \"index\")\n",
    "    colnames = [str(name) for name in data[0].split(\",\")]\n",
    "    df.columns = colnames[1:]\n",
    "    return df"
   ]
  },
  {
   "cell_type": "code",
   "execution_count": 3,
   "metadata": {
    "collapsed": false
   },
   "outputs": [],
   "source": [
    "xl_file = pd.ExcelFile('zip_code_database.xls')"
   ]
  },
  {
   "cell_type": "code",
   "execution_count": 4,
   "metadata": {
    "collapsed": true
   },
   "outputs": [],
   "source": [
    "file2 = xl_file.parse('Sheet2')"
   ]
  },
  {
   "cell_type": "code",
   "execution_count": 5,
   "metadata": {
    "collapsed": false
   },
   "outputs": [],
   "source": [
    "codes = list(file2.loc[:,'ICAO'])"
   ]
  },
  {
   "cell_type": "code",
   "execution_count": 6,
   "metadata": {
    "collapsed": false
   },
   "outputs": [],
   "source": [
    "codes = [str(x) for x in codes if str(x) != 'nan']\n",
    "codes = [str(x) for x in codes if str(x) != 'none']"
   ]
  },
  {
   "cell_type": "code",
   "execution_count": 7,
   "metadata": {
    "collapsed": true
   },
   "outputs": [],
   "source": [
    "def weatherRecord20(code):\n",
    "    frames = []\n",
    "    for year in np.arange(20)+1980:\n",
    "        name = 'df'+str(year)\n",
    "        try:\n",
    "            name = weatherHist(code, year)\n",
    "            frames.append(name)\n",
    "        except ValueError:\n",
    "            return \"No data\"\n",
    "        time.sleep(10.0)\n",
    "    return pd.concat(frames)    "
   ]
  },
  {
   "cell_type": "code",
   "execution_count": 8,
   "metadata": {
    "collapsed": true
   },
   "outputs": [],
   "source": [
    "def saveDF(code, df):\n",
    "    name = 'histData/'+code+'.xlsx'\n",
    "    writer = pd.ExcelWriter(name, engine='xlsxwriter')\n",
    "    df.to_excel(writer,'Sheet1')\n",
    "    writer.save()"
   ]
  },
  {
   "cell_type": "code",
   "execution_count": 9,
   "metadata": {
    "collapsed": false
   },
   "outputs": [],
   "source": [
    "def nowGetData(codeList):\n",
    "    dic = {}\n",
    "    for code in codeList:\n",
    "        print code\n",
    "        df = weatherRecord20(code)\n",
    "        if type(df) != str:\n",
    "            saveDF(code, df)\n",
    "            dic[code] = df\n",
    "    return dic"
   ]
  },
  {
   "cell_type": "code",
   "execution_count": 10,
   "metadata": {
    "collapsed": false
   },
   "outputs": [
    {
     "name": "stdout",
     "output_type": "stream",
     "text": [
      "KBLI\n",
      "KFHR\n",
      "KPSC\n",
      "KCLM\n",
      "KPUW\n",
      "KBFI\n",
      "KSEA\n",
      "KGEG\n",
      "KALW\n",
      "KEAT\n",
      "KYKM\n",
      "KORS\n",
      "KPAE\n",
      "KRNT\n",
      "KSFF\n",
      "KAWO\n",
      "KPWT\n",
      "KBVS\n",
      "KCLS\n",
      "KDEW\n",
      "KELN\n",
      "KEPH\n",
      "KHQM\n",
      "KKLS\n",
      "KMWH\n",
      "KOLM\n",
      "KOMK\n",
      "KPLU\n",
      "KUIL\n",
      "KRLD\n",
      "KSHN\n",
      "KTIW\n",
      "KTDO\n",
      "KVUO\n",
      "KDLS\n",
      "KESW\n",
      "KOKH\n",
      "KPUL\n",
      "KNRA\n",
      "KNUW\n",
      "KNOW\n",
      "KSKA\n",
      "KTCM\n",
      "KGRF\n",
      "KFCT\n"
     ]
    }
   ],
   "source": [
    "# weatherDataWA = nowGetData(codes)"
   ]
  },
  {
   "cell_type": "code",
   "execution_count": 11,
   "metadata": {
    "collapsed": false
   },
   "outputs": [
    {
     "name": "stdout",
     "output_type": "stream",
     "text": [
      "45\n"
     ]
    }
   ],
   "source": [
    "print len(codes)"
   ]
  },
  {
   "cell_type": "code",
   "execution_count": 13,
   "metadata": {
    "collapsed": false
   },
   "outputs": [
    {
     "name": "stdout",
     "output_type": "stream",
     "text": [
      "['KBFI', 'KPUW', 'KPSC', 'KESW', 'KALW', 'KTDO', 'KVUO', 'KPWT', 'KMWH', 'KPAE', 'KEPH', 'KSEA', 'KHQM', 'KUIL', 'KGRF', 'KTIW', 'KSKA', 'KEAT', 'KOLM', 'KTCM', 'KYKM', 'KBLI', 'KGEG', 'KAWO', 'KSFF', 'KCLM', 'KDLS', 'KRLD']\n"
     ]
    }
   ],
   "source": [
    "print weatherDataWA.keys()"
   ]
  },
  {
   "cell_type": "code",
   "execution_count": 14,
   "metadata": {
    "collapsed": true
   },
   "outputs": [],
   "source": [
    "completeDF = pd.concat(weatherDataWA.values(), keys=weatherDataWA.keys())"
   ]
  },
  {
   "cell_type": "code",
   "execution_count": 15,
   "metadata": {
    "collapsed": false
   },
   "outputs": [
    {
     "data": {
      "text/html": [
       "<div>\n",
       "<table border=\"1\" class=\"dataframe\">\n",
       "  <thead>\n",
       "    <tr style=\"text-align: right;\">\n",
       "      <th></th>\n",
       "      <th></th>\n",
       "      <th>Max TemperatureF</th>\n",
       "      <th>Mean TemperatureF</th>\n",
       "      <th>Min TemperatureF</th>\n",
       "      <th>Max Dew PointF</th>\n",
       "      <th>MeanDew PointF</th>\n",
       "      <th>Min DewpointF</th>\n",
       "      <th>Max Humidity</th>\n",
       "      <th>Mean Humidity</th>\n",
       "      <th>Min Humidity</th>\n",
       "      <th>Max Sea Level PressureIn</th>\n",
       "      <th>...</th>\n",
       "      <th>Max VisibilityMiles</th>\n",
       "      <th>Mean VisibilityMiles</th>\n",
       "      <th>Min VisibilityMiles</th>\n",
       "      <th>Max Wind SpeedMPH</th>\n",
       "      <th>Mean Wind SpeedMPH</th>\n",
       "      <th>Max Gust SpeedMPH</th>\n",
       "      <th>PrecipitationIn</th>\n",
       "      <th>CloudCover</th>\n",
       "      <th>Events</th>\n",
       "      <th>WindDirDegrees</th>\n",
       "    </tr>\n",
       "  </thead>\n",
       "  <tbody>\n",
       "    <tr>\n",
       "      <th rowspan=\"5\" valign=\"top\">KBFI</th>\n",
       "      <th>1980-7-19</th>\n",
       "      <td>70</td>\n",
       "      <td>66</td>\n",
       "      <td>62</td>\n",
       "      <td>64</td>\n",
       "      <td>60</td>\n",
       "      <td>56</td>\n",
       "      <td>93</td>\n",
       "      <td>82</td>\n",
       "      <td>70</td>\n",
       "      <td>30.15</td>\n",
       "      <td>...</td>\n",
       "      <td>8</td>\n",
       "      <td>7</td>\n",
       "      <td>4</td>\n",
       "      <td>12</td>\n",
       "      <td>7</td>\n",
       "      <td></td>\n",
       "      <td>0.00</td>\n",
       "      <td>7</td>\n",
       "      <td>Fog</td>\n",
       "      <td>165</td>\n",
       "    </tr>\n",
       "    <tr>\n",
       "      <th>1980-7-18</th>\n",
       "      <td>80</td>\n",
       "      <td>70</td>\n",
       "      <td>59</td>\n",
       "      <td>61</td>\n",
       "      <td>57</td>\n",
       "      <td>55</td>\n",
       "      <td>90</td>\n",
       "      <td>66</td>\n",
       "      <td>47</td>\n",
       "      <td>30.08</td>\n",
       "      <td>...</td>\n",
       "      <td>20</td>\n",
       "      <td>12</td>\n",
       "      <td>7</td>\n",
       "      <td>12</td>\n",
       "      <td>5</td>\n",
       "      <td></td>\n",
       "      <td>0.00</td>\n",
       "      <td>4</td>\n",
       "      <td></td>\n",
       "      <td>328</td>\n",
       "    </tr>\n",
       "    <tr>\n",
       "      <th>1980-7-15</th>\n",
       "      <td>77</td>\n",
       "      <td>68</td>\n",
       "      <td>60</td>\n",
       "      <td>61</td>\n",
       "      <td>59</td>\n",
       "      <td>58</td>\n",
       "      <td>93</td>\n",
       "      <td>77</td>\n",
       "      <td>54</td>\n",
       "      <td>30.16</td>\n",
       "      <td>...</td>\n",
       "      <td>15</td>\n",
       "      <td>8</td>\n",
       "      <td>7</td>\n",
       "      <td>15</td>\n",
       "      <td>8</td>\n",
       "      <td></td>\n",
       "      <td>0.00</td>\n",
       "      <td>7</td>\n",
       "      <td></td>\n",
       "      <td>205</td>\n",
       "    </tr>\n",
       "    <tr>\n",
       "      <th>1980-7-14</th>\n",
       "      <td>68</td>\n",
       "      <td>62</td>\n",
       "      <td>57</td>\n",
       "      <td>63</td>\n",
       "      <td>60</td>\n",
       "      <td>58</td>\n",
       "      <td>100</td>\n",
       "      <td>91</td>\n",
       "      <td>81</td>\n",
       "      <td>30.12</td>\n",
       "      <td>...</td>\n",
       "      <td>8</td>\n",
       "      <td>5</td>\n",
       "      <td>1</td>\n",
       "      <td>10</td>\n",
       "      <td>5</td>\n",
       "      <td></td>\n",
       "      <td>0.00</td>\n",
       "      <td>8</td>\n",
       "      <td>Fog-Rain</td>\n",
       "      <td>141</td>\n",
       "    </tr>\n",
       "    <tr>\n",
       "      <th>1980-7-17</th>\n",
       "      <td>77</td>\n",
       "      <td>68</td>\n",
       "      <td>59</td>\n",
       "      <td>59</td>\n",
       "      <td>55</td>\n",
       "      <td>53</td>\n",
       "      <td>83</td>\n",
       "      <td>66</td>\n",
       "      <td>48</td>\n",
       "      <td>30.23</td>\n",
       "      <td>...</td>\n",
       "      <td>20</td>\n",
       "      <td>14</td>\n",
       "      <td>7</td>\n",
       "      <td>12</td>\n",
       "      <td>5</td>\n",
       "      <td>18</td>\n",
       "      <td>0.00</td>\n",
       "      <td>5</td>\n",
       "      <td></td>\n",
       "      <td>348</td>\n",
       "    </tr>\n",
       "  </tbody>\n",
       "</table>\n",
       "<p>5 rows × 22 columns</p>\n",
       "</div>"
      ],
      "text/plain": [
       "               Max TemperatureF Mean TemperatureF Min TemperatureF  \\\n",
       "KBFI 1980-7-19               70                66               62   \n",
       "     1980-7-18               80                70               59   \n",
       "     1980-7-15               77                68               60   \n",
       "     1980-7-14               68                62               57   \n",
       "     1980-7-17               77                68               59   \n",
       "\n",
       "               Max Dew PointF MeanDew PointF Min DewpointF Max Humidity  \\\n",
       "KBFI 1980-7-19             64             60            56           93   \n",
       "     1980-7-18             61             57            55           90   \n",
       "     1980-7-15             61             59            58           93   \n",
       "     1980-7-14             63             60            58          100   \n",
       "     1980-7-17             59             55            53           83   \n",
       "\n",
       "                Mean Humidity  Min Humidity  Max Sea Level PressureIn  \\\n",
       "KBFI 1980-7-19             82            70                     30.15   \n",
       "     1980-7-18             66            47                     30.08   \n",
       "     1980-7-15             77            54                     30.16   \n",
       "     1980-7-14             91            81                     30.12   \n",
       "     1980-7-17             66            48                     30.23   \n",
       "\n",
       "                     ...        Max VisibilityMiles  Mean VisibilityMiles  \\\n",
       "KBFI 1980-7-19       ...                          8                     7   \n",
       "     1980-7-18       ...                         20                    12   \n",
       "     1980-7-15       ...                         15                     8   \n",
       "     1980-7-14       ...                          8                     5   \n",
       "     1980-7-17       ...                         20                    14   \n",
       "\n",
       "                Min VisibilityMiles  Max Wind SpeedMPH  Mean Wind SpeedMPH  \\\n",
       "KBFI 1980-7-19                    4                 12                   7   \n",
       "     1980-7-18                    7                 12                   5   \n",
       "     1980-7-15                    7                 15                   8   \n",
       "     1980-7-14                    1                 10                   5   \n",
       "     1980-7-17                    7                 12                   5   \n",
       "\n",
       "                Max Gust SpeedMPH PrecipitationIn  CloudCover    Events  \\\n",
       "KBFI 1980-7-19                               0.00           7       Fog   \n",
       "     1980-7-18                               0.00           4             \n",
       "     1980-7-15                               0.00           7             \n",
       "     1980-7-14                               0.00           8  Fog-Rain   \n",
       "     1980-7-17                 18            0.00           5             \n",
       "\n",
       "                WindDirDegrees  \n",
       "KBFI 1980-7-19             165  \n",
       "     1980-7-18             328  \n",
       "     1980-7-15             205  \n",
       "     1980-7-14             141  \n",
       "     1980-7-17             348  \n",
       "\n",
       "[5 rows x 22 columns]"
      ]
     },
     "execution_count": 15,
     "metadata": {},
     "output_type": "execute_result"
    }
   ],
   "source": [
    "completeDF.head()"
   ]
  },
  {
   "cell_type": "code",
   "execution_count": 16,
   "metadata": {
    "collapsed": false
   },
   "outputs": [
    {
     "name": "stdout",
     "output_type": "stream",
     "text": [
      "203621\n"
     ]
    }
   ],
   "source": [
    "print len(completeDF)"
   ]
  },
  {
   "cell_type": "code",
   "execution_count": 18,
   "metadata": {
    "collapsed": false
   },
   "outputs": [],
   "source": [
    "saveDF('CompleteWeatherHist1980_99', completeDF)"
   ]
  },
  {
   "cell_type": "code",
   "execution_count": null,
   "metadata": {
    "collapsed": true
   },
   "outputs": [],
   "source": []
  }
 ],
 "metadata": {
  "kernelspec": {
   "display_name": "Python 2",
   "language": "python",
   "name": "python2"
  },
  "language_info": {
   "codemirror_mode": {
    "name": "ipython",
    "version": 2
   },
   "file_extension": ".py",
   "mimetype": "text/x-python",
   "name": "python",
   "nbconvert_exporter": "python",
   "pygments_lexer": "ipython2",
   "version": "2.7.9"
  }
 },
 "nbformat": 4,
 "nbformat_minor": 0
}
