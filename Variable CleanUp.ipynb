{
 "cells": [
  {
   "cell_type": "code",
   "execution_count": 1,
   "metadata": {
    "collapsed": true
   },
   "outputs": [],
   "source": [
    "import numpy as np\n",
    "import pandas as pd\n",
    "import xlsxwriter"
   ]
  },
  {
   "cell_type": "code",
   "execution_count": 2,
   "metadata": {
    "collapsed": false
   },
   "outputs": [],
   "source": [
    "dbT= pd.read_excel(\"../DataFiles/Traffic to Contract History.xlsx\")\n",
    "dbCH= pd.read_excel(\"../DataFiles/Contract History.xlsx\")\n",
    "dbCO= pd.read_excel(\"../DataFiles/Contracts.xlsx\")\n",
    "SU = pd.read_excel(\"../DataFiles/Survey Units.xlsx\")\n",
    "SDD = pd.read_excel(\"../DataFiles/Survey Distress Details.xlsx\")"
   ]
  },
  {
   "cell_type": "code",
   "execution_count": 3,
   "metadata": {
    "collapsed": false
   },
   "outputs": [
    {
     "data": {
      "text/html": [
       "<div>\n",
       "<table border=\"1\" class=\"dataframe\">\n",
       "  <thead>\n",
       "    <tr style=\"text-align: right;\">\n",
       "      <th></th>\n",
       "      <th>Traffic Year</th>\n",
       "      <th>AADT</th>\n",
       "      <th>Single Trucks</th>\n",
       "      <th>Double Trucks</th>\n",
       "      <th>Train Trucks</th>\n",
       "      <th>Peak Hour Percentage</th>\n",
       "      <th>Peak Hour Directional Split</th>\n",
       "      <th>Traffic Year ESALs _One Direction_</th>\n",
       "      <th>Percent Trucks</th>\n",
       "      <th>Contract History ID</th>\n",
       "    </tr>\n",
       "  </thead>\n",
       "  <tbody>\n",
       "    <tr>\n",
       "      <th>0</th>\n",
       "      <td>2013</td>\n",
       "      <td>31462</td>\n",
       "      <td>843</td>\n",
       "      <td>280</td>\n",
       "      <td>22</td>\n",
       "      <td>7.86</td>\n",
       "      <td>50.99</td>\n",
       "      <td>119738</td>\n",
       "      <td>3.64</td>\n",
       "      <td>7fbae59b-6ee6-4419-acb0-1db37aacd5f4</td>\n",
       "    </tr>\n",
       "    <tr>\n",
       "      <th>1</th>\n",
       "      <td>2013</td>\n",
       "      <td>23939</td>\n",
       "      <td>642</td>\n",
       "      <td>213</td>\n",
       "      <td>17</td>\n",
       "      <td>7.87</td>\n",
       "      <td>53.53</td>\n",
       "      <td>91031</td>\n",
       "      <td>3.64</td>\n",
       "      <td>39483404-7908-4e89-ade2-bec2391a60b6</td>\n",
       "    </tr>\n",
       "    <tr>\n",
       "      <th>2</th>\n",
       "      <td>2013</td>\n",
       "      <td>23939</td>\n",
       "      <td>642</td>\n",
       "      <td>213</td>\n",
       "      <td>17</td>\n",
       "      <td>7.87</td>\n",
       "      <td>53.53</td>\n",
       "      <td>91031</td>\n",
       "      <td>3.64</td>\n",
       "      <td>520f0233-9842-4d00-b92e-a10522a50102</td>\n",
       "    </tr>\n",
       "    <tr>\n",
       "      <th>3</th>\n",
       "      <td>2013</td>\n",
       "      <td>19593</td>\n",
       "      <td>525</td>\n",
       "      <td>174</td>\n",
       "      <td>14</td>\n",
       "      <td>8.00</td>\n",
       "      <td>52.73</td>\n",
       "      <td>74348</td>\n",
       "      <td>3.64</td>\n",
       "      <td>f042adcf-fe53-4442-be3c-66080c43e0e7</td>\n",
       "    </tr>\n",
       "    <tr>\n",
       "      <th>4</th>\n",
       "      <td>2013</td>\n",
       "      <td>20944</td>\n",
       "      <td>561</td>\n",
       "      <td>186</td>\n",
       "      <td>15</td>\n",
       "      <td>8.02</td>\n",
       "      <td>53.16</td>\n",
       "      <td>79442</td>\n",
       "      <td>3.64</td>\n",
       "      <td>5a9fd6df-7564-4251-a8ee-69f18e1f6e70</td>\n",
       "    </tr>\n",
       "  </tbody>\n",
       "</table>\n",
       "</div>"
      ],
      "text/plain": [
       "   Traffic Year   AADT  Single Trucks  Double Trucks  Train Trucks  \\\n",
       "0          2013  31462            843            280            22   \n",
       "1          2013  23939            642            213            17   \n",
       "2          2013  23939            642            213            17   \n",
       "3          2013  19593            525            174            14   \n",
       "4          2013  20944            561            186            15   \n",
       "\n",
       "   Peak Hour Percentage  Peak Hour Directional Split  \\\n",
       "0                  7.86                        50.99   \n",
       "1                  7.87                        53.53   \n",
       "2                  7.87                        53.53   \n",
       "3                  8.00                        52.73   \n",
       "4                  8.02                        53.16   \n",
       "\n",
       "   Traffic Year ESALs _One Direction_  Percent Trucks  \\\n",
       "0                              119738            3.64   \n",
       "1                               91031            3.64   \n",
       "2                               91031            3.64   \n",
       "3                               74348            3.64   \n",
       "4                               79442            3.64   \n",
       "\n",
       "                    Contract History ID  \n",
       "0  7fbae59b-6ee6-4419-acb0-1db37aacd5f4  \n",
       "1  39483404-7908-4e89-ade2-bec2391a60b6  \n",
       "2  520f0233-9842-4d00-b92e-a10522a50102  \n",
       "3  f042adcf-fe53-4442-be3c-66080c43e0e7  \n",
       "4  5a9fd6df-7564-4251-a8ee-69f18e1f6e70  "
      ]
     },
     "execution_count": 3,
     "metadata": {},
     "output_type": "execute_result"
    }
   ],
   "source": [
    "dbT.head()"
   ]
  },
  {
   "cell_type": "code",
   "execution_count": 4,
   "metadata": {
    "collapsed": false
   },
   "outputs": [],
   "source": [
    "#dbT = dbT.drop(['Single Trucks', 'Double Trucks', 'Peak Hour Percentage', 'Peak Hour Directional Split'], axis =1)\n",
    "dbT = dbT[['Traffic Year', 'Traffic Year ESALs _One Direction_', 'Contract History ID']]\n",
    "dbT.columns = ['Traffic Year', 'ESALs', 'Contract History ID']"
   ]
  },
  {
   "cell_type": "code",
   "execution_count": 5,
   "metadata": {
    "collapsed": true
   },
   "outputs": [],
   "source": [
    "dbCH = dbCH[['SR','Begin ARM', 'End ARM', 'Region', 'ID', 'Construction Year', 'Major Rehab Year', 'Segment Lane Miles', \n",
    "            'ESALs Since Major Rehab', 'Total Thickness', 'Total Surface Thickness', 'Listed Surface Type', 'Pavement Type',\n",
    "            'Construction Pavement Type', 'Major Rehab Type', 'Prior Major Rehab Year', 'Prior Major Rehab Type']]"
   ]
  },
  {
   "cell_type": "code",
   "execution_count": 6,
   "metadata": {
    "collapsed": true
   },
   "outputs": [],
   "source": [
    "T_CH = pd.merge(dbT, dbCH, how = 'left',left_on = ['Contract History ID'], right_on = ['ID'])"
   ]
  },
  {
   "cell_type": "code",
   "execution_count": 7,
   "metadata": {
    "collapsed": false
   },
   "outputs": [
    {
     "name": "stdout",
     "output_type": "stream",
     "text": [
      "21892\n",
      "28588\n",
      "True\n"
     ]
    }
   ],
   "source": [
    "print len(T_CH)\n",
    "print len(dbCH)\n",
    "print len(dbT) == len(T_CH)"
   ]
  },
  {
   "cell_type": "code",
   "execution_count": 8,
   "metadata": {
    "collapsed": false
   },
   "outputs": [
    {
     "data": {
      "text/plain": [
       "Index([                         u'SR',                         u'RRT',\n",
       "                               u'RRQ',                   u'Begin ARM',\n",
       "                           u'End ARM',                  u'Begin SRMP',\n",
       "                          u'End SRMP',      u'Direction To Inventory',\n",
       "                                u'ID',             u'Contract Number',\n",
       "             u'Construction End Date', u'Substantial Completion Date',\n",
       "                u'Contract Type Code',   u'Contract Type Description',\n",
       "                    u'Exception Code',       u'Exception Description',\n",
       "                 u'Surface Type Code',    u'Surface Type Description',\n",
       "                 u'Surface Thickness',        u'Treat Base Type Code',\n",
       "       u'Treat Base Type Description',        u'Treat Base Thickness',\n",
       "             u'UTreat Base Thickness',             u'Sequence Number'],\n",
       "      dtype='object')"
      ]
     },
     "execution_count": 8,
     "metadata": {},
     "output_type": "execute_result"
    }
   ],
   "source": [
    "dbCO.columns"
   ]
  },
  {
   "cell_type": "code",
   "execution_count": 9,
   "metadata": {
    "collapsed": false
   },
   "outputs": [
    {
     "data": {
      "text/plain": [
       "Index([              u'Traffic Year',                      u'ESALs',\n",
       "              u'Contract History ID',                         u'SR',\n",
       "                        u'Begin ARM',                    u'End ARM',\n",
       "                           u'Region',                         u'ID',\n",
       "                u'Construction Year',           u'Major Rehab Year',\n",
       "               u'Segment Lane Miles',    u'ESALs Since Major Rehab',\n",
       "                  u'Total Thickness',    u'Total Surface Thickness',\n",
       "              u'Listed Surface Type',              u'Pavement Type',\n",
       "       u'Construction Pavement Type',           u'Major Rehab Type',\n",
       "           u'Prior Major Rehab Year',     u'Prior Major Rehab Type'],\n",
       "      dtype='object')"
      ]
     },
     "execution_count": 9,
     "metadata": {},
     "output_type": "execute_result"
    }
   ],
   "source": [
    "T_CH.columns"
   ]
  },
  {
   "cell_type": "code",
   "execution_count": 10,
   "metadata": {
    "collapsed": false
   },
   "outputs": [],
   "source": [
    "dbC = dbCO[['SR', 'Begin ARM', 'End ARM', 'ID','Construction End Date','Substantial Completion Date','Contract Type Description', 'Surface Type Code', 'Surface Type Description', 'Surface Thickness',\n",
    "          'Treat Base Type Code', 'Treat Base Type Description', 'Treat Base Thickness', 'UTreat Base Thickness']]"
   ]
  },
  {
   "cell_type": "code",
   "execution_count": 11,
   "metadata": {
    "collapsed": false
   },
   "outputs": [],
   "source": [
    "# ConDate = dbC['Construction End Date']#.str.split(\"-\")\n",
    "# dbC['Year'] = pd.DatetimeIndex(dbC['Construction End Date']).year\n",
    "# str(dbC.loc[4,'Construction End Date']).split('-')[0]\n",
    "# dbC= dbC.drop(\"Year\", axis = 1)\n",
    "# test = dbCO.loc[:100, ['Construction End Date', 'Substantial Completion Date']]\n",
    "# res = test['Construction End Date'].apply(getYear)\n",
    "# test['Year'] = res"
   ]
  },
  {
   "cell_type": "code",
   "execution_count": 12,
   "metadata": {
    "collapsed": false
   },
   "outputs": [
    {
     "name": "stderr",
     "output_type": "stream",
     "text": [
      "/home/guerrero/anaconda/lib/python2.7/site-packages/pandas/core/indexing.py:249: SettingWithCopyWarning: \n",
      "A value is trying to be set on a copy of a slice from a DataFrame.\n",
      "Try using .loc[row_indexer,col_indexer] = value instead\n",
      "\n",
      "See the the caveats in the documentation: http://pandas.pydata.org/pandas-docs/stable/indexing.html#indexing-view-versus-copy\n",
      "  self.obj[key] = _infer_fill_value(value)\n",
      "/home/guerrero/anaconda/lib/python2.7/site-packages/pandas/core/indexing.py:415: SettingWithCopyWarning: \n",
      "A value is trying to be set on a copy of a slice from a DataFrame.\n",
      "Try using .loc[row_indexer,col_indexer] = value instead\n",
      "\n",
      "See the the caveats in the documentation: http://pandas.pydata.org/pandas-docs/stable/indexing.html#indexing-view-versus-copy\n",
      "  self.obj[item] = s\n"
     ]
    }
   ],
   "source": [
    "dbC.loc[:,'Year'] = 0\n",
    "def getYear(year):\n",
    "    return int(str(year).split('-')[0])"
   ]
  },
  {
   "cell_type": "code",
   "execution_count": 13,
   "metadata": {
    "collapsed": false
   },
   "outputs": [],
   "source": [
    "for i in np.arange(len(dbC)):\n",
    "    dbC.loc[i, 'Year'] = int(str(dbC.loc[i,'Construction End Date']).split('-')[0])"
   ]
  },
  {
   "cell_type": "code",
   "execution_count": 14,
   "metadata": {
    "collapsed": false
   },
   "outputs": [],
   "source": [
    "# dbC.tail(10)"
   ]
  },
  {
   "cell_type": "markdown",
   "metadata": {},
   "source": [
    "I have split up the construction date column and created a 'Year' column which I will use to select the actions which were performed before year 2000. "
   ]
  },
  {
   "cell_type": "code",
   "execution_count": 14,
   "metadata": {
    "collapsed": true
   },
   "outputs": [],
   "source": [
    "dbC2 = dbC[dbC.loc[:, 'Year'] <= 2013]"
   ]
  },
  {
   "cell_type": "code",
   "execution_count": 16,
   "metadata": {
    "collapsed": false
   },
   "outputs": [
    {
     "name": "stdout",
     "output_type": "stream",
     "text": [
      "54196\n",
      "51665\n"
     ]
    }
   ],
   "source": [
    "print len(dbC)\n",
    "print len(dbC2)"
   ]
  },
  {
   "cell_type": "code",
   "execution_count": 17,
   "metadata": {
    "collapsed": false
   },
   "outputs": [
    {
     "name": "stdout",
     "output_type": "stream",
     "text": [
      "[nan u'2ND STAGE CONSTR' u'2ND STAGE RECONSTR' u'BRIDGE'\n",
      " u'CI, CO, FED ROAD PROJECT' u'FIRST STAGE CONSTR' u'FIRST STAGE RECONSTR'\n",
      " u'FIRST STAGE RESURFACING' u'NEW CONSTR OR ALIGN CHG' u'PLANING'\n",
      " u'RECONSTR EXISTING ALIGN' u'RESURFACE EXISTING RDWY' u'TUNNEL']\n"
     ]
    },
    {
     "name": "stderr",
     "output_type": "stream",
     "text": [
      "/home/guerrero/anaconda/lib/python2.7/site-packages/numpy/lib/arraysetops.py:198: FutureWarning: numpy not_equal will not check object identity in the future. The comparison did not return the same result as suggested by the identity (`is`)) and will change.\n",
      "  flag = np.concatenate(([True], aux[1:] != aux[:-1]))\n"
     ]
    }
   ],
   "source": [
    "ConType = np.unique(np.array(dbC.loc[:, 'Contract Type Description']))\n",
    "print ConType"
   ]
  },
  {
   "cell_type": "code",
   "execution_count": 18,
   "metadata": {
    "collapsed": false
   },
   "outputs": [
    {
     "name": "stdout",
     "output_type": "stream",
     "text": [
      "[u'2ND STAGE CONSTR', u'2ND STAGE RECONSTR', u'FIRST STAGE CONSTR', u'FIRST STAGE RECONSTR', u'FIRST STAGE RESURFACING', u'NEW CONSTR OR ALIGN CHG', u'RECONSTR EXISTING ALIGN', u'RESURFACE EXISTING RDWY']\n"
     ]
    }
   ],
   "source": [
    "# ConType = np.delete(ConType, [0,3,4, 9, 12])\n",
    "SurfType = [ConType[1], ConType[2], ConType[5], ConType[6], ConType[7],  ConType[8], ConType[10],  ConType[11]]\n",
    "print SurfType"
   ]
  },
  {
   "cell_type": "code",
   "execution_count": 19,
   "metadata": {
    "collapsed": false
   },
   "outputs": [],
   "source": [
    "dbCs = dbC2[dbC2.loc[:,'Contract Type Description'].isin(SurfType)]"
   ]
  },
  {
   "cell_type": "code",
   "execution_count": 20,
   "metadata": {
    "collapsed": false
   },
   "outputs": [
    {
     "data": {
      "text/plain": [
       "42681"
      ]
     },
     "execution_count": 20,
     "metadata": {},
     "output_type": "execute_result"
    }
   ],
   "source": [
    "len(dbCs)"
   ]
  },
  {
   "cell_type": "code",
   "execution_count": 29,
   "metadata": {
    "collapsed": false
   },
   "outputs": [],
   "source": [
    "# print len(dbCs[dbCs.loc[:, 'UTreat Base Thickness']> 0.0])\n",
    "# print len(dbCs[dbCs.loc[:, 'Treat Base Thickness']> 0.0])\n",
    "# print len(dbCs)"
   ]
  },
  {
   "cell_type": "markdown",
   "metadata": {},
   "source": [
    "From the above summary, it can be observed that the number of segments where the treated or non-treated base layer thickness was recorded is less than 0.2 percent of the total segments in the dataset. The base thickness variable will therefore be removed for the models using records of year less than 2000. It should be noted, however, that for records of year >= 2000, there is a significant number of records with treated and untreated base-layer thicknesses so included of these variables into the models can be warranted."
   ]
  },
  {
   "cell_type": "code",
   "execution_count": 21,
   "metadata": {
    "collapsed": false
   },
   "outputs": [],
   "source": [
    "db = dbCs[['SR', 'Begin ARM', 'End ARM', 'ID','Year','Contract Type Description', 'Surface Type Code', 'Surface Type Description', 'Surface Thickness']]"
   ]
  },
  {
   "cell_type": "code",
   "execution_count": 22,
   "metadata": {
    "collapsed": false
   },
   "outputs": [
    {
     "name": "stdout",
     "output_type": "stream",
     "text": [
      "28588 42681\n"
     ]
    }
   ],
   "source": [
    "print len(dbCH), len(db)"
   ]
  },
  {
   "cell_type": "code",
   "execution_count": 23,
   "metadata": {
    "collapsed": true
   },
   "outputs": [],
   "source": [
    "C_CH = pd.merge(db, dbCH, how = 'left',left_on = ['SR', 'Begin ARM', 'End ARM'], right_on = ['SR', 'Begin ARM', 'End ARM'])"
   ]
  },
  {
   "cell_type": "code",
   "execution_count": 24,
   "metadata": {
    "collapsed": false
   },
   "outputs": [
    {
     "name": "stdout",
     "output_type": "stream",
     "text": [
      "41165 67500\n"
     ]
    }
   ],
   "source": [
    "# Missing = C_CH[C_CH['Construction Year'].apply(np.isnan)]\n",
    "# CCHs = C_CH[~C_CH.index.isin(Missing.index)]\n",
    "CCHs = C_CH[~C_CH['Construction Year'].apply(np.isnan)]\n",
    "print len(CCHs), len(C_CH)"
   ]
  },
  {
   "cell_type": "code",
   "execution_count": 27,
   "metadata": {
    "collapsed": false
   },
   "outputs": [
    {
     "data": {
      "text/plain": [
       "Index([                        u'SR',                  u'Begin ARM',\n",
       "                          u'End ARM',                       u'ID_x',\n",
       "                             u'Year',  u'Contract Type Description',\n",
       "                u'Surface Type Code',   u'Surface Type Description',\n",
       "                u'Surface Thickness',                     u'Region',\n",
       "                             u'ID_y',          u'Construction Year',\n",
       "                 u'Major Rehab Year',         u'Segment Lane Miles',\n",
       "          u'ESALs Since Major Rehab',            u'Total Thickness',\n",
       "          u'Total Surface Thickness',        u'Listed Surface Type',\n",
       "                    u'Pavement Type', u'Construction Pavement Type',\n",
       "                 u'Major Rehab Type',     u'Prior Major Rehab Year',\n",
       "           u'Prior Major Rehab Type'],\n",
       "      dtype='object')"
      ]
     },
     "execution_count": 27,
     "metadata": {},
     "output_type": "execute_result"
    }
   ],
   "source": [
    "CCHs.columns"
   ]
  },
  {
   "cell_type": "markdown",
   "metadata": {},
   "source": [
    "The following subselection contains only those segments with values in both the Contracts database and that in Contracts-History database."
   ]
  },
  {
   "cell_type": "code",
   "execution_count": 28,
   "metadata": {
    "collapsed": false
   },
   "outputs": [],
   "source": [
    "CCHs.index = np.arange(len(CCHs))"
   ]
  },
  {
   "cell_type": "code",
   "execution_count": 30,
   "metadata": {
    "collapsed": false
   },
   "outputs": [],
   "source": [
    "MatType = np.unique(np.array(dbCs.loc[:, 'Surface Type Code']))"
   ]
  },
  {
   "cell_type": "code",
   "execution_count": 31,
   "metadata": {
    "collapsed": false
   },
   "outputs": [],
   "source": [
    "MTdic = {}\n",
    "for mt in MatType[1:]:\n",
    "    MTdic[mt] = len(dbCs[dbCs.loc[:, 'Surface Type Code']==mt])"
   ]
  },
  {
   "cell_type": "code",
   "execution_count": 32,
   "metadata": {
    "collapsed": false
   },
   "outputs": [
    {
     "name": "stdout",
     "output_type": "stream",
     "text": [
      "BA 10887\n",
      "G2 1300\n",
      "B2 2394\n",
      "PA 2251\n",
      "SA 3864\n",
      "TA 3725\n",
      "AA 1458\n"
     ]
    }
   ],
   "source": [
    "uniqMT = []\n",
    "for mt in MTdic.keys():\n",
    "    if MTdic[mt] > 1000:\n",
    "        print mt, MTdic[mt]\n",
    "        uniqMT.append(mt)"
   ]
  },
  {
   "cell_type": "code",
   "execution_count": 33,
   "metadata": {
    "collapsed": false
   },
   "outputs": [
    {
     "data": {
      "text/plain": [
       "[u'BA', u'G2', u'B2', u'PA', u'SA', u'TA', u'AA']"
      ]
     },
     "execution_count": 33,
     "metadata": {},
     "output_type": "execute_result"
    }
   ],
   "source": [
    "uniqMT"
   ]
  },
  {
   "cell_type": "code",
   "execution_count": 34,
   "metadata": {
    "collapsed": true
   },
   "outputs": [],
   "source": [
    "# # CCHs[~CCHs.loc[:,'Surface Type Code'].isin(uniqMT)].loc[:,'Surface Type Code']\n",
    "# for i in CCHs.index:\n",
    "#     if CCHs.loc[i,'Surface Type Code'] not in uniqMT:\n",
    "#         CCHs.loc[i,'Surface Type Code'] = 'Other'  "
   ]
  },
  {
   "cell_type": "markdown",
   "metadata": {
    "collapsed": false
   },
   "source": [
    "I had categorized the surface type previously but later realized that the final dataset might not contain the same proportion of variables, given that I am going to consider only asphalt pavements. Categorization of this nature will be among the final steps of the data cleaning process.."
   ]
  },
  {
   "cell_type": "markdown",
   "metadata": {},
   "source": [
    "Just concluded categorizing the Surface Type Code accordingly. Next step is to link the CCHs (Contract and Contract-History) dataframe to the Survey_Units dataframe using the linker dataframe uploaded below.."
   ]
  },
  {
   "cell_type": "code",
   "execution_count": 36,
   "metadata": {
    "collapsed": true
   },
   "outputs": [],
   "source": [
    "# SUL = pd.read_excel(\"../DataFiles/Survey Units-Contract History Units.xlsx\")\n",
    "# SUL = SUL[[u'Survey Unit ID', u'Contract History ID', u'SR', u'Begin ARM',u'End ARM', u'Lane Miles']]\n",
    "# SUL.columns = [u'Survey Unit ID', u'Contract History ID', u'SR_SU', u'Begin ARM_SU',u'End ARM_SU', u'Lane Miles']\n",
    "# CCH = pd.merge(CCHs, SUL, how = 'left',left_on = ['SR', 'Begin ARM', 'End ARM'], \n",
    "#                right_on = ['SR_SU', 'Begin ARM_SU', 'End ARM_SU'])\n",
    "# Merged = CCH[~CCH['Lane Miles'].apply(np.isnan)]"
   ]
  },
  {
   "cell_type": "markdown",
   "metadata": {},
   "source": [
    "The linker dataframe is limited in the segment pairs it links so from now onwards, its best to stick to the SR and route-mileage as the unique indicators across all the datasets."
   ]
  },
  {
   "cell_type": "code",
   "execution_count": 37,
   "metadata": {
    "collapsed": false
   },
   "outputs": [
    {
     "data": {
      "text/plain": [
       "8425"
      ]
     },
     "execution_count": 37,
     "metadata": {},
     "output_type": "execute_result"
    }
   ],
   "source": [
    "len(CCHs[CCHs.Year == CCHs.loc[:, 'Major Rehab Year']])"
   ]
  },
  {
   "cell_type": "code",
   "execution_count": 40,
   "metadata": {
    "collapsed": false
   },
   "outputs": [
    {
     "name": "stdout",
     "output_type": "stream",
     "text": [
      "[nan u'ACP' u'ACP over BST (Mixed)' u'BST' u'BST over ACP (Mixed)' u'CSTS'\n",
      " u'Composite' u'DBR' u'Grinding PCCP' u'PCCP']\n"
     ]
    }
   ],
   "source": [
    "pvmtType = np.unique(np.array(CCHs[['Pavement Type']]))\n",
    "print pvmtType"
   ]
  },
  {
   "cell_type": "code",
   "execution_count": 45,
   "metadata": {
    "collapsed": false
   },
   "outputs": [
    {
     "name": "stdout",
     "output_type": "stream",
     "text": [
      "[u'ACP', u'ACP over BST (Mixed)', u'BST', u'BST over ACP (Mixed)', u'Composite']\n"
     ]
    }
   ],
   "source": [
    "# selected pavement type\n",
    "spt = [pvmtType[1], pvmtType[2], pvmtType[3], pvmtType[4],  pvmtType[6]]\n",
    "print spt"
   ]
  },
  {
   "cell_type": "code",
   "execution_count": 46,
   "metadata": {
    "collapsed": false
   },
   "outputs": [],
   "source": [
    "CCHa = CCHs[CCHs.loc[:,'Pavement Type'].isin(spt)]"
   ]
  },
  {
   "cell_type": "code",
   "execution_count": 48,
   "metadata": {
    "collapsed": false
   },
   "outputs": [
    {
     "name": "stdout",
     "output_type": "stream",
     "text": [
      "36943\n",
      "7152\n"
     ]
    }
   ],
   "source": [
    "print len(CCHa)\n",
    "print len(CCHa[CCHa.Year == CCHa.loc[:, 'Major Rehab Year']])"
   ]
  },
  {
   "cell_type": "markdown",
   "metadata": {},
   "source": [
    "# Merging survey units (SU) and Survey Distress Details (SDD)"
   ]
  },
  {
   "cell_type": "code",
   "execution_count": 64,
   "metadata": {
    "collapsed": false
   },
   "outputs": [
    {
     "data": {
      "text/plain": [
       "Index([                      u'SR',                      u'RRT',\n",
       "                            u'RRQ',                u'Begin ARM',\n",
       "                        u'End ARM',               u'Begin SRMP',\n",
       "                       u'End SRMP',   u'Direction To Inventory',\n",
       "                    u'Original ID',                 u'Due Year',\n",
       "               u'Due Year Trigger',                u'Is Bridge',\n",
       "                 u'Is Near Tunnel',      u'Is Near RR Crossing',\n",
       "              u'Lane Surface Type',               u'Lane Miles',\n",
       "                         u'Region',                      u'NHS',\n",
       "       u'Federal Functional Class',    u'Avg Construction Date',\n",
       "           u'Avg Major Rehab Date',                   u'Int ID'],\n",
       "      dtype='object')"
      ]
     },
     "execution_count": 64,
     "metadata": {},
     "output_type": "execute_result"
    }
   ],
   "source": [
    "SU.columns"
   ]
  },
  {
   "cell_type": "code",
   "execution_count": 65,
   "metadata": {
    "collapsed": true
   },
   "outputs": [],
   "source": [
    "su = SU[[u'SR', u'Begin ARM', u'End ARM', u'Is Bridge', u'Lane Surface Type', u'Lane Miles', u'Region', \n",
    "         u'Federal Functional Class', u'Int ID']]"
   ]
  },
  {
   "cell_type": "code",
   "execution_count": 66,
   "metadata": {
    "collapsed": false
   },
   "outputs": [
    {
     "data": {
      "text/html": [
       "<div>\n",
       "<table border=\"1\" class=\"dataframe\">\n",
       "  <thead>\n",
       "    <tr style=\"text-align: right;\">\n",
       "      <th></th>\n",
       "      <th>SR</th>\n",
       "      <th>Begin ARM</th>\n",
       "      <th>End ARM</th>\n",
       "      <th>Is Bridge</th>\n",
       "      <th>Lane Surface Type</th>\n",
       "      <th>Lane Miles</th>\n",
       "      <th>Region</th>\n",
       "      <th>Federal Functional Class</th>\n",
       "      <th>Int ID</th>\n",
       "    </tr>\n",
       "  </thead>\n",
       "  <tbody>\n",
       "    <tr>\n",
       "      <th>0</th>\n",
       "      <td>2</td>\n",
       "      <td>312.04</td>\n",
       "      <td>312.14</td>\n",
       "      <td>False</td>\n",
       "      <td>BST</td>\n",
       "      <td>0.20</td>\n",
       "      <td>Eastern</td>\n",
       "      <td>Rural Other Freeway/Expressway</td>\n",
       "      <td>1</td>\n",
       "    </tr>\n",
       "    <tr>\n",
       "      <th>1</th>\n",
       "      <td>2</td>\n",
       "      <td>171.15</td>\n",
       "      <td>171.25</td>\n",
       "      <td>False</td>\n",
       "      <td>BST</td>\n",
       "      <td>0.20</td>\n",
       "      <td>North Central</td>\n",
       "      <td>Rural Other Principal Arterial</td>\n",
       "      <td>2</td>\n",
       "    </tr>\n",
       "    <tr>\n",
       "      <th>2</th>\n",
       "      <td>2</td>\n",
       "      <td>269.53</td>\n",
       "      <td>269.63</td>\n",
       "      <td>False</td>\n",
       "      <td>ACP</td>\n",
       "      <td>0.20</td>\n",
       "      <td>Eastern</td>\n",
       "      <td>Urban Other Principal Arterial</td>\n",
       "      <td>3</td>\n",
       "    </tr>\n",
       "    <tr>\n",
       "      <th>3</th>\n",
       "      <td>2</td>\n",
       "      <td>22.12</td>\n",
       "      <td>22.23</td>\n",
       "      <td>True</td>\n",
       "      <td>ACP</td>\n",
       "      <td>0.22</td>\n",
       "      <td>Northwest</td>\n",
       "      <td>Urban Other Principal Arterial</td>\n",
       "      <td>4</td>\n",
       "    </tr>\n",
       "    <tr>\n",
       "      <th>4</th>\n",
       "      <td>2</td>\n",
       "      <td>115.81</td>\n",
       "      <td>115.91</td>\n",
       "      <td>False</td>\n",
       "      <td>ACP</td>\n",
       "      <td>0.20</td>\n",
       "      <td>North Central</td>\n",
       "      <td>Urban Other Freeway/Expressway</td>\n",
       "      <td>5</td>\n",
       "    </tr>\n",
       "  </tbody>\n",
       "</table>\n",
       "</div>"
      ],
      "text/plain": [
       "   SR  Begin ARM  End ARM Is Bridge Lane Surface Type  Lane Miles  \\\n",
       "0   2     312.04   312.14     False               BST        0.20   \n",
       "1   2     171.15   171.25     False               BST        0.20   \n",
       "2   2     269.53   269.63     False               ACP        0.20   \n",
       "3   2      22.12    22.23      True               ACP        0.22   \n",
       "4   2     115.81   115.91     False               ACP        0.20   \n",
       "\n",
       "          Region        Federal Functional Class  Int ID  \n",
       "0        Eastern  Rural Other Freeway/Expressway       1  \n",
       "1  North Central  Rural Other Principal Arterial       2  \n",
       "2        Eastern  Urban Other Principal Arterial       3  \n",
       "3      Northwest  Urban Other Principal Arterial       4  \n",
       "4  North Central  Urban Other Freeway/Expressway       5  "
      ]
     },
     "execution_count": 66,
     "metadata": {},
     "output_type": "execute_result"
    }
   ],
   "source": [
    "su.head()"
   ]
  },
  {
   "cell_type": "code",
   "execution_count": 63,
   "metadata": {
    "collapsed": false
   },
   "outputs": [],
   "source": [
    "# SDD.columns"
   ]
  },
  {
   "cell_type": "code",
   "execution_count": 61,
   "metadata": {
    "collapsed": true
   },
   "outputs": [],
   "source": [
    "sdd = SDD[[u'Year',u'Low Alligator Cracking',u'Medium Alligator Cracking',u'High Alligator Cracking',\n",
    "           u'Low Flexible Longitudinal Cracking', u'Medium Flexible Longitudinal Cracking',\n",
    "           u'High Flexible Longitudinal Cracking', u'Int ID']]\n",
    "sdd.columns = [u'sYear',u'Low Alligator Cracking',u'Medium Alligator Cracking',u'High Alligator Cracking',\n",
    "           u'Low Flexible Longitudinal Cracking', u'Medium Flexible Longitudinal Cracking',\n",
    "           u'High Flexible Longitudinal Cracking', u'IntID']"
   ]
  },
  {
   "cell_type": "code",
   "execution_count": 62,
   "metadata": {
    "collapsed": false
   },
   "outputs": [
    {
     "data": {
      "text/html": [
       "<div>\n",
       "<table border=\"1\" class=\"dataframe\">\n",
       "  <thead>\n",
       "    <tr style=\"text-align: right;\">\n",
       "      <th></th>\n",
       "      <th>sYear</th>\n",
       "      <th>Low Alligator Cracking</th>\n",
       "      <th>Medium Alligator Cracking</th>\n",
       "      <th>High Alligator Cracking</th>\n",
       "      <th>Low Flexible Longitudinal Cracking</th>\n",
       "      <th>Medium Flexible Longitudinal Cracking</th>\n",
       "      <th>High Flexible Longitudinal Cracking</th>\n",
       "      <th>IntID</th>\n",
       "    </tr>\n",
       "  </thead>\n",
       "  <tbody>\n",
       "    <tr>\n",
       "      <th>0</th>\n",
       "      <td>2003</td>\n",
       "      <td>NaN</td>\n",
       "      <td>NaN</td>\n",
       "      <td>NaN</td>\n",
       "      <td>2</td>\n",
       "      <td>NaN</td>\n",
       "      <td>NaN</td>\n",
       "      <td>54967</td>\n",
       "    </tr>\n",
       "    <tr>\n",
       "      <th>1</th>\n",
       "      <td>2003</td>\n",
       "      <td>2</td>\n",
       "      <td>NaN</td>\n",
       "      <td>NaN</td>\n",
       "      <td>16</td>\n",
       "      <td>NaN</td>\n",
       "      <td>NaN</td>\n",
       "      <td>54965</td>\n",
       "    </tr>\n",
       "    <tr>\n",
       "      <th>2</th>\n",
       "      <td>2003</td>\n",
       "      <td>19</td>\n",
       "      <td>NaN</td>\n",
       "      <td>NaN</td>\n",
       "      <td>19</td>\n",
       "      <td>NaN</td>\n",
       "      <td>NaN</td>\n",
       "      <td>54963</td>\n",
       "    </tr>\n",
       "    <tr>\n",
       "      <th>3</th>\n",
       "      <td>2003</td>\n",
       "      <td>NaN</td>\n",
       "      <td>NaN</td>\n",
       "      <td>NaN</td>\n",
       "      <td>10</td>\n",
       "      <td>NaN</td>\n",
       "      <td>NaN</td>\n",
       "      <td>54961</td>\n",
       "    </tr>\n",
       "    <tr>\n",
       "      <th>4</th>\n",
       "      <td>2003</td>\n",
       "      <td>NaN</td>\n",
       "      <td>NaN</td>\n",
       "      <td>NaN</td>\n",
       "      <td>10</td>\n",
       "      <td>NaN</td>\n",
       "      <td>NaN</td>\n",
       "      <td>54962</td>\n",
       "    </tr>\n",
       "  </tbody>\n",
       "</table>\n",
       "</div>"
      ],
      "text/plain": [
       "   sYear  Low Alligator Cracking  Medium Alligator Cracking  \\\n",
       "0   2003                     NaN                        NaN   \n",
       "1   2003                       2                        NaN   \n",
       "2   2003                      19                        NaN   \n",
       "3   2003                     NaN                        NaN   \n",
       "4   2003                     NaN                        NaN   \n",
       "\n",
       "   High Alligator Cracking  Low Flexible Longitudinal Cracking  \\\n",
       "0                      NaN                                   2   \n",
       "1                      NaN                                  16   \n",
       "2                      NaN                                  19   \n",
       "3                      NaN                                  10   \n",
       "4                      NaN                                  10   \n",
       "\n",
       "   Medium Flexible Longitudinal Cracking  High Flexible Longitudinal Cracking  \\\n",
       "0                                    NaN                                  NaN   \n",
       "1                                    NaN                                  NaN   \n",
       "2                                    NaN                                  NaN   \n",
       "3                                    NaN                                  NaN   \n",
       "4                                    NaN                                  NaN   \n",
       "\n",
       "   IntID  \n",
       "0  54967  \n",
       "1  54965  \n",
       "2  54963  \n",
       "3  54961  \n",
       "4  54962  "
      ]
     },
     "execution_count": 62,
     "metadata": {},
     "output_type": "execute_result"
    }
   ],
   "source": [
    "sdd.head()"
   ]
  },
  {
   "cell_type": "code",
   "execution_count": 58,
   "metadata": {
    "collapsed": false
   },
   "outputs": [
    {
     "data": {
      "text/plain": [
       "1036027"
      ]
     },
     "execution_count": 58,
     "metadata": {},
     "output_type": "execute_result"
    }
   ],
   "source": [
    "len(np.unique(np.array(sdd[['Construction']])))"
   ]
  },
  {
   "cell_type": "markdown",
   "metadata": {},
   "source": [
    "Code below merges the two datasets, su and sdd.. (survey units, and survey distress details)"
   ]
  },
  {
   "cell_type": "code",
   "execution_count": 70,
   "metadata": {
    "collapsed": true
   },
   "outputs": [],
   "source": [
    "SUDD = pd.merge(sdd, su, how = 'left',left_on = ['IntID'],\n",
    "               right_on = ['Int ID'])\n",
    "sudd = SUDD.dropna(axis=0, how='any', thresh=None, subset= [u'SR', u'Begin ARM', u'End ARM', u'Is Bridge', u'Lane Surface Type', u'Lane Miles', u'Region', \n",
    "         u'Federal Functional Class'], inplace=False)"
   ]
  },
  {
   "cell_type": "code",
   "execution_count": 71,
   "metadata": {
    "collapsed": false
   },
   "outputs": [
    {
     "name": "stdout",
     "output_type": "stream",
     "text": [
      "1048575\n",
      "1048575\n",
      "True\n"
     ]
    }
   ],
   "source": [
    "print len(sudd)\n",
    "print len(SUDD)\n",
    "print len(sudd) == len(sdd)"
   ]
  },
  {
   "cell_type": "markdown",
   "metadata": {},
   "source": [
    "# Code below merges the two datasets"
   ]
  },
  {
   "cell_type": "code",
   "execution_count": 83,
   "metadata": {
    "collapsed": false
   },
   "outputs": [],
   "source": [
    "CCHa.columns = [u'SR', u'Begin ARM', u'End ARM', u'ID_x', u'cYear',  u'Contract Type Description',\n",
    "                u'Surface Type Code', u'Surface Type Description', u'Surface Thickness',u'Region', u'ID_y', \n",
    "                u'Construction Year', u'Major Rehab Year', u'Segment Lane Miles', u'ESALs Since Major Rehab', 'Total Thickness',\n",
    "                u'Total Surface Thickness', u'Listed Surface Type', u'Pavement Type', u'Construction Pavement Type',\n",
    "                u'Major Rehab Type', u'Prior Major Rehab Year', u'Prior Major Rehab Type']"
   ]
  },
  {
   "cell_type": "code",
   "execution_count": 93,
   "metadata": {
    "collapsed": true
   },
   "outputs": [],
   "source": [
    "CCHp = CCHa.drop_duplicates(subset = ['SR', 'Begin ARM', 'End ARM', 'cYear'])"
   ]
  },
  {
   "cell_type": "code",
   "execution_count": 94,
   "metadata": {
    "collapsed": false
   },
   "outputs": [],
   "source": [
    "SUDDCCH = pd.merge(sudd, CCHp, how = 'left',left_on = ['SR', 'Begin ARM', 'End ARM', 'Region'],\n",
    "               right_on = ['SR', 'Begin ARM', 'End ARM', 'Region'])\n",
    "suddcch = SUDDCCH.dropna(axis=0, how='any', thresh=None, subset= [ u'Surface Thickness','cYear'], inplace=False)"
   ]
  },
  {
   "cell_type": "code",
   "execution_count": 98,
   "metadata": {
    "collapsed": false
   },
   "outputs": [
    {
     "name": "stdout",
     "output_type": "stream",
     "text": [
      "39782 1068044 16316 36943\n",
      "False\n",
      "650\n"
     ]
    }
   ],
   "source": [
    "print len(suddcch), len(SUDDCCH), len(CCHp), len(CCHa)\n",
    "print len(suddcch) == len(sudd)\n",
    "tdf = suddcch[suddcch.cYear == suddcch.loc[:, 'Major Rehab Year']]\n",
    "print len(np.unique(np.array(tdf.IntID)))"
   ]
  },
  {
   "cell_type": "code",
   "execution_count": 91,
   "metadata": {
    "collapsed": false
   },
   "outputs": [
    {
     "data": {
      "text/html": [
       "<div>\n",
       "<table border=\"1\" class=\"dataframe\">\n",
       "  <thead>\n",
       "    <tr style=\"text-align: right;\">\n",
       "      <th></th>\n",
       "      <th>sYear</th>\n",
       "      <th>Low Alligator Cracking</th>\n",
       "      <th>Medium Alligator Cracking</th>\n",
       "      <th>High Alligator Cracking</th>\n",
       "      <th>Low Flexible Longitudinal Cracking</th>\n",
       "      <th>Medium Flexible Longitudinal Cracking</th>\n",
       "      <th>High Flexible Longitudinal Cracking</th>\n",
       "      <th>IntID</th>\n",
       "      <th>SR</th>\n",
       "      <th>Begin ARM</th>\n",
       "      <th>End ARM</th>\n",
       "      <th>Is Bridge</th>\n",
       "      <th>Lane Surface Type</th>\n",
       "      <th>Lane Miles</th>\n",
       "      <th>Region</th>\n",
       "      <th>Federal Functional Class</th>\n",
       "      <th>Int ID</th>\n",
       "    </tr>\n",
       "  </thead>\n",
       "  <tbody>\n",
       "    <tr>\n",
       "      <th>0</th>\n",
       "      <td>2003</td>\n",
       "      <td>NaN</td>\n",
       "      <td>NaN</td>\n",
       "      <td>NaN</td>\n",
       "      <td>2</td>\n",
       "      <td>NaN</td>\n",
       "      <td>NaN</td>\n",
       "      <td>54967</td>\n",
       "      <td>101</td>\n",
       "      <td>0.00</td>\n",
       "      <td>0.10</td>\n",
       "      <td>False</td>\n",
       "      <td>ACP</td>\n",
       "      <td>0.20</td>\n",
       "      <td>Southwest</td>\n",
       "      <td>Rural Minor Arterial</td>\n",
       "      <td>54967</td>\n",
       "    </tr>\n",
       "    <tr>\n",
       "      <th>1</th>\n",
       "      <td>2003</td>\n",
       "      <td>2</td>\n",
       "      <td>NaN</td>\n",
       "      <td>NaN</td>\n",
       "      <td>16</td>\n",
       "      <td>NaN</td>\n",
       "      <td>NaN</td>\n",
       "      <td>54965</td>\n",
       "      <td>101</td>\n",
       "      <td>0.10</td>\n",
       "      <td>0.20</td>\n",
       "      <td>False</td>\n",
       "      <td>ACP</td>\n",
       "      <td>0.20</td>\n",
       "      <td>Southwest</td>\n",
       "      <td>Rural Minor Arterial</td>\n",
       "      <td>54965</td>\n",
       "    </tr>\n",
       "    <tr>\n",
       "      <th>2</th>\n",
       "      <td>2003</td>\n",
       "      <td>19</td>\n",
       "      <td>NaN</td>\n",
       "      <td>NaN</td>\n",
       "      <td>19</td>\n",
       "      <td>NaN</td>\n",
       "      <td>NaN</td>\n",
       "      <td>54963</td>\n",
       "      <td>101</td>\n",
       "      <td>0.20</td>\n",
       "      <td>0.29</td>\n",
       "      <td>False</td>\n",
       "      <td>ACP</td>\n",
       "      <td>0.18</td>\n",
       "      <td>Southwest</td>\n",
       "      <td>Rural Minor Arterial</td>\n",
       "      <td>54963</td>\n",
       "    </tr>\n",
       "    <tr>\n",
       "      <th>3</th>\n",
       "      <td>2003</td>\n",
       "      <td>NaN</td>\n",
       "      <td>NaN</td>\n",
       "      <td>NaN</td>\n",
       "      <td>10</td>\n",
       "      <td>NaN</td>\n",
       "      <td>NaN</td>\n",
       "      <td>54961</td>\n",
       "      <td>101</td>\n",
       "      <td>0.29</td>\n",
       "      <td>0.39</td>\n",
       "      <td>False</td>\n",
       "      <td>ACP</td>\n",
       "      <td>0.20</td>\n",
       "      <td>Southwest</td>\n",
       "      <td>Rural Minor Arterial</td>\n",
       "      <td>54961</td>\n",
       "    </tr>\n",
       "    <tr>\n",
       "      <th>4</th>\n",
       "      <td>2003</td>\n",
       "      <td>NaN</td>\n",
       "      <td>NaN</td>\n",
       "      <td>NaN</td>\n",
       "      <td>10</td>\n",
       "      <td>NaN</td>\n",
       "      <td>NaN</td>\n",
       "      <td>54962</td>\n",
       "      <td>101</td>\n",
       "      <td>0.39</td>\n",
       "      <td>0.49</td>\n",
       "      <td>False</td>\n",
       "      <td>ACP</td>\n",
       "      <td>0.20</td>\n",
       "      <td>Southwest</td>\n",
       "      <td>Rural Minor Arterial</td>\n",
       "      <td>54962</td>\n",
       "    </tr>\n",
       "  </tbody>\n",
       "</table>\n",
       "</div>"
      ],
      "text/plain": [
       "   sYear  Low Alligator Cracking  Medium Alligator Cracking  \\\n",
       "0   2003                     NaN                        NaN   \n",
       "1   2003                       2                        NaN   \n",
       "2   2003                      19                        NaN   \n",
       "3   2003                     NaN                        NaN   \n",
       "4   2003                     NaN                        NaN   \n",
       "\n",
       "   High Alligator Cracking  Low Flexible Longitudinal Cracking  \\\n",
       "0                      NaN                                   2   \n",
       "1                      NaN                                  16   \n",
       "2                      NaN                                  19   \n",
       "3                      NaN                                  10   \n",
       "4                      NaN                                  10   \n",
       "\n",
       "   Medium Flexible Longitudinal Cracking  High Flexible Longitudinal Cracking  \\\n",
       "0                                    NaN                                  NaN   \n",
       "1                                    NaN                                  NaN   \n",
       "2                                    NaN                                  NaN   \n",
       "3                                    NaN                                  NaN   \n",
       "4                                    NaN                                  NaN   \n",
       "\n",
       "   IntID   SR  Begin ARM  End ARM Is Bridge Lane Surface Type  Lane Miles  \\\n",
       "0  54967  101       0.00     0.10     False               ACP        0.20   \n",
       "1  54965  101       0.10     0.20     False               ACP        0.20   \n",
       "2  54963  101       0.20     0.29     False               ACP        0.18   \n",
       "3  54961  101       0.29     0.39     False               ACP        0.20   \n",
       "4  54962  101       0.39     0.49     False               ACP        0.20   \n",
       "\n",
       "      Region Federal Functional Class  Int ID  \n",
       "0  Southwest     Rural Minor Arterial   54967  \n",
       "1  Southwest     Rural Minor Arterial   54965  \n",
       "2  Southwest     Rural Minor Arterial   54963  \n",
       "3  Southwest     Rural Minor Arterial   54961  \n",
       "4  Southwest     Rural Minor Arterial   54962  "
      ]
     },
     "execution_count": 91,
     "metadata": {},
     "output_type": "execute_result"
    }
   ],
   "source": [
    "sudd.head()"
   ]
  },
  {
   "cell_type": "code",
   "execution_count": 99,
   "metadata": {
    "collapsed": false
   },
   "outputs": [
    {
     "data": {
      "text/html": [
       "<div>\n",
       "<table border=\"1\" class=\"dataframe\">\n",
       "  <thead>\n",
       "    <tr style=\"text-align: right;\">\n",
       "      <th></th>\n",
       "      <th>SR</th>\n",
       "      <th>Begin ARM</th>\n",
       "      <th>End ARM</th>\n",
       "      <th>ID_x</th>\n",
       "      <th>cYear</th>\n",
       "      <th>Contract Type Description</th>\n",
       "      <th>Surface Type Code</th>\n",
       "      <th>Surface Type Description</th>\n",
       "      <th>Surface Thickness</th>\n",
       "      <th>Region</th>\n",
       "      <th>...</th>\n",
       "      <th>Segment Lane Miles</th>\n",
       "      <th>ESALs Since Major Rehab</th>\n",
       "      <th>Total Thickness</th>\n",
       "      <th>Total Surface Thickness</th>\n",
       "      <th>Listed Surface Type</th>\n",
       "      <th>Pavement Type</th>\n",
       "      <th>Construction Pavement Type</th>\n",
       "      <th>Major Rehab Type</th>\n",
       "      <th>Prior Major Rehab Year</th>\n",
       "      <th>Prior Major Rehab Type</th>\n",
       "    </tr>\n",
       "  </thead>\n",
       "  <tbody>\n",
       "    <tr>\n",
       "      <th>0</th>\n",
       "      <td>2</td>\n",
       "      <td>0.00</td>\n",
       "      <td>0.13</td>\n",
       "      <td>206e5b45-4e3b-4e3f-9a86-d284970ae774</td>\n",
       "      <td>1994</td>\n",
       "      <td>RECONSTR EXISTING ALIGN</td>\n",
       "      <td>BA</td>\n",
       "      <td>ACP CLASS B AR4000W</td>\n",
       "      <td>0.25</td>\n",
       "      <td>Eastern</td>\n",
       "      <td>...</td>\n",
       "      <td>0.39</td>\n",
       "      <td>1337098</td>\n",
       "      <td>1.90</td>\n",
       "      <td>1.40</td>\n",
       "      <td>ACP</td>\n",
       "      <td>Composite</td>\n",
       "      <td>PCCP</td>\n",
       "      <td>ACP</td>\n",
       "      <td>1994</td>\n",
       "      <td>ACP</td>\n",
       "    </tr>\n",
       "    <tr>\n",
       "      <th>2</th>\n",
       "      <td>2</td>\n",
       "      <td>0.10</td>\n",
       "      <td>0.13</td>\n",
       "      <td>b41195f8-d576-4d66-ac74-6e30f296e19f</td>\n",
       "      <td>2002</td>\n",
       "      <td>RESURFACE EXISTING RDWY</td>\n",
       "      <td>B5</td>\n",
       "      <td>ACP CLASS A PG64-22</td>\n",
       "      <td>0.15</td>\n",
       "      <td>Northwest</td>\n",
       "      <td>...</td>\n",
       "      <td>0.06</td>\n",
       "      <td>592521</td>\n",
       "      <td>1.15</td>\n",
       "      <td>0.40</td>\n",
       "      <td>ACP</td>\n",
       "      <td>ACP</td>\n",
       "      <td>ACP</td>\n",
       "      <td>ACP</td>\n",
       "      <td>1994</td>\n",
       "      <td>ACP</td>\n",
       "    </tr>\n",
       "    <tr>\n",
       "      <th>3</th>\n",
       "      <td>2</td>\n",
       "      <td>0.13</td>\n",
       "      <td>0.14</td>\n",
       "      <td>e4f50ef8-2cb1-41c7-8ef8-e33553ca5359</td>\n",
       "      <td>2002</td>\n",
       "      <td>RESURFACE EXISTING RDWY</td>\n",
       "      <td>B5</td>\n",
       "      <td>ACP CLASS A PG64-22</td>\n",
       "      <td>0.15</td>\n",
       "      <td>Northwest</td>\n",
       "      <td>...</td>\n",
       "      <td>0.02</td>\n",
       "      <td>627668</td>\n",
       "      <td>0.15</td>\n",
       "      <td>0.15</td>\n",
       "      <td>ACP</td>\n",
       "      <td>Composite</td>\n",
       "      <td>PCCP</td>\n",
       "      <td>ACP</td>\n",
       "      <td>1968</td>\n",
       "      <td>PCCP</td>\n",
       "    </tr>\n",
       "    <tr>\n",
       "      <th>4</th>\n",
       "      <td>2</td>\n",
       "      <td>0.13</td>\n",
       "      <td>0.16</td>\n",
       "      <td>bec16537-c2dc-404b-be51-0139edccbd7f</td>\n",
       "      <td>1986</td>\n",
       "      <td>NEW CONSTR OR ALIGN CHG</td>\n",
       "      <td>BA</td>\n",
       "      <td>ACP CLASS B AR4000W</td>\n",
       "      <td>0.00</td>\n",
       "      <td>Northwest</td>\n",
       "      <td>...</td>\n",
       "      <td>0.06</td>\n",
       "      <td>585006</td>\n",
       "      <td>0.15</td>\n",
       "      <td>0.15</td>\n",
       "      <td>ACP</td>\n",
       "      <td>ACP</td>\n",
       "      <td>ACP</td>\n",
       "      <td>ACP</td>\n",
       "      <td>1986</td>\n",
       "      <td>ACP</td>\n",
       "    </tr>\n",
       "    <tr>\n",
       "      <th>5</th>\n",
       "      <td>2</td>\n",
       "      <td>0.13</td>\n",
       "      <td>0.16</td>\n",
       "      <td>a7c96460-896f-47e1-a547-4c47c00fe818</td>\n",
       "      <td>2005</td>\n",
       "      <td>RESURFACE EXISTING RDWY</td>\n",
       "      <td>AA</td>\n",
       "      <td>ACP CLASS A AR4000W</td>\n",
       "      <td>0.15</td>\n",
       "      <td>Northwest</td>\n",
       "      <td>...</td>\n",
       "      <td>0.06</td>\n",
       "      <td>585006</td>\n",
       "      <td>0.15</td>\n",
       "      <td>0.15</td>\n",
       "      <td>ACP</td>\n",
       "      <td>ACP</td>\n",
       "      <td>ACP</td>\n",
       "      <td>ACP</td>\n",
       "      <td>1986</td>\n",
       "      <td>ACP</td>\n",
       "    </tr>\n",
       "  </tbody>\n",
       "</table>\n",
       "<p>5 rows × 23 columns</p>\n",
       "</div>"
      ],
      "text/plain": [
       "   SR  Begin ARM  End ARM                                  ID_x  cYear  \\\n",
       "0   2       0.00     0.13  206e5b45-4e3b-4e3f-9a86-d284970ae774   1994   \n",
       "2   2       0.10     0.13  b41195f8-d576-4d66-ac74-6e30f296e19f   2002   \n",
       "3   2       0.13     0.14  e4f50ef8-2cb1-41c7-8ef8-e33553ca5359   2002   \n",
       "4   2       0.13     0.16  bec16537-c2dc-404b-be51-0139edccbd7f   1986   \n",
       "5   2       0.13     0.16  a7c96460-896f-47e1-a547-4c47c00fe818   2005   \n",
       "\n",
       "  Contract Type Description Surface Type Code Surface Type Description  \\\n",
       "0   RECONSTR EXISTING ALIGN                BA      ACP CLASS B AR4000W   \n",
       "2   RESURFACE EXISTING RDWY                B5      ACP CLASS A PG64-22   \n",
       "3   RESURFACE EXISTING RDWY                B5      ACP CLASS A PG64-22   \n",
       "4   NEW CONSTR OR ALIGN CHG                BA      ACP CLASS B AR4000W   \n",
       "5   RESURFACE EXISTING RDWY                AA      ACP CLASS A AR4000W   \n",
       "\n",
       "   Surface Thickness     Region          ...           Segment Lane Miles  \\\n",
       "0               0.25    Eastern          ...                         0.39   \n",
       "2               0.15  Northwest          ...                         0.06   \n",
       "3               0.15  Northwest          ...                         0.02   \n",
       "4               0.00  Northwest          ...                         0.06   \n",
       "5               0.15  Northwest          ...                         0.06   \n",
       "\n",
       "   ESALs Since Major Rehab  Total Thickness  Total Surface Thickness  \\\n",
       "0                  1337098             1.90                     1.40   \n",
       "2                   592521             1.15                     0.40   \n",
       "3                   627668             0.15                     0.15   \n",
       "4                   585006             0.15                     0.15   \n",
       "5                   585006             0.15                     0.15   \n",
       "\n",
       "   Listed Surface Type  Pavement Type  Construction Pavement Type  \\\n",
       "0                  ACP      Composite                        PCCP   \n",
       "2                  ACP            ACP                         ACP   \n",
       "3                  ACP      Composite                        PCCP   \n",
       "4                  ACP            ACP                         ACP   \n",
       "5                  ACP            ACP                         ACP   \n",
       "\n",
       "  Major Rehab Type Prior Major Rehab Year Prior Major Rehab Type  \n",
       "0              ACP                   1994                    ACP  \n",
       "2              ACP                   1994                    ACP  \n",
       "3              ACP                   1968                   PCCP  \n",
       "4              ACP                   1986                    ACP  \n",
       "5              ACP                   1986                    ACP  \n",
       "\n",
       "[5 rows x 23 columns]"
      ]
     },
     "execution_count": 99,
     "metadata": {},
     "output_type": "execute_result"
    }
   ],
   "source": [
    "CCHp.head()"
   ]
  },
  {
   "cell_type": "code",
   "execution_count": 103,
   "metadata": {
    "collapsed": false
   },
   "outputs": [
    {
     "data": {
      "text/html": [
       "<div>\n",
       "<table border=\"1\" class=\"dataframe\">\n",
       "  <thead>\n",
       "    <tr style=\"text-align: right;\">\n",
       "      <th></th>\n",
       "      <th>SR</th>\n",
       "      <th>Begin ARM</th>\n",
       "      <th>End ARM</th>\n",
       "      <th>Is Bridge</th>\n",
       "      <th>Lane Surface Type</th>\n",
       "      <th>Lane Miles</th>\n",
       "      <th>Region</th>\n",
       "      <th>Federal Functional Class</th>\n",
       "      <th>Int ID</th>\n",
       "    </tr>\n",
       "  </thead>\n",
       "  <tbody>\n",
       "    <tr>\n",
       "      <th>0</th>\n",
       "      <td>2</td>\n",
       "      <td>312.04</td>\n",
       "      <td>312.14</td>\n",
       "      <td>False</td>\n",
       "      <td>BST</td>\n",
       "      <td>0.20</td>\n",
       "      <td>Eastern</td>\n",
       "      <td>Rural Other Freeway/Expressway</td>\n",
       "      <td>1</td>\n",
       "    </tr>\n",
       "    <tr>\n",
       "      <th>1</th>\n",
       "      <td>2</td>\n",
       "      <td>171.15</td>\n",
       "      <td>171.25</td>\n",
       "      <td>False</td>\n",
       "      <td>BST</td>\n",
       "      <td>0.20</td>\n",
       "      <td>North Central</td>\n",
       "      <td>Rural Other Principal Arterial</td>\n",
       "      <td>2</td>\n",
       "    </tr>\n",
       "    <tr>\n",
       "      <th>2</th>\n",
       "      <td>2</td>\n",
       "      <td>269.53</td>\n",
       "      <td>269.63</td>\n",
       "      <td>False</td>\n",
       "      <td>ACP</td>\n",
       "      <td>0.20</td>\n",
       "      <td>Eastern</td>\n",
       "      <td>Urban Other Principal Arterial</td>\n",
       "      <td>3</td>\n",
       "    </tr>\n",
       "    <tr>\n",
       "      <th>3</th>\n",
       "      <td>2</td>\n",
       "      <td>22.12</td>\n",
       "      <td>22.23</td>\n",
       "      <td>True</td>\n",
       "      <td>ACP</td>\n",
       "      <td>0.22</td>\n",
       "      <td>Northwest</td>\n",
       "      <td>Urban Other Principal Arterial</td>\n",
       "      <td>4</td>\n",
       "    </tr>\n",
       "    <tr>\n",
       "      <th>4</th>\n",
       "      <td>2</td>\n",
       "      <td>115.81</td>\n",
       "      <td>115.91</td>\n",
       "      <td>False</td>\n",
       "      <td>ACP</td>\n",
       "      <td>0.20</td>\n",
       "      <td>North Central</td>\n",
       "      <td>Urban Other Freeway/Expressway</td>\n",
       "      <td>5</td>\n",
       "    </tr>\n",
       "  </tbody>\n",
       "</table>\n",
       "</div>"
      ],
      "text/plain": [
       "   SR  Begin ARM  End ARM Is Bridge Lane Surface Type  Lane Miles  \\\n",
       "0   2     312.04   312.14     False               BST        0.20   \n",
       "1   2     171.15   171.25     False               BST        0.20   \n",
       "2   2     269.53   269.63     False               ACP        0.20   \n",
       "3   2      22.12    22.23      True               ACP        0.22   \n",
       "4   2     115.81   115.91     False               ACP        0.20   \n",
       "\n",
       "          Region        Federal Functional Class  Int ID  \n",
       "0        Eastern  Rural Other Freeway/Expressway       1  \n",
       "1  North Central  Rural Other Principal Arterial       2  \n",
       "2        Eastern  Urban Other Principal Arterial       3  \n",
       "3      Northwest  Urban Other Principal Arterial       4  \n",
       "4  North Central  Urban Other Freeway/Expressway       5  "
      ]
     },
     "execution_count": 103,
     "metadata": {},
     "output_type": "execute_result"
    }
   ],
   "source": [
    "su.head()"
   ]
  },
  {
   "cell_type": "code",
   "execution_count": null,
   "metadata": {
    "collapsed": true
   },
   "outputs": [],
   "source": []
  },
  {
   "cell_type": "code",
   "execution_count": 123,
   "metadata": {
    "collapsed": false
   },
   "outputs": [],
   "source": [
    "Merged = SUCCH[~SUCCH['Lane Miles'].apply(np.isnan)]"
   ]
  },
  {
   "cell_type": "code",
   "execution_count": 124,
   "metadata": {
    "collapsed": false
   },
   "outputs": [
    {
     "name": "stdout",
     "output_type": "stream",
     "text": [
      "7065\n",
      "6249\n",
      "1620\n"
     ]
    }
   ],
   "source": [
    "print len(Merged)\n",
    "print len(Merged[Merged.loc[:,'Year']>1980])\n",
    "print len(np.unique(np.array(Merged[Merged.loc[:,'Year']>1980].loc[:, 'Int ID'])))"
   ]
  },
  {
   "cell_type": "code",
   "execution_count": 199,
   "metadata": {
    "collapsed": false
   },
   "outputs": [
    {
     "data": {
      "text/plain": [
       "2357"
      ]
     },
     "execution_count": 199,
     "metadata": {},
     "output_type": "execute_result"
    }
   ],
   "source": [
    "len(np.unique(np.array(Merged.loc[:, [u'SR', u'Begin ARM', u'End ARM']])))"
   ]
  },
  {
   "cell_type": "markdown",
   "metadata": {
    "collapsed": false
   },
   "source": [
    "Adding the Survey Details dataset including the cracking variables"
   ]
  },
  {
   "cell_type": "code",
   "execution_count": 175,
   "metadata": {
    "collapsed": false
   },
   "outputs": [],
   "source": [
    "# SDD.columns"
   ]
  },
  {
   "cell_type": "code",
   "execution_count": 158,
   "metadata": {
    "collapsed": true
   },
   "outputs": [],
   "source": [
    "sdd = SDD[[u'Year', u'Low Alligator Cracking', u'Medium Alligator Cracking',u'High Alligator Cracking',\n",
    "          u'Low Flexible Longitudinal Cracking',u'Medium Flexible Longitudinal Cracking', u'High Flexible Longitudinal Cracking',u'Sealed Alligator',\n",
    "           u'Sealed Longitudinal', u'Bridge', u'Int ID']]"
   ]
  },
  {
   "cell_type": "code",
   "execution_count": 159,
   "metadata": {
    "collapsed": false
   },
   "outputs": [],
   "source": [
    "sdd.columns = [u'YearC', u'Low Alligator Cracking', u'Medium Alligator Cracking',u'High Alligator Cracking',\n",
    "          u'Low Flexible Longitudinal Cracking',u'Medium Flexible Longitudinal Cracking', u'High Flexible Longitudinal Cracking',u'Sealed Alligator',\n",
    "           u'Sealed Longitudinal', u'Bridge', u'Int ID']"
   ]
  },
  {
   "cell_type": "markdown",
   "metadata": {},
   "source": [
    "# Merging Cracking Variable dataset to Segment Properties DB"
   ]
  },
  {
   "cell_type": "code",
   "execution_count": 160,
   "metadata": {
    "collapsed": true
   },
   "outputs": [],
   "source": [
    "#SCV segment and cracking variables\n",
    "SCV = pd.merge(sdd, Merged, how = 'left',left_on = ['Int ID'],\n",
    "               right_on = ['Int ID'])"
   ]
  },
  {
   "cell_type": "code",
   "execution_count": 161,
   "metadata": {
    "collapsed": false
   },
   "outputs": [
    {
     "data": {
      "text/plain": [
       "1106846"
      ]
     },
     "execution_count": 161,
     "metadata": {},
     "output_type": "execute_result"
    }
   ],
   "source": [
    "len(SCV)"
   ]
  },
  {
   "cell_type": "code",
   "execution_count": 217,
   "metadata": {
    "collapsed": false
   },
   "outputs": [],
   "source": [
    "scv = SCV[~SCV[['Lane Miles']].apply(np.isnan)]"
   ]
  },
  {
   "cell_type": "code",
   "execution_count": 218,
   "metadata": {
    "collapsed": false
   },
   "outputs": [
    {
     "data": {
      "text/plain": [
       "1106846"
      ]
     },
     "execution_count": 218,
     "metadata": {},
     "output_type": "execute_result"
    }
   ],
   "source": [
    "len(scv)"
   ]
  },
  {
   "cell_type": "code",
   "execution_count": 200,
   "metadata": {
    "collapsed": false
   },
   "outputs": [
    {
     "data": {
      "text/plain": [
       "1402"
      ]
     },
     "execution_count": 200,
     "metadata": {},
     "output_type": "execute_result"
    }
   ],
   "source": [
    "len(np.unique(np.array(scv.loc[:, [u'SR', u'Begin ARM', u'End ARM']])))"
   ]
  },
  {
   "cell_type": "code",
   "execution_count": 137,
   "metadata": {
    "collapsed": true
   },
   "outputs": [],
   "source": [
    "# scv.to_excel(\"../DataFiles/seg_cracking_vars2010.xlsx\")"
   ]
  },
  {
   "cell_type": "code",
   "execution_count": 165,
   "metadata": {
    "collapsed": false
   },
   "outputs": [],
   "source": [
    "#sc is the dataset with selected vars necessary for formulating the crack initiation model\n",
    "sc = scv[[u'YearC', u'Low Alligator Cracking', u'Medium Alligator Cracking', u'High Alligator Cracking',\n",
    "          u'Low Flexible Longitudinal Cracking', u'Medium Flexible Longitudinal Cracking', u'High Flexible Longitudinal Cracking',u'Sealed Alligator',\n",
    "          u'Sealed Longitudinal', u'Int ID', u'SR', u'Begin ARM', u'End ARM', u'Year', u'Contract Type Description',\n",
    "          u'Surface Type Code', u'Surface Type Description', u'Surface Thickness', u'Region', u'ID_y', u'Construction Year',\n",
    "          u'Major Rehab Year', u'Segment Lane Miles', u'ESALs Since Major Rehab', u'Total Thickness', u'Total Surface Thickness',\n",
    "          u'Pavement Type', u'Construction Pavement Type', u'Major Rehab Type',u'Prior Major Rehab Year',\n",
    "          u'Prior Major Rehab Type', u'Original ID', u'Is Bridge', u'Lane Surface Type', u'Lane Miles',\n",
    "                    u'Federal Functional Class',  u'Avg Construction Date',   u'Avg Major Rehab Date']]"
   ]
  },
  {
   "cell_type": "code",
   "execution_count": 172,
   "metadata": {
    "collapsed": false
   },
   "outputs": [],
   "source": [
    "# sc.head()"
   ]
  },
  {
   "cell_type": "code",
   "execution_count": 167,
   "metadata": {
    "collapsed": false
   },
   "outputs": [],
   "source": [
    "sc.loc[:,'Alli'] = 'nan'\n",
    "sc.loc[:,'CatAlli'] = 'nan'\n",
    "sc.loc[:,\"Long\"] = 'nan'\n",
    "sc.loc[:,\"CatLong\"] = 'nan'"
   ]
  },
  {
   "cell_type": "code",
   "execution_count": 168,
   "metadata": {
    "collapsed": true
   },
   "outputs": [],
   "source": [
    "for i in sc.index:\n",
    "    if ~np.isnan(sc.loc[i,'Low Alligator Cracking']):\n",
    "        sc.loc[i,'Alli'] = sc.loc[i,'Low Alligator Cracking'] \n",
    "        sc.loc[i,'CatAlli'] = 'L'\n",
    "    elif ~np.isnan(sc.loc[i,'Medium Alligator Cracking']):\n",
    "        sc.loc[i,'Alli'] = sc.loc[i,'Medium Alligator Cracking'] \n",
    "        sc.loc[i,'CatAlli'] = 'M'\n",
    "    else:\n",
    "        sc.loc[i,'Alli'] = sc.loc[i,'High Alligator Cracking'] \n",
    "        sc.loc[i,'CatAlli'] = 'H'\n",
    "        \n",
    "    if ~np.isnan(sc.loc[i,'Low Flexible Longitudinal Cracking']):\n",
    "        sc.loc[i,'Long'] = sc.loc[i,'Low Flexible Longitudinal Cracking'] \n",
    "        sc.loc[i,'CatLong'] = 'L'\n",
    "    elif ~np.isnan(sc.loc[i,'Medium Flexible Longitudinal Cracking']):\n",
    "        sc.loc[i,'Long'] = sc.loc[i,'Medium Flexible Longitudinal Cracking'] \n",
    "        sc.loc[i,'CatLong'] = 'M'\n",
    "    else:\n",
    "        sc.loc[i,'Long'] = sc.loc[i,'High Flexible Longitudinal Cracking'] \n",
    "        sc.loc[i,'CatLong'] = 'H'"
   ]
  },
  {
   "cell_type": "code",
   "execution_count": 278,
   "metadata": {
    "collapsed": false
   },
   "outputs": [],
   "source": [
    "test = sc.loc[1:1000, ['Alli', 'Long']]"
   ]
  },
  {
   "cell_type": "code",
   "execution_count": 279,
   "metadata": {
    "collapsed": true
   },
   "outputs": [],
   "source": [
    "test.index = np.arange(len(test))"
   ]
  },
  {
   "cell_type": "code",
   "execution_count": 295,
   "metadata": {
    "collapsed": false
   },
   "outputs": [
    {
     "name": "stdout",
     "output_type": "stream",
     "text": [
      "  Alli Long\n",
      "1   10   84\n",
      "2   21   10\n",
      "3   21    5\n",
      "4  NaN    5\n",
      "5  NaN  NaN\n"
     ]
    }
   ],
   "source": [
    "test2 = test.loc[1:10, ['Alli', 'Long']]\n",
    "print test2.head()"
   ]
  },
  {
   "cell_type": "code",
   "execution_count": 325,
   "metadata": {
    "collapsed": true
   },
   "outputs": [],
   "source": [
    "import math"
   ]
  },
  {
   "cell_type": "code",
   "execution_count": 339,
   "metadata": {
    "collapsed": false
   },
   "outputs": [],
   "source": [
    "def addcr(row):\n",
    "    a= row['Alli']\n",
    "    b= row['Long']\n",
    "#     return not (math.isnan(a) & math.isnan(b))\n",
    "    if not (math.isnan(a) & math.isnan(b)):\n",
    "        return a+b\n",
    "    else:\n",
    "        return 999"
   ]
  },
  {
   "cell_type": "code",
   "execution_count": 337,
   "metadata": {
    "collapsed": false
   },
   "outputs": [
    {
     "name": "stdout",
     "output_type": "stream",
     "text": [
      "True\n"
     ]
    }
   ],
   "source": [
    "a = 86\n",
    "b = 56\n",
    "print (isinstance(a, int) & isinstance(b, int))"
   ]
  },
  {
   "cell_type": "code",
   "execution_count": 340,
   "metadata": {
    "collapsed": false
   },
   "outputs": [
    {
     "data": {
      "text/plain": [
       "1      94\n",
       "2      31\n",
       "3      26\n",
       "4     NaN\n",
       "5     999\n",
       "6     999\n",
       "7     999\n",
       "8     999\n",
       "9     999\n",
       "10    999\n",
       "dtype: float64"
      ]
     },
     "execution_count": 340,
     "metadata": {},
     "output_type": "execute_result"
    }
   ],
   "source": [
    "test2.apply(addcr, axis=1)"
   ]
  },
  {
   "cell_type": "code",
   "execution_count": null,
   "metadata": {
    "collapsed": true
   },
   "outputs": [],
   "source": [
    "def catme(p1,p2,p3,p4,p5,p6):\n",
    "    if isinstance(p1, int):\n",
    "        a = p1\n",
    "        at = 'L'\n",
    "    elif isinstance(p2, int):\n",
    "        a = p2\n",
    "        at = 'M'\n",
    "    elif isinstance(p3, int):\n",
    "        a = p3\n",
    "        at = 'H'\n",
    "    else:\n",
    "        a = 'nan'\n",
    "        at = 'nan'\n",
    "        \n",
    "    if isinstance(p4, int):\n",
    "        l = p4\n",
    "        lt = 'L'\n",
    "    elif isinstance(p5, int):\n",
    "        l = p5\n",
    "        lt = 'M'\n",
    "    elif isinstance(p6, int):\n",
    "        l = p6\n",
    "        lt = 'H'\n",
    "    else:\n",
    "        l = 'nan'\n",
    "        lt = 'nan'\n",
    "    return a, at, l, lt"
   ]
  },
  {
   "cell_type": "code",
   "execution_count": null,
   "metadata": {
    "collapsed": true
   },
   "outputs": [],
   "source": []
  },
  {
   "cell_type": "code",
   "execution_count": null,
   "metadata": {
    "collapsed": true
   },
   "outputs": [],
   "source": []
  },
  {
   "cell_type": "code",
   "execution_count": null,
   "metadata": {
    "collapsed": true
   },
   "outputs": [],
   "source": []
  },
  {
   "cell_type": "code",
   "execution_count": 170,
   "metadata": {
    "collapsed": true
   },
   "outputs": [],
   "source": [
    "df = sc[[u'YearC',u'Sealed Alligator', u'Sealed Longitudinal', u'Int ID', u'SR', u'Begin ARM', u'End ARM', u'Year', \n",
    "         u'Contract Type Description', u'Surface Type Code', u'Surface Type Description', u'Surface Thickness', \n",
    "         u'Region', u'ID_y', u'Construction Year', u'Major Rehab Year', u'Segment Lane Miles', u'ESALs Since Major Rehab',\n",
    "         u'Total Thickness', u'Total Surface Thickness', u'Pavement Type', u'Construction Pavement Type', \n",
    "         u'Major Rehab Type',u'Prior Major Rehab Year', u'Prior Major Rehab Type', u'Original ID', \n",
    "         u'Is Bridge', u'Lane Surface Type', u'Lane Miles', u'Federal Functional Class',  u'Avg Construction Date', \n",
    "         u'Avg Major Rehab Date', 'Alli', 'CatAlli', 'Long', 'CatLong']]"
   ]
  },
  {
   "cell_type": "code",
   "execution_count": 202,
   "metadata": {
    "collapsed": false
   },
   "outputs": [],
   "source": [
    "# df.head()"
   ]
  },
  {
   "cell_type": "markdown",
   "metadata": {},
   "source": [
    "# Merging dataframe with traffic data"
   ]
  },
  {
   "cell_type": "code",
   "execution_count": 176,
   "metadata": {
    "collapsed": true
   },
   "outputs": [],
   "source": [
    "Traffic = pd.read_excel(\"../DataFiles/Traffic.xlsx\")"
   ]
  },
  {
   "cell_type": "code",
   "execution_count": 182,
   "metadata": {
    "collapsed": false
   },
   "outputs": [
    {
     "data": {
      "text/plain": [
       "Index([                                u'SR',\n",
       "                                      u'RRT',\n",
       "                                      u'RRQ',\n",
       "                                u'Begin ARM',\n",
       "                                  u'End ARM',\n",
       "                               u'Begin SRMP',\n",
       "                                 u'End SRMP',\n",
       "                   u'Direction To Inventory',\n",
       "                             u'Traffic Year',\n",
       "                                     u'AADT',\n",
       "                            u'Single Trucks',\n",
       "                            u'Double Trucks',\n",
       "                             u'Train Trucks',\n",
       "                     u'Peak Hour Percentage',\n",
       "              u'Peak Hour Directional Split',\n",
       "       u'Traffic Year ESALs _One Direction_',\n",
       "                           u'Percent Trucks'],\n",
       "      dtype='object')"
      ]
     },
     "execution_count": 182,
     "metadata": {},
     "output_type": "execute_result"
    }
   ],
   "source": [
    "Traffic.columns"
   ]
  },
  {
   "cell_type": "code",
   "execution_count": 245,
   "metadata": {
    "collapsed": false
   },
   "outputs": [
    {
     "data": {
      "text/plain": [
       "4784"
      ]
     },
     "execution_count": 245,
     "metadata": {},
     "output_type": "execute_result"
    }
   ],
   "source": [
    "len(np.unique(np.array(Traffic.loc[:, [u'SR',u'Begin ARM',u'End ARM']])))"
   ]
  },
  {
   "cell_type": "code",
   "execution_count": 185,
   "metadata": {
    "collapsed": true
   },
   "outputs": [],
   "source": [
    "Tc = Traffic[[u'SR', u'Begin ARM', u'End ARM', u'Direction To Inventory', u'Traffic Year', u'AADT', \n",
    "       u'Traffic Year ESALs _One Direction_']]"
   ]
  },
  {
   "cell_type": "code",
   "execution_count": 186,
   "metadata": {
    "collapsed": false
   },
   "outputs": [],
   "source": [
    "Tc.columns = [u'SR', u'Begin ARM', u'End ARM', u'Direction To Inventory', u'Traffic Year', u'AADT', \n",
    "       u'ESALS']"
   ]
  },
  {
   "cell_type": "code",
   "execution_count": 191,
   "metadata": {
    "collapsed": true
   },
   "outputs": [],
   "source": [
    "SCT = pd.merge(df, Tc, how = 'left',left_on = ['SR', u'Begin ARM', u'End ARM'],\n",
    "               right_on = ['SR', u'Begin ARM', u'End ARM'])"
   ]
  },
  {
   "cell_type": "code",
   "execution_count": 227,
   "metadata": {
    "collapsed": true
   },
   "outputs": [],
   "source": [
    "#Trying out the use of dropna in pandas. Foud out it works to using apply(np.isnan) on the respective column.\n",
    "# test = SCT[[u'Direction To Inventory', u'Traffic Year', u'AADT', u'ESALS']]\n",
    "# len(test.dropna(axis=0, how='any', thresh=None, subset=None, inplace=False))\n",
    "# test2 = SCT.dropna(axis=0, how='any', thresh=None, \n",
    "#                    subset=[u'Direction To Inventory', u'Traffic Year', u'AADT', u'ESALS'], inplace=False)\n",
    "# len(test2)"
   ]
  },
  {
   "cell_type": "code",
   "execution_count": 225,
   "metadata": {
    "collapsed": false
   },
   "outputs": [],
   "source": [
    "sct = SCT[~SCT['AADT'].apply(np.isnan)]"
   ]
  },
  {
   "cell_type": "code",
   "execution_count": 230,
   "metadata": {
    "collapsed": false
   },
   "outputs": [
    {
     "name": "stdout",
     "output_type": "stream",
     "text": [
      "3490\n",
      "80734\n"
     ]
    }
   ],
   "source": [
    "print len(sct)\n",
    "print len(SCT)"
   ]
  },
  {
   "cell_type": "code",
   "execution_count": 197,
   "metadata": {
    "collapsed": false
   },
   "outputs": [
    {
     "data": {
      "text/plain": [
       "4784"
      ]
     },
     "execution_count": 197,
     "metadata": {},
     "output_type": "execute_result"
    }
   ],
   "source": [
    "len(np.unique(np.array(Traffic.loc[:, [u'SR', u'Begin ARM', u'End ARM']])))"
   ]
  },
  {
   "cell_type": "code",
   "execution_count": 248,
   "metadata": {
    "collapsed": false
   },
   "outputs": [
    {
     "data": {
      "text/html": [
       "<div>\n",
       "<table border=\"1\" class=\"dataframe\">\n",
       "  <thead>\n",
       "    <tr style=\"text-align: right;\">\n",
       "      <th></th>\n",
       "      <th>Traffic Year</th>\n",
       "      <th>ESALs</th>\n",
       "      <th>Contract History ID</th>\n",
       "    </tr>\n",
       "  </thead>\n",
       "  <tbody>\n",
       "    <tr>\n",
       "      <th>0</th>\n",
       "      <td>2013</td>\n",
       "      <td>119738</td>\n",
       "      <td>7fbae59b-6ee6-4419-acb0-1db37aacd5f4</td>\n",
       "    </tr>\n",
       "    <tr>\n",
       "      <th>1</th>\n",
       "      <td>2013</td>\n",
       "      <td>91031</td>\n",
       "      <td>39483404-7908-4e89-ade2-bec2391a60b6</td>\n",
       "    </tr>\n",
       "    <tr>\n",
       "      <th>2</th>\n",
       "      <td>2013</td>\n",
       "      <td>91031</td>\n",
       "      <td>520f0233-9842-4d00-b92e-a10522a50102</td>\n",
       "    </tr>\n",
       "    <tr>\n",
       "      <th>3</th>\n",
       "      <td>2013</td>\n",
       "      <td>74348</td>\n",
       "      <td>f042adcf-fe53-4442-be3c-66080c43e0e7</td>\n",
       "    </tr>\n",
       "    <tr>\n",
       "      <th>4</th>\n",
       "      <td>2013</td>\n",
       "      <td>79442</td>\n",
       "      <td>5a9fd6df-7564-4251-a8ee-69f18e1f6e70</td>\n",
       "    </tr>\n",
       "  </tbody>\n",
       "</table>\n",
       "</div>"
      ],
      "text/plain": [
       "   Traffic Year   ESALs                   Contract History ID\n",
       "0          2013  119738  7fbae59b-6ee6-4419-acb0-1db37aacd5f4\n",
       "1          2013   91031  39483404-7908-4e89-ade2-bec2391a60b6\n",
       "2          2013   91031  520f0233-9842-4d00-b92e-a10522a50102\n",
       "3          2013   74348  f042adcf-fe53-4442-be3c-66080c43e0e7\n",
       "4          2013   79442  5a9fd6df-7564-4251-a8ee-69f18e1f6e70"
      ]
     },
     "execution_count": 248,
     "metadata": {},
     "output_type": "execute_result"
    }
   ],
   "source": [
    "dbT.head()"
   ]
  },
  {
   "cell_type": "code",
   "execution_count": 249,
   "metadata": {
    "collapsed": false
   },
   "outputs": [
    {
     "data": {
      "text/plain": [
       "21892"
      ]
     },
     "execution_count": 249,
     "metadata": {},
     "output_type": "execute_result"
    }
   ],
   "source": [
    "len(np.unique(np.array(dbT.loc[:, [u'Contract History ID']])))"
   ]
  },
  {
   "cell_type": "markdown",
   "metadata": {},
   "source": [
    "# Merging the Traffic_to_Contract_History database to df"
   ]
  },
  {
   "cell_type": "code",
   "execution_count": 252,
   "metadata": {
    "collapsed": false
   },
   "outputs": [],
   "source": [
    "df2 = pd.merge(df, dbT, how = 'left',left_on = ['ID_y'], right_on = ['Contract History ID'])"
   ]
  },
  {
   "cell_type": "code",
   "execution_count": 253,
   "metadata": {
    "collapsed": false
   },
   "outputs": [
    {
     "data": {
      "text/plain": [
       "914"
      ]
     },
     "execution_count": 253,
     "metadata": {},
     "output_type": "execute_result"
    }
   ],
   "source": [
    "len(np.unique(np.array(df2.loc[:, [u'Contract History ID']])))"
   ]
  },
  {
   "cell_type": "code",
   "execution_count": 254,
   "metadata": {
    "collapsed": false
   },
   "outputs": [],
   "source": [
    "dft = df2.dropna(axis=0, how='any', thresh=None, \n",
    "                   subset=[u'Traffic Year', u'ESALs'], inplace=False)"
   ]
  },
  {
   "cell_type": "code",
   "execution_count": 257,
   "metadata": {
    "collapsed": true
   },
   "outputs": [],
   "source": [
    "def getST(index):\n",
    "    return dft.loc[index, 'Surface Type Code']"
   ]
  },
  {
   "cell_type": "code",
   "execution_count": 258,
   "metadata": {
    "collapsed": true
   },
   "outputs": [],
   "source": [
    "dfst = dft.drop_duplicates(['Contract History ID'])"
   ]
  },
  {
   "cell_type": "code",
   "execution_count": 263,
   "metadata": {
    "collapsed": false
   },
   "outputs": [
    {
     "data": {
      "text/plain": [
       "561"
      ]
     },
     "execution_count": 263,
     "metadata": {},
     "output_type": "execute_result"
    }
   ],
   "source": [
    "len(dfst[dfst.loc[:,'Surface Type Code']=='Other'])"
   ]
  },
  {
   "cell_type": "code",
   "execution_count": 262,
   "metadata": {
    "collapsed": false
   },
   "outputs": [
    {
     "name": "stdout",
     "output_type": "stream",
     "text": [
      "BA 227\n",
      "B2 68\n",
      "SA 12\n",
      "TA 8\n",
      "AA 37\n"
     ]
    }
   ],
   "source": [
    "for mt in uniqMT:\n",
    "    print mt, len(dfst[dfst.loc[:,'Surface Type Code']== mt])"
   ]
  },
  {
   "cell_type": "code",
   "execution_count": 255,
   "metadata": {
    "collapsed": false
   },
   "outputs": [
    {
     "name": "stdout",
     "output_type": "stream",
     "text": [
      "77650\n",
      "64452\n"
     ]
    }
   ],
   "source": [
    "print len(df2)\n",
    "print len(dft)"
   ]
  },
  {
   "cell_type": "code",
   "execution_count": 256,
   "metadata": {
    "collapsed": false
   },
   "outputs": [
    {
     "data": {
      "text/html": [
       "<div>\n",
       "<table border=\"1\" class=\"dataframe\">\n",
       "  <thead>\n",
       "    <tr style=\"text-align: right;\">\n",
       "      <th></th>\n",
       "      <th>YearC</th>\n",
       "      <th>Sealed Alligator</th>\n",
       "      <th>Sealed Longitudinal</th>\n",
       "      <th>Int ID</th>\n",
       "      <th>SR</th>\n",
       "      <th>Begin ARM</th>\n",
       "      <th>End ARM</th>\n",
       "      <th>Year</th>\n",
       "      <th>Contract Type Description</th>\n",
       "      <th>Surface Type Code</th>\n",
       "      <th>...</th>\n",
       "      <th>Federal Functional Class</th>\n",
       "      <th>Avg Construction Date</th>\n",
       "      <th>Avg Major Rehab Date</th>\n",
       "      <th>Alli</th>\n",
       "      <th>CatAlli</th>\n",
       "      <th>Long</th>\n",
       "      <th>CatLong</th>\n",
       "      <th>Traffic Year</th>\n",
       "      <th>ESALs</th>\n",
       "      <th>Contract History ID</th>\n",
       "    </tr>\n",
       "  </thead>\n",
       "  <tbody>\n",
       "    <tr>\n",
       "      <th>0</th>\n",
       "      <td>2003</td>\n",
       "      <td>NaN</td>\n",
       "      <td>NaN</td>\n",
       "      <td>54964</td>\n",
       "      <td>101</td>\n",
       "      <td>0.53</td>\n",
       "      <td>0.63</td>\n",
       "      <td>1996</td>\n",
       "      <td>RESURFACE EXISTING RDWY</td>\n",
       "      <td>AA</td>\n",
       "      <td>...</td>\n",
       "      <td>Rural Minor Arterial</td>\n",
       "      <td>1944-01-01</td>\n",
       "      <td>1995-07-31</td>\n",
       "      <td>21</td>\n",
       "      <td>L</td>\n",
       "      <td>10</td>\n",
       "      <td>L</td>\n",
       "      <td>2013</td>\n",
       "      <td>32740</td>\n",
       "      <td>0073c3c3-1b5a-40af-a002-022c09a2875d</td>\n",
       "    </tr>\n",
       "    <tr>\n",
       "      <th>1</th>\n",
       "      <td>2004</td>\n",
       "      <td>NaN</td>\n",
       "      <td>NaN</td>\n",
       "      <td>54964</td>\n",
       "      <td>101</td>\n",
       "      <td>0.53</td>\n",
       "      <td>0.63</td>\n",
       "      <td>1996</td>\n",
       "      <td>RESURFACE EXISTING RDWY</td>\n",
       "      <td>AA</td>\n",
       "      <td>...</td>\n",
       "      <td>Rural Minor Arterial</td>\n",
       "      <td>1944-01-01</td>\n",
       "      <td>1995-07-31</td>\n",
       "      <td>10</td>\n",
       "      <td>L</td>\n",
       "      <td>84</td>\n",
       "      <td>L</td>\n",
       "      <td>2013</td>\n",
       "      <td>32740</td>\n",
       "      <td>0073c3c3-1b5a-40af-a002-022c09a2875d</td>\n",
       "    </tr>\n",
       "    <tr>\n",
       "      <th>2</th>\n",
       "      <td>2005</td>\n",
       "      <td>NaN</td>\n",
       "      <td>NaN</td>\n",
       "      <td>54964</td>\n",
       "      <td>101</td>\n",
       "      <td>0.53</td>\n",
       "      <td>0.63</td>\n",
       "      <td>1996</td>\n",
       "      <td>RESURFACE EXISTING RDWY</td>\n",
       "      <td>AA</td>\n",
       "      <td>...</td>\n",
       "      <td>Rural Minor Arterial</td>\n",
       "      <td>1944-01-01</td>\n",
       "      <td>1995-07-31</td>\n",
       "      <td>21</td>\n",
       "      <td>L</td>\n",
       "      <td>10</td>\n",
       "      <td>L</td>\n",
       "      <td>2013</td>\n",
       "      <td>32740</td>\n",
       "      <td>0073c3c3-1b5a-40af-a002-022c09a2875d</td>\n",
       "    </tr>\n",
       "    <tr>\n",
       "      <th>3</th>\n",
       "      <td>2006</td>\n",
       "      <td>NaN</td>\n",
       "      <td>NaN</td>\n",
       "      <td>54964</td>\n",
       "      <td>101</td>\n",
       "      <td>0.53</td>\n",
       "      <td>0.63</td>\n",
       "      <td>1996</td>\n",
       "      <td>RESURFACE EXISTING RDWY</td>\n",
       "      <td>AA</td>\n",
       "      <td>...</td>\n",
       "      <td>Rural Minor Arterial</td>\n",
       "      <td>1944-01-01</td>\n",
       "      <td>1995-07-31</td>\n",
       "      <td>21</td>\n",
       "      <td>L</td>\n",
       "      <td>5</td>\n",
       "      <td>L</td>\n",
       "      <td>2013</td>\n",
       "      <td>32740</td>\n",
       "      <td>0073c3c3-1b5a-40af-a002-022c09a2875d</td>\n",
       "    </tr>\n",
       "    <tr>\n",
       "      <th>4</th>\n",
       "      <td>2007</td>\n",
       "      <td>NaN</td>\n",
       "      <td>NaN</td>\n",
       "      <td>54964</td>\n",
       "      <td>101</td>\n",
       "      <td>0.53</td>\n",
       "      <td>0.63</td>\n",
       "      <td>1996</td>\n",
       "      <td>RESURFACE EXISTING RDWY</td>\n",
       "      <td>AA</td>\n",
       "      <td>...</td>\n",
       "      <td>Rural Minor Arterial</td>\n",
       "      <td>1944-01-01</td>\n",
       "      <td>1995-07-31</td>\n",
       "      <td>NaN</td>\n",
       "      <td>H</td>\n",
       "      <td>5</td>\n",
       "      <td>L</td>\n",
       "      <td>2013</td>\n",
       "      <td>32740</td>\n",
       "      <td>0073c3c3-1b5a-40af-a002-022c09a2875d</td>\n",
       "    </tr>\n",
       "  </tbody>\n",
       "</table>\n",
       "<p>5 rows × 39 columns</p>\n",
       "</div>"
      ],
      "text/plain": [
       "   YearC  Sealed Alligator  Sealed Longitudinal  Int ID   SR  Begin ARM  \\\n",
       "0   2003               NaN                  NaN   54964  101       0.53   \n",
       "1   2004               NaN                  NaN   54964  101       0.53   \n",
       "2   2005               NaN                  NaN   54964  101       0.53   \n",
       "3   2006               NaN                  NaN   54964  101       0.53   \n",
       "4   2007               NaN                  NaN   54964  101       0.53   \n",
       "\n",
       "   End ARM  Year Contract Type Description Surface Type Code  \\\n",
       "0     0.63  1996   RESURFACE EXISTING RDWY                AA   \n",
       "1     0.63  1996   RESURFACE EXISTING RDWY                AA   \n",
       "2     0.63  1996   RESURFACE EXISTING RDWY                AA   \n",
       "3     0.63  1996   RESURFACE EXISTING RDWY                AA   \n",
       "4     0.63  1996   RESURFACE EXISTING RDWY                AA   \n",
       "\n",
       "                   ...                  Federal Functional Class  \\\n",
       "0                  ...                      Rural Minor Arterial   \n",
       "1                  ...                      Rural Minor Arterial   \n",
       "2                  ...                      Rural Minor Arterial   \n",
       "3                  ...                      Rural Minor Arterial   \n",
       "4                  ...                      Rural Minor Arterial   \n",
       "\n",
       "   Avg Construction Date Avg Major Rehab Date Alli  CatAlli  Long  CatLong  \\\n",
       "0             1944-01-01           1995-07-31   21        L    10        L   \n",
       "1             1944-01-01           1995-07-31   10        L    84        L   \n",
       "2             1944-01-01           1995-07-31   21        L    10        L   \n",
       "3             1944-01-01           1995-07-31   21        L     5        L   \n",
       "4             1944-01-01           1995-07-31  NaN        H     5        L   \n",
       "\n",
       "   Traffic Year  ESALs                   Contract History ID  \n",
       "0          2013  32740  0073c3c3-1b5a-40af-a002-022c09a2875d  \n",
       "1          2013  32740  0073c3c3-1b5a-40af-a002-022c09a2875d  \n",
       "2          2013  32740  0073c3c3-1b5a-40af-a002-022c09a2875d  \n",
       "3          2013  32740  0073c3c3-1b5a-40af-a002-022c09a2875d  \n",
       "4          2013  32740  0073c3c3-1b5a-40af-a002-022c09a2875d  \n",
       "\n",
       "[5 rows x 39 columns]"
      ]
     },
     "execution_count": 256,
     "metadata": {},
     "output_type": "execute_result"
    }
   ],
   "source": [
    "dft.head()"
   ]
  },
  {
   "cell_type": "markdown",
   "metadata": {},
   "source": [
    "# Given that you know which datasets are now required, repeat the process and do the Surface-material type categorization at the end."
   ]
  },
  {
   "cell_type": "code",
   "execution_count": null,
   "metadata": {
    "collapsed": true
   },
   "outputs": [],
   "source": [
    "def getAlli(row):\n",
    "    p1 = row[u'Low Alligator Cracking']\n",
    "    p2 = row[u'Medium Alligator Cracking']\n",
    "    p3 = row[u'High Alligator Cracking']\n",
    "    \n",
    "    if not math.isnan(p1):\n",
    "        a = p1\n",
    "    elif not math.isnan(p2):\n",
    "        a = p2\n",
    "    elif not math.isnan(p3):\n",
    "        a = p3\n",
    "        at = 'H'\n",
    "    else:\n",
    "        a = 'nan'\n",
    "    return a"
   ]
  },
  {
   "cell_type": "code",
   "execution_count": null,
   "metadata": {
    "collapsed": true
   },
   "outputs": [],
   "source": [
    "def getCatAlli(row):\n",
    "    p1 = row[u'Low Alligator Cracking']\n",
    "    p2 = row[u'Medium Alligator Cracking']\n",
    "    p3 = row[u'High Alligator Cracking']\n",
    "    \n",
    "    if not math.isnan(p1):\n",
    "        at = 'L'\n",
    "    elif not math.isnan(p2):\n",
    "        at = 'M'\n",
    "    elif not math.isnan(p3):\n",
    "        at = 'H'\n",
    "    else:\n",
    "        at = 'nan'\n",
    "    return at"
   ]
  },
  {
   "cell_type": "code",
   "execution_count": null,
   "metadata": {
    "collapsed": true
   },
   "outputs": [],
   "source": [
    "def getCatLong(row):\n",
    "    p4 = row[u'Low Flexible Longitudinal Cracking']\n",
    "    p5 = row[u'Medium Flexible Longitudinal Cracking']\n",
    "    p6 = row[u'High Flexible Longitudinal Cracking'] \n",
    "        \n",
    "    if not math.isnan(p4):\n",
    "        lt = 'L'\n",
    "    elif not math.isnan(p5):\n",
    "        lt = 'M'\n",
    "    elif not math.isnan(p6):\n",
    "        lt = 'H'\n",
    "    else:\n",
    "        lt = 'nan'\n",
    "    return lt"
   ]
  },
  {
   "cell_type": "code",
   "execution_count": null,
   "metadata": {
    "collapsed": true
   },
   "outputs": [],
   "source": [
    "def getLong(row):\n",
    "    p4 = row[u'Low Flexible Longitudinal Cracking']\n",
    "    p5 = row[u'Medium Flexible Longitudinal Cracking']\n",
    "    p6 = row[u'High Flexible Longitudinal Cracking'] \n",
    "        \n",
    "    if not math.isnan(p4):\n",
    "        l = p4\n",
    "    elif not math.isnan(p5):\n",
    "        l = p5\n",
    "    elif not math.isnan(p6):\n",
    "        l = p6\n",
    "    else:\n",
    "        l = 'nan'\n",
    "    return l"
   ]
  }
 ],
 "metadata": {
  "kernelspec": {
   "display_name": "Python 2",
   "language": "python",
   "name": "python2"
  },
  "language_info": {
   "codemirror_mode": {
    "name": "ipython",
    "version": 2
   },
   "file_extension": ".py",
   "mimetype": "text/x-python",
   "name": "python",
   "nbconvert_exporter": "python",
   "pygments_lexer": "ipython2",
   "version": "2.7.10"
  }
 },
 "nbformat": 4,
 "nbformat_minor": 0
}
