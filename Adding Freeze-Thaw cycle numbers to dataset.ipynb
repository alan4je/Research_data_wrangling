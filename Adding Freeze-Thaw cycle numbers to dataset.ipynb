{
 "cells": [
  {
   "cell_type": "code",
   "execution_count": 1,
   "metadata": {
    "collapsed": true
   },
   "outputs": [],
   "source": [
    "import pandas as pd\n",
    "import numpy as np\n",
    "import xlsxwriter"
   ]
  },
  {
   "cell_type": "code",
   "execution_count": 2,
   "metadata": {
    "collapsed": true
   },
   "outputs": [],
   "source": [
    "wds = pd.read_excel('../DataFiles/AnnualWeatherR.xlsx')"
   ]
  },
  {
   "cell_type": "code",
   "execution_count": 99,
   "metadata": {
    "collapsed": true
   },
   "outputs": [],
   "source": [
    "wds2 = pd.read_excel('../DataFiles/AnnualWeatherR2.xlsx')"
   ]
  },
  {
   "cell_type": "code",
   "execution_count": 100,
   "metadata": {
    "collapsed": false
   },
   "outputs": [
    {
     "data": {
      "text/html": [
       "<div style=\"max-height:1000px;max-width:1500px;overflow:auto;\">\n",
       "<table border=\"1\" class=\"dataframe\">\n",
       "  <thead>\n",
       "    <tr style=\"text-align: right;\">\n",
       "      <th></th>\n",
       "      <th>Year</th>\n",
       "      <th>FTCycles</th>\n",
       "      <th>Airport</th>\n",
       "    </tr>\n",
       "  </thead>\n",
       "  <tbody>\n",
       "    <tr>\n",
       "      <th>0</th>\n",
       "      <td>2000</td>\n",
       "      <td>3</td>\n",
       "      <td>KBFI</td>\n",
       "    </tr>\n",
       "    <tr>\n",
       "      <th>1</th>\n",
       "      <td>2001</td>\n",
       "      <td>5</td>\n",
       "      <td>KBFI</td>\n",
       "    </tr>\n",
       "    <tr>\n",
       "      <th>2</th>\n",
       "      <td>2002</td>\n",
       "      <td>9</td>\n",
       "      <td>KBFI</td>\n",
       "    </tr>\n",
       "    <tr>\n",
       "      <th>3</th>\n",
       "      <td>2003</td>\n",
       "      <td>5</td>\n",
       "      <td>KBFI</td>\n",
       "    </tr>\n",
       "    <tr>\n",
       "      <th>4</th>\n",
       "      <td>2004</td>\n",
       "      <td>4</td>\n",
       "      <td>KBFI</td>\n",
       "    </tr>\n",
       "  </tbody>\n",
       "</table>\n",
       "</div>"
      ],
      "text/plain": [
       "   Year  FTCycles Airport\n",
       "0  2000         3    KBFI\n",
       "1  2001         5    KBFI\n",
       "2  2002         9    KBFI\n",
       "3  2003         5    KBFI\n",
       "4  2004         4    KBFI"
      ]
     },
     "execution_count": 100,
     "metadata": {},
     "output_type": "execute_result"
    }
   ],
   "source": [
    "wds2.head()"
   ]
  },
  {
   "cell_type": "code",
   "execution_count": 3,
   "metadata": {
    "collapsed": false
   },
   "outputs": [
    {
     "data": {
      "text/html": [
       "<div style=\"max-height:1000px;max-width:1500px;overflow:auto;\">\n",
       "<table border=\"1\" class=\"dataframe\">\n",
       "  <thead>\n",
       "    <tr style=\"text-align: right;\">\n",
       "      <th></th>\n",
       "      <th>Year</th>\n",
       "      <th>MaxTMM</th>\n",
       "      <th>MinTMM</th>\n",
       "      <th>MaxTAnnualM</th>\n",
       "      <th>MixTAnnualM</th>\n",
       "      <th>AnnualPreci</th>\n",
       "      <th>FTCycles</th>\n",
       "      <th>Airport</th>\n",
       "    </tr>\n",
       "  </thead>\n",
       "  <tbody>\n",
       "    <tr>\n",
       "      <th>0</th>\n",
       "      <td>1986</td>\n",
       "      <td>80.548387</td>\n",
       "      <td>36.903226</td>\n",
       "      <td>60.870289</td>\n",
       "      <td>46.679103</td>\n",
       "      <td>0.00</td>\n",
       "      <td>4</td>\n",
       "      <td>KBFI</td>\n",
       "    </tr>\n",
       "    <tr>\n",
       "      <th>1</th>\n",
       "      <td>1987</td>\n",
       "      <td>76.612903</td>\n",
       "      <td>32.838710</td>\n",
       "      <td>61.769784</td>\n",
       "      <td>46.325115</td>\n",
       "      <td>0.00</td>\n",
       "      <td>5</td>\n",
       "      <td>KBFI</td>\n",
       "    </tr>\n",
       "    <tr>\n",
       "      <th>2</th>\n",
       "      <td>1984</td>\n",
       "      <td>77.322581</td>\n",
       "      <td>30.677419</td>\n",
       "      <td>60.193314</td>\n",
       "      <td>46.055877</td>\n",
       "      <td>0.00</td>\n",
       "      <td>9</td>\n",
       "      <td>KBFI</td>\n",
       "    </tr>\n",
       "    <tr>\n",
       "      <th>3</th>\n",
       "      <td>1985</td>\n",
       "      <td>83.000000</td>\n",
       "      <td>30.709677</td>\n",
       "      <td>59.158186</td>\n",
       "      <td>44.028123</td>\n",
       "      <td>0.00</td>\n",
       "      <td>16</td>\n",
       "      <td>KBFI</td>\n",
       "    </tr>\n",
       "    <tr>\n",
       "      <th>4</th>\n",
       "      <td>1982</td>\n",
       "      <td>76.096774</td>\n",
       "      <td>37.000000</td>\n",
       "      <td>60.643363</td>\n",
       "      <td>46.190847</td>\n",
       "      <td>550.39</td>\n",
       "      <td>8</td>\n",
       "      <td>KBFI</td>\n",
       "    </tr>\n",
       "  </tbody>\n",
       "</table>\n",
       "</div>"
      ],
      "text/plain": [
       "   Year     MaxTMM     MinTMM  MaxTAnnualM  MixTAnnualM  AnnualPreci  \\\n",
       "0  1986  80.548387  36.903226    60.870289    46.679103         0.00   \n",
       "1  1987  76.612903  32.838710    61.769784    46.325115         0.00   \n",
       "2  1984  77.322581  30.677419    60.193314    46.055877         0.00   \n",
       "3  1985  83.000000  30.709677    59.158186    44.028123         0.00   \n",
       "4  1982  76.096774  37.000000    60.643363    46.190847       550.39   \n",
       "\n",
       "   FTCycles Airport  \n",
       "0         4    KBFI  \n",
       "1         5    KBFI  \n",
       "2         9    KBFI  \n",
       "3        16    KBFI  \n",
       "4         8    KBFI  "
      ]
     },
     "execution_count": 3,
     "metadata": {},
     "output_type": "execute_result"
    }
   ],
   "source": [
    "wds.head()"
   ]
  },
  {
   "cell_type": "code",
   "execution_count": 4,
   "metadata": {
    "collapsed": true
   },
   "outputs": [],
   "source": [
    "wd = wds[['Year', 'FTCycles', 'Airport']]"
   ]
  },
  {
   "cell_type": "code",
   "execution_count": 101,
   "metadata": {
    "collapsed": true
   },
   "outputs": [],
   "source": [
    "wdt = pd.concat([wd, wds2], axis = 0)"
   ]
  },
  {
   "cell_type": "code",
   "execution_count": 102,
   "metadata": {
    "collapsed": false
   },
   "outputs": [
    {
     "data": {
      "text/plain": [
       "True"
      ]
     },
     "execution_count": 102,
     "metadata": {},
     "output_type": "execute_result"
    }
   ],
   "source": [
    "len(wdt) == len(wd)+len(wds2)"
   ]
  },
  {
   "cell_type": "code",
   "execution_count": 103,
   "metadata": {
    "collapsed": false
   },
   "outputs": [
    {
     "data": {
      "text/html": [
       "<div style=\"max-height:1000px;max-width:1500px;overflow:auto;\">\n",
       "<table border=\"1\" class=\"dataframe\">\n",
       "  <thead>\n",
       "    <tr style=\"text-align: right;\">\n",
       "      <th></th>\n",
       "      <th>Year</th>\n",
       "      <th>FTCycles</th>\n",
       "      <th>Airport</th>\n",
       "    </tr>\n",
       "  </thead>\n",
       "  <tbody>\n",
       "    <tr>\n",
       "      <th>0</th>\n",
       "      <td>1986</td>\n",
       "      <td>4</td>\n",
       "      <td>KBFI</td>\n",
       "    </tr>\n",
       "    <tr>\n",
       "      <th>1</th>\n",
       "      <td>1987</td>\n",
       "      <td>5</td>\n",
       "      <td>KBFI</td>\n",
       "    </tr>\n",
       "    <tr>\n",
       "      <th>2</th>\n",
       "      <td>1984</td>\n",
       "      <td>9</td>\n",
       "      <td>KBFI</td>\n",
       "    </tr>\n",
       "    <tr>\n",
       "      <th>3</th>\n",
       "      <td>1985</td>\n",
       "      <td>16</td>\n",
       "      <td>KBFI</td>\n",
       "    </tr>\n",
       "    <tr>\n",
       "      <th>4</th>\n",
       "      <td>1982</td>\n",
       "      <td>8</td>\n",
       "      <td>KBFI</td>\n",
       "    </tr>\n",
       "  </tbody>\n",
       "</table>\n",
       "</div>"
      ],
      "text/plain": [
       "   Year  FTCycles Airport\n",
       "0  1986         4    KBFI\n",
       "1  1987         5    KBFI\n",
       "2  1984         9    KBFI\n",
       "3  1985        16    KBFI\n",
       "4  1982         8    KBFI"
      ]
     },
     "execution_count": 103,
     "metadata": {},
     "output_type": "execute_result"
    }
   ],
   "source": [
    "wdt.head()"
   ]
  },
  {
   "cell_type": "code",
   "execution_count": 20,
   "metadata": {
    "collapsed": false
   },
   "outputs": [],
   "source": [
    "# dbu = db.drop_duplicates(subset = ['Int ID'])\n",
    "# dbu.to_csv('../DataFiles/SegmentDataset.csv')"
   ]
  },
  {
   "cell_type": "code",
   "execution_count": 49,
   "metadata": {
    "collapsed": true
   },
   "outputs": [],
   "source": [
    "# importing the dataset containing the airport-seg linking IDs\n",
    "# ld = pd.read_csv('~/Dropbox/2015/PhD Stuff/ExcelFiles_HistWData/segAPcodeN1.csv')\n",
    "ld = pd.read_csv('../DataFiles/segmentAPlinker.csv')"
   ]
  },
  {
   "cell_type": "code",
   "execution_count": 50,
   "metadata": {
    "collapsed": false
   },
   "outputs": [],
   "source": [
    "ld.index = ld.InputID"
   ]
  },
  {
   "cell_type": "code",
   "execution_count": 51,
   "metadata": {
    "collapsed": false
   },
   "outputs": [
    {
     "data": {
      "text/html": [
       "<div style=\"max-height:1000px;max-width:1500px;overflow:auto;\">\n",
       "<table border=\"1\" class=\"dataframe\">\n",
       "  <thead>\n",
       "    <tr style=\"text-align: right;\">\n",
       "      <th></th>\n",
       "      <th>InputID</th>\n",
       "      <th>TargetID</th>\n",
       "      <th>Distance</th>\n",
       "    </tr>\n",
       "    <tr>\n",
       "      <th>InputID</th>\n",
       "      <th></th>\n",
       "      <th></th>\n",
       "      <th></th>\n",
       "    </tr>\n",
       "  </thead>\n",
       "  <tbody>\n",
       "    <tr>\n",
       "      <th>54964</th>\n",
       "      <td>54964</td>\n",
       "      <td>KHQM</td>\n",
       "      <td>0.730177</td>\n",
       "    </tr>\n",
       "    <tr>\n",
       "      <th>55012</th>\n",
       "      <td>55012</td>\n",
       "      <td>KHQM</td>\n",
       "      <td>0.730177</td>\n",
       "    </tr>\n",
       "    <tr>\n",
       "      <th>55019</th>\n",
       "      <td>55019</td>\n",
       "      <td>KHQM</td>\n",
       "      <td>0.725933</td>\n",
       "    </tr>\n",
       "    <tr>\n",
       "      <th>55369</th>\n",
       "      <td>55369</td>\n",
       "      <td>KPWT</td>\n",
       "      <td>0.465580</td>\n",
       "    </tr>\n",
       "    <tr>\n",
       "      <th>55432</th>\n",
       "      <td>55432</td>\n",
       "      <td>KPAE</td>\n",
       "      <td>0.324248</td>\n",
       "    </tr>\n",
       "  </tbody>\n",
       "</table>\n",
       "</div>"
      ],
      "text/plain": [
       "         InputID TargetID  Distance\n",
       "InputID                            \n",
       "54964      54964     KHQM  0.730177\n",
       "55012      55012     KHQM  0.730177\n",
       "55019      55019     KHQM  0.725933\n",
       "55369      55369     KPWT  0.465580\n",
       "55432      55432     KPAE  0.324248"
      ]
     },
     "execution_count": 51,
     "metadata": {},
     "output_type": "execute_result"
    }
   ],
   "source": [
    "ld.head()"
   ]
  },
  {
   "cell_type": "code",
   "execution_count": 11,
   "metadata": {
    "collapsed": true
   },
   "outputs": [],
   "source": [
    "# importing the dataset containing all the other covariates\n",
    "db = pd.read_excel('../DataFiles/cdata.xlsx')"
   ]
  },
  {
   "cell_type": "code",
   "execution_count": 29,
   "metadata": {
    "collapsed": false
   },
   "outputs": [],
   "source": [
    "# db[db.loc[:, 'Int ID'] == 54964]"
   ]
  },
  {
   "cell_type": "code",
   "execution_count": 32,
   "metadata": {
    "collapsed": true
   },
   "outputs": [],
   "source": [
    "def getCode(row):\n",
    "    index = row['Int ID']\n",
    "    return ld.loc[index,'TargetID']"
   ]
  },
  {
   "cell_type": "code",
   "execution_count": 52,
   "metadata": {
    "collapsed": false
   },
   "outputs": [],
   "source": [
    "db['ICAO'] = db.apply(getCode, axis = 1)"
   ]
  },
  {
   "cell_type": "code",
   "execution_count": 104,
   "metadata": {
    "collapsed": false
   },
   "outputs": [],
   "source": [
    "def getFTCycles(row):\n",
    "    ind = row['ICAO']\n",
    "    year  = row['YearC']\n",
    "    ftc   = list(wdt[((wdt.loc[:,'Airport']== ind) & (wdt.loc[:,'Year'] == year))].loc[:,'FTCycles'])[0]\n",
    "    return ftc"
   ]
  },
  {
   "cell_type": "code",
   "execution_count": 82,
   "metadata": {
    "collapsed": false
   },
   "outputs": [],
   "source": [
    "# codes = np.unique(np.array(ld.loc[:,'TargetID']))\n",
    "# for key in codes:\n",
    "#     for year in np.arange(33)+1981:\n",
    "#         tdb = wdt[((wdt.loc[:,'Airport']== key) & (wdt.loc[:,'Year'] == year))]\n",
    "# key = 'KBFI'\n",
    "# year = 2004\n",
    "# t  = wdt[((wdt.loc[:,'Airport']== key) & (wdt.loc[:,'Year'] == year))]\n",
    "# print len(t)"
   ]
  },
  {
   "cell_type": "code",
   "execution_count": 106,
   "metadata": {
    "collapsed": false
   },
   "outputs": [
    {
     "data": {
      "text/html": [
       "<div style=\"max-height:1000px;max-width:1500px;overflow:auto;\">\n",
       "<table border=\"1\" class=\"dataframe\">\n",
       "  <thead>\n",
       "    <tr style=\"text-align: right;\">\n",
       "      <th></th>\n",
       "      <th>YearC</th>\n",
       "      <th>Int ID</th>\n",
       "      <th>SR</th>\n",
       "      <th>Begin ARM</th>\n",
       "      <th>End ARM</th>\n",
       "      <th>Year</th>\n",
       "      <th>Contract Type Description</th>\n",
       "      <th>Surface Type Code</th>\n",
       "      <th>Surface Type Description</th>\n",
       "      <th>Surface Thickness</th>\n",
       "      <th>...</th>\n",
       "      <th>ESALs</th>\n",
       "      <th>Contract History ID</th>\n",
       "      <th>STcode</th>\n",
       "      <th>Latitude</th>\n",
       "      <th>Longitude</th>\n",
       "      <th>PPT</th>\n",
       "      <th>MinTemp</th>\n",
       "      <th>MaxTemp</th>\n",
       "      <th>ICAO</th>\n",
       "      <th>FTCycles</th>\n",
       "    </tr>\n",
       "  </thead>\n",
       "  <tbody>\n",
       "    <tr>\n",
       "      <th>0</th>\n",
       "      <td>2003</td>\n",
       "      <td>54964</td>\n",
       "      <td>101</td>\n",
       "      <td>0.53</td>\n",
       "      <td>0.63</td>\n",
       "      <td>1996</td>\n",
       "      <td>RESURFACE EXISTING RDWY</td>\n",
       "      <td>AA</td>\n",
       "      <td>ACP CLASS A AR4000W</td>\n",
       "      <td>0.15</td>\n",
       "      <td>...</td>\n",
       "      <td>40724.540843</td>\n",
       "      <td>0073c3c3-1b5a-40af-a002-022c09a2875d</td>\n",
       "      <td>AA</td>\n",
       "      <td>46.242524</td>\n",
       "      <td>-123.886017</td>\n",
       "      <td>185.619995</td>\n",
       "      <td>-2.08</td>\n",
       "      <td>34.279999</td>\n",
       "      <td>KHQM</td>\n",
       "      <td>2</td>\n",
       "    </tr>\n",
       "    <tr>\n",
       "      <th>1</th>\n",
       "      <td>2004</td>\n",
       "      <td>54964</td>\n",
       "      <td>101</td>\n",
       "      <td>0.53</td>\n",
       "      <td>0.63</td>\n",
       "      <td>1996</td>\n",
       "      <td>RESURFACE EXISTING RDWY</td>\n",
       "      <td>AA</td>\n",
       "      <td>ACP CLASS A AR4000W</td>\n",
       "      <td>0.15</td>\n",
       "      <td>...</td>\n",
       "      <td>35842.303869</td>\n",
       "      <td>0073c3c3-1b5a-40af-a002-022c09a2875d</td>\n",
       "      <td>AA</td>\n",
       "      <td>46.242524</td>\n",
       "      <td>-123.886017</td>\n",
       "      <td>215.160004</td>\n",
       "      <td>-4.13</td>\n",
       "      <td>33.490002</td>\n",
       "      <td>KHQM</td>\n",
       "      <td>9</td>\n",
       "    </tr>\n",
       "    <tr>\n",
       "      <th>2</th>\n",
       "      <td>2005</td>\n",
       "      <td>54964</td>\n",
       "      <td>101</td>\n",
       "      <td>0.53</td>\n",
       "      <td>0.63</td>\n",
       "      <td>1996</td>\n",
       "      <td>RESURFACE EXISTING RDWY</td>\n",
       "      <td>AA</td>\n",
       "      <td>ACP CLASS A AR4000W</td>\n",
       "      <td>0.15</td>\n",
       "      <td>...</td>\n",
       "      <td>35649.988229</td>\n",
       "      <td>0073c3c3-1b5a-40af-a002-022c09a2875d</td>\n",
       "      <td>AA</td>\n",
       "      <td>46.242524</td>\n",
       "      <td>-123.886017</td>\n",
       "      <td>188.020004</td>\n",
       "      <td>-4.41</td>\n",
       "      <td>33.029999</td>\n",
       "      <td>KHQM</td>\n",
       "      <td>4</td>\n",
       "    </tr>\n",
       "    <tr>\n",
       "      <th>3</th>\n",
       "      <td>2006</td>\n",
       "      <td>54964</td>\n",
       "      <td>101</td>\n",
       "      <td>0.53</td>\n",
       "      <td>0.63</td>\n",
       "      <td>1996</td>\n",
       "      <td>RESURFACE EXISTING RDWY</td>\n",
       "      <td>AA</td>\n",
       "      <td>ACP CLASS A AR4000W</td>\n",
       "      <td>0.15</td>\n",
       "      <td>...</td>\n",
       "      <td>35979.602372</td>\n",
       "      <td>0073c3c3-1b5a-40af-a002-022c09a2875d</td>\n",
       "      <td>AA</td>\n",
       "      <td>46.242524</td>\n",
       "      <td>-123.886017</td>\n",
       "      <td>251.809998</td>\n",
       "      <td>-3.32</td>\n",
       "      <td>34.799999</td>\n",
       "      <td>KHQM</td>\n",
       "      <td>4</td>\n",
       "    </tr>\n",
       "    <tr>\n",
       "      <th>4</th>\n",
       "      <td>2007</td>\n",
       "      <td>54964</td>\n",
       "      <td>101</td>\n",
       "      <td>0.53</td>\n",
       "      <td>0.63</td>\n",
       "      <td>1996</td>\n",
       "      <td>RESURFACE EXISTING RDWY</td>\n",
       "      <td>AA</td>\n",
       "      <td>ACP CLASS A AR4000W</td>\n",
       "      <td>0.15</td>\n",
       "      <td>...</td>\n",
       "      <td>36506.698358</td>\n",
       "      <td>0073c3c3-1b5a-40af-a002-022c09a2875d</td>\n",
       "      <td>AA</td>\n",
       "      <td>46.242524</td>\n",
       "      <td>-123.886017</td>\n",
       "      <td>173.809998</td>\n",
       "      <td>-4.77</td>\n",
       "      <td>34.380001</td>\n",
       "      <td>KHQM</td>\n",
       "      <td>9</td>\n",
       "    </tr>\n",
       "  </tbody>\n",
       "</table>\n",
       "<p>5 rows × 47 columns</p>\n",
       "</div>"
      ],
      "text/plain": [
       "   YearC  Int ID   SR  Begin ARM  End ARM  Year Contract Type Description  \\\n",
       "0   2003   54964  101       0.53     0.63  1996   RESURFACE EXISTING RDWY   \n",
       "1   2004   54964  101       0.53     0.63  1996   RESURFACE EXISTING RDWY   \n",
       "2   2005   54964  101       0.53     0.63  1996   RESURFACE EXISTING RDWY   \n",
       "3   2006   54964  101       0.53     0.63  1996   RESURFACE EXISTING RDWY   \n",
       "4   2007   54964  101       0.53     0.63  1996   RESURFACE EXISTING RDWY   \n",
       "\n",
       "  Surface Type Code Surface Type Description  Surface Thickness   ...     \\\n",
       "0                AA      ACP CLASS A AR4000W               0.15   ...      \n",
       "1                AA      ACP CLASS A AR4000W               0.15   ...      \n",
       "2                AA      ACP CLASS A AR4000W               0.15   ...      \n",
       "3                AA      ACP CLASS A AR4000W               0.15   ...      \n",
       "4                AA      ACP CLASS A AR4000W               0.15   ...      \n",
       "\n",
       "          ESALs                   Contract History ID  STcode   Latitude  \\\n",
       "0  40724.540843  0073c3c3-1b5a-40af-a002-022c09a2875d      AA  46.242524   \n",
       "1  35842.303869  0073c3c3-1b5a-40af-a002-022c09a2875d      AA  46.242524   \n",
       "2  35649.988229  0073c3c3-1b5a-40af-a002-022c09a2875d      AA  46.242524   \n",
       "3  35979.602372  0073c3c3-1b5a-40af-a002-022c09a2875d      AA  46.242524   \n",
       "4  36506.698358  0073c3c3-1b5a-40af-a002-022c09a2875d      AA  46.242524   \n",
       "\n",
       "    Longitude         PPT  MinTemp    MaxTemp  ICAO FTCycles  \n",
       "0 -123.886017  185.619995    -2.08  34.279999  KHQM        2  \n",
       "1 -123.886017  215.160004    -4.13  33.490002  KHQM        9  \n",
       "2 -123.886017  188.020004    -4.41  33.029999  KHQM        4  \n",
       "3 -123.886017  251.809998    -3.32  34.799999  KHQM        4  \n",
       "4 -123.886017  173.809998    -4.77  34.380001  KHQM        9  \n",
       "\n",
       "[5 rows x 47 columns]"
      ]
     },
     "execution_count": 106,
     "metadata": {},
     "output_type": "execute_result"
    }
   ],
   "source": [
    "db.head()"
   ]
  },
  {
   "cell_type": "code",
   "execution_count": 105,
   "metadata": {
    "collapsed": false
   },
   "outputs": [],
   "source": [
    "db['FTCycles'] = db.apply(getFTCycles, axis = 1)"
   ]
  },
  {
   "cell_type": "code",
   "execution_count": 107,
   "metadata": {
    "collapsed": true
   },
   "outputs": [],
   "source": [
    "db.to_excel('../DataFiles/completeDataset.xlsx')"
   ]
  },
  {
   "cell_type": "code",
   "execution_count": null,
   "metadata": {
    "collapsed": true
   },
   "outputs": [],
   "source": []
  }
 ],
 "metadata": {
  "kernelspec": {
   "display_name": "Python 2",
   "language": "python",
   "name": "python2"
  },
  "language_info": {
   "codemirror_mode": {
    "name": "ipython",
    "version": 2
   },
   "file_extension": ".py",
   "mimetype": "text/x-python",
   "name": "python",
   "nbconvert_exporter": "python",
   "pygments_lexer": "ipython2",
   "version": "2.7.9"
  }
 },
 "nbformat": 4,
 "nbformat_minor": 0
}
