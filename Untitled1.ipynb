{
 "cells": [
  {
   "cell_type": "code",
   "execution_count": 1,
   "metadata": {
    "collapsed": true
   },
   "outputs": [],
   "source": [
    "import pandas as pd\n",
    "import numpy as np"
   ]
  },
  {
   "cell_type": "code",
   "execution_count": 2,
   "metadata": {
    "collapsed": true
   },
   "outputs": [],
   "source": [
    "df = pd.read_csv('../FinalDatasets/workingDataset.csv')"
   ]
  },
  {
   "cell_type": "code",
   "execution_count": 3,
   "metadata": {
    "collapsed": true
   },
   "outputs": [],
   "source": [
    "ds = pd.read_csv('../FinalDatasets/CPMdataset.csv')"
   ]
  },
  {
   "cell_type": "code",
   "execution_count": 4,
   "metadata": {
    "collapsed": false
   },
   "outputs": [
    {
     "data": {
      "text/html": [
       "<div>\n",
       "<table border=\"1\" class=\"dataframe\">\n",
       "  <thead>\n",
       "    <tr style=\"text-align: right;\">\n",
       "      <th></th>\n",
       "      <th>Unnamed: 0</th>\n",
       "      <th>sYear</th>\n",
       "      <th>Rutting</th>\n",
       "      <th>IRI</th>\n",
       "      <th>PSC</th>\n",
       "      <th>IntID</th>\n",
       "      <th>Alli</th>\n",
       "      <th>Long</th>\n",
       "      <th>Low Flexible Patching</th>\n",
       "      <th>Medium Flexible Patching</th>\n",
       "      <th>...</th>\n",
       "      <th>Total Surface Thickness</th>\n",
       "      <th>Listed Surface Type</th>\n",
       "      <th>Pavement Type</th>\n",
       "      <th>Construction Pavement Type</th>\n",
       "      <th>Major Rehab Type</th>\n",
       "      <th>Prior Major Rehab Year</th>\n",
       "      <th>Prior Major Rehab Type</th>\n",
       "      <th>AlliP</th>\n",
       "      <th>LongP</th>\n",
       "      <th>STcode</th>\n",
       "    </tr>\n",
       "  </thead>\n",
       "  <tbody>\n",
       "    <tr>\n",
       "      <th>0</th>\n",
       "      <td>0</td>\n",
       "      <td>1981</td>\n",
       "      <td>0.236</td>\n",
       "      <td>190.039</td>\n",
       "      <td>92</td>\n",
       "      <td>4</td>\n",
       "      <td>0</td>\n",
       "      <td>46</td>\n",
       "      <td>0</td>\n",
       "      <td>0</td>\n",
       "      <td>...</td>\n",
       "      <td>0.15</td>\n",
       "      <td>ACP</td>\n",
       "      <td>Composite</td>\n",
       "      <td>PCCP</td>\n",
       "      <td>ACP</td>\n",
       "      <td>1989</td>\n",
       "      <td>ACP</td>\n",
       "      <td>0.000000</td>\n",
       "      <td>3.960055</td>\n",
       "      <td>PA</td>\n",
       "    </tr>\n",
       "    <tr>\n",
       "      <th>1</th>\n",
       "      <td>1</td>\n",
       "      <td>1981</td>\n",
       "      <td>0.236</td>\n",
       "      <td>190.039</td>\n",
       "      <td>92</td>\n",
       "      <td>4</td>\n",
       "      <td>0</td>\n",
       "      <td>46</td>\n",
       "      <td>0</td>\n",
       "      <td>0</td>\n",
       "      <td>...</td>\n",
       "      <td>0.15</td>\n",
       "      <td>ACP</td>\n",
       "      <td>Composite</td>\n",
       "      <td>PCCP</td>\n",
       "      <td>ACP</td>\n",
       "      <td>1989</td>\n",
       "      <td>ACP</td>\n",
       "      <td>0.000000</td>\n",
       "      <td>3.960055</td>\n",
       "      <td>BA</td>\n",
       "    </tr>\n",
       "    <tr>\n",
       "      <th>2</th>\n",
       "      <td>2</td>\n",
       "      <td>1981</td>\n",
       "      <td>0.236</td>\n",
       "      <td>190.039</td>\n",
       "      <td>92</td>\n",
       "      <td>4</td>\n",
       "      <td>0</td>\n",
       "      <td>46</td>\n",
       "      <td>0</td>\n",
       "      <td>0</td>\n",
       "      <td>...</td>\n",
       "      <td>0.15</td>\n",
       "      <td>ACP</td>\n",
       "      <td>Composite</td>\n",
       "      <td>PCCP</td>\n",
       "      <td>ACP</td>\n",
       "      <td>1989</td>\n",
       "      <td>ACP</td>\n",
       "      <td>0.000000</td>\n",
       "      <td>3.960055</td>\n",
       "      <td>Other</td>\n",
       "    </tr>\n",
       "    <tr>\n",
       "      <th>3</th>\n",
       "      <td>3</td>\n",
       "      <td>1981</td>\n",
       "      <td>0.236</td>\n",
       "      <td>226.083</td>\n",
       "      <td>83</td>\n",
       "      <td>12</td>\n",
       "      <td>0</td>\n",
       "      <td>0</td>\n",
       "      <td>0</td>\n",
       "      <td>16</td>\n",
       "      <td>...</td>\n",
       "      <td>0.90</td>\n",
       "      <td>ACP</td>\n",
       "      <td>ACP</td>\n",
       "      <td>Unknown</td>\n",
       "      <td>ACP</td>\n",
       "      <td>1984</td>\n",
       "      <td>ACP</td>\n",
       "      <td>0.000000</td>\n",
       "      <td>0.000000</td>\n",
       "      <td>Other</td>\n",
       "    </tr>\n",
       "    <tr>\n",
       "      <th>4</th>\n",
       "      <td>4</td>\n",
       "      <td>1981</td>\n",
       "      <td>0.512</td>\n",
       "      <td>245.150</td>\n",
       "      <td>37</td>\n",
       "      <td>24</td>\n",
       "      <td>63</td>\n",
       "      <td>158</td>\n",
       "      <td>52</td>\n",
       "      <td>0</td>\n",
       "      <td>...</td>\n",
       "      <td>0.98</td>\n",
       "      <td>ACP</td>\n",
       "      <td>Composite</td>\n",
       "      <td>PCCP</td>\n",
       "      <td>ACP</td>\n",
       "      <td>1987</td>\n",
       "      <td>ACP</td>\n",
       "      <td>5.965909</td>\n",
       "      <td>14.962121</td>\n",
       "      <td>BA</td>\n",
       "    </tr>\n",
       "  </tbody>\n",
       "</table>\n",
       "<p>5 rows × 52 columns</p>\n",
       "</div>"
      ],
      "text/plain": [
       "   Unnamed: 0  sYear  Rutting      IRI  PSC  IntID  Alli  Long  \\\n",
       "0           0   1981    0.236  190.039   92      4     0    46   \n",
       "1           1   1981    0.236  190.039   92      4     0    46   \n",
       "2           2   1981    0.236  190.039   92      4     0    46   \n",
       "3           3   1981    0.236  226.083   83     12     0     0   \n",
       "4           4   1981    0.512  245.150   37     24    63   158   \n",
       "\n",
       "   Low Flexible Patching  Medium Flexible Patching  ...    \\\n",
       "0                      0                         0  ...     \n",
       "1                      0                         0  ...     \n",
       "2                      0                         0  ...     \n",
       "3                      0                        16  ...     \n",
       "4                     52                         0  ...     \n",
       "\n",
       "   Total Surface Thickness  Listed Surface Type  Pavement Type  \\\n",
       "0                     0.15                  ACP      Composite   \n",
       "1                     0.15                  ACP      Composite   \n",
       "2                     0.15                  ACP      Composite   \n",
       "3                     0.90                  ACP            ACP   \n",
       "4                     0.98                  ACP      Composite   \n",
       "\n",
       "   Construction Pavement Type  Major Rehab Type  Prior Major Rehab Year  \\\n",
       "0                        PCCP               ACP                    1989   \n",
       "1                        PCCP               ACP                    1989   \n",
       "2                        PCCP               ACP                    1989   \n",
       "3                     Unknown               ACP                    1984   \n",
       "4                        PCCP               ACP                    1987   \n",
       "\n",
       "   Prior Major Rehab Type     AlliP      LongP STcode  \n",
       "0                     ACP  0.000000   3.960055     PA  \n",
       "1                     ACP  0.000000   3.960055     BA  \n",
       "2                     ACP  0.000000   3.960055  Other  \n",
       "3                     ACP  0.000000   0.000000  Other  \n",
       "4                     ACP  5.965909  14.962121     BA  \n",
       "\n",
       "[5 rows x 52 columns]"
      ]
     },
     "execution_count": 4,
     "metadata": {},
     "output_type": "execute_result"
    }
   ],
   "source": [
    "ds.head()"
   ]
  },
  {
   "cell_type": "code",
   "execution_count": 5,
   "metadata": {
    "collapsed": false
   },
   "outputs": [
    {
     "data": {
      "text/plain": [
       "Index([u'Unnamed: 0', u'sYear', u'Rutting', u'IRI', u'PSC', u'IntID', u'Alli',\n",
       "       u'Long', u'Low Flexible Patching', u'Medium Flexible Patching',\n",
       "       u'High Flexible Patching', u'Low Flexible Transverse Cracking',\n",
       "       u'Medium Flexible Transverse Cracking',\n",
       "       u'High Flexible Transverse Cracking', u'SR', u'Begin ARM', u'End ARM',\n",
       "       u'UID', u'Is Bridge', u'Lane Surface Type', u'Lane Miles', u'Region_x',\n",
       "       u'Federal Functional Class', u'Construction End Date',\n",
       "       u'Substantial Completion Date', u'Contract Type Description',\n",
       "       u'Surface Type Code', u'Surface Type Description', u'Surface Thickness',\n",
       "       u'Treat Base Type Code', u'Treat Base Type Description',\n",
       "       u'Treat Base Thickness', u'UTreat Base Thickness', u'cYear',\n",
       "       u'Traffic Year', u'ESALs', u'Contract History ID', u'Construction Year',\n",
       "       u'Major Rehab Year', u'Segment Lane Miles', u'ESALs Since Major Rehab',\n",
       "       u'Total Thickness', u'Total Surface Thickness', u'Listed Surface Type',\n",
       "       u'Pavement Type', u'Construction Pavement Type', u'Major Rehab Type',\n",
       "       u'Prior Major Rehab Year', u'Prior Major Rehab Type', u'AlliP',\n",
       "       u'LongP', u'STcode'],\n",
       "      dtype='object')"
      ]
     },
     "execution_count": 5,
     "metadata": {},
     "output_type": "execute_result"
    }
   ],
   "source": [
    "ds.columns"
   ]
  },
  {
   "cell_type": "code",
   "execution_count": 6,
   "metadata": {
    "collapsed": true
   },
   "outputs": [],
   "source": [
    "ds.loc[:, 'Patching'] = np.array(ds.loc[:, 'Low Flexible Patching']) + np.array(ds.loc[:, 'Medium Flexible Patching']\n",
    "                        ) + np.array(ds.loc[:, 'High Flexible Patching'])"
   ]
  },
  {
   "cell_type": "code",
   "execution_count": 7,
   "metadata": {
    "collapsed": true
   },
   "outputs": [],
   "source": [
    "ds.loc[:, 'Trans_Cracking'] = np.array(ds.loc[:, 'Low Flexible Transverse Cracking']) + np.array(ds.loc[:, 'Medium Flexible Transverse Cracking']\n",
    "                        ) + np.array(ds.loc[:, 'High Flexible Transverse Cracking'])"
   ]
  },
  {
   "cell_type": "code",
   "execution_count": 8,
   "metadata": {
    "collapsed": false
   },
   "outputs": [],
   "source": [
    "ds.loc[:,'iri'] = np.array(ds.IRI) *0.0833333"
   ]
  },
  {
   "cell_type": "code",
   "execution_count": 9,
   "metadata": {
    "collapsed": false
   },
   "outputs": [],
   "source": [
    "ds2 = ds[[u'UID', u'sYear', u'Rutting', u'iri', u'PSC',  u'AlliP',u'LongP', u'Trans_Cracking',\n",
    "       u'Is Bridge', u'Surface Thickness', u'Total Thickness', u'Total Surface Thickness', u'STcode', ]]"
   ]
  },
  {
   "cell_type": "code",
   "execution_count": 10,
   "metadata": {
    "collapsed": false
   },
   "outputs": [],
   "source": [
    "ds2.columns = [u'UID', u'sYear', u'Rutting', u'IRI', u'PSC',  u'AlliP',u'LongP', u'Trans_Cracking',\n",
    "       u'IsBridge', u'sfThick', u'Tthick', u'TSfThick', u'STcode']"
   ]
  },
  {
   "cell_type": "code",
   "execution_count": 11,
   "metadata": {
    "collapsed": false
   },
   "outputs": [],
   "source": [
    "import statsmodels.api as sm\n",
    "import matplotlib.pyplot as plt\n",
    "from statsmodels.sandbox.regression.predstd import wls_prediction_std\n",
    "%matplotlib inline "
   ]
  },
  {
   "cell_type": "code",
   "execution_count": 12,
   "metadata": {
    "collapsed": false
   },
   "outputs": [
    {
     "ename": "AttributeError",
     "evalue": "'module' object has no attribute 'ols'",
     "output_type": "error",
     "traceback": [
      "\u001b[0;31m---------------------------------------------------------------------------\u001b[0m",
      "\u001b[0;31mAttributeError\u001b[0m                            Traceback (most recent call last)",
      "\u001b[0;32m<ipython-input-12-a2701ffa7993>\u001b[0m in \u001b[0;36m<module>\u001b[0;34m()\u001b[0m\n\u001b[0;32m----> 1\u001b[0;31m result = sm.ols(formula=\"IRI ~ AlliP + LongP + Trans_Cracking + sfThick + Tthick + Rutting + C(IsBridge) + C(STcode)\",\n\u001b[0m\u001b[1;32m      2\u001b[0m                 data=ds2).fit()\n",
      "\u001b[0;31mAttributeError\u001b[0m: 'module' object has no attribute 'ols'"
     ]
    }
   ],
   "source": [
    "result = sm.ols(formula=\"IRI ~ AlliP + LongP + Trans_Cracking + sfThick + Tthick + Rutting + C(IsBridge) + C(STcode)\",\n",
    "                data=ds2).fit()"
   ]
  },
  {
   "cell_type": "code",
   "execution_count": null,
   "metadata": {
    "collapsed": false
   },
   "outputs": [],
   "source": [
    "print result.summary()"
   ]
  },
  {
   "cell_type": "code",
   "execution_count": null,
   "metadata": {
    "collapsed": false
   },
   "outputs": [],
   "source": [
    "ds3 = ds2.copy()\n",
    "ds3 = ds3.drop_duplicates(subset = ['UID', 'sYear'])"
   ]
  },
  {
   "cell_type": "code",
   "execution_count": null,
   "metadata": {
    "collapsed": true
   },
   "outputs": [],
   "source": [
    "arrays = [np.array(ds3.sYear), np.array(ds3.UID)]"
   ]
  },
  {
   "cell_type": "code",
   "execution_count": null,
   "metadata": {
    "collapsed": true
   },
   "outputs": [],
   "source": [
    "ds3.to_csv('../FinalDatasets/RdatasetCPM.csv')"
   ]
  },
  {
   "cell_type": "code",
   "execution_count": null,
   "metadata": {
    "collapsed": true
   },
   "outputs": [],
   "source": [
    "newIndex = list(zip(*arrays))"
   ]
  },
  {
   "cell_type": "code",
   "execution_count": null,
   "metadata": {
    "collapsed": true
   },
   "outputs": [],
   "source": [
    "index = pd.MultiIndex.from_tuples(newIndex, names=['Year', 'ID'])"
   ]
  },
  {
   "cell_type": "code",
   "execution_count": null,
   "metadata": {
    "collapsed": true
   },
   "outputs": [],
   "source": [
    "ds3.index = index"
   ]
  },
  {
   "cell_type": "code",
   "execution_count": null,
   "metadata": {
    "collapsed": false
   },
   "outputs": [],
   "source": [
    "ds3.head()"
   ]
  },
  {
   "cell_type": "code",
   "execution_count": null,
   "metadata": {
    "collapsed": true
   },
   "outputs": [],
   "source": [
    "from pandas.stats.plm import PanelOLS"
   ]
  },
  {
   "cell_type": "code",
   "execution_count": null,
   "metadata": {
    "collapsed": false
   },
   "outputs": [],
   "source": [
    "FE_reg = PanelOLS(y=ds3['IRI'],x=ds3[['AlliP']],time_effects=True)"
   ]
  },
  {
   "cell_type": "code",
   "execution_count": null,
   "metadata": {
    "collapsed": false
   },
   "outputs": [],
   "source": [
    "print FE_reg"
   ]
  },
  {
   "cell_type": "code",
   "execution_count": null,
   "metadata": {
    "collapsed": false
   },
   "outputs": [],
   "source": [
    "FE_reg2 = PanelOLS(y=ds3['IRI'],x=ds3[['AlliP','LongP', 'Trans_Cracking', 'sfThick', 'Tthick', 'Rutting', 'IsBridge']], time_effects = True)"
   ]
  },
  {
   "cell_type": "code",
   "execution_count": null,
   "metadata": {
    "collapsed": false
   },
   "outputs": [],
   "source": [
    "print FE_reg2"
   ]
  },
  {
   "cell_type": "code",
   "execution_count": null,
   "metadata": {
    "collapsed": true
   },
   "outputs": [],
   "source": [
    "result2 = sm.ols(formula=\"AlliP ~ LongP + Trans_Cracking + sfThick + Tthick + Rutting + C(IsBridge) + C(STcode)\",\n",
    "                data=ds3).fit()"
   ]
  },
  {
   "cell_type": "code",
   "execution_count": null,
   "metadata": {
    "collapsed": false
   },
   "outputs": [],
   "source": [
    "print result2.summary()"
   ]
  },
  {
   "cell_type": "code",
   "execution_count": null,
   "metadata": {
    "collapsed": true
   },
   "outputs": [],
   "source": [
    "ds3.loc[:, 'AlliPred'] = result2.predict()"
   ]
  },
  {
   "cell_type": "code",
   "execution_count": null,
   "metadata": {
    "collapsed": false
   },
   "outputs": [],
   "source": [
    "result3 = sm.ols(formula=\"IRI ~ AlliP + LongP + Trans_Cracking + sfThick + Tthick + Rutting + C(IsBridge) + C(STcode)\",\n",
    "                data=ds3).fit()"
   ]
  },
  {
   "cell_type": "code",
   "execution_count": null,
   "metadata": {
    "collapsed": false
   },
   "outputs": [],
   "source": [
    "print result3.summary()"
   ]
  },
  {
   "cell_type": "code",
   "execution_count": null,
   "metadata": {
    "collapsed": false
   },
   "outputs": [],
   "source": [
    "prstd, iv_l, iv_u = wls_prediction_std(result3)\n",
    "\n",
    "fig, ax = plt.subplots(figsize=(8,6))\n",
    "\n",
    "ax.plot(ds3.AlliP, ds3.IRI, 'o', label=\"data\")\n",
    "# ax.plot(ds3.AlliP, y_true, 'b-', label=\"True\")\n",
    "ax.plot(ds3.AlliP, result3.fittedvalues, 'r--.', label=\"OLS\")\n",
    "# ax.plot(ds3.AlliP, iv_u, 'r--')\n",
    "# ax.plot(ds3.AlliP, iv_l, 'r--')\n",
    "ax.legend(loc='best');"
   ]
  },
  {
   "cell_type": "code",
   "execution_count": null,
   "metadata": {
    "collapsed": true
   },
   "outputs": [],
   "source": []
  },
  {
   "cell_type": "code",
   "execution_count": null,
   "metadata": {
    "collapsed": true
   },
   "outputs": [],
   "source": []
  }
 ],
 "metadata": {
  "kernelspec": {
   "display_name": "Python 2",
   "language": "python",
   "name": "python2"
  },
  "language_info": {
   "codemirror_mode": {
    "name": "ipython",
    "version": 2
   },
   "file_extension": ".py",
   "mimetype": "text/x-python",
   "name": "python",
   "nbconvert_exporter": "python",
   "pygments_lexer": "ipython2",
   "version": "2.7.9"
  }
 },
 "nbformat": 4,
 "nbformat_minor": 0
}
