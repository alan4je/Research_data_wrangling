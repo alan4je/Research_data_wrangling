{
 "cells": [
  {
   "cell_type": "code",
   "execution_count": 1,
   "metadata": {
    "collapsed": true
   },
   "outputs": [],
   "source": [
    "import numpy as np\n",
    "import pandas as pd\n",
    "import xlsxwriter"
   ]
  },
  {
   "cell_type": "code",
   "execution_count": 5,
   "metadata": {
    "collapsed": true
   },
   "outputs": [],
   "source": [
    "# up2data Dataset\n",
    "ds = pd.read_excel(\"../DataFiles/wholeDataset.xlsx\") \n",
    "# Rates of increment for ESALs\n",
    "de = pd.read_excel(\"../DataFiles/EsalIncrements.xlsx\") \n",
    "# Traffic Dataset\n",
    "dt = pd.read_excel(\"../DataFiles/Traffic to Contract History.xlsx\") "
   ]
  },
  {
   "cell_type": "code",
   "execution_count": 6,
   "metadata": {
    "collapsed": false
   },
   "outputs": [
    {
     "data": {
      "text/html": [
       "<div>\n",
       "<table border=\"1\" class=\"dataframe\">\n",
       "  <thead>\n",
       "    <tr style=\"text-align: right;\">\n",
       "      <th></th>\n",
       "      <th>Traffic Year</th>\n",
       "      <th>AADT</th>\n",
       "      <th>Single Trucks</th>\n",
       "      <th>Double Trucks</th>\n",
       "      <th>Train Trucks</th>\n",
       "      <th>Peak Hour Percentage</th>\n",
       "      <th>Peak Hour Directional Split</th>\n",
       "      <th>Traffic Year ESALs _One Direction_</th>\n",
       "      <th>Percent Trucks</th>\n",
       "      <th>Contract History ID</th>\n",
       "    </tr>\n",
       "  </thead>\n",
       "  <tbody>\n",
       "    <tr>\n",
       "      <th>0</th>\n",
       "      <td>2013</td>\n",
       "      <td>31462</td>\n",
       "      <td>843</td>\n",
       "      <td>280</td>\n",
       "      <td>22</td>\n",
       "      <td>7.86</td>\n",
       "      <td>50.99</td>\n",
       "      <td>119738</td>\n",
       "      <td>3.64</td>\n",
       "      <td>7fbae59b-6ee6-4419-acb0-1db37aacd5f4</td>\n",
       "    </tr>\n",
       "    <tr>\n",
       "      <th>1</th>\n",
       "      <td>2013</td>\n",
       "      <td>23939</td>\n",
       "      <td>642</td>\n",
       "      <td>213</td>\n",
       "      <td>17</td>\n",
       "      <td>7.87</td>\n",
       "      <td>53.53</td>\n",
       "      <td>91031</td>\n",
       "      <td>3.64</td>\n",
       "      <td>39483404-7908-4e89-ade2-bec2391a60b6</td>\n",
       "    </tr>\n",
       "    <tr>\n",
       "      <th>2</th>\n",
       "      <td>2013</td>\n",
       "      <td>23939</td>\n",
       "      <td>642</td>\n",
       "      <td>213</td>\n",
       "      <td>17</td>\n",
       "      <td>7.87</td>\n",
       "      <td>53.53</td>\n",
       "      <td>91031</td>\n",
       "      <td>3.64</td>\n",
       "      <td>520f0233-9842-4d00-b92e-a10522a50102</td>\n",
       "    </tr>\n",
       "    <tr>\n",
       "      <th>3</th>\n",
       "      <td>2013</td>\n",
       "      <td>19593</td>\n",
       "      <td>525</td>\n",
       "      <td>174</td>\n",
       "      <td>14</td>\n",
       "      <td>8.00</td>\n",
       "      <td>52.73</td>\n",
       "      <td>74348</td>\n",
       "      <td>3.64</td>\n",
       "      <td>f042adcf-fe53-4442-be3c-66080c43e0e7</td>\n",
       "    </tr>\n",
       "    <tr>\n",
       "      <th>4</th>\n",
       "      <td>2013</td>\n",
       "      <td>20944</td>\n",
       "      <td>561</td>\n",
       "      <td>186</td>\n",
       "      <td>15</td>\n",
       "      <td>8.02</td>\n",
       "      <td>53.16</td>\n",
       "      <td>79442</td>\n",
       "      <td>3.64</td>\n",
       "      <td>5a9fd6df-7564-4251-a8ee-69f18e1f6e70</td>\n",
       "    </tr>\n",
       "  </tbody>\n",
       "</table>\n",
       "</div>"
      ],
      "text/plain": [
       "   Traffic Year   AADT  Single Trucks  Double Trucks  Train Trucks  \\\n",
       "0          2013  31462            843            280            22   \n",
       "1          2013  23939            642            213            17   \n",
       "2          2013  23939            642            213            17   \n",
       "3          2013  19593            525            174            14   \n",
       "4          2013  20944            561            186            15   \n",
       "\n",
       "   Peak Hour Percentage  Peak Hour Directional Split  \\\n",
       "0                  7.86                        50.99   \n",
       "1                  7.87                        53.53   \n",
       "2                  7.87                        53.53   \n",
       "3                  8.00                        52.73   \n",
       "4                  8.02                        53.16   \n",
       "\n",
       "   Traffic Year ESALs _One Direction_  Percent Trucks  \\\n",
       "0                              119738            3.64   \n",
       "1                               91031            3.64   \n",
       "2                               91031            3.64   \n",
       "3                               74348            3.64   \n",
       "4                               79442            3.64   \n",
       "\n",
       "                    Contract History ID  \n",
       "0  7fbae59b-6ee6-4419-acb0-1db37aacd5f4  \n",
       "1  39483404-7908-4e89-ade2-bec2391a60b6  \n",
       "2  520f0233-9842-4d00-b92e-a10522a50102  \n",
       "3  f042adcf-fe53-4442-be3c-66080c43e0e7  \n",
       "4  5a9fd6df-7564-4251-a8ee-69f18e1f6e70  "
      ]
     },
     "execution_count": 6,
     "metadata": {},
     "output_type": "execute_result"
    }
   ],
   "source": [
    "dt.head()"
   ]
  },
  {
   "cell_type": "code",
   "execution_count": 9,
   "metadata": {
    "collapsed": true
   },
   "outputs": [],
   "source": [
    "dts = dt[['Contract History ID','Traffic Year ESALs _One Direction_']]"
   ]
  },
  {
   "cell_type": "code",
   "execution_count": 11,
   "metadata": {
    "collapsed": true
   },
   "outputs": [],
   "source": [
    "dts.columns = ['CH_ID', '2013']"
   ]
  },
  {
   "cell_type": "code",
   "execution_count": 29,
   "metadata": {
    "collapsed": false
   },
   "outputs": [],
   "source": [
    "# dts.head()"
   ]
  },
  {
   "cell_type": "code",
   "execution_count": 16,
   "metadata": {
    "collapsed": true
   },
   "outputs": [],
   "source": [
    "dd = pd.merge(dts, ds, how = 'left',left_on = ['CH_ID'], right_on = ['Contract History ID'])"
   ]
  },
  {
   "cell_type": "code",
   "execution_count": 22,
   "metadata": {
    "collapsed": true
   },
   "outputs": [],
   "source": [
    "dn = dd.dropna(axis=0, how='any', thresh=None, subset=['ESALs'], inplace=False)"
   ]
  },
  {
   "cell_type": "code",
   "execution_count": 26,
   "metadata": {
    "collapsed": false
   },
   "outputs": [
    {
     "name": "stdout",
     "output_type": "stream",
     "text": [
      "21892\n",
      "972\n"
     ]
    }
   ],
   "source": [
    "print len(dts) \n",
    "print len(dc)"
   ]
  },
  {
   "cell_type": "code",
   "execution_count": 33,
   "metadata": {
    "collapsed": false
   },
   "outputs": [
    {
     "data": {
      "text/plain": [
       "Index([                     u'CH_ID',                       u'2013',\n",
       "                            u'YearC',           u'Sealed Alligator',\n",
       "              u'Sealed Longitudinal',                     u'Int ID',\n",
       "                               u'SR',                  u'Begin ARM',\n",
       "                          u'End ARM',                       u'Year',\n",
       "        u'Contract Type Description',          u'Surface Type Code',\n",
       "         u'Surface Type Description',          u'Surface Thickness',\n",
       "                           u'Region',                       u'ID_y',\n",
       "                u'Construction Year',           u'Major Rehab Year',\n",
       "               u'Segment Lane Miles',    u'ESALs Since Major Rehab',\n",
       "                  u'Total Thickness',    u'Total Surface Thickness',\n",
       "                    u'Pavement Type', u'Construction Pavement Type',\n",
       "                 u'Major Rehab Type',     u'Prior Major Rehab Year',\n",
       "           u'Prior Major Rehab Type',                u'Original ID',\n",
       "                        u'Is Bridge',          u'Lane Surface Type',\n",
       "                       u'Lane Miles',   u'Federal Functional Class',\n",
       "            u'Avg Construction Date',       u'Avg Major Rehab Date',\n",
       "                             u'Alli',                    u'CatAlli',\n",
       "                             u'Long',                    u'CatLong',\n",
       "                            u'AlliP',                      u'LongP',\n",
       "                     u'Traffic Year',                      u'ESALs',\n",
       "              u'Contract History ID',                     u'STcode',\n",
       "                         u'Latitude',                  u'Longitude'],\n",
       "      dtype='object')"
      ]
     },
     "execution_count": 33,
     "metadata": {},
     "output_type": "execute_result"
    }
   ],
   "source": [
    "dc.columns"
   ]
  },
  {
   "cell_type": "code",
   "execution_count": 25,
   "metadata": {
    "collapsed": true
   },
   "outputs": [],
   "source": [
    "dc = dn.drop_duplicates(subset = ['CH_ID', '2013'])\n",
    "df = dc[['CH_ID', '2013','Federal Functional Class']]"
   ]
  },
  {
   "cell_type": "code",
   "execution_count": 55,
   "metadata": {
    "collapsed": false
   },
   "outputs": [
    {
     "data": {
      "text/html": [
       "<div>\n",
       "<table border=\"1\" class=\"dataframe\">\n",
       "  <thead>\n",
       "    <tr style=\"text-align: right;\">\n",
       "      <th></th>\n",
       "      <th>CH_ID</th>\n",
       "      <th>2013</th>\n",
       "      <th>Federal Functional Class</th>\n",
       "      <th>Class</th>\n",
       "      <th>2012</th>\n",
       "      <th>2011</th>\n",
       "      <th>2010</th>\n",
       "      <th>2009</th>\n",
       "      <th>2008</th>\n",
       "      <th>2007</th>\n",
       "      <th>...</th>\n",
       "      <th>1990</th>\n",
       "      <th>1989</th>\n",
       "      <th>1988</th>\n",
       "      <th>1987</th>\n",
       "      <th>1986</th>\n",
       "      <th>1985</th>\n",
       "      <th>1984</th>\n",
       "      <th>1983</th>\n",
       "      <th>1982</th>\n",
       "      <th>1981</th>\n",
       "    </tr>\n",
       "  </thead>\n",
       "  <tbody>\n",
       "    <tr>\n",
       "      <th>13</th>\n",
       "      <td>a334aa88-2d7c-4dae-8e59-9d9c796c4738</td>\n",
       "      <td>89571</td>\n",
       "      <td>Rural Other Principal Arterial</td>\n",
       "      <td>Rural</td>\n",
       "      <td>97175.130469</td>\n",
       "      <td>98048.142333</td>\n",
       "      <td>99504.359719</td>\n",
       "      <td>98132.803734</td>\n",
       "      <td>94896.149115</td>\n",
       "      <td>99876.037832</td>\n",
       "      <td>...</td>\n",
       "      <td>83009.085013</td>\n",
       "      <td>78859.658089</td>\n",
       "      <td>76935.394240</td>\n",
       "      <td>73156.142656</td>\n",
       "      <td>69209.575422</td>\n",
       "      <td>64241.804757</td>\n",
       "      <td>64058.944905</td>\n",
       "      <td>64526.103522</td>\n",
       "      <td>61430.598164</td>\n",
       "      <td>60700.783305</td>\n",
       "    </tr>\n",
       "    <tr>\n",
       "      <th>32</th>\n",
       "      <td>9651414b-ef35-444c-9196-37d84f27bdb2</td>\n",
       "      <td>89571</td>\n",
       "      <td>Rural Other Principal Arterial</td>\n",
       "      <td>Rural</td>\n",
       "      <td>97175.130469</td>\n",
       "      <td>98048.142333</td>\n",
       "      <td>99504.359719</td>\n",
       "      <td>98132.803734</td>\n",
       "      <td>94896.149115</td>\n",
       "      <td>99876.037832</td>\n",
       "      <td>...</td>\n",
       "      <td>83009.085013</td>\n",
       "      <td>78859.658089</td>\n",
       "      <td>76935.394240</td>\n",
       "      <td>73156.142656</td>\n",
       "      <td>69209.575422</td>\n",
       "      <td>64241.804757</td>\n",
       "      <td>64058.944905</td>\n",
       "      <td>64526.103522</td>\n",
       "      <td>61430.598164</td>\n",
       "      <td>60700.783305</td>\n",
       "    </tr>\n",
       "    <tr>\n",
       "      <th>63</th>\n",
       "      <td>30c5f141-e251-40a1-9fb7-f2dc5ab7eb91</td>\n",
       "      <td>131236</td>\n",
       "      <td>Urban Other Principal Arterial</td>\n",
       "      <td>Urban</td>\n",
       "      <td>123124.325727</td>\n",
       "      <td>123988.516486</td>\n",
       "      <td>124853.225336</td>\n",
       "      <td>123929.396081</td>\n",
       "      <td>121837.870066</td>\n",
       "      <td>125858.956217</td>\n",
       "      <td>...</td>\n",
       "      <td>83341.850614</td>\n",
       "      <td>81588.425542</td>\n",
       "      <td>78574.807729</td>\n",
       "      <td>75334.264002</td>\n",
       "      <td>72193.109338</td>\n",
       "      <td>68008.981651</td>\n",
       "      <td>65469.116548</td>\n",
       "      <td>60378.619289</td>\n",
       "      <td>57013.419669</td>\n",
       "      <td>56303.477694</td>\n",
       "    </tr>\n",
       "    <tr>\n",
       "      <th>101</th>\n",
       "      <td>16a53660-621d-41d1-ab50-693e5c372af4</td>\n",
       "      <td>134794</td>\n",
       "      <td>Urban Other Principal Arterial</td>\n",
       "      <td>Urban</td>\n",
       "      <td>126462.406367</td>\n",
       "      <td>127350.026602</td>\n",
       "      <td>128238.178975</td>\n",
       "      <td>127289.303357</td>\n",
       "      <td>125141.073011</td>\n",
       "      <td>129271.176692</td>\n",
       "      <td>...</td>\n",
       "      <td>85601.370140</td>\n",
       "      <td>83800.407148</td>\n",
       "      <td>80705.085746</td>\n",
       "      <td>77376.686137</td>\n",
       "      <td>74150.370174</td>\n",
       "      <td>69852.804663</td>\n",
       "      <td>67244.080099</td>\n",
       "      <td>62015.572011</td>\n",
       "      <td>58559.136905</td>\n",
       "      <td>57829.947364</td>\n",
       "    </tr>\n",
       "    <tr>\n",
       "      <th>138</th>\n",
       "      <td>bb2f3296-263c-4489-bf0f-76dad424459a</td>\n",
       "      <td>119300</td>\n",
       "      <td>Urban Other Principal Arterial</td>\n",
       "      <td>Urban</td>\n",
       "      <td>111926.087805</td>\n",
       "      <td>112711.679849</td>\n",
       "      <td>113497.742864</td>\n",
       "      <td>112657.936484</td>\n",
       "      <td>110756.636128</td>\n",
       "      <td>114412.001865</td>\n",
       "      <td>...</td>\n",
       "      <td>75761.854813</td>\n",
       "      <td>74167.904898</td>\n",
       "      <td>71428.377595</td>\n",
       "      <td>68482.563438</td>\n",
       "      <td>65627.098845</td>\n",
       "      <td>61823.520307</td>\n",
       "      <td>59514.657595</td>\n",
       "      <td>54887.144390</td>\n",
       "      <td>51828.011876</td>\n",
       "      <td>51182.639587</td>\n",
       "    </tr>\n",
       "  </tbody>\n",
       "</table>\n",
       "<p>5 rows × 36 columns</p>\n",
       "</div>"
      ],
      "text/plain": [
       "                                    CH_ID    2013  \\\n",
       "13   a334aa88-2d7c-4dae-8e59-9d9c796c4738   89571   \n",
       "32   9651414b-ef35-444c-9196-37d84f27bdb2   89571   \n",
       "63   30c5f141-e251-40a1-9fb7-f2dc5ab7eb91  131236   \n",
       "101  16a53660-621d-41d1-ab50-693e5c372af4  134794   \n",
       "138  bb2f3296-263c-4489-bf0f-76dad424459a  119300   \n",
       "\n",
       "           Federal Functional Class  Class           2012           2011  \\\n",
       "13   Rural Other Principal Arterial  Rural   97175.130469   98048.142333   \n",
       "32   Rural Other Principal Arterial  Rural   97175.130469   98048.142333   \n",
       "63   Urban Other Principal Arterial  Urban  123124.325727  123988.516486   \n",
       "101  Urban Other Principal Arterial  Urban  126462.406367  127350.026602   \n",
       "138  Urban Other Principal Arterial  Urban  111926.087805  112711.679849   \n",
       "\n",
       "              2010           2009           2008           2007      ...       \\\n",
       "13    99504.359719   98132.803734   94896.149115   99876.037832      ...        \n",
       "32    99504.359719   98132.803734   94896.149115   99876.037832      ...        \n",
       "63   124853.225336  123929.396081  121837.870066  125858.956217      ...        \n",
       "101  128238.178975  127289.303357  125141.073011  129271.176692      ...        \n",
       "138  113497.742864  112657.936484  110756.636128  114412.001865      ...        \n",
       "\n",
       "             1990          1989          1988          1987          1986  \\\n",
       "13   83009.085013  78859.658089  76935.394240  73156.142656  69209.575422   \n",
       "32   83009.085013  78859.658089  76935.394240  73156.142656  69209.575422   \n",
       "63   83341.850614  81588.425542  78574.807729  75334.264002  72193.109338   \n",
       "101  85601.370140  83800.407148  80705.085746  77376.686137  74150.370174   \n",
       "138  75761.854813  74167.904898  71428.377595  68482.563438  65627.098845   \n",
       "\n",
       "             1985          1984          1983          1982          1981  \n",
       "13   64241.804757  64058.944905  64526.103522  61430.598164  60700.783305  \n",
       "32   64241.804757  64058.944905  64526.103522  61430.598164  60700.783305  \n",
       "63   68008.981651  65469.116548  60378.619289  57013.419669  56303.477694  \n",
       "101  69852.804663  67244.080099  62015.572011  58559.136905  57829.947364  \n",
       "138  61823.520307  59514.657595  54887.144390  51828.011876  51182.639587  \n",
       "\n",
       "[5 rows x 36 columns]"
      ]
     },
     "execution_count": 55,
     "metadata": {},
     "output_type": "execute_result"
    }
   ],
   "source": [
    "df.head()"
   ]
  },
  {
   "cell_type": "code",
   "execution_count": 36,
   "metadata": {
    "collapsed": true
   },
   "outputs": [],
   "source": [
    "def getClass(row):\n",
    "    f = row['Federal Functional Class']\n",
    "    req = f.split()[0]\n",
    "    return req"
   ]
  },
  {
   "cell_type": "code",
   "execution_count": 37,
   "metadata": {
    "collapsed": false
   },
   "outputs": [
    {
     "name": "stderr",
     "output_type": "stream",
     "text": [
      "/home/guerrero/anaconda/lib/python2.7/site-packages/IPython/kernel/__main__.py:1: SettingWithCopyWarning: \n",
      "A value is trying to be set on a copy of a slice from a DataFrame.\n",
      "Try using .loc[row_indexer,col_indexer] = value instead\n",
      "\n",
      "See the the caveats in the documentation: http://pandas.pydata.org/pandas-docs/stable/indexing.html#indexing-view-versus-copy\n",
      "  if __name__ == '__main__':\n"
     ]
    }
   ],
   "source": [
    "df['Class'] = df.apply(getClass, axis = 1)\n",
    "di = de[['Year', 'pRural', 'pUrban']]\n",
    "di.columns = ['Year', 'r', 'u']"
   ]
  },
  {
   "cell_type": "code",
   "execution_count": 53,
   "metadata": {
    "collapsed": false
   },
   "outputs": [],
   "source": [
    "def extrapolate(df):   \n",
    "    for row in df.index:\n",
    "        if df.loc[row, 'Class'] == 'Rural':\n",
    "            cat = 'r'\n",
    "        else:\n",
    "            cat = 'u'\n",
    "        for year in (np.arange(32)+1981)[::-1]:\n",
    "            name = str(year)\n",
    "            pname = str(year+1)\n",
    "            ind  = year + 1 - 1980\n",
    "            df.loc[row, name] = (df.loc[row, pname])/(1 + di.loc[ind, cat])"
   ]
  },
  {
   "cell_type": "code",
   "execution_count": 54,
   "metadata": {
    "collapsed": false
   },
   "outputs": [],
   "source": [
    "extrapolate(df)"
   ]
  },
  {
   "cell_type": "code",
   "execution_count": 56,
   "metadata": {
    "collapsed": false
   },
   "outputs": [
    {
     "data": {
      "text/html": [
       "<div>\n",
       "<table border=\"1\" class=\"dataframe\">\n",
       "  <thead>\n",
       "    <tr style=\"text-align: right;\">\n",
       "      <th></th>\n",
       "      <th>YearC</th>\n",
       "      <th>Sealed Alligator</th>\n",
       "      <th>Sealed Longitudinal</th>\n",
       "      <th>Int ID</th>\n",
       "      <th>SR</th>\n",
       "      <th>Begin ARM</th>\n",
       "      <th>End ARM</th>\n",
       "      <th>Year</th>\n",
       "      <th>Contract Type Description</th>\n",
       "      <th>Surface Type Code</th>\n",
       "      <th>...</th>\n",
       "      <th>Long</th>\n",
       "      <th>CatLong</th>\n",
       "      <th>AlliP</th>\n",
       "      <th>LongP</th>\n",
       "      <th>Traffic Year</th>\n",
       "      <th>ESALs</th>\n",
       "      <th>Contract History ID</th>\n",
       "      <th>STcode</th>\n",
       "      <th>Latitude</th>\n",
       "      <th>Longitude</th>\n",
       "    </tr>\n",
       "  </thead>\n",
       "  <tbody>\n",
       "    <tr>\n",
       "      <th>0</th>\n",
       "      <td>2003</td>\n",
       "      <td>NaN</td>\n",
       "      <td>NaN</td>\n",
       "      <td>54964</td>\n",
       "      <td>101</td>\n",
       "      <td>0.53</td>\n",
       "      <td>0.63</td>\n",
       "      <td>1996</td>\n",
       "      <td>RESURFACE EXISTING RDWY</td>\n",
       "      <td>AA</td>\n",
       "      <td>...</td>\n",
       "      <td>10</td>\n",
       "      <td>L</td>\n",
       "      <td>1.988636</td>\n",
       "      <td>0.946970</td>\n",
       "      <td>2013</td>\n",
       "      <td>32740</td>\n",
       "      <td>0073c3c3-1b5a-40af-a002-022c09a2875d</td>\n",
       "      <td>AA</td>\n",
       "      <td>46.242524</td>\n",
       "      <td>-123.886017</td>\n",
       "    </tr>\n",
       "    <tr>\n",
       "      <th>1</th>\n",
       "      <td>2004</td>\n",
       "      <td>NaN</td>\n",
       "      <td>NaN</td>\n",
       "      <td>54964</td>\n",
       "      <td>101</td>\n",
       "      <td>0.53</td>\n",
       "      <td>0.63</td>\n",
       "      <td>1996</td>\n",
       "      <td>RESURFACE EXISTING RDWY</td>\n",
       "      <td>AA</td>\n",
       "      <td>...</td>\n",
       "      <td>84</td>\n",
       "      <td>L</td>\n",
       "      <td>0.946970</td>\n",
       "      <td>7.954545</td>\n",
       "      <td>2013</td>\n",
       "      <td>32740</td>\n",
       "      <td>0073c3c3-1b5a-40af-a002-022c09a2875d</td>\n",
       "      <td>AA</td>\n",
       "      <td>46.242524</td>\n",
       "      <td>-123.886017</td>\n",
       "    </tr>\n",
       "    <tr>\n",
       "      <th>2</th>\n",
       "      <td>2005</td>\n",
       "      <td>NaN</td>\n",
       "      <td>NaN</td>\n",
       "      <td>54964</td>\n",
       "      <td>101</td>\n",
       "      <td>0.53</td>\n",
       "      <td>0.63</td>\n",
       "      <td>1996</td>\n",
       "      <td>RESURFACE EXISTING RDWY</td>\n",
       "      <td>AA</td>\n",
       "      <td>...</td>\n",
       "      <td>10</td>\n",
       "      <td>L</td>\n",
       "      <td>1.988636</td>\n",
       "      <td>0.946970</td>\n",
       "      <td>2013</td>\n",
       "      <td>32740</td>\n",
       "      <td>0073c3c3-1b5a-40af-a002-022c09a2875d</td>\n",
       "      <td>AA</td>\n",
       "      <td>46.242524</td>\n",
       "      <td>-123.886017</td>\n",
       "    </tr>\n",
       "    <tr>\n",
       "      <th>3</th>\n",
       "      <td>2006</td>\n",
       "      <td>NaN</td>\n",
       "      <td>NaN</td>\n",
       "      <td>54964</td>\n",
       "      <td>101</td>\n",
       "      <td>0.53</td>\n",
       "      <td>0.63</td>\n",
       "      <td>1996</td>\n",
       "      <td>RESURFACE EXISTING RDWY</td>\n",
       "      <td>AA</td>\n",
       "      <td>...</td>\n",
       "      <td>5</td>\n",
       "      <td>L</td>\n",
       "      <td>1.988636</td>\n",
       "      <td>0.473485</td>\n",
       "      <td>2013</td>\n",
       "      <td>32740</td>\n",
       "      <td>0073c3c3-1b5a-40af-a002-022c09a2875d</td>\n",
       "      <td>AA</td>\n",
       "      <td>46.242524</td>\n",
       "      <td>-123.886017</td>\n",
       "    </tr>\n",
       "    <tr>\n",
       "      <th>4</th>\n",
       "      <td>2007</td>\n",
       "      <td>NaN</td>\n",
       "      <td>NaN</td>\n",
       "      <td>54964</td>\n",
       "      <td>101</td>\n",
       "      <td>0.53</td>\n",
       "      <td>0.63</td>\n",
       "      <td>1996</td>\n",
       "      <td>RESURFACE EXISTING RDWY</td>\n",
       "      <td>AA</td>\n",
       "      <td>...</td>\n",
       "      <td>5</td>\n",
       "      <td>L</td>\n",
       "      <td>NaN</td>\n",
       "      <td>0.473485</td>\n",
       "      <td>2013</td>\n",
       "      <td>32740</td>\n",
       "      <td>0073c3c3-1b5a-40af-a002-022c09a2875d</td>\n",
       "      <td>AA</td>\n",
       "      <td>46.242524</td>\n",
       "      <td>-123.886017</td>\n",
       "    </tr>\n",
       "  </tbody>\n",
       "</table>\n",
       "<p>5 rows × 44 columns</p>\n",
       "</div>"
      ],
      "text/plain": [
       "   YearC  Sealed Alligator  Sealed Longitudinal  Int ID   SR  Begin ARM  \\\n",
       "0   2003               NaN                  NaN   54964  101       0.53   \n",
       "1   2004               NaN                  NaN   54964  101       0.53   \n",
       "2   2005               NaN                  NaN   54964  101       0.53   \n",
       "3   2006               NaN                  NaN   54964  101       0.53   \n",
       "4   2007               NaN                  NaN   54964  101       0.53   \n",
       "\n",
       "   End ARM  Year Contract Type Description Surface Type Code     ...     Long  \\\n",
       "0     0.63  1996   RESURFACE EXISTING RDWY                AA     ...       10   \n",
       "1     0.63  1996   RESURFACE EXISTING RDWY                AA     ...       84   \n",
       "2     0.63  1996   RESURFACE EXISTING RDWY                AA     ...       10   \n",
       "3     0.63  1996   RESURFACE EXISTING RDWY                AA     ...        5   \n",
       "4     0.63  1996   RESURFACE EXISTING RDWY                AA     ...        5   \n",
       "\n",
       "   CatLong     AlliP     LongP  Traffic Year  ESALs  \\\n",
       "0        L  1.988636  0.946970          2013  32740   \n",
       "1        L  0.946970  7.954545          2013  32740   \n",
       "2        L  1.988636  0.946970          2013  32740   \n",
       "3        L  1.988636  0.473485          2013  32740   \n",
       "4        L       NaN  0.473485          2013  32740   \n",
       "\n",
       "                    Contract History ID  STcode   Latitude   Longitude  \n",
       "0  0073c3c3-1b5a-40af-a002-022c09a2875d      AA  46.242524 -123.886017  \n",
       "1  0073c3c3-1b5a-40af-a002-022c09a2875d      AA  46.242524 -123.886017  \n",
       "2  0073c3c3-1b5a-40af-a002-022c09a2875d      AA  46.242524 -123.886017  \n",
       "3  0073c3c3-1b5a-40af-a002-022c09a2875d      AA  46.242524 -123.886017  \n",
       "4  0073c3c3-1b5a-40af-a002-022c09a2875d      AA  46.242524 -123.886017  \n",
       "\n",
       "[5 rows x 44 columns]"
      ]
     },
     "execution_count": 56,
     "metadata": {},
     "output_type": "execute_result"
    }
   ],
   "source": [
    "ds.head()"
   ]
  },
  {
   "cell_type": "code",
   "execution_count": 96,
   "metadata": {
    "collapsed": false
   },
   "outputs": [],
   "source": [
    "# df.columns"
   ]
  },
  {
   "cell_type": "code",
   "execution_count": 58,
   "metadata": {
    "collapsed": true
   },
   "outputs": [],
   "source": [
    "df2 = df[[u'2013',u'2012', u'2011', u'2010', u'2009', u'2008', u'2007', u'2006', u'2005', u'2004', u'2003', u'2002',\n",
    "          u'2001', u'2000', u'1999',u'1998', u'1997', u'1996', u'1995', u'1994', u'1993', u'1992', u'1991',  u'1990',\n",
    "          u'1989', u'1988', u'1987',u'1986', u'1985', u'1984', u'1983',u'1982', u'1981']]"
   ]
  },
  {
   "cell_type": "code",
   "execution_count": 67,
   "metadata": {
    "collapsed": false
   },
   "outputs": [
    {
     "data": {
      "text/plain": [
       "972"
      ]
     },
     "execution_count": 67,
     "metadata": {},
     "output_type": "execute_result"
    }
   ],
   "source": [
    "len(np.array(df.loc[:, 'CH_ID']))"
   ]
  },
  {
   "cell_type": "code",
   "execution_count": 68,
   "metadata": {
    "collapsed": true
   },
   "outputs": [],
   "source": [
    "df2.index = np.array(df.loc[:, 'CH_ID'])"
   ]
  },
  {
   "cell_type": "code",
   "execution_count": 69,
   "metadata": {
    "collapsed": false
   },
   "outputs": [
    {
     "data": {
      "text/html": [
       "<div>\n",
       "<table border=\"1\" class=\"dataframe\">\n",
       "  <thead>\n",
       "    <tr style=\"text-align: right;\">\n",
       "      <th></th>\n",
       "      <th>2013</th>\n",
       "      <th>2012</th>\n",
       "      <th>2011</th>\n",
       "      <th>2010</th>\n",
       "      <th>2009</th>\n",
       "      <th>2008</th>\n",
       "      <th>2007</th>\n",
       "      <th>2006</th>\n",
       "      <th>2005</th>\n",
       "      <th>2004</th>\n",
       "      <th>...</th>\n",
       "      <th>1990</th>\n",
       "      <th>1989</th>\n",
       "      <th>1988</th>\n",
       "      <th>1987</th>\n",
       "      <th>1986</th>\n",
       "      <th>1985</th>\n",
       "      <th>1984</th>\n",
       "      <th>1983</th>\n",
       "      <th>1982</th>\n",
       "      <th>1981</th>\n",
       "    </tr>\n",
       "  </thead>\n",
       "  <tbody>\n",
       "    <tr>\n",
       "      <th>a334aa88-2d7c-4dae-8e59-9d9c796c4738</th>\n",
       "      <td>89571</td>\n",
       "      <td>97175.130469</td>\n",
       "      <td>98048.142333</td>\n",
       "      <td>99504.359719</td>\n",
       "      <td>98132.803734</td>\n",
       "      <td>94896.149115</td>\n",
       "      <td>99876.037832</td>\n",
       "      <td>98433.994015</td>\n",
       "      <td>97532.226501</td>\n",
       "      <td>98058.368963</td>\n",
       "      <td>...</td>\n",
       "      <td>83009.085013</td>\n",
       "      <td>78859.658089</td>\n",
       "      <td>76935.394240</td>\n",
       "      <td>73156.142656</td>\n",
       "      <td>69209.575422</td>\n",
       "      <td>64241.804757</td>\n",
       "      <td>64058.944905</td>\n",
       "      <td>64526.103522</td>\n",
       "      <td>61430.598164</td>\n",
       "      <td>60700.783305</td>\n",
       "    </tr>\n",
       "    <tr>\n",
       "      <th>9651414b-ef35-444c-9196-37d84f27bdb2</th>\n",
       "      <td>89571</td>\n",
       "      <td>97175.130469</td>\n",
       "      <td>98048.142333</td>\n",
       "      <td>99504.359719</td>\n",
       "      <td>98132.803734</td>\n",
       "      <td>94896.149115</td>\n",
       "      <td>99876.037832</td>\n",
       "      <td>98433.994015</td>\n",
       "      <td>97532.226501</td>\n",
       "      <td>98058.368963</td>\n",
       "      <td>...</td>\n",
       "      <td>83009.085013</td>\n",
       "      <td>78859.658089</td>\n",
       "      <td>76935.394240</td>\n",
       "      <td>73156.142656</td>\n",
       "      <td>69209.575422</td>\n",
       "      <td>64241.804757</td>\n",
       "      <td>64058.944905</td>\n",
       "      <td>64526.103522</td>\n",
       "      <td>61430.598164</td>\n",
       "      <td>60700.783305</td>\n",
       "    </tr>\n",
       "    <tr>\n",
       "      <th>30c5f141-e251-40a1-9fb7-f2dc5ab7eb91</th>\n",
       "      <td>131236</td>\n",
       "      <td>123124.325727</td>\n",
       "      <td>123988.516486</td>\n",
       "      <td>124853.225336</td>\n",
       "      <td>123929.396081</td>\n",
       "      <td>121837.870066</td>\n",
       "      <td>125858.956217</td>\n",
       "      <td>125617.489202</td>\n",
       "      <td>125426.317767</td>\n",
       "      <td>124610.094877</td>\n",
       "      <td>...</td>\n",
       "      <td>83341.850614</td>\n",
       "      <td>81588.425542</td>\n",
       "      <td>78574.807729</td>\n",
       "      <td>75334.264002</td>\n",
       "      <td>72193.109338</td>\n",
       "      <td>68008.981651</td>\n",
       "      <td>65469.116548</td>\n",
       "      <td>60378.619289</td>\n",
       "      <td>57013.419669</td>\n",
       "      <td>56303.477694</td>\n",
       "    </tr>\n",
       "    <tr>\n",
       "      <th>16a53660-621d-41d1-ab50-693e5c372af4</th>\n",
       "      <td>134794</td>\n",
       "      <td>126462.406367</td>\n",
       "      <td>127350.026602</td>\n",
       "      <td>128238.178975</td>\n",
       "      <td>127289.303357</td>\n",
       "      <td>125141.073011</td>\n",
       "      <td>129271.176692</td>\n",
       "      <td>129023.163153</td>\n",
       "      <td>128826.808780</td>\n",
       "      <td>127988.456893</td>\n",
       "      <td>...</td>\n",
       "      <td>85601.370140</td>\n",
       "      <td>83800.407148</td>\n",
       "      <td>80705.085746</td>\n",
       "      <td>77376.686137</td>\n",
       "      <td>74150.370174</td>\n",
       "      <td>69852.804663</td>\n",
       "      <td>67244.080099</td>\n",
       "      <td>62015.572011</td>\n",
       "      <td>58559.136905</td>\n",
       "      <td>57829.947364</td>\n",
       "    </tr>\n",
       "    <tr>\n",
       "      <th>bb2f3296-263c-4489-bf0f-76dad424459a</th>\n",
       "      <td>119300</td>\n",
       "      <td>111926.087805</td>\n",
       "      <td>112711.679849</td>\n",
       "      <td>113497.742864</td>\n",
       "      <td>112657.936484</td>\n",
       "      <td>110756.636128</td>\n",
       "      <td>114412.001865</td>\n",
       "      <td>114192.496432</td>\n",
       "      <td>114018.712164</td>\n",
       "      <td>113276.725280</td>\n",
       "      <td>...</td>\n",
       "      <td>75761.854813</td>\n",
       "      <td>74167.904898</td>\n",
       "      <td>71428.377595</td>\n",
       "      <td>68482.563438</td>\n",
       "      <td>65627.098845</td>\n",
       "      <td>61823.520307</td>\n",
       "      <td>59514.657595</td>\n",
       "      <td>54887.144390</td>\n",
       "      <td>51828.011876</td>\n",
       "      <td>51182.639587</td>\n",
       "    </tr>\n",
       "  </tbody>\n",
       "</table>\n",
       "<p>5 rows × 33 columns</p>\n",
       "</div>"
      ],
      "text/plain": [
       "                                        2013           2012           2011  \\\n",
       "a334aa88-2d7c-4dae-8e59-9d9c796c4738   89571   97175.130469   98048.142333   \n",
       "9651414b-ef35-444c-9196-37d84f27bdb2   89571   97175.130469   98048.142333   \n",
       "30c5f141-e251-40a1-9fb7-f2dc5ab7eb91  131236  123124.325727  123988.516486   \n",
       "16a53660-621d-41d1-ab50-693e5c372af4  134794  126462.406367  127350.026602   \n",
       "bb2f3296-263c-4489-bf0f-76dad424459a  119300  111926.087805  112711.679849   \n",
       "\n",
       "                                               2010           2009  \\\n",
       "a334aa88-2d7c-4dae-8e59-9d9c796c4738   99504.359719   98132.803734   \n",
       "9651414b-ef35-444c-9196-37d84f27bdb2   99504.359719   98132.803734   \n",
       "30c5f141-e251-40a1-9fb7-f2dc5ab7eb91  124853.225336  123929.396081   \n",
       "16a53660-621d-41d1-ab50-693e5c372af4  128238.178975  127289.303357   \n",
       "bb2f3296-263c-4489-bf0f-76dad424459a  113497.742864  112657.936484   \n",
       "\n",
       "                                               2008           2007  \\\n",
       "a334aa88-2d7c-4dae-8e59-9d9c796c4738   94896.149115   99876.037832   \n",
       "9651414b-ef35-444c-9196-37d84f27bdb2   94896.149115   99876.037832   \n",
       "30c5f141-e251-40a1-9fb7-f2dc5ab7eb91  121837.870066  125858.956217   \n",
       "16a53660-621d-41d1-ab50-693e5c372af4  125141.073011  129271.176692   \n",
       "bb2f3296-263c-4489-bf0f-76dad424459a  110756.636128  114412.001865   \n",
       "\n",
       "                                               2006           2005  \\\n",
       "a334aa88-2d7c-4dae-8e59-9d9c796c4738   98433.994015   97532.226501   \n",
       "9651414b-ef35-444c-9196-37d84f27bdb2   98433.994015   97532.226501   \n",
       "30c5f141-e251-40a1-9fb7-f2dc5ab7eb91  125617.489202  125426.317767   \n",
       "16a53660-621d-41d1-ab50-693e5c372af4  129023.163153  128826.808780   \n",
       "bb2f3296-263c-4489-bf0f-76dad424459a  114192.496432  114018.712164   \n",
       "\n",
       "                                               2004      ...       \\\n",
       "a334aa88-2d7c-4dae-8e59-9d9c796c4738   98058.368963      ...        \n",
       "9651414b-ef35-444c-9196-37d84f27bdb2   98058.368963      ...        \n",
       "30c5f141-e251-40a1-9fb7-f2dc5ab7eb91  124610.094877      ...        \n",
       "16a53660-621d-41d1-ab50-693e5c372af4  127988.456893      ...        \n",
       "bb2f3296-263c-4489-bf0f-76dad424459a  113276.725280      ...        \n",
       "\n",
       "                                              1990          1989  \\\n",
       "a334aa88-2d7c-4dae-8e59-9d9c796c4738  83009.085013  78859.658089   \n",
       "9651414b-ef35-444c-9196-37d84f27bdb2  83009.085013  78859.658089   \n",
       "30c5f141-e251-40a1-9fb7-f2dc5ab7eb91  83341.850614  81588.425542   \n",
       "16a53660-621d-41d1-ab50-693e5c372af4  85601.370140  83800.407148   \n",
       "bb2f3296-263c-4489-bf0f-76dad424459a  75761.854813  74167.904898   \n",
       "\n",
       "                                              1988          1987  \\\n",
       "a334aa88-2d7c-4dae-8e59-9d9c796c4738  76935.394240  73156.142656   \n",
       "9651414b-ef35-444c-9196-37d84f27bdb2  76935.394240  73156.142656   \n",
       "30c5f141-e251-40a1-9fb7-f2dc5ab7eb91  78574.807729  75334.264002   \n",
       "16a53660-621d-41d1-ab50-693e5c372af4  80705.085746  77376.686137   \n",
       "bb2f3296-263c-4489-bf0f-76dad424459a  71428.377595  68482.563438   \n",
       "\n",
       "                                              1986          1985  \\\n",
       "a334aa88-2d7c-4dae-8e59-9d9c796c4738  69209.575422  64241.804757   \n",
       "9651414b-ef35-444c-9196-37d84f27bdb2  69209.575422  64241.804757   \n",
       "30c5f141-e251-40a1-9fb7-f2dc5ab7eb91  72193.109338  68008.981651   \n",
       "16a53660-621d-41d1-ab50-693e5c372af4  74150.370174  69852.804663   \n",
       "bb2f3296-263c-4489-bf0f-76dad424459a  65627.098845  61823.520307   \n",
       "\n",
       "                                              1984          1983  \\\n",
       "a334aa88-2d7c-4dae-8e59-9d9c796c4738  64058.944905  64526.103522   \n",
       "9651414b-ef35-444c-9196-37d84f27bdb2  64058.944905  64526.103522   \n",
       "30c5f141-e251-40a1-9fb7-f2dc5ab7eb91  65469.116548  60378.619289   \n",
       "16a53660-621d-41d1-ab50-693e5c372af4  67244.080099  62015.572011   \n",
       "bb2f3296-263c-4489-bf0f-76dad424459a  59514.657595  54887.144390   \n",
       "\n",
       "                                              1982          1981  \n",
       "a334aa88-2d7c-4dae-8e59-9d9c796c4738  61430.598164  60700.783305  \n",
       "9651414b-ef35-444c-9196-37d84f27bdb2  61430.598164  60700.783305  \n",
       "30c5f141-e251-40a1-9fb7-f2dc5ab7eb91  57013.419669  56303.477694  \n",
       "16a53660-621d-41d1-ab50-693e5c372af4  58559.136905  57829.947364  \n",
       "bb2f3296-263c-4489-bf0f-76dad424459a  51828.011876  51182.639587  \n",
       "\n",
       "[5 rows x 33 columns]"
      ]
     },
     "execution_count": 69,
     "metadata": {},
     "output_type": "execute_result"
    }
   ],
   "source": [
    "df2.head()"
   ]
  },
  {
   "cell_type": "code",
   "execution_count": 72,
   "metadata": {
    "collapsed": true
   },
   "outputs": [],
   "source": [
    "def fillESALs(row):\n",
    "    index = row['Contract History ID']\n",
    "    value = str(row['YearC'])\n",
    "    return df2.loc[index, value]"
   ]
  },
  {
   "cell_type": "code",
   "execution_count": 87,
   "metadata": {
    "collapsed": false
   },
   "outputs": [],
   "source": [
    "sds = ds[ds.YearC < 2014]"
   ]
  },
  {
   "cell_type": "code",
   "execution_count": 88,
   "metadata": {
    "collapsed": false
   },
   "outputs": [
    {
     "name": "stdout",
     "output_type": "stream",
     "text": [
      "52760\n",
      "52899\n"
     ]
    }
   ],
   "source": [
    "print len(sds)\n",
    "print len(ds)"
   ]
  },
  {
   "cell_type": "code",
   "execution_count": 91,
   "metadata": {
    "collapsed": false
   },
   "outputs": [
    {
     "data": {
      "text/plain": [
       "Index([                     u'YearC',           u'Sealed Alligator',\n",
       "              u'Sealed Longitudinal',                     u'Int ID',\n",
       "                               u'SR',                  u'Begin ARM',\n",
       "                          u'End ARM',                       u'Year',\n",
       "        u'Contract Type Description',          u'Surface Type Code',\n",
       "         u'Surface Type Description',          u'Surface Thickness',\n",
       "                           u'Region',                       u'ID_y',\n",
       "                u'Construction Year',           u'Major Rehab Year',\n",
       "               u'Segment Lane Miles',    u'ESALs Since Major Rehab',\n",
       "                  u'Total Thickness',    u'Total Surface Thickness',\n",
       "                    u'Pavement Type', u'Construction Pavement Type',\n",
       "                 u'Major Rehab Type',     u'Prior Major Rehab Year',\n",
       "           u'Prior Major Rehab Type',                u'Original ID',\n",
       "                        u'Is Bridge',          u'Lane Surface Type',\n",
       "                       u'Lane Miles',   u'Federal Functional Class',\n",
       "            u'Avg Construction Date',       u'Avg Major Rehab Date',\n",
       "                             u'Alli',                    u'CatAlli',\n",
       "                             u'Long',                    u'CatLong',\n",
       "                            u'AlliP',                      u'LongP',\n",
       "                     u'Traffic Year',                      u'ESALs',\n",
       "              u'Contract History ID',                     u'STcode',\n",
       "                         u'Latitude',                  u'Longitude'],\n",
       "      dtype='object')"
      ]
     },
     "execution_count": 91,
     "metadata": {},
     "output_type": "execute_result"
    }
   ],
   "source": [
    "sds.columns"
   ]
  },
  {
   "cell_type": "code",
   "execution_count": 93,
   "metadata": {
    "collapsed": false
   },
   "outputs": [],
   "source": [
    "#\"Extrapolated\" ESALs..\n",
    "sds.loc[:,'ESALs'] = sds.apply(fillESALs, axis = 1)"
   ]
  },
  {
   "cell_type": "code",
   "execution_count": 97,
   "metadata": {
    "collapsed": false
   },
   "outputs": [
    {
     "data": {
      "text/html": [
       "<div>\n",
       "<table border=\"1\" class=\"dataframe\">\n",
       "  <thead>\n",
       "    <tr style=\"text-align: right;\">\n",
       "      <th></th>\n",
       "      <th>YearC</th>\n",
       "      <th>Sealed Alligator</th>\n",
       "      <th>Sealed Longitudinal</th>\n",
       "      <th>Int ID</th>\n",
       "      <th>SR</th>\n",
       "      <th>Begin ARM</th>\n",
       "      <th>End ARM</th>\n",
       "      <th>Year</th>\n",
       "      <th>Contract Type Description</th>\n",
       "      <th>Surface Type Code</th>\n",
       "      <th>...</th>\n",
       "      <th>Long</th>\n",
       "      <th>CatLong</th>\n",
       "      <th>AlliP</th>\n",
       "      <th>LongP</th>\n",
       "      <th>Traffic Year</th>\n",
       "      <th>ESALs</th>\n",
       "      <th>Contract History ID</th>\n",
       "      <th>STcode</th>\n",
       "      <th>Latitude</th>\n",
       "      <th>Longitude</th>\n",
       "    </tr>\n",
       "  </thead>\n",
       "  <tbody>\n",
       "    <tr>\n",
       "      <th>0</th>\n",
       "      <td>2003</td>\n",
       "      <td>NaN</td>\n",
       "      <td>NaN</td>\n",
       "      <td>54964</td>\n",
       "      <td>101</td>\n",
       "      <td>0.53</td>\n",
       "      <td>0.63</td>\n",
       "      <td>1996</td>\n",
       "      <td>RESURFACE EXISTING RDWY</td>\n",
       "      <td>AA</td>\n",
       "      <td>...</td>\n",
       "      <td>10</td>\n",
       "      <td>L</td>\n",
       "      <td>1.988636</td>\n",
       "      <td>0.946970</td>\n",
       "      <td>2013</td>\n",
       "      <td>40724.540843</td>\n",
       "      <td>0073c3c3-1b5a-40af-a002-022c09a2875d</td>\n",
       "      <td>AA</td>\n",
       "      <td>46.242524</td>\n",
       "      <td>-123.886017</td>\n",
       "    </tr>\n",
       "    <tr>\n",
       "      <th>1</th>\n",
       "      <td>2004</td>\n",
       "      <td>NaN</td>\n",
       "      <td>NaN</td>\n",
       "      <td>54964</td>\n",
       "      <td>101</td>\n",
       "      <td>0.53</td>\n",
       "      <td>0.63</td>\n",
       "      <td>1996</td>\n",
       "      <td>RESURFACE EXISTING RDWY</td>\n",
       "      <td>AA</td>\n",
       "      <td>...</td>\n",
       "      <td>84</td>\n",
       "      <td>L</td>\n",
       "      <td>0.946970</td>\n",
       "      <td>7.954545</td>\n",
       "      <td>2013</td>\n",
       "      <td>35842.303869</td>\n",
       "      <td>0073c3c3-1b5a-40af-a002-022c09a2875d</td>\n",
       "      <td>AA</td>\n",
       "      <td>46.242524</td>\n",
       "      <td>-123.886017</td>\n",
       "    </tr>\n",
       "    <tr>\n",
       "      <th>2</th>\n",
       "      <td>2005</td>\n",
       "      <td>NaN</td>\n",
       "      <td>NaN</td>\n",
       "      <td>54964</td>\n",
       "      <td>101</td>\n",
       "      <td>0.53</td>\n",
       "      <td>0.63</td>\n",
       "      <td>1996</td>\n",
       "      <td>RESURFACE EXISTING RDWY</td>\n",
       "      <td>AA</td>\n",
       "      <td>...</td>\n",
       "      <td>10</td>\n",
       "      <td>L</td>\n",
       "      <td>1.988636</td>\n",
       "      <td>0.946970</td>\n",
       "      <td>2013</td>\n",
       "      <td>35649.988229</td>\n",
       "      <td>0073c3c3-1b5a-40af-a002-022c09a2875d</td>\n",
       "      <td>AA</td>\n",
       "      <td>46.242524</td>\n",
       "      <td>-123.886017</td>\n",
       "    </tr>\n",
       "    <tr>\n",
       "      <th>3</th>\n",
       "      <td>2006</td>\n",
       "      <td>NaN</td>\n",
       "      <td>NaN</td>\n",
       "      <td>54964</td>\n",
       "      <td>101</td>\n",
       "      <td>0.53</td>\n",
       "      <td>0.63</td>\n",
       "      <td>1996</td>\n",
       "      <td>RESURFACE EXISTING RDWY</td>\n",
       "      <td>AA</td>\n",
       "      <td>...</td>\n",
       "      <td>5</td>\n",
       "      <td>L</td>\n",
       "      <td>1.988636</td>\n",
       "      <td>0.473485</td>\n",
       "      <td>2013</td>\n",
       "      <td>35979.602372</td>\n",
       "      <td>0073c3c3-1b5a-40af-a002-022c09a2875d</td>\n",
       "      <td>AA</td>\n",
       "      <td>46.242524</td>\n",
       "      <td>-123.886017</td>\n",
       "    </tr>\n",
       "    <tr>\n",
       "      <th>4</th>\n",
       "      <td>2007</td>\n",
       "      <td>NaN</td>\n",
       "      <td>NaN</td>\n",
       "      <td>54964</td>\n",
       "      <td>101</td>\n",
       "      <td>0.53</td>\n",
       "      <td>0.63</td>\n",
       "      <td>1996</td>\n",
       "      <td>RESURFACE EXISTING RDWY</td>\n",
       "      <td>AA</td>\n",
       "      <td>...</td>\n",
       "      <td>5</td>\n",
       "      <td>L</td>\n",
       "      <td>NaN</td>\n",
       "      <td>0.473485</td>\n",
       "      <td>2013</td>\n",
       "      <td>36506.698358</td>\n",
       "      <td>0073c3c3-1b5a-40af-a002-022c09a2875d</td>\n",
       "      <td>AA</td>\n",
       "      <td>46.242524</td>\n",
       "      <td>-123.886017</td>\n",
       "    </tr>\n",
       "  </tbody>\n",
       "</table>\n",
       "<p>5 rows × 44 columns</p>\n",
       "</div>"
      ],
      "text/plain": [
       "   YearC  Sealed Alligator  Sealed Longitudinal  Int ID   SR  Begin ARM  \\\n",
       "0   2003               NaN                  NaN   54964  101       0.53   \n",
       "1   2004               NaN                  NaN   54964  101       0.53   \n",
       "2   2005               NaN                  NaN   54964  101       0.53   \n",
       "3   2006               NaN                  NaN   54964  101       0.53   \n",
       "4   2007               NaN                  NaN   54964  101       0.53   \n",
       "\n",
       "   End ARM  Year Contract Type Description Surface Type Code     ...     Long  \\\n",
       "0     0.63  1996   RESURFACE EXISTING RDWY                AA     ...       10   \n",
       "1     0.63  1996   RESURFACE EXISTING RDWY                AA     ...       84   \n",
       "2     0.63  1996   RESURFACE EXISTING RDWY                AA     ...       10   \n",
       "3     0.63  1996   RESURFACE EXISTING RDWY                AA     ...        5   \n",
       "4     0.63  1996   RESURFACE EXISTING RDWY                AA     ...        5   \n",
       "\n",
       "   CatLong     AlliP     LongP  Traffic Year         ESALs  \\\n",
       "0        L  1.988636  0.946970          2013  40724.540843   \n",
       "1        L  0.946970  7.954545          2013  35842.303869   \n",
       "2        L  1.988636  0.946970          2013  35649.988229   \n",
       "3        L  1.988636  0.473485          2013  35979.602372   \n",
       "4        L       NaN  0.473485          2013  36506.698358   \n",
       "\n",
       "                    Contract History ID  STcode   Latitude   Longitude  \n",
       "0  0073c3c3-1b5a-40af-a002-022c09a2875d      AA  46.242524 -123.886017  \n",
       "1  0073c3c3-1b5a-40af-a002-022c09a2875d      AA  46.242524 -123.886017  \n",
       "2  0073c3c3-1b5a-40af-a002-022c09a2875d      AA  46.242524 -123.886017  \n",
       "3  0073c3c3-1b5a-40af-a002-022c09a2875d      AA  46.242524 -123.886017  \n",
       "4  0073c3c3-1b5a-40af-a002-022c09a2875d      AA  46.242524 -123.886017  \n",
       "\n",
       "[5 rows x 44 columns]"
      ]
     },
     "execution_count": 97,
     "metadata": {},
     "output_type": "execute_result"
    }
   ],
   "source": [
    "sds.head()"
   ]
  },
  {
   "cell_type": "code",
   "execution_count": 98,
   "metadata": {
    "collapsed": true
   },
   "outputs": [],
   "source": [
    "#Exporting the almost complete dataset\n",
    "sds.to_excel(\"../DataFiles/dataWesals.xlsx\") "
   ]
  },
  {
   "cell_type": "code",
   "execution_count": 99,
   "metadata": {
    "collapsed": true
   },
   "outputs": [],
   "source": [
    "# creating new dataset with lat and londitude\n",
    "cdf = sds[['Int ID', 'Latitude', 'Longitude']]"
   ]
  },
  {
   "cell_type": "code",
   "execution_count": 100,
   "metadata": {
    "collapsed": false
   },
   "outputs": [
    {
     "data": {
      "text/html": [
       "<div>\n",
       "<table border=\"1\" class=\"dataframe\">\n",
       "  <thead>\n",
       "    <tr style=\"text-align: right;\">\n",
       "      <th></th>\n",
       "      <th>Int ID</th>\n",
       "      <th>Latitude</th>\n",
       "      <th>Longitude</th>\n",
       "    </tr>\n",
       "  </thead>\n",
       "  <tbody>\n",
       "    <tr>\n",
       "      <th>0</th>\n",
       "      <td>54964</td>\n",
       "      <td>46.242524</td>\n",
       "      <td>-123.886017</td>\n",
       "    </tr>\n",
       "    <tr>\n",
       "      <th>1</th>\n",
       "      <td>54964</td>\n",
       "      <td>46.242524</td>\n",
       "      <td>-123.886017</td>\n",
       "    </tr>\n",
       "    <tr>\n",
       "      <th>2</th>\n",
       "      <td>54964</td>\n",
       "      <td>46.242524</td>\n",
       "      <td>-123.886017</td>\n",
       "    </tr>\n",
       "    <tr>\n",
       "      <th>3</th>\n",
       "      <td>54964</td>\n",
       "      <td>46.242524</td>\n",
       "      <td>-123.886017</td>\n",
       "    </tr>\n",
       "    <tr>\n",
       "      <th>4</th>\n",
       "      <td>54964</td>\n",
       "      <td>46.242524</td>\n",
       "      <td>-123.886017</td>\n",
       "    </tr>\n",
       "  </tbody>\n",
       "</table>\n",
       "</div>"
      ],
      "text/plain": [
       "   Int ID   Latitude   Longitude\n",
       "0   54964  46.242524 -123.886017\n",
       "1   54964  46.242524 -123.886017\n",
       "2   54964  46.242524 -123.886017\n",
       "3   54964  46.242524 -123.886017\n",
       "4   54964  46.242524 -123.886017"
      ]
     },
     "execution_count": 100,
     "metadata": {},
     "output_type": "execute_result"
    }
   ],
   "source": [
    "cdf.head()"
   ]
  },
  {
   "cell_type": "code",
   "execution_count": 101,
   "metadata": {
    "collapsed": false
   },
   "outputs": [
    {
     "name": "stdout",
     "output_type": "stream",
     "text": [
      "956\n",
      "52760\n"
     ]
    }
   ],
   "source": [
    "coord = cdf.drop_duplicates()\n",
    "print len(coord)\n",
    "print len(cdf)"
   ]
  },
  {
   "cell_type": "code",
   "execution_count": 108,
   "metadata": {
    "collapsed": true
   },
   "outputs": [],
   "source": [
    "scoord = coord.dropna(axis=0, how='any', thresh=None, subset=['Latitude','Longitude'], inplace=False)\n",
    "scoord.index = range(len(scoord))"
   ]
  },
  {
   "cell_type": "code",
   "execution_count": 109,
   "metadata": {
    "collapsed": true
   },
   "outputs": [],
   "source": [
    "#Exporting the coordinate dataset\n",
    "scoord.to_excel(\"../DataFiles/segCoord.xlsx\") "
   ]
  },
  {
   "cell_type": "code",
   "execution_count": 113,
   "metadata": {
    "collapsed": true
   },
   "outputs": [],
   "source": [
    "wd = pd.read_excel(\"../DataFiles/1981.xlsx\")"
   ]
  },
  {
   "cell_type": "code",
   "execution_count": 111,
   "metadata": {
    "collapsed": false
   },
   "outputs": [
    {
     "data": {
      "text/html": [
       "<div>\n",
       "<table border=\"1\" class=\"dataframe\">\n",
       "  <thead>\n",
       "    <tr style=\"text-align: right;\">\n",
       "      <th></th>\n",
       "      <th>Xmin</th>\n",
       "      <th>Xmax</th>\n",
       "      <th>Ymin</th>\n",
       "      <th>Ymax</th>\n",
       "      <th>jan</th>\n",
       "      <th>feb</th>\n",
       "      <th>mar</th>\n",
       "      <th>apr</th>\n",
       "      <th>may</th>\n",
       "      <th>jun</th>\n",
       "      <th>jul</th>\n",
       "      <th>aug</th>\n",
       "      <th>sep</th>\n",
       "      <th>oct</th>\n",
       "      <th>nov</th>\n",
       "      <th>dec</th>\n",
       "    </tr>\n",
       "  </thead>\n",
       "  <tbody>\n",
       "    <tr>\n",
       "      <th>0</th>\n",
       "      <td>-123.145833</td>\n",
       "      <td>-123.104167</td>\n",
       "      <td>48.979167</td>\n",
       "      <td>49.020833</td>\n",
       "      <td>9.85</td>\n",
       "      <td>8.53</td>\n",
       "      <td>12.26</td>\n",
       "      <td>11.97</td>\n",
       "      <td>15.140000</td>\n",
       "      <td>16.459999</td>\n",
       "      <td>19.580000</td>\n",
       "      <td>21.99</td>\n",
       "      <td>17.559999</td>\n",
       "      <td>12.36</td>\n",
       "      <td>11.56</td>\n",
       "      <td>7.67</td>\n",
       "    </tr>\n",
       "    <tr>\n",
       "      <th>1</th>\n",
       "      <td>-123.104167</td>\n",
       "      <td>-123.062500</td>\n",
       "      <td>48.979167</td>\n",
       "      <td>49.020833</td>\n",
       "      <td>9.33</td>\n",
       "      <td>8.49</td>\n",
       "      <td>12.56</td>\n",
       "      <td>12.71</td>\n",
       "      <td>16.139999</td>\n",
       "      <td>17.469999</td>\n",
       "      <td>20.700001</td>\n",
       "      <td>23.09</td>\n",
       "      <td>18.660000</td>\n",
       "      <td>12.71</td>\n",
       "      <td>11.24</td>\n",
       "      <td>7.03</td>\n",
       "    </tr>\n",
       "    <tr>\n",
       "      <th>2</th>\n",
       "      <td>-123.062500</td>\n",
       "      <td>-123.020833</td>\n",
       "      <td>48.979167</td>\n",
       "      <td>49.020833</td>\n",
       "      <td>9.69</td>\n",
       "      <td>8.69</td>\n",
       "      <td>12.49</td>\n",
       "      <td>11.88</td>\n",
       "      <td>15.070000</td>\n",
       "      <td>16.340000</td>\n",
       "      <td>19.530001</td>\n",
       "      <td>21.92</td>\n",
       "      <td>17.600000</td>\n",
       "      <td>12.33</td>\n",
       "      <td>11.66</td>\n",
       "      <td>7.54</td>\n",
       "    </tr>\n",
       "    <tr>\n",
       "      <th>3</th>\n",
       "      <td>-123.020833</td>\n",
       "      <td>-122.979167</td>\n",
       "      <td>48.979167</td>\n",
       "      <td>49.020833</td>\n",
       "      <td>9.69</td>\n",
       "      <td>8.69</td>\n",
       "      <td>12.49</td>\n",
       "      <td>11.88</td>\n",
       "      <td>15.070000</td>\n",
       "      <td>16.340000</td>\n",
       "      <td>19.530001</td>\n",
       "      <td>21.92</td>\n",
       "      <td>17.600000</td>\n",
       "      <td>12.33</td>\n",
       "      <td>11.66</td>\n",
       "      <td>7.54</td>\n",
       "    </tr>\n",
       "    <tr>\n",
       "      <th>4</th>\n",
       "      <td>-122.812500</td>\n",
       "      <td>-122.770833</td>\n",
       "      <td>48.979167</td>\n",
       "      <td>49.020833</td>\n",
       "      <td>9.12</td>\n",
       "      <td>8.80</td>\n",
       "      <td>12.93</td>\n",
       "      <td>13.26</td>\n",
       "      <td>16.709999</td>\n",
       "      <td>18.059999</td>\n",
       "      <td>21.000000</td>\n",
       "      <td>23.17</td>\n",
       "      <td>18.830000</td>\n",
       "      <td>13.16</td>\n",
       "      <td>11.54</td>\n",
       "      <td>7.00</td>\n",
       "    </tr>\n",
       "  </tbody>\n",
       "</table>\n",
       "</div>"
      ],
      "text/plain": [
       "         Xmin        Xmax       Ymin       Ymax   jan   feb    mar    apr  \\\n",
       "0 -123.145833 -123.104167  48.979167  49.020833  9.85  8.53  12.26  11.97   \n",
       "1 -123.104167 -123.062500  48.979167  49.020833  9.33  8.49  12.56  12.71   \n",
       "2 -123.062500 -123.020833  48.979167  49.020833  9.69  8.69  12.49  11.88   \n",
       "3 -123.020833 -122.979167  48.979167  49.020833  9.69  8.69  12.49  11.88   \n",
       "4 -122.812500 -122.770833  48.979167  49.020833  9.12  8.80  12.93  13.26   \n",
       "\n",
       "         may        jun        jul    aug        sep    oct    nov   dec  \n",
       "0  15.140000  16.459999  19.580000  21.99  17.559999  12.36  11.56  7.67  \n",
       "1  16.139999  17.469999  20.700001  23.09  18.660000  12.71  11.24  7.03  \n",
       "2  15.070000  16.340000  19.530001  21.92  17.600000  12.33  11.66  7.54  \n",
       "3  15.070000  16.340000  19.530001  21.92  17.600000  12.33  11.66  7.54  \n",
       "4  16.709999  18.059999  21.000000  23.17  18.830000  13.16  11.54  7.00  "
      ]
     },
     "execution_count": 111,
     "metadata": {},
     "output_type": "execute_result"
    }
   ],
   "source": [
    "wd.head()"
   ]
  },
  {
   "cell_type": "code",
   "execution_count": 150,
   "metadata": {
    "collapsed": true
   },
   "outputs": [],
   "source": [
    "wds = wd[['Xmin', 'Ymin', 'Xmax', 'Ymax']]"
   ]
  },
  {
   "cell_type": "code",
   "execution_count": 175,
   "metadata": {
    "collapsed": true
   },
   "outputs": [],
   "source": [
    "wds.loc[:,'Lat'] = wds.loc[:, 'Ymin'].add(wds.loc[:, 'Ymax'], level = float).divide(2, level = float)\n",
    "wds.loc[:,'Long'] = wds.loc[:, 'Xmin'].add(wds.loc[:, 'Xmax'], level = float).divide(2, level = float)"
   ]
  },
  {
   "cell_type": "code",
   "execution_count": 176,
   "metadata": {
    "collapsed": false
   },
   "outputs": [],
   "source": [
    "wds.loc[:,'uid'] = wds.loc[:, 'Lat'].mul(wds.loc[:, 'Long'], level = float).divide(-7.5, level = float).mul(3097005138)"
   ]
  },
  {
   "cell_type": "code",
   "execution_count": 177,
   "metadata": {
    "collapsed": false
   },
   "outputs": [],
   "source": [
    "wds.uid = wds.uid.round()"
   ]
  },
  {
   "cell_type": "code",
   "execution_count": 178,
   "metadata": {
    "collapsed": false
   },
   "outputs": [
    {
     "data": {
      "text/html": [
       "<div>\n",
       "<table border=\"1\" class=\"dataframe\">\n",
       "  <thead>\n",
       "    <tr style=\"text-align: right;\">\n",
       "      <th></th>\n",
       "      <th>Xmin</th>\n",
       "      <th>Ymin</th>\n",
       "      <th>Xmax</th>\n",
       "      <th>Ymax</th>\n",
       "      <th>Lat</th>\n",
       "      <th>Long</th>\n",
       "      <th>uid</th>\n",
       "    </tr>\n",
       "  </thead>\n",
       "  <tbody>\n",
       "    <tr>\n",
       "      <th>0</th>\n",
       "      <td>-123.145833</td>\n",
       "      <td>48.979167</td>\n",
       "      <td>-123.104167</td>\n",
       "      <td>49.020833</td>\n",
       "      <td>49</td>\n",
       "      <td>-123.125000</td>\n",
       "      <td>2.491283e+12</td>\n",
       "    </tr>\n",
       "    <tr>\n",
       "      <th>1</th>\n",
       "      <td>-123.104167</td>\n",
       "      <td>48.979167</td>\n",
       "      <td>-123.062500</td>\n",
       "      <td>49.020833</td>\n",
       "      <td>49</td>\n",
       "      <td>-123.083333</td>\n",
       "      <td>2.490439e+12</td>\n",
       "    </tr>\n",
       "    <tr>\n",
       "      <th>2</th>\n",
       "      <td>-123.062500</td>\n",
       "      <td>48.979167</td>\n",
       "      <td>-123.020833</td>\n",
       "      <td>49.020833</td>\n",
       "      <td>49</td>\n",
       "      <td>-123.041667</td>\n",
       "      <td>2.489596e+12</td>\n",
       "    </tr>\n",
       "    <tr>\n",
       "      <th>3</th>\n",
       "      <td>-123.020833</td>\n",
       "      <td>48.979167</td>\n",
       "      <td>-122.979167</td>\n",
       "      <td>49.020833</td>\n",
       "      <td>49</td>\n",
       "      <td>-123.000000</td>\n",
       "      <td>2.488753e+12</td>\n",
       "    </tr>\n",
       "    <tr>\n",
       "      <th>4</th>\n",
       "      <td>-122.812500</td>\n",
       "      <td>48.979167</td>\n",
       "      <td>-122.770833</td>\n",
       "      <td>49.020833</td>\n",
       "      <td>49</td>\n",
       "      <td>-122.791667</td>\n",
       "      <td>2.484538e+12</td>\n",
       "    </tr>\n",
       "  </tbody>\n",
       "</table>\n",
       "</div>"
      ],
      "text/plain": [
       "         Xmin       Ymin        Xmax       Ymax  Lat        Long           uid\n",
       "0 -123.145833  48.979167 -123.104167  49.020833   49 -123.125000  2.491283e+12\n",
       "1 -123.104167  48.979167 -123.062500  49.020833   49 -123.083333  2.490439e+12\n",
       "2 -123.062500  48.979167 -123.020833  49.020833   49 -123.041667  2.489596e+12\n",
       "3 -123.020833  48.979167 -122.979167  49.020833   49 -123.000000  2.488753e+12\n",
       "4 -122.812500  48.979167 -122.770833  49.020833   49 -122.791667  2.484538e+12"
      ]
     },
     "execution_count": 178,
     "metadata": {},
     "output_type": "execute_result"
    }
   ],
   "source": [
    "wds.head()"
   ]
  },
  {
   "cell_type": "code",
   "execution_count": 181,
   "metadata": {
    "collapsed": true
   },
   "outputs": [],
   "source": [
    "wds2 = wds.drop_duplicates(subset = ['uid'])\n",
    "wds2.index = range(len(wds2))"
   ]
  },
  {
   "cell_type": "code",
   "execution_count": 182,
   "metadata": {
    "collapsed": false
   },
   "outputs": [
    {
     "name": "stdout",
     "output_type": "stream",
     "text": [
      "13579\n",
      "13650\n"
     ]
    }
   ],
   "source": [
    "print len(wds2)\n",
    "print len(wds)"
   ]
  },
  {
   "cell_type": "code",
   "execution_count": 183,
   "metadata": {
    "collapsed": true
   },
   "outputs": [],
   "source": [
    "#Exporting the unique weather variable id dataset\n",
    "wds2.to_excel(\"../DataFiles/wid.xlsx\") "
   ]
  },
  {
   "cell_type": "code",
   "execution_count": 185,
   "metadata": {
    "collapsed": false
   },
   "outputs": [],
   "source": [
    "matchdf = pd.read_csv(\"../DataFiles/nearestWeatherID.csv\") "
   ]
  },
  {
   "cell_type": "code",
   "execution_count": 186,
   "metadata": {
    "collapsed": true
   },
   "outputs": [],
   "source": [
    "rwid = pd.read_excel(\"../DataFiles/wid.xlsx\") "
   ]
  },
  {
   "cell_type": "code",
   "execution_count": 187,
   "metadata": {
    "collapsed": false
   },
   "outputs": [
    {
     "data": {
      "text/html": [
       "<div>\n",
       "<table border=\"1\" class=\"dataframe\">\n",
       "  <thead>\n",
       "    <tr style=\"text-align: right;\">\n",
       "      <th></th>\n",
       "      <th>ID</th>\n",
       "      <th>Xmin</th>\n",
       "      <th>Ymin</th>\n",
       "      <th>Xmax</th>\n",
       "      <th>Ymax</th>\n",
       "      <th>Lat</th>\n",
       "      <th>Long</th>\n",
       "      <th>uid</th>\n",
       "    </tr>\n",
       "  </thead>\n",
       "  <tbody>\n",
       "    <tr>\n",
       "      <th>0</th>\n",
       "      <td>0</td>\n",
       "      <td>-123.145833</td>\n",
       "      <td>48.979167</td>\n",
       "      <td>-123.104167</td>\n",
       "      <td>49.020833</td>\n",
       "      <td>49</td>\n",
       "      <td>-123.125000</td>\n",
       "      <td>2491282549760</td>\n",
       "    </tr>\n",
       "    <tr>\n",
       "      <th>1</th>\n",
       "      <td>1</td>\n",
       "      <td>-123.104167</td>\n",
       "      <td>48.979167</td>\n",
       "      <td>-123.062500</td>\n",
       "      <td>49.020833</td>\n",
       "      <td>49</td>\n",
       "      <td>-123.083333</td>\n",
       "      <td>2490439476172</td>\n",
       "    </tr>\n",
       "    <tr>\n",
       "      <th>2</th>\n",
       "      <td>2</td>\n",
       "      <td>-123.062500</td>\n",
       "      <td>48.979167</td>\n",
       "      <td>-123.020833</td>\n",
       "      <td>49.020833</td>\n",
       "      <td>49</td>\n",
       "      <td>-123.041667</td>\n",
       "      <td>2489596402484</td>\n",
       "    </tr>\n",
       "    <tr>\n",
       "      <th>3</th>\n",
       "      <td>3</td>\n",
       "      <td>-123.020833</td>\n",
       "      <td>48.979167</td>\n",
       "      <td>-122.979167</td>\n",
       "      <td>49.020833</td>\n",
       "      <td>49</td>\n",
       "      <td>-123.000000</td>\n",
       "      <td>2488753328897</td>\n",
       "    </tr>\n",
       "    <tr>\n",
       "      <th>4</th>\n",
       "      <td>4</td>\n",
       "      <td>-122.812500</td>\n",
       "      <td>48.979167</td>\n",
       "      <td>-122.770833</td>\n",
       "      <td>49.020833</td>\n",
       "      <td>49</td>\n",
       "      <td>-122.791667</td>\n",
       "      <td>2484537960759</td>\n",
       "    </tr>\n",
       "  </tbody>\n",
       "</table>\n",
       "</div>"
      ],
      "text/plain": [
       "   ID        Xmin       Ymin        Xmax       Ymax  Lat        Long  \\\n",
       "0   0 -123.145833  48.979167 -123.104167  49.020833   49 -123.125000   \n",
       "1   1 -123.104167  48.979167 -123.062500  49.020833   49 -123.083333   \n",
       "2   2 -123.062500  48.979167 -123.020833  49.020833   49 -123.041667   \n",
       "3   3 -123.020833  48.979167 -122.979167  49.020833   49 -123.000000   \n",
       "4   4 -122.812500  48.979167 -122.770833  49.020833   49 -122.791667   \n",
       "\n",
       "             uid  \n",
       "0  2491282549760  \n",
       "1  2490439476172  \n",
       "2  2489596402484  \n",
       "3  2488753328897  \n",
       "4  2484537960759  "
      ]
     },
     "execution_count": 187,
     "metadata": {},
     "output_type": "execute_result"
    }
   ],
   "source": [
    "rwid.head()"
   ]
  },
  {
   "cell_type": "code",
   "execution_count": 188,
   "metadata": {
    "collapsed": false
   },
   "outputs": [
    {
     "data": {
      "text/html": [
       "<div>\n",
       "<table border=\"1\" class=\"dataframe\">\n",
       "  <thead>\n",
       "    <tr style=\"text-align: right;\">\n",
       "      <th></th>\n",
       "      <th>InputID</th>\n",
       "      <th>TargetID</th>\n",
       "      <th>Distance</th>\n",
       "    </tr>\n",
       "  </thead>\n",
       "  <tbody>\n",
       "    <tr>\n",
       "      <th>0</th>\n",
       "      <td>54964</td>\n",
       "      <td>10653</td>\n",
       "      <td>0.013314</td>\n",
       "    </tr>\n",
       "    <tr>\n",
       "      <th>1</th>\n",
       "      <td>55012</td>\n",
       "      <td>10653</td>\n",
       "      <td>0.013314</td>\n",
       "    </tr>\n",
       "    <tr>\n",
       "      <th>2</th>\n",
       "      <td>55019</td>\n",
       "      <td>10652</td>\n",
       "      <td>0.011168</td>\n",
       "    </tr>\n",
       "    <tr>\n",
       "      <th>3</th>\n",
       "      <td>55369</td>\n",
       "      <td>3861</td>\n",
       "      <td>0.014693</td>\n",
       "    </tr>\n",
       "    <tr>\n",
       "      <th>4</th>\n",
       "      <td>55432</td>\n",
       "      <td>4227</td>\n",
       "      <td>0.027231</td>\n",
       "    </tr>\n",
       "  </tbody>\n",
       "</table>\n",
       "</div>"
      ],
      "text/plain": [
       "   InputID  TargetID  Distance\n",
       "0    54964     10653  0.013314\n",
       "1    55012     10653  0.013314\n",
       "2    55019     10652  0.011168\n",
       "3    55369      3861  0.014693\n",
       "4    55432      4227  0.027231"
      ]
     },
     "execution_count": 188,
     "metadata": {},
     "output_type": "execute_result"
    }
   ],
   "source": [
    "matchdf.head()"
   ]
  },
  {
   "cell_type": "code",
   "execution_count": 189,
   "metadata": {
    "collapsed": false
   },
   "outputs": [
    {
     "data": {
      "text/html": [
       "<div>\n",
       "<table border=\"1\" class=\"dataframe\">\n",
       "  <thead>\n",
       "    <tr style=\"text-align: right;\">\n",
       "      <th></th>\n",
       "      <th>Int ID</th>\n",
       "      <th>Latitude</th>\n",
       "      <th>Longitude</th>\n",
       "    </tr>\n",
       "  </thead>\n",
       "  <tbody>\n",
       "    <tr>\n",
       "      <th>0</th>\n",
       "      <td>54964</td>\n",
       "      <td>46.242524</td>\n",
       "      <td>-123.886017</td>\n",
       "    </tr>\n",
       "    <tr>\n",
       "      <th>1</th>\n",
       "      <td>55012</td>\n",
       "      <td>46.242524</td>\n",
       "      <td>-123.886017</td>\n",
       "    </tr>\n",
       "    <tr>\n",
       "      <th>2</th>\n",
       "      <td>55019</td>\n",
       "      <td>46.245641</td>\n",
       "      <td>-123.906384</td>\n",
       "    </tr>\n",
       "    <tr>\n",
       "      <th>3</th>\n",
       "      <td>55369</td>\n",
       "      <td>47.943812</td>\n",
       "      <td>-122.877238</td>\n",
       "    </tr>\n",
       "    <tr>\n",
       "      <th>4</th>\n",
       "      <td>55432</td>\n",
       "      <td>47.854791</td>\n",
       "      <td>-122.601585</td>\n",
       "    </tr>\n",
       "  </tbody>\n",
       "</table>\n",
       "</div>"
      ],
      "text/plain": [
       "   Int ID   Latitude   Longitude\n",
       "0   54964  46.242524 -123.886017\n",
       "1   55012  46.242524 -123.886017\n",
       "2   55019  46.245641 -123.906384\n",
       "3   55369  47.943812 -122.877238\n",
       "4   55432  47.854791 -122.601585"
      ]
     },
     "execution_count": 189,
     "metadata": {},
     "output_type": "execute_result"
    }
   ],
   "source": [
    "scoord.head()"
   ]
  },
  {
   "cell_type": "code",
   "execution_count": 190,
   "metadata": {
    "collapsed": true
   },
   "outputs": [],
   "source": [
    "mdf = pd.merge(scoord, matchdf, how = 'left',left_on = ['Int ID'], right_on = ['InputID'])"
   ]
  },
  {
   "cell_type": "code",
   "execution_count": 191,
   "metadata": {
    "collapsed": false
   },
   "outputs": [
    {
     "data": {
      "text/html": [
       "<div>\n",
       "<table border=\"1\" class=\"dataframe\">\n",
       "  <thead>\n",
       "    <tr style=\"text-align: right;\">\n",
       "      <th></th>\n",
       "      <th>Int ID</th>\n",
       "      <th>Latitude</th>\n",
       "      <th>Longitude</th>\n",
       "      <th>InputID</th>\n",
       "      <th>TargetID</th>\n",
       "      <th>Distance</th>\n",
       "    </tr>\n",
       "  </thead>\n",
       "  <tbody>\n",
       "    <tr>\n",
       "      <th>0</th>\n",
       "      <td>54964</td>\n",
       "      <td>46.242524</td>\n",
       "      <td>-123.886017</td>\n",
       "      <td>54964</td>\n",
       "      <td>10653</td>\n",
       "      <td>0.013314</td>\n",
       "    </tr>\n",
       "    <tr>\n",
       "      <th>1</th>\n",
       "      <td>55012</td>\n",
       "      <td>46.242524</td>\n",
       "      <td>-123.886017</td>\n",
       "      <td>55012</td>\n",
       "      <td>10653</td>\n",
       "      <td>0.013314</td>\n",
       "    </tr>\n",
       "    <tr>\n",
       "      <th>2</th>\n",
       "      <td>55019</td>\n",
       "      <td>46.245641</td>\n",
       "      <td>-123.906384</td>\n",
       "      <td>55019</td>\n",
       "      <td>10652</td>\n",
       "      <td>0.011168</td>\n",
       "    </tr>\n",
       "    <tr>\n",
       "      <th>3</th>\n",
       "      <td>55369</td>\n",
       "      <td>47.943812</td>\n",
       "      <td>-122.877238</td>\n",
       "      <td>55369</td>\n",
       "      <td>3861</td>\n",
       "      <td>0.014693</td>\n",
       "    </tr>\n",
       "    <tr>\n",
       "      <th>4</th>\n",
       "      <td>55432</td>\n",
       "      <td>47.854791</td>\n",
       "      <td>-122.601585</td>\n",
       "      <td>55432</td>\n",
       "      <td>4227</td>\n",
       "      <td>0.027231</td>\n",
       "    </tr>\n",
       "  </tbody>\n",
       "</table>\n",
       "</div>"
      ],
      "text/plain": [
       "   Int ID   Latitude   Longitude  InputID  TargetID  Distance\n",
       "0   54964  46.242524 -123.886017    54964     10653  0.013314\n",
       "1   55012  46.242524 -123.886017    55012     10653  0.013314\n",
       "2   55019  46.245641 -123.906384    55019     10652  0.011168\n",
       "3   55369  47.943812 -122.877238    55369      3861  0.014693\n",
       "4   55432  47.854791 -122.601585    55432      4227  0.027231"
      ]
     },
     "execution_count": 191,
     "metadata": {},
     "output_type": "execute_result"
    }
   ],
   "source": [
    "mdf.head()"
   ]
  },
  {
   "cell_type": "code",
   "execution_count": 193,
   "metadata": {
    "collapsed": false
   },
   "outputs": [],
   "source": [
    "acomplete = pd.merge(mdf, rwid, how = 'left',left_on = ['TargetID'], right_on = ['ID'])"
   ]
  },
  {
   "cell_type": "code",
   "execution_count": 194,
   "metadata": {
    "collapsed": false
   },
   "outputs": [
    {
     "data": {
      "text/html": [
       "<div>\n",
       "<table border=\"1\" class=\"dataframe\">\n",
       "  <thead>\n",
       "    <tr style=\"text-align: right;\">\n",
       "      <th></th>\n",
       "      <th>Int ID</th>\n",
       "      <th>Latitude</th>\n",
       "      <th>Longitude</th>\n",
       "      <th>InputID</th>\n",
       "      <th>TargetID</th>\n",
       "      <th>Distance</th>\n",
       "      <th>ID</th>\n",
       "      <th>Xmin</th>\n",
       "      <th>Ymin</th>\n",
       "      <th>Xmax</th>\n",
       "      <th>Ymax</th>\n",
       "      <th>Lat</th>\n",
       "      <th>Long</th>\n",
       "      <th>uid</th>\n",
       "    </tr>\n",
       "  </thead>\n",
       "  <tbody>\n",
       "    <tr>\n",
       "      <th>0</th>\n",
       "      <td>54964</td>\n",
       "      <td>46.242524</td>\n",
       "      <td>-123.886017</td>\n",
       "      <td>54964</td>\n",
       "      <td>10653</td>\n",
       "      <td>0.013314</td>\n",
       "      <td>10653</td>\n",
       "      <td>-123.895833</td>\n",
       "      <td>46.229167</td>\n",
       "      <td>-123.854167</td>\n",
       "      <td>46.270833</td>\n",
       "      <td>46.250000</td>\n",
       "      <td>-123.875000</td>\n",
       "      <td>2365789320730</td>\n",
       "    </tr>\n",
       "    <tr>\n",
       "      <th>1</th>\n",
       "      <td>55012</td>\n",
       "      <td>46.242524</td>\n",
       "      <td>-123.886017</td>\n",
       "      <td>55012</td>\n",
       "      <td>10653</td>\n",
       "      <td>0.013314</td>\n",
       "      <td>10653</td>\n",
       "      <td>-123.895833</td>\n",
       "      <td>46.229167</td>\n",
       "      <td>-123.854167</td>\n",
       "      <td>46.270833</td>\n",
       "      <td>46.250000</td>\n",
       "      <td>-123.875000</td>\n",
       "      <td>2365789320730</td>\n",
       "    </tr>\n",
       "    <tr>\n",
       "      <th>2</th>\n",
       "      <td>55019</td>\n",
       "      <td>46.245641</td>\n",
       "      <td>-123.906384</td>\n",
       "      <td>55019</td>\n",
       "      <td>10652</td>\n",
       "      <td>0.011168</td>\n",
       "      <td>10652</td>\n",
       "      <td>-123.937500</td>\n",
       "      <td>46.229167</td>\n",
       "      <td>-123.895833</td>\n",
       "      <td>46.270833</td>\n",
       "      <td>46.250000</td>\n",
       "      <td>-123.916667</td>\n",
       "      <td>2366585078963</td>\n",
       "    </tr>\n",
       "    <tr>\n",
       "      <th>3</th>\n",
       "      <td>55369</td>\n",
       "      <td>47.943812</td>\n",
       "      <td>-122.877238</td>\n",
       "      <td>55369</td>\n",
       "      <td>3861</td>\n",
       "      <td>0.014693</td>\n",
       "      <td>3861</td>\n",
       "      <td>-122.895833</td>\n",
       "      <td>47.937500</td>\n",
       "      <td>-122.854167</td>\n",
       "      <td>47.979167</td>\n",
       "      <td>47.958333</td>\n",
       "      <td>-122.875000</td>\n",
       "      <td>2433370704461</td>\n",
       "    </tr>\n",
       "    <tr>\n",
       "      <th>4</th>\n",
       "      <td>55432</td>\n",
       "      <td>47.854791</td>\n",
       "      <td>-122.601585</td>\n",
       "      <td>55432</td>\n",
       "      <td>4227</td>\n",
       "      <td>0.027231</td>\n",
       "      <td>4227</td>\n",
       "      <td>-122.604167</td>\n",
       "      <td>47.854167</td>\n",
       "      <td>-122.562500</td>\n",
       "      <td>47.895833</td>\n",
       "      <td>47.875000</td>\n",
       "      <td>-122.583333</td>\n",
       "      <td>2423376410746</td>\n",
       "    </tr>\n",
       "  </tbody>\n",
       "</table>\n",
       "</div>"
      ],
      "text/plain": [
       "   Int ID   Latitude   Longitude  InputID  TargetID  Distance     ID  \\\n",
       "0   54964  46.242524 -123.886017    54964     10653  0.013314  10653   \n",
       "1   55012  46.242524 -123.886017    55012     10653  0.013314  10653   \n",
       "2   55019  46.245641 -123.906384    55019     10652  0.011168  10652   \n",
       "3   55369  47.943812 -122.877238    55369      3861  0.014693   3861   \n",
       "4   55432  47.854791 -122.601585    55432      4227  0.027231   4227   \n",
       "\n",
       "         Xmin       Ymin        Xmax       Ymax        Lat        Long  \\\n",
       "0 -123.895833  46.229167 -123.854167  46.270833  46.250000 -123.875000   \n",
       "1 -123.895833  46.229167 -123.854167  46.270833  46.250000 -123.875000   \n",
       "2 -123.937500  46.229167 -123.895833  46.270833  46.250000 -123.916667   \n",
       "3 -122.895833  47.937500 -122.854167  47.979167  47.958333 -122.875000   \n",
       "4 -122.604167  47.854167 -122.562500  47.895833  47.875000 -122.583333   \n",
       "\n",
       "             uid  \n",
       "0  2365789320730  \n",
       "1  2365789320730  \n",
       "2  2366585078963  \n",
       "3  2433370704461  \n",
       "4  2423376410746  "
      ]
     },
     "execution_count": 194,
     "metadata": {},
     "output_type": "execute_result"
    }
   ],
   "source": [
    "acomplete.head()"
   ]
  },
  {
   "cell_type": "code",
   "execution_count": 196,
   "metadata": {
    "collapsed": false
   },
   "outputs": [
    {
     "data": {
      "text/plain": [
       "True"
      ]
     },
     "execution_count": 196,
     "metadata": {},
     "output_type": "execute_result"
    }
   ],
   "source": [
    "len(acomplete) == len(mdf) == len(scoord)"
   ]
  },
  {
   "cell_type": "code",
   "execution_count": 198,
   "metadata": {
    "collapsed": false
   },
   "outputs": [],
   "source": [
    "Bdf = acomplete[[  u'Int ID',  u'Latitude', u'Longitude',  u'ID', u'Xmax', u'Ymax']]"
   ]
  },
  {
   "cell_type": "code",
   "execution_count": 199,
   "metadata": {
    "collapsed": false
   },
   "outputs": [
    {
     "data": {
      "text/html": [
       "<div>\n",
       "<table border=\"1\" class=\"dataframe\">\n",
       "  <thead>\n",
       "    <tr style=\"text-align: right;\">\n",
       "      <th></th>\n",
       "      <th>Int ID</th>\n",
       "      <th>Latitude</th>\n",
       "      <th>Longitude</th>\n",
       "      <th>ID</th>\n",
       "      <th>Xmax</th>\n",
       "      <th>Ymax</th>\n",
       "    </tr>\n",
       "  </thead>\n",
       "  <tbody>\n",
       "    <tr>\n",
       "      <th>0</th>\n",
       "      <td>54964</td>\n",
       "      <td>46.242524</td>\n",
       "      <td>-123.886017</td>\n",
       "      <td>10653</td>\n",
       "      <td>-123.854167</td>\n",
       "      <td>46.270833</td>\n",
       "    </tr>\n",
       "    <tr>\n",
       "      <th>1</th>\n",
       "      <td>55012</td>\n",
       "      <td>46.242524</td>\n",
       "      <td>-123.886017</td>\n",
       "      <td>10653</td>\n",
       "      <td>-123.854167</td>\n",
       "      <td>46.270833</td>\n",
       "    </tr>\n",
       "    <tr>\n",
       "      <th>2</th>\n",
       "      <td>55019</td>\n",
       "      <td>46.245641</td>\n",
       "      <td>-123.906384</td>\n",
       "      <td>10652</td>\n",
       "      <td>-123.895833</td>\n",
       "      <td>46.270833</td>\n",
       "    </tr>\n",
       "    <tr>\n",
       "      <th>3</th>\n",
       "      <td>55369</td>\n",
       "      <td>47.943812</td>\n",
       "      <td>-122.877238</td>\n",
       "      <td>3861</td>\n",
       "      <td>-122.854167</td>\n",
       "      <td>47.979167</td>\n",
       "    </tr>\n",
       "    <tr>\n",
       "      <th>4</th>\n",
       "      <td>55432</td>\n",
       "      <td>47.854791</td>\n",
       "      <td>-122.601585</td>\n",
       "      <td>4227</td>\n",
       "      <td>-122.562500</td>\n",
       "      <td>47.895833</td>\n",
       "    </tr>\n",
       "  </tbody>\n",
       "</table>\n",
       "</div>"
      ],
      "text/plain": [
       "   Int ID   Latitude   Longitude     ID        Xmax       Ymax\n",
       "0   54964  46.242524 -123.886017  10653 -123.854167  46.270833\n",
       "1   55012  46.242524 -123.886017  10653 -123.854167  46.270833\n",
       "2   55019  46.245641 -123.906384  10652 -123.895833  46.270833\n",
       "3   55369  47.943812 -122.877238   3861 -122.854167  47.979167\n",
       "4   55432  47.854791 -122.601585   4227 -122.562500  47.895833"
      ]
     },
     "execution_count": 199,
     "metadata": {},
     "output_type": "execute_result"
    }
   ],
   "source": [
    "Bdf.head()"
   ]
  },
  {
   "cell_type": "code",
   "execution_count": 200,
   "metadata": {
    "collapsed": true
   },
   "outputs": [],
   "source": [
    "Bdf.to_excel('../DataFiles/coordLinker.xlsx')"
   ]
  },
  {
   "cell_type": "code",
   "execution_count": null,
   "metadata": {
    "collapsed": true
   },
   "outputs": [],
   "source": []
  }
 ],
 "metadata": {
  "kernelspec": {
   "display_name": "Python 2",
   "language": "python",
   "name": "python2"
  },
  "language_info": {
   "codemirror_mode": {
    "name": "ipython",
    "version": 2
   },
   "file_extension": ".py",
   "mimetype": "text/x-python",
   "name": "python",
   "nbconvert_exporter": "python",
   "pygments_lexer": "ipython2",
   "version": "2.7.10"
  }
 },
 "nbformat": 4,
 "nbformat_minor": 0
}
