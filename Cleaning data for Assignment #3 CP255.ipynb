{
 "cells": [
  {
   "cell_type": "code",
   "execution_count": 1,
   "metadata": {
    "collapsed": true
   },
   "outputs": [],
   "source": [
    "import numpy as np\n",
    "import pandas as pd\n",
    "import xlsxwriter"
   ]
  },
  {
   "cell_type": "code",
   "execution_count": 3,
   "metadata": {
    "collapsed": false
   },
   "outputs": [],
   "source": [
    "milePost = pd.read_csv(\"../DataFiles/milePostFile.csv\")\n",
    "df = pd.read_excel(\"../DataFiles/RcrackModeldataset.xlsx\")"
   ]
  },
  {
   "cell_type": "code",
   "execution_count": 4,
   "metadata": {
    "collapsed": false
   },
   "outputs": [
    {
     "data": {
      "text/html": [
       "<div>\n",
       "<table border=\"1\" class=\"dataframe\">\n",
       "  <thead>\n",
       "    <tr style=\"text-align: right;\">\n",
       "      <th></th>\n",
       "      <th>X</th>\n",
       "      <th>Y</th>\n",
       "      <th>MP_VALUE</th>\n",
       "      <th>SR</th>\n",
       "      <th>UID</th>\n",
       "      <th>LONGITUDE</th>\n",
       "      <th>LATITUDE</th>\n",
       "      <th>HAE</th>\n",
       "      <th>REF_DATE</th>\n",
       "      <th>REGION</th>\n",
       "      <th>DIRECTION</th>\n",
       "      <th>SOURCE</th>\n",
       "      <th>AB</th>\n",
       "      <th>DISTANCE</th>\n",
       "      <th>COMMENTS</th>\n",
       "    </tr>\n",
       "  </thead>\n",
       "  <tbody>\n",
       "    <tr>\n",
       "      <th>0</th>\n",
       "      <td>-122.169366</td>\n",
       "      <td>47.978215</td>\n",
       "      <td>1</td>\n",
       "      <td>2</td>\n",
       "      <td>2621</td>\n",
       "      <td>-122.169366</td>\n",
       "      <td>47.978215</td>\n",
       "      <td>-56.14</td>\n",
       "      <td>4/21/05</td>\n",
       "      <td>NW</td>\n",
       "      <td>i</td>\n",
       "      <td>1</td>\n",
       "      <td>A</td>\n",
       "      <td>99999.99</td>\n",
       "      <td>NaN</td>\n",
       "    </tr>\n",
       "    <tr>\n",
       "      <th>1</th>\n",
       "      <td>-122.167960</td>\n",
       "      <td>47.978424</td>\n",
       "      <td>1</td>\n",
       "      <td>2</td>\n",
       "      <td>2621</td>\n",
       "      <td>-122.167960</td>\n",
       "      <td>47.978424</td>\n",
       "      <td>-53.83</td>\n",
       "      <td>4/21/05</td>\n",
       "      <td>NW</td>\n",
       "      <td>d</td>\n",
       "      <td>1</td>\n",
       "      <td>A</td>\n",
       "      <td>99999.99</td>\n",
       "      <td>NaN</td>\n",
       "    </tr>\n",
       "    <tr>\n",
       "      <th>2</th>\n",
       "      <td>-122.147555</td>\n",
       "      <td>47.978414</td>\n",
       "      <td>2</td>\n",
       "      <td>2</td>\n",
       "      <td>6976</td>\n",
       "      <td>-122.147555</td>\n",
       "      <td>47.978414</td>\n",
       "      <td>-53.63</td>\n",
       "      <td>4/21/05</td>\n",
       "      <td>NW</td>\n",
       "      <td>d</td>\n",
       "      <td>1</td>\n",
       "      <td>A</td>\n",
       "      <td>99999.99</td>\n",
       "      <td>NaN</td>\n",
       "    </tr>\n",
       "    <tr>\n",
       "      <th>3</th>\n",
       "      <td>-122.133338</td>\n",
       "      <td>47.970205</td>\n",
       "      <td>3</td>\n",
       "      <td>2</td>\n",
       "      <td>16568</td>\n",
       "      <td>-122.133338</td>\n",
       "      <td>47.970205</td>\n",
       "      <td>-41.38</td>\n",
       "      <td>4/21/05</td>\n",
       "      <td>NW</td>\n",
       "      <td>i</td>\n",
       "      <td>1</td>\n",
       "      <td>A</td>\n",
       "      <td>99999.99</td>\n",
       "      <td>NaN</td>\n",
       "    </tr>\n",
       "    <tr>\n",
       "      <th>4</th>\n",
       "      <td>-122.132785</td>\n",
       "      <td>47.970380</td>\n",
       "      <td>3</td>\n",
       "      <td>2</td>\n",
       "      <td>16568</td>\n",
       "      <td>-122.132785</td>\n",
       "      <td>47.970380</td>\n",
       "      <td>-1.71</td>\n",
       "      <td>4/21/05</td>\n",
       "      <td>NW</td>\n",
       "      <td>d</td>\n",
       "      <td>1</td>\n",
       "      <td>A</td>\n",
       "      <td>99999.99</td>\n",
       "      <td>NaN</td>\n",
       "    </tr>\n",
       "  </tbody>\n",
       "</table>\n",
       "</div>"
      ],
      "text/plain": [
       "            X          Y  MP_VALUE SR    UID   LONGITUDE   LATITUDE    HAE  \\\n",
       "0 -122.169366  47.978215         1  2   2621 -122.169366  47.978215 -56.14   \n",
       "1 -122.167960  47.978424         1  2   2621 -122.167960  47.978424 -53.83   \n",
       "2 -122.147555  47.978414         2  2   6976 -122.147555  47.978414 -53.63   \n",
       "3 -122.133338  47.970205         3  2  16568 -122.133338  47.970205 -41.38   \n",
       "4 -122.132785  47.970380         3  2  16568 -122.132785  47.970380  -1.71   \n",
       "\n",
       "  REF_DATE REGION DIRECTION  SOURCE AB  DISTANCE COMMENTS  \n",
       "0  4/21/05     NW         i       1  A  99999.99      NaN  \n",
       "1  4/21/05     NW         d       1  A  99999.99      NaN  \n",
       "2  4/21/05     NW         d       1  A  99999.99      NaN  \n",
       "3  4/21/05     NW         i       1  A  99999.99      NaN  \n",
       "4  4/21/05     NW         d       1  A  99999.99      NaN  "
      ]
     },
     "execution_count": 4,
     "metadata": {},
     "output_type": "execute_result"
    }
   ],
   "source": [
    "milePost.head()"
   ]
  },
  {
   "cell_type": "code",
   "execution_count": 5,
   "metadata": {
    "collapsed": true
   },
   "outputs": [],
   "source": [
    "coord = milePost[['X', 'Y', 'MP_VALUE', 'SR']]"
   ]
  },
  {
   "cell_type": "code",
   "execution_count": 50,
   "metadata": {
    "collapsed": false
   },
   "outputs": [
    {
     "data": {
      "text/plain": [
       "X           float64\n",
       "Y           float64\n",
       "MP_VALUE      int64\n",
       "SR           object\n",
       "sr            int64\n",
       "dtype: object"
      ]
     },
     "execution_count": 50,
     "metadata": {},
     "output_type": "execute_result"
    }
   ],
   "source": [
    "coord.dtypes"
   ]
  },
  {
   "cell_type": "code",
   "execution_count": 36,
   "metadata": {
    "collapsed": false
   },
   "outputs": [
    {
     "data": {
      "text/plain": [
       "str"
      ]
     },
     "execution_count": 36,
     "metadata": {},
     "output_type": "execute_result"
    }
   ],
   "source": [
    "type(list(coord[['SR']][1:2])[0])"
   ]
  },
  {
   "cell_type": "code",
   "execution_count": 43,
   "metadata": {
    "collapsed": false
   },
   "outputs": [],
   "source": [
    "def change2ints(row):\n",
    "    sr = row['SR']\n",
    "    if len(sr) > 3:\n",
    "        return 0\n",
    "    return int(sr)"
   ]
  },
  {
   "cell_type": "code",
   "execution_count": 48,
   "metadata": {
    "collapsed": false
   },
   "outputs": [
    {
     "name": "stderr",
     "output_type": "stream",
     "text": [
      "/home/guerrero/anaconda/lib/python2.7/site-packages/pandas/core/indexing.py:249: SettingWithCopyWarning: \n",
      "A value is trying to be set on a copy of a slice from a DataFrame.\n",
      "Try using .loc[row_indexer,col_indexer] = value instead\n",
      "\n",
      "See the the caveats in the documentation: http://pandas.pydata.org/pandas-docs/stable/indexing.html#indexing-view-versus-copy\n",
      "  self.obj[key] = _infer_fill_value(value)\n",
      "/home/guerrero/anaconda/lib/python2.7/site-packages/pandas/core/indexing.py:415: SettingWithCopyWarning: \n",
      "A value is trying to be set on a copy of a slice from a DataFrame.\n",
      "Try using .loc[row_indexer,col_indexer] = value instead\n",
      "\n",
      "See the the caveats in the documentation: http://pandas.pydata.org/pandas-docs/stable/indexing.html#indexing-view-versus-copy\n",
      "  self.obj[item] = s\n"
     ]
    }
   ],
   "source": [
    "coord.loc[:,'sr'] = coord.apply(change2ints, axis = 1)"
   ]
  },
  {
   "cell_type": "code",
   "execution_count": 49,
   "metadata": {
    "collapsed": false
   },
   "outputs": [
    {
     "data": {
      "text/html": [
       "<div>\n",
       "<table border=\"1\" class=\"dataframe\">\n",
       "  <thead>\n",
       "    <tr style=\"text-align: right;\">\n",
       "      <th></th>\n",
       "      <th>X</th>\n",
       "      <th>Y</th>\n",
       "      <th>MP_VALUE</th>\n",
       "      <th>SR</th>\n",
       "      <th>sr</th>\n",
       "    </tr>\n",
       "  </thead>\n",
       "  <tbody>\n",
       "    <tr>\n",
       "      <th>0</th>\n",
       "      <td>-122.169366</td>\n",
       "      <td>47.978215</td>\n",
       "      <td>1</td>\n",
       "      <td>2</td>\n",
       "      <td>2</td>\n",
       "    </tr>\n",
       "    <tr>\n",
       "      <th>1</th>\n",
       "      <td>-122.167960</td>\n",
       "      <td>47.978424</td>\n",
       "      <td>1</td>\n",
       "      <td>2</td>\n",
       "      <td>2</td>\n",
       "    </tr>\n",
       "    <tr>\n",
       "      <th>2</th>\n",
       "      <td>-122.147555</td>\n",
       "      <td>47.978414</td>\n",
       "      <td>2</td>\n",
       "      <td>2</td>\n",
       "      <td>2</td>\n",
       "    </tr>\n",
       "    <tr>\n",
       "      <th>3</th>\n",
       "      <td>-122.133338</td>\n",
       "      <td>47.970205</td>\n",
       "      <td>3</td>\n",
       "      <td>2</td>\n",
       "      <td>2</td>\n",
       "    </tr>\n",
       "    <tr>\n",
       "      <th>4</th>\n",
       "      <td>-122.132785</td>\n",
       "      <td>47.970380</td>\n",
       "      <td>3</td>\n",
       "      <td>2</td>\n",
       "      <td>2</td>\n",
       "    </tr>\n",
       "  </tbody>\n",
       "</table>\n",
       "</div>"
      ],
      "text/plain": [
       "            X          Y  MP_VALUE SR  sr\n",
       "0 -122.169366  47.978215         1  2   2\n",
       "1 -122.167960  47.978424         1  2   2\n",
       "2 -122.147555  47.978414         2  2   2\n",
       "3 -122.133338  47.970205         3  2   2\n",
       "4 -122.132785  47.970380         3  2   2"
      ]
     },
     "execution_count": 49,
     "metadata": {},
     "output_type": "execute_result"
    }
   ],
   "source": [
    "coord.head()"
   ]
  },
  {
   "cell_type": "code",
   "execution_count": 51,
   "metadata": {
    "collapsed": false
   },
   "outputs": [],
   "source": [
    "test = coord[((coord.loc[:,'MP_VALUE'] > 1.0) & (coord.loc[:,'MP_VALUE'] < 3)) & (coord.loc[:,'sr'] < 10)]"
   ]
  },
  {
   "cell_type": "code",
   "execution_count": 57,
   "metadata": {
    "collapsed": false
   },
   "outputs": [],
   "source": [
    "db = coord[['X', 'Y', 'MP_VALUE', 'sr']]"
   ]
  },
  {
   "cell_type": "code",
   "execution_count": 59,
   "metadata": {
    "collapsed": false
   },
   "outputs": [],
   "source": [
    "db = db[db.loc[:,'sr']>0]  "
   ]
  },
  {
   "cell_type": "code",
   "execution_count": 60,
   "metadata": {
    "collapsed": false
   },
   "outputs": [
    {
     "data": {
      "text/html": [
       "<div>\n",
       "<table border=\"1\" class=\"dataframe\">\n",
       "  <thead>\n",
       "    <tr style=\"text-align: right;\">\n",
       "      <th></th>\n",
       "      <th>X</th>\n",
       "      <th>Y</th>\n",
       "      <th>MP_VALUE</th>\n",
       "      <th>sr</th>\n",
       "    </tr>\n",
       "  </thead>\n",
       "  <tbody>\n",
       "    <tr>\n",
       "      <th>0</th>\n",
       "      <td>-122.169366</td>\n",
       "      <td>47.978215</td>\n",
       "      <td>1</td>\n",
       "      <td>2</td>\n",
       "    </tr>\n",
       "    <tr>\n",
       "      <th>1</th>\n",
       "      <td>-122.167960</td>\n",
       "      <td>47.978424</td>\n",
       "      <td>1</td>\n",
       "      <td>2</td>\n",
       "    </tr>\n",
       "    <tr>\n",
       "      <th>2</th>\n",
       "      <td>-122.147555</td>\n",
       "      <td>47.978414</td>\n",
       "      <td>2</td>\n",
       "      <td>2</td>\n",
       "    </tr>\n",
       "    <tr>\n",
       "      <th>3</th>\n",
       "      <td>-122.133338</td>\n",
       "      <td>47.970205</td>\n",
       "      <td>3</td>\n",
       "      <td>2</td>\n",
       "    </tr>\n",
       "    <tr>\n",
       "      <th>4</th>\n",
       "      <td>-122.132785</td>\n",
       "      <td>47.970380</td>\n",
       "      <td>3</td>\n",
       "      <td>2</td>\n",
       "    </tr>\n",
       "  </tbody>\n",
       "</table>\n",
       "</div>"
      ],
      "text/plain": [
       "            X          Y  MP_VALUE  sr\n",
       "0 -122.169366  47.978215         1   2\n",
       "1 -122.167960  47.978424         1   2\n",
       "2 -122.147555  47.978414         2   2\n",
       "3 -122.133338  47.970205         3   2\n",
       "4 -122.132785  47.970380         3   2"
      ]
     },
     "execution_count": 60,
     "metadata": {},
     "output_type": "execute_result"
    }
   ],
   "source": [
    "db.head()"
   ]
  },
  {
   "cell_type": "code",
   "execution_count": 89,
   "metadata": {
    "collapsed": true
   },
   "outputs": [],
   "source": [
    "test = np.array(db[((db.loc[:,'MP_VALUE'] > 1.0) & (db.loc[:,'MP_VALUE'] < 3)) & (db.loc[:,'sr'] < 10)][0:1])"
   ]
  },
  {
   "cell_type": "code",
   "execution_count": 94,
   "metadata": {
    "collapsed": false
   },
   "outputs": [
    {
     "data": {
      "text/plain": [
       "-122.14755500000001"
      ]
     },
     "execution_count": 94,
     "metadata": {},
     "output_type": "execute_result"
    }
   ],
   "source": [
    "test[0][0:2][0]"
   ]
  },
  {
   "cell_type": "code",
   "execution_count": 97,
   "metadata": {
    "collapsed": false
   },
   "outputs": [],
   "source": [
    "# df.dtypes"
   ]
  },
  {
   "cell_type": "code",
   "execution_count": 98,
   "metadata": {
    "collapsed": true
   },
   "outputs": [],
   "source": [
    "def getLat(row):\n",
    "    sr = row['SR']\n",
    "    bmp = int(row['Begin ARM'])+1\n",
    "    emp = int(row['End ARM'])+1\n",
    "    res = np.array(db[((db.loc[:,'MP_VALUE'] >= bmp) & (db.loc[:,'MP_VALUE'] <= emp)) & (db.loc[:,'sr'] == sr)])\n",
    "    if len(res) > 0:\n",
    "        coordinates = res[0][0:2]\n",
    "        x = coordinates[0]\n",
    "        return coordinates[1]\n",
    "    return None"
   ]
  },
  {
   "cell_type": "code",
   "execution_count": 99,
   "metadata": {
    "collapsed": true
   },
   "outputs": [],
   "source": [
    "df['Latitude'] = df.apply(getLat, axis = 1)"
   ]
  },
  {
   "cell_type": "code",
   "execution_count": 101,
   "metadata": {
    "collapsed": false
   },
   "outputs": [],
   "source": [
    "def getLong(row):\n",
    "    sr = row['SR']\n",
    "    bmp = int(row['Begin ARM'])+1\n",
    "    emp = int(row['End ARM'])+1\n",
    "    res = np.array(db[((db.loc[:,'MP_VALUE'] >= bmp) & (db.loc[:,'MP_VALUE'] <= emp)) & (db.loc[:,'sr'] == sr)])\n",
    "    if len(res) > 0:\n",
    "        coordinates = res[0][0:2]\n",
    "        return coordinates[0]\n",
    "#         return coordinates[1]\n",
    "    return None"
   ]
  },
  {
   "cell_type": "code",
   "execution_count": 102,
   "metadata": {
    "collapsed": true
   },
   "outputs": [],
   "source": [
    "df['Longitude'] = df.apply(getLong, axis = 1)"
   ]
  },
  {
   "cell_type": "code",
   "execution_count": 103,
   "metadata": {
    "collapsed": false
   },
   "outputs": [
    {
     "data": {
      "text/html": [
       "<div>\n",
       "<table border=\"1\" class=\"dataframe\">\n",
       "  <thead>\n",
       "    <tr style=\"text-align: right;\">\n",
       "      <th></th>\n",
       "      <th>YearC</th>\n",
       "      <th>Sealed Alligator</th>\n",
       "      <th>Sealed Longitudinal</th>\n",
       "      <th>Int ID</th>\n",
       "      <th>SR</th>\n",
       "      <th>Begin ARM</th>\n",
       "      <th>End ARM</th>\n",
       "      <th>Year</th>\n",
       "      <th>Contract Type Description</th>\n",
       "      <th>Surface Type Code</th>\n",
       "      <th>...</th>\n",
       "      <th>Long</th>\n",
       "      <th>CatLong</th>\n",
       "      <th>AlliP</th>\n",
       "      <th>LongP</th>\n",
       "      <th>Traffic Year</th>\n",
       "      <th>ESALs</th>\n",
       "      <th>Contract History ID</th>\n",
       "      <th>STcode</th>\n",
       "      <th>Latitude</th>\n",
       "      <th>Longitude</th>\n",
       "    </tr>\n",
       "  </thead>\n",
       "  <tbody>\n",
       "    <tr>\n",
       "      <th>0</th>\n",
       "      <td>2003</td>\n",
       "      <td>NaN</td>\n",
       "      <td>NaN</td>\n",
       "      <td>54964</td>\n",
       "      <td>101</td>\n",
       "      <td>0.53</td>\n",
       "      <td>0.63</td>\n",
       "      <td>1996</td>\n",
       "      <td>RESURFACE EXISTING RDWY</td>\n",
       "      <td>AA</td>\n",
       "      <td>...</td>\n",
       "      <td>10</td>\n",
       "      <td>L</td>\n",
       "      <td>1.988636</td>\n",
       "      <td>0.946970</td>\n",
       "      <td>2013</td>\n",
       "      <td>32740</td>\n",
       "      <td>0073c3c3-1b5a-40af-a002-022c09a2875d</td>\n",
       "      <td>AA</td>\n",
       "      <td>46.242524</td>\n",
       "      <td>-123.886017</td>\n",
       "    </tr>\n",
       "    <tr>\n",
       "      <th>1</th>\n",
       "      <td>2004</td>\n",
       "      <td>NaN</td>\n",
       "      <td>NaN</td>\n",
       "      <td>54964</td>\n",
       "      <td>101</td>\n",
       "      <td>0.53</td>\n",
       "      <td>0.63</td>\n",
       "      <td>1996</td>\n",
       "      <td>RESURFACE EXISTING RDWY</td>\n",
       "      <td>AA</td>\n",
       "      <td>...</td>\n",
       "      <td>84</td>\n",
       "      <td>L</td>\n",
       "      <td>0.946970</td>\n",
       "      <td>7.954545</td>\n",
       "      <td>2013</td>\n",
       "      <td>32740</td>\n",
       "      <td>0073c3c3-1b5a-40af-a002-022c09a2875d</td>\n",
       "      <td>AA</td>\n",
       "      <td>46.242524</td>\n",
       "      <td>-123.886017</td>\n",
       "    </tr>\n",
       "    <tr>\n",
       "      <th>2</th>\n",
       "      <td>2005</td>\n",
       "      <td>NaN</td>\n",
       "      <td>NaN</td>\n",
       "      <td>54964</td>\n",
       "      <td>101</td>\n",
       "      <td>0.53</td>\n",
       "      <td>0.63</td>\n",
       "      <td>1996</td>\n",
       "      <td>RESURFACE EXISTING RDWY</td>\n",
       "      <td>AA</td>\n",
       "      <td>...</td>\n",
       "      <td>10</td>\n",
       "      <td>L</td>\n",
       "      <td>1.988636</td>\n",
       "      <td>0.946970</td>\n",
       "      <td>2013</td>\n",
       "      <td>32740</td>\n",
       "      <td>0073c3c3-1b5a-40af-a002-022c09a2875d</td>\n",
       "      <td>AA</td>\n",
       "      <td>46.242524</td>\n",
       "      <td>-123.886017</td>\n",
       "    </tr>\n",
       "    <tr>\n",
       "      <th>3</th>\n",
       "      <td>2006</td>\n",
       "      <td>NaN</td>\n",
       "      <td>NaN</td>\n",
       "      <td>54964</td>\n",
       "      <td>101</td>\n",
       "      <td>0.53</td>\n",
       "      <td>0.63</td>\n",
       "      <td>1996</td>\n",
       "      <td>RESURFACE EXISTING RDWY</td>\n",
       "      <td>AA</td>\n",
       "      <td>...</td>\n",
       "      <td>5</td>\n",
       "      <td>L</td>\n",
       "      <td>1.988636</td>\n",
       "      <td>0.473485</td>\n",
       "      <td>2013</td>\n",
       "      <td>32740</td>\n",
       "      <td>0073c3c3-1b5a-40af-a002-022c09a2875d</td>\n",
       "      <td>AA</td>\n",
       "      <td>46.242524</td>\n",
       "      <td>-123.886017</td>\n",
       "    </tr>\n",
       "    <tr>\n",
       "      <th>4</th>\n",
       "      <td>2007</td>\n",
       "      <td>NaN</td>\n",
       "      <td>NaN</td>\n",
       "      <td>54964</td>\n",
       "      <td>101</td>\n",
       "      <td>0.53</td>\n",
       "      <td>0.63</td>\n",
       "      <td>1996</td>\n",
       "      <td>RESURFACE EXISTING RDWY</td>\n",
       "      <td>AA</td>\n",
       "      <td>...</td>\n",
       "      <td>5</td>\n",
       "      <td>L</td>\n",
       "      <td>NaN</td>\n",
       "      <td>0.473485</td>\n",
       "      <td>2013</td>\n",
       "      <td>32740</td>\n",
       "      <td>0073c3c3-1b5a-40af-a002-022c09a2875d</td>\n",
       "      <td>AA</td>\n",
       "      <td>46.242524</td>\n",
       "      <td>-123.886017</td>\n",
       "    </tr>\n",
       "  </tbody>\n",
       "</table>\n",
       "<p>5 rows × 44 columns</p>\n",
       "</div>"
      ],
      "text/plain": [
       "   YearC  Sealed Alligator  Sealed Longitudinal  Int ID   SR  Begin ARM  \\\n",
       "0   2003               NaN                  NaN   54964  101       0.53   \n",
       "1   2004               NaN                  NaN   54964  101       0.53   \n",
       "2   2005               NaN                  NaN   54964  101       0.53   \n",
       "3   2006               NaN                  NaN   54964  101       0.53   \n",
       "4   2007               NaN                  NaN   54964  101       0.53   \n",
       "\n",
       "   End ARM  Year Contract Type Description Surface Type Code     ...     Long  \\\n",
       "0     0.63  1996   RESURFACE EXISTING RDWY                AA     ...       10   \n",
       "1     0.63  1996   RESURFACE EXISTING RDWY                AA     ...       84   \n",
       "2     0.63  1996   RESURFACE EXISTING RDWY                AA     ...       10   \n",
       "3     0.63  1996   RESURFACE EXISTING RDWY                AA     ...        5   \n",
       "4     0.63  1996   RESURFACE EXISTING RDWY                AA     ...        5   \n",
       "\n",
       "   CatLong     AlliP     LongP  Traffic Year  ESALs  \\\n",
       "0        L  1.988636  0.946970          2013  32740   \n",
       "1        L  0.946970  7.954545          2013  32740   \n",
       "2        L  1.988636  0.946970          2013  32740   \n",
       "3        L  1.988636  0.473485          2013  32740   \n",
       "4        L       NaN  0.473485          2013  32740   \n",
       "\n",
       "                    Contract History ID  STcode   Latitude   Longitude  \n",
       "0  0073c3c3-1b5a-40af-a002-022c09a2875d      AA  46.242524 -123.886017  \n",
       "1  0073c3c3-1b5a-40af-a002-022c09a2875d      AA  46.242524 -123.886017  \n",
       "2  0073c3c3-1b5a-40af-a002-022c09a2875d      AA  46.242524 -123.886017  \n",
       "3  0073c3c3-1b5a-40af-a002-022c09a2875d      AA  46.242524 -123.886017  \n",
       "4  0073c3c3-1b5a-40af-a002-022c09a2875d      AA  46.242524 -123.886017  \n",
       "\n",
       "[5 rows x 44 columns]"
      ]
     },
     "execution_count": 103,
     "metadata": {},
     "output_type": "execute_result"
    }
   ],
   "source": [
    "df.head()"
   ]
  },
  {
   "cell_type": "code",
   "execution_count": 104,
   "metadata": {
    "collapsed": true
   },
   "outputs": [],
   "source": [
    "df.to_excel(\"../DataFiles/wholeDataset.xlsx\")"
   ]
  },
  {
   "cell_type": "code",
   "execution_count": 105,
   "metadata": {
    "collapsed": false
   },
   "outputs": [
    {
     "data": {
      "text/plain": [
       "Index([                     u'YearC',           u'Sealed Alligator',\n",
       "              u'Sealed Longitudinal',                     u'Int ID',\n",
       "                               u'SR',                  u'Begin ARM',\n",
       "                          u'End ARM',                       u'Year',\n",
       "        u'Contract Type Description',          u'Surface Type Code',\n",
       "         u'Surface Type Description',          u'Surface Thickness',\n",
       "                           u'Region',                       u'ID_y',\n",
       "                u'Construction Year',           u'Major Rehab Year',\n",
       "               u'Segment Lane Miles',    u'ESALs Since Major Rehab',\n",
       "                  u'Total Thickness',    u'Total Surface Thickness',\n",
       "                    u'Pavement Type', u'Construction Pavement Type',\n",
       "                 u'Major Rehab Type',     u'Prior Major Rehab Year',\n",
       "           u'Prior Major Rehab Type',                u'Original ID',\n",
       "                        u'Is Bridge',          u'Lane Surface Type',\n",
       "                       u'Lane Miles',   u'Federal Functional Class',\n",
       "            u'Avg Construction Date',       u'Avg Major Rehab Date',\n",
       "                             u'Alli',                    u'CatAlli',\n",
       "                             u'Long',                    u'CatLong',\n",
       "                            u'AlliP',                      u'LongP',\n",
       "                     u'Traffic Year',                      u'ESALs',\n",
       "              u'Contract History ID',                     u'STcode',\n",
       "                         u'Latitude',                  u'Longitude'],\n",
       "      dtype='object')"
      ]
     },
     "execution_count": 105,
     "metadata": {},
     "output_type": "execute_result"
    }
   ],
   "source": [
    "df.columns "
   ]
  },
  {
   "cell_type": "code",
   "execution_count": 110,
   "metadata": {
    "collapsed": true
   },
   "outputs": [],
   "source": [
    "df2 = df[[                     u'YearC',                           u'Int ID',\n",
    "                               u'SR',                  u'Begin ARM',\n",
    "                          u'End ARM',                       u'Year',\n",
    "                           u'Region',                       u'ID_y',\n",
    "               u'Segment Lane Miles',    u'ESALs Since Major Rehab',\n",
    "                 u'Major Rehab Type',     u'Prior Major Rehab Year',\n",
    "           u'Prior Major Rehab Type',  u'Is Bridge', u'Lane Surface Type',\n",
    "                       u'Lane Miles',   u'Federal Functional Class',\n",
    "            u'Avg Construction Date',       u'Avg Major Rehab Date',\n",
    "                             u'Alli',                    u'CatAlli',\n",
    "                             u'Long',                    u'CatLong',\n",
    "                            u'AlliP', u'LongP', u'Traffic Year',                      u'ESALs',\n",
    "                             u'STcode', u'Longitude', u'Latitude']]"
   ]
  },
  {
   "cell_type": "code",
   "execution_count": 111,
   "metadata": {
    "collapsed": false
   },
   "outputs": [
    {
     "data": {
      "text/html": [
       "<div>\n",
       "<table border=\"1\" class=\"dataframe\">\n",
       "  <thead>\n",
       "    <tr style=\"text-align: right;\">\n",
       "      <th></th>\n",
       "      <th>YearC</th>\n",
       "      <th>Int ID</th>\n",
       "      <th>SR</th>\n",
       "      <th>Begin ARM</th>\n",
       "      <th>End ARM</th>\n",
       "      <th>Year</th>\n",
       "      <th>Region</th>\n",
       "      <th>ID_y</th>\n",
       "      <th>Segment Lane Miles</th>\n",
       "      <th>ESALs Since Major Rehab</th>\n",
       "      <th>...</th>\n",
       "      <th>CatAlli</th>\n",
       "      <th>Long</th>\n",
       "      <th>CatLong</th>\n",
       "      <th>AlliP</th>\n",
       "      <th>LongP</th>\n",
       "      <th>Traffic Year</th>\n",
       "      <th>ESALs</th>\n",
       "      <th>STcode</th>\n",
       "      <th>Longitude</th>\n",
       "      <th>Latitude</th>\n",
       "    </tr>\n",
       "  </thead>\n",
       "  <tbody>\n",
       "    <tr>\n",
       "      <th>0</th>\n",
       "      <td>2003</td>\n",
       "      <td>54964</td>\n",
       "      <td>101</td>\n",
       "      <td>0.53</td>\n",
       "      <td>0.63</td>\n",
       "      <td>1996</td>\n",
       "      <td>Southwest</td>\n",
       "      <td>0073c3c3-1b5a-40af-a002-022c09a2875d</td>\n",
       "      <td>0.2</td>\n",
       "      <td>478649</td>\n",
       "      <td>...</td>\n",
       "      <td>L</td>\n",
       "      <td>10</td>\n",
       "      <td>L</td>\n",
       "      <td>1.988636</td>\n",
       "      <td>0.946970</td>\n",
       "      <td>2013</td>\n",
       "      <td>32740</td>\n",
       "      <td>AA</td>\n",
       "      <td>-123.886017</td>\n",
       "      <td>46.242524</td>\n",
       "    </tr>\n",
       "    <tr>\n",
       "      <th>1</th>\n",
       "      <td>2004</td>\n",
       "      <td>54964</td>\n",
       "      <td>101</td>\n",
       "      <td>0.53</td>\n",
       "      <td>0.63</td>\n",
       "      <td>1996</td>\n",
       "      <td>Southwest</td>\n",
       "      <td>0073c3c3-1b5a-40af-a002-022c09a2875d</td>\n",
       "      <td>0.2</td>\n",
       "      <td>478649</td>\n",
       "      <td>...</td>\n",
       "      <td>L</td>\n",
       "      <td>84</td>\n",
       "      <td>L</td>\n",
       "      <td>0.946970</td>\n",
       "      <td>7.954545</td>\n",
       "      <td>2013</td>\n",
       "      <td>32740</td>\n",
       "      <td>AA</td>\n",
       "      <td>-123.886017</td>\n",
       "      <td>46.242524</td>\n",
       "    </tr>\n",
       "    <tr>\n",
       "      <th>2</th>\n",
       "      <td>2005</td>\n",
       "      <td>54964</td>\n",
       "      <td>101</td>\n",
       "      <td>0.53</td>\n",
       "      <td>0.63</td>\n",
       "      <td>1996</td>\n",
       "      <td>Southwest</td>\n",
       "      <td>0073c3c3-1b5a-40af-a002-022c09a2875d</td>\n",
       "      <td>0.2</td>\n",
       "      <td>478649</td>\n",
       "      <td>...</td>\n",
       "      <td>L</td>\n",
       "      <td>10</td>\n",
       "      <td>L</td>\n",
       "      <td>1.988636</td>\n",
       "      <td>0.946970</td>\n",
       "      <td>2013</td>\n",
       "      <td>32740</td>\n",
       "      <td>AA</td>\n",
       "      <td>-123.886017</td>\n",
       "      <td>46.242524</td>\n",
       "    </tr>\n",
       "    <tr>\n",
       "      <th>3</th>\n",
       "      <td>2006</td>\n",
       "      <td>54964</td>\n",
       "      <td>101</td>\n",
       "      <td>0.53</td>\n",
       "      <td>0.63</td>\n",
       "      <td>1996</td>\n",
       "      <td>Southwest</td>\n",
       "      <td>0073c3c3-1b5a-40af-a002-022c09a2875d</td>\n",
       "      <td>0.2</td>\n",
       "      <td>478649</td>\n",
       "      <td>...</td>\n",
       "      <td>L</td>\n",
       "      <td>5</td>\n",
       "      <td>L</td>\n",
       "      <td>1.988636</td>\n",
       "      <td>0.473485</td>\n",
       "      <td>2013</td>\n",
       "      <td>32740</td>\n",
       "      <td>AA</td>\n",
       "      <td>-123.886017</td>\n",
       "      <td>46.242524</td>\n",
       "    </tr>\n",
       "    <tr>\n",
       "      <th>4</th>\n",
       "      <td>2007</td>\n",
       "      <td>54964</td>\n",
       "      <td>101</td>\n",
       "      <td>0.53</td>\n",
       "      <td>0.63</td>\n",
       "      <td>1996</td>\n",
       "      <td>Southwest</td>\n",
       "      <td>0073c3c3-1b5a-40af-a002-022c09a2875d</td>\n",
       "      <td>0.2</td>\n",
       "      <td>478649</td>\n",
       "      <td>...</td>\n",
       "      <td>NaN</td>\n",
       "      <td>5</td>\n",
       "      <td>L</td>\n",
       "      <td>NaN</td>\n",
       "      <td>0.473485</td>\n",
       "      <td>2013</td>\n",
       "      <td>32740</td>\n",
       "      <td>AA</td>\n",
       "      <td>-123.886017</td>\n",
       "      <td>46.242524</td>\n",
       "    </tr>\n",
       "  </tbody>\n",
       "</table>\n",
       "<p>5 rows × 30 columns</p>\n",
       "</div>"
      ],
      "text/plain": [
       "   YearC  Int ID   SR  Begin ARM  End ARM  Year     Region  \\\n",
       "0   2003   54964  101       0.53     0.63  1996  Southwest   \n",
       "1   2004   54964  101       0.53     0.63  1996  Southwest   \n",
       "2   2005   54964  101       0.53     0.63  1996  Southwest   \n",
       "3   2006   54964  101       0.53     0.63  1996  Southwest   \n",
       "4   2007   54964  101       0.53     0.63  1996  Southwest   \n",
       "\n",
       "                                   ID_y  Segment Lane Miles  \\\n",
       "0  0073c3c3-1b5a-40af-a002-022c09a2875d                 0.2   \n",
       "1  0073c3c3-1b5a-40af-a002-022c09a2875d                 0.2   \n",
       "2  0073c3c3-1b5a-40af-a002-022c09a2875d                 0.2   \n",
       "3  0073c3c3-1b5a-40af-a002-022c09a2875d                 0.2   \n",
       "4  0073c3c3-1b5a-40af-a002-022c09a2875d                 0.2   \n",
       "\n",
       "   ESALs Since Major Rehab    ...     CatAlli  Long CatLong     AlliP  \\\n",
       "0                   478649    ...           L    10       L  1.988636   \n",
       "1                   478649    ...           L    84       L  0.946970   \n",
       "2                   478649    ...           L    10       L  1.988636   \n",
       "3                   478649    ...           L     5       L  1.988636   \n",
       "4                   478649    ...         NaN     5       L       NaN   \n",
       "\n",
       "      LongP  Traffic Year  ESALs STcode   Longitude   Latitude  \n",
       "0  0.946970          2013  32740     AA -123.886017  46.242524  \n",
       "1  7.954545          2013  32740     AA -123.886017  46.242524  \n",
       "2  0.946970          2013  32740     AA -123.886017  46.242524  \n",
       "3  0.473485          2013  32740     AA -123.886017  46.242524  \n",
       "4  0.473485          2013  32740     AA -123.886017  46.242524  \n",
       "\n",
       "[5 rows x 30 columns]"
      ]
     },
     "execution_count": 111,
     "metadata": {},
     "output_type": "execute_result"
    }
   ],
   "source": [
    "df2.head()"
   ]
  },
  {
   "cell_type": "code",
   "execution_count": 112,
   "metadata": {
    "collapsed": true
   },
   "outputs": [],
   "source": [
    "df2.to_excel(\"../DataFiles/cp255Dataset.xlsx\")"
   ]
  },
  {
   "cell_type": "code",
   "execution_count": 113,
   "metadata": {
    "collapsed": true
   },
   "outputs": [],
   "source": [
    "df3 = df2[df2.loc[:, 'YearC'] == 1999]"
   ]
  },
  {
   "cell_type": "code",
   "execution_count": 114,
   "metadata": {
    "collapsed": false
   },
   "outputs": [
    {
     "data": {
      "text/plain": [
       "1703"
      ]
     },
     "execution_count": 114,
     "metadata": {},
     "output_type": "execute_result"
    }
   ],
   "source": [
    "len(df3)"
   ]
  },
  {
   "cell_type": "code",
   "execution_count": 116,
   "metadata": {
    "collapsed": true
   },
   "outputs": [],
   "source": [
    "df3.to_csv(\"../DataFiles/cp255Data.csv\")"
   ]
  },
  {
   "cell_type": "code",
   "execution_count": 118,
   "metadata": {
    "collapsed": false
   },
   "outputs": [],
   "source": [
    "df2 = df3.dropna(axis=0, how='any', thresh=None, subset=[u'Latitude', u'Longitude'], inplace=False)"
   ]
  },
  {
   "cell_type": "code",
   "execution_count": 119,
   "metadata": {
    "collapsed": false
   },
   "outputs": [
    {
     "name": "stdout",
     "output_type": "stream",
     "text": [
      "1435\n",
      "1703\n"
     ]
    }
   ],
   "source": [
    "print len(df2)\n",
    "print len(df3)"
   ]
  },
  {
   "cell_type": "code",
   "execution_count": 120,
   "metadata": {
    "collapsed": true
   },
   "outputs": [],
   "source": [
    "df2.to_csv(\"../DataFiles/cp255Data.csv\")"
   ]
  },
  {
   "cell_type": "code",
   "execution_count": null,
   "metadata": {
    "collapsed": true
   },
   "outputs": [],
   "source": []
  }
 ],
 "metadata": {
  "kernelspec": {
   "display_name": "Python 2",
   "language": "python",
   "name": "python2"
  },
  "language_info": {
   "codemirror_mode": {
    "name": "ipython",
    "version": 2
   },
   "file_extension": ".py",
   "mimetype": "text/x-python",
   "name": "python",
   "nbconvert_exporter": "python",
   "pygments_lexer": "ipython2",
   "version": "2.7.10"
  }
 },
 "nbformat": 4,
 "nbformat_minor": 0
}
