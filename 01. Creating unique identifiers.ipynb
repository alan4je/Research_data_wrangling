{
 "cells": [
  {
   "cell_type": "code",
   "execution_count": 1,
   "metadata": {
    "collapsed": true
   },
   "outputs": [],
   "source": [
    "import numpy as np\n",
    "import pandas as pd\n",
    "import xlsxwriter"
   ]
  },
  {
   "cell_type": "code",
   "execution_count": 2,
   "metadata": {
    "collapsed": true
   },
   "outputs": [],
   "source": [
    "SU = pd.read_csv(\"../tables/Survey Units.txt\", header=None)\n",
    "exSU = pd.read_excel('../DataFiles/Survey Units.xlsx')"
   ]
  },
  {
   "cell_type": "code",
   "execution_count": 3,
   "metadata": {
    "collapsed": false
   },
   "outputs": [],
   "source": [
    "SU.columns = exSU.columns"
   ]
  },
  {
   "cell_type": "code",
   "execution_count": 4,
   "metadata": {
    "collapsed": false
   },
   "outputs": [],
   "source": [
    "su = SU[['SR', 'Begin ARM', 'End ARM']]\n",
    "su.columns = ['SR', 'BA', 'EA']"
   ]
  },
  {
   "cell_type": "code",
   "execution_count": 5,
   "metadata": {
    "collapsed": false
   },
   "outputs": [
    {
     "data": {
      "text/html": [
       "<div style=\"max-height:1000px;max-width:1500px;overflow:auto;\">\n",
       "<table border=\"1\" class=\"dataframe\">\n",
       "  <thead>\n",
       "    <tr style=\"text-align: right;\">\n",
       "      <th></th>\n",
       "      <th>SR</th>\n",
       "      <th>BA</th>\n",
       "      <th>EA</th>\n",
       "    </tr>\n",
       "  </thead>\n",
       "  <tbody>\n",
       "    <tr>\n",
       "      <th>0</th>\n",
       "      <td>2</td>\n",
       "      <td>312.04</td>\n",
       "      <td>312.14</td>\n",
       "    </tr>\n",
       "    <tr>\n",
       "      <th>1</th>\n",
       "      <td>2</td>\n",
       "      <td>171.15</td>\n",
       "      <td>171.25</td>\n",
       "    </tr>\n",
       "    <tr>\n",
       "      <th>2</th>\n",
       "      <td>2</td>\n",
       "      <td>269.53</td>\n",
       "      <td>269.63</td>\n",
       "    </tr>\n",
       "    <tr>\n",
       "      <th>3</th>\n",
       "      <td>2</td>\n",
       "      <td>22.12</td>\n",
       "      <td>22.23</td>\n",
       "    </tr>\n",
       "    <tr>\n",
       "      <th>4</th>\n",
       "      <td>2</td>\n",
       "      <td>115.81</td>\n",
       "      <td>115.91</td>\n",
       "    </tr>\n",
       "  </tbody>\n",
       "</table>\n",
       "</div>"
      ],
      "text/plain": [
       "   SR      BA      EA\n",
       "0   2  312.04  312.14\n",
       "1   2  171.15  171.25\n",
       "2   2  269.53  269.63\n",
       "3   2   22.12   22.23\n",
       "4   2  115.81  115.91"
      ]
     },
     "execution_count": 5,
     "metadata": {},
     "output_type": "execute_result"
    }
   ],
   "source": [
    "su.head()"
   ]
  },
  {
   "cell_type": "code",
   "execution_count": 6,
   "metadata": {
    "collapsed": true
   },
   "outputs": [],
   "source": [
    "sr = np.unique(np.array(su.SR))"
   ]
  },
  {
   "cell_type": "code",
   "execution_count": 7,
   "metadata": {
    "collapsed": false
   },
   "outputs": [
    {
     "data": {
      "text/plain": [
       "0.0"
      ]
     },
     "execution_count": 7,
     "metadata": {},
     "output_type": "execute_result"
    }
   ],
   "source": [
    "list(su[su.SR == 2].min())[1]"
   ]
  },
  {
   "cell_type": "code",
   "execution_count": 8,
   "metadata": {
    "collapsed": false
   },
   "outputs": [],
   "source": [
    "df = pd.DataFrame(sr)"
   ]
  },
  {
   "cell_type": "code",
   "execution_count": 9,
   "metadata": {
    "collapsed": true
   },
   "outputs": [],
   "source": [
    "df.columns = ['SR']"
   ]
  },
  {
   "cell_type": "code",
   "execution_count": 10,
   "metadata": {
    "collapsed": false
   },
   "outputs": [],
   "source": [
    "def addMin(row):\n",
    "    sr = row['SR']\n",
    "    return list(su[su.SR == sr].min())[1]\n",
    "def addMax(row):\n",
    "    sr = row['SR']\n",
    "    return list(su[su.SR == sr].max())[2]"
   ]
  },
  {
   "cell_type": "code",
   "execution_count": 11,
   "metadata": {
    "collapsed": true
   },
   "outputs": [],
   "source": [
    "df.loc[:, 'Begins'] = df.apply(addMin, axis = 1)\n",
    "df.loc[:, 'Ends'] = df.apply(addMax, axis = 1)"
   ]
  },
  {
   "cell_type": "code",
   "execution_count": 12,
   "metadata": {
    "collapsed": false
   },
   "outputs": [
    {
     "data": {
      "text/html": [
       "<div style=\"max-height:1000px;max-width:1500px;overflow:auto;\">\n",
       "<table border=\"1\" class=\"dataframe\">\n",
       "  <thead>\n",
       "    <tr style=\"text-align: right;\">\n",
       "      <th></th>\n",
       "      <th>SR</th>\n",
       "      <th>Begins</th>\n",
       "      <th>Ends</th>\n",
       "    </tr>\n",
       "  </thead>\n",
       "  <tbody>\n",
       "    <tr>\n",
       "      <th>0</th>\n",
       "      <td>2</td>\n",
       "      <td>0</td>\n",
       "      <td>326.34</td>\n",
       "    </tr>\n",
       "    <tr>\n",
       "      <th>1</th>\n",
       "      <td>3</td>\n",
       "      <td>0</td>\n",
       "      <td>59.81</td>\n",
       "    </tr>\n",
       "    <tr>\n",
       "      <th>2</th>\n",
       "      <td>4</td>\n",
       "      <td>0</td>\n",
       "      <td>62.27</td>\n",
       "    </tr>\n",
       "    <tr>\n",
       "      <th>3</th>\n",
       "      <td>5</td>\n",
       "      <td>0</td>\n",
       "      <td>276.62</td>\n",
       "    </tr>\n",
       "    <tr>\n",
       "      <th>4</th>\n",
       "      <td>6</td>\n",
       "      <td>0</td>\n",
       "      <td>51.37</td>\n",
       "    </tr>\n",
       "  </tbody>\n",
       "</table>\n",
       "</div>"
      ],
      "text/plain": [
       "   SR  Begins    Ends\n",
       "0   2       0  326.34\n",
       "1   3       0   59.81\n",
       "2   4       0   62.27\n",
       "3   5       0  276.62\n",
       "4   6       0   51.37"
      ]
     },
     "execution_count": 12,
     "metadata": {},
     "output_type": "execute_result"
    }
   ],
   "source": [
    "df.head()"
   ]
  },
  {
   "cell_type": "code",
   "execution_count": 13,
   "metadata": {
    "collapsed": true
   },
   "outputs": [],
   "source": [
    "d1 = pd.DataFrame(columns=('SR', 'bs', 'es'))"
   ]
  },
  {
   "cell_type": "code",
   "execution_count": 14,
   "metadata": {
    "collapsed": false
   },
   "outputs": [],
   "source": [
    "for i in range(5):\n",
    "    d1.loc[i] = [df.loc[i, 'SR'], list(df[df.SR ==(i+2)].Begins)[0], df.loc[i, 'Begins']+0.1]"
   ]
  },
  {
   "cell_type": "code",
   "execution_count": 15,
   "metadata": {
    "collapsed": false
   },
   "outputs": [
    {
     "data": {
      "text/plain": [
       "1    0\n",
       "Name: Begins, dtype: float64"
      ]
     },
     "execution_count": 15,
     "metadata": {},
     "output_type": "execute_result"
    }
   ],
   "source": [
    "df[df.SR ==3].Begins"
   ]
  },
  {
   "cell_type": "code",
   "execution_count": 16,
   "metadata": {
    "collapsed": false
   },
   "outputs": [
    {
     "data": {
      "text/html": [
       "<div style=\"max-height:1000px;max-width:1500px;overflow:auto;\">\n",
       "<table border=\"1\" class=\"dataframe\">\n",
       "  <thead>\n",
       "    <tr style=\"text-align: right;\">\n",
       "      <th></th>\n",
       "      <th>SR</th>\n",
       "      <th>bs</th>\n",
       "      <th>es</th>\n",
       "    </tr>\n",
       "  </thead>\n",
       "  <tbody>\n",
       "    <tr>\n",
       "      <th>0</th>\n",
       "      <td>2</td>\n",
       "      <td>0</td>\n",
       "      <td>0.1</td>\n",
       "    </tr>\n",
       "    <tr>\n",
       "      <th>1</th>\n",
       "      <td>3</td>\n",
       "      <td>0</td>\n",
       "      <td>0.1</td>\n",
       "    </tr>\n",
       "    <tr>\n",
       "      <th>2</th>\n",
       "      <td>4</td>\n",
       "      <td>0</td>\n",
       "      <td>0.1</td>\n",
       "    </tr>\n",
       "    <tr>\n",
       "      <th>3</th>\n",
       "      <td>5</td>\n",
       "      <td>0</td>\n",
       "      <td>0.1</td>\n",
       "    </tr>\n",
       "    <tr>\n",
       "      <th>4</th>\n",
       "      <td>6</td>\n",
       "      <td>0</td>\n",
       "      <td>0.1</td>\n",
       "    </tr>\n",
       "  </tbody>\n",
       "</table>\n",
       "</div>"
      ],
      "text/plain": [
       "   SR  bs   es\n",
       "0   2   0  0.1\n",
       "1   3   0  0.1\n",
       "2   4   0  0.1\n",
       "3   5   0  0.1\n",
       "4   6   0  0.1"
      ]
     },
     "execution_count": 16,
     "metadata": {},
     "output_type": "execute_result"
    }
   ],
   "source": [
    "d1"
   ]
  },
  {
   "cell_type": "code",
   "execution_count": 17,
   "metadata": {
    "collapsed": false
   },
   "outputs": [],
   "source": [
    "db = pd.DataFrame(columns=('SR', 'bs', 'es'))\n",
    "for road in np.array(df.SR):\n",
    "    d1 =  pd.DataFrame(columns=('SR', 'bs', 'es'))\n",
    "    ns = int(df[df.SR == road].Ends/0.1) + 1\n",
    "    for i in range(ns):\n",
    "        if i == 0:\n",
    "            d1.loc[i] = [road, list(df[df.SR == road].Begins)[0]*10, list(df[df.SR == road].Begins)[0]*10 + 1]\n",
    "        else:\n",
    "            d1.loc[i] = [road, d1.loc[(i-1), 'es'] , d1.loc[(i-1), 'es'] + 1]\n",
    "    db = pd.concat([db,d1])"
   ]
  },
  {
   "cell_type": "code",
   "execution_count": 18,
   "metadata": {
    "collapsed": false
   },
   "outputs": [
    {
     "name": "stdout",
     "output_type": "stream",
     "text": [
      "72948.8\n",
      "73046\n"
     ]
    }
   ],
   "source": [
    "print np.sum(np.array(df[['Ends']])*10)\n",
    "print len(db)"
   ]
  },
  {
   "cell_type": "code",
   "execution_count": 19,
   "metadata": {
    "collapsed": true
   },
   "outputs": [],
   "source": [
    "db.loc[:, 'UID'] = np.arange(len(db))+1"
   ]
  },
  {
   "cell_type": "code",
   "execution_count": 20,
   "metadata": {
    "collapsed": false
   },
   "outputs": [
    {
     "data": {
      "text/html": [
       "<div style=\"max-height:1000px;max-width:1500px;overflow:auto;\">\n",
       "<table border=\"1\" class=\"dataframe\">\n",
       "  <thead>\n",
       "    <tr style=\"text-align: right;\">\n",
       "      <th></th>\n",
       "      <th>SR</th>\n",
       "      <th>bs</th>\n",
       "      <th>es</th>\n",
       "      <th>UID</th>\n",
       "    </tr>\n",
       "  </thead>\n",
       "  <tbody>\n",
       "    <tr>\n",
       "      <th>0</th>\n",
       "      <td>2</td>\n",
       "      <td>0</td>\n",
       "      <td>1</td>\n",
       "      <td>1</td>\n",
       "    </tr>\n",
       "    <tr>\n",
       "      <th>1</th>\n",
       "      <td>2</td>\n",
       "      <td>1</td>\n",
       "      <td>2</td>\n",
       "      <td>2</td>\n",
       "    </tr>\n",
       "    <tr>\n",
       "      <th>2</th>\n",
       "      <td>2</td>\n",
       "      <td>2</td>\n",
       "      <td>3</td>\n",
       "      <td>3</td>\n",
       "    </tr>\n",
       "    <tr>\n",
       "      <th>3</th>\n",
       "      <td>2</td>\n",
       "      <td>3</td>\n",
       "      <td>4</td>\n",
       "      <td>4</td>\n",
       "    </tr>\n",
       "    <tr>\n",
       "      <th>4</th>\n",
       "      <td>2</td>\n",
       "      <td>4</td>\n",
       "      <td>5</td>\n",
       "      <td>5</td>\n",
       "    </tr>\n",
       "  </tbody>\n",
       "</table>\n",
       "</div>"
      ],
      "text/plain": [
       "   SR  bs  es  UID\n",
       "0   2   0   1    1\n",
       "1   2   1   2    2\n",
       "2   2   2   3    3\n",
       "3   2   3   4    4\n",
       "4   2   4   5    5"
      ]
     },
     "execution_count": 20,
     "metadata": {},
     "output_type": "execute_result"
    }
   ],
   "source": [
    "db.head()"
   ]
  },
  {
   "cell_type": "code",
   "execution_count": 21,
   "metadata": {
    "collapsed": true
   },
   "outputs": [],
   "source": [
    "db.to_csv('../FinalDatasets/sid.csv')"
   ]
  },
  {
   "cell_type": "code",
   "execution_count": 22,
   "metadata": {
    "collapsed": true
   },
   "outputs": [],
   "source": [
    "def getUID(row):\n",
    "    rd = row['SR']\n",
    "    bg = row['bs']\n",
    "    end = row['es']\n",
    "    res = db[((db.SR==rd) & ((db.bs == bg) & (db.es == end)))].UID\n",
    "    if list(res) == []:\n",
    "        return None\n",
    "    else:\n",
    "        return list(res)[0]"
   ]
  },
  {
   "cell_type": "code",
   "execution_count": 23,
   "metadata": {
    "collapsed": false
   },
   "outputs": [
    {
     "data": {
      "text/html": [
       "<div style=\"max-height:1000px;max-width:1500px;overflow:auto;\">\n",
       "<table border=\"1\" class=\"dataframe\">\n",
       "  <thead>\n",
       "    <tr style=\"text-align: right;\">\n",
       "      <th></th>\n",
       "      <th>SR</th>\n",
       "      <th>BA</th>\n",
       "      <th>EA</th>\n",
       "    </tr>\n",
       "  </thead>\n",
       "  <tbody>\n",
       "    <tr>\n",
       "      <th>0</th>\n",
       "      <td>2</td>\n",
       "      <td>312.04</td>\n",
       "      <td>312.14</td>\n",
       "    </tr>\n",
       "    <tr>\n",
       "      <th>1</th>\n",
       "      <td>2</td>\n",
       "      <td>171.15</td>\n",
       "      <td>171.25</td>\n",
       "    </tr>\n",
       "    <tr>\n",
       "      <th>2</th>\n",
       "      <td>2</td>\n",
       "      <td>269.53</td>\n",
       "      <td>269.63</td>\n",
       "    </tr>\n",
       "    <tr>\n",
       "      <th>3</th>\n",
       "      <td>2</td>\n",
       "      <td>22.12</td>\n",
       "      <td>22.23</td>\n",
       "    </tr>\n",
       "    <tr>\n",
       "      <th>4</th>\n",
       "      <td>2</td>\n",
       "      <td>115.81</td>\n",
       "      <td>115.91</td>\n",
       "    </tr>\n",
       "  </tbody>\n",
       "</table>\n",
       "</div>"
      ],
      "text/plain": [
       "   SR      BA      EA\n",
       "0   2  312.04  312.14\n",
       "1   2  171.15  171.25\n",
       "2   2  269.53  269.63\n",
       "3   2   22.12   22.23\n",
       "4   2  115.81  115.91"
      ]
     },
     "execution_count": 23,
     "metadata": {},
     "output_type": "execute_result"
    }
   ],
   "source": [
    "su.head()"
   ]
  },
  {
   "cell_type": "code",
   "execution_count": 24,
   "metadata": {
    "collapsed": true
   },
   "outputs": [],
   "source": [
    "def roundme(n):\n",
    "    return int(n*10)"
   ]
  },
  {
   "cell_type": "code",
   "execution_count": 25,
   "metadata": {
    "collapsed": false
   },
   "outputs": [
    {
     "name": "stderr",
     "output_type": "stream",
     "text": [
      "/Users/Alan/Library/Enthought/Canopy_64bit/User/lib/python2.7/site-packages/pandas/core/indexing.py:243: SettingWithCopyWarning: \n",
      "A value is trying to be set on a copy of a slice from a DataFrame.\n",
      "Try using .loc[row_indexer,col_indexer] = value instead\n",
      "\n",
      "See the the caveats in the documentation: http://pandas.pydata.org/pandas-docs/stable/indexing.html#indexing-view-versus-copy\n",
      "  self.obj[key] = _infer_fill_value(value)\n",
      "/Users/Alan/Library/Enthought/Canopy_64bit/User/lib/python2.7/site-packages/pandas/core/indexing.py:407: SettingWithCopyWarning: \n",
      "A value is trying to be set on a copy of a slice from a DataFrame.\n",
      "Try using .loc[row_indexer,col_indexer] = value instead\n",
      "\n",
      "See the the caveats in the documentation: http://pandas.pydata.org/pandas-docs/stable/indexing.html#indexing-view-versus-copy\n",
      "  self.obj[item] = s\n"
     ]
    }
   ],
   "source": [
    "su.loc[:, 'bs'] = su.loc[:, 'BA'].apply(roundme)\n",
    "su.loc[:, 'es'] = su.loc[:, 'EA'].apply(roundme)"
   ]
  },
  {
   "cell_type": "code",
   "execution_count": 26,
   "metadata": {
    "collapsed": false
   },
   "outputs": [
    {
     "data": {
      "text/html": [
       "<div style=\"max-height:1000px;max-width:1500px;overflow:auto;\">\n",
       "<table border=\"1\" class=\"dataframe\">\n",
       "  <thead>\n",
       "    <tr style=\"text-align: right;\">\n",
       "      <th></th>\n",
       "      <th>SR</th>\n",
       "      <th>BA</th>\n",
       "      <th>EA</th>\n",
       "      <th>bs</th>\n",
       "      <th>es</th>\n",
       "    </tr>\n",
       "  </thead>\n",
       "  <tbody>\n",
       "    <tr>\n",
       "      <th>0</th>\n",
       "      <td>2</td>\n",
       "      <td>312.04</td>\n",
       "      <td>312.14</td>\n",
       "      <td>3120</td>\n",
       "      <td>3121</td>\n",
       "    </tr>\n",
       "    <tr>\n",
       "      <th>1</th>\n",
       "      <td>2</td>\n",
       "      <td>171.15</td>\n",
       "      <td>171.25</td>\n",
       "      <td>1711</td>\n",
       "      <td>1712</td>\n",
       "    </tr>\n",
       "    <tr>\n",
       "      <th>2</th>\n",
       "      <td>2</td>\n",
       "      <td>269.53</td>\n",
       "      <td>269.63</td>\n",
       "      <td>2695</td>\n",
       "      <td>2696</td>\n",
       "    </tr>\n",
       "    <tr>\n",
       "      <th>3</th>\n",
       "      <td>2</td>\n",
       "      <td>22.12</td>\n",
       "      <td>22.23</td>\n",
       "      <td>221</td>\n",
       "      <td>222</td>\n",
       "    </tr>\n",
       "    <tr>\n",
       "      <th>4</th>\n",
       "      <td>2</td>\n",
       "      <td>115.81</td>\n",
       "      <td>115.91</td>\n",
       "      <td>1158</td>\n",
       "      <td>1159</td>\n",
       "    </tr>\n",
       "    <tr>\n",
       "      <th>5</th>\n",
       "      <td>2</td>\n",
       "      <td>263.94</td>\n",
       "      <td>264.04</td>\n",
       "      <td>2639</td>\n",
       "      <td>2640</td>\n",
       "    </tr>\n",
       "    <tr>\n",
       "      <th>6</th>\n",
       "      <td>2</td>\n",
       "      <td>58.81</td>\n",
       "      <td>58.85</td>\n",
       "      <td>588</td>\n",
       "      <td>588</td>\n",
       "    </tr>\n",
       "    <tr>\n",
       "      <th>7</th>\n",
       "      <td>2</td>\n",
       "      <td>168.75</td>\n",
       "      <td>168.85</td>\n",
       "      <td>1687</td>\n",
       "      <td>1688</td>\n",
       "    </tr>\n",
       "    <tr>\n",
       "      <th>8</th>\n",
       "      <td>2</td>\n",
       "      <td>305.11</td>\n",
       "      <td>305.21</td>\n",
       "      <td>3051</td>\n",
       "      <td>3052</td>\n",
       "    </tr>\n",
       "    <tr>\n",
       "      <th>9</th>\n",
       "      <td>2</td>\n",
       "      <td>211.71</td>\n",
       "      <td>211.81</td>\n",
       "      <td>2117</td>\n",
       "      <td>2118</td>\n",
       "    </tr>\n",
       "  </tbody>\n",
       "</table>\n",
       "</div>"
      ],
      "text/plain": [
       "   SR      BA      EA    bs    es\n",
       "0   2  312.04  312.14  3120  3121\n",
       "1   2  171.15  171.25  1711  1712\n",
       "2   2  269.53  269.63  2695  2696\n",
       "3   2   22.12   22.23   221   222\n",
       "4   2  115.81  115.91  1158  1159\n",
       "5   2  263.94  264.04  2639  2640\n",
       "6   2   58.81   58.85   588   588\n",
       "7   2  168.75  168.85  1687  1688\n",
       "8   2  305.11  305.21  3051  3052\n",
       "9   2  211.71  211.81  2117  2118"
      ]
     },
     "execution_count": 26,
     "metadata": {},
     "output_type": "execute_result"
    }
   ],
   "source": [
    "su.head(10)"
   ]
  },
  {
   "cell_type": "code",
   "execution_count": 27,
   "metadata": {
    "collapsed": false
   },
   "outputs": [],
   "source": [
    "su.loc[:, 'UID'] = su.apply(getUID, axis = 1)"
   ]
  },
  {
   "cell_type": "code",
   "execution_count": 28,
   "metadata": {
    "collapsed": false
   },
   "outputs": [
    {
     "name": "stdout",
     "output_type": "stream",
     "text": [
      "4412\n",
      "91022\n"
     ]
    }
   ],
   "source": [
    "print len(su[np.isnan(su.UID)])\n",
    "print len(su)"
   ]
  },
  {
   "cell_type": "code",
   "execution_count": 29,
   "metadata": {
    "collapsed": true
   },
   "outputs": [],
   "source": [
    "su_wid = su[~np.isnan(su.UID)]\n",
    "su2 = su[np.isnan(su.UID)].sort(columns = ['SR', 'BA', 'EA'])"
   ]
  },
  {
   "cell_type": "code",
   "execution_count": 30,
   "metadata": {
    "collapsed": false
   },
   "outputs": [
    {
     "name": "stdout",
     "output_type": "stream",
     "text": [
      "86610\n",
      "4412\n"
     ]
    }
   ],
   "source": [
    "print len(su_wid)\n",
    "print len(su2)"
   ]
  },
  {
   "cell_type": "code",
   "execution_count": 31,
   "metadata": {
    "collapsed": false
   },
   "outputs": [],
   "source": [
    "# su2.head()"
   ]
  },
  {
   "cell_type": "code",
   "execution_count": 32,
   "metadata": {
    "collapsed": true
   },
   "outputs": [],
   "source": [
    "su_ids = np.array(su_wid.UID)"
   ]
  },
  {
   "cell_type": "code",
   "execution_count": 33,
   "metadata": {
    "collapsed": false
   },
   "outputs": [],
   "source": [
    "# (su2.loc[4064, 'EA'] - su2.loc[4064, 'BA'] > 0.05)  & (su2.loc[4064, 'EA'] - su2.loc[4064, 'BA'] < 0.11)"
   ]
  },
  {
   "cell_type": "code",
   "execution_count": 34,
   "metadata": {
    "collapsed": true
   },
   "outputs": [],
   "source": [
    "def fillUID(row):\n",
    "    rd = row['SR']\n",
    "    bg = row['BA']\n",
    "    end = row['EA']\n",
    "    begin = row['bs']\n",
    "    if (end - bg > 0.05) & (end - bg < 0.15):\n",
    "        res = db[((db.SR==rd) & (db.bs == begin))].UID\n",
    "        if list(res) == []:\n",
    "            return None\n",
    "        else:\n",
    "            x = list(res)[0]\n",
    "            if x not in su_ids: #  change su_ids to a list and just append x to it if not found in ids.\n",
    "                return x\n",
    "            return None"
   ]
  },
  {
   "cell_type": "code",
   "execution_count": 35,
   "metadata": {
    "collapsed": true
   },
   "outputs": [],
   "source": [
    "su2.loc[:, 'UID'] = su2.apply(fillUID, axis = 1)"
   ]
  },
  {
   "cell_type": "code",
   "execution_count": 36,
   "metadata": {
    "collapsed": false
   },
   "outputs": [
    {
     "data": {
      "text/plain": [
       "4218"
      ]
     },
     "execution_count": 36,
     "metadata": {},
     "output_type": "execute_result"
    }
   ],
   "source": [
    "len(su2[np.isnan(su2.UID)])"
   ]
  },
  {
   "cell_type": "code",
   "execution_count": 37,
   "metadata": {
    "collapsed": true
   },
   "outputs": [],
   "source": [
    "su_w2 = su2[~np.isnan(su2.UID)]\n",
    "su3 = su2[np.isnan(su2.UID)]"
   ]
  },
  {
   "cell_type": "code",
   "execution_count": 38,
   "metadata": {
    "collapsed": false
   },
   "outputs": [],
   "source": [
    "su_ids = np.concatenate((su_ids,np.array(su_w2.UID)),axis=0)"
   ]
  },
  {
   "cell_type": "code",
   "execution_count": 39,
   "metadata": {
    "collapsed": true
   },
   "outputs": [],
   "source": [
    "def fillUID2(row):\n",
    "    rd = row['SR']\n",
    "    bg = row['BA']\n",
    "    end = row['EA']\n",
    "    begin = row['bs']\n",
    "    if (end - bg > 0.01):\n",
    "        res = db[((db.SR==rd) & (db.bs == int((bg*10 + end*10)/2)))].UID\n",
    "        if list(res) == []:\n",
    "            return None\n",
    "        else:\n",
    "            x = list(res)[0]\n",
    "            if x not in su_ids:\n",
    "                return x\n",
    "            return None"
   ]
  },
  {
   "cell_type": "code",
   "execution_count": 40,
   "metadata": {
    "collapsed": true
   },
   "outputs": [],
   "source": [
    "su3.loc[:, 'UID'] = su3.apply(fillUID2, axis = 1)"
   ]
  },
  {
   "cell_type": "code",
   "execution_count": 41,
   "metadata": {
    "collapsed": false
   },
   "outputs": [
    {
     "name": "stdout",
     "output_type": "stream",
     "text": [
      "46\n"
     ]
    }
   ],
   "source": [
    "temp = su3.dropna(subset = ['UID'])\n",
    "print len(temp)"
   ]
  },
  {
   "cell_type": "code",
   "execution_count": 42,
   "metadata": {
    "collapsed": true
   },
   "outputs": [],
   "source": [
    "su_w3 = su3[~np.isnan(su3.UID)]\n",
    "su4 = su3[np.isnan(su3.UID)]"
   ]
  },
  {
   "cell_type": "code",
   "execution_count": 43,
   "metadata": {
    "collapsed": true
   },
   "outputs": [],
   "source": [
    "su_ids = np.concatenate((su_ids,np.array(su_w3.UID)),axis=0)"
   ]
  },
  {
   "cell_type": "code",
   "execution_count": 44,
   "metadata": {
    "collapsed": false
   },
   "outputs": [
    {
     "name": "stdout",
     "output_type": "stream",
     "text": [
      "69434\n",
      "73046\n",
      "91022\n"
     ]
    }
   ],
   "source": [
    "print len(np.unique(su_ids))\n",
    "print len(db)\n",
    "print len(su)"
   ]
  },
  {
   "cell_type": "code",
   "execution_count": 45,
   "metadata": {
    "collapsed": true
   },
   "outputs": [],
   "source": [
    "su_final = pd.concat([su_wid, su_w2, su_w3])"
   ]
  },
  {
   "cell_type": "code",
   "execution_count": 46,
   "metadata": {
    "collapsed": true
   },
   "outputs": [],
   "source": [
    "su_ds = su_final.drop_duplicates(subset = ['UID'])"
   ]
  },
  {
   "cell_type": "code",
   "execution_count": 47,
   "metadata": {
    "collapsed": false
   },
   "outputs": [
    {
     "name": "stdout",
     "output_type": "stream",
     "text": [
      "69434\n"
     ]
    }
   ],
   "source": [
    "print len(su_ds)"
   ]
  },
  {
   "cell_type": "code",
   "execution_count": 48,
   "metadata": {
    "collapsed": false
   },
   "outputs": [
    {
     "data": {
      "text/html": [
       "<div style=\"max-height:1000px;max-width:1500px;overflow:auto;\">\n",
       "<table border=\"1\" class=\"dataframe\">\n",
       "  <thead>\n",
       "    <tr style=\"text-align: right;\">\n",
       "      <th></th>\n",
       "      <th>SR</th>\n",
       "      <th>RRT</th>\n",
       "      <th>RRQ</th>\n",
       "      <th>Begin ARM</th>\n",
       "      <th>End ARM</th>\n",
       "      <th>Begin SRMP</th>\n",
       "      <th>End SRMP</th>\n",
       "      <th>Direction To Inventory</th>\n",
       "      <th>Original ID</th>\n",
       "      <th>Due Year</th>\n",
       "      <th>...</th>\n",
       "      <th>Is Near Tunnel</th>\n",
       "      <th>Is Near RR Crossing</th>\n",
       "      <th>Lane Surface Type</th>\n",
       "      <th>Lane Miles</th>\n",
       "      <th>Region</th>\n",
       "      <th>NHS</th>\n",
       "      <th>Federal Functional Class</th>\n",
       "      <th>Avg Construction Date</th>\n",
       "      <th>Avg Major Rehab Date</th>\n",
       "      <th>Int ID</th>\n",
       "    </tr>\n",
       "  </thead>\n",
       "  <tbody>\n",
       "    <tr>\n",
       "      <th>0</th>\n",
       "      <td>2</td>\n",
       "      <td>NaN</td>\n",
       "      <td>NaN</td>\n",
       "      <td>312.04</td>\n",
       "      <td>312.14</td>\n",
       "      <td>320.14</td>\n",
       "      <td>320.24</td>\n",
       "      <td>I</td>\n",
       "      <td>00010e96-fe8c-4c32-a01c-b12814f61879</td>\n",
       "      <td>2018</td>\n",
       "      <td>...</td>\n",
       "      <td>0</td>\n",
       "      <td>0</td>\n",
       "      <td>BST</td>\n",
       "      <td>0.20</td>\n",
       "      <td>Eastern</td>\n",
       "      <td>1</td>\n",
       "      <td>Rural Other Freeway/Expressway</td>\n",
       "      <td>10/1/1970 0:00:00</td>\n",
       "      <td>9/29/2011 0:00:00</td>\n",
       "      <td>1</td>\n",
       "    </tr>\n",
       "    <tr>\n",
       "      <th>1</th>\n",
       "      <td>2</td>\n",
       "      <td>NaN</td>\n",
       "      <td>NaN</td>\n",
       "      <td>171.15</td>\n",
       "      <td>171.25</td>\n",
       "      <td>179.20</td>\n",
       "      <td>179.30</td>\n",
       "      <td>B</td>\n",
       "      <td>000a0e11-6103-4075-b19e-7d6e3adff0ce</td>\n",
       "      <td>2014</td>\n",
       "      <td>...</td>\n",
       "      <td>0</td>\n",
       "      <td>0</td>\n",
       "      <td>BST</td>\n",
       "      <td>0.20</td>\n",
       "      <td>North Central</td>\n",
       "      <td>1</td>\n",
       "      <td>Rural Other Principal Arterial</td>\n",
       "      <td>1/1/1954 0:00:00</td>\n",
       "      <td>10/30/2007 0:00:00</td>\n",
       "      <td>2</td>\n",
       "    </tr>\n",
       "    <tr>\n",
       "      <th>2</th>\n",
       "      <td>2</td>\n",
       "      <td>NaN</td>\n",
       "      <td>NaN</td>\n",
       "      <td>269.53</td>\n",
       "      <td>269.63</td>\n",
       "      <td>277.61</td>\n",
       "      <td>277.71</td>\n",
       "      <td>I</td>\n",
       "      <td>0018349a-99e4-4bde-a89b-b2f28fa05e82</td>\n",
       "      <td>2024</td>\n",
       "      <td>...</td>\n",
       "      <td>0</td>\n",
       "      <td>0</td>\n",
       "      <td>ACP</td>\n",
       "      <td>0.20</td>\n",
       "      <td>Eastern</td>\n",
       "      <td>1</td>\n",
       "      <td>Urban Other Principal Arterial</td>\n",
       "      <td>1/1/1929 0:00:00</td>\n",
       "      <td>6/4/2014 0:00:00</td>\n",
       "      <td>3</td>\n",
       "    </tr>\n",
       "    <tr>\n",
       "      <th>3</th>\n",
       "      <td>2</td>\n",
       "      <td>NaN</td>\n",
       "      <td>NaN</td>\n",
       "      <td>22.12</td>\n",
       "      <td>22.23</td>\n",
       "      <td>22.04</td>\n",
       "      <td>22.15</td>\n",
       "      <td>B</td>\n",
       "      <td>0038b2b9-8cd1-441f-81ae-e2675d09198c</td>\n",
       "      <td>2016</td>\n",
       "      <td>...</td>\n",
       "      <td>0</td>\n",
       "      <td>0</td>\n",
       "      <td>ACP</td>\n",
       "      <td>0.22</td>\n",
       "      <td>Northwest</td>\n",
       "      <td>1</td>\n",
       "      <td>Urban Other Principal Arterial</td>\n",
       "      <td>5/1/1941 0:00:00</td>\n",
       "      <td>6/30/2000 0:00:00</td>\n",
       "      <td>4</td>\n",
       "    </tr>\n",
       "    <tr>\n",
       "      <th>4</th>\n",
       "      <td>2</td>\n",
       "      <td>NaN</td>\n",
       "      <td>NaN</td>\n",
       "      <td>115.81</td>\n",
       "      <td>115.91</td>\n",
       "      <td>115.75</td>\n",
       "      <td>115.85</td>\n",
       "      <td>D</td>\n",
       "      <td>003a4aff-0bfd-4e9d-bff4-1adaecfbb025</td>\n",
       "      <td>2013</td>\n",
       "      <td>...</td>\n",
       "      <td>0</td>\n",
       "      <td>0</td>\n",
       "      <td>ACP</td>\n",
       "      <td>0.20</td>\n",
       "      <td>North Central</td>\n",
       "      <td>1</td>\n",
       "      <td>Urban Other Freeway/Expressway</td>\n",
       "      <td>1/1/1953 0:00:00</td>\n",
       "      <td>8/3/2006 0:00:00</td>\n",
       "      <td>5</td>\n",
       "    </tr>\n",
       "  </tbody>\n",
       "</table>\n",
       "<p>5 rows × 22 columns</p>\n",
       "</div>"
      ],
      "text/plain": [
       "   SR  RRT  RRQ  Begin ARM  End ARM Begin SRMP End SRMP  \\\n",
       "0   2  NaN  NaN     312.04   312.14     320.14   320.24   \n",
       "1   2  NaN  NaN     171.15   171.25     179.20   179.30   \n",
       "2   2  NaN  NaN     269.53   269.63     277.61   277.71   \n",
       "3   2  NaN  NaN      22.12    22.23      22.04    22.15   \n",
       "4   2  NaN  NaN     115.81   115.91     115.75   115.85   \n",
       "\n",
       "  Direction To Inventory                           Original ID  Due Year  \\\n",
       "0                      I  00010e96-fe8c-4c32-a01c-b12814f61879      2018   \n",
       "1                      B  000a0e11-6103-4075-b19e-7d6e3adff0ce      2014   \n",
       "2                      I  0018349a-99e4-4bde-a89b-b2f28fa05e82      2024   \n",
       "3                      B  0038b2b9-8cd1-441f-81ae-e2675d09198c      2016   \n",
       "4                      D  003a4aff-0bfd-4e9d-bff4-1adaecfbb025      2013   \n",
       "\n",
       "   ...   Is Near Tunnel  Is Near RR Crossing  Lane Surface Type  Lane Miles  \\\n",
       "0  ...                0                    0                BST        0.20   \n",
       "1  ...                0                    0                BST        0.20   \n",
       "2  ...                0                    0                ACP        0.20   \n",
       "3  ...                0                    0                ACP        0.22   \n",
       "4  ...                0                    0                ACP        0.20   \n",
       "\n",
       "          Region  NHS        Federal Functional Class  Avg Construction Date  \\\n",
       "0        Eastern    1  Rural Other Freeway/Expressway      10/1/1970 0:00:00   \n",
       "1  North Central    1  Rural Other Principal Arterial       1/1/1954 0:00:00   \n",
       "2        Eastern    1  Urban Other Principal Arterial       1/1/1929 0:00:00   \n",
       "3      Northwest    1  Urban Other Principal Arterial       5/1/1941 0:00:00   \n",
       "4  North Central    1  Urban Other Freeway/Expressway       1/1/1953 0:00:00   \n",
       "\n",
       "  Avg Major Rehab Date Int ID  \n",
       "0    9/29/2011 0:00:00      1  \n",
       "1   10/30/2007 0:00:00      2  \n",
       "2     6/4/2014 0:00:00      3  \n",
       "3    6/30/2000 0:00:00      4  \n",
       "4     8/3/2006 0:00:00      5  \n",
       "\n",
       "[5 rows x 22 columns]"
      ]
     },
     "execution_count": 48,
     "metadata": {},
     "output_type": "execute_result"
    }
   ],
   "source": [
    "SU.head()"
   ]
  },
  {
   "cell_type": "code",
   "execution_count": 49,
   "metadata": {
    "collapsed": true
   },
   "outputs": [],
   "source": [
    "SU_FINAL = pd.merge(su_ds, SU, how = 'left', left_on = ['SR', 'BA', 'EA'], right_on = ['SR', 'Begin ARM', 'End ARM'])"
   ]
  },
  {
   "cell_type": "code",
   "execution_count": 50,
   "metadata": {
    "collapsed": true
   },
   "outputs": [],
   "source": [
    "SU2 = SU_FINAL.dropna(subset = ['Lane Miles'])"
   ]
  },
  {
   "cell_type": "code",
   "execution_count": 51,
   "metadata": {
    "collapsed": false
   },
   "outputs": [],
   "source": [
    "SU_FINAL.to_csv('../FinalDatasets/SurveyUnits.csv')"
   ]
  },
  {
   "cell_type": "code",
   "execution_count": 52,
   "metadata": {
    "collapsed": false
   },
   "outputs": [
    {
     "name": "stdout",
     "output_type": "stream",
     "text": [
      "80755 80755\n"
     ]
    }
   ],
   "source": [
    "print len(SU2), len(SU_FINAL)"
   ]
  },
  {
   "cell_type": "markdown",
   "metadata": {},
   "source": [
    "# Contracts dataset"
   ]
  },
  {
   "cell_type": "code",
   "execution_count": 53,
   "metadata": {
    "collapsed": true
   },
   "outputs": [],
   "source": [
    "excd= pd.read_excel(\"../DataFiles/Contracts.xlsx\")"
   ]
  },
  {
   "cell_type": "code",
   "execution_count": 54,
   "metadata": {
    "collapsed": true
   },
   "outputs": [],
   "source": [
    "cd= pd.read_csv(\"../tables/Contracts.txt\", header = None)\n",
    "cd.columns = excd.columns"
   ]
  },
  {
   "cell_type": "code",
   "execution_count": 55,
   "metadata": {
    "collapsed": false
   },
   "outputs": [],
   "source": [
    "cds = cd[['SR', 'Begin ARM', 'End ARM']]\n",
    "cds.columns = ['SR', 'BA', 'EA']\n",
    "cds.loc[:, 'bs'] = cds.loc[:, 'BA'].apply(roundme)\n",
    "cds.loc[:, 'es'] = cds.loc[:, 'EA'].apply(roundme)\n",
    "# cdP = cds[~np.isnan(cds.UID)]"
   ]
  },
  {
   "cell_type": "code",
   "execution_count": 56,
   "metadata": {
    "collapsed": false
   },
   "outputs": [],
   "source": [
    "cds.loc[:, 'UID'] = cds.apply(getUID, axis = 1)"
   ]
  },
  {
   "cell_type": "code",
   "execution_count": 57,
   "metadata": {
    "collapsed": false
   },
   "outputs": [
    {
     "name": "stdout",
     "output_type": "stream",
     "text": [
      "10491\n",
      "43705\n"
     ]
    }
   ],
   "source": [
    "cds_wid = cds[~np.isnan(cds.UID)]\n",
    "print len(cds_wid)\n",
    "cds2 = cds[np.isnan(cds.UID)].sort(columns = ['SR', 'BA', 'EA'])\n",
    "print len(cds2)"
   ]
  },
  {
   "cell_type": "code",
   "execution_count": 58,
   "metadata": {
    "collapsed": true
   },
   "outputs": [],
   "source": [
    "cds_ids = list(np.array(cds_wid.UID))"
   ]
  },
  {
   "cell_type": "code",
   "execution_count": 59,
   "metadata": {
    "collapsed": true
   },
   "outputs": [],
   "source": [
    "def fillUID(row):\n",
    "    rd = row['SR']\n",
    "    bg = row['BA']\n",
    "    end = row['EA']\n",
    "    begin = row['bs']\n",
    "    if (end - bg < 0.15):\n",
    "        res = db[((db.SR==rd) & (db.bs == begin))].UID\n",
    "        if list(res) == []:\n",
    "            return None\n",
    "        else:\n",
    "            x = list(res)[0]\n",
    "            if x not in cds_ids: #  change su_ids to a list and just append x to it if not found in ids.\n",
    "                cds_ids.append(x)\n",
    "                return x\n",
    "            return None"
   ]
  },
  {
   "cell_type": "code",
   "execution_count": 60,
   "metadata": {
    "collapsed": false
   },
   "outputs": [],
   "source": [
    "cds2.loc[:, 'UID'] = cds2.apply(fillUID, axis = 1)"
   ]
  },
  {
   "cell_type": "code",
   "execution_count": 61,
   "metadata": {
    "collapsed": false
   },
   "outputs": [
    {
     "name": "stdout",
     "output_type": "stream",
     "text": [
      "1961\n",
      "41744\n"
     ]
    }
   ],
   "source": [
    "cds_w2 = cds2[~np.isnan(cds2.UID)]\n",
    "print len(cds_w2)\n",
    "cds3 = cds2[np.isnan(cds2.UID)]\n",
    "print len(cds3)"
   ]
  },
  {
   "cell_type": "code",
   "execution_count": 62,
   "metadata": {
    "collapsed": false
   },
   "outputs": [
    {
     "name": "stdout",
     "output_type": "stream",
     "text": [
      "1961\n"
     ]
    }
   ],
   "source": [
    "print len(cds_ids) - len(cds_wid)"
   ]
  },
  {
   "cell_type": "code",
   "execution_count": 63,
   "metadata": {
    "collapsed": true
   },
   "outputs": [],
   "source": [
    "def fillUID2(row):\n",
    "    rd = row['SR']\n",
    "    bg = row['BA']\n",
    "    end = row['EA']\n",
    "    begin = row['bs']\n",
    "    if (end - bg > 0.15):\n",
    "        res = db[((db.SR==rd) & (db.bs == int((bg*10 + end*10)/2)))].UID\n",
    "        if list(res) == []:\n",
    "            return None\n",
    "        else:\n",
    "            x = list(res)[0]\n",
    "            if x not in cds_ids:\n",
    "                cds_ids.append(x)\n",
    "                return x\n",
    "            return None"
   ]
  },
  {
   "cell_type": "code",
   "execution_count": 64,
   "metadata": {
    "collapsed": true
   },
   "outputs": [],
   "source": [
    "cds3.loc[:, 'UID'] = cds3.apply(fillUID2, axis = 1)"
   ]
  },
  {
   "cell_type": "code",
   "execution_count": 65,
   "metadata": {
    "collapsed": false
   },
   "outputs": [
    {
     "name": "stdout",
     "output_type": "stream",
     "text": [
      "10944\n",
      "30800\n"
     ]
    }
   ],
   "source": [
    "cds_w3 = cds3[~np.isnan(cds3.UID)]\n",
    "print len(cds_w3)\n",
    "cds4 = cds3[np.isnan(cds3.UID)]\n",
    "print len(cds4)"
   ]
  },
  {
   "cell_type": "code",
   "execution_count": 66,
   "metadata": {
    "collapsed": false
   },
   "outputs": [
    {
     "name": "stdout",
     "output_type": "stream",
     "text": [
      "16351\n",
      "73046\n",
      "54196\n"
     ]
    }
   ],
   "source": [
    "print len(np.unique(cds_ids))\n",
    "print len(db)\n",
    "print len(cds)"
   ]
  },
  {
   "cell_type": "code",
   "execution_count": 67,
   "metadata": {
    "collapsed": true
   },
   "outputs": [],
   "source": [
    "def fillUID3(row):\n",
    "    rd = row['SR']\n",
    "    bg = row['BA']\n",
    "    end = row['EA']\n",
    "    endARM = row['es']\n",
    "    if (end - bg > 0.05) & (end - bg < 0.5):\n",
    "        res = db[((db.SR==rd) & (db.es == endARM))].UID\n",
    "        if list(res) == []:\n",
    "            return None\n",
    "        else:\n",
    "            x = list(res)[0]\n",
    "            if x not in cds_ids:\n",
    "                cds_ids.append(x)\n",
    "                return x\n",
    "            return None"
   ]
  },
  {
   "cell_type": "code",
   "execution_count": 68,
   "metadata": {
    "collapsed": true
   },
   "outputs": [],
   "source": [
    "cds4.loc[:, 'UID'] = cds4.apply(fillUID3, axis = 1)"
   ]
  },
  {
   "cell_type": "code",
   "execution_count": 69,
   "metadata": {
    "collapsed": false
   },
   "outputs": [
    {
     "name": "stdout",
     "output_type": "stream",
     "text": [
      "949\n",
      "29851\n"
     ]
    }
   ],
   "source": [
    "cds_w4 = cds4[~np.isnan(cds4.UID)]\n",
    "print len(cds_w4)\n",
    "cds5 = cds4[np.isnan(cds4.UID)]\n",
    "print len(cds5)"
   ]
  },
  {
   "cell_type": "code",
   "execution_count": 70,
   "metadata": {
    "collapsed": true
   },
   "outputs": [],
   "source": [
    "def fillUID4(row):\n",
    "    rd = row['SR']\n",
    "    bg = row['BA']\n",
    "    end = row['EA']\n",
    "#     endARM = row['es']\n",
    "    if (end - bg > 0.25):\n",
    "        res = db[((db.SR==rd) & (db.bs == int((bg*10 + end*10)/3)))].UID\n",
    "        if list(res) == []:\n",
    "            return None\n",
    "        else:\n",
    "            x = list(res)[0]\n",
    "            if x not in cds_ids:\n",
    "                cds_ids.append(x)\n",
    "                return x\n",
    "            return None\n",
    "def fillUID5(row):\n",
    "    rd = row['SR']\n",
    "    bg = row['BA']\n",
    "    end = row['EA']\n",
    "#     endARM = row['es']\n",
    "    if (end - bg > 0.25):\n",
    "        res = db[((db.SR==rd) & (db.es == int((bg*10 + end*10)/3)))].UID\n",
    "        if list(res) == []:\n",
    "            return None\n",
    "        else:\n",
    "            x = list(res)[0]\n",
    "            if x not in cds_ids:\n",
    "                cds_ids.append(x)\n",
    "                return x\n",
    "            return None"
   ]
  },
  {
   "cell_type": "code",
   "execution_count": 71,
   "metadata": {
    "collapsed": true
   },
   "outputs": [],
   "source": [
    "cds5.loc[:, 'UID'] = cds5.apply(fillUID4, axis = 1)"
   ]
  },
  {
   "cell_type": "code",
   "execution_count": 72,
   "metadata": {
    "collapsed": false
   },
   "outputs": [
    {
     "name": "stdout",
     "output_type": "stream",
     "text": [
      "4023\n",
      "25828\n"
     ]
    }
   ],
   "source": [
    "cds_w5 = cds5[~np.isnan(cds5.UID)]\n",
    "print len(cds_w5)\n",
    "cds6 = cds5[np.isnan(cds5.UID)]\n",
    "print len(cds6)"
   ]
  },
  {
   "cell_type": "code",
   "execution_count": 73,
   "metadata": {
    "collapsed": true
   },
   "outputs": [],
   "source": [
    "cds6.loc[:, 'UID'] = cds6.apply(fillUID5, axis = 1)"
   ]
  },
  {
   "cell_type": "code",
   "execution_count": 74,
   "metadata": {
    "collapsed": false
   },
   "outputs": [
    {
     "name": "stdout",
     "output_type": "stream",
     "text": [
      "2271\n",
      "23557\n"
     ]
    }
   ],
   "source": [
    "cds_w6 = cds6[~np.isnan(cds6.UID)]\n",
    "print len(cds_w6)\n",
    "cds7 = cds6[np.isnan(cds6.UID)]\n",
    "print len(cds7)"
   ]
  },
  {
   "cell_type": "code",
   "execution_count": 75,
   "metadata": {
    "collapsed": true
   },
   "outputs": [],
   "source": [
    "cds_all = pd.concat([cds_wid, cds_w2, cds_w3, cds_w4, cds_w5, cds_w6])"
   ]
  },
  {
   "cell_type": "code",
   "execution_count": 76,
   "metadata": {
    "collapsed": true
   },
   "outputs": [],
   "source": [
    "cds_all = cds_all.drop_duplicates(subset = ['UID'])"
   ]
  },
  {
   "cell_type": "code",
   "execution_count": 77,
   "metadata": {
    "collapsed": true
   },
   "outputs": [],
   "source": [
    "cds_final = pd.merge(cds_all, cd, how = 'left', left_on = ['SR', 'BA', 'EA'], right_on = ['SR', 'Begin ARM', 'End ARM'])\n",
    "cds_FINAL = cds_final.dropna(subset = ['Surface Thickness'])\n",
    "CDS = cds_FINAL.drop_duplicates(subset = ['SR', 'Begin ARM', 'End ARM', 'Construction End Date'])"
   ]
  },
  {
   "cell_type": "code",
   "execution_count": 78,
   "metadata": {
    "collapsed": false
   },
   "outputs": [
    {
     "name": "stdout",
     "output_type": "stream",
     "text": [
      "23594 27224 54196\n"
     ]
    }
   ],
   "source": [
    "print len(np.unique(cds_ids)), len(CDS), len(cd)"
   ]
  },
  {
   "cell_type": "code",
   "execution_count": 79,
   "metadata": {
    "collapsed": false
   },
   "outputs": [
    {
     "data": {
      "text/html": [
       "<div style=\"max-height:1000px;max-width:1500px;overflow:auto;\">\n",
       "<table border=\"1\" class=\"dataframe\">\n",
       "  <thead>\n",
       "    <tr style=\"text-align: right;\">\n",
       "      <th></th>\n",
       "      <th>SR</th>\n",
       "      <th>Begin ARM</th>\n",
       "      <th>End ARM</th>\n",
       "      <th>UID</th>\n",
       "      <th>Construction End Date</th>\n",
       "      <th>ID</th>\n",
       "    </tr>\n",
       "  </thead>\n",
       "  <tbody>\n",
       "    <tr>\n",
       "      <th>0</th>\n",
       "      <td>2</td>\n",
       "      <td>0.00</td>\n",
       "      <td>0.13</td>\n",
       "      <td>1</td>\n",
       "      <td>4/29/1994 0:00:00</td>\n",
       "      <td>206e5b45-4e3b-4e3f-9a86-d284970ae774</td>\n",
       "    </tr>\n",
       "    <tr>\n",
       "      <th>1</th>\n",
       "      <td>2</td>\n",
       "      <td>0.00</td>\n",
       "      <td>0.13</td>\n",
       "      <td>1</td>\n",
       "      <td>10/31/1997 0:00:00</td>\n",
       "      <td>32079337-b228-401a-9503-e0fe9fc52092</td>\n",
       "    </tr>\n",
       "    <tr>\n",
       "      <th>3</th>\n",
       "      <td>2</td>\n",
       "      <td>0.00</td>\n",
       "      <td>0.13</td>\n",
       "      <td>1</td>\n",
       "      <td>9/9/9999 0:00:00</td>\n",
       "      <td>73d8794a-336c-449c-bd61-358b09b3bcad</td>\n",
       "    </tr>\n",
       "    <tr>\n",
       "      <th>4</th>\n",
       "      <td>2</td>\n",
       "      <td>0.00</td>\n",
       "      <td>0.13</td>\n",
       "      <td>1</td>\n",
       "      <td>7/11/2008 0:00:00</td>\n",
       "      <td>aed59db0-34d4-4d80-97ae-63b50c7b1cd2</td>\n",
       "    </tr>\n",
       "    <tr>\n",
       "      <th>5</th>\n",
       "      <td>2</td>\n",
       "      <td>1.49</td>\n",
       "      <td>1.55</td>\n",
       "      <td>15</td>\n",
       "      <td>8/31/1999 0:00:00</td>\n",
       "      <td>6ffa8ecf-d4cd-40f2-aaf7-2857793a14f8</td>\n",
       "    </tr>\n",
       "  </tbody>\n",
       "</table>\n",
       "</div>"
      ],
      "text/plain": [
       "   SR  Begin ARM  End ARM  UID Construction End Date  \\\n",
       "0   2       0.00     0.13    1     4/29/1994 0:00:00   \n",
       "1   2       0.00     0.13    1    10/31/1997 0:00:00   \n",
       "3   2       0.00     0.13    1      9/9/9999 0:00:00   \n",
       "4   2       0.00     0.13    1     7/11/2008 0:00:00   \n",
       "5   2       1.49     1.55   15     8/31/1999 0:00:00   \n",
       "\n",
       "                                     ID  \n",
       "0  206e5b45-4e3b-4e3f-9a86-d284970ae774  \n",
       "1  32079337-b228-401a-9503-e0fe9fc52092  \n",
       "3  73d8794a-336c-449c-bd61-358b09b3bcad  \n",
       "4  aed59db0-34d4-4d80-97ae-63b50c7b1cd2  \n",
       "5  6ffa8ecf-d4cd-40f2-aaf7-2857793a14f8  "
      ]
     },
     "execution_count": 79,
     "metadata": {},
     "output_type": "execute_result"
    }
   ],
   "source": [
    "CDS[['SR', 'Begin ARM', 'End ARM', 'UID', 'Construction End Date', 'ID']].head()"
   ]
  },
  {
   "cell_type": "code",
   "execution_count": 80,
   "metadata": {
    "collapsed": true
   },
   "outputs": [],
   "source": [
    "CDS.to_csv('../FInalDatasets/Contracts.csv')"
   ]
  },
  {
   "cell_type": "markdown",
   "metadata": {},
   "source": [
    "# Contracts History"
   ]
  },
  {
   "cell_type": "code",
   "execution_count": 81,
   "metadata": {
    "collapsed": true
   },
   "outputs": [],
   "source": [
    "exCH= pd.read_excel(\"../DataFiles/Contract History.xlsx\")\n",
    "CH = pd.read_csv('../tables/Contract History.txt', header = None)"
   ]
  },
  {
   "cell_type": "code",
   "execution_count": 82,
   "metadata": {
    "collapsed": true
   },
   "outputs": [],
   "source": [
    "CH.columns = exCH.columns\n",
    "ch = CH[['SR', 'Begin ARM', 'End ARM']]\n",
    "ch.columns = ['SR', 'BA', 'EA']\n",
    "ch.loc[:, 'bs'] = ch.loc[:, 'BA'].apply(roundme)\n",
    "ch.loc[:, 'es'] = ch.loc[:, 'EA'].apply(roundme)\n",
    "ch.loc[:, 'UID'] = ch.apply(getUID, axis = 1)"
   ]
  },
  {
   "cell_type": "code",
   "execution_count": 83,
   "metadata": {
    "collapsed": false
   },
   "outputs": [
    {
     "name": "stdout",
     "output_type": "stream",
     "text": [
      "8354\n",
      "20234\n"
     ]
    }
   ],
   "source": [
    "ch_wid = ch[~np.isnan(ch.UID)]\n",
    "print len(ch_wid)\n",
    "ch2 = ch[np.isnan(ch.UID)].sort(columns = ['SR', 'BA', 'EA'])\n",
    "print len(ch2)"
   ]
  },
  {
   "cell_type": "code",
   "execution_count": 84,
   "metadata": {
    "collapsed": false
   },
   "outputs": [
    {
     "name": "stdout",
     "output_type": "stream",
     "text": [
      "5089\n"
     ]
    }
   ],
   "source": [
    "ch_ids = list(np.unique(np.array(ch_wid.UID)))\n",
    "print len(ch_ids)"
   ]
  },
  {
   "cell_type": "code",
   "execution_count": 85,
   "metadata": {
    "collapsed": false
   },
   "outputs": [],
   "source": [
    "def fillUID(row):\n",
    "    rd = row['SR']\n",
    "    bg = row['BA']\n",
    "    end = row['EA']\n",
    "    begin = row['bs']\n",
    "    if (end - bg < 0.15):\n",
    "        res = db[((db.SR==rd) & (db.bs == begin))].UID\n",
    "        if list(res) == []:\n",
    "            return None\n",
    "        else:\n",
    "            x = list(res)[0]\n",
    "            if x not in ch_ids: #  change su_ids to a list and just append x to it if not found in ids.\n",
    "                ch_ids.append(x)\n",
    "                return x\n",
    "            return None\n",
    "    else:\n",
    "        return None\n",
    "def fillUID2(row):\n",
    "    rd = row['SR']\n",
    "    bg = row['BA']\n",
    "    end = row['EA']\n",
    "    begin = row['bs']\n",
    "    if (end - bg > 0.15):\n",
    "        res = db[((db.SR==rd) & (db.bs == int((bg*10 + end*10)/2)))].UID\n",
    "        if list(res) == []:\n",
    "            return None\n",
    "        else:\n",
    "            x = list(res)[0]\n",
    "            if x not in ch_ids:\n",
    "                ch_ids.append(x)\n",
    "                return x\n",
    "            return None\n",
    "    else:\n",
    "        return None\n",
    "def fillUID3(row):\n",
    "    rd = row['SR']\n",
    "    bg = row['BA']\n",
    "    end = row['EA']\n",
    "    endARM = row['es']\n",
    "    if (end - bg > 0.05) & (end - bg < 0.5):\n",
    "        res = db[((db.SR==rd) & (db.es == endARM))].UID\n",
    "        if list(res) == []:\n",
    "            return None\n",
    "        else:\n",
    "            x = list(res)[0]\n",
    "            if x not in ch_ids:\n",
    "                ch_ids.append(x)\n",
    "                return x\n",
    "            return None\n",
    "    return None\n",
    "def fillUID4(row):\n",
    "    rd = row['SR']\n",
    "    bg = row['BA']\n",
    "    end = row['EA']\n",
    "#     endARM = row['es']\n",
    "    if (end - bg > 0.25):\n",
    "        res = db[((db.SR==rd) & (db.bs == int((bg*10 + end*10)/3)))].UID\n",
    "        if list(res) == []:\n",
    "            return None\n",
    "        else:\n",
    "            x = list(res)[0]\n",
    "            if x not in ch_ids:\n",
    "                ch_ids.append(x)\n",
    "                return x\n",
    "            return None\n",
    "    return None\n",
    "def fillUID5(row):\n",
    "    rd = row['SR']\n",
    "    bg = row['BA']\n",
    "    end = row['EA']\n",
    "#     endARM = row['es']\n",
    "    if (end - bg > 0.25):\n",
    "        res = db[((db.SR==rd) & (db.es == int((bg*10 + end*10)/3)))].UID\n",
    "        if list(res) == []:\n",
    "            return None\n",
    "        else:\n",
    "            x = list(res)[0]\n",
    "            if x not in ch_ids:\n",
    "                ch_ids.append(x)\n",
    "                return x\n",
    "            return None\n",
    "    return None"
   ]
  },
  {
   "cell_type": "code",
   "execution_count": 86,
   "metadata": {
    "collapsed": false
   },
   "outputs": [
    {
     "name": "stdout",
     "output_type": "stream",
     "text": [
      "2382\n",
      "17852\n"
     ]
    }
   ],
   "source": [
    "ch2.loc[:, 'UID'] = ch2.apply(fillUID, axis = 1)\n",
    "ch_w2 = ch2[~np.isnan(ch2.UID)]\n",
    "print len(ch_w2)\n",
    "ch3 = ch2[np.isnan(ch2.UID)]\n",
    "print len(ch3)"
   ]
  },
  {
   "cell_type": "code",
   "execution_count": 87,
   "metadata": {
    "collapsed": false
   },
   "outputs": [
    {
     "name": "stdout",
     "output_type": "stream",
     "text": [
      "7877\n",
      "9975\n"
     ]
    }
   ],
   "source": [
    "ch3.loc[:, 'UID'] = ch3.apply(fillUID2, axis = 1)\n",
    "ch_w3 = ch3[~np.isnan(ch3.UID)]\n",
    "print len(ch_w3)\n",
    "ch4 = ch3[np.isnan(ch3.UID)]\n",
    "print len(ch4)"
   ]
  },
  {
   "cell_type": "code",
   "execution_count": 88,
   "metadata": {
    "collapsed": false
   },
   "outputs": [
    {
     "name": "stdout",
     "output_type": "stream",
     "text": [
      "665\n",
      "9310\n"
     ]
    }
   ],
   "source": [
    "ch4.loc[:, 'UID'] = ch4.apply(fillUID3, axis = 1)\n",
    "ch_w4 = ch4[~np.isnan(ch4.UID)]\n",
    "print len(ch_w4)\n",
    "ch5 = ch4[np.isnan(ch4.UID)]\n",
    "print len(ch5)"
   ]
  },
  {
   "cell_type": "code",
   "execution_count": 89,
   "metadata": {
    "collapsed": false
   },
   "outputs": [
    {
     "name": "stdout",
     "output_type": "stream",
     "text": [
      "438\n",
      "8872\n"
     ]
    }
   ],
   "source": [
    "ch5.loc[:, 'UID'] = ch5.apply(fillUID4, axis = 1)\n",
    "ch_w5 = ch5[~np.isnan(ch5.UID)]\n",
    "print len(ch_w5)\n",
    "ch6 = ch5[np.isnan(ch5.UID)]\n",
    "print len(ch6)"
   ]
  },
  {
   "cell_type": "code",
   "execution_count": 90,
   "metadata": {
    "collapsed": false
   },
   "outputs": [
    {
     "name": "stdout",
     "output_type": "stream",
     "text": [
      "99\n",
      "8773\n"
     ]
    }
   ],
   "source": [
    "ch6.loc[:, 'UID'] = ch6.apply(fillUID5, axis = 1)\n",
    "ch_w6 = ch6[~np.isnan(ch6.UID)]\n",
    "print len(ch_w6)\n",
    "ch7 = ch6[np.isnan(ch6.UID)]\n",
    "print len(ch7)"
   ]
  },
  {
   "cell_type": "code",
   "execution_count": 91,
   "metadata": {
    "collapsed": false
   },
   "outputs": [
    {
     "name": "stdout",
     "output_type": "stream",
     "text": [
      "16550\n",
      "73046\n",
      "28588\n"
     ]
    }
   ],
   "source": [
    "print len(np.unique(ch_ids))\n",
    "print len(db)\n",
    "print len(ch)"
   ]
  },
  {
   "cell_type": "code",
   "execution_count": 92,
   "metadata": {
    "collapsed": true
   },
   "outputs": [],
   "source": [
    "ch_all = pd.concat([ch_wid, ch_w2, ch_w3, ch_w4, ch_w5, ch_w6])\n",
    "ch_all = ch_all.drop_duplicates(subset = ['UID'])"
   ]
  },
  {
   "cell_type": "code",
   "execution_count": 93,
   "metadata": {
    "collapsed": false
   },
   "outputs": [
    {
     "data": {
      "text/html": [
       "<div style=\"max-height:1000px;max-width:1500px;overflow:auto;\">\n",
       "<table border=\"1\" class=\"dataframe\">\n",
       "  <thead>\n",
       "    <tr style=\"text-align: right;\">\n",
       "      <th></th>\n",
       "      <th>SR</th>\n",
       "      <th>Begin ARM</th>\n",
       "      <th>End ARM</th>\n",
       "      <th>Major Rehab Year</th>\n",
       "    </tr>\n",
       "  </thead>\n",
       "  <tbody>\n",
       "    <tr>\n",
       "      <th>0</th>\n",
       "      <td>2</td>\n",
       "      <td>3.96</td>\n",
       "      <td>4.50</td>\n",
       "      <td>1998</td>\n",
       "    </tr>\n",
       "    <tr>\n",
       "      <th>1</th>\n",
       "      <td>2</td>\n",
       "      <td>4.50</td>\n",
       "      <td>4.53</td>\n",
       "      <td>1982</td>\n",
       "    </tr>\n",
       "    <tr>\n",
       "      <th>2</th>\n",
       "      <td>2</td>\n",
       "      <td>4.53</td>\n",
       "      <td>4.80</td>\n",
       "      <td>1998</td>\n",
       "    </tr>\n",
       "    <tr>\n",
       "      <th>3</th>\n",
       "      <td>2</td>\n",
       "      <td>5.15</td>\n",
       "      <td>6.50</td>\n",
       "      <td>1998</td>\n",
       "    </tr>\n",
       "    <tr>\n",
       "      <th>4</th>\n",
       "      <td>2</td>\n",
       "      <td>6.50</td>\n",
       "      <td>6.66</td>\n",
       "      <td>1998</td>\n",
       "    </tr>\n",
       "  </tbody>\n",
       "</table>\n",
       "</div>"
      ],
      "text/plain": [
       "   SR  Begin ARM  End ARM  Major Rehab Year\n",
       "0   2       3.96     4.50              1998\n",
       "1   2       4.50     4.53              1982\n",
       "2   2       4.53     4.80              1998\n",
       "3   2       5.15     6.50              1998\n",
       "4   2       6.50     6.66              1998"
      ]
     },
     "execution_count": 93,
     "metadata": {},
     "output_type": "execute_result"
    }
   ],
   "source": [
    "CH[['SR', 'Begin ARM', 'End ARM', u'Major Rehab Year']].head()"
   ]
  },
  {
   "cell_type": "code",
   "execution_count": 94,
   "metadata": {
    "collapsed": true
   },
   "outputs": [],
   "source": [
    "ch_final = pd.merge(ch_all, CH, how = 'left', left_on = ['SR', 'BA', 'EA'], right_on = ['SR', 'Begin ARM', 'End ARM'])\n",
    "ch_FINAL = ch_final.dropna(subset = [u'Major Rehab Year'])\n",
    "# CDS = cds_FINAL.drop_duplicates(subset = ['SR', 'Begin ARM', 'End ARM', 'Construction End Date'])"
   ]
  },
  {
   "cell_type": "code",
   "execution_count": 95,
   "metadata": {
    "collapsed": false
   },
   "outputs": [
    {
     "data": {
      "text/html": [
       "<div style=\"max-height:1000px;max-width:1500px;overflow:auto;\">\n",
       "<table border=\"1\" class=\"dataframe\">\n",
       "  <thead>\n",
       "    <tr style=\"text-align: right;\">\n",
       "      <th></th>\n",
       "      <th>SR</th>\n",
       "      <th>Begin ARM</th>\n",
       "      <th>End ARM</th>\n",
       "      <th>UID</th>\n",
       "      <th>Major Rehab Year</th>\n",
       "    </tr>\n",
       "  </thead>\n",
       "  <tbody>\n",
       "    <tr>\n",
       "      <th>0</th>\n",
       "      <td>2</td>\n",
       "      <td>6.50</td>\n",
       "      <td>6.66</td>\n",
       "      <td>66</td>\n",
       "      <td>1998</td>\n",
       "    </tr>\n",
       "    <tr>\n",
       "      <th>1</th>\n",
       "      <td>2</td>\n",
       "      <td>11.32</td>\n",
       "      <td>11.49</td>\n",
       "      <td>114</td>\n",
       "      <td>1998</td>\n",
       "    </tr>\n",
       "    <tr>\n",
       "      <th>2</th>\n",
       "      <td>2</td>\n",
       "      <td>11.49</td>\n",
       "      <td>11.51</td>\n",
       "      <td>115</td>\n",
       "      <td>1998</td>\n",
       "    </tr>\n",
       "    <tr>\n",
       "      <th>3</th>\n",
       "      <td>2</td>\n",
       "      <td>13.69</td>\n",
       "      <td>13.72</td>\n",
       "      <td>137</td>\n",
       "      <td>1984</td>\n",
       "    </tr>\n",
       "    <tr>\n",
       "      <th>4</th>\n",
       "      <td>2</td>\n",
       "      <td>13.77</td>\n",
       "      <td>13.85</td>\n",
       "      <td>138</td>\n",
       "      <td>1984</td>\n",
       "    </tr>\n",
       "  </tbody>\n",
       "</table>\n",
       "</div>"
      ],
      "text/plain": [
       "   SR  Begin ARM  End ARM  UID  Major Rehab Year\n",
       "0   2       6.50     6.66   66              1998\n",
       "1   2      11.32    11.49  114              1998\n",
       "2   2      11.49    11.51  115              1998\n",
       "3   2      13.69    13.72  137              1984\n",
       "4   2      13.77    13.85  138              1984"
      ]
     },
     "execution_count": 95,
     "metadata": {},
     "output_type": "execute_result"
    }
   ],
   "source": [
    "ch_FINAL[['SR', 'Begin ARM', 'End ARM','UID', u'Major Rehab Year']].head()"
   ]
  },
  {
   "cell_type": "code",
   "execution_count": 96,
   "metadata": {
    "collapsed": false
   },
   "outputs": [
    {
     "name": "stdout",
     "output_type": "stream",
     "text": [
      "24690\n"
     ]
    }
   ],
   "source": [
    "ch_temp = CH.drop_duplicates(subset=['SR', 'Begin ARM', 'End ARM', 'Major Rehab Year'])\n",
    "print len(ch_temp)"
   ]
  },
  {
   "cell_type": "code",
   "execution_count": 97,
   "metadata": {
    "collapsed": false
   },
   "outputs": [
    {
     "name": "stdout",
     "output_type": "stream",
     "text": [
      "19253\n",
      "16550\n",
      "28588\n"
     ]
    }
   ],
   "source": [
    "print len(ch_FINAL)\n",
    "print len(ch_ids)\n",
    "print len(ch)"
   ]
  },
  {
   "cell_type": "code",
   "execution_count": 98,
   "metadata": {
    "collapsed": false
   },
   "outputs": [],
   "source": [
    "ch_FINAL.to_csv('../FinalDatasets/ContractsHistory.csv')"
   ]
  },
  {
   "cell_type": "code",
   "execution_count": 99,
   "metadata": {
    "collapsed": true
   },
   "outputs": [],
   "source": [
    "ch_sorted = ch_FINAL.sort(columns = ['SR', 'Begin ARM', 'End ARM'])"
   ]
  },
  {
   "cell_type": "code",
   "execution_count": 100,
   "metadata": {
    "collapsed": false
   },
   "outputs": [
    {
     "data": {
      "text/html": [
       "<div style=\"max-height:1000px;max-width:1500px;overflow:auto;\">\n",
       "<table border=\"1\" class=\"dataframe\">\n",
       "  <thead>\n",
       "    <tr style=\"text-align: right;\">\n",
       "      <th></th>\n",
       "      <th>SR</th>\n",
       "      <th>BA</th>\n",
       "      <th>EA</th>\n",
       "      <th>bs</th>\n",
       "      <th>es</th>\n",
       "      <th>UID</th>\n",
       "      <th>RRT</th>\n",
       "      <th>RRQ</th>\n",
       "      <th>Begin ARM</th>\n",
       "      <th>End ARM</th>\n",
       "      <th>...</th>\n",
       "      <th>Analysis Period End Year</th>\n",
       "      <th>Future Total Value</th>\n",
       "      <th>Real Cost Per Lane Mile Year</th>\n",
       "      <th>Analysis Period ESALs</th>\n",
       "      <th>Analysis Period Vehicles</th>\n",
       "      <th>Sinking Fund Ratio</th>\n",
       "      <th>EUAC</th>\n",
       "      <th>EUAC Per Lane Mile</th>\n",
       "      <th>Dollars Per Mile Per ESAL</th>\n",
       "      <th>Dollars Per Mile Per Vehicle</th>\n",
       "    </tr>\n",
       "  </thead>\n",
       "  <tbody>\n",
       "    <tr>\n",
       "      <th>284</th>\n",
       "      <td>2</td>\n",
       "      <td>0.00</td>\n",
       "      <td>0.10</td>\n",
       "      <td>0</td>\n",
       "      <td>1</td>\n",
       "      <td>1</td>\n",
       "      <td>NaN</td>\n",
       "      <td>NaN</td>\n",
       "      <td>0.00</td>\n",
       "      <td>0.10</td>\n",
       "      <td>...</td>\n",
       "      <td>NaN</td>\n",
       "      <td>NaN</td>\n",
       "      <td>NaN</td>\n",
       "      <td>NaN</td>\n",
       "      <td>NaN</td>\n",
       "      <td>NaN</td>\n",
       "      <td>NaN</td>\n",
       "      <td>NaN</td>\n",
       "      <td>NaN</td>\n",
       "      <td>NaN</td>\n",
       "    </tr>\n",
       "    <tr>\n",
       "      <th>304</th>\n",
       "      <td>2</td>\n",
       "      <td>0.13</td>\n",
       "      <td>0.28</td>\n",
       "      <td>1</td>\n",
       "      <td>2</td>\n",
       "      <td>2</td>\n",
       "      <td>FI</td>\n",
       "      <td>00389</td>\n",
       "      <td>0.13</td>\n",
       "      <td>0.28</td>\n",
       "      <td>...</td>\n",
       "      <td>NaN</td>\n",
       "      <td>NaN</td>\n",
       "      <td>NaN</td>\n",
       "      <td>NaN</td>\n",
       "      <td>NaN</td>\n",
       "      <td>NaN</td>\n",
       "      <td>NaN</td>\n",
       "      <td>NaN</td>\n",
       "      <td>NaN</td>\n",
       "      <td>NaN</td>\n",
       "    </tr>\n",
       "    <tr>\n",
       "      <th>306</th>\n",
       "      <td>2</td>\n",
       "      <td>0.29</td>\n",
       "      <td>0.32</td>\n",
       "      <td>2</td>\n",
       "      <td>3</td>\n",
       "      <td>3</td>\n",
       "      <td>Q1</td>\n",
       "      <td>29681</td>\n",
       "      <td>0.29</td>\n",
       "      <td>0.32</td>\n",
       "      <td>...</td>\n",
       "      <td>2055</td>\n",
       "      <td>NaN</td>\n",
       "      <td>87755.53</td>\n",
       "      <td>NaN</td>\n",
       "      <td>NaN</td>\n",
       "      <td>0.006550</td>\n",
       "      <td>12254.74</td>\n",
       "      <td>204245.67</td>\n",
       "      <td>NaN</td>\n",
       "      <td>NaN</td>\n",
       "    </tr>\n",
       "    <tr>\n",
       "      <th>302</th>\n",
       "      <td>2</td>\n",
       "      <td>0.39</td>\n",
       "      <td>0.48</td>\n",
       "      <td>3</td>\n",
       "      <td>4</td>\n",
       "      <td>4</td>\n",
       "      <td>CO</td>\n",
       "      <td>DIVISN</td>\n",
       "      <td>0.39</td>\n",
       "      <td>0.48</td>\n",
       "      <td>...</td>\n",
       "      <td>2014</td>\n",
       "      <td>NaN</td>\n",
       "      <td>20556.32</td>\n",
       "      <td>2275469.18</td>\n",
       "      <td>128186336</td>\n",
       "      <td>0.033582</td>\n",
       "      <td>9949.54</td>\n",
       "      <td>27637.61</td>\n",
       "      <td>0.9717</td>\n",
       "      <td>0.0172</td>\n",
       "    </tr>\n",
       "    <tr>\n",
       "      <th>301</th>\n",
       "      <td>2</td>\n",
       "      <td>0.58</td>\n",
       "      <td>0.63</td>\n",
       "      <td>5</td>\n",
       "      <td>6</td>\n",
       "      <td>6</td>\n",
       "      <td>CO</td>\n",
       "      <td>BROWNE</td>\n",
       "      <td>0.58</td>\n",
       "      <td>0.63</td>\n",
       "      <td>...</td>\n",
       "      <td>2014</td>\n",
       "      <td>NaN</td>\n",
       "      <td>26743.62</td>\n",
       "      <td>2167431.98</td>\n",
       "      <td>111591714</td>\n",
       "      <td>0.045820</td>\n",
       "      <td>4833.77</td>\n",
       "      <td>30211.06</td>\n",
       "      <td>0.7137</td>\n",
       "      <td>0.0139</td>\n",
       "    </tr>\n",
       "  </tbody>\n",
       "</table>\n",
       "<p>5 rows × 54 columns</p>\n",
       "</div>"
      ],
      "text/plain": [
       "     SR    BA    EA  bs  es  UID  RRT     RRQ  Begin ARM  End ARM  \\\n",
       "284   2  0.00  0.10   0   1    1  NaN     NaN       0.00     0.10   \n",
       "304   2  0.13  0.28   1   2    2   FI   00389       0.13     0.28   \n",
       "306   2  0.29  0.32   2   3    3   Q1   29681       0.29     0.32   \n",
       "302   2  0.39  0.48   3   4    4   CO  DIVISN       0.39     0.48   \n",
       "301   2  0.58  0.63   5   6    6   CO  BROWNE       0.58     0.63   \n",
       "\n",
       "                 ...              Analysis Period End Year Future Total Value  \\\n",
       "284              ...                                   NaN                NaN   \n",
       "304              ...                                   NaN                NaN   \n",
       "306              ...                                  2055                NaN   \n",
       "302              ...                                  2014                NaN   \n",
       "301              ...                                  2014                NaN   \n",
       "\n",
       "    Real Cost Per Lane Mile Year Analysis Period ESALs  \\\n",
       "284                          NaN                   NaN   \n",
       "304                          NaN                   NaN   \n",
       "306                     87755.53                   NaN   \n",
       "302                     20556.32            2275469.18   \n",
       "301                     26743.62            2167431.98   \n",
       "\n",
       "    Analysis Period Vehicles Sinking Fund Ratio      EUAC EUAC Per Lane Mile  \\\n",
       "284                      NaN                NaN       NaN                NaN   \n",
       "304                      NaN                NaN       NaN                NaN   \n",
       "306                      NaN           0.006550  12254.74          204245.67   \n",
       "302                128186336           0.033582   9949.54           27637.61   \n",
       "301                111591714           0.045820   4833.77           30211.06   \n",
       "\n",
       "    Dollars Per Mile Per ESAL  Dollars Per Mile Per Vehicle  \n",
       "284                       NaN                           NaN  \n",
       "304                       NaN                           NaN  \n",
       "306                       NaN                           NaN  \n",
       "302                    0.9717                        0.0172  \n",
       "301                    0.7137                        0.0139  \n",
       "\n",
       "[5 rows x 54 columns]"
      ]
     },
     "execution_count": 100,
     "metadata": {},
     "output_type": "execute_result"
    }
   ],
   "source": [
    "ch_sorted.head()"
   ]
  },
  {
   "cell_type": "code",
   "execution_count": 101,
   "metadata": {
    "collapsed": false
   },
   "outputs": [
    {
     "data": {
      "text/html": [
       "<div style=\"max-height:1000px;max-width:1500px;overflow:auto;\">\n",
       "<table border=\"1\" class=\"dataframe\">\n",
       "  <thead>\n",
       "    <tr style=\"text-align: right;\">\n",
       "      <th></th>\n",
       "      <th>SR</th>\n",
       "      <th>BA</th>\n",
       "      <th>EA</th>\n",
       "      <th>bs</th>\n",
       "      <th>es</th>\n",
       "      <th>UID</th>\n",
       "    </tr>\n",
       "  </thead>\n",
       "  <tbody>\n",
       "    <tr>\n",
       "      <th>0</th>\n",
       "      <td>2</td>\n",
       "      <td>312.04</td>\n",
       "      <td>312.14</td>\n",
       "      <td>3120</td>\n",
       "      <td>3121</td>\n",
       "      <td>3121</td>\n",
       "    </tr>\n",
       "    <tr>\n",
       "      <th>1</th>\n",
       "      <td>2</td>\n",
       "      <td>171.15</td>\n",
       "      <td>171.25</td>\n",
       "      <td>1711</td>\n",
       "      <td>1712</td>\n",
       "      <td>1712</td>\n",
       "    </tr>\n",
       "    <tr>\n",
       "      <th>2</th>\n",
       "      <td>2</td>\n",
       "      <td>269.53</td>\n",
       "      <td>269.63</td>\n",
       "      <td>2695</td>\n",
       "      <td>2696</td>\n",
       "      <td>2696</td>\n",
       "    </tr>\n",
       "    <tr>\n",
       "      <th>3</th>\n",
       "      <td>2</td>\n",
       "      <td>22.12</td>\n",
       "      <td>22.23</td>\n",
       "      <td>221</td>\n",
       "      <td>222</td>\n",
       "      <td>222</td>\n",
       "    </tr>\n",
       "    <tr>\n",
       "      <th>4</th>\n",
       "      <td>2</td>\n",
       "      <td>115.81</td>\n",
       "      <td>115.91</td>\n",
       "      <td>1158</td>\n",
       "      <td>1159</td>\n",
       "      <td>1159</td>\n",
       "    </tr>\n",
       "  </tbody>\n",
       "</table>\n",
       "</div>"
      ],
      "text/plain": [
       "   SR      BA      EA    bs    es   UID\n",
       "0   2  312.04  312.14  3120  3121  3121\n",
       "1   2  171.15  171.25  1711  1712  1712\n",
       "2   2  269.53  269.63  2695  2696  2696\n",
       "3   2   22.12   22.23   221   222   222\n",
       "4   2  115.81  115.91  1158  1159  1159"
      ]
     },
     "execution_count": 101,
     "metadata": {},
     "output_type": "execute_result"
    }
   ],
   "source": [
    "su_final.head()"
   ]
  },
  {
   "cell_type": "code",
   "execution_count": 102,
   "metadata": {
    "collapsed": false
   },
   "outputs": [
    {
     "data": {
      "text/html": [
       "<div style=\"max-height:1000px;max-width:1500px;overflow:auto;\">\n",
       "<table border=\"1\" class=\"dataframe\">\n",
       "  <thead>\n",
       "    <tr style=\"text-align: right;\">\n",
       "      <th></th>\n",
       "      <th>SR</th>\n",
       "      <th>BA</th>\n",
       "      <th>EA</th>\n",
       "      <th>bs</th>\n",
       "      <th>es</th>\n",
       "      <th>UID</th>\n",
       "    </tr>\n",
       "  </thead>\n",
       "  <tbody>\n",
       "    <tr>\n",
       "      <th>0</th>\n",
       "      <td>2</td>\n",
       "      <td>0.00</td>\n",
       "      <td>0.13</td>\n",
       "      <td>0</td>\n",
       "      <td>1</td>\n",
       "      <td>1</td>\n",
       "    </tr>\n",
       "    <tr>\n",
       "      <th>19</th>\n",
       "      <td>2</td>\n",
       "      <td>1.49</td>\n",
       "      <td>1.55</td>\n",
       "      <td>14</td>\n",
       "      <td>15</td>\n",
       "      <td>15</td>\n",
       "    </tr>\n",
       "    <tr>\n",
       "      <th>25</th>\n",
       "      <td>2</td>\n",
       "      <td>2.64</td>\n",
       "      <td>2.75</td>\n",
       "      <td>26</td>\n",
       "      <td>27</td>\n",
       "      <td>27</td>\n",
       "    </tr>\n",
       "    <tr>\n",
       "      <th>34</th>\n",
       "      <td>2</td>\n",
       "      <td>3.64</td>\n",
       "      <td>3.75</td>\n",
       "      <td>36</td>\n",
       "      <td>37</td>\n",
       "      <td>37</td>\n",
       "    </tr>\n",
       "    <tr>\n",
       "      <th>40</th>\n",
       "      <td>2</td>\n",
       "      <td>6.50</td>\n",
       "      <td>6.66</td>\n",
       "      <td>65</td>\n",
       "      <td>66</td>\n",
       "      <td>66</td>\n",
       "    </tr>\n",
       "  </tbody>\n",
       "</table>\n",
       "</div>"
      ],
      "text/plain": [
       "    SR    BA    EA  bs  es  UID\n",
       "0    2  0.00  0.13   0   1    1\n",
       "19   2  1.49  1.55  14  15   15\n",
       "25   2  2.64  2.75  26  27   27\n",
       "34   2  3.64  3.75  36  37   37\n",
       "40   2  6.50  6.66  65  66   66"
      ]
     },
     "execution_count": 102,
     "metadata": {},
     "output_type": "execute_result"
    }
   ],
   "source": [
    "cds_all.head()"
   ]
  },
  {
   "cell_type": "code",
   "execution_count": 103,
   "metadata": {
    "collapsed": false
   },
   "outputs": [
    {
     "data": {
      "text/html": [
       "<div style=\"max-height:1000px;max-width:1500px;overflow:auto;\">\n",
       "<table border=\"1\" class=\"dataframe\">\n",
       "  <thead>\n",
       "    <tr style=\"text-align: right;\">\n",
       "      <th></th>\n",
       "      <th>SR</th>\n",
       "      <th>BA</th>\n",
       "      <th>EA</th>\n",
       "      <th>bs</th>\n",
       "      <th>es</th>\n",
       "      <th>UID</th>\n",
       "    </tr>\n",
       "  </thead>\n",
       "  <tbody>\n",
       "    <tr>\n",
       "      <th>4</th>\n",
       "      <td>2</td>\n",
       "      <td>6.50</td>\n",
       "      <td>6.66</td>\n",
       "      <td>65</td>\n",
       "      <td>66</td>\n",
       "      <td>66</td>\n",
       "    </tr>\n",
       "    <tr>\n",
       "      <th>12</th>\n",
       "      <td>2</td>\n",
       "      <td>11.32</td>\n",
       "      <td>11.49</td>\n",
       "      <td>113</td>\n",
       "      <td>114</td>\n",
       "      <td>114</td>\n",
       "    </tr>\n",
       "    <tr>\n",
       "      <th>13</th>\n",
       "      <td>2</td>\n",
       "      <td>11.49</td>\n",
       "      <td>11.51</td>\n",
       "      <td>114</td>\n",
       "      <td>115</td>\n",
       "      <td>115</td>\n",
       "    </tr>\n",
       "    <tr>\n",
       "      <th>20</th>\n",
       "      <td>2</td>\n",
       "      <td>13.69</td>\n",
       "      <td>13.72</td>\n",
       "      <td>136</td>\n",
       "      <td>137</td>\n",
       "      <td>137</td>\n",
       "    </tr>\n",
       "    <tr>\n",
       "      <th>22</th>\n",
       "      <td>2</td>\n",
       "      <td>13.77</td>\n",
       "      <td>13.85</td>\n",
       "      <td>137</td>\n",
       "      <td>138</td>\n",
       "      <td>138</td>\n",
       "    </tr>\n",
       "  </tbody>\n",
       "</table>\n",
       "</div>"
      ],
      "text/plain": [
       "    SR     BA     EA   bs   es  UID\n",
       "4    2   6.50   6.66   65   66   66\n",
       "12   2  11.32  11.49  113  114  114\n",
       "13   2  11.49  11.51  114  115  115\n",
       "20   2  13.69  13.72  136  137  137\n",
       "22   2  13.77  13.85  137  138  138"
      ]
     },
     "execution_count": 103,
     "metadata": {},
     "output_type": "execute_result"
    }
   ],
   "source": [
    "ch_all.head()"
   ]
  },
  {
   "cell_type": "code",
   "execution_count": 104,
   "metadata": {
    "collapsed": true
   },
   "outputs": [],
   "source": [
    "scc = pd.merge(su_final, cds_all, how = 'left', left_on = ['UID'], right_on = ['UID'])"
   ]
  },
  {
   "cell_type": "code",
   "execution_count": 106,
   "metadata": {
    "collapsed": false
   },
   "outputs": [
    {
     "name": "stdout",
     "output_type": "stream",
     "text": [
      "86850 31374\n"
     ]
    }
   ],
   "source": [
    "scc2 = scc.dropna(subset = ['SR_y'])\n",
    "print len(scc), len(scc2)"
   ]
  },
  {
   "cell_type": "code",
   "execution_count": 107,
   "metadata": {
    "collapsed": false
   },
   "outputs": [
    {
     "data": {
      "text/html": [
       "<div style=\"max-height:1000px;max-width:1500px;overflow:auto;\">\n",
       "<table border=\"1\" class=\"dataframe\">\n",
       "  <thead>\n",
       "    <tr style=\"text-align: right;\">\n",
       "      <th></th>\n",
       "      <th>SR_x</th>\n",
       "      <th>BA_x</th>\n",
       "      <th>EA_x</th>\n",
       "      <th>bs_x</th>\n",
       "      <th>es_x</th>\n",
       "      <th>UID</th>\n",
       "      <th>SR_y</th>\n",
       "      <th>BA_y</th>\n",
       "      <th>EA_y</th>\n",
       "      <th>bs_y</th>\n",
       "      <th>es_y</th>\n",
       "      <th>SR</th>\n",
       "      <th>BA</th>\n",
       "      <th>EA</th>\n",
       "      <th>bs</th>\n",
       "      <th>es</th>\n",
       "    </tr>\n",
       "  </thead>\n",
       "  <tbody>\n",
       "    <tr>\n",
       "      <th>0</th>\n",
       "      <td>2</td>\n",
       "      <td>22.12</td>\n",
       "      <td>22.23</td>\n",
       "      <td>221</td>\n",
       "      <td>222</td>\n",
       "      <td>222</td>\n",
       "      <td>2</td>\n",
       "      <td>22.12</td>\n",
       "      <td>22.23</td>\n",
       "      <td>221</td>\n",
       "      <td>222</td>\n",
       "      <td>2</td>\n",
       "      <td>22.12</td>\n",
       "      <td>22.23</td>\n",
       "      <td>221</td>\n",
       "      <td>222</td>\n",
       "    </tr>\n",
       "    <tr>\n",
       "      <th>1</th>\n",
       "      <td>2</td>\n",
       "      <td>53.95</td>\n",
       "      <td>54.05</td>\n",
       "      <td>539</td>\n",
       "      <td>540</td>\n",
       "      <td>540</td>\n",
       "      <td>2</td>\n",
       "      <td>53.75</td>\n",
       "      <td>54.08</td>\n",
       "      <td>537</td>\n",
       "      <td>540</td>\n",
       "      <td>2</td>\n",
       "      <td>53.75</td>\n",
       "      <td>54.08</td>\n",
       "      <td>537</td>\n",
       "      <td>540</td>\n",
       "    </tr>\n",
       "    <tr>\n",
       "      <th>2</th>\n",
       "      <td>2</td>\n",
       "      <td>140.18</td>\n",
       "      <td>140.28</td>\n",
       "      <td>1401</td>\n",
       "      <td>1402</td>\n",
       "      <td>1402</td>\n",
       "      <td>2</td>\n",
       "      <td>206.99</td>\n",
       "      <td>213.54</td>\n",
       "      <td>2069</td>\n",
       "      <td>2135</td>\n",
       "      <td>NaN</td>\n",
       "      <td>NaN</td>\n",
       "      <td>NaN</td>\n",
       "      <td>NaN</td>\n",
       "      <td>NaN</td>\n",
       "    </tr>\n",
       "    <tr>\n",
       "      <th>3</th>\n",
       "      <td>2</td>\n",
       "      <td>15.48</td>\n",
       "      <td>15.58</td>\n",
       "      <td>154</td>\n",
       "      <td>155</td>\n",
       "      <td>155</td>\n",
       "      <td>2</td>\n",
       "      <td>15.45</td>\n",
       "      <td>15.48</td>\n",
       "      <td>154</td>\n",
       "      <td>154</td>\n",
       "      <td>2</td>\n",
       "      <td>15.45</td>\n",
       "      <td>15.48</td>\n",
       "      <td>154</td>\n",
       "      <td>154</td>\n",
       "    </tr>\n",
       "    <tr>\n",
       "      <th>4</th>\n",
       "      <td>2</td>\n",
       "      <td>113.21</td>\n",
       "      <td>113.31</td>\n",
       "      <td>1132</td>\n",
       "      <td>1133</td>\n",
       "      <td>1133</td>\n",
       "      <td>2</td>\n",
       "      <td>112.08</td>\n",
       "      <td>114.47</td>\n",
       "      <td>1120</td>\n",
       "      <td>1144</td>\n",
       "      <td>NaN</td>\n",
       "      <td>NaN</td>\n",
       "      <td>NaN</td>\n",
       "      <td>NaN</td>\n",
       "      <td>NaN</td>\n",
       "    </tr>\n",
       "  </tbody>\n",
       "</table>\n",
       "</div>"
      ],
      "text/plain": [
       "   SR_x    BA_x    EA_x  bs_x  es_x   UID  SR_y    BA_y    EA_y  bs_y  es_y  \\\n",
       "0     2   22.12   22.23   221   222   222     2   22.12   22.23   221   222   \n",
       "1     2   53.95   54.05   539   540   540     2   53.75   54.08   537   540   \n",
       "2     2  140.18  140.28  1401  1402  1402     2  206.99  213.54  2069  2135   \n",
       "3     2   15.48   15.58   154   155   155     2   15.45   15.48   154   154   \n",
       "4     2  113.21  113.31  1132  1133  1133     2  112.08  114.47  1120  1144   \n",
       "\n",
       "   SR     BA     EA   bs   es  \n",
       "0   2  22.12  22.23  221  222  \n",
       "1   2  53.75  54.08  537  540  \n",
       "2 NaN    NaN    NaN  NaN  NaN  \n",
       "3   2  15.45  15.48  154  154  \n",
       "4 NaN    NaN    NaN  NaN  NaN  "
      ]
     },
     "execution_count": 107,
     "metadata": {},
     "output_type": "execute_result"
    }
   ],
   "source": [
    "scc3 = pd.merge(scc2, ch_all, how = 'left', left_on = ['UID'], right_on = ['UID'])\n",
    "scc3.head()"
   ]
  },
  {
   "cell_type": "code",
   "execution_count": 108,
   "metadata": {
    "collapsed": false
   },
   "outputs": [
    {
     "name": "stdout",
     "output_type": "stream",
     "text": [
      "19200 31374 31374\n"
     ]
    }
   ],
   "source": [
    "sccT = scc3.dropna(subset = ['SR'])\n",
    "print len(sccT), len(scc3), len(scc2)"
   ]
  }
 ],
 "metadata": {
  "kernelspec": {
   "display_name": "Python 2",
   "language": "python",
   "name": "python2"
  },
  "language_info": {
   "codemirror_mode": {
    "name": "ipython",
    "version": 2
   },
   "file_extension": ".py",
   "mimetype": "text/x-python",
   "name": "python",
   "nbconvert_exporter": "python",
   "pygments_lexer": "ipython2",
   "version": "2.7.9"
  }
 },
 "nbformat": 4,
 "nbformat_minor": 0
}
