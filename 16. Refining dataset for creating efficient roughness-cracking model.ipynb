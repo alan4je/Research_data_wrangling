{
 "cells": [
  {
   "cell_type": "code",
   "execution_count": 1,
   "metadata": {
    "collapsed": true
   },
   "outputs": [],
   "source": [
    "import pandas as pd, numpy as np"
   ]
  },
  {
   "cell_type": "code",
   "execution_count": 2,
   "metadata": {
    "collapsed": true
   },
   "outputs": [],
   "source": [
    "d1 = pd.read_csv('../modelDatasets/roughnessModelDataset.csv')"
   ]
  },
  {
   "cell_type": "code",
   "execution_count": 3,
   "metadata": {
    "collapsed": true
   },
   "outputs": [],
   "source": [
    "d2 = pd.read_csv('../modelDatasets/fullDataset.csv')"
   ]
  },
  {
   "cell_type": "code",
   "execution_count": 4,
   "metadata": {
    "collapsed": false
   },
   "outputs": [
    {
     "name": "stdout",
     "output_type": "stream",
     "text": [
      "373539\n"
     ]
    },
    {
     "data": {
      "text/html": [
       "<div>\n",
       "<table border=\"1\" class=\"dataframe\">\n",
       "  <thead>\n",
       "    <tr style=\"text-align: right;\">\n",
       "      <th></th>\n",
       "      <th>Unnamed: 0</th>\n",
       "      <th>sYear</th>\n",
       "      <th>IntID</th>\n",
       "      <th>Rutting</th>\n",
       "      <th>IRI</th>\n",
       "      <th>PSC</th>\n",
       "      <th>PPC</th>\n",
       "      <th>PRC</th>\n",
       "      <th>Alli</th>\n",
       "      <th>Long</th>\n",
       "      <th>...</th>\n",
       "      <th>Prior Major Rehab Type</th>\n",
       "      <th>sfThick</th>\n",
       "      <th>Tthick</th>\n",
       "      <th>TSfThick</th>\n",
       "      <th>STcode</th>\n",
       "      <th>cumPPT</th>\n",
       "      <th>meanMinTemp</th>\n",
       "      <th>meanMaxTemp</th>\n",
       "      <th>cumESALs</th>\n",
       "      <th>cumFTC</th>\n",
       "    </tr>\n",
       "  </thead>\n",
       "  <tbody>\n",
       "    <tr>\n",
       "      <th>0</th>\n",
       "      <td>0</td>\n",
       "      <td>1981</td>\n",
       "      <td>4</td>\n",
       "      <td>0.236</td>\n",
       "      <td>190.039</td>\n",
       "      <td>92</td>\n",
       "      <td>58</td>\n",
       "      <td>79</td>\n",
       "      <td>NaN</td>\n",
       "      <td>46.0</td>\n",
       "      <td>...</td>\n",
       "      <td>ACP</td>\n",
       "      <td>0.00</td>\n",
       "      <td>0.15</td>\n",
       "      <td>0.15</td>\n",
       "      <td>PA</td>\n",
       "      <td>1690.469971</td>\n",
       "      <td>1.31</td>\n",
       "      <td>26.85</td>\n",
       "      <td>57829.947364</td>\n",
       "      <td>0</td>\n",
       "    </tr>\n",
       "    <tr>\n",
       "      <th>1</th>\n",
       "      <td>1</td>\n",
       "      <td>1981</td>\n",
       "      <td>4</td>\n",
       "      <td>0.236</td>\n",
       "      <td>190.039</td>\n",
       "      <td>92</td>\n",
       "      <td>58</td>\n",
       "      <td>79</td>\n",
       "      <td>NaN</td>\n",
       "      <td>46.0</td>\n",
       "      <td>...</td>\n",
       "      <td>ACP</td>\n",
       "      <td>0.00</td>\n",
       "      <td>0.15</td>\n",
       "      <td>0.15</td>\n",
       "      <td>PA</td>\n",
       "      <td>1690.469971</td>\n",
       "      <td>1.31</td>\n",
       "      <td>26.85</td>\n",
       "      <td>57829.947364</td>\n",
       "      <td>0</td>\n",
       "    </tr>\n",
       "    <tr>\n",
       "      <th>2</th>\n",
       "      <td>2</td>\n",
       "      <td>1981</td>\n",
       "      <td>4</td>\n",
       "      <td>0.236</td>\n",
       "      <td>190.039</td>\n",
       "      <td>92</td>\n",
       "      <td>58</td>\n",
       "      <td>79</td>\n",
       "      <td>NaN</td>\n",
       "      <td>46.0</td>\n",
       "      <td>...</td>\n",
       "      <td>ACP</td>\n",
       "      <td>0.00</td>\n",
       "      <td>0.15</td>\n",
       "      <td>0.15</td>\n",
       "      <td>PA</td>\n",
       "      <td>1690.469971</td>\n",
       "      <td>1.31</td>\n",
       "      <td>26.85</td>\n",
       "      <td>57829.947364</td>\n",
       "      <td>0</td>\n",
       "    </tr>\n",
       "    <tr>\n",
       "      <th>3</th>\n",
       "      <td>3</td>\n",
       "      <td>1981</td>\n",
       "      <td>12</td>\n",
       "      <td>0.236</td>\n",
       "      <td>226.083</td>\n",
       "      <td>83</td>\n",
       "      <td>48</td>\n",
       "      <td>79</td>\n",
       "      <td>NaN</td>\n",
       "      <td>NaN</td>\n",
       "      <td>...</td>\n",
       "      <td>ACP</td>\n",
       "      <td>0.15</td>\n",
       "      <td>1.65</td>\n",
       "      <td>0.90</td>\n",
       "      <td>Other</td>\n",
       "      <td>2157.649902</td>\n",
       "      <td>-2.84</td>\n",
       "      <td>25.23</td>\n",
       "      <td>35421.157984</td>\n",
       "      <td>208</td>\n",
       "    </tr>\n",
       "    <tr>\n",
       "      <th>4</th>\n",
       "      <td>4</td>\n",
       "      <td>1981</td>\n",
       "      <td>24</td>\n",
       "      <td>0.512</td>\n",
       "      <td>245.150</td>\n",
       "      <td>37</td>\n",
       "      <td>43</td>\n",
       "      <td>49</td>\n",
       "      <td>81.9</td>\n",
       "      <td>426.6</td>\n",
       "      <td>...</td>\n",
       "      <td>ACP</td>\n",
       "      <td>0.15</td>\n",
       "      <td>1.56</td>\n",
       "      <td>0.98</td>\n",
       "      <td>BA</td>\n",
       "      <td>337.529999</td>\n",
       "      <td>-5.94</td>\n",
       "      <td>31.23</td>\n",
       "      <td>58882.558639</td>\n",
       "      <td>83</td>\n",
       "    </tr>\n",
       "  </tbody>\n",
       "</table>\n",
       "<p>5 rows × 53 columns</p>\n",
       "</div>"
      ],
      "text/plain": [
       "   Unnamed: 0  sYear  IntID  Rutting      IRI  PSC  PPC  PRC  Alli   Long  \\\n",
       "0           0   1981      4    0.236  190.039   92   58   79   NaN   46.0   \n",
       "1           1   1981      4    0.236  190.039   92   58   79   NaN   46.0   \n",
       "2           2   1981      4    0.236  190.039   92   58   79   NaN   46.0   \n",
       "3           3   1981     12    0.236  226.083   83   48   79   NaN    NaN   \n",
       "4           4   1981     24    0.512  245.150   37   43   49  81.9  426.6   \n",
       "\n",
       "   ...    Prior Major Rehab Type  sfThick  Tthick  TSfThick  STcode  \\\n",
       "0  ...                       ACP     0.00    0.15      0.15      PA   \n",
       "1  ...                       ACP     0.00    0.15      0.15      PA   \n",
       "2  ...                       ACP     0.00    0.15      0.15      PA   \n",
       "3  ...                       ACP     0.15    1.65      0.90   Other   \n",
       "4  ...                       ACP     0.15    1.56      0.98      BA   \n",
       "\n",
       "        cumPPT  meanMinTemp meanMaxTemp      cumESALs cumFTC  \n",
       "0  1690.469971         1.31       26.85  57829.947364      0  \n",
       "1  1690.469971         1.31       26.85  57829.947364      0  \n",
       "2  1690.469971         1.31       26.85  57829.947364      0  \n",
       "3  2157.649902        -2.84       25.23  35421.157984    208  \n",
       "4   337.529999        -5.94       31.23  58882.558639     83  \n",
       "\n",
       "[5 rows x 53 columns]"
      ]
     },
     "execution_count": 4,
     "metadata": {},
     "output_type": "execute_result"
    }
   ],
   "source": [
    "print len(d2)\n",
    "d2.head()"
   ]
  },
  {
   "cell_type": "code",
   "execution_count": 5,
   "metadata": {
    "collapsed": false
   },
   "outputs": [
    {
     "data": {
      "text/html": [
       "<div>\n",
       "<table border=\"1\" class=\"dataframe\">\n",
       "  <thead>\n",
       "    <tr style=\"text-align: right;\">\n",
       "      <th></th>\n",
       "      <th>Unnamed: 0</th>\n",
       "      <th>SR</th>\n",
       "      <th>EA</th>\n",
       "      <th>BA</th>\n",
       "      <th>Direction To Inventory</th>\n",
       "      <th>Traffic Year</th>\n",
       "      <th>AADT</th>\n",
       "      <th>Single Trucks</th>\n",
       "      <th>Double Trucks</th>\n",
       "      <th>Train Trucks</th>\n",
       "      <th>Peak Hour Percentage</th>\n",
       "      <th>Peak Hour Directional Split</th>\n",
       "      <th>Traffic Year ESALs _One Direction_</th>\n",
       "      <th>Percent Trucks</th>\n",
       "      <th>UID</th>\n",
       "    </tr>\n",
       "  </thead>\n",
       "  <tbody>\n",
       "    <tr>\n",
       "      <th>0</th>\n",
       "      <td>0</td>\n",
       "      <td>2</td>\n",
       "      <td>0.13</td>\n",
       "      <td>0.00</td>\n",
       "      <td>D</td>\n",
       "      <td>2004</td>\n",
       "      <td>8313</td>\n",
       "      <td>198</td>\n",
       "      <td>40</td>\n",
       "      <td>0</td>\n",
       "      <td>0.1502</td>\n",
       "      <td>1.0000</td>\n",
       "      <td>43508</td>\n",
       "      <td>2.86</td>\n",
       "      <td>1</td>\n",
       "    </tr>\n",
       "    <tr>\n",
       "      <th>1</th>\n",
       "      <td>1</td>\n",
       "      <td>2</td>\n",
       "      <td>0.19</td>\n",
       "      <td>0.13</td>\n",
       "      <td>B</td>\n",
       "      <td>2004</td>\n",
       "      <td>8313</td>\n",
       "      <td>198</td>\n",
       "      <td>40</td>\n",
       "      <td>0</td>\n",
       "      <td>0.1502</td>\n",
       "      <td>1.0000</td>\n",
       "      <td>21754</td>\n",
       "      <td>2.86</td>\n",
       "      <td>NaN</td>\n",
       "    </tr>\n",
       "    <tr>\n",
       "      <th>2</th>\n",
       "      <td>2</td>\n",
       "      <td>2</td>\n",
       "      <td>0.35</td>\n",
       "      <td>0.19</td>\n",
       "      <td>B</td>\n",
       "      <td>2004</td>\n",
       "      <td>20814</td>\n",
       "      <td>495</td>\n",
       "      <td>100</td>\n",
       "      <td>0</td>\n",
       "      <td>0.1502</td>\n",
       "      <td>1.0000</td>\n",
       "      <td>54458</td>\n",
       "      <td>2.86</td>\n",
       "      <td>NaN</td>\n",
       "    </tr>\n",
       "    <tr>\n",
       "      <th>3</th>\n",
       "      <td>3</td>\n",
       "      <td>2</td>\n",
       "      <td>2.16</td>\n",
       "      <td>0.35</td>\n",
       "      <td>B</td>\n",
       "      <td>2004</td>\n",
       "      <td>69473</td>\n",
       "      <td>4794</td>\n",
       "      <td>799</td>\n",
       "      <td>264</td>\n",
       "      <td>0.0956</td>\n",
       "      <td>0.5269</td>\n",
       "      <td>579912</td>\n",
       "      <td>8.43</td>\n",
       "      <td>NaN</td>\n",
       "    </tr>\n",
       "    <tr>\n",
       "      <th>4</th>\n",
       "      <td>4</td>\n",
       "      <td>2</td>\n",
       "      <td>2.34</td>\n",
       "      <td>2.16</td>\n",
       "      <td>B</td>\n",
       "      <td>2004</td>\n",
       "      <td>67921</td>\n",
       "      <td>4687</td>\n",
       "      <td>781</td>\n",
       "      <td>258</td>\n",
       "      <td>0.0956</td>\n",
       "      <td>0.5269</td>\n",
       "      <td>567192</td>\n",
       "      <td>8.43</td>\n",
       "      <td>NaN</td>\n",
       "    </tr>\n",
       "  </tbody>\n",
       "</table>\n",
       "</div>"
      ],
      "text/plain": [
       "   Unnamed: 0  SR    EA    BA Direction To Inventory  Traffic Year   AADT  \\\n",
       "0           0   2  0.13  0.00                      D          2004   8313   \n",
       "1           1   2  0.19  0.13                      B          2004   8313   \n",
       "2           2   2  0.35  0.19                      B          2004  20814   \n",
       "3           3   2  2.16  0.35                      B          2004  69473   \n",
       "4           4   2  2.34  2.16                      B          2004  67921   \n",
       "\n",
       "   Single Trucks  Double Trucks  Train Trucks  Peak Hour Percentage  \\\n",
       "0            198             40             0                0.1502   \n",
       "1            198             40             0                0.1502   \n",
       "2            495            100             0                0.1502   \n",
       "3           4794            799           264                0.0956   \n",
       "4           4687            781           258                0.0956   \n",
       "\n",
       "   Peak Hour Directional Split  Traffic Year ESALs _One Direction_  \\\n",
       "0                       1.0000                               43508   \n",
       "1                       1.0000                               21754   \n",
       "2                       1.0000                               54458   \n",
       "3                       0.5269                              579912   \n",
       "4                       0.5269                              567192   \n",
       "\n",
       "   Percent Trucks  UID  \n",
       "0            2.86    1  \n",
       "1            2.86  NaN  \n",
       "2            2.86  NaN  \n",
       "3            8.43  NaN  \n",
       "4            8.43  NaN  "
      ]
     },
     "execution_count": 5,
     "metadata": {},
     "output_type": "execute_result"
    }
   ],
   "source": [
    "d1.head()"
   ]
  },
  {
   "cell_type": "code",
   "execution_count": 6,
   "metadata": {
    "collapsed": false
   },
   "outputs": [
    {
     "data": {
      "text/plain": [
       "Index([u'Unnamed: 0', u'SR', u'EA', u'BA', u'Direction To Inventory',\n",
       "       u'Traffic Year', u'AADT', u'Single Trucks', u'Double Trucks',\n",
       "       u'Train Trucks', u'Peak Hour Percentage',\n",
       "       u'Peak Hour Directional Split', u'Traffic Year ESALs _One Direction_',\n",
       "       u'Percent Trucks', u'UID'],\n",
       "      dtype='object')"
      ]
     },
     "execution_count": 6,
     "metadata": {},
     "output_type": "execute_result"
    }
   ],
   "source": [
    "d1.columns"
   ]
  },
  {
   "cell_type": "code",
   "execution_count": 28,
   "metadata": {
    "collapsed": false
   },
   "outputs": [],
   "source": [
    "d1s = d1[['UID', 'Traffic Year', 'AADT', 'Traffic Year ESALs _One Direction_', 'Percent Trucks', \n",
    "          u'Single Trucks', u'Double Trucks', u'Train Trucks']]"
   ]
  },
  {
   "cell_type": "code",
   "execution_count": 29,
   "metadata": {
    "collapsed": true
   },
   "outputs": [],
   "source": [
    "d1s.columns = ['UID', 'tYear', 'AADT', 'ESAL', 'pTrucks', u'SingleTrucks', u'DoubleTrucks', u'TrainTrucks']"
   ]
  },
  {
   "cell_type": "code",
   "execution_count": 30,
   "metadata": {
    "collapsed": true
   },
   "outputs": [],
   "source": [
    "ds = pd.merge(d1s, d2, how = 'left', left_on = ['UID', 'tYear'], right_on = ['UID', 'sYear'])"
   ]
  },
  {
   "cell_type": "code",
   "execution_count": 31,
   "metadata": {
    "collapsed": false
   },
   "outputs": [
    {
     "name": "stdout",
     "output_type": "stream",
     "text": [
      "56645 52428 373539\n"
     ]
    }
   ],
   "source": [
    "print len(ds), len(d1s), len(d2)"
   ]
  },
  {
   "cell_type": "code",
   "execution_count": 32,
   "metadata": {
    "collapsed": true
   },
   "outputs": [],
   "source": [
    "df = ds.dropna(subset = ['ESAL', 'UID'])\n",
    "df = df.drop_duplicates(subset = ['UID', 'tYear'])"
   ]
  },
  {
   "cell_type": "code",
   "execution_count": 34,
   "metadata": {
    "collapsed": true
   },
   "outputs": [],
   "source": [
    "df.to_csv('cp255_A8.csv')"
   ]
  },
  {
   "cell_type": "code",
   "execution_count": 33,
   "metadata": {
    "collapsed": false
   },
   "outputs": [
    {
     "name": "stdout",
     "output_type": "stream",
     "text": [
      "7647 56645\n"
     ]
    }
   ],
   "source": [
    "print len(df), len(ds)"
   ]
  },
  {
   "cell_type": "code",
   "execution_count": 13,
   "metadata": {
    "collapsed": false
   },
   "outputs": [
    {
     "data": {
      "text/html": [
       "<div>\n",
       "<table border=\"1\" class=\"dataframe\">\n",
       "  <thead>\n",
       "    <tr style=\"text-align: right;\">\n",
       "      <th></th>\n",
       "      <th>UID</th>\n",
       "      <th>tYear</th>\n",
       "      <th>AADT</th>\n",
       "      <th>ESAL</th>\n",
       "      <th>pTrucks</th>\n",
       "      <th>SingleTrucks</th>\n",
       "      <th>DoubleTrucks</th>\n",
       "      <th>TrainTrucks</th>\n",
       "      <th>Unnamed: 0</th>\n",
       "      <th>sYear</th>\n",
       "      <th>...</th>\n",
       "      <th>Prior Major Rehab Type</th>\n",
       "      <th>sfThick</th>\n",
       "      <th>Tthick</th>\n",
       "      <th>TSfThick</th>\n",
       "      <th>STcode</th>\n",
       "      <th>cumPPT</th>\n",
       "      <th>meanMinTemp</th>\n",
       "      <th>meanMaxTemp</th>\n",
       "      <th>cumESALs</th>\n",
       "      <th>cumFTC</th>\n",
       "    </tr>\n",
       "  </thead>\n",
       "  <tbody>\n",
       "    <tr>\n",
       "      <th>0</th>\n",
       "      <td>1</td>\n",
       "      <td>2004</td>\n",
       "      <td>8313</td>\n",
       "      <td>43508</td>\n",
       "      <td>2.86</td>\n",
       "      <td>198</td>\n",
       "      <td>40</td>\n",
       "      <td>0</td>\n",
       "      <td>264764</td>\n",
       "      <td>2004</td>\n",
       "      <td>...</td>\n",
       "      <td>NaN</td>\n",
       "      <td>0.25</td>\n",
       "      <td>1.00</td>\n",
       "      <td>0.25</td>\n",
       "      <td>BA</td>\n",
       "      <td>10640.559936</td>\n",
       "      <td>1.078182</td>\n",
       "      <td>24.900000</td>\n",
       "      <td>274171.756138</td>\n",
       "      <td>125</td>\n",
       "    </tr>\n",
       "    <tr>\n",
       "      <th>6</th>\n",
       "      <td>NaN</td>\n",
       "      <td>2004</td>\n",
       "      <td>8313</td>\n",
       "      <td>21754</td>\n",
       "      <td>2.86</td>\n",
       "      <td>198</td>\n",
       "      <td>40</td>\n",
       "      <td>0</td>\n",
       "      <td>NaN</td>\n",
       "      <td>NaN</td>\n",
       "      <td>...</td>\n",
       "      <td>NaN</td>\n",
       "      <td>NaN</td>\n",
       "      <td>NaN</td>\n",
       "      <td>NaN</td>\n",
       "      <td>NaN</td>\n",
       "      <td>NaN</td>\n",
       "      <td>NaN</td>\n",
       "      <td>NaN</td>\n",
       "      <td>NaN</td>\n",
       "      <td>NaN</td>\n",
       "    </tr>\n",
       "    <tr>\n",
       "      <th>25</th>\n",
       "      <td>153</td>\n",
       "      <td>2004</td>\n",
       "      <td>21022</td>\n",
       "      <td>275739</td>\n",
       "      <td>12.61</td>\n",
       "      <td>1987</td>\n",
       "      <td>595</td>\n",
       "      <td>69</td>\n",
       "      <td>263826</td>\n",
       "      <td>2004</td>\n",
       "      <td>...</td>\n",
       "      <td>ACP</td>\n",
       "      <td>0.15</td>\n",
       "      <td>2.29</td>\n",
       "      <td>0.75</td>\n",
       "      <td>BA</td>\n",
       "      <td>8751.709961</td>\n",
       "      <td>1.047143</td>\n",
       "      <td>24.995715</td>\n",
       "      <td>650949.401572</td>\n",
       "      <td>81</td>\n",
       "    </tr>\n",
       "    <tr>\n",
       "      <th>39</th>\n",
       "      <td>262</td>\n",
       "      <td>2004</td>\n",
       "      <td>13536</td>\n",
       "      <td>171057</td>\n",
       "      <td>11.03</td>\n",
       "      <td>1052</td>\n",
       "      <td>338</td>\n",
       "      <td>103</td>\n",
       "      <td>NaN</td>\n",
       "      <td>NaN</td>\n",
       "      <td>...</td>\n",
       "      <td>NaN</td>\n",
       "      <td>NaN</td>\n",
       "      <td>NaN</td>\n",
       "      <td>NaN</td>\n",
       "      <td>NaN</td>\n",
       "      <td>NaN</td>\n",
       "      <td>NaN</td>\n",
       "      <td>NaN</td>\n",
       "      <td>NaN</td>\n",
       "      <td>NaN</td>\n",
       "    </tr>\n",
       "    <tr>\n",
       "      <th>81</th>\n",
       "      <td>1003</td>\n",
       "      <td>2004</td>\n",
       "      <td>12215</td>\n",
       "      <td>82362</td>\n",
       "      <td>5.88</td>\n",
       "      <td>471</td>\n",
       "      <td>225</td>\n",
       "      <td>22</td>\n",
       "      <td>NaN</td>\n",
       "      <td>NaN</td>\n",
       "      <td>...</td>\n",
       "      <td>NaN</td>\n",
       "      <td>NaN</td>\n",
       "      <td>NaN</td>\n",
       "      <td>NaN</td>\n",
       "      <td>NaN</td>\n",
       "      <td>NaN</td>\n",
       "      <td>NaN</td>\n",
       "      <td>NaN</td>\n",
       "      <td>NaN</td>\n",
       "      <td>NaN</td>\n",
       "    </tr>\n",
       "  </tbody>\n",
       "</table>\n",
       "<p>5 rows × 60 columns</p>\n",
       "</div>"
      ],
      "text/plain": [
       "     UID  tYear   AADT    ESAL  pTrucks  SingleTrucks  DoubleTrucks  \\\n",
       "0      1   2004   8313   43508     2.86           198            40   \n",
       "6    NaN   2004   8313   21754     2.86           198            40   \n",
       "25   153   2004  21022  275739    12.61          1987           595   \n",
       "39   262   2004  13536  171057    11.03          1052           338   \n",
       "81  1003   2004  12215   82362     5.88           471           225   \n",
       "\n",
       "    TrainTrucks  Unnamed: 0  sYear   ...    Prior Major Rehab Type  sfThick  \\\n",
       "0             0      264764   2004   ...                       NaN     0.25   \n",
       "6             0         NaN    NaN   ...                       NaN      NaN   \n",
       "25           69      263826   2004   ...                       ACP     0.15   \n",
       "39          103         NaN    NaN   ...                       NaN      NaN   \n",
       "81           22         NaN    NaN   ...                       NaN      NaN   \n",
       "\n",
       "    Tthick  TSfThick  STcode        cumPPT  meanMinTemp  meanMaxTemp  \\\n",
       "0     1.00      0.25      BA  10640.559936     1.078182    24.900000   \n",
       "6      NaN       NaN     NaN           NaN          NaN          NaN   \n",
       "25    2.29      0.75      BA   8751.709961     1.047143    24.995715   \n",
       "39     NaN       NaN     NaN           NaN          NaN          NaN   \n",
       "81     NaN       NaN     NaN           NaN          NaN          NaN   \n",
       "\n",
       "         cumESALs  cumFTC  \n",
       "0   274171.756138     125  \n",
       "6             NaN     NaN  \n",
       "25  650949.401572      81  \n",
       "39            NaN     NaN  \n",
       "81            NaN     NaN  \n",
       "\n",
       "[5 rows x 60 columns]"
      ]
     },
     "execution_count": 13,
     "metadata": {},
     "output_type": "execute_result"
    }
   ],
   "source": [
    "df.head()"
   ]
  },
  {
   "cell_type": "code",
   "execution_count": 14,
   "metadata": {
    "collapsed": false
   },
   "outputs": [],
   "source": [
    "data = df.dropna(subset = ['UID'])"
   ]
  },
  {
   "cell_type": "code",
   "execution_count": 15,
   "metadata": {
    "collapsed": false
   },
   "outputs": [
    {
     "name": "stdout",
     "output_type": "stream",
     "text": [
      "1090\n"
     ]
    }
   ],
   "source": [
    "print len(data.UID.unique())"
   ]
  },
  {
   "cell_type": "code",
   "execution_count": 16,
   "metadata": {
    "collapsed": true
   },
   "outputs": [],
   "source": [
    "ds = data.sort(columns = ['UID', 'tYear'])"
   ]
  },
  {
   "cell_type": "code",
   "execution_count": 17,
   "metadata": {
    "collapsed": false
   },
   "outputs": [
    {
     "data": {
      "text/html": [
       "<div>\n",
       "<table border=\"1\" class=\"dataframe\">\n",
       "  <thead>\n",
       "    <tr style=\"text-align: right;\">\n",
       "      <th></th>\n",
       "      <th>UID</th>\n",
       "      <th>tYear</th>\n",
       "      <th>AADT</th>\n",
       "      <th>ESAL</th>\n",
       "      <th>pTrucks</th>\n",
       "      <th>SingleTrucks</th>\n",
       "      <th>DoubleTrucks</th>\n",
       "      <th>TrainTrucks</th>\n",
       "      <th>Unnamed: 0</th>\n",
       "      <th>sYear</th>\n",
       "      <th>...</th>\n",
       "      <th>Prior Major Rehab Type</th>\n",
       "      <th>sfThick</th>\n",
       "      <th>Tthick</th>\n",
       "      <th>TSfThick</th>\n",
       "      <th>STcode</th>\n",
       "      <th>cumPPT</th>\n",
       "      <th>meanMinTemp</th>\n",
       "      <th>meanMaxTemp</th>\n",
       "      <th>cumESALs</th>\n",
       "      <th>cumFTC</th>\n",
       "    </tr>\n",
       "  </thead>\n",
       "  <tbody>\n",
       "    <tr>\n",
       "      <th>0</th>\n",
       "      <td>1</td>\n",
       "      <td>2004</td>\n",
       "      <td>8313</td>\n",
       "      <td>43508</td>\n",
       "      <td>2.86</td>\n",
       "      <td>198</td>\n",
       "      <td>40</td>\n",
       "      <td>0</td>\n",
       "      <td>264764</td>\n",
       "      <td>2004</td>\n",
       "      <td>...</td>\n",
       "      <td>NaN</td>\n",
       "      <td>0.25</td>\n",
       "      <td>1</td>\n",
       "      <td>0.25</td>\n",
       "      <td>BA</td>\n",
       "      <td>10640.559936</td>\n",
       "      <td>1.078182</td>\n",
       "      <td>24.900000</td>\n",
       "      <td>274171.756138</td>\n",
       "      <td>125</td>\n",
       "    </tr>\n",
       "    <tr>\n",
       "      <th>116</th>\n",
       "      <td>1</td>\n",
       "      <td>2005</td>\n",
       "      <td>8337</td>\n",
       "      <td>43508</td>\n",
       "      <td>2.86</td>\n",
       "      <td>198</td>\n",
       "      <td>40</td>\n",
       "      <td>0</td>\n",
       "      <td>280428</td>\n",
       "      <td>2005</td>\n",
       "      <td>...</td>\n",
       "      <td>NaN</td>\n",
       "      <td>0.25</td>\n",
       "      <td>1</td>\n",
       "      <td>0.25</td>\n",
       "      <td>BA</td>\n",
       "      <td>11562.159912</td>\n",
       "      <td>0.994167</td>\n",
       "      <td>24.890000</td>\n",
       "      <td>302899.119509</td>\n",
       "      <td>137</td>\n",
       "    </tr>\n",
       "    <tr>\n",
       "      <th>228</th>\n",
       "      <td>1</td>\n",
       "      <td>2006</td>\n",
       "      <td>8411</td>\n",
       "      <td>43800</td>\n",
       "      <td>2.86</td>\n",
       "      <td>200</td>\n",
       "      <td>40</td>\n",
       "      <td>0</td>\n",
       "      <td>295168</td>\n",
       "      <td>2006</td>\n",
       "      <td>...</td>\n",
       "      <td>NaN</td>\n",
       "      <td>0.25</td>\n",
       "      <td>1</td>\n",
       "      <td>0.25</td>\n",
       "      <td>BA</td>\n",
       "      <td>12686.089966</td>\n",
       "      <td>0.938462</td>\n",
       "      <td>24.864615</td>\n",
       "      <td>331670.268359</td>\n",
       "      <td>146</td>\n",
       "    </tr>\n",
       "    <tr>\n",
       "      <th>342</th>\n",
       "      <td>1</td>\n",
       "      <td>2007</td>\n",
       "      <td>9522</td>\n",
       "      <td>77052</td>\n",
       "      <td>4.28</td>\n",
       "      <td>329</td>\n",
       "      <td>76</td>\n",
       "      <td>2</td>\n",
       "      <td>310553</td>\n",
       "      <td>2007</td>\n",
       "      <td>...</td>\n",
       "      <td>NaN</td>\n",
       "      <td>0.25</td>\n",
       "      <td>1</td>\n",
       "      <td>0.25</td>\n",
       "      <td>BA</td>\n",
       "      <td>13672.529968</td>\n",
       "      <td>0.856429</td>\n",
       "      <td>24.824286</td>\n",
       "      <td>360496.722274</td>\n",
       "      <td>167</td>\n",
       "    </tr>\n",
       "    <tr>\n",
       "      <th>462</th>\n",
       "      <td>1</td>\n",
       "      <td>2008</td>\n",
       "      <td>9361</td>\n",
       "      <td>75956</td>\n",
       "      <td>4.28</td>\n",
       "      <td>324</td>\n",
       "      <td>75</td>\n",
       "      <td>2</td>\n",
       "      <td>327063</td>\n",
       "      <td>2008</td>\n",
       "      <td>...</td>\n",
       "      <td>NaN</td>\n",
       "      <td>0.25</td>\n",
       "      <td>1</td>\n",
       "      <td>0.25</td>\n",
       "      <td>BA</td>\n",
       "      <td>14580.199951</td>\n",
       "      <td>0.768000</td>\n",
       "      <td>24.756667</td>\n",
       "      <td>388402.195608</td>\n",
       "      <td>192</td>\n",
       "    </tr>\n",
       "  </tbody>\n",
       "</table>\n",
       "<p>5 rows × 60 columns</p>\n",
       "</div>"
      ],
      "text/plain": [
       "     UID  tYear  AADT   ESAL  pTrucks  SingleTrucks  DoubleTrucks  \\\n",
       "0      1   2004  8313  43508     2.86           198            40   \n",
       "116    1   2005  8337  43508     2.86           198            40   \n",
       "228    1   2006  8411  43800     2.86           200            40   \n",
       "342    1   2007  9522  77052     4.28           329            76   \n",
       "462    1   2008  9361  75956     4.28           324            75   \n",
       "\n",
       "     TrainTrucks  Unnamed: 0  sYear   ...    Prior Major Rehab Type  sfThick  \\\n",
       "0              0      264764   2004   ...                       NaN     0.25   \n",
       "116            0      280428   2005   ...                       NaN     0.25   \n",
       "228            0      295168   2006   ...                       NaN     0.25   \n",
       "342            2      310553   2007   ...                       NaN     0.25   \n",
       "462            2      327063   2008   ...                       NaN     0.25   \n",
       "\n",
       "     Tthick  TSfThick  STcode        cumPPT  meanMinTemp  meanMaxTemp  \\\n",
       "0         1      0.25      BA  10640.559936     1.078182    24.900000   \n",
       "116       1      0.25      BA  11562.159912     0.994167    24.890000   \n",
       "228       1      0.25      BA  12686.089966     0.938462    24.864615   \n",
       "342       1      0.25      BA  13672.529968     0.856429    24.824286   \n",
       "462       1      0.25      BA  14580.199951     0.768000    24.756667   \n",
       "\n",
       "          cumESALs  cumFTC  \n",
       "0    274171.756138     125  \n",
       "116  302899.119509     137  \n",
       "228  331670.268359     146  \n",
       "342  360496.722274     167  \n",
       "462  388402.195608     192  \n",
       "\n",
       "[5 rows x 60 columns]"
      ]
     },
     "execution_count": 17,
     "metadata": {},
     "output_type": "execute_result"
    }
   ],
   "source": [
    "ds.head()"
   ]
  },
  {
   "cell_type": "code",
   "execution_count": 18,
   "metadata": {
    "collapsed": false
   },
   "outputs": [],
   "source": [
    "# for year in ds.tYear.unique():\n",
    "#     print '%d: %d unique segments' %(year, len(ds[ds.tYear == year]))\n",
    "# ds[ds.UID ==1].tYear\n",
    "# n = 0\n",
    "# for x in ds.UID.unique():\n",
    "#     temp = ds[ds.UID == x]\n",
    "#     if len(temp) == 10:\n",
    "#         n+=1\n",
    "# print n"
   ]
  },
  {
   "cell_type": "markdown",
   "metadata": {},
   "source": [
    "# Next step is to identify the rows that will be useful for perfoming the 1st Difference Regression \n",
    "After this stage, I will be able to model roughness with cracking and other covariates and possibly get more efficient parameter estimates. The work is to be continued shortly"
   ]
  },
  {
   "cell_type": "code",
   "execution_count": 19,
   "metadata": {
    "collapsed": false
   },
   "outputs": [],
   "source": [
    "# test = ds[(ds.UID == 146) & (ds.tYear == 2010) & (ds.tYear == 2009) ]\n",
    "# print len(test)"
   ]
  },
  {
   "cell_type": "code",
   "execution_count": 20,
   "metadata": {
    "collapsed": false
   },
   "outputs": [],
   "source": [
    "#Thought I was gonna do diff in diffs but it didnt work as planned\n",
    "# year_list = []\n",
    "# for x in ds.UID.unique():\n",
    "#     temp = ds[(ds.UID == x)]\n",
    "#     years = list(np.array(temp.tYear))\n",
    "#     toAppend = years[1:] + [0]\n",
    "#     year_list += toAppend\n",
    "# ds.loc[:, 'dYear'] = year_list\n",
    "# ds.loc[:, 'year_diff'] = ds.apply(lambda x: x['dYear'] - x['tYear'], axis = 1)"
   ]
  },
  {
   "cell_type": "markdown",
   "metadata": {},
   "source": [
    "# Now using whole dataset"
   ]
  },
  {
   "cell_type": "code",
   "execution_count": 22,
   "metadata": {
    "collapsed": true
   },
   "outputs": [],
   "source": [
    "# ds = d1.copy()"
   ]
  },
  {
   "cell_type": "code",
   "execution_count": 27,
   "metadata": {
    "collapsed": false
   },
   "outputs": [
    {
     "name": "stdout",
     "output_type": "stream",
     "text": [
      "54368\n",
      "2810\n",
      "267\n",
      "2010\n",
      "56645\n",
      "50372\n"
     ]
    }
   ],
   "source": [
    "print len(ds[ds.Alli.isnull()==True])\n",
    "print len(ds[(ds.Long.isnull()==0) & (ds.Alli.isnull()==1)])\n",
    "print len(ds[(ds.Long.isnull()==1) & (ds.Alli.isnull()==0)])\n",
    "print len(ds[(ds.Long.isnull()==0) & (ds.Alli.isnull()==0)])\n",
    "print len(ds)\n",
    "print len(ds[ds.PSC.isnull() ==1])"
   ]
  },
  {
   "cell_type": "code",
   "execution_count": 81,
   "metadata": {
    "collapsed": false
   },
   "outputs": [
    {
     "name": "stdout",
     "output_type": "stream",
     "text": [
      "1607\n"
     ]
    }
   ],
   "source": [
    "subdf = ds[((ds.Long.isnull()==0) | (ds.Alli.isnull()==0)) & (ds.PSC.isnull() ==0)]\n",
    "print len(subdf)"
   ]
  },
  {
   "cell_type": "code",
   "execution_count": 83,
   "metadata": {
    "collapsed": false
   },
   "outputs": [],
   "source": [
    "# For model PSC = c + a * Alli + b * Long\n",
    "c = 79.283\n",
    "a = -0.121\n",
    "b = -0.038\n",
    "woAlli = subdf[subdf.Alli.isnull() == 1]\n",
    "woLong = subdf[subdf.Long.isnull() == 1]"
   ]
  },
  {
   "cell_type": "code",
   "execution_count": 84,
   "metadata": {
    "collapsed": false
   },
   "outputs": [
    {
     "name": "stderr",
     "output_type": "stream",
     "text": [
      "/Users/Alan/Library/Enthought/Canopy_64bit/User/lib/python2.7/site-packages/pandas/core/generic.py:2177: SettingWithCopyWarning: \n",
      "A value is trying to be set on a copy of a slice from a DataFrame.\n",
      "Try using .loc[row_indexer,col_indexer] = value instead\n",
      "\n",
      "See the the caveats in the documentation: http://pandas.pydata.org/pandas-docs/stable/indexing.html#indexing-view-versus-copy\n",
      "  self[name] = value\n"
     ]
    }
   ],
   "source": [
    "woAlli.Alli = woAlli.PSC.sub(woAlli.Long.mul(b)).sub(c).mul(1/a)\n",
    "woLong.Long = woLong.PSC.sub(woLong.Alli.mul(a)).sub(c).mul(1/b)"
   ]
  },
  {
   "cell_type": "code",
   "execution_count": 86,
   "metadata": {
    "collapsed": false
   },
   "outputs": [],
   "source": [
    "woAlli.Alli = woAlli.apply(lambda x: 0 if x['Alli'] < 0 else x['Alli'], axis = 1)\n",
    "woLong.Long = woLong.apply(lambda x: 0 if x['Long'] < 0 else x['Long'], axis = 1)"
   ]
  },
  {
   "cell_type": "code",
   "execution_count": 88,
   "metadata": {
    "collapsed": false
   },
   "outputs": [
    {
     "name": "stdout",
     "output_type": "stream",
     "text": [
      "598\n"
     ]
    }
   ],
   "source": [
    "woNulls = subdf[(subdf.Alli.isnull() == 0) & (subdf.Long.isnull() == 0)]\n",
    "print len(woNulls)"
   ]
  },
  {
   "cell_type": "code",
   "execution_count": 92,
   "metadata": {
    "collapsed": false
   },
   "outputs": [
    {
     "name": "stdout",
     "output_type": "stream",
     "text": [
      "True\n"
     ]
    }
   ],
   "source": [
    "model_ds = pd.concat([woNulls, woAlli, woLong])\n",
    "print len(model_ds) == len(subdf)"
   ]
  },
  {
   "cell_type": "code",
   "execution_count": 93,
   "metadata": {
    "collapsed": true
   },
   "outputs": [],
   "source": [
    "#Changing IRI units from inches/mile to meters/Km\n",
    "model_ds.loc[:, 'IRIsi'] = model_ds.IRI * 0.08333333 * 0.189394\n",
    "\n",
    "#Changing feet to miles for the respective segments\n",
    "model_ds.loc[:, 'Alli'] = 0.000189394 * model_ds.Alli\n",
    "model_ds.loc[:, 'Long'] = 0.000189394 * model_ds.Long\n",
    "\n",
    "# Determining percent cracking as the total length of cracks divided by survey section\n",
    "model_ds.loc[:, 'pAlli'] = model_ds.Alli.div(model_ds.loc[:, 'Lane Miles']).mul(100)\n",
    "model_ds.loc[:, 'pLong'] = model_ds.Long.div(model_ds.loc[:, 'Lane Miles']).mul(100)"
   ]
  },
  {
   "cell_type": "code",
   "execution_count": 96,
   "metadata": {
    "collapsed": false
   },
   "outputs": [
    {
     "name": "stdout",
     "output_type": "stream",
     "text": [
      "99.1910392035\n"
     ]
    }
   ],
   "source": [
    "nds = model_ds[(model_ds.IRIsi < 8) & (model_ds.pAlli < 80) & (model_ds.pLong < 200)]\n",
    "print len(nds)*100.0/len(model_ds)"
   ]
  },
  {
   "cell_type": "code",
   "execution_count": 106,
   "metadata": {
    "collapsed": false
   },
   "outputs": [
    {
     "data": {
      "text/plain": [
       "493     1.900727\n",
       "262     1.779483\n",
       "1361    0.884170\n",
       "1599    1.388179\n",
       "1721    1.422270\n",
       "Name: IRIsi, dtype: float64"
      ]
     },
     "execution_count": 106,
     "metadata": {},
     "output_type": "execute_result"
    }
   ],
   "source": [
    "nds['IRIsi'].head()"
   ]
  },
  {
   "cell_type": "code",
   "execution_count": 103,
   "metadata": {
    "collapsed": false
   },
   "outputs": [],
   "source": [
    "def getDiff(db, variable, newName):\n",
    "    val_list = []\n",
    "    for x in db.UID.unique():\n",
    "        temp = db[(db.UID == x)]\n",
    "        values = list(np.array(temp[variable]))\n",
    "        toAppend = values[1:] + [0]\n",
    "        val_list += toAppend\n",
    "    db.loc[:, newName] = val_list"
   ]
  },
  {
   "cell_type": "code",
   "execution_count": 110,
   "metadata": {
    "collapsed": true
   },
   "outputs": [],
   "source": [
    "ndf = nds.sort(columns = ['UID', 'tYear'])"
   ]
  },
  {
   "cell_type": "code",
   "execution_count": 111,
   "metadata": {
    "collapsed": false
   },
   "outputs": [],
   "source": [
    "for item in ['Rutting', 'IRIsi', 'pAlli', 'pLong', 'cumPPT']:\n",
    "    newName = 'd'+item\n",
    "    getDiff(ndf, item, newName)"
   ]
  },
  {
   "cell_type": "code",
   "execution_count": 112,
   "metadata": {
    "collapsed": false
   },
   "outputs": [
    {
     "data": {
      "text/html": [
       "<div>\n",
       "<table border=\"1\" class=\"dataframe\">\n",
       "  <thead>\n",
       "    <tr style=\"text-align: right;\">\n",
       "      <th></th>\n",
       "      <th>UID</th>\n",
       "      <th>tYear</th>\n",
       "      <th>AADT</th>\n",
       "      <th>CUM_ESALs</th>\n",
       "      <th>pTrucks</th>\n",
       "      <th>SingleTrucks</th>\n",
       "      <th>DoubleTrucks</th>\n",
       "      <th>TrainTrucks</th>\n",
       "      <th>Unnamed: 0</th>\n",
       "      <th>sYear</th>\n",
       "      <th>...</th>\n",
       "      <th>dYear</th>\n",
       "      <th>year_diff</th>\n",
       "      <th>IRIsi</th>\n",
       "      <th>pAlli</th>\n",
       "      <th>pLong</th>\n",
       "      <th>dRutting</th>\n",
       "      <th>dIRIsi</th>\n",
       "      <th>dpAlli</th>\n",
       "      <th>dpLong</th>\n",
       "      <th>dcumPPT</th>\n",
       "    </tr>\n",
       "  </thead>\n",
       "  <tbody>\n",
       "    <tr>\n",
       "      <th>228</th>\n",
       "      <td>1</td>\n",
       "      <td>2006</td>\n",
       "      <td>8411</td>\n",
       "      <td>43800</td>\n",
       "      <td>2.86</td>\n",
       "      <td>200</td>\n",
       "      <td>40</td>\n",
       "      <td>0</td>\n",
       "      <td>295168</td>\n",
       "      <td>2006</td>\n",
       "      <td>...</td>\n",
       "      <td>2007</td>\n",
       "      <td>1</td>\n",
       "      <td>2.054625</td>\n",
       "      <td>0</td>\n",
       "      <td>0.946970</td>\n",
       "      <td>0.184</td>\n",
       "      <td>2.714647</td>\n",
       "      <td>0.000000</td>\n",
       "      <td>0.828599</td>\n",
       "      <td>16548.319946</td>\n",
       "    </tr>\n",
       "    <tr>\n",
       "      <th>696</th>\n",
       "      <td>1</td>\n",
       "      <td>2010</td>\n",
       "      <td>6482</td>\n",
       "      <td>36847</td>\n",
       "      <td>3.34</td>\n",
       "      <td>193</td>\n",
       "      <td>22</td>\n",
       "      <td>1</td>\n",
       "      <td>362951</td>\n",
       "      <td>2010</td>\n",
       "      <td>...</td>\n",
       "      <td>2011</td>\n",
       "      <td>1</td>\n",
       "      <td>2.714647</td>\n",
       "      <td>0</td>\n",
       "      <td>0.828599</td>\n",
       "      <td>0.360</td>\n",
       "      <td>3.705020</td>\n",
       "      <td>0.000000</td>\n",
       "      <td>4.340279</td>\n",
       "      <td>17611.539917</td>\n",
       "    </tr>\n",
       "    <tr>\n",
       "      <th>811</th>\n",
       "      <td>1</td>\n",
       "      <td>2011</td>\n",
       "      <td>6447</td>\n",
       "      <td>36701</td>\n",
       "      <td>3.34</td>\n",
       "      <td>192</td>\n",
       "      <td>22</td>\n",
       "      <td>1</td>\n",
       "      <td>381625</td>\n",
       "      <td>2011</td>\n",
       "      <td>...</td>\n",
       "      <td>2012</td>\n",
       "      <td>1</td>\n",
       "      <td>3.705020</td>\n",
       "      <td>0</td>\n",
       "      <td>4.340279</td>\n",
       "      <td>0.274</td>\n",
       "      <td>3.203915</td>\n",
       "      <td>0.000000</td>\n",
       "      <td>5.172824</td>\n",
       "      <td>18980.039917</td>\n",
       "    </tr>\n",
       "    <tr>\n",
       "      <th>913</th>\n",
       "      <td>1</td>\n",
       "      <td>2012</td>\n",
       "      <td>6593</td>\n",
       "      <td>37285</td>\n",
       "      <td>3.34</td>\n",
       "      <td>196</td>\n",
       "      <td>22</td>\n",
       "      <td>1</td>\n",
       "      <td>394281</td>\n",
       "      <td>2012</td>\n",
       "      <td>...</td>\n",
       "      <td>2013</td>\n",
       "      <td>1</td>\n",
       "      <td>3.203915</td>\n",
       "      <td>0</td>\n",
       "      <td>5.172824</td>\n",
       "      <td>0.000</td>\n",
       "      <td>0.000000</td>\n",
       "      <td>0.000000</td>\n",
       "      <td>0.000000</td>\n",
       "      <td>0.000000</td>\n",
       "    </tr>\n",
       "    <tr>\n",
       "      <th>25</th>\n",
       "      <td>153</td>\n",
       "      <td>2004</td>\n",
       "      <td>21022</td>\n",
       "      <td>275739</td>\n",
       "      <td>12.61</td>\n",
       "      <td>1987</td>\n",
       "      <td>595</td>\n",
       "      <td>69</td>\n",
       "      <td>263826</td>\n",
       "      <td>2004</td>\n",
       "      <td>...</td>\n",
       "      <td>2005</td>\n",
       "      <td>1</td>\n",
       "      <td>1.784565</td>\n",
       "      <td>0</td>\n",
       "      <td>1.231061</td>\n",
       "      <td>0.202</td>\n",
       "      <td>1.900727</td>\n",
       "      <td>0.094697</td>\n",
       "      <td>0.568182</td>\n",
       "      <td>4241.309937</td>\n",
       "    </tr>\n",
       "  </tbody>\n",
       "</table>\n",
       "<p>5 rows × 70 columns</p>\n",
       "</div>"
      ],
      "text/plain": [
       "     UID  tYear   AADT  CUM_ESALs  pTrucks  SingleTrucks  DoubleTrucks  \\\n",
       "228    1   2006   8411      43800     2.86           200            40   \n",
       "696    1   2010   6482      36847     3.34           193            22   \n",
       "811    1   2011   6447      36701     3.34           192            22   \n",
       "913    1   2012   6593      37285     3.34           196            22   \n",
       "25   153   2004  21022     275739    12.61          1987           595   \n",
       "\n",
       "     TrainTrucks  Unnamed: 0  sYear      ...       dYear  year_diff     IRIsi  \\\n",
       "228            0      295168   2006      ...        2007          1  2.054625   \n",
       "696            1      362951   2010      ...        2011          1  2.714647   \n",
       "811            1      381625   2011      ...        2012          1  3.705020   \n",
       "913            1      394281   2012      ...        2013          1  3.203915   \n",
       "25            69      263826   2004      ...        2005          1  1.784565   \n",
       "\n",
       "     pAlli     pLong  dRutting    dIRIsi    dpAlli    dpLong       dcumPPT  \n",
       "228      0  0.946970     0.184  2.714647  0.000000  0.828599  16548.319946  \n",
       "696      0  0.828599     0.360  3.705020  0.000000  4.340279  17611.539917  \n",
       "811      0  4.340279     0.274  3.203915  0.000000  5.172824  18980.039917  \n",
       "913      0  5.172824     0.000  0.000000  0.000000  0.000000      0.000000  \n",
       "25       0  1.231061     0.202  1.900727  0.094697  0.568182   4241.309937  \n",
       "\n",
       "[5 rows x 70 columns]"
      ]
     },
     "execution_count": 112,
     "metadata": {},
     "output_type": "execute_result"
    }
   ],
   "source": [
    "ndf.head()"
   ]
  },
  {
   "cell_type": "code",
   "execution_count": null,
   "metadata": {
    "collapsed": true
   },
   "outputs": [],
   "source": []
  }
 ],
 "metadata": {
  "kernelspec": {
   "display_name": "Python 2",
   "language": "python",
   "name": "python2"
  },
  "language_info": {
   "codemirror_mode": {
    "name": "ipython",
    "version": 2
   },
   "file_extension": ".py",
   "mimetype": "text/x-python",
   "name": "python",
   "nbconvert_exporter": "python",
   "pygments_lexer": "ipython2",
   "version": "2.7.9"
  }
 },
 "nbformat": 4,
 "nbformat_minor": 0
}
