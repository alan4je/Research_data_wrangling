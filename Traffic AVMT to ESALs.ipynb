{
 "cells": [
  {
   "cell_type": "code",
   "execution_count": 2,
   "metadata": {
    "collapsed": true
   },
   "outputs": [],
   "source": [
    "import numpy as np\n",
    "import pandas as pd\n",
    "import xlsxwriter"
   ]
  },
  {
   "cell_type": "code",
   "execution_count": 4,
   "metadata": {
    "collapsed": false
   },
   "outputs": [],
   "source": [
    "# All Trucks\n",
    "AllT = pd.read_excel(\"../DataFiles/StateHighwayVMT.xlsx\", sheetname = 'AVMT-All Vehicles', header = 6) \n",
    "# Single Unit Trucks and Buses (class 4-7)\n",
    "SUTB = pd.read_excel(\"../DataFiles/StateHighwayVMT.xlsx\", sheetname = 'AVMT-Single Unit Trucks & Buses', header = 12) \n",
    "# Double Unit Trucks (Class 8-10)\n",
    "DUT  = pd.read_excel(\"../DataFiles/StateHighwayVMT.xlsx\", sheetname = 'AVMT-Double Unit Trucks', header = 8)\n",
    "# Triple Unit Trucks (Class 11-13)\n",
    "TUT  = pd.read_excel(\"../DataFiles/StateHighwayVMT.xlsx\", sheetname = 'AVMT-Triple Unit Trucks', header = 8)\n",
    "# Total Trucks (Class 4-13)\n",
    "TTT  = pd.read_excel(\"../DataFiles/StateHighwayVMT.xlsx\", sheetname = 'AVMT-Total Trucks', header = 9)\n",
    "#Annual Vehicle Miles Summary\n",
    "AVMT = pd.read_excel(\"../DataFiles/StateHighwayVMT.xlsx\", sheetname = 'AVMT Summary', header = 7)"
   ]
  },
  {
   "cell_type": "markdown",
   "metadata": {},
   "source": [
    "Factors for converting annual truck miles travelled to ESALs. The factors were obtained from www.pavementinteractive.org/article/trucks-and-buses/"
   ]
  },
  {
   "cell_type": "code",
   "execution_count": 5,
   "metadata": {
    "collapsed": true
   },
   "outputs": [],
   "source": [
    "#Factor for Single Unit Trucks and Buses is calculates as:\n",
    "fA = (.57 + .26 + .42 + .42)/4\n",
    "\n",
    "#Factor for Double Unit Trucks:\n",
    "fB = (.30 + 1.20 + .93)/3\n",
    "\n",
    "#Factor for Triple Unit Trucks:\n",
    "fC = (.82 + 1.06 + 1.39)/3"
   ]
  },
  {
   "cell_type": "code",
   "execution_count": 6,
   "metadata": {
    "collapsed": false,
    "scrolled": true
   },
   "outputs": [
    {
     "data": {
      "text/html": [
       "<div>\n",
       "<table border=\"1\" class=\"dataframe\">\n",
       "  <thead>\n",
       "    <tr style=\"text-align: right;\">\n",
       "      <th></th>\n",
       "      <th></th>\n",
       "      <th>Rural</th>\n",
       "      <th>Urban</th>\n",
       "      <th>Rural.1</th>\n",
       "      <th>Urban.1</th>\n",
       "      <th>Rural.2</th>\n",
       "      <th>Urban.2</th>\n",
       "      <th>Rural.3</th>\n",
       "      <th>Urban.3</th>\n",
       "      <th>Unnamed: 8</th>\n",
       "    </tr>\n",
       "  </thead>\n",
       "  <tbody>\n",
       "    <tr>\n",
       "      <th rowspan=\"10\" valign=\"top\">2014</th>\n",
       "      <th>Adams</th>\n",
       "      <td>1735693</td>\n",
       "      <td>26330</td>\n",
       "      <td>8342085</td>\n",
       "      <td>NaN</td>\n",
       "      <td>NaN</td>\n",
       "      <td>81523</td>\n",
       "      <td>8497339</td>\n",
       "      <td>273997</td>\n",
       "      <td>18956967</td>\n",
       "    </tr>\n",
       "    <tr>\n",
       "      <th>Asotin</th>\n",
       "      <td>NaN</td>\n",
       "      <td>NaN</td>\n",
       "      <td>NaN</td>\n",
       "      <td>NaN</td>\n",
       "      <td>650049</td>\n",
       "      <td>558116</td>\n",
       "      <td>373933</td>\n",
       "      <td>324491</td>\n",
       "      <td>1906589</td>\n",
       "    </tr>\n",
       "    <tr>\n",
       "      <th>Benton</th>\n",
       "      <td>1464605</td>\n",
       "      <td>1276797</td>\n",
       "      <td>7800914</td>\n",
       "      <td>6182058</td>\n",
       "      <td>4326140</td>\n",
       "      <td>1729926</td>\n",
       "      <td>NaN</td>\n",
       "      <td>7328770</td>\n",
       "      <td>30109209</td>\n",
       "    </tr>\n",
       "    <tr>\n",
       "      <th>Chelan</th>\n",
       "      <td>332528</td>\n",
       "      <td>918044</td>\n",
       "      <td>NaN</td>\n",
       "      <td>NaN</td>\n",
       "      <td>3460370</td>\n",
       "      <td>892301</td>\n",
       "      <td>9504893</td>\n",
       "      <td>3465940</td>\n",
       "      <td>18574078</td>\n",
       "    </tr>\n",
       "    <tr>\n",
       "      <th>Clallam</th>\n",
       "      <td>5914780</td>\n",
       "      <td>NaN</td>\n",
       "      <td>NaN</td>\n",
       "      <td>NaN</td>\n",
       "      <td>NaN</td>\n",
       "      <td>317074</td>\n",
       "      <td>9041589</td>\n",
       "      <td>4670052</td>\n",
       "      <td>19943495</td>\n",
       "    </tr>\n",
       "    <tr>\n",
       "      <th>Clark</th>\n",
       "      <td>970593</td>\n",
       "      <td>182366</td>\n",
       "      <td>8030819</td>\n",
       "      <td>17572791</td>\n",
       "      <td>2042930</td>\n",
       "      <td>1345096</td>\n",
       "      <td>623538</td>\n",
       "      <td>17480949</td>\n",
       "      <td>48249081</td>\n",
       "    </tr>\n",
       "    <tr>\n",
       "      <th>Columbia</th>\n",
       "      <td>293397</td>\n",
       "      <td>NaN</td>\n",
       "      <td>NaN</td>\n",
       "      <td>NaN</td>\n",
       "      <td>NaN</td>\n",
       "      <td>NaN</td>\n",
       "      <td>2864017</td>\n",
       "      <td>NaN</td>\n",
       "      <td>3157414</td>\n",
       "    </tr>\n",
       "    <tr>\n",
       "      <th>Cowlitz</th>\n",
       "      <td>588423</td>\n",
       "      <td>NaN</td>\n",
       "      <td>20921008</td>\n",
       "      <td>8708841</td>\n",
       "      <td>4161134</td>\n",
       "      <td>1572376</td>\n",
       "      <td>1462187</td>\n",
       "      <td>5145831</td>\n",
       "      <td>42559799</td>\n",
       "    </tr>\n",
       "    <tr>\n",
       "      <th>Douglas</th>\n",
       "      <td>994788</td>\n",
       "      <td>NaN</td>\n",
       "      <td>NaN</td>\n",
       "      <td>NaN</td>\n",
       "      <td>1511909</td>\n",
       "      <td>NaN</td>\n",
       "      <td>9194279</td>\n",
       "      <td>5782554</td>\n",
       "      <td>17483529</td>\n",
       "    </tr>\n",
       "    <tr>\n",
       "      <th>Ferry</th>\n",
       "      <td>3101994</td>\n",
       "      <td>NaN</td>\n",
       "      <td>NaN</td>\n",
       "      <td>NaN</td>\n",
       "      <td>1559569</td>\n",
       "      <td>NaN</td>\n",
       "      <td>905180</td>\n",
       "      <td>NaN</td>\n",
       "      <td>5566743</td>\n",
       "    </tr>\n",
       "  </tbody>\n",
       "</table>\n",
       "</div>"
      ],
      "text/plain": [
       "                 Rural    Urban   Rural.1   Urban.1  Rural.2  Urban.2  \\\n",
       "2014 Adams     1735693    26330   8342085       NaN      NaN    81523   \n",
       "     Asotin        NaN      NaN       NaN       NaN   650049   558116   \n",
       "     Benton    1464605  1276797   7800914   6182058  4326140  1729926   \n",
       "     Chelan     332528   918044       NaN       NaN  3460370   892301   \n",
       "     Clallam   5914780      NaN       NaN       NaN      NaN   317074   \n",
       "     Clark      970593   182366   8030819  17572791  2042930  1345096   \n",
       "     Columbia   293397      NaN       NaN       NaN      NaN      NaN   \n",
       "     Cowlitz    588423      NaN  20921008   8708841  4161134  1572376   \n",
       "     Douglas    994788      NaN       NaN       NaN  1511909      NaN   \n",
       "     Ferry     3101994      NaN       NaN       NaN  1559569      NaN   \n",
       "\n",
       "               Rural.3   Urban.3  Unnamed: 8  \n",
       "2014 Adams     8497339    273997    18956967  \n",
       "     Asotin     373933    324491     1906589  \n",
       "     Benton        NaN   7328770    30109209  \n",
       "     Chelan    9504893   3465940    18574078  \n",
       "     Clallam   9041589   4670052    19943495  \n",
       "     Clark      623538  17480949    48249081  \n",
       "     Columbia  2864017       NaN     3157414  \n",
       "     Cowlitz   1462187   5145831    42559799  \n",
       "     Douglas   9194279   5782554    17483529  \n",
       "     Ferry      905180       NaN     5566743  "
      ]
     },
     "execution_count": 6,
     "metadata": {},
     "output_type": "execute_result"
    }
   ],
   "source": [
    "SUTB.head(10)"
   ]
  },
  {
   "cell_type": "code",
   "execution_count": 7,
   "metadata": {
    "collapsed": false
   },
   "outputs": [],
   "source": [
    "SUTB.columns = [u'Rural Collector',      u'Urban Collector',    u'Rural Interstate',    u'Urban Interstate',\n",
    "          u'Rural Minor Arterial',    u'Urban Minor Arterial',    u'Rural Principle Arterial',    \n",
    "                u'Urban Principle Arterial', u'Total']"
   ]
  },
  {
   "cell_type": "code",
   "execution_count": 8,
   "metadata": {
    "collapsed": false
   },
   "outputs": [],
   "source": [
    "DUT.columns = [u'Rural Collector',      u'Urban Collector',    u'Rural Interstate',    u'Urban Interstate',\n",
    "          u'Rural Minor Arterial',    u'Urban Minor Arterial',    u'Rural Principle Arterial',    \n",
    "                u'Urban Principle Arterial', u'Total']"
   ]
  },
  {
   "cell_type": "code",
   "execution_count": 9,
   "metadata": {
    "collapsed": false
   },
   "outputs": [],
   "source": [
    "TUT.columns = [u'Rural Collector',      u'Urban Collector',    u'Rural Interstate',    u'Urban Interstate',\n",
    "          u'Rural Minor Arterial',    u'Urban Minor Arterial',    u'Rural Principle Arterial',    \n",
    "                u'Urban Principle Arterial', u'Total']"
   ]
  },
  {
   "cell_type": "code",
   "execution_count": 10,
   "metadata": {
    "collapsed": false
   },
   "outputs": [],
   "source": [
    "TTT.columns = [u'Rural Collector',      u'Urban Collector',    u'Rural Interstate',    u'Urban Interstate',\n",
    "          u'Rural Minor Arterial',    u'Urban Minor Arterial',    u'Rural Principle Arterial',    \n",
    "                u'Urban Principle Arterial', u'Total']"
   ]
  },
  {
   "cell_type": "code",
   "execution_count": 11,
   "metadata": {
    "collapsed": false
   },
   "outputs": [],
   "source": [
    "AllT.columns = [u'Rural Collector',      u'Urban Collector',    u'Rural Interstate',    u'Urban Interstate',\n",
    "          u'Rural Minor Arterial',    u'Urban Minor Arterial',    u'Rural Principle Arterial',    \n",
    "                u'Urban Principle Arterial', u'Total']"
   ]
  },
  {
   "cell_type": "code",
   "execution_count": 12,
   "metadata": {
    "collapsed": false
   },
   "outputs": [],
   "source": [
    "AVMT = AVMT[['Year', 'Rural', 'Urban', 'Total']]"
   ]
  },
  {
   "cell_type": "code",
   "execution_count": 13,
   "metadata": {
    "collapsed": false,
    "scrolled": true
   },
   "outputs": [],
   "source": [
    "years = DUT.index.levels[0]\n",
    "counties = DUT.index.levels[1]"
   ]
  },
  {
   "cell_type": "code",
   "execution_count": 14,
   "metadata": {
    "collapsed": false
   },
   "outputs": [],
   "source": [
    "countyNames = list(np.array(counties))"
   ]
  },
  {
   "cell_type": "code",
   "execution_count": 15,
   "metadata": {
    "collapsed": false
   },
   "outputs": [],
   "source": [
    "countyNames.remove('Total')"
   ]
  },
  {
   "cell_type": "code",
   "execution_count": 16,
   "metadata": {
    "collapsed": false
   },
   "outputs": [
    {
     "name": "stdout",
     "output_type": "stream",
     "text": [
      "429\n"
     ]
    }
   ],
   "source": [
    "newIndex = []\n",
    "for year in years[::-1]:\n",
    "    for county in counties:\n",
    "        if county != 'Total':\n",
    "            ind = str(int(year)) + '-' +county\n",
    "            newIndex.append(ind)\n",
    "    lastIndex = str(int(year)) + '-Total'\n",
    "    newIndex.append(lastIndex)\n",
    "print len(newIndex)"
   ]
  },
  {
   "cell_type": "code",
   "execution_count": 17,
   "metadata": {
    "collapsed": false
   },
   "outputs": [],
   "source": [
    "def addCountyNames(df):\n",
    "    i = 0\n",
    "    for year in years:\n",
    "        if i == 0:\n",
    "            df.loc[(i):((1)*39-1), 'County'] = countyNames\n",
    "            df.loc[(i):((1)*39-1), 'Year'] = year\n",
    "        else:\n",
    "            df.loc[(i)*39:((i+1)*39-1), 'County'] = countyNames\n",
    "            df.loc[(i)*39:((i+1)*39-1), 'Year'] = year\n",
    "        i+=1"
   ]
  },
  {
   "cell_type": "code",
   "execution_count": 18,
   "metadata": {
    "collapsed": true
   },
   "outputs": [],
   "source": [
    "def removeEmptyRows(df):\n",
    "    newdf = df.dropna(axis=0, how='all', thresh=None, \n",
    "                      subset=[u'Rural Collector', u'Urban Collector','Rural Interstate', 'Urban Interstate', \n",
    "                              'Rural Minor Arterial','Urban Minor Arterial', 'Rural Principle Arterial'], inplace=False)\n",
    "    newdf.index = newIndex\n",
    "    addCountyNames(newdf)\n",
    "    return newdf"
   ]
  },
  {
   "cell_type": "code",
   "execution_count": 19,
   "metadata": {
    "collapsed": false
   },
   "outputs": [],
   "source": [
    "# countyNames"
   ]
  },
  {
   "cell_type": "code",
   "execution_count": 20,
   "metadata": {
    "collapsed": false
   },
   "outputs": [
    {
     "name": "stderr",
     "output_type": "stream",
     "text": [
      "/home/guerrero/anaconda/lib/python2.7/site-packages/pandas/core/indexing.py:249: SettingWithCopyWarning: \n",
      "A value is trying to be set on a copy of a slice from a DataFrame.\n",
      "Try using .loc[row_indexer,col_indexer] = value instead\n",
      "\n",
      "See the the caveats in the documentation: http://pandas.pydata.org/pandas-docs/stable/indexing.html#indexing-view-versus-copy\n",
      "  self.obj[key] = _infer_fill_value(value)\n",
      "/home/guerrero/anaconda/lib/python2.7/site-packages/pandas/core/indexing.py:415: SettingWithCopyWarning: \n",
      "A value is trying to be set on a copy of a slice from a DataFrame.\n",
      "Try using .loc[row_indexer,col_indexer] = value instead\n",
      "\n",
      "See the the caveats in the documentation: http://pandas.pydata.org/pandas-docs/stable/indexing.html#indexing-view-versus-copy\n",
      "  self.obj[item] = s\n"
     ]
    }
   ],
   "source": [
    "AllT = removeEmptyRows(AllT)\n",
    "SUTB = removeEmptyRows(SUTB)\n",
    "DUT  = removeEmptyRows(DUT)\n",
    "TUT  = removeEmptyRows(TUT)\n",
    "TTT  = removeEmptyRows(TTT)"
   ]
  },
  {
   "cell_type": "code",
   "execution_count": 21,
   "metadata": {
    "collapsed": false
   },
   "outputs": [
    {
     "data": {
      "text/html": [
       "<div>\n",
       "<table border=\"1\" class=\"dataframe\">\n",
       "  <thead>\n",
       "    <tr style=\"text-align: right;\">\n",
       "      <th></th>\n",
       "      <th>Rural Collector</th>\n",
       "      <th>Urban Collector</th>\n",
       "      <th>Rural Interstate</th>\n",
       "      <th>Urban Interstate</th>\n",
       "      <th>Rural Minor Arterial</th>\n",
       "      <th>Urban Minor Arterial</th>\n",
       "      <th>Rural Principle Arterial</th>\n",
       "      <th>Urban Principle Arterial</th>\n",
       "      <th>Total</th>\n",
       "      <th>County</th>\n",
       "      <th>Year</th>\n",
       "    </tr>\n",
       "  </thead>\n",
       "  <tbody>\n",
       "    <tr>\n",
       "      <th>2014-Adams</th>\n",
       "      <td>1735693</td>\n",
       "      <td>26330</td>\n",
       "      <td>8342085</td>\n",
       "      <td>NaN</td>\n",
       "      <td>NaN</td>\n",
       "      <td>81523</td>\n",
       "      <td>8497339</td>\n",
       "      <td>273997</td>\n",
       "      <td>18956967</td>\n",
       "      <td>Adams</td>\n",
       "      <td>2004</td>\n",
       "    </tr>\n",
       "    <tr>\n",
       "      <th>2014-Asotin</th>\n",
       "      <td>NaN</td>\n",
       "      <td>NaN</td>\n",
       "      <td>NaN</td>\n",
       "      <td>NaN</td>\n",
       "      <td>650049</td>\n",
       "      <td>558116</td>\n",
       "      <td>373933</td>\n",
       "      <td>324491</td>\n",
       "      <td>1906589</td>\n",
       "      <td>Asotin</td>\n",
       "      <td>2004</td>\n",
       "    </tr>\n",
       "    <tr>\n",
       "      <th>2014-Benton</th>\n",
       "      <td>1464605</td>\n",
       "      <td>1276797</td>\n",
       "      <td>7800914</td>\n",
       "      <td>6182058</td>\n",
       "      <td>4326140</td>\n",
       "      <td>1729926</td>\n",
       "      <td>NaN</td>\n",
       "      <td>7328770</td>\n",
       "      <td>30109209</td>\n",
       "      <td>Benton</td>\n",
       "      <td>2004</td>\n",
       "    </tr>\n",
       "    <tr>\n",
       "      <th>2014-Chelan</th>\n",
       "      <td>332528</td>\n",
       "      <td>918044</td>\n",
       "      <td>NaN</td>\n",
       "      <td>NaN</td>\n",
       "      <td>3460370</td>\n",
       "      <td>892301</td>\n",
       "      <td>9504893</td>\n",
       "      <td>3465940</td>\n",
       "      <td>18574078</td>\n",
       "      <td>Chelan</td>\n",
       "      <td>2004</td>\n",
       "    </tr>\n",
       "    <tr>\n",
       "      <th>2014-Clallam</th>\n",
       "      <td>5914780</td>\n",
       "      <td>NaN</td>\n",
       "      <td>NaN</td>\n",
       "      <td>NaN</td>\n",
       "      <td>NaN</td>\n",
       "      <td>317074</td>\n",
       "      <td>9041589</td>\n",
       "      <td>4670052</td>\n",
       "      <td>19943495</td>\n",
       "      <td>Clallam</td>\n",
       "      <td>2004</td>\n",
       "    </tr>\n",
       "  </tbody>\n",
       "</table>\n",
       "</div>"
      ],
      "text/plain": [
       "              Rural Collector  Urban Collector  Rural Interstate  \\\n",
       "2014-Adams            1735693            26330           8342085   \n",
       "2014-Asotin               NaN              NaN               NaN   \n",
       "2014-Benton           1464605          1276797           7800914   \n",
       "2014-Chelan            332528           918044               NaN   \n",
       "2014-Clallam          5914780              NaN               NaN   \n",
       "\n",
       "              Urban Interstate  Rural Minor Arterial  Urban Minor Arterial  \\\n",
       "2014-Adams                 NaN                   NaN                 81523   \n",
       "2014-Asotin                NaN                650049                558116   \n",
       "2014-Benton            6182058               4326140               1729926   \n",
       "2014-Chelan                NaN               3460370                892301   \n",
       "2014-Clallam               NaN                   NaN                317074   \n",
       "\n",
       "              Rural Principle Arterial  Urban Principle Arterial     Total  \\\n",
       "2014-Adams                     8497339                    273997  18956967   \n",
       "2014-Asotin                     373933                    324491   1906589   \n",
       "2014-Benton                        NaN                   7328770  30109209   \n",
       "2014-Chelan                    9504893                   3465940  18574078   \n",
       "2014-Clallam                   9041589                   4670052  19943495   \n",
       "\n",
       "               County  Year  \n",
       "2014-Adams      Adams  2004  \n",
       "2014-Asotin    Asotin  2004  \n",
       "2014-Benton    Benton  2004  \n",
       "2014-Chelan    Chelan  2004  \n",
       "2014-Clallam  Clallam  2004  "
      ]
     },
     "execution_count": 21,
     "metadata": {},
     "output_type": "execute_result"
    }
   ],
   "source": [
    "SUTB.head()"
   ]
  },
  {
   "cell_type": "code",
   "execution_count": 22,
   "metadata": {
    "collapsed": false
   },
   "outputs": [],
   "source": [
    "# Replacing all NaNs with zeros in the respective datasets\n",
    "SUTB = SUTB.fillna(0)\n",
    "DUT = DUT.fillna(0)\n",
    "TUT = TUT.fillna(0)\n",
    "TTT = TTT.fillna(0)"
   ]
  },
  {
   "cell_type": "code",
   "execution_count": 23,
   "metadata": {
    "collapsed": true
   },
   "outputs": [],
   "source": [
    "def SUTB2Esals(col):\n",
    "    return col*fA\n",
    "\n",
    "def DUT2Esals(col):\n",
    "    return col*fB\n",
    "\n",
    "def TUT2Esals(col):\n",
    "    return col*fC"
   ]
  },
  {
   "cell_type": "code",
   "execution_count": 24,
   "metadata": {
    "collapsed": true
   },
   "outputs": [],
   "source": [
    "coldic1 = {1: 'RC', 2:'UC', 3:'RI', 4:'UI', 5:'RMA', 6:'UMA', 7:'RPA', 8:'UPA', 9:'TEsals'}\n",
    "coldic2 = {'RC': 'Rural Collector', 'UC': 'Urban Collector', 'RI': 'Rural Interstate', 'UI': 'Rural Interstate',\n",
    "           'RMA': 'Rural Minor Arterial', 'UMA': 'Urban Minor Arterial', 'RPA': 'Rural Principle Arterial', \n",
    "           'UPA': 'Urban Principle Arterial', 'TEsals': 'Total'}"
   ]
  },
  {
   "cell_type": "code",
   "execution_count": 25,
   "metadata": {
    "collapsed": false
   },
   "outputs": [],
   "source": [
    "def calEsals(df, key):\n",
    "    if key == 'su':\n",
    "        fun = SUTB2Esals\n",
    "    elif key == 'du':\n",
    "        fun = DUT2Esals\n",
    "    elif key == 'tu':\n",
    "        fun = TUT2Esals\n",
    "    elif key == 'tt':\n",
    "        fun = TTT2Esals\n",
    "    else:\n",
    "        return 'wrong entry)'\n",
    "    for i in np.arange(9)+1:\n",
    "        df[coldic1[i]] = df[coldic2[coldic1[i]]].apply(fun)"
   ]
  },
  {
   "cell_type": "code",
   "execution_count": 26,
   "metadata": {
    "collapsed": false
   },
   "outputs": [],
   "source": [
    "calEsals(SUTB, 'su')\n",
    "calEsals(DUT, 'du')\n",
    "calEsals(TUT, 'tu')\n",
    "# calEsals(TTT, 'tt')"
   ]
  },
  {
   "cell_type": "code",
   "execution_count": 27,
   "metadata": {
    "collapsed": false
   },
   "outputs": [
    {
     "data": {
      "text/html": [
       "<div>\n",
       "<table border=\"1\" class=\"dataframe\">\n",
       "  <thead>\n",
       "    <tr style=\"text-align: right;\">\n",
       "      <th></th>\n",
       "      <th>Rural Collector</th>\n",
       "      <th>Urban Collector</th>\n",
       "      <th>Rural Interstate</th>\n",
       "      <th>Urban Interstate</th>\n",
       "      <th>Rural Minor Arterial</th>\n",
       "      <th>Urban Minor Arterial</th>\n",
       "      <th>Rural Principle Arterial</th>\n",
       "      <th>Urban Principle Arterial</th>\n",
       "      <th>Total</th>\n",
       "      <th>County</th>\n",
       "      <th>Year</th>\n",
       "      <th>RC</th>\n",
       "      <th>UC</th>\n",
       "      <th>RI</th>\n",
       "      <th>UI</th>\n",
       "      <th>RMA</th>\n",
       "      <th>UMA</th>\n",
       "      <th>RPA</th>\n",
       "      <th>UPA</th>\n",
       "      <th>TEsals</th>\n",
       "    </tr>\n",
       "  </thead>\n",
       "  <tbody>\n",
       "    <tr>\n",
       "      <th>2014-Adams</th>\n",
       "      <td>1735693</td>\n",
       "      <td>26330</td>\n",
       "      <td>8342085</td>\n",
       "      <td>0</td>\n",
       "      <td>0</td>\n",
       "      <td>81523</td>\n",
       "      <td>8497339</td>\n",
       "      <td>273997</td>\n",
       "      <td>18956967</td>\n",
       "      <td>Adams</td>\n",
       "      <td>2004</td>\n",
       "      <td>724651.8275</td>\n",
       "      <td>10992.7750</td>\n",
       "      <td>3482820.4875</td>\n",
       "      <td>3482820.4875</td>\n",
       "      <td>0.0000</td>\n",
       "      <td>34035.8525</td>\n",
       "      <td>3547639.0325</td>\n",
       "      <td>114393.7475</td>\n",
       "      <td>7914533.7225</td>\n",
       "    </tr>\n",
       "    <tr>\n",
       "      <th>2014-Asotin</th>\n",
       "      <td>0</td>\n",
       "      <td>0</td>\n",
       "      <td>0</td>\n",
       "      <td>0</td>\n",
       "      <td>650049</td>\n",
       "      <td>558116</td>\n",
       "      <td>373933</td>\n",
       "      <td>324491</td>\n",
       "      <td>1906589</td>\n",
       "      <td>Asotin</td>\n",
       "      <td>2004</td>\n",
       "      <td>0.0000</td>\n",
       "      <td>0.0000</td>\n",
       "      <td>0.0000</td>\n",
       "      <td>0.0000</td>\n",
       "      <td>271395.4575</td>\n",
       "      <td>233013.4300</td>\n",
       "      <td>156117.0275</td>\n",
       "      <td>135474.9925</td>\n",
       "      <td>796000.9075</td>\n",
       "    </tr>\n",
       "    <tr>\n",
       "      <th>2014-Benton</th>\n",
       "      <td>1464605</td>\n",
       "      <td>1276797</td>\n",
       "      <td>7800914</td>\n",
       "      <td>6182058</td>\n",
       "      <td>4326140</td>\n",
       "      <td>1729926</td>\n",
       "      <td>0</td>\n",
       "      <td>7328770</td>\n",
       "      <td>30109209</td>\n",
       "      <td>Benton</td>\n",
       "      <td>2004</td>\n",
       "      <td>611472.5875</td>\n",
       "      <td>533062.7475</td>\n",
       "      <td>3256881.5950</td>\n",
       "      <td>3256881.5950</td>\n",
       "      <td>1806163.4500</td>\n",
       "      <td>722244.1050</td>\n",
       "      <td>0.0000</td>\n",
       "      <td>3059761.4750</td>\n",
       "      <td>12570594.7575</td>\n",
       "    </tr>\n",
       "    <tr>\n",
       "      <th>2014-Chelan</th>\n",
       "      <td>332528</td>\n",
       "      <td>918044</td>\n",
       "      <td>0</td>\n",
       "      <td>0</td>\n",
       "      <td>3460370</td>\n",
       "      <td>892301</td>\n",
       "      <td>9504893</td>\n",
       "      <td>3465940</td>\n",
       "      <td>18574078</td>\n",
       "      <td>Chelan</td>\n",
       "      <td>2004</td>\n",
       "      <td>138830.4400</td>\n",
       "      <td>383283.3700</td>\n",
       "      <td>0.0000</td>\n",
       "      <td>0.0000</td>\n",
       "      <td>1444704.4750</td>\n",
       "      <td>372535.6675</td>\n",
       "      <td>3968292.8275</td>\n",
       "      <td>1447029.9500</td>\n",
       "      <td>7754677.5650</td>\n",
       "    </tr>\n",
       "    <tr>\n",
       "      <th>2014-Clallam</th>\n",
       "      <td>5914780</td>\n",
       "      <td>0</td>\n",
       "      <td>0</td>\n",
       "      <td>0</td>\n",
       "      <td>0</td>\n",
       "      <td>317074</td>\n",
       "      <td>9041589</td>\n",
       "      <td>4670052</td>\n",
       "      <td>19943495</td>\n",
       "      <td>Clallam</td>\n",
       "      <td>2004</td>\n",
       "      <td>2469420.6500</td>\n",
       "      <td>0.0000</td>\n",
       "      <td>0.0000</td>\n",
       "      <td>0.0000</td>\n",
       "      <td>0.0000</td>\n",
       "      <td>132378.3950</td>\n",
       "      <td>3774863.4075</td>\n",
       "      <td>1949746.7100</td>\n",
       "      <td>8326409.1625</td>\n",
       "    </tr>\n",
       "  </tbody>\n",
       "</table>\n",
       "</div>"
      ],
      "text/plain": [
       "              Rural Collector  Urban Collector  Rural Interstate  \\\n",
       "2014-Adams            1735693            26330           8342085   \n",
       "2014-Asotin                 0                0                 0   \n",
       "2014-Benton           1464605          1276797           7800914   \n",
       "2014-Chelan            332528           918044                 0   \n",
       "2014-Clallam          5914780                0                 0   \n",
       "\n",
       "              Urban Interstate  Rural Minor Arterial  Urban Minor Arterial  \\\n",
       "2014-Adams                   0                     0                 81523   \n",
       "2014-Asotin                  0                650049                558116   \n",
       "2014-Benton            6182058               4326140               1729926   \n",
       "2014-Chelan                  0               3460370                892301   \n",
       "2014-Clallam                 0                     0                317074   \n",
       "\n",
       "              Rural Principle Arterial  Urban Principle Arterial     Total  \\\n",
       "2014-Adams                     8497339                    273997  18956967   \n",
       "2014-Asotin                     373933                    324491   1906589   \n",
       "2014-Benton                          0                   7328770  30109209   \n",
       "2014-Chelan                    9504893                   3465940  18574078   \n",
       "2014-Clallam                   9041589                   4670052  19943495   \n",
       "\n",
       "               County  Year            RC           UC            RI  \\\n",
       "2014-Adams      Adams  2004   724651.8275   10992.7750  3482820.4875   \n",
       "2014-Asotin    Asotin  2004        0.0000       0.0000        0.0000   \n",
       "2014-Benton    Benton  2004   611472.5875  533062.7475  3256881.5950   \n",
       "2014-Chelan    Chelan  2004   138830.4400  383283.3700        0.0000   \n",
       "2014-Clallam  Clallam  2004  2469420.6500       0.0000        0.0000   \n",
       "\n",
       "                        UI           RMA          UMA           RPA  \\\n",
       "2014-Adams    3482820.4875        0.0000   34035.8525  3547639.0325   \n",
       "2014-Asotin         0.0000   271395.4575  233013.4300   156117.0275   \n",
       "2014-Benton   3256881.5950  1806163.4500  722244.1050        0.0000   \n",
       "2014-Chelan         0.0000  1444704.4750  372535.6675  3968292.8275   \n",
       "2014-Clallam        0.0000        0.0000  132378.3950  3774863.4075   \n",
       "\n",
       "                       UPA         TEsals  \n",
       "2014-Adams     114393.7475   7914533.7225  \n",
       "2014-Asotin    135474.9925    796000.9075  \n",
       "2014-Benton   3059761.4750  12570594.7575  \n",
       "2014-Chelan   1447029.9500   7754677.5650  \n",
       "2014-Clallam  1949746.7100   8326409.1625  "
      ]
     },
     "execution_count": 27,
     "metadata": {},
     "output_type": "execute_result"
    }
   ],
   "source": [
    "SUTB.head()"
   ]
  },
  {
   "cell_type": "code",
   "execution_count": 28,
   "metadata": {
    "collapsed": false
   },
   "outputs": [
    {
     "data": {
      "text/html": [
       "<div>\n",
       "<table border=\"1\" class=\"dataframe\">\n",
       "  <thead>\n",
       "    <tr style=\"text-align: right;\">\n",
       "      <th></th>\n",
       "      <th>Rural Collector</th>\n",
       "      <th>Urban Collector</th>\n",
       "      <th>Rural Interstate</th>\n",
       "      <th>Urban Interstate</th>\n",
       "      <th>Rural Minor Arterial</th>\n",
       "      <th>Urban Minor Arterial</th>\n",
       "      <th>Rural Principle Arterial</th>\n",
       "      <th>Urban Principle Arterial</th>\n",
       "      <th>Total</th>\n",
       "      <th>County</th>\n",
       "      <th>Year</th>\n",
       "      <th>RC</th>\n",
       "      <th>UC</th>\n",
       "      <th>RI</th>\n",
       "      <th>UI</th>\n",
       "      <th>RMA</th>\n",
       "      <th>UMA</th>\n",
       "      <th>RPA</th>\n",
       "      <th>UPA</th>\n",
       "      <th>TEsals</th>\n",
       "    </tr>\n",
       "  </thead>\n",
       "  <tbody>\n",
       "    <tr>\n",
       "      <th>2014-Adams</th>\n",
       "      <td>2242075</td>\n",
       "      <td>31701</td>\n",
       "      <td>34242956</td>\n",
       "      <td>0</td>\n",
       "      <td>0</td>\n",
       "      <td>96345</td>\n",
       "      <td>29887454</td>\n",
       "      <td>664406</td>\n",
       "      <td>67164937</td>\n",
       "      <td>Adams</td>\n",
       "      <td>2004</td>\n",
       "      <td>1816080.75</td>\n",
       "      <td>25677.81</td>\n",
       "      <td>27736794.36</td>\n",
       "      <td>27736794.36</td>\n",
       "      <td>0.00</td>\n",
       "      <td>78039.45</td>\n",
       "      <td>24208837.74</td>\n",
       "      <td>538168.86</td>\n",
       "      <td>54403598.97</td>\n",
       "    </tr>\n",
       "    <tr>\n",
       "      <th>2014-Asotin</th>\n",
       "      <td>0</td>\n",
       "      <td>0</td>\n",
       "      <td>0</td>\n",
       "      <td>0</td>\n",
       "      <td>308435</td>\n",
       "      <td>208942</td>\n",
       "      <td>928252</td>\n",
       "      <td>382127</td>\n",
       "      <td>1827756</td>\n",
       "      <td>Asotin</td>\n",
       "      <td>2004</td>\n",
       "      <td>0.00</td>\n",
       "      <td>0.00</td>\n",
       "      <td>0.00</td>\n",
       "      <td>0.00</td>\n",
       "      <td>249832.35</td>\n",
       "      <td>169243.02</td>\n",
       "      <td>751884.12</td>\n",
       "      <td>309522.87</td>\n",
       "      <td>1480482.36</td>\n",
       "    </tr>\n",
       "    <tr>\n",
       "      <th>2014-Benton</th>\n",
       "      <td>668453</td>\n",
       "      <td>947294</td>\n",
       "      <td>27770494</td>\n",
       "      <td>16037885</td>\n",
       "      <td>15794988</td>\n",
       "      <td>1379032</td>\n",
       "      <td>0</td>\n",
       "      <td>6638589</td>\n",
       "      <td>69236735</td>\n",
       "      <td>Benton</td>\n",
       "      <td>2004</td>\n",
       "      <td>541446.93</td>\n",
       "      <td>767308.14</td>\n",
       "      <td>22494100.14</td>\n",
       "      <td>22494100.14</td>\n",
       "      <td>12793940.28</td>\n",
       "      <td>1117015.92</td>\n",
       "      <td>0.00</td>\n",
       "      <td>5377257.09</td>\n",
       "      <td>56081755.35</td>\n",
       "    </tr>\n",
       "    <tr>\n",
       "      <th>2014-Chelan</th>\n",
       "      <td>161492</td>\n",
       "      <td>284723</td>\n",
       "      <td>0</td>\n",
       "      <td>0</td>\n",
       "      <td>2014503</td>\n",
       "      <td>378815</td>\n",
       "      <td>12375296</td>\n",
       "      <td>1935579</td>\n",
       "      <td>17150408</td>\n",
       "      <td>Chelan</td>\n",
       "      <td>2004</td>\n",
       "      <td>130808.52</td>\n",
       "      <td>230625.63</td>\n",
       "      <td>0.00</td>\n",
       "      <td>0.00</td>\n",
       "      <td>1631747.43</td>\n",
       "      <td>306840.15</td>\n",
       "      <td>10023989.76</td>\n",
       "      <td>1567818.99</td>\n",
       "      <td>13891830.48</td>\n",
       "    </tr>\n",
       "    <tr>\n",
       "      <th>2014-Clallam</th>\n",
       "      <td>2167887</td>\n",
       "      <td>0</td>\n",
       "      <td>0</td>\n",
       "      <td>0</td>\n",
       "      <td>0</td>\n",
       "      <td>303236</td>\n",
       "      <td>4982548</td>\n",
       "      <td>2902211</td>\n",
       "      <td>10355882</td>\n",
       "      <td>Clallam</td>\n",
       "      <td>2004</td>\n",
       "      <td>1755988.47</td>\n",
       "      <td>0.00</td>\n",
       "      <td>0.00</td>\n",
       "      <td>0.00</td>\n",
       "      <td>0.00</td>\n",
       "      <td>245621.16</td>\n",
       "      <td>4035863.88</td>\n",
       "      <td>2350790.91</td>\n",
       "      <td>8388264.42</td>\n",
       "    </tr>\n",
       "  </tbody>\n",
       "</table>\n",
       "</div>"
      ],
      "text/plain": [
       "              Rural Collector  Urban Collector  Rural Interstate  \\\n",
       "2014-Adams            2242075            31701          34242956   \n",
       "2014-Asotin                 0                0                 0   \n",
       "2014-Benton            668453           947294          27770494   \n",
       "2014-Chelan            161492           284723                 0   \n",
       "2014-Clallam          2167887                0                 0   \n",
       "\n",
       "              Urban Interstate  Rural Minor Arterial  Urban Minor Arterial  \\\n",
       "2014-Adams                   0                     0                 96345   \n",
       "2014-Asotin                  0                308435                208942   \n",
       "2014-Benton           16037885              15794988               1379032   \n",
       "2014-Chelan                  0               2014503                378815   \n",
       "2014-Clallam                 0                     0                303236   \n",
       "\n",
       "              Rural Principle Arterial  Urban Principle Arterial     Total  \\\n",
       "2014-Adams                    29887454                    664406  67164937   \n",
       "2014-Asotin                     928252                    382127   1827756   \n",
       "2014-Benton                          0                   6638589  69236735   \n",
       "2014-Chelan                   12375296                   1935579  17150408   \n",
       "2014-Clallam                   4982548                   2902211  10355882   \n",
       "\n",
       "               County  Year          RC         UC           RI           UI  \\\n",
       "2014-Adams      Adams  2004  1816080.75   25677.81  27736794.36  27736794.36   \n",
       "2014-Asotin    Asotin  2004        0.00       0.00         0.00         0.00   \n",
       "2014-Benton    Benton  2004   541446.93  767308.14  22494100.14  22494100.14   \n",
       "2014-Chelan    Chelan  2004   130808.52  230625.63         0.00         0.00   \n",
       "2014-Clallam  Clallam  2004  1755988.47       0.00         0.00         0.00   \n",
       "\n",
       "                      RMA         UMA          RPA         UPA       TEsals  \n",
       "2014-Adams           0.00    78039.45  24208837.74   538168.86  54403598.97  \n",
       "2014-Asotin     249832.35   169243.02    751884.12   309522.87   1480482.36  \n",
       "2014-Benton   12793940.28  1117015.92         0.00  5377257.09  56081755.35  \n",
       "2014-Chelan    1631747.43   306840.15  10023989.76  1567818.99  13891830.48  \n",
       "2014-Clallam         0.00   245621.16   4035863.88  2350790.91   8388264.42  "
      ]
     },
     "execution_count": 28,
     "metadata": {},
     "output_type": "execute_result"
    }
   ],
   "source": [
    "DUT.head()"
   ]
  },
  {
   "cell_type": "code",
   "execution_count": 29,
   "metadata": {
    "collapsed": true
   },
   "outputs": [],
   "source": [
    "SumVMT = SUTB.add(DUT, fill_value=None).add(TUT, fill_value=None)"
   ]
  },
  {
   "cell_type": "code",
   "execution_count": 30,
   "metadata": {
    "collapsed": false
   },
   "outputs": [
    {
     "data": {
      "text/html": [
       "<div>\n",
       "<table border=\"1\" class=\"dataframe\">\n",
       "  <thead>\n",
       "    <tr style=\"text-align: right;\">\n",
       "      <th></th>\n",
       "      <th>Rural Collector</th>\n",
       "      <th>Urban Collector</th>\n",
       "      <th>Rural Interstate</th>\n",
       "      <th>Urban Interstate</th>\n",
       "      <th>Rural Minor Arterial</th>\n",
       "      <th>Urban Minor Arterial</th>\n",
       "      <th>Rural Principle Arterial</th>\n",
       "      <th>Urban Principle Arterial</th>\n",
       "      <th>Total</th>\n",
       "      <th>County</th>\n",
       "      <th>Year</th>\n",
       "      <th>RC</th>\n",
       "      <th>UC</th>\n",
       "      <th>RI</th>\n",
       "      <th>UI</th>\n",
       "      <th>RMA</th>\n",
       "      <th>UMA</th>\n",
       "      <th>RPA</th>\n",
       "      <th>UPA</th>\n",
       "      <th>TEsals</th>\n",
       "    </tr>\n",
       "  </thead>\n",
       "  <tbody>\n",
       "    <tr>\n",
       "      <th>2014-Adams</th>\n",
       "      <td>5062378</td>\n",
       "      <td>71989</td>\n",
       "      <td>48584270</td>\n",
       "      <td>0</td>\n",
       "      <td>0</td>\n",
       "      <td>222335</td>\n",
       "      <td>45005676</td>\n",
       "      <td>1114881</td>\n",
       "      <td>100061528</td>\n",
       "      <td>AdamsAdamsAdams</td>\n",
       "      <td>6012</td>\n",
       "      <td>3722957.4775</td>\n",
       "      <td>51884.8050</td>\n",
       "      <td>37758774.4575</td>\n",
       "      <td>37758774.4575</td>\n",
       "      <td>0.0000</td>\n",
       "      <td>160544.3325</td>\n",
       "      <td>34973239.2425</td>\n",
       "      <td>844923.6275</td>\n",
       "      <td>77512322.8525</td>\n",
       "    </tr>\n",
       "    <tr>\n",
       "      <th>2014-Asotin</th>\n",
       "      <td>0</td>\n",
       "      <td>0</td>\n",
       "      <td>0</td>\n",
       "      <td>0</td>\n",
       "      <td>1009504</td>\n",
       "      <td>779926</td>\n",
       "      <td>1500377</td>\n",
       "      <td>773332</td>\n",
       "      <td>4063139</td>\n",
       "      <td>AsotinAsotinAsotin</td>\n",
       "      <td>6012</td>\n",
       "      <td>0.0000</td>\n",
       "      <td>0.0000</td>\n",
       "      <td>0.0000</td>\n",
       "      <td>0.0000</td>\n",
       "      <td>576839.6075</td>\n",
       "      <td>416282.5700</td>\n",
       "      <td>1124030.4275</td>\n",
       "      <td>517716.1225</td>\n",
       "      <td>2634868.7275</td>\n",
       "    </tr>\n",
       "    <tr>\n",
       "      <th>2014-Benton</th>\n",
       "      <td>2231183</td>\n",
       "      <td>2303332</td>\n",
       "      <td>40416744</td>\n",
       "      <td>25132264</td>\n",
       "      <td>24082500</td>\n",
       "      <td>3300850</td>\n",
       "      <td>0</td>\n",
       "      <td>14889584</td>\n",
       "      <td>112356457</td>\n",
       "      <td>BentonBentonBenton</td>\n",
       "      <td>6012</td>\n",
       "      <td>1259875.7675</td>\n",
       "      <td>1386743.5775</td>\n",
       "      <td>31032397.9750</td>\n",
       "      <td>31032397.9750</td>\n",
       "      <td>18917999.2100</td>\n",
       "      <td>2048422.3050</td>\n",
       "      <td>0.0000</td>\n",
       "      <td>9442243.8150</td>\n",
       "      <td>82833809.2775</td>\n",
       "    </tr>\n",
       "    <tr>\n",
       "      <th>2014-Chelan</th>\n",
       "      <td>498591</td>\n",
       "      <td>1227012</td>\n",
       "      <td>0</td>\n",
       "      <td>0</td>\n",
       "      <td>5828104</td>\n",
       "      <td>1317441</td>\n",
       "      <td>23961583</td>\n",
       "      <td>5741615</td>\n",
       "      <td>38574347</td>\n",
       "      <td>ChelanChelanChelan</td>\n",
       "      <td>6012</td>\n",
       "      <td>274621.3500</td>\n",
       "      <td>640336.0500</td>\n",
       "      <td>0.0000</td>\n",
       "      <td>0.0000</td>\n",
       "      <td>3461473.6950</td>\n",
       "      <td>729870.0675</td>\n",
       "      <td>16261002.0475</td>\n",
       "      <td>3385553.5800</td>\n",
       "      <td>24752856.5350</td>\n",
       "    </tr>\n",
       "    <tr>\n",
       "      <th>2014-Clallam</th>\n",
       "      <td>8671784</td>\n",
       "      <td>0</td>\n",
       "      <td>0</td>\n",
       "      <td>0</td>\n",
       "      <td>0</td>\n",
       "      <td>666632</td>\n",
       "      <td>15082552</td>\n",
       "      <td>7867363</td>\n",
       "      <td>32288331</td>\n",
       "      <td>ClallamClallamClallam</td>\n",
       "      <td>6012</td>\n",
       "      <td>4867546.6500</td>\n",
       "      <td>0.0000</td>\n",
       "      <td>0.0000</td>\n",
       "      <td>0.0000</td>\n",
       "      <td>0.0000</td>\n",
       "      <td>428490.5350</td>\n",
       "      <td>8964399.6375</td>\n",
       "      <td>4622196.6200</td>\n",
       "      <td>18882633.4425</td>\n",
       "    </tr>\n",
       "  </tbody>\n",
       "</table>\n",
       "</div>"
      ],
      "text/plain": [
       "              Rural Collector  Urban Collector  Rural Interstate  \\\n",
       "2014-Adams            5062378            71989          48584270   \n",
       "2014-Asotin                 0                0                 0   \n",
       "2014-Benton           2231183          2303332          40416744   \n",
       "2014-Chelan            498591          1227012                 0   \n",
       "2014-Clallam          8671784                0                 0   \n",
       "\n",
       "              Urban Interstate  Rural Minor Arterial  Urban Minor Arterial  \\\n",
       "2014-Adams                   0                     0                222335   \n",
       "2014-Asotin                  0               1009504                779926   \n",
       "2014-Benton           25132264              24082500               3300850   \n",
       "2014-Chelan                  0               5828104               1317441   \n",
       "2014-Clallam                 0                     0                666632   \n",
       "\n",
       "              Rural Principle Arterial  Urban Principle Arterial      Total  \\\n",
       "2014-Adams                    45005676                   1114881  100061528   \n",
       "2014-Asotin                    1500377                    773332    4063139   \n",
       "2014-Benton                          0                  14889584  112356457   \n",
       "2014-Chelan                   23961583                   5741615   38574347   \n",
       "2014-Clallam                  15082552                   7867363   32288331   \n",
       "\n",
       "                             County  Year            RC            UC  \\\n",
       "2014-Adams          AdamsAdamsAdams  6012  3722957.4775    51884.8050   \n",
       "2014-Asotin      AsotinAsotinAsotin  6012        0.0000        0.0000   \n",
       "2014-Benton      BentonBentonBenton  6012  1259875.7675  1386743.5775   \n",
       "2014-Chelan      ChelanChelanChelan  6012   274621.3500   640336.0500   \n",
       "2014-Clallam  ClallamClallamClallam  6012  4867546.6500        0.0000   \n",
       "\n",
       "                         RI             UI            RMA           UMA  \\\n",
       "2014-Adams    37758774.4575  37758774.4575         0.0000   160544.3325   \n",
       "2014-Asotin          0.0000         0.0000    576839.6075   416282.5700   \n",
       "2014-Benton   31032397.9750  31032397.9750  18917999.2100  2048422.3050   \n",
       "2014-Chelan          0.0000         0.0000   3461473.6950   729870.0675   \n",
       "2014-Clallam         0.0000         0.0000         0.0000   428490.5350   \n",
       "\n",
       "                        RPA           UPA         TEsals  \n",
       "2014-Adams    34973239.2425   844923.6275  77512322.8525  \n",
       "2014-Asotin    1124030.4275   517716.1225   2634868.7275  \n",
       "2014-Benton          0.0000  9442243.8150  82833809.2775  \n",
       "2014-Chelan   16261002.0475  3385553.5800  24752856.5350  \n",
       "2014-Clallam   8964399.6375  4622196.6200  18882633.4425  "
      ]
     },
     "execution_count": 30,
     "metadata": {},
     "output_type": "execute_result"
    }
   ],
   "source": [
    "SumVMT.head()"
   ]
  },
  {
   "cell_type": "code",
   "execution_count": 31,
   "metadata": {
    "collapsed": false
   },
   "outputs": [],
   "source": [
    "#print DUT.loc['2014-Adams', 'RC'] + SUTB.loc['2014-Adams', 'RC'] == SumVMT.loc['2014-Adams', 'RC']\n",
    "# print DUT.loc['2014-Adams', 'UI'] + SUTB.loc['2014-Adams', 'UI'] == SumVMT.loc['2014-Adams', 'UI']\n",
    "# print len(DUT.index.levels[1]) * len(DUT.index.levels[0]) == len(DUT)"
   ]
  },
  {
   "cell_type": "code",
   "execution_count": 32,
   "metadata": {
    "collapsed": false
   },
   "outputs": [
    {
     "data": {
      "text/plain": [
       "39"
      ]
     },
     "execution_count": 32,
     "metadata": {},
     "output_type": "execute_result"
    }
   ],
   "source": [
    "len(counties)"
   ]
  },
  {
   "cell_type": "code",
   "execution_count": 33,
   "metadata": {
    "collapsed": false
   },
   "outputs": [],
   "source": [
    "# addCountyNames(AllT)"
   ]
  },
  {
   "cell_type": "code",
   "execution_count": 34,
   "metadata": {
    "collapsed": false
   },
   "outputs": [],
   "source": [
    "# AllT.head(30)"
   ]
  },
  {
   "cell_type": "code",
   "execution_count": 35,
   "metadata": {
    "collapsed": true
   },
   "outputs": [],
   "source": [
    "addCountyNames(SumVMT)"
   ]
  },
  {
   "cell_type": "code",
   "execution_count": 36,
   "metadata": {
    "collapsed": false
   },
   "outputs": [
    {
     "data": {
      "text/plain": [
       "Index([         u'Rural Collector',          u'Urban Collector',\n",
       "               u'Rural Interstate',         u'Urban Interstate',\n",
       "           u'Rural Minor Arterial',     u'Urban Minor Arterial',\n",
       "       u'Rural Principle Arterial', u'Urban Principle Arterial',\n",
       "                          u'Total',                   u'County',\n",
       "                           u'Year',                       u'RC',\n",
       "                             u'UC',                       u'RI',\n",
       "                             u'UI',                      u'RMA',\n",
       "                            u'UMA',                      u'RPA',\n",
       "                            u'UPA',                   u'TEsals'],\n",
       "      dtype='object')"
      ]
     },
     "execution_count": 36,
     "metadata": {},
     "output_type": "execute_result"
    }
   ],
   "source": [
    "SumVMT.columns"
   ]
  },
  {
   "cell_type": "code",
   "execution_count": 37,
   "metadata": {
    "collapsed": true
   },
   "outputs": [],
   "source": [
    "dfT = SumVMT[[u'County', u'Year', u'RC', u'UC', u'RI', u'UI', u'RMA', u'UMA', u'RPA', u'UPA', u'TEsals']]"
   ]
  },
  {
   "cell_type": "code",
   "execution_count": 38,
   "metadata": {
    "collapsed": false
   },
   "outputs": [],
   "source": [
    "dfT = dfT[dfT.loc[:,'Year']>0]"
   ]
  },
  {
   "cell_type": "code",
   "execution_count": 39,
   "metadata": {
    "collapsed": false
   },
   "outputs": [
    {
     "data": {
      "text/plain": [
       "True"
      ]
     },
     "execution_count": 39,
     "metadata": {},
     "output_type": "execute_result"
    }
   ],
   "source": [
    "len(SumVMT) - len(dfT) == len(years)"
   ]
  },
  {
   "cell_type": "code",
   "execution_count": 40,
   "metadata": {
    "collapsed": false
   },
   "outputs": [
    {
     "data": {
      "text/html": [
       "<div>\n",
       "<table border=\"1\" class=\"dataframe\">\n",
       "  <thead>\n",
       "    <tr style=\"text-align: right;\">\n",
       "      <th></th>\n",
       "      <th>County</th>\n",
       "      <th>Year</th>\n",
       "      <th>RC</th>\n",
       "      <th>UC</th>\n",
       "      <th>RI</th>\n",
       "      <th>UI</th>\n",
       "      <th>RMA</th>\n",
       "      <th>UMA</th>\n",
       "      <th>RPA</th>\n",
       "      <th>UPA</th>\n",
       "      <th>TEsals</th>\n",
       "    </tr>\n",
       "  </thead>\n",
       "  <tbody>\n",
       "    <tr>\n",
       "      <th>2014-Adams</th>\n",
       "      <td>Adams</td>\n",
       "      <td>2004</td>\n",
       "      <td>3722957.4775</td>\n",
       "      <td>51884.8050</td>\n",
       "      <td>37758774.4575</td>\n",
       "      <td>37758774.4575</td>\n",
       "      <td>0.0000</td>\n",
       "      <td>160544.3325</td>\n",
       "      <td>34973239.2425</td>\n",
       "      <td>844923.6275</td>\n",
       "      <td>77512322.8525</td>\n",
       "    </tr>\n",
       "    <tr>\n",
       "      <th>2014-Asotin</th>\n",
       "      <td>Asotin</td>\n",
       "      <td>2004</td>\n",
       "      <td>0.0000</td>\n",
       "      <td>0.0000</td>\n",
       "      <td>0.0000</td>\n",
       "      <td>0.0000</td>\n",
       "      <td>576839.6075</td>\n",
       "      <td>416282.5700</td>\n",
       "      <td>1124030.4275</td>\n",
       "      <td>517716.1225</td>\n",
       "      <td>2634868.7275</td>\n",
       "    </tr>\n",
       "    <tr>\n",
       "      <th>2014-Benton</th>\n",
       "      <td>Benton</td>\n",
       "      <td>2004</td>\n",
       "      <td>1259875.7675</td>\n",
       "      <td>1386743.5775</td>\n",
       "      <td>31032397.9750</td>\n",
       "      <td>31032397.9750</td>\n",
       "      <td>18917999.2100</td>\n",
       "      <td>2048422.3050</td>\n",
       "      <td>0.0000</td>\n",
       "      <td>9442243.8150</td>\n",
       "      <td>82833809.2775</td>\n",
       "    </tr>\n",
       "    <tr>\n",
       "      <th>2014-Chelan</th>\n",
       "      <td>Chelan</td>\n",
       "      <td>2004</td>\n",
       "      <td>274621.3500</td>\n",
       "      <td>640336.0500</td>\n",
       "      <td>0.0000</td>\n",
       "      <td>0.0000</td>\n",
       "      <td>3461473.6950</td>\n",
       "      <td>729870.0675</td>\n",
       "      <td>16261002.0475</td>\n",
       "      <td>3385553.5800</td>\n",
       "      <td>24752856.5350</td>\n",
       "    </tr>\n",
       "    <tr>\n",
       "      <th>2014-Clallam</th>\n",
       "      <td>Clallam</td>\n",
       "      <td>2004</td>\n",
       "      <td>4867546.6500</td>\n",
       "      <td>0.0000</td>\n",
       "      <td>0.0000</td>\n",
       "      <td>0.0000</td>\n",
       "      <td>0.0000</td>\n",
       "      <td>428490.5350</td>\n",
       "      <td>8964399.6375</td>\n",
       "      <td>4622196.6200</td>\n",
       "      <td>18882633.4425</td>\n",
       "    </tr>\n",
       "  </tbody>\n",
       "</table>\n",
       "</div>"
      ],
      "text/plain": [
       "               County  Year            RC            UC             RI  \\\n",
       "2014-Adams      Adams  2004  3722957.4775    51884.8050  37758774.4575   \n",
       "2014-Asotin    Asotin  2004        0.0000        0.0000         0.0000   \n",
       "2014-Benton    Benton  2004  1259875.7675  1386743.5775  31032397.9750   \n",
       "2014-Chelan    Chelan  2004   274621.3500   640336.0500         0.0000   \n",
       "2014-Clallam  Clallam  2004  4867546.6500        0.0000         0.0000   \n",
       "\n",
       "                         UI            RMA           UMA            RPA  \\\n",
       "2014-Adams    37758774.4575         0.0000   160544.3325  34973239.2425   \n",
       "2014-Asotin          0.0000    576839.6075   416282.5700   1124030.4275   \n",
       "2014-Benton   31032397.9750  18917999.2100  2048422.3050         0.0000   \n",
       "2014-Chelan          0.0000   3461473.6950   729870.0675  16261002.0475   \n",
       "2014-Clallam         0.0000         0.0000   428490.5350   8964399.6375   \n",
       "\n",
       "                       UPA         TEsals  \n",
       "2014-Adams     844923.6275  77512322.8525  \n",
       "2014-Asotin    517716.1225   2634868.7275  \n",
       "2014-Benton   9442243.8150  82833809.2775  \n",
       "2014-Chelan   3385553.5800  24752856.5350  \n",
       "2014-Clallam  4622196.6200  18882633.4425  "
      ]
     },
     "execution_count": 40,
     "metadata": {},
     "output_type": "execute_result"
    }
   ],
   "source": [
    "dfT.head()"
   ]
  },
  {
   "cell_type": "code",
   "execution_count": 41,
   "metadata": {
    "collapsed": false
   },
   "outputs": [],
   "source": [
    "dfT.index = range(len(dfT))"
   ]
  },
  {
   "cell_type": "code",
   "execution_count": 42,
   "metadata": {
    "collapsed": true
   },
   "outputs": [],
   "source": [
    "sdf = dfT.sort('County')"
   ]
  },
  {
   "cell_type": "code",
   "execution_count": 43,
   "metadata": {
    "collapsed": false
   },
   "outputs": [
    {
     "data": {
      "text/html": [
       "<div>\n",
       "<table border=\"1\" class=\"dataframe\">\n",
       "  <thead>\n",
       "    <tr style=\"text-align: right;\">\n",
       "      <th></th>\n",
       "      <th>County</th>\n",
       "      <th>Year</th>\n",
       "      <th>RC</th>\n",
       "      <th>UC</th>\n",
       "      <th>RI</th>\n",
       "      <th>UI</th>\n",
       "      <th>RMA</th>\n",
       "      <th>UMA</th>\n",
       "      <th>RPA</th>\n",
       "      <th>UPA</th>\n",
       "      <th>TEsals</th>\n",
       "    </tr>\n",
       "  </thead>\n",
       "  <tbody>\n",
       "    <tr>\n",
       "      <th>0</th>\n",
       "      <td>Adams</td>\n",
       "      <td>2004</td>\n",
       "      <td>3722957.477500</td>\n",
       "      <td>51884.805000</td>\n",
       "      <td>37758774.457500</td>\n",
       "      <td>37758774.457500</td>\n",
       "      <td>0</td>\n",
       "      <td>160544.332500</td>\n",
       "      <td>34973239.242500</td>\n",
       "      <td>844923.627500</td>\n",
       "      <td>77512322.852500</td>\n",
       "    </tr>\n",
       "    <tr>\n",
       "      <th>38</th>\n",
       "      <td>Adams</td>\n",
       "      <td>2005</td>\n",
       "      <td>3702419.788488</td>\n",
       "      <td>50446.021778</td>\n",
       "      <td>35756907.420386</td>\n",
       "      <td>35756907.420386</td>\n",
       "      <td>0</td>\n",
       "      <td>156470.276699</td>\n",
       "      <td>33786317.942303</td>\n",
       "      <td>838911.505310</td>\n",
       "      <td>74291472.954963</td>\n",
       "    </tr>\n",
       "    <tr>\n",
       "      <th>76</th>\n",
       "      <td>Adams</td>\n",
       "      <td>2006</td>\n",
       "      <td>3784535.520353</td>\n",
       "      <td>0.000000</td>\n",
       "      <td>37256255.277287</td>\n",
       "      <td>37256255.277287</td>\n",
       "      <td>0</td>\n",
       "      <td>314449.057132</td>\n",
       "      <td>36740009.294105</td>\n",
       "      <td>441649.841966</td>\n",
       "      <td>78536898.990843</td>\n",
       "    </tr>\n",
       "    <tr>\n",
       "      <th>114</th>\n",
       "      <td>Adams</td>\n",
       "      <td>2007</td>\n",
       "      <td>3784540.632415</td>\n",
       "      <td>0.000000</td>\n",
       "      <td>38133314.611903</td>\n",
       "      <td>38133314.611903</td>\n",
       "      <td>0</td>\n",
       "      <td>310618.756026</td>\n",
       "      <td>37394721.982992</td>\n",
       "      <td>435848.798239</td>\n",
       "      <td>80059044.781575</td>\n",
       "    </tr>\n",
       "    <tr>\n",
       "      <th>152</th>\n",
       "      <td>Adams</td>\n",
       "      <td>2008</td>\n",
       "      <td>3528627.744004</td>\n",
       "      <td>0.000000</td>\n",
       "      <td>37301874.825782</td>\n",
       "      <td>37301874.825782</td>\n",
       "      <td>0</td>\n",
       "      <td>304391.328523</td>\n",
       "      <td>36929125.419969</td>\n",
       "      <td>433088.752094</td>\n",
       "      <td>78497108.070372</td>\n",
       "    </tr>\n",
       "  </tbody>\n",
       "</table>\n",
       "</div>"
      ],
      "text/plain": [
       "    County  Year              RC            UC               RI  \\\n",
       "0    Adams  2004  3722957.477500  51884.805000  37758774.457500   \n",
       "38   Adams  2005  3702419.788488  50446.021778  35756907.420386   \n",
       "76   Adams  2006  3784535.520353      0.000000  37256255.277287   \n",
       "114  Adams  2007  3784540.632415      0.000000  38133314.611903   \n",
       "152  Adams  2008  3528627.744004      0.000000  37301874.825782   \n",
       "\n",
       "                  UI  RMA            UMA              RPA            UPA  \\\n",
       "0    37758774.457500    0  160544.332500  34973239.242500  844923.627500   \n",
       "38   35756907.420386    0  156470.276699  33786317.942303  838911.505310   \n",
       "76   37256255.277287    0  314449.057132  36740009.294105  441649.841966   \n",
       "114  38133314.611903    0  310618.756026  37394721.982992  435848.798239   \n",
       "152  37301874.825782    0  304391.328523  36929125.419969  433088.752094   \n",
       "\n",
       "              TEsals  \n",
       "0    77512322.852500  \n",
       "38   74291472.954963  \n",
       "76   78536898.990843  \n",
       "114  80059044.781575  \n",
       "152  78497108.070372  "
      ]
     },
     "execution_count": 43,
     "metadata": {},
     "output_type": "execute_result"
    }
   ],
   "source": [
    "sdf.head()"
   ]
  },
  {
   "cell_type": "code",
   "execution_count": 44,
   "metadata": {
    "collapsed": true
   },
   "outputs": [],
   "source": [
    "sdf.index = range(len(sdf))"
   ]
  },
  {
   "cell_type": "code",
   "execution_count": 45,
   "metadata": {
    "collapsed": true
   },
   "outputs": [],
   "source": [
    "idf = sdf[['County', 'Year']]"
   ]
  },
  {
   "cell_type": "code",
   "execution_count": 46,
   "metadata": {
    "collapsed": true
   },
   "outputs": [],
   "source": [
    "idf = idf[idf.loc[:,'Year'] > 2004]"
   ]
  },
  {
   "cell_type": "code",
   "execution_count": 47,
   "metadata": {
    "collapsed": false
   },
   "outputs": [
    {
     "data": {
      "text/html": [
       "<div>\n",
       "<table border=\"1\" class=\"dataframe\">\n",
       "  <thead>\n",
       "    <tr style=\"text-align: right;\">\n",
       "      <th></th>\n",
       "      <th>County</th>\n",
       "      <th>Year</th>\n",
       "    </tr>\n",
       "  </thead>\n",
       "  <tbody>\n",
       "    <tr>\n",
       "      <th>1</th>\n",
       "      <td>Adams</td>\n",
       "      <td>2005</td>\n",
       "    </tr>\n",
       "    <tr>\n",
       "      <th>2</th>\n",
       "      <td>Adams</td>\n",
       "      <td>2006</td>\n",
       "    </tr>\n",
       "    <tr>\n",
       "      <th>3</th>\n",
       "      <td>Adams</td>\n",
       "      <td>2007</td>\n",
       "    </tr>\n",
       "    <tr>\n",
       "      <th>4</th>\n",
       "      <td>Adams</td>\n",
       "      <td>2008</td>\n",
       "    </tr>\n",
       "    <tr>\n",
       "      <th>5</th>\n",
       "      <td>Adams</td>\n",
       "      <td>2009</td>\n",
       "    </tr>\n",
       "  </tbody>\n",
       "</table>\n",
       "</div>"
      ],
      "text/plain": [
       "  County  Year\n",
       "1  Adams  2005\n",
       "2  Adams  2006\n",
       "3  Adams  2007\n",
       "4  Adams  2008\n",
       "5  Adams  2009"
      ]
     },
     "execution_count": 47,
     "metadata": {},
     "output_type": "execute_result"
    }
   ],
   "source": [
    "idf.head()"
   ]
  },
  {
   "cell_type": "code",
   "execution_count": 48,
   "metadata": {
    "collapsed": true
   },
   "outputs": [],
   "source": [
    "def getIncrement1(row):\n",
    "    county = row['County']\n",
    "    year   = row['Year']\n",
    "    a      = list(sdf[(sdf.loc[:,'Year'] == (year-1)) & (sdf.loc[:,'County'] == county)].loc[:,'RC'])[0]\n",
    "    b      = list(sdf[(sdf.loc[:,'Year'] == year) & (sdf.loc[:,'County'] == county)].loc[:,'RC'])[0]\n",
    "    return (b-a)/a *100\n",
    "\n",
    "def getIncrement2(row):\n",
    "    county = row['County']\n",
    "    year   = row['Year']\n",
    "    a      = list(sdf[(sdf.loc[:,'Year'] == (year-1)) & (sdf.loc[:,'County'] == county)].loc[:,'UC'])[0]\n",
    "    b      = list(sdf[(sdf.loc[:,'Year'] == year) & (sdf.loc[:,'County'] == county)].loc[:,'UC'])[0]\n",
    "    return (b-a)/a *100\n",
    "\n",
    "def getIncrement3(row):\n",
    "    county = row['County']\n",
    "    year   = row['Year']\n",
    "    a      = list(sdf[(sdf.loc[:,'Year'] == (year-1)) & (sdf.loc[:,'County'] == county)].loc[:,'UI'])[0]\n",
    "    b      = list(sdf[(sdf.loc[:,'Year'] == year) & (sdf.loc[:,'County'] == county)].loc[:,'UI'])[0]\n",
    "    return (b-a)/a *100\n",
    "\n",
    "def getIncrement4(row):\n",
    "    county = row['County']\n",
    "    year   = row['Year']\n",
    "    a      = list(sdf[(sdf.loc[:,'Year'] == (year-1)) & (sdf.loc[:,'County'] == county)].loc[:,'RI'])[0]\n",
    "    b      = list(sdf[(sdf.loc[:,'Year'] == year) & (sdf.loc[:,'County'] == county)].loc[:,'RI'])[0]\n",
    "    return (b-a)/a *100\n",
    "\n",
    "def getIncrement5(row):\n",
    "    county = row['County']\n",
    "    year   = row['Year']\n",
    "    a      = list(sdf[(sdf.loc[:,'Year'] == (year-1)) & (sdf.loc[:,'County'] == county)].loc[:,'RMA'])[0]\n",
    "    b      = list(sdf[(sdf.loc[:,'Year'] == year) & (sdf.loc[:,'County'] == county)].loc[:,'RMA'])[0]\n",
    "    return (b-a)/a *100\n",
    "\n",
    "def getIncrement6(row):\n",
    "    county = row['County']\n",
    "    year   = row['Year']\n",
    "    a      = list(sdf[(sdf.loc[:,'Year'] == (year-1)) & (sdf.loc[:,'County'] == county)].loc[:,'UMA'])[0]\n",
    "    b      = list(sdf[(sdf.loc[:,'Year'] == year) & (sdf.loc[:,'County'] == county)].loc[:,'UMA'])[0]\n",
    "    return (b-a)/a *100\n",
    "\n",
    "def getIncrement7(row):\n",
    "    county = row['County']\n",
    "    year   = row['Year']\n",
    "    a      = list(sdf[(sdf.loc[:,'Year'] == (year-1)) & (sdf.loc[:,'County'] == county)].loc[:,'RPA'])[0]\n",
    "    b      = list(sdf[(sdf.loc[:,'Year'] == year) & (sdf.loc[:,'County'] == county)].loc[:,'RPA'])[0]\n",
    "    return (b-a)/a *100\n",
    "\n",
    "\n",
    "def getIncrement8(row):\n",
    "    county = row['County']\n",
    "    year   = row['Year']\n",
    "    a      = list(sdf[(sdf.loc[:,'Year'] == (year-1)) & (sdf.loc[:,'County'] == county)].loc[:,'UPA'])[0]\n",
    "    b      = list(sdf[(sdf.loc[:,'Year'] == year) & (sdf.loc[:,'County'] == county)].loc[:,'UPA'])[0]\n",
    "    return (b-a)/a *100\n",
    "\n",
    "def getIncrement9(row):\n",
    "    county = row['County']\n",
    "    year   = row['Year']\n",
    "    a      = list(sdf[(sdf.loc[:,'Year'] == (year-1)) & (sdf.loc[:,'County'] == county)].loc[:,'TEsals'])[0]\n",
    "    b      = list(sdf[(sdf.loc[:,'Year'] == year) & (sdf.loc[:,'County'] == county)].loc[:,'TEsals'])[0]\n",
    "    return (b-a)/a *100"
   ]
  },
  {
   "cell_type": "code",
   "execution_count": 49,
   "metadata": {
    "collapsed": false
   },
   "outputs": [],
   "source": [
    "idf['RCi'] = idf.apply(getIncrement1, axis = 1)\n",
    "idf['UCi'] = idf.apply(getIncrement2, axis = 1)\n",
    "idf['RIi'] = idf.apply(getIncrement4, axis = 1)\n",
    "idf['UIi'] = idf.apply(getIncrement3, axis = 1)\n",
    "idf['RMAi'] = idf.apply(getIncrement5, axis = 1)\n",
    "idf['UMAi'] = idf.apply(getIncrement6, axis = 1)\n",
    "idf['RPAi'] = idf.apply(getIncrement7, axis = 1)\n",
    "idf['UPAi'] = idf.apply(getIncrement8, axis = 1)\n",
    "idf['TEsalsi'] = idf.apply(getIncrement9, axis = 1)"
   ]
  },
  {
   "cell_type": "code",
   "execution_count": 50,
   "metadata": {
    "collapsed": true
   },
   "outputs": [],
   "source": [
    "# idf.to_excel(\"../DataFiles/CountyEsalIncrements.xlsx\")"
   ]
  },
  {
   "cell_type": "code",
   "execution_count": 51,
   "metadata": {
    "collapsed": true
   },
   "outputs": [],
   "source": [
    "# sdf.to_excel(\"../DataFiles/CountyEsals.xlsx\")"
   ]
  },
  {
   "cell_type": "code",
   "execution_count": 52,
   "metadata": {
    "collapsed": false
   },
   "outputs": [
    {
     "data": {
      "text/html": [
       "<div>\n",
       "<table border=\"1\" class=\"dataframe\">\n",
       "  <thead>\n",
       "    <tr style=\"text-align: right;\">\n",
       "      <th></th>\n",
       "      <th>Year</th>\n",
       "      <th>Rural</th>\n",
       "      <th>Urban</th>\n",
       "      <th>Total</th>\n",
       "    </tr>\n",
       "  </thead>\n",
       "  <tbody>\n",
       "    <tr>\n",
       "      <th>0</th>\n",
       "      <td>1980</td>\n",
       "      <td>6598173.2</td>\n",
       "      <td>8491214.5</td>\n",
       "      <td>15089387.6</td>\n",
       "    </tr>\n",
       "    <tr>\n",
       "      <th>1</th>\n",
       "      <td>1981</td>\n",
       "      <td>7028297.3</td>\n",
       "      <td>9128681.7</td>\n",
       "      <td>16156978.9</td>\n",
       "    </tr>\n",
       "    <tr>\n",
       "      <th>2</th>\n",
       "      <td>1982</td>\n",
       "      <td>7112799.6</td>\n",
       "      <td>9243787.1</td>\n",
       "      <td>16356586.7</td>\n",
       "    </tr>\n",
       "    <tr>\n",
       "      <th>3</th>\n",
       "      <td>1983</td>\n",
       "      <td>7471215.6</td>\n",
       "      <td>9789398.8</td>\n",
       "      <td>17260614.4</td>\n",
       "    </tr>\n",
       "    <tr>\n",
       "      <th>4</th>\n",
       "      <td>1984</td>\n",
       "      <td>7417125.2</td>\n",
       "      <td>10614739.1</td>\n",
       "      <td>18031864.3</td>\n",
       "    </tr>\n",
       "  </tbody>\n",
       "</table>\n",
       "</div>"
      ],
      "text/plain": [
       "   Year      Rural       Urban       Total\n",
       "0  1980  6598173.2   8491214.5  15089387.6\n",
       "1  1981  7028297.3   9128681.7  16156978.9\n",
       "2  1982  7112799.6   9243787.1  16356586.7\n",
       "3  1983  7471215.6   9789398.8  17260614.4\n",
       "4  1984  7417125.2  10614739.1  18031864.3"
      ]
     },
     "execution_count": 52,
     "metadata": {},
     "output_type": "execute_result"
    }
   ],
   "source": [
    "AVMT.head()"
   ]
  },
  {
   "cell_type": "code",
   "execution_count": 53,
   "metadata": {
    "collapsed": false
   },
   "outputs": [],
   "source": [
    "TotalTruck = TTT[TTT.loc[:, 'County'] == 0]"
   ]
  },
  {
   "cell_type": "code",
   "execution_count": 54,
   "metadata": {
    "collapsed": false
   },
   "outputs": [],
   "source": [
    "AllVehicles = AllT[AllT.loc[:, 'County'].isnull()]"
   ]
  },
  {
   "cell_type": "code",
   "execution_count": 55,
   "metadata": {
    "collapsed": false
   },
   "outputs": [],
   "source": [
    "SingleUT = SUTB[SUTB.loc[:, 'County'] == 0]"
   ]
  },
  {
   "cell_type": "code",
   "execution_count": 56,
   "metadata": {
    "collapsed": true
   },
   "outputs": [],
   "source": [
    "DoubleUT = DUT[DUT.loc[:, 'County'] == 0]"
   ]
  },
  {
   "cell_type": "code",
   "execution_count": 57,
   "metadata": {
    "collapsed": false
   },
   "outputs": [],
   "source": [
    "TripleUT = TUT[TUT.loc[:, 'County'] == 0]"
   ]
  },
  {
   "cell_type": "code",
   "execution_count": 58,
   "metadata": {
    "collapsed": false
   },
   "outputs": [],
   "source": [
    "# TripleUT"
   ]
  },
  {
   "cell_type": "code",
   "execution_count": 59,
   "metadata": {
    "collapsed": false
   },
   "outputs": [],
   "source": [
    "# sute"
   ]
  },
  {
   "cell_type": "code",
   "execution_count": 60,
   "metadata": {
    "collapsed": true
   },
   "outputs": [],
   "source": [
    "def createDF(df):\n",
    "    ndf = df[['TEsals']]\n",
    "    ndf.loc[:,'Rural'] =  np.array(df[['RC']]) + np.array(df[['RI']]) + np.array(df[['RMA']]) + np.array(df[['RPA']])\n",
    "    ndf.loc[:,'Urban'] =  np.array(df[['UC']]) + np.array(df[['UI']]) + np.array(df[['UMA']]) + np.array(df[['UPA']])\n",
    "    return ndf"
   ]
  },
  {
   "cell_type": "code",
   "execution_count": 61,
   "metadata": {
    "collapsed": false
   },
   "outputs": [
    {
     "name": "stderr",
     "output_type": "stream",
     "text": [
      "/home/guerrero/anaconda/lib/python2.7/site-packages/pandas/core/indexing.py:490: SettingWithCopyWarning: \n",
      "A value is trying to be set on a copy of a slice from a DataFrame.\n",
      "Try using .loc[row_indexer,col_indexer] = value instead\n",
      "\n",
      "See the the caveats in the documentation: http://pandas.pydata.org/pandas-docs/stable/indexing.html#indexing-view-versus-copy\n",
      "  self.obj[item_labels[indexer[info_axis]]] = value\n"
     ]
    }
   ],
   "source": [
    "sute = createDF(SingleUT)\n",
    "dute = createDF(DoubleUT)\n",
    "tute = createDF(TripleUT)"
   ]
  },
  {
   "cell_type": "code",
   "execution_count": 62,
   "metadata": {
    "collapsed": false
   },
   "outputs": [],
   "source": [
    "totalEsals = sute.add(dute).add(tute)"
   ]
  },
  {
   "cell_type": "code",
   "execution_count": 63,
   "metadata": {
    "collapsed": false
   },
   "outputs": [
    {
     "data": {
      "text/html": [
       "<div>\n",
       "<table border=\"1\" class=\"dataframe\">\n",
       "  <thead>\n",
       "    <tr style=\"text-align: right;\">\n",
       "      <th></th>\n",
       "      <th>TEsals</th>\n",
       "      <th>Rural</th>\n",
       "      <th>Urban</th>\n",
       "    </tr>\n",
       "  </thead>\n",
       "  <tbody>\n",
       "    <tr>\n",
       "      <th>2014-Total</th>\n",
       "      <td>2.111570e+09</td>\n",
       "      <td>1.117035e+09</td>\n",
       "      <td>9.221564e+08</td>\n",
       "    </tr>\n",
       "    <tr>\n",
       "      <th>2013-Total</th>\n",
       "      <td>2.142351e+09</td>\n",
       "      <td>1.115288e+09</td>\n",
       "      <td>9.210958e+08</td>\n",
       "    </tr>\n",
       "    <tr>\n",
       "      <th>2012-Total</th>\n",
       "      <td>2.279157e+09</td>\n",
       "      <td>1.277644e+09</td>\n",
       "      <td>9.953212e+08</td>\n",
       "    </tr>\n",
       "    <tr>\n",
       "      <th>2011-Total</th>\n",
       "      <td>2.305823e+09</td>\n",
       "      <td>1.286392e+09</td>\n",
       "      <td>1.004837e+09</td>\n",
       "    </tr>\n",
       "    <tr>\n",
       "      <th>2010-Total</th>\n",
       "      <td>2.347753e+09</td>\n",
       "      <td>1.310583e+09</td>\n",
       "      <td>1.024734e+09</td>\n",
       "    </tr>\n",
       "    <tr>\n",
       "      <th>2009-Total</th>\n",
       "      <td>2.334538e+09</td>\n",
       "      <td>1.303931e+09</td>\n",
       "      <td>1.018388e+09</td>\n",
       "    </tr>\n",
       "    <tr>\n",
       "      <th>2008-Total</th>\n",
       "      <td>2.313218e+09</td>\n",
       "      <td>1.279818e+09</td>\n",
       "      <td>1.016014e+09</td>\n",
       "    </tr>\n",
       "    <tr>\n",
       "      <th>2007-Total</th>\n",
       "      <td>2.432127e+09</td>\n",
       "      <td>1.344113e+09</td>\n",
       "      <td>1.086723e+09</td>\n",
       "    </tr>\n",
       "    <tr>\n",
       "      <th>2006-Total</th>\n",
       "      <td>2.364252e+09</td>\n",
       "      <td>1.289487e+09</td>\n",
       "      <td>1.049294e+09</td>\n",
       "    </tr>\n",
       "    <tr>\n",
       "      <th>2005-Total</th>\n",
       "      <td>2.320898e+09</td>\n",
       "      <td>1.252142e+09</td>\n",
       "      <td>1.031908e+09</td>\n",
       "    </tr>\n",
       "    <tr>\n",
       "      <th>2004-Total</th>\n",
       "      <td>2.269868e+09</td>\n",
       "      <td>1.227563e+09</td>\n",
       "      <td>1.001114e+09</td>\n",
       "    </tr>\n",
       "  </tbody>\n",
       "</table>\n",
       "</div>"
      ],
      "text/plain": [
       "                  TEsals         Rural         Urban\n",
       "2014-Total  2.111570e+09  1.117035e+09  9.221564e+08\n",
       "2013-Total  2.142351e+09  1.115288e+09  9.210958e+08\n",
       "2012-Total  2.279157e+09  1.277644e+09  9.953212e+08\n",
       "2011-Total  2.305823e+09  1.286392e+09  1.004837e+09\n",
       "2010-Total  2.347753e+09  1.310583e+09  1.024734e+09\n",
       "2009-Total  2.334538e+09  1.303931e+09  1.018388e+09\n",
       "2008-Total  2.313218e+09  1.279818e+09  1.016014e+09\n",
       "2007-Total  2.432127e+09  1.344113e+09  1.086723e+09\n",
       "2006-Total  2.364252e+09  1.289487e+09  1.049294e+09\n",
       "2005-Total  2.320898e+09  1.252142e+09  1.031908e+09\n",
       "2004-Total  2.269868e+09  1.227563e+09  1.001114e+09"
      ]
     },
     "execution_count": 63,
     "metadata": {},
     "output_type": "execute_result"
    }
   ],
   "source": [
    "totalEsals"
   ]
  },
  {
   "cell_type": "code",
   "execution_count": 64,
   "metadata": {
    "collapsed": false
   },
   "outputs": [],
   "source": [
    "tttraffic = TotalTruck[['Total']]"
   ]
  },
  {
   "cell_type": "code",
   "execution_count": 65,
   "metadata": {
    "collapsed": false
   },
   "outputs": [
    {
     "data": {
      "text/plain": [
       "Index([         u'Rural Collector',          u'Urban Collector',\n",
       "               u'Rural Interstate',         u'Urban Interstate',\n",
       "           u'Rural Minor Arterial',     u'Urban Minor Arterial',\n",
       "       u'Rural Principle Arterial', u'Urban Principle Arterial',\n",
       "                          u'Total',                   u'County',\n",
       "                           u'Year'],\n",
       "      dtype='object')"
      ]
     },
     "execution_count": 65,
     "metadata": {},
     "output_type": "execute_result"
    }
   ],
   "source": [
    "TotalTruck.columns"
   ]
  },
  {
   "cell_type": "code",
   "execution_count": 66,
   "metadata": {
    "collapsed": true
   },
   "outputs": [],
   "source": [
    "def getTV(df):    \n",
    "    ndf = df[['Total']]\n",
    "    ndf.loc[:,'Rural'] =  np.array(df[['Rural Collector']]) + np.array(df[['Rural Interstate']]) + np.array(df[['Rural Minor Arterial']]) + np.array(df[['Rural Principle Arterial']])\n",
    "    ndf.loc[:,'Urban'] =  np.array(df[['Urban Collector']]) + np.array(df[['Urban Interstate']]) + np.array(df[['Urban Minor Arterial']]) + np.array(df[['Urban Principle Arterial']])\n",
    "    return ndf"
   ]
  },
  {
   "cell_type": "code",
   "execution_count": 67,
   "metadata": {
    "collapsed": false
   },
   "outputs": [],
   "source": [
    "ttv = getTV(TotalTruck)\n",
    "alltv = getTV(AllVehicles)\n",
    "ttv.index = range(len(ttv))\n",
    "alltv.index = range(len(ttv))\n",
    "truckPercent = ttv"
   ]
  },
  {
   "cell_type": "code",
   "execution_count": 68,
   "metadata": {
    "collapsed": true
   },
   "outputs": [],
   "source": [
    "def getRation(df, item):\n",
    "    for i in range(len(df)):\n",
    "        df.loc[i, item] = float(np.array(ttv.loc[i, item]))/float(np.array(alltv.loc[i, item]))"
   ]
  },
  {
   "cell_type": "code",
   "execution_count": 69,
   "metadata": {
    "collapsed": false
   },
   "outputs": [],
   "source": [
    "# item = 'Rural'\n",
    "# float(np.array(ttv.loc[0, item]))"
   ]
  },
  {
   "cell_type": "code",
   "execution_count": 70,
   "metadata": {
    "collapsed": false
   },
   "outputs": [
    {
     "name": "stderr",
     "output_type": "stream",
     "text": [
      "/home/guerrero/anaconda/lib/python2.7/site-packages/pandas/core/indexing.py:115: SettingWithCopyWarning: \n",
      "A value is trying to be set on a copy of a slice from a DataFrame\n",
      "\n",
      "See the the caveats in the documentation: http://pandas.pydata.org/pandas-docs/stable/indexing.html#indexing-view-versus-copy\n",
      "  self._setitem_with_indexer(indexer, value)\n",
      "/home/guerrero/anaconda/lib/python2.7/site-packages/IPython/kernel/__main__.py:3: SettingWithCopyWarning: \n",
      "A value is trying to be set on a copy of a slice from a DataFrame\n",
      "\n",
      "See the the caveats in the documentation: http://pandas.pydata.org/pandas-docs/stable/indexing.html#indexing-view-versus-copy\n",
      "  app.launch_new_instance()\n"
     ]
    }
   ],
   "source": [
    "for item in list(ttv.columns):\n",
    "    getRation(truckPercent,item)"
   ]
  },
  {
   "cell_type": "code",
   "execution_count": 71,
   "metadata": {
    "collapsed": false
   },
   "outputs": [],
   "source": [
    "# truckPercent"
   ]
  },
  {
   "cell_type": "code",
   "execution_count": 72,
   "metadata": {
    "collapsed": false
   },
   "outputs": [],
   "source": [
    "# Percentage of Truck Miles Travelled from Total Vehicle Miles travelled\n",
    "pRural = list(truckPercent[['Rural']].mean())[0]\n",
    "pUrban = list(truckPercent[['Urban']].mean())[0]\n",
    "pTotal = list(truckPercent[['Total']].mean())[0]"
   ]
  },
  {
   "cell_type": "code",
   "execution_count": 73,
   "metadata": {
    "collapsed": false
   },
   "outputs": [],
   "source": [
    "ttv = getTV(TotalTruck)\n",
    "ttv.index = range(len(ttv))\n",
    "totalEsals.index = range(len(ttv))"
   ]
  },
  {
   "cell_type": "code",
   "execution_count": 74,
   "metadata": {
    "collapsed": false
   },
   "outputs": [],
   "source": [
    "totalEsals. columns = ttv.columns"
   ]
  },
  {
   "cell_type": "code",
   "execution_count": 75,
   "metadata": {
    "collapsed": true
   },
   "outputs": [],
   "source": [
    "#this function determines the ration of total esals to the truck traffic\n",
    "def getRateTE(df, item):\n",
    "    for i in range(len(df)):\n",
    "        df.loc[i, item] = float(np.array(totalEsals.loc[i, item]))/float(np.array(ttv.loc[i, item]))"
   ]
  },
  {
   "cell_type": "code",
   "execution_count": 76,
   "metadata": {
    "collapsed": true
   },
   "outputs": [],
   "source": [
    "fracTTandESALs = ttv.copy()"
   ]
  },
  {
   "cell_type": "code",
   "execution_count": 77,
   "metadata": {
    "collapsed": false
   },
   "outputs": [],
   "source": [
    "for item in list(ttv.columns):\n",
    "    getRateTE(fracTTandESALs,item)"
   ]
  },
  {
   "cell_type": "code",
   "execution_count": 78,
   "metadata": {
    "collapsed": false
   },
   "outputs": [],
   "source": [
    "# Fraction of ESALs from Truck Miles Travelled\n",
    "fRural = list(fracTTandESALs[['Rural']].mean())[0]\n",
    "fUrban = list(fracTTandESALs[['Urban']].mean())[0]\n",
    "fTotal = list(fracTTandESALs[['Total']].mean())[0]"
   ]
  },
  {
   "cell_type": "code",
   "execution_count": 79,
   "metadata": {
    "collapsed": false
   },
   "outputs": [],
   "source": [
    "# fracTTandESALs"
   ]
  },
  {
   "cell_type": "code",
   "execution_count": 94,
   "metadata": {
    "collapsed": false
   },
   "outputs": [
    {
     "data": {
      "text/html": [
       "<div>\n",
       "<table border=\"1\" class=\"dataframe\">\n",
       "  <thead>\n",
       "    <tr style=\"text-align: right;\">\n",
       "      <th></th>\n",
       "      <th>Year</th>\n",
       "      <th>Rural</th>\n",
       "      <th>Urban</th>\n",
       "      <th>Total</th>\n",
       "      <th>ruralTMT</th>\n",
       "      <th>urbanTMT</th>\n",
       "      <th>totalTMT</th>\n",
       "      <th>rESALs</th>\n",
       "      <th>uESALs</th>\n",
       "      <th>tESALs</th>\n",
       "      <th>pRural</th>\n",
       "      <th>pUrban</th>\n",
       "      <th>pTotal</th>\n",
       "    </tr>\n",
       "  </thead>\n",
       "  <tbody>\n",
       "    <tr>\n",
       "      <th>0</th>\n",
       "      <td>1980</td>\n",
       "      <td>6598173.2</td>\n",
       "      <td>8491214.5</td>\n",
       "      <td>15089387.6</td>\n",
       "      <td>1095738.317765</td>\n",
       "      <td>700176.161462</td>\n",
       "      <td>1691903.176381</td>\n",
       "      <td>739952.237659</td>\n",
       "      <td>419523.945046</td>\n",
       "      <td>1096669.995277</td>\n",
       "      <td>NaN</td>\n",
       "      <td>NaN</td>\n",
       "      <td>NaN</td>\n",
       "    </tr>\n",
       "    <tr>\n",
       "      <th>1</th>\n",
       "      <td>1981</td>\n",
       "      <td>7028297.3</td>\n",
       "      <td>9128681.7</td>\n",
       "      <td>16156978.9</td>\n",
       "      <td>1167167.703366</td>\n",
       "      <td>752741.002116</td>\n",
       "      <td>1811607.246514</td>\n",
       "      <td>788188.511643</td>\n",
       "      <td>451019.175155</td>\n",
       "      <td>1174260.642225</td>\n",
       "      <td>0.065188</td>\n",
       "      <td>0.075074</td>\n",
       "      <td>0.070751</td>\n",
       "    </tr>\n",
       "    <tr>\n",
       "      <th>2</th>\n",
       "      <td>1982</td>\n",
       "      <td>7112799.6</td>\n",
       "      <td>9243787.1</td>\n",
       "      <td>16356586.7</td>\n",
       "      <td>1181200.740275</td>\n",
       "      <td>762232.466162</td>\n",
       "      <td>1833988.345059</td>\n",
       "      <td>797665.023410</td>\n",
       "      <td>456706.167458</td>\n",
       "      <td>1188767.783991</td>\n",
       "      <td>0.012023</td>\n",
       "      <td>0.012609</td>\n",
       "      <td>0.012354</td>\n",
       "    </tr>\n",
       "    <tr>\n",
       "      <th>3</th>\n",
       "      <td>1983</td>\n",
       "      <td>7471215.6</td>\n",
       "      <td>9789398.8</td>\n",
       "      <td>17260614.4</td>\n",
       "      <td>1240721.782387</td>\n",
       "      <td>807223.003824</td>\n",
       "      <td>1935352.785930</td>\n",
       "      <td>837859.591387</td>\n",
       "      <td>483663.108994</td>\n",
       "      <td>1254470.917861</td>\n",
       "      <td>0.050390</td>\n",
       "      <td>0.059025</td>\n",
       "      <td>0.055270</td>\n",
       "    </tr>\n",
       "    <tr>\n",
       "      <th>4</th>\n",
       "      <td>1984</td>\n",
       "      <td>7417125.2</td>\n",
       "      <td>10614739.1</td>\n",
       "      <td>18031864.3</td>\n",
       "      <td>1231739.156120</td>\n",
       "      <td>875279.652629</td>\n",
       "      <td>2021829.466773</td>\n",
       "      <td>831793.622626</td>\n",
       "      <td>524440.552393</td>\n",
       "      <td>1310523.996131</td>\n",
       "      <td>-0.007240</td>\n",
       "      <td>0.084310</td>\n",
       "      <td>0.044683</td>\n",
       "    </tr>\n",
       "  </tbody>\n",
       "</table>\n",
       "</div>"
      ],
      "text/plain": [
       "   Year      Rural       Urban       Total        ruralTMT       urbanTMT  \\\n",
       "0  1980  6598173.2   8491214.5  15089387.6  1095738.317765  700176.161462   \n",
       "1  1981  7028297.3   9128681.7  16156978.9  1167167.703366  752741.002116   \n",
       "2  1982  7112799.6   9243787.1  16356586.7  1181200.740275  762232.466162   \n",
       "3  1983  7471215.6   9789398.8  17260614.4  1240721.782387  807223.003824   \n",
       "4  1984  7417125.2  10614739.1  18031864.3  1231739.156120  875279.652629   \n",
       "\n",
       "         totalTMT         rESALs         uESALs          tESALs    pRural  \\\n",
       "0  1691903.176381  739952.237659  419523.945046  1096669.995277       NaN   \n",
       "1  1811607.246514  788188.511643  451019.175155  1174260.642225  0.065188   \n",
       "2  1833988.345059  797665.023410  456706.167458  1188767.783991  0.012023   \n",
       "3  1935352.785930  837859.591387  483663.108994  1254470.917861  0.050390   \n",
       "4  2021829.466773  831793.622626  524440.552393  1310523.996131 -0.007240   \n",
       "\n",
       "     pUrban    pTotal  \n",
       "0       NaN       NaN  \n",
       "1  0.075074  0.070751  \n",
       "2  0.012609  0.012354  \n",
       "3  0.059025  0.055270  \n",
       "4  0.084310  0.044683  "
      ]
     },
     "execution_count": 94,
     "metadata": {},
     "output_type": "execute_result"
    }
   ],
   "source": [
    "AVMT.head()"
   ]
  },
  {
   "cell_type": "code",
   "execution_count": 81,
   "metadata": {
    "collapsed": false
   },
   "outputs": [],
   "source": [
    "# Converts total vehicle miles travelled to truck miles travelled using the factors obtained above\n",
    "AVMT[['ruralTMT']] = AVMT[['Rural']] * pRural\n",
    "AVMT[['urbanTMT']] = AVMT[['Urban']] * pUrban\n",
    "AVMT[['totalTMT']] = AVMT[['Total']] * pTotal"
   ]
  },
  {
   "cell_type": "code",
   "execution_count": 82,
   "metadata": {
    "collapsed": true
   },
   "outputs": [],
   "source": [
    "# Converts truck miles travelled to total esals using the ratios obtained above\n",
    "AVMT[['rESALs']]  = AVMT[['ruralTMT']] * fRural\n",
    "AVMT[['uESALs']]  = AVMT[['urbanTMT']] * fUrban\n",
    "AVMT[['tESALs']]  = AVMT[['totalTMT']] * fTotal"
   ]
  },
  {
   "cell_type": "code",
   "execution_count": 83,
   "metadata": {
    "collapsed": false
   },
   "outputs": [],
   "source": [
    "import matplotlib.pyplot as plt\n",
    "plt.plot(AVMT[['rESALs']], 'ro')\n",
    "# plt.axis([0, 6, 0, 20])\n",
    "plt.show()"
   ]
  },
  {
   "cell_type": "code",
   "execution_count": 89,
   "metadata": {
    "collapsed": true
   },
   "outputs": [],
   "source": [
    "plt.plot(AVMT[['tESALs']], 'ro')\n",
    "# plt.axis([0, 6, 0, 20])\n",
    "plt.show()"
   ]
  },
  {
   "cell_type": "code",
   "execution_count": 93,
   "metadata": {
    "collapsed": true
   },
   "outputs": [],
   "source": [
    "for index in range(len(AVMT))[1:]:\n",
    "    #esal percentage increase\n",
    "    AVMT.loc[index, 'pRural'] = (AVMT.loc[index, 'rESALs'] - AVMT.loc[(index-1), 'rESALs'])/AVMT.loc[(index-1), 'rESALs']\n",
    "    AVMT.loc[index, 'pUrban'] = (AVMT.loc[index, 'uESALs'] - AVMT.loc[(index-1), 'uESALs'])/AVMT.loc[(index-1), 'uESALs']\n",
    "    AVMT.loc[index, 'pTotal'] = (AVMT.loc[index, 'tESALs'] - AVMT.loc[(index-1), 'tESALs'])/AVMT.loc[(index-1), 'tESALs']"
   ]
  },
  {
   "cell_type": "code",
   "execution_count": 97,
   "metadata": {
    "collapsed": true
   },
   "outputs": [],
   "source": [
    "import matplotlib.pyplot as plt\n",
    "plt.plot(AVMT[['Year']], AVMT[['pUrban']],'ro')\n",
    "# plt.axis([0, 6, 0, 20])\n",
    "plt.show()"
   ]
  },
  {
   "cell_type": "code",
   "execution_count": 98,
   "metadata": {
    "collapsed": true
   },
   "outputs": [],
   "source": [
    "AVMT.to_excel(\"../DataFiles/EsalIncrements.xlsx\")"
   ]
  },
  {
   "cell_type": "code",
   "execution_count": null,
   "metadata": {
    "collapsed": true
   },
   "outputs": [],
   "source": []
  }
 ],
 "metadata": {
  "kernelspec": {
   "display_name": "Python 2",
   "language": "python",
   "name": "python2"
  },
  "language_info": {
   "codemirror_mode": {
    "name": "ipython",
    "version": 2
   },
   "file_extension": ".py",
   "mimetype": "text/x-python",
   "name": "python",
   "nbconvert_exporter": "python",
   "pygments_lexer": "ipython2",
   "version": "2.7.10"
  }
 },
 "nbformat": 4,
 "nbformat_minor": 0
}
