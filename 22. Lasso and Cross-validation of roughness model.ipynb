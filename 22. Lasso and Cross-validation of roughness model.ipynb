{
 "cells": [
  {
   "cell_type": "code",
   "execution_count": 27,
   "metadata": {
    "collapsed": false
   },
   "outputs": [
    {
     "name": "stdout",
     "output_type": "stream",
     "text": [
      "Automatically created module for IPython interactive environment\n"
     ]
    }
   ],
   "source": [
    "from __future__ import print_function\n",
    "print(__doc__)\n",
    "\n",
    "import numpy as np\n",
    "import matplotlib.pyplot as plt\n",
    "\n",
    "from sklearn import cross_validation, datasets, linear_model\n"
   ]
  },
  {
   "cell_type": "code",
   "execution_count": 28,
   "metadata": {
    "collapsed": true
   },
   "outputs": [],
   "source": [
    "diabetes = datasets.load_diabetes()\n",
    "X = diabetes.data[:150]\n",
    "y = diabetes.target[:150]\n",
    "\n",
    "lasso = linear_model.Lasso()\n",
    "alphas = np.logspace(-4, -.5, 30)\n",
    "\n",
    "scores = list()\n",
    "scores_std = list()\n",
    "\n",
    "for alpha in alphas:\n",
    "    lasso.alpha = alpha\n",
    "    this_scores = cross_validation.cross_val_score(lasso, X, y, n_jobs=-1)\n",
    "    scores.append(np.mean(this_scores))\n",
    "    scores_std.append(np.std(this_scores))\n"
   ]
  },
  {
   "cell_type": "code",
   "execution_count": 29,
   "metadata": {
    "collapsed": false
   },
   "outputs": [
    {
     "data": {
      "image/png": "[encoded data removed]",
      "text/plain": [
       "<matplotlib.figure.Figure at 0x109fc7350>"
      ]
     },
     "metadata": {},
     "output_type": "display_data"
    }
   ],
   "source": [
    "%matplotlib inline\n",
    "plt.figure(figsize=(4, 3))\n",
    "plt.semilogx(alphas, scores)\n",
    "# plot error lines showing +/- std. errors of the scores\n",
    "plt.semilogx(alphas, np.array(scores) + np.array(scores_std) / np.sqrt(len(X)),\n",
    "             'b--')\n",
    "plt.semilogx(alphas, np.array(scores) - np.array(scores_std) / np.sqrt(len(X)),\n",
    "             'b--')\n",
    "plt.ylabel('CV score')\n",
    "plt.xlabel('alpha')\n",
    "plt.axhline(np.max(scores), linestyle='--', color='.5')\n",
    "\n",
    "plt.show()"
   ]
  },
  {
   "cell_type": "code",
   "execution_count": 30,
   "metadata": {
    "collapsed": false
   },
   "outputs": [
    {
     "name": "stdout",
     "output_type": "stream",
     "text": [
      "Answer to the bonus question: how much can you trust the selection of alpha?\n",
      "\n",
      "Alpha parameters maximising the generalization score on different\n",
      "subsets of the data:\n",
      "[fold 0] alpha: 0.10405, score: 0.53573\n",
      "[fold 1] alpha: 0.05968, score: 0.16278\n",
      "[fold 2] alpha: 0.10405, score: 0.44437\n",
      "\n",
      "Answer: Not very much since we obtained different alphas for different\n",
      "subsets of the data and moreover, the scores for these alphas differ\n",
      "quite substantially.\n"
     ]
    }
   ],
   "source": [
    "\n",
    "##############################################################################\n",
    "# Bonus: how much can you trust the selection of alpha?\n",
    "\n",
    "# To answer this question we use the LassoCV object that sets its alpha\n",
    "# parameter automatically from the data by internal cross-validation (i.e. it\n",
    "# performs cross-validation on the training data it receives).\n",
    "# We use external cross-validation to see how much the automatically obtained\n",
    "# alphas differ across different cross-validation folds.\n",
    "lasso_cv = linear_model.LassoCV(alphas=alphas)\n",
    "k_fold = cross_validation.KFold(len(X), 3)\n",
    "\n",
    "print(\"Answer to the bonus question:\",\n",
    "      \"how much can you trust the selection of alpha?\")\n",
    "print()\n",
    "print(\"Alpha parameters maximising the generalization score on different\")\n",
    "print(\"subsets of the data:\")\n",
    "for k, (train, test) in enumerate(k_fold):\n",
    "    lasso_cv.fit(X[train], y[train])\n",
    "    print(\"[fold {0}] alpha: {1:.5f}, score: {2:.5f}\".\n",
    "          format(k, lasso_cv.alpha_, lasso_cv.score(X[test], y[test])))\n",
    "print()\n",
    "print(\"Answer: Not very much since we obtained different alphas for different\")\n",
    "print(\"subsets of the data and moreover, the scores for these alphas differ\")\n",
    "print(\"quite substantially.\")\n"
   ]
  },
  {
   "cell_type": "code",
   "execution_count": 31,
   "metadata": {
    "collapsed": false
   },
   "outputs": [
    {
     "data": {
      "text/plain": [
       "array([[ 0.03807591,  0.05068012,  0.06169621, ..., -0.00259226,\n",
       "         0.01990842, -0.01764613],\n",
       "       [-0.00188202, -0.04464164, -0.05147406, ..., -0.03949338,\n",
       "        -0.06832974, -0.09220405],\n",
       "       [ 0.08529891,  0.05068012,  0.04445121, ..., -0.00259226,\n",
       "         0.00286377, -0.02593034],\n",
       "       ..., \n",
       "       [-0.05637009, -0.04464164,  0.09295276, ...,  0.02545259,\n",
       "         0.02605609,  0.04034337],\n",
       "       [-0.06000263,  0.05068012,  0.01535029, ..., -0.00259226,\n",
       "        -0.03075121, -0.0010777 ],\n",
       "       [-0.04910502,  0.05068012, -0.00512814, ...,  0.07120998,\n",
       "         0.06123791, -0.03835666]])"
      ]
     },
     "execution_count": 31,
     "metadata": {},
     "output_type": "execute_result"
    }
   ],
   "source": [
    "X"
   ]
  },
  {
   "cell_type": "code",
   "execution_count": 32,
   "metadata": {
    "collapsed": false
   },
   "outputs": [
    {
     "data": {
      "text/plain": [
       "array([ 151.,   75.,  141.,  206.,  135.,   97.,  138.,   63.,  110.,\n",
       "        310.,  101.,   69.,  179.,  185.,  118.,  171.,  166.,  144.,\n",
       "         97.,  168.,   68.,   49.,   68.,  245.,  184.,  202.,  137.,\n",
       "         85.,  131.,  283.,  129.,   59.,  341.,   87.,   65.,  102.,\n",
       "        265.,  276.,  252.,   90.,  100.,   55.,   61.,   92.,  259.,\n",
       "         53.,  190.,  142.,   75.,  142.,  155.,  225.,   59.,  104.,\n",
       "        182.,  128.,   52.,   37.,  170.,  170.,   61.,  144.,   52.,\n",
       "        128.,   71.,  163.,  150.,   97.,  160.,  178.,   48.,  270.,\n",
       "        202.,  111.,   85.,   42.,  170.,  200.,  252.,  113.,  143.,\n",
       "         51.,   52.,  210.,   65.,  141.,   55.,  134.,   42.,  111.,\n",
       "         98.,  164.,   48.,   96.,   90.,  162.,  150.,  279.,   92.,\n",
       "         83.,  128.,  102.,  302.,  198.,   95.,   53.,  134.,  144.,\n",
       "        232.,   81.,  104.,   59.,  246.,  297.,  258.,  229.,  275.,\n",
       "        281.,  179.,  200.,  200.,  173.,  180.,   84.,  121.,  161.,\n",
       "         99.,  109.,  115.,  268.,  274.,  158.,  107.,   83.,  103.,\n",
       "        272.,   85.,  280.,  336.,  281.,  118.,  317.,  235.,   60.,\n",
       "        174.,  259.,  178.,  128.,   96.,  126.])"
      ]
     },
     "execution_count": 32,
     "metadata": {},
     "output_type": "execute_result"
    }
   ],
   "source": [
    "y"
   ]
  },
  {
   "cell_type": "code",
   "execution_count": 33,
   "metadata": {
    "collapsed": true
   },
   "outputs": [],
   "source": [
    "#importing roughness dataset\n",
    "import pandas as pd\n",
    "\n",
    "d1 = pd.read_csv('../modelDatasets/rcModelData1215.csv')\n",
    "d2 = pd.read_csv('../modelDatasets/weatherCovs1988_99.csv')"
   ]
  },
  {
   "cell_type": "code",
   "execution_count": 34,
   "metadata": {
    "collapsed": false
   },
   "outputs": [
    {
     "data": {
      "text/html": [
       "<div>\n",
       "<table border=\"1\" class=\"dataframe\">\n",
       "  <thead>\n",
       "    <tr style=\"text-align: right;\">\n",
       "      <th></th>\n",
       "      <th>Unnamed: 0</th>\n",
       "      <th>UID</th>\n",
       "      <th>sYear</th>\n",
       "      <th>Rutting</th>\n",
       "      <th>IRI</th>\n",
       "      <th>PSC</th>\n",
       "      <th>Alli</th>\n",
       "      <th>Long</th>\n",
       "      <th>Is Bridge</th>\n",
       "      <th>Lane Miles</th>\n",
       "      <th>...</th>\n",
       "      <th>IRIsi</th>\n",
       "      <th>esals</th>\n",
       "      <th>ppt</th>\n",
       "      <th>mint</th>\n",
       "      <th>maxt</th>\n",
       "      <th>ICAO</th>\n",
       "      <th>ftc</th>\n",
       "      <th>SR</th>\n",
       "      <th>Begin ARM</th>\n",
       "      <th>End ARM</th>\n",
       "    </tr>\n",
       "  </thead>\n",
       "  <tbody>\n",
       "    <tr>\n",
       "      <th>0</th>\n",
       "      <td>25095</td>\n",
       "      <td>1</td>\n",
       "      <td>1988</td>\n",
       "      <td>0.748</td>\n",
       "      <td>17.736993</td>\n",
       "      <td>67</td>\n",
       "      <td>0.001370</td>\n",
       "      <td>0.056856</td>\n",
       "      <td>0</td>\n",
       "      <td>0.36</td>\n",
       "      <td>...</td>\n",
       "      <td>3.359280</td>\n",
       "      <td>17996.598271</td>\n",
       "      <td>918.010010</td>\n",
       "      <td>33.584</td>\n",
       "      <td>74.336001</td>\n",
       "      <td>KPAE</td>\n",
       "      <td>5</td>\n",
       "      <td>2</td>\n",
       "      <td>0</td>\n",
       "      <td>0.1</td>\n",
       "    </tr>\n",
       "    <tr>\n",
       "      <th>1</th>\n",
       "      <td>26540</td>\n",
       "      <td>1</td>\n",
       "      <td>1989</td>\n",
       "      <td>0.236</td>\n",
       "      <td>17.736993</td>\n",
       "      <td>82</td>\n",
       "      <td>0.000000</td>\n",
       "      <td>0.029924</td>\n",
       "      <td>0</td>\n",
       "      <td>0.36</td>\n",
       "      <td>...</td>\n",
       "      <td>3.359280</td>\n",
       "      <td>18686.830557</td>\n",
       "      <td>833.750000</td>\n",
       "      <td>26.042</td>\n",
       "      <td>72.968000</td>\n",
       "      <td>KPAE</td>\n",
       "      <td>11</td>\n",
       "      <td>2</td>\n",
       "      <td>0</td>\n",
       "      <td>0.1</td>\n",
       "    </tr>\n",
       "    <tr>\n",
       "      <th>2</th>\n",
       "      <td>28193</td>\n",
       "      <td>1</td>\n",
       "      <td>1990</td>\n",
       "      <td>0.236</td>\n",
       "      <td>18.159243</td>\n",
       "      <td>82</td>\n",
       "      <td>0.000000</td>\n",
       "      <td>0.029924</td>\n",
       "      <td>0</td>\n",
       "      <td>0.36</td>\n",
       "      <td>...</td>\n",
       "      <td>3.439252</td>\n",
       "      <td>19088.431115</td>\n",
       "      <td>1106.859985</td>\n",
       "      <td>28.454</td>\n",
       "      <td>76.333998</td>\n",
       "      <td>KPAE</td>\n",
       "      <td>18</td>\n",
       "      <td>2</td>\n",
       "      <td>0</td>\n",
       "      <td>0.1</td>\n",
       "    </tr>\n",
       "    <tr>\n",
       "      <th>3</th>\n",
       "      <td>29936</td>\n",
       "      <td>1</td>\n",
       "      <td>1991</td>\n",
       "      <td>0.236</td>\n",
       "      <td>18.159243</td>\n",
       "      <td>71</td>\n",
       "      <td>0.000000</td>\n",
       "      <td>0.056856</td>\n",
       "      <td>0</td>\n",
       "      <td>0.36</td>\n",
       "      <td>...</td>\n",
       "      <td>3.439252</td>\n",
       "      <td>19903.607821</td>\n",
       "      <td>848.960022</td>\n",
       "      <td>32.378</td>\n",
       "      <td>77.666002</td>\n",
       "      <td>KPAE</td>\n",
       "      <td>5</td>\n",
       "      <td>2</td>\n",
       "      <td>0</td>\n",
       "      <td>0.1</td>\n",
       "    </tr>\n",
       "    <tr>\n",
       "      <th>4</th>\n",
       "      <td>15536</td>\n",
       "      <td>1</td>\n",
       "      <td>1996</td>\n",
       "      <td>0.276</td>\n",
       "      <td>20.059659</td>\n",
       "      <td>66</td>\n",
       "      <td>0.010038</td>\n",
       "      <td>0.056856</td>\n",
       "      <td>0</td>\n",
       "      <td>0.36</td>\n",
       "      <td>...</td>\n",
       "      <td>3.799179</td>\n",
       "      <td>22868.344489</td>\n",
       "      <td>1188.750000</td>\n",
       "      <td>32.054</td>\n",
       "      <td>77.575999</td>\n",
       "      <td>KPAE</td>\n",
       "      <td>24</td>\n",
       "      <td>2</td>\n",
       "      <td>0</td>\n",
       "      <td>0.1</td>\n",
       "    </tr>\n",
       "  </tbody>\n",
       "</table>\n",
       "<p>5 rows × 33 columns</p>\n",
       "</div>"
      ],
      "text/plain": [
       "   Unnamed: 0  UID  sYear  Rutting        IRI  PSC      Alli      Long  \\\n",
       "0       25095    1   1988    0.748  17.736993   67  0.001370  0.056856   \n",
       "1       26540    1   1989    0.236  17.736993   82  0.000000  0.029924   \n",
       "2       28193    1   1990    0.236  18.159243   82  0.000000  0.029924   \n",
       "3       29936    1   1991    0.236  18.159243   71  0.000000  0.056856   \n",
       "4       15536    1   1996    0.276  20.059659   66  0.010038  0.056856   \n",
       "\n",
       "   Is Bridge  Lane Miles   ...        IRIsi         esals          ppt  \\\n",
       "0          0        0.36   ...     3.359280  17996.598271   918.010010   \n",
       "1          0        0.36   ...     3.359280  18686.830557   833.750000   \n",
       "2          0        0.36   ...     3.439252  19088.431115  1106.859985   \n",
       "3          0        0.36   ...     3.439252  19903.607821   848.960022   \n",
       "4          0        0.36   ...     3.799179  22868.344489  1188.750000   \n",
       "\n",
       "     mint       maxt  ICAO  ftc  SR  Begin ARM  End ARM  \n",
       "0  33.584  74.336001  KPAE    5   2          0      0.1  \n",
       "1  26.042  72.968000  KPAE   11   2          0      0.1  \n",
       "2  28.454  76.333998  KPAE   18   2          0      0.1  \n",
       "3  32.378  77.666002  KPAE    5   2          0      0.1  \n",
       "4  32.054  77.575999  KPAE   24   2          0      0.1  \n",
       "\n",
       "[5 rows x 33 columns]"
      ]
     },
     "execution_count": 34,
     "metadata": {},
     "output_type": "execute_result"
    }
   ],
   "source": [
    "d1.head()"
   ]
  },
  {
   "cell_type": "code",
   "execution_count": 35,
   "metadata": {
    "collapsed": false
   },
   "outputs": [
    {
     "data": {
      "text/html": [
       "<div>\n",
       "<table border=\"1\" class=\"dataframe\">\n",
       "  <thead>\n",
       "    <tr style=\"text-align: right;\">\n",
       "      <th></th>\n",
       "      <th>Unnamed: 0</th>\n",
       "      <th>UID</th>\n",
       "      <th>Year</th>\n",
       "      <th>latitude</th>\n",
       "      <th>longitude</th>\n",
       "      <th>A0</th>\n",
       "      <th>A1</th>\n",
       "      <th>A2</th>\n",
       "      <th>A3</th>\n",
       "      <th>B1</th>\n",
       "      <th>B2</th>\n",
       "      <th>B3</th>\n",
       "      <th>C1</th>\n",
       "      <th>C2</th>\n",
       "      <th>C3</th>\n",
       "    </tr>\n",
       "  </thead>\n",
       "  <tbody>\n",
       "    <tr>\n",
       "      <th>0</th>\n",
       "      <td>0</td>\n",
       "      <td>1</td>\n",
       "      <td>1988</td>\n",
       "      <td>47.978215</td>\n",
       "      <td>-122.169366</td>\n",
       "      <td>5</td>\n",
       "      <td>32</td>\n",
       "      <td>91</td>\n",
       "      <td>242</td>\n",
       "      <td>19</td>\n",
       "      <td>5</td>\n",
       "      <td>0</td>\n",
       "      <td>25.388300</td>\n",
       "      <td>13.78</td>\n",
       "      <td>917.990000</td>\n",
       "    </tr>\n",
       "    <tr>\n",
       "      <th>1</th>\n",
       "      <td>1</td>\n",
       "      <td>27</td>\n",
       "      <td>1988</td>\n",
       "      <td>47.978414</td>\n",
       "      <td>-122.133338</td>\n",
       "      <td>6</td>\n",
       "      <td>34</td>\n",
       "      <td>103</td>\n",
       "      <td>229</td>\n",
       "      <td>19</td>\n",
       "      <td>5</td>\n",
       "      <td>0</td>\n",
       "      <td>27.981300</td>\n",
       "      <td>13.61</td>\n",
       "      <td>976.620000</td>\n",
       "    </tr>\n",
       "    <tr>\n",
       "      <th>2</th>\n",
       "      <td>2</td>\n",
       "      <td>43</td>\n",
       "      <td>1988</td>\n",
       "      <td>47.958874</td>\n",
       "      <td>-122.102727</td>\n",
       "      <td>7</td>\n",
       "      <td>36</td>\n",
       "      <td>111</td>\n",
       "      <td>219</td>\n",
       "      <td>19</td>\n",
       "      <td>4</td>\n",
       "      <td>0</td>\n",
       "      <td>30.215501</td>\n",
       "      <td>25.36</td>\n",
       "      <td>1062.939999</td>\n",
       "    </tr>\n",
       "    <tr>\n",
       "      <th>3</th>\n",
       "      <td>3</td>\n",
       "      <td>66</td>\n",
       "      <td>1988</td>\n",
       "      <td>47.947539</td>\n",
       "      <td>-122.070079</td>\n",
       "      <td>7</td>\n",
       "      <td>36</td>\n",
       "      <td>111</td>\n",
       "      <td>219</td>\n",
       "      <td>19</td>\n",
       "      <td>4</td>\n",
       "      <td>0</td>\n",
       "      <td>30.215501</td>\n",
       "      <td>25.36</td>\n",
       "      <td>1062.939999</td>\n",
       "    </tr>\n",
       "    <tr>\n",
       "      <th>4</th>\n",
       "      <td>4</td>\n",
       "      <td>81</td>\n",
       "      <td>1988</td>\n",
       "      <td>47.922928</td>\n",
       "      <td>-122.062374</td>\n",
       "      <td>7</td>\n",
       "      <td>31</td>\n",
       "      <td>116</td>\n",
       "      <td>219</td>\n",
       "      <td>19</td>\n",
       "      <td>7</td>\n",
       "      <td>0</td>\n",
       "      <td>27.585199</td>\n",
       "      <td>21.45</td>\n",
       "      <td>1131.900003</td>\n",
       "    </tr>\n",
       "  </tbody>\n",
       "</table>\n",
       "</div>"
      ],
      "text/plain": [
       "   Unnamed: 0  UID  Year   latitude   longitude  A0  A1   A2   A3  B1  B2  B3  \\\n",
       "0           0    1  1988  47.978215 -122.169366   5  32   91  242  19   5   0   \n",
       "1           1   27  1988  47.978414 -122.133338   6  34  103  229  19   5   0   \n",
       "2           2   43  1988  47.958874 -122.102727   7  36  111  219  19   4   0   \n",
       "3           3   66  1988  47.947539 -122.070079   7  36  111  219  19   4   0   \n",
       "4           4   81  1988  47.922928 -122.062374   7  31  116  219  19   7   0   \n",
       "\n",
       "          C1     C2           C3  \n",
       "0  25.388300  13.78   917.990000  \n",
       "1  27.981300  13.61   976.620000  \n",
       "2  30.215501  25.36  1062.939999  \n",
       "3  30.215501  25.36  1062.939999  \n",
       "4  27.585199  21.45  1131.900003  "
      ]
     },
     "execution_count": 35,
     "metadata": {},
     "output_type": "execute_result"
    }
   ],
   "source": [
    "d2.head()"
   ]
  },
  {
   "cell_type": "code",
   "execution_count": 36,
   "metadata": {
    "collapsed": false
   },
   "outputs": [
    {
     "name": "stdout",
     "output_type": "stream",
     "text": [
      "True\n"
     ]
    }
   ],
   "source": [
    "dmerged = pd.merge(d1,d2, how = 'left', left_on = ['UID', 'sYear'], right_on = ['UID', 'Year'])\n",
    "print(len(dmerged) == len(d1))"
   ]
  },
  {
   "cell_type": "code",
   "execution_count": 37,
   "metadata": {
    "collapsed": false
   },
   "outputs": [
    {
     "data": {
      "text/plain": [
       "Index([u'Unnamed: 0_x', u'UID', u'sYear', u'Rutting', u'IRI', u'PSC', u'Alli',\n",
       "       u'Long', u'Is Bridge', u'Lane Miles', u'Segment Lane Miles',\n",
       "       u'ESALs Since Major Rehab', u'sfThick', u'Tthick', u'TSfThick',\n",
       "       u'STcode', u'cumPPT', u'meanMinTemp', u'meanMaxTemp', u'cumESALs',\n",
       "       u'cumFTC', u'pAlli', u'pLong', u'IRIsi', u'esals', u'ppt', u'mint',\n",
       "       u'maxt', u'ICAO', u'ftc', u'SR', u'Begin ARM', u'End ARM',\n",
       "       u'Unnamed: 0_y', u'Year', u'latitude', u'longitude', u'A0', u'A1',\n",
       "       u'A2', u'A3', u'B1', u'B2', u'B3', u'C1', u'C2', u'C3'],\n",
       "      dtype='object')"
      ]
     },
     "execution_count": 37,
     "metadata": {},
     "output_type": "execute_result"
    }
   ],
   "source": [
    "dmerged.columns"
   ]
  },
  {
   "cell_type": "code",
   "execution_count": 38,
   "metadata": {
    "collapsed": true
   },
   "outputs": [],
   "source": [
    "data = dmerged[[u'UID', u'sYear', u'Rutting', u'IRI', u'PSC', u'Alli',\n",
    "       u'Long', u'Is Bridge', u'Lane Miles', u'Segment Lane Miles',\n",
    "       u'ESALs Since Major Rehab', u'sfThick', u'Tthick', u'TSfThick',\n",
    "       u'STcode', u'cumPPT', u'meanMinTemp', u'meanMaxTemp', u'cumESALs',\n",
    "       u'cumFTC', u'pAlli', u'pLong', u'IRIsi', u'esals', u'ppt', u'mint',\n",
    "       u'maxt', u'ICAO', u'ftc', u'SR', u'Begin ARM', u'End ARM',\n",
    "       u'Unnamed: 0_y', u'Year', u'latitude', u'longitude', u'A0', u'A1',\n",
    "       u'A2', u'A3', u'B1', u'B2', u'B3', u'C1', u'C2', u'C3']]"
   ]
  },
  {
   "cell_type": "code",
   "execution_count": 39,
   "metadata": {
    "collapsed": true
   },
   "outputs": [],
   "source": [
    "data.to_csv('../modelDatasets/rdata_mod_weather_covs.csv')"
   ]
  },
  {
   "cell_type": "code",
   "execution_count": 40,
   "metadata": {
    "collapsed": false
   },
   "outputs": [],
   "source": [
    "rdata = data[['IRIsi', u'Rutting', u'Is Bridge', u'sfThick', u'Tthick', u'TSfThick', u'cumESALs',\n",
    "              u'pAlli', u'pLong', u'esals', u'A0', u'A1', u'A2', u'A3', u'B1', u'B2', u'B3', u'C1', u'C2', u'C3']]\n",
    "rdata.to_csv('../modelDatasets/rdata.csv')"
   ]
  },
  {
   "cell_type": "code",
   "execution_count": 41,
   "metadata": {
    "collapsed": true
   },
   "outputs": [],
   "source": [
    "Xm = data[[u'Rutting', u'Is Bridge', u'sfThick', u'Tthick', u'TSfThick', u'cumESALs',\n",
    "          u'pAlli', u'pLong', u'esals', u'A0', u'A1', u'A2', u'A3', u'B1', u'B2', u'B3', u'C1', u'C2', u'C3']]\n",
    "ym = np.array(data.IRIsi)"
   ]
  },
  {
   "cell_type": "code",
   "execution_count": 42,
   "metadata": {
    "collapsed": false
   },
   "outputs": [
    {
     "name": "stderr",
     "output_type": "stream",
     "text": [
      "/Users/Alan/anaconda2/lib/python2.7/site-packages/sklearn/linear_model/coordinate_descent.py:444: ConvergenceWarning: Objective did not converge. You might want to increase the number of iterations\n",
      "  ConvergenceWarning)\n",
      "/Users/Alan/anaconda2/lib/python2.7/site-packages/sklearn/linear_model/coordinate_descent.py:444: ConvergenceWarning: Objective did not converge. You might want to increase the number of iterations\n",
      "  ConvergenceWarning)\n",
      "/Users/Alan/anaconda2/lib/python2.7/site-packages/sklearn/linear_model/coordinate_descent.py:444: ConvergenceWarning: Objective did not converge. You might want to increase the number of iterations\n",
      "  ConvergenceWarning)\n",
      "/Users/Alan/anaconda2/lib/python2.7/site-packages/sklearn/linear_model/coordinate_descent.py:444: ConvergenceWarning: Objective did not converge. You might want to increase the number of iterations\n",
      "  ConvergenceWarning)\n",
      "/Users/Alan/anaconda2/lib/python2.7/site-packages/sklearn/linear_model/coordinate_descent.py:444: ConvergenceWarning: Objective did not converge. You might want to increase the number of iterations\n",
      "  ConvergenceWarning)\n"
     ]
    }
   ],
   "source": [
    "# Running the lasso model\n",
    "\n",
    "lasso = linear_model.Lasso()\n",
    "alphas = np.logspace(-4, -.5, 30)\n",
    "\n",
    "scores = list()\n",
    "scores_std = list()\n",
    "\n",
    "for alpha in alphas:\n",
    "    lasso.alpha = alpha\n",
    "    this_scores = cross_validation.cross_val_score(lasso, Xm, ym, n_jobs=-1)\n",
    "    scores.append(np.mean(this_scores))\n",
    "    scores_std.append(np.std(this_scores))"
   ]
  },
  {
   "cell_type": "code",
   "execution_count": 43,
   "metadata": {
    "collapsed": false
   },
   "outputs": [
    {
     "data": {
      "image/png": "[encoded data removed]",
      "text/plain": [
       "<matplotlib.figure.Figure at 0x109daed10>"
      ]
     },
     "metadata": {},
     "output_type": "display_data"
    }
   ],
   "source": [
    "%matplotlib inline\n",
    "plt.figure(figsize=(4, 3))\n",
    "plt.semilogx(alphas, scores)\n",
    "# plot error lines showing +/- std. errors of the scores\n",
    "plt.semilogx(alphas, np.array(scores) + np.array(scores_std) / np.sqrt(len(X)),\n",
    "             'b--')\n",
    "plt.semilogx(alphas, np.array(scores) - np.array(scores_std) / np.sqrt(len(X)),\n",
    "             'b--')\n",
    "plt.ylabel('CV score')\n",
    "plt.xlabel('alpha')\n",
    "plt.axhline(np.max(scores), linestyle='--', color='.5')\n",
    "\n",
    "plt.show()"
   ]
  },
  {
   "cell_type": "code",
   "execution_count": 50,
   "metadata": {
    "collapsed": false
   },
   "outputs": [],
   "source": [
    "#perfoming lasso-cross validation\n",
    "lasso_cv = linear_model.LassoCV(eps=0.01, n_alphas=100, alphas=None, fit_intercept=True, normalize=True, \n",
    "                                precompute='auto', max_iter=1000, copy_X=False, cv=10, \n",
    "                                verbose=False, n_jobs=-1, positive=False, random_state=None, selection='cyclic')\n",
    "model = lasso_cv.fit(Xm, ym)"
   ]
  },
  {
   "cell_type": "code",
   "execution_count": 45,
   "metadata": {
    "collapsed": false
   },
   "outputs": [
    {
     "data": {
      "text/plain": [
       "Index([u'Rutting', u'Is Bridge', u'sfThick', u'Tthick', u'TSfThick',\n",
       "       u'cumESALs', u'pAlli', u'pLong', u'esals', u'A0', u'A1', u'A2', u'A3',\n",
       "       u'B1', u'B2', u'B3', u'C1', u'C2', u'C3'],\n",
       "      dtype='object')"
      ]
     },
     "execution_count": 45,
     "metadata": {},
     "output_type": "execute_result"
    }
   ],
   "source": [
    "Xm.columns"
   ]
  },
  {
   "cell_type": "code",
   "execution_count": 52,
   "metadata": {
    "collapsed": false
   },
   "outputs": [
    {
     "data": {
      "text/plain": [
       "array([ 12.05064139,   3.11529809,  -2.7286782 ,  -8.18718024,\n",
       "        -6.02383624,   4.51065003,   4.90447018,   0.3578905 ,\n",
       "       -27.70823572,   9.86819853,   9.22734871,  -4.96757427,\n",
       "        24.42613756,   7.1829754 ,  -7.39220785,   6.9343331 ,\n",
       "         3.08919432,  -1.42566833,   7.90197012])"
      ]
     },
     "execution_count": 52,
     "metadata": {},
     "output_type": "execute_result"
    }
   ],
   "source": [
    "model.coef_"
   ]
  },
  {
   "cell_type": "code",
   "execution_count": 53,
   "metadata": {
    "collapsed": false
   },
   "outputs": [
    {
     "data": {
      "text/plain": [
       "2.2033904279842975"
      ]
     },
     "execution_count": 53,
     "metadata": {},
     "output_type": "execute_result"
    }
   ],
   "source": [
    "model.intercept_"
   ]
  },
  {
   "cell_type": "code",
   "execution_count": 54,
   "metadata": {
    "collapsed": false
   },
   "outputs": [
    {
     "data": {
      "text/plain": [
       "245"
      ]
     },
     "execution_count": 54,
     "metadata": {},
     "output_type": "execute_result"
    }
   ],
   "source": [
    "model.n_iter_"
   ]
  },
  {
   "cell_type": "code",
   "execution_count": null,
   "metadata": {
    "collapsed": true
   },
   "outputs": [],
   "source": []
  }
 ],
 "metadata": {
  "kernelspec": {
   "display_name": "Python 2",
   "language": "python",
   "name": "python2"
  },
  "language_info": {
   "codemirror_mode": {
    "name": "ipython",
    "version": 2
   },
   "file_extension": ".py",
   "mimetype": "text/x-python",
   "name": "python",
   "nbconvert_exporter": "python",
   "pygments_lexer": "ipython2",
   "version": "2.7.10"
  }
 },
 "nbformat": 4,
 "nbformat_minor": 0
}
