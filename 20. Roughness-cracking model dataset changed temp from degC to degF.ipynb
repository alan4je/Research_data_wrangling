{
 "cells": [
  {
   "cell_type": "code",
   "execution_count": 1,
   "metadata": {
    "collapsed": true
   },
   "outputs": [],
   "source": [
    "import pandas as pd, numpy as np"
   ]
  },
  {
   "cell_type": "code",
   "execution_count": 2,
   "metadata": {
    "collapsed": true
   },
   "outputs": [],
   "source": [
    "ds = pd.read_csv(\"~/Desktop/PhD_Research/Rmodels/data/rmData1115.csv\")"
   ]
  },
  {
   "cell_type": "code",
   "execution_count": 3,
   "metadata": {
    "collapsed": false
   },
   "outputs": [
    {
     "name": "stdout",
     "output_type": "stream",
     "text": [
      "52827\n"
     ]
    },
    {
     "data": {
      "text/html": [
       "<div>\n",
       "<table border=\"1\" class=\"dataframe\">\n",
       "  <thead>\n",
       "    <tr style=\"text-align: right;\">\n",
       "      <th></th>\n",
       "      <th>Unnamed: 0</th>\n",
       "      <th>UID</th>\n",
       "      <th>sYear</th>\n",
       "      <th>Rutting</th>\n",
       "      <th>IRI</th>\n",
       "      <th>PSC</th>\n",
       "      <th>Alli</th>\n",
       "      <th>Long</th>\n",
       "      <th>Is Bridge</th>\n",
       "      <th>Lane Miles</th>\n",
       "      <th>...</th>\n",
       "      <th>cumFTC</th>\n",
       "      <th>pAlli</th>\n",
       "      <th>pLong</th>\n",
       "      <th>IRIsi</th>\n",
       "      <th>esals</th>\n",
       "      <th>ppt</th>\n",
       "      <th>mint</th>\n",
       "      <th>maxt</th>\n",
       "      <th>ICAO</th>\n",
       "      <th>ftc</th>\n",
       "    </tr>\n",
       "  </thead>\n",
       "  <tbody>\n",
       "    <tr>\n",
       "      <th>0</th>\n",
       "      <td>0</td>\n",
       "      <td>222</td>\n",
       "      <td>1988</td>\n",
       "      <td>0.236</td>\n",
       "      <td>8.815663</td>\n",
       "      <td>78</td>\n",
       "      <td>0.004356</td>\n",
       "      <td>0.023523</td>\n",
       "      <td>1</td>\n",
       "      <td>0.22</td>\n",
       "      <td>...</td>\n",
       "      <td>0</td>\n",
       "      <td>1.980028</td>\n",
       "      <td>10.692152</td>\n",
       "      <td>1.669634</td>\n",
       "      <td>80705.085747</td>\n",
       "      <td>1653.949951</td>\n",
       "      <td>0.78</td>\n",
       "      <td>24.230000</td>\n",
       "      <td>KAWO</td>\n",
       "      <td>0</td>\n",
       "    </tr>\n",
       "    <tr>\n",
       "      <th>1</th>\n",
       "      <td>1</td>\n",
       "      <td>583</td>\n",
       "      <td>1988</td>\n",
       "      <td>0.512</td>\n",
       "      <td>14.358494</td>\n",
       "      <td>37</td>\n",
       "      <td>0.023864</td>\n",
       "      <td>0.011932</td>\n",
       "      <td>1</td>\n",
       "      <td>0.12</td>\n",
       "      <td>...</td>\n",
       "      <td>1015</td>\n",
       "      <td>19.886370</td>\n",
       "      <td>9.943185</td>\n",
       "      <td>2.719413</td>\n",
       "      <td>44455.741252</td>\n",
       "      <td>2380.080078</td>\n",
       "      <td>-5.49</td>\n",
       "      <td>22.139999</td>\n",
       "      <td>KESW</td>\n",
       "      <td>109</td>\n",
       "    </tr>\n",
       "    <tr>\n",
       "      <th>2</th>\n",
       "      <td>2</td>\n",
       "      <td>589</td>\n",
       "      <td>1988</td>\n",
       "      <td>0.512</td>\n",
       "      <td>14.358494</td>\n",
       "      <td>37</td>\n",
       "      <td>0.065909</td>\n",
       "      <td>0.032955</td>\n",
       "      <td>0</td>\n",
       "      <td>0.33</td>\n",
       "      <td>...</td>\n",
       "      <td>1015</td>\n",
       "      <td>19.972458</td>\n",
       "      <td>9.986229</td>\n",
       "      <td>2.719413</td>\n",
       "      <td>42903.651207</td>\n",
       "      <td>2380.080078</td>\n",
       "      <td>-5.49</td>\n",
       "      <td>22.139999</td>\n",
       "      <td>KESW</td>\n",
       "      <td>109</td>\n",
       "    </tr>\n",
       "    <tr>\n",
       "      <th>3</th>\n",
       "      <td>3</td>\n",
       "      <td>1623</td>\n",
       "      <td>1988</td>\n",
       "      <td>0.236</td>\n",
       "      <td>11.085579</td>\n",
       "      <td>62</td>\n",
       "      <td>0.011932</td>\n",
       "      <td>0.029924</td>\n",
       "      <td>0</td>\n",
       "      <td>0.30</td>\n",
       "      <td>...</td>\n",
       "      <td>188</td>\n",
       "      <td>3.977274</td>\n",
       "      <td>9.974751</td>\n",
       "      <td>2.099542</td>\n",
       "      <td>14421.467543</td>\n",
       "      <td>184.009995</td>\n",
       "      <td>-8.78</td>\n",
       "      <td>28.590000</td>\n",
       "      <td>KEPH</td>\n",
       "      <td>19</td>\n",
       "    </tr>\n",
       "    <tr>\n",
       "      <th>4</th>\n",
       "      <td>4</td>\n",
       "      <td>1650</td>\n",
       "      <td>1988</td>\n",
       "      <td>0.236</td>\n",
       "      <td>12.669245</td>\n",
       "      <td>68</td>\n",
       "      <td>0.011932</td>\n",
       "      <td>0.029924</td>\n",
       "      <td>0</td>\n",
       "      <td>0.22</td>\n",
       "      <td>...</td>\n",
       "      <td>188</td>\n",
       "      <td>5.423555</td>\n",
       "      <td>13.601933</td>\n",
       "      <td>2.399479</td>\n",
       "      <td>11364.528711</td>\n",
       "      <td>186.139999</td>\n",
       "      <td>-8.73</td>\n",
       "      <td>28.510000</td>\n",
       "      <td>KEPH</td>\n",
       "      <td>19</td>\n",
       "    </tr>\n",
       "  </tbody>\n",
       "</table>\n",
       "<p>5 rows × 30 columns</p>\n",
       "</div>"
      ],
      "text/plain": [
       "   Unnamed: 0   UID  sYear  Rutting        IRI  PSC      Alli      Long  \\\n",
       "0           0   222   1988    0.236   8.815663   78  0.004356  0.023523   \n",
       "1           1   583   1988    0.512  14.358494   37  0.023864  0.011932   \n",
       "2           2   589   1988    0.512  14.358494   37  0.065909  0.032955   \n",
       "3           3  1623   1988    0.236  11.085579   62  0.011932  0.029924   \n",
       "4           4  1650   1988    0.236  12.669245   68  0.011932  0.029924   \n",
       "\n",
       "   Is Bridge  Lane Miles ...   cumFTC      pAlli      pLong     IRIsi  \\\n",
       "0          1        0.22 ...        0   1.980028  10.692152  1.669634   \n",
       "1          1        0.12 ...     1015  19.886370   9.943185  2.719413   \n",
       "2          0        0.33 ...     1015  19.972458   9.986229  2.719413   \n",
       "3          0        0.30 ...      188   3.977274   9.974751  2.099542   \n",
       "4          0        0.22 ...      188   5.423555  13.601933  2.399479   \n",
       "\n",
       "          esals          ppt  mint       maxt  ICAO  ftc  \n",
       "0  80705.085747  1653.949951  0.78  24.230000  KAWO    0  \n",
       "1  44455.741252  2380.080078 -5.49  22.139999  KESW  109  \n",
       "2  42903.651207  2380.080078 -5.49  22.139999  KESW  109  \n",
       "3  14421.467543   184.009995 -8.78  28.590000  KEPH   19  \n",
       "4  11364.528711   186.139999 -8.73  28.510000  KEPH   19  \n",
       "\n",
       "[5 rows x 30 columns]"
      ]
     },
     "execution_count": 3,
     "metadata": {},
     "output_type": "execute_result"
    }
   ],
   "source": [
    "print len(ds)\n",
    "ds.head()"
   ]
  },
  {
   "cell_type": "code",
   "execution_count": 4,
   "metadata": {
    "collapsed": false
   },
   "outputs": [
    {
     "name": "stdout",
     "output_type": "stream",
     "text": [
      "-14.6899995804\n"
     ]
    }
   ],
   "source": [
    "print ds.mint.min()"
   ]
  },
  {
   "cell_type": "code",
   "execution_count": 5,
   "metadata": {
    "collapsed": true
   },
   "outputs": [],
   "source": [
    "ds['mint'] = ds.mint.mul(9.0/5).add(32)"
   ]
  },
  {
   "cell_type": "code",
   "execution_count": 6,
   "metadata": {
    "collapsed": false
   },
   "outputs": [
    {
     "name": "stdout",
     "output_type": "stream",
     "text": [
      "5.55800075528\n"
     ]
    }
   ],
   "source": [
    "print ds.mint.min()"
   ]
  },
  {
   "cell_type": "code",
   "execution_count": 7,
   "metadata": {
    "collapsed": true
   },
   "outputs": [],
   "source": [
    "ds['maxt'] = ds.maxt.mul(9.0/5).add(32)"
   ]
  },
  {
   "cell_type": "code",
   "execution_count": 8,
   "metadata": {
    "collapsed": false
   },
   "outputs": [
    {
     "data": {
      "text/html": [
       "<div>\n",
       "<table border=\"1\" class=\"dataframe\">\n",
       "  <thead>\n",
       "    <tr style=\"text-align: right;\">\n",
       "      <th></th>\n",
       "      <th>Unnamed: 0</th>\n",
       "      <th>UID</th>\n",
       "      <th>sYear</th>\n",
       "      <th>Rutting</th>\n",
       "      <th>IRI</th>\n",
       "      <th>PSC</th>\n",
       "      <th>Alli</th>\n",
       "      <th>Long</th>\n",
       "      <th>Is Bridge</th>\n",
       "      <th>Lane Miles</th>\n",
       "      <th>...</th>\n",
       "      <th>cumFTC</th>\n",
       "      <th>pAlli</th>\n",
       "      <th>pLong</th>\n",
       "      <th>IRIsi</th>\n",
       "      <th>esals</th>\n",
       "      <th>ppt</th>\n",
       "      <th>mint</th>\n",
       "      <th>maxt</th>\n",
       "      <th>ICAO</th>\n",
       "      <th>ftc</th>\n",
       "    </tr>\n",
       "  </thead>\n",
       "  <tbody>\n",
       "    <tr>\n",
       "      <th>0</th>\n",
       "      <td>0</td>\n",
       "      <td>222</td>\n",
       "      <td>1988</td>\n",
       "      <td>0.236</td>\n",
       "      <td>8.815663</td>\n",
       "      <td>78</td>\n",
       "      <td>0.004356</td>\n",
       "      <td>0.023523</td>\n",
       "      <td>1</td>\n",
       "      <td>0.22</td>\n",
       "      <td>...</td>\n",
       "      <td>0</td>\n",
       "      <td>1.980028</td>\n",
       "      <td>10.692152</td>\n",
       "      <td>1.669634</td>\n",
       "      <td>80705.085747</td>\n",
       "      <td>1653.949951</td>\n",
       "      <td>33.404000</td>\n",
       "      <td>75.613999</td>\n",
       "      <td>KAWO</td>\n",
       "      <td>0</td>\n",
       "    </tr>\n",
       "    <tr>\n",
       "      <th>1</th>\n",
       "      <td>1</td>\n",
       "      <td>583</td>\n",
       "      <td>1988</td>\n",
       "      <td>0.512</td>\n",
       "      <td>14.358494</td>\n",
       "      <td>37</td>\n",
       "      <td>0.023864</td>\n",
       "      <td>0.011932</td>\n",
       "      <td>1</td>\n",
       "      <td>0.12</td>\n",
       "      <td>...</td>\n",
       "      <td>1015</td>\n",
       "      <td>19.886370</td>\n",
       "      <td>9.943185</td>\n",
       "      <td>2.719413</td>\n",
       "      <td>44455.741252</td>\n",
       "      <td>2380.080078</td>\n",
       "      <td>22.118000</td>\n",
       "      <td>71.851999</td>\n",
       "      <td>KESW</td>\n",
       "      <td>109</td>\n",
       "    </tr>\n",
       "    <tr>\n",
       "      <th>2</th>\n",
       "      <td>2</td>\n",
       "      <td>589</td>\n",
       "      <td>1988</td>\n",
       "      <td>0.512</td>\n",
       "      <td>14.358494</td>\n",
       "      <td>37</td>\n",
       "      <td>0.065909</td>\n",
       "      <td>0.032955</td>\n",
       "      <td>0</td>\n",
       "      <td>0.33</td>\n",
       "      <td>...</td>\n",
       "      <td>1015</td>\n",
       "      <td>19.972458</td>\n",
       "      <td>9.986229</td>\n",
       "      <td>2.719413</td>\n",
       "      <td>42903.651207</td>\n",
       "      <td>2380.080078</td>\n",
       "      <td>22.118000</td>\n",
       "      <td>71.851999</td>\n",
       "      <td>KESW</td>\n",
       "      <td>109</td>\n",
       "    </tr>\n",
       "    <tr>\n",
       "      <th>3</th>\n",
       "      <td>3</td>\n",
       "      <td>1623</td>\n",
       "      <td>1988</td>\n",
       "      <td>0.236</td>\n",
       "      <td>11.085579</td>\n",
       "      <td>62</td>\n",
       "      <td>0.011932</td>\n",
       "      <td>0.029924</td>\n",
       "      <td>0</td>\n",
       "      <td>0.30</td>\n",
       "      <td>...</td>\n",
       "      <td>188</td>\n",
       "      <td>3.977274</td>\n",
       "      <td>9.974751</td>\n",
       "      <td>2.099542</td>\n",
       "      <td>14421.467543</td>\n",
       "      <td>184.009995</td>\n",
       "      <td>16.196000</td>\n",
       "      <td>83.462000</td>\n",
       "      <td>KEPH</td>\n",
       "      <td>19</td>\n",
       "    </tr>\n",
       "    <tr>\n",
       "      <th>4</th>\n",
       "      <td>4</td>\n",
       "      <td>1650</td>\n",
       "      <td>1988</td>\n",
       "      <td>0.236</td>\n",
       "      <td>12.669245</td>\n",
       "      <td>68</td>\n",
       "      <td>0.011932</td>\n",
       "      <td>0.029924</td>\n",
       "      <td>0</td>\n",
       "      <td>0.22</td>\n",
       "      <td>...</td>\n",
       "      <td>188</td>\n",
       "      <td>5.423555</td>\n",
       "      <td>13.601933</td>\n",
       "      <td>2.399479</td>\n",
       "      <td>11364.528711</td>\n",
       "      <td>186.139999</td>\n",
       "      <td>16.286001</td>\n",
       "      <td>83.318000</td>\n",
       "      <td>KEPH</td>\n",
       "      <td>19</td>\n",
       "    </tr>\n",
       "  </tbody>\n",
       "</table>\n",
       "<p>5 rows × 30 columns</p>\n",
       "</div>"
      ],
      "text/plain": [
       "   Unnamed: 0   UID  sYear  Rutting        IRI  PSC      Alli      Long  \\\n",
       "0           0   222   1988    0.236   8.815663   78  0.004356  0.023523   \n",
       "1           1   583   1988    0.512  14.358494   37  0.023864  0.011932   \n",
       "2           2   589   1988    0.512  14.358494   37  0.065909  0.032955   \n",
       "3           3  1623   1988    0.236  11.085579   62  0.011932  0.029924   \n",
       "4           4  1650   1988    0.236  12.669245   68  0.011932  0.029924   \n",
       "\n",
       "   Is Bridge  Lane Miles ...   cumFTC      pAlli      pLong     IRIsi  \\\n",
       "0          1        0.22 ...        0   1.980028  10.692152  1.669634   \n",
       "1          1        0.12 ...     1015  19.886370   9.943185  2.719413   \n",
       "2          0        0.33 ...     1015  19.972458   9.986229  2.719413   \n",
       "3          0        0.30 ...      188   3.977274   9.974751  2.099542   \n",
       "4          0        0.22 ...      188   5.423555  13.601933  2.399479   \n",
       "\n",
       "          esals          ppt       mint       maxt  ICAO  ftc  \n",
       "0  80705.085747  1653.949951  33.404000  75.613999  KAWO    0  \n",
       "1  44455.741252  2380.080078  22.118000  71.851999  KESW  109  \n",
       "2  42903.651207  2380.080078  22.118000  71.851999  KESW  109  \n",
       "3  14421.467543   184.009995  16.196000  83.462000  KEPH   19  \n",
       "4  11364.528711   186.139999  16.286001  83.318000  KEPH   19  \n",
       "\n",
       "[5 rows x 30 columns]"
      ]
     },
     "execution_count": 8,
     "metadata": {},
     "output_type": "execute_result"
    }
   ],
   "source": [
    "ds.head()"
   ]
  },
  {
   "cell_type": "code",
   "execution_count": 9,
   "metadata": {
    "collapsed": false
   },
   "outputs": [
    {
     "data": {
      "text/plain": [
       "Index([u'Unnamed: 0', u'UID', u'sYear', u'Rutting', u'IRI', u'PSC', u'Alli',\n",
       "       u'Long', u'Is Bridge', u'Lane Miles', u'Segment Lane Miles',\n",
       "       u'ESALs Since Major Rehab', u'sfThick', u'Tthick', u'TSfThick',\n",
       "       u'STcode', u'cumPPT', u'meanMinTemp', u'meanMaxTemp', u'cumESALs',\n",
       "       u'cumFTC', u'pAlli', u'pLong', u'IRIsi', u'esals', u'ppt', u'mint',\n",
       "       u'maxt', u'ICAO', u'ftc'],\n",
       "      dtype='object')"
      ]
     },
     "execution_count": 9,
     "metadata": {},
     "output_type": "execute_result"
    }
   ],
   "source": [
    "ds.columns"
   ]
  },
  {
   "cell_type": "code",
   "execution_count": 11,
   "metadata": {
    "collapsed": false
   },
   "outputs": [],
   "source": [
    "dt = pd.read_csv('../modelDatasets/fullDataset.csv')"
   ]
  },
  {
   "cell_type": "code",
   "execution_count": 20,
   "metadata": {
    "collapsed": false
   },
   "outputs": [
    {
     "data": {
      "text/plain": [
       "Index([u'Unnamed: 0', u'sYear', u'IntID', u'Rutting', u'IRI', u'PSC', u'PPC',\n",
       "       u'PRC', u'Alli', u'Long', u'SR', u'Begin ARM', u'End ARM', u'UID',\n",
       "       u'Is Bridge', u'Lane Surface Type', u'Lane Miles', u'Region_x',\n",
       "       u'Federal Functional Class', u'Construction End Date',\n",
       "       u'Substantial Completion Date', u'Contract Type Description',\n",
       "       u'Surface Type Code', u'Surface Type Description', u'Surface Thickness',\n",
       "       u'Treat Base Type Code', u'Treat Base Type Description',\n",
       "       u'Treat Base Thickness', u'UTreat Base Thickness', u'cYear',\n",
       "       u'Traffic Year', u'ESALs', u'Construction Year', u'Major Rehab Year',\n",
       "       u'Segment Lane Miles', u'ESALs Since Major Rehab', u'Total Thickness',\n",
       "       u'Total Surface Thickness', u'Listed Surface Type', u'Pavement Type',\n",
       "       u'Construction Pavement Type', u'Major Rehab Type',\n",
       "       u'Prior Major Rehab Year', u'Prior Major Rehab Type', u'sfThick',\n",
       "       u'Tthick', u'TSfThick', u'STcode', u'cumPPT', u'meanMinTemp',\n",
       "       u'meanMaxTemp', u'cumESALs', u'cumFTC'],\n",
       "      dtype='object')"
      ]
     },
     "execution_count": 20,
     "metadata": {},
     "output_type": "execute_result"
    }
   ],
   "source": [
    "dt.columns"
   ]
  },
  {
   "cell_type": "code",
   "execution_count": 21,
   "metadata": {
    "collapsed": false
   },
   "outputs": [],
   "source": [
    "dt2 = dt[[ u'SR', u'Begin ARM', u'End ARM', 'UID', u'sYear']]"
   ]
  },
  {
   "cell_type": "code",
   "execution_count": 25,
   "metadata": {
    "collapsed": true
   },
   "outputs": [],
   "source": [
    "dt2 = dt2.drop_duplicates(subset = 'UID')"
   ]
  },
  {
   "cell_type": "code",
   "execution_count": 26,
   "metadata": {
    "collapsed": false
   },
   "outputs": [],
   "source": [
    "dt2 = dt2[(dt2.sYear >= 1988)& (dt2.sYear < 2000)]"
   ]
  },
  {
   "cell_type": "code",
   "execution_count": 27,
   "metadata": {
    "collapsed": false
   },
   "outputs": [
    {
     "name": "stdout",
     "output_type": "stream",
     "text": [
      "8927\n",
      "52827\n"
     ]
    }
   ],
   "source": [
    "print len(dt2)\n",
    "print len(ds[ds.UID.isin(dt2.UID)])"
   ]
  },
  {
   "cell_type": "code",
   "execution_count": 28,
   "metadata": {
    "collapsed": false
   },
   "outputs": [
    {
     "name": "stdout",
     "output_type": "stream",
     "text": [
      "52827\n"
     ]
    }
   ],
   "source": [
    "rdt = pd.merge(ds, dt2, how='left', left_on = 'UID', right_on = 'UID')\n",
    "print len(rdt)"
   ]
  },
  {
   "cell_type": "code",
   "execution_count": 29,
   "metadata": {
    "collapsed": false
   },
   "outputs": [
    {
     "data": {
      "text/html": [
       "<div>\n",
       "<table border=\"1\" class=\"dataframe\">\n",
       "  <thead>\n",
       "    <tr style=\"text-align: right;\">\n",
       "      <th></th>\n",
       "      <th>Unnamed: 0</th>\n",
       "      <th>UID</th>\n",
       "      <th>sYear_x</th>\n",
       "      <th>Rutting</th>\n",
       "      <th>IRI</th>\n",
       "      <th>PSC</th>\n",
       "      <th>Alli</th>\n",
       "      <th>Long</th>\n",
       "      <th>Is Bridge</th>\n",
       "      <th>Lane Miles</th>\n",
       "      <th>...</th>\n",
       "      <th>esals</th>\n",
       "      <th>ppt</th>\n",
       "      <th>mint</th>\n",
       "      <th>maxt</th>\n",
       "      <th>ICAO</th>\n",
       "      <th>ftc</th>\n",
       "      <th>SR</th>\n",
       "      <th>Begin ARM</th>\n",
       "      <th>End ARM</th>\n",
       "      <th>sYear_y</th>\n",
       "    </tr>\n",
       "  </thead>\n",
       "  <tbody>\n",
       "    <tr>\n",
       "      <th>0</th>\n",
       "      <td>0</td>\n",
       "      <td>222</td>\n",
       "      <td>1988</td>\n",
       "      <td>0.236</td>\n",
       "      <td>8.815663</td>\n",
       "      <td>78</td>\n",
       "      <td>0.004356</td>\n",
       "      <td>0.023523</td>\n",
       "      <td>1</td>\n",
       "      <td>0.22</td>\n",
       "      <td>...</td>\n",
       "      <td>80705.085747</td>\n",
       "      <td>1653.949951</td>\n",
       "      <td>33.404000</td>\n",
       "      <td>75.613999</td>\n",
       "      <td>KAWO</td>\n",
       "      <td>0</td>\n",
       "      <td>2</td>\n",
       "      <td>22.12</td>\n",
       "      <td>22.23</td>\n",
       "      <td>1988</td>\n",
       "    </tr>\n",
       "    <tr>\n",
       "      <th>1</th>\n",
       "      <td>1</td>\n",
       "      <td>583</td>\n",
       "      <td>1988</td>\n",
       "      <td>0.512</td>\n",
       "      <td>14.358494</td>\n",
       "      <td>37</td>\n",
       "      <td>0.023864</td>\n",
       "      <td>0.011932</td>\n",
       "      <td>1</td>\n",
       "      <td>0.12</td>\n",
       "      <td>...</td>\n",
       "      <td>44455.741252</td>\n",
       "      <td>2380.080078</td>\n",
       "      <td>22.118000</td>\n",
       "      <td>71.851999</td>\n",
       "      <td>KESW</td>\n",
       "      <td>109</td>\n",
       "      <td>2</td>\n",
       "      <td>58.27</td>\n",
       "      <td>58.31</td>\n",
       "      <td>1988</td>\n",
       "    </tr>\n",
       "    <tr>\n",
       "      <th>2</th>\n",
       "      <td>2</td>\n",
       "      <td>589</td>\n",
       "      <td>1988</td>\n",
       "      <td>0.512</td>\n",
       "      <td>14.358494</td>\n",
       "      <td>37</td>\n",
       "      <td>0.065909</td>\n",
       "      <td>0.032955</td>\n",
       "      <td>0</td>\n",
       "      <td>0.33</td>\n",
       "      <td>...</td>\n",
       "      <td>42903.651207</td>\n",
       "      <td>2380.080078</td>\n",
       "      <td>22.118000</td>\n",
       "      <td>71.851999</td>\n",
       "      <td>KESW</td>\n",
       "      <td>109</td>\n",
       "      <td>2</td>\n",
       "      <td>58.87</td>\n",
       "      <td>58.98</td>\n",
       "      <td>1988</td>\n",
       "    </tr>\n",
       "    <tr>\n",
       "      <th>3</th>\n",
       "      <td>3</td>\n",
       "      <td>1623</td>\n",
       "      <td>1988</td>\n",
       "      <td>0.236</td>\n",
       "      <td>11.085579</td>\n",
       "      <td>62</td>\n",
       "      <td>0.011932</td>\n",
       "      <td>0.029924</td>\n",
       "      <td>0</td>\n",
       "      <td>0.30</td>\n",
       "      <td>...</td>\n",
       "      <td>14421.467543</td>\n",
       "      <td>184.009995</td>\n",
       "      <td>16.196000</td>\n",
       "      <td>83.462000</td>\n",
       "      <td>KEPH</td>\n",
       "      <td>19</td>\n",
       "      <td>2</td>\n",
       "      <td>162.25</td>\n",
       "      <td>162.35</td>\n",
       "      <td>1988</td>\n",
       "    </tr>\n",
       "    <tr>\n",
       "      <th>4</th>\n",
       "      <td>4</td>\n",
       "      <td>1650</td>\n",
       "      <td>1988</td>\n",
       "      <td>0.236</td>\n",
       "      <td>12.669245</td>\n",
       "      <td>68</td>\n",
       "      <td>0.011932</td>\n",
       "      <td>0.029924</td>\n",
       "      <td>0</td>\n",
       "      <td>0.22</td>\n",
       "      <td>...</td>\n",
       "      <td>11364.528711</td>\n",
       "      <td>186.139999</td>\n",
       "      <td>16.286001</td>\n",
       "      <td>83.318000</td>\n",
       "      <td>KEPH</td>\n",
       "      <td>19</td>\n",
       "      <td>2</td>\n",
       "      <td>164.95</td>\n",
       "      <td>165.05</td>\n",
       "      <td>1988</td>\n",
       "    </tr>\n",
       "  </tbody>\n",
       "</table>\n",
       "<p>5 rows × 34 columns</p>\n",
       "</div>"
      ],
      "text/plain": [
       "   Unnamed: 0   UID  sYear_x  Rutting        IRI  PSC      Alli      Long  \\\n",
       "0           0   222     1988    0.236   8.815663   78  0.004356  0.023523   \n",
       "1           1   583     1988    0.512  14.358494   37  0.023864  0.011932   \n",
       "2           2   589     1988    0.512  14.358494   37  0.065909  0.032955   \n",
       "3           3  1623     1988    0.236  11.085579   62  0.011932  0.029924   \n",
       "4           4  1650     1988    0.236  12.669245   68  0.011932  0.029924   \n",
       "\n",
       "   Is Bridge  Lane Miles   ...            esals          ppt       mint  \\\n",
       "0          1        0.22   ...     80705.085747  1653.949951  33.404000   \n",
       "1          1        0.12   ...     44455.741252  2380.080078  22.118000   \n",
       "2          0        0.33   ...     42903.651207  2380.080078  22.118000   \n",
       "3          0        0.30   ...     14421.467543   184.009995  16.196000   \n",
       "4          0        0.22   ...     11364.528711   186.139999  16.286001   \n",
       "\n",
       "        maxt  ICAO  ftc  SR  Begin ARM  End ARM  sYear_y  \n",
       "0  75.613999  KAWO    0   2      22.12    22.23     1988  \n",
       "1  71.851999  KESW  109   2      58.27    58.31     1988  \n",
       "2  71.851999  KESW  109   2      58.87    58.98     1988  \n",
       "3  83.462000  KEPH   19   2     162.25   162.35     1988  \n",
       "4  83.318000  KEPH   19   2     164.95   165.05     1988  \n",
       "\n",
       "[5 rows x 34 columns]"
      ]
     },
     "execution_count": 29,
     "metadata": {},
     "output_type": "execute_result"
    }
   ],
   "source": [
    "rdt.head()"
   ]
  },
  {
   "cell_type": "code",
   "execution_count": 33,
   "metadata": {
    "collapsed": false
   },
   "outputs": [
    {
     "name": "stderr",
     "output_type": "stream",
     "text": [
      "/Users/Alan/anaconda2/lib/python2.7/site-packages/ipykernel/__main__.py:1: FutureWarning: sort(columns=....) is deprecated, use sort_values(by=.....)\n",
      "  if __name__ == '__main__':\n"
     ]
    }
   ],
   "source": [
    "rdf = rdt.sort(columns = ['UID', 'sYear_x'])"
   ]
  },
  {
   "cell_type": "code",
   "execution_count": 36,
   "metadata": {
    "collapsed": false
   },
   "outputs": [],
   "source": [
    "rdf = rdf.drop_duplicates(subset = ['UID', 'sYear_x'])"
   ]
  },
  {
   "cell_type": "code",
   "execution_count": 37,
   "metadata": {
    "collapsed": false
   },
   "outputs": [
    {
     "data": {
      "text/html": [
       "<div>\n",
       "<table border=\"1\" class=\"dataframe\">\n",
       "  <thead>\n",
       "    <tr style=\"text-align: right;\">\n",
       "      <th></th>\n",
       "      <th>Unnamed: 0</th>\n",
       "      <th>UID</th>\n",
       "      <th>sYear_x</th>\n",
       "      <th>Rutting</th>\n",
       "      <th>IRI</th>\n",
       "      <th>PSC</th>\n",
       "      <th>Alli</th>\n",
       "      <th>Long</th>\n",
       "      <th>Is Bridge</th>\n",
       "      <th>Lane Miles</th>\n",
       "      <th>...</th>\n",
       "      <th>esals</th>\n",
       "      <th>ppt</th>\n",
       "      <th>mint</th>\n",
       "      <th>maxt</th>\n",
       "      <th>ICAO</th>\n",
       "      <th>ftc</th>\n",
       "      <th>SR</th>\n",
       "      <th>Begin ARM</th>\n",
       "      <th>End ARM</th>\n",
       "      <th>sYear_y</th>\n",
       "    </tr>\n",
       "  </thead>\n",
       "  <tbody>\n",
       "    <tr>\n",
       "      <th>25095</th>\n",
       "      <td>25095</td>\n",
       "      <td>1</td>\n",
       "      <td>1988</td>\n",
       "      <td>0.748</td>\n",
       "      <td>17.736993</td>\n",
       "      <td>67</td>\n",
       "      <td>0.001370</td>\n",
       "      <td>0.056856</td>\n",
       "      <td>0</td>\n",
       "      <td>0.36</td>\n",
       "      <td>...</td>\n",
       "      <td>17996.598271</td>\n",
       "      <td>918.010010</td>\n",
       "      <td>33.584</td>\n",
       "      <td>74.336001</td>\n",
       "      <td>KPAE</td>\n",
       "      <td>5</td>\n",
       "      <td>2</td>\n",
       "      <td>0.00</td>\n",
       "      <td>0.10</td>\n",
       "      <td>1988</td>\n",
       "    </tr>\n",
       "    <tr>\n",
       "      <th>26540</th>\n",
       "      <td>26540</td>\n",
       "      <td>1</td>\n",
       "      <td>1989</td>\n",
       "      <td>0.236</td>\n",
       "      <td>17.736993</td>\n",
       "      <td>82</td>\n",
       "      <td>0.000000</td>\n",
       "      <td>0.029924</td>\n",
       "      <td>0</td>\n",
       "      <td>0.36</td>\n",
       "      <td>...</td>\n",
       "      <td>18686.830557</td>\n",
       "      <td>833.750000</td>\n",
       "      <td>26.042</td>\n",
       "      <td>72.968000</td>\n",
       "      <td>KPAE</td>\n",
       "      <td>11</td>\n",
       "      <td>2</td>\n",
       "      <td>0.00</td>\n",
       "      <td>0.10</td>\n",
       "      <td>1988</td>\n",
       "    </tr>\n",
       "    <tr>\n",
       "      <th>28193</th>\n",
       "      <td>28193</td>\n",
       "      <td>1</td>\n",
       "      <td>1990</td>\n",
       "      <td>0.236</td>\n",
       "      <td>18.159243</td>\n",
       "      <td>82</td>\n",
       "      <td>0.000000</td>\n",
       "      <td>0.029924</td>\n",
       "      <td>0</td>\n",
       "      <td>0.36</td>\n",
       "      <td>...</td>\n",
       "      <td>19088.431115</td>\n",
       "      <td>1106.859985</td>\n",
       "      <td>28.454</td>\n",
       "      <td>76.333998</td>\n",
       "      <td>KPAE</td>\n",
       "      <td>18</td>\n",
       "      <td>2</td>\n",
       "      <td>0.00</td>\n",
       "      <td>0.10</td>\n",
       "      <td>1988</td>\n",
       "    </tr>\n",
       "    <tr>\n",
       "      <th>29936</th>\n",
       "      <td>29936</td>\n",
       "      <td>1</td>\n",
       "      <td>1991</td>\n",
       "      <td>0.236</td>\n",
       "      <td>18.159243</td>\n",
       "      <td>71</td>\n",
       "      <td>0.000000</td>\n",
       "      <td>0.056856</td>\n",
       "      <td>0</td>\n",
       "      <td>0.36</td>\n",
       "      <td>...</td>\n",
       "      <td>19903.607821</td>\n",
       "      <td>848.960022</td>\n",
       "      <td>32.378</td>\n",
       "      <td>77.666002</td>\n",
       "      <td>KPAE</td>\n",
       "      <td>5</td>\n",
       "      <td>2</td>\n",
       "      <td>0.00</td>\n",
       "      <td>0.10</td>\n",
       "      <td>1988</td>\n",
       "    </tr>\n",
       "    <tr>\n",
       "      <th>15536</th>\n",
       "      <td>15536</td>\n",
       "      <td>1</td>\n",
       "      <td>1996</td>\n",
       "      <td>0.276</td>\n",
       "      <td>20.059659</td>\n",
       "      <td>66</td>\n",
       "      <td>0.010038</td>\n",
       "      <td>0.056856</td>\n",
       "      <td>0</td>\n",
       "      <td>0.36</td>\n",
       "      <td>...</td>\n",
       "      <td>22868.344489</td>\n",
       "      <td>1188.750000</td>\n",
       "      <td>32.054</td>\n",
       "      <td>77.575999</td>\n",
       "      <td>KPAE</td>\n",
       "      <td>24</td>\n",
       "      <td>2</td>\n",
       "      <td>0.00</td>\n",
       "      <td>0.10</td>\n",
       "      <td>1988</td>\n",
       "    </tr>\n",
       "    <tr>\n",
       "      <th>18641</th>\n",
       "      <td>18641</td>\n",
       "      <td>1</td>\n",
       "      <td>1998</td>\n",
       "      <td>0.512</td>\n",
       "      <td>20.693158</td>\n",
       "      <td>52</td>\n",
       "      <td>0.013049</td>\n",
       "      <td>0.080795</td>\n",
       "      <td>0</td>\n",
       "      <td>0.36</td>\n",
       "      <td>...</td>\n",
       "      <td>24602.593853</td>\n",
       "      <td>1028.229980</td>\n",
       "      <td>34.124</td>\n",
       "      <td>79.448001</td>\n",
       "      <td>KPAE</td>\n",
       "      <td>9</td>\n",
       "      <td>2</td>\n",
       "      <td>0.00</td>\n",
       "      <td>0.10</td>\n",
       "      <td>1988</td>\n",
       "    </tr>\n",
       "    <tr>\n",
       "      <th>47704</th>\n",
       "      <td>47704</td>\n",
       "      <td>1</td>\n",
       "      <td>1999</td>\n",
       "      <td>0.079</td>\n",
       "      <td>7.759914</td>\n",
       "      <td>97</td>\n",
       "      <td>0.000000</td>\n",
       "      <td>0.001894</td>\n",
       "      <td>0</td>\n",
       "      <td>0.30</td>\n",
       "      <td>...</td>\n",
       "      <td>25309.823837</td>\n",
       "      <td>1209.099976</td>\n",
       "      <td>36.770</td>\n",
       "      <td>73.292001</td>\n",
       "      <td>KPAE</td>\n",
       "      <td>20</td>\n",
       "      <td>2</td>\n",
       "      <td>0.00</td>\n",
       "      <td>0.10</td>\n",
       "      <td>1988</td>\n",
       "    </tr>\n",
       "    <tr>\n",
       "      <th>34273</th>\n",
       "      <td>34273</td>\n",
       "      <td>24</td>\n",
       "      <td>1993</td>\n",
       "      <td>0.150</td>\n",
       "      <td>15.340327</td>\n",
       "      <td>84</td>\n",
       "      <td>0.000000</td>\n",
       "      <td>0.029924</td>\n",
       "      <td>1</td>\n",
       "      <td>0.15</td>\n",
       "      <td>...</td>\n",
       "      <td>124387.071486</td>\n",
       "      <td>838.200012</td>\n",
       "      <td>28.778</td>\n",
       "      <td>73.544000</td>\n",
       "      <td>KPAE</td>\n",
       "      <td>9</td>\n",
       "      <td>2</td>\n",
       "      <td>2.39</td>\n",
       "      <td>2.49</td>\n",
       "      <td>1988</td>\n",
       "    </tr>\n",
       "    <tr>\n",
       "      <th>39180</th>\n",
       "      <td>39180</td>\n",
       "      <td>24</td>\n",
       "      <td>1995</td>\n",
       "      <td>0.039</td>\n",
       "      <td>15.393161</td>\n",
       "      <td>84</td>\n",
       "      <td>0.000000</td>\n",
       "      <td>0.029924</td>\n",
       "      <td>1</td>\n",
       "      <td>0.15</td>\n",
       "      <td>...</td>\n",
       "      <td>129987.082735</td>\n",
       "      <td>1066.130005</td>\n",
       "      <td>33.314</td>\n",
       "      <td>76.442001</td>\n",
       "      <td>KPAE</td>\n",
       "      <td>4</td>\n",
       "      <td>2</td>\n",
       "      <td>2.39</td>\n",
       "      <td>2.49</td>\n",
       "      <td>1988</td>\n",
       "    </tr>\n",
       "    <tr>\n",
       "      <th>43863</th>\n",
       "      <td>43863</td>\n",
       "      <td>24</td>\n",
       "      <td>1997</td>\n",
       "      <td>0.197</td>\n",
       "      <td>17.610243</td>\n",
       "      <td>84</td>\n",
       "      <td>0.000000</td>\n",
       "      <td>0.029924</td>\n",
       "      <td>1</td>\n",
       "      <td>0.15</td>\n",
       "      <td>...</td>\n",
       "      <td>138363.412916</td>\n",
       "      <td>1148.380005</td>\n",
       "      <td>34.502</td>\n",
       "      <td>78.044000</td>\n",
       "      <td>KPAE</td>\n",
       "      <td>5</td>\n",
       "      <td>2</td>\n",
       "      <td>2.39</td>\n",
       "      <td>2.49</td>\n",
       "      <td>1988</td>\n",
       "    </tr>\n",
       "  </tbody>\n",
       "</table>\n",
       "<p>10 rows × 34 columns</p>\n",
       "</div>"
      ],
      "text/plain": [
       "       Unnamed: 0  UID  sYear_x  Rutting        IRI  PSC      Alli      Long  \\\n",
       "25095       25095    1     1988    0.748  17.736993   67  0.001370  0.056856   \n",
       "26540       26540    1     1989    0.236  17.736993   82  0.000000  0.029924   \n",
       "28193       28193    1     1990    0.236  18.159243   82  0.000000  0.029924   \n",
       "29936       29936    1     1991    0.236  18.159243   71  0.000000  0.056856   \n",
       "15536       15536    1     1996    0.276  20.059659   66  0.010038  0.056856   \n",
       "18641       18641    1     1998    0.512  20.693158   52  0.013049  0.080795   \n",
       "47704       47704    1     1999    0.079   7.759914   97  0.000000  0.001894   \n",
       "34273       34273   24     1993    0.150  15.340327   84  0.000000  0.029924   \n",
       "39180       39180   24     1995    0.039  15.393161   84  0.000000  0.029924   \n",
       "43863       43863   24     1997    0.197  17.610243   84  0.000000  0.029924   \n",
       "\n",
       "       Is Bridge  Lane Miles   ...             esals          ppt    mint  \\\n",
       "25095          0        0.36   ...      17996.598271   918.010010  33.584   \n",
       "26540          0        0.36   ...      18686.830557   833.750000  26.042   \n",
       "28193          0        0.36   ...      19088.431115  1106.859985  28.454   \n",
       "29936          0        0.36   ...      19903.607821   848.960022  32.378   \n",
       "15536          0        0.36   ...      22868.344489  1188.750000  32.054   \n",
       "18641          0        0.36   ...      24602.593853  1028.229980  34.124   \n",
       "47704          0        0.30   ...      25309.823837  1209.099976  36.770   \n",
       "34273          1        0.15   ...     124387.071486   838.200012  28.778   \n",
       "39180          1        0.15   ...     129987.082735  1066.130005  33.314   \n",
       "43863          1        0.15   ...     138363.412916  1148.380005  34.502   \n",
       "\n",
       "            maxt  ICAO ftc  SR  Begin ARM  End ARM  sYear_y  \n",
       "25095  74.336001  KPAE   5   2       0.00     0.10     1988  \n",
       "26540  72.968000  KPAE  11   2       0.00     0.10     1988  \n",
       "28193  76.333998  KPAE  18   2       0.00     0.10     1988  \n",
       "29936  77.666002  KPAE   5   2       0.00     0.10     1988  \n",
       "15536  77.575999  KPAE  24   2       0.00     0.10     1988  \n",
       "18641  79.448001  KPAE   9   2       0.00     0.10     1988  \n",
       "47704  73.292001  KPAE  20   2       0.00     0.10     1988  \n",
       "34273  73.544000  KPAE   9   2       2.39     2.49     1988  \n",
       "39180  76.442001  KPAE   4   2       2.39     2.49     1988  \n",
       "43863  78.044000  KPAE   5   2       2.39     2.49     1988  \n",
       "\n",
       "[10 rows x 34 columns]"
      ]
     },
     "execution_count": 37,
     "metadata": {},
     "output_type": "execute_result"
    }
   ],
   "source": [
    "rdf.head(10)"
   ]
  },
  {
   "cell_type": "code",
   "execution_count": 65,
   "metadata": {
    "collapsed": false
   },
   "outputs": [],
   "source": [
    "selected_IDs = []\n",
    "for sr in rdf.SR.unique():\n",
    "    temp = rdf[rdf.SR == sr]\n",
    "    min_id = temp.UID.min()\n",
    "    max_id = temp.UID.max()\n",
    "    n = int((max_id - min_id)/10.0)\n",
    "    for m in range(n):\n",
    "        if (m%2 == 0):\n",
    "            p = np.array(temp.UID[(temp.UID >= (min_id+m*10)) & (temp.UID < (min_id+ (m+1)*10))])\n",
    "            if len(p) > 0:\n",
    "                s = np.random.choice(p, 1)[0] # select item in that range\n",
    "                selected_IDs.append(s)"
   ]
  },
  {
   "cell_type": "code",
   "execution_count": 66,
   "metadata": {
    "collapsed": false
   },
   "outputs": [
    {
     "name": "stdout",
     "output_type": "stream",
     "text": [
      "1960\n"
     ]
    },
    {
     "data": {
      "text/plain": [
       "[1,\n",
       " 27,\n",
       " 43,\n",
       " 66,\n",
       " 81,\n",
       " 104,\n",
       " 125,\n",
       " 142,\n",
       " 188,\n",
       " 226,\n",
       " 265,\n",
       " 287,\n",
       " 304,\n",
       " 344,\n",
       " 367,\n",
       " 387,\n",
       " 402,\n",
       " 430,\n",
       " 446,\n",
       " 463]"
      ]
     },
     "execution_count": 66,
     "metadata": {},
     "output_type": "execute_result"
    }
   ],
   "source": [
    "print len(selected_IDs)\n",
    "selected_IDs[0:20]"
   ]
  },
  {
   "cell_type": "code",
   "execution_count": 67,
   "metadata": {
    "collapsed": true
   },
   "outputs": [],
   "source": [
    "data = rdf[rdf.UID.isin(selected_IDs)]"
   ]
  },
  {
   "cell_type": "code",
   "execution_count": 69,
   "metadata": {
    "collapsed": false
   },
   "outputs": [
    {
     "name": "stdout",
     "output_type": "stream",
     "text": [
      "10256\n",
      "52827\n"
     ]
    }
   ],
   "source": [
    "print len(data)\n",
    "print len(ds)"
   ]
  },
  {
   "cell_type": "code",
   "execution_count": 72,
   "metadata": {
    "collapsed": false
   },
   "outputs": [
    {
     "data": {
      "text/plain": [
       "Index([u'Unnamed: 0', u'UID', u'sYear_x', u'Rutting', u'IRI', u'PSC', u'Alli',\n",
       "       u'Long', u'Is Bridge', u'Lane Miles', u'Segment Lane Miles',\n",
       "       u'ESALs Since Major Rehab', u'sfThick', u'Tthick', u'TSfThick',\n",
       "       u'STcode', u'cumPPT', u'meanMinTemp', u'meanMaxTemp', u'cumESALs',\n",
       "       u'cumFTC', u'pAlli', u'pLong', u'IRIsi', u'esals', u'ppt', u'mint',\n",
       "       u'maxt', u'ICAO', u'ftc', u'SR', u'Begin ARM', u'End ARM', u'sYear_y'],\n",
       "      dtype='object')"
      ]
     },
     "execution_count": 72,
     "metadata": {},
     "output_type": "execute_result"
    }
   ],
   "source": [
    "data.columns"
   ]
  },
  {
   "cell_type": "code",
   "execution_count": 75,
   "metadata": {
    "collapsed": false
   },
   "outputs": [],
   "source": [
    "data = data[[u'UID', u'sYear_x', u'Rutting', u'IRI', u'PSC', u'Alli',\n",
    "       u'Long', u'Is Bridge', u'Lane Miles', u'Segment Lane Miles',\n",
    "       u'ESALs Since Major Rehab', u'sfThick', u'Tthick', u'TSfThick',\n",
    "       u'STcode', u'cumPPT', u'meanMinTemp', u'meanMaxTemp', u'cumESALs',\n",
    "       u'cumFTC', u'pAlli', u'pLong', u'IRIsi', u'esals', u'ppt', u'mint',\n",
    "       u'maxt', u'ICAO', u'ftc', u'SR', u'Begin ARM', u'End ARM']]"
   ]
  },
  {
   "cell_type": "code",
   "execution_count": 76,
   "metadata": {
    "collapsed": true
   },
   "outputs": [],
   "source": [
    "data.columns = [u'UID', u'sYear', u'Rutting', u'IRI', u'PSC', u'Alli',\n",
    "       u'Long', u'Is Bridge', u'Lane Miles', u'Segment Lane Miles',\n",
    "       u'ESALs Since Major Rehab', u'sfThick', u'Tthick', u'TSfThick',\n",
    "       u'STcode', u'cumPPT', u'meanMinTemp', u'meanMaxTemp', u'cumESALs',\n",
    "       u'cumFTC', u'pAlli', u'pLong', u'IRIsi', u'esals', u'ppt', u'mint',\n",
    "       u'maxt', u'ICAO', u'ftc', u'SR', u'Begin ARM', u'End ARM']"
   ]
  },
  {
   "cell_type": "code",
   "execution_count": 77,
   "metadata": {
    "collapsed": true
   },
   "outputs": [],
   "source": [
    "data.to_csv('../modelDatasets/rcModelData1215.csv')"
   ]
  },
  {
   "cell_type": "code",
   "execution_count": 8,
   "metadata": {
    "collapsed": false
   },
   "outputs": [],
   "source": [
    "# ds.to_csv('../modelDatasets/rmData1215.csv')"
   ]
  }
 ],
 "metadata": {
  "kernelspec": {
   "display_name": "Python 2",
   "language": "python",
   "name": "python2"
  },
  "language_info": {
   "codemirror_mode": {
    "name": "ipython",
    "version": 2
   },
   "file_extension": ".py",
   "mimetype": "text/x-python",
   "name": "python",
   "nbconvert_exporter": "python",
   "pygments_lexer": "ipython2",
   "version": "2.7.10"
  }
 },
 "nbformat": 4,
 "nbformat_minor": 0
}
