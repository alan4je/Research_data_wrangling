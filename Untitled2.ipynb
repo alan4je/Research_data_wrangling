{
 "cells": [
  {
   "cell_type": "code",
   "execution_count": 1,
   "metadata": {
    "collapsed": true
   },
   "outputs": [],
   "source": [
    "import pandas as pd\n",
    "import numpy as np"
   ]
  },
  {
   "cell_type": "code",
   "execution_count": 2,
   "metadata": {
    "collapsed": true
   },
   "outputs": [],
   "source": [
    "import statsmodels.api as sm\n",
    "import matplotlib.pyplot as plt\n",
    "from statsmodels.sandbox.regression.predstd import wls_prediction_std\n",
    "%matplotlib inline "
   ]
  },
  {
   "cell_type": "code",
   "execution_count": 3,
   "metadata": {
    "collapsed": false
   },
   "outputs": [
    {
     "data": {
      "text/html": [
       "<div>\n",
       "<table border=\"1\" class=\"dataframe\">\n",
       "  <thead>\n",
       "    <tr style=\"text-align: right;\">\n",
       "      <th></th>\n",
       "      <th>Unnamed: 0</th>\n",
       "      <th>Year</th>\n",
       "      <th>ID</th>\n",
       "      <th>UID</th>\n",
       "      <th>sYear</th>\n",
       "      <th>Rutting</th>\n",
       "      <th>IRI</th>\n",
       "      <th>PSC</th>\n",
       "      <th>AlliP</th>\n",
       "      <th>LongP</th>\n",
       "      <th>...</th>\n",
       "      <th>sfThick</th>\n",
       "      <th>Tthick</th>\n",
       "      <th>TSfThick</th>\n",
       "      <th>STcode</th>\n",
       "      <th>AlliPred</th>\n",
       "      <th>cumPPT</th>\n",
       "      <th>meanMinTemp</th>\n",
       "      <th>meanMaxTemp</th>\n",
       "      <th>cumESALs</th>\n",
       "      <th>cumFTC</th>\n",
       "    </tr>\n",
       "  </thead>\n",
       "  <tbody>\n",
       "    <tr>\n",
       "      <th>0</th>\n",
       "      <td>0</td>\n",
       "      <td>1981</td>\n",
       "      <td>222</td>\n",
       "      <td>222</td>\n",
       "      <td>1981</td>\n",
       "      <td>0.236</td>\n",
       "      <td>15.836577</td>\n",
       "      <td>92</td>\n",
       "      <td>0.000000</td>\n",
       "      <td>3.960055</td>\n",
       "      <td>...</td>\n",
       "      <td>0.00</td>\n",
       "      <td>0.15</td>\n",
       "      <td>0.15</td>\n",
       "      <td>PA</td>\n",
       "      <td>1.910057</td>\n",
       "      <td>1690.469971</td>\n",
       "      <td>1.31</td>\n",
       "      <td>26.850000</td>\n",
       "      <td>57829.947364</td>\n",
       "      <td>0</td>\n",
       "    </tr>\n",
       "    <tr>\n",
       "      <th>1</th>\n",
       "      <td>1</td>\n",
       "      <td>1981</td>\n",
       "      <td>540</td>\n",
       "      <td>540</td>\n",
       "      <td>1981</td>\n",
       "      <td>0.236</td>\n",
       "      <td>18.840242</td>\n",
       "      <td>83</td>\n",
       "      <td>0.000000</td>\n",
       "      <td>0.000000</td>\n",
       "      <td>...</td>\n",
       "      <td>0.15</td>\n",
       "      <td>1.65</td>\n",
       "      <td>0.90</td>\n",
       "      <td>Other</td>\n",
       "      <td>2.126044</td>\n",
       "      <td>2157.649902</td>\n",
       "      <td>-2.84</td>\n",
       "      <td>25.230000</td>\n",
       "      <td>35421.157984</td>\n",
       "      <td>208</td>\n",
       "    </tr>\n",
       "    <tr>\n",
       "      <th>2</th>\n",
       "      <td>2</td>\n",
       "      <td>1981</td>\n",
       "      <td>2431</td>\n",
       "      <td>2431</td>\n",
       "      <td>1981</td>\n",
       "      <td>0.512</td>\n",
       "      <td>20.429158</td>\n",
       "      <td>37</td>\n",
       "      <td>5.965909</td>\n",
       "      <td>14.962121</td>\n",
       "      <td>...</td>\n",
       "      <td>0.15</td>\n",
       "      <td>1.56</td>\n",
       "      <td>0.98</td>\n",
       "      <td>BA</td>\n",
       "      <td>7.894043</td>\n",
       "      <td>337.529999</td>\n",
       "      <td>-5.94</td>\n",
       "      <td>31.230000</td>\n",
       "      <td>58882.558639</td>\n",
       "      <td>83</td>\n",
       "    </tr>\n",
       "    <tr>\n",
       "      <th>3</th>\n",
       "      <td>3</td>\n",
       "      <td>1981</td>\n",
       "      <td>704</td>\n",
       "      <td>704</td>\n",
       "      <td>1981</td>\n",
       "      <td>0.236</td>\n",
       "      <td>7.654330</td>\n",
       "      <td>40</td>\n",
       "      <td>0.000000</td>\n",
       "      <td>64.962121</td>\n",
       "      <td>...</td>\n",
       "      <td>0.65</td>\n",
       "      <td>1.75</td>\n",
       "      <td>1.00</td>\n",
       "      <td>Other</td>\n",
       "      <td>10.134499</td>\n",
       "      <td>1980.089966</td>\n",
       "      <td>-6.77</td>\n",
       "      <td>23.930000</td>\n",
       "      <td>28915.396971</td>\n",
       "      <td>208</td>\n",
       "    </tr>\n",
       "    <tr>\n",
       "      <th>4</th>\n",
       "      <td>4</td>\n",
       "      <td>1981</td>\n",
       "      <td>776</td>\n",
       "      <td>776</td>\n",
       "      <td>1981</td>\n",
       "      <td>0.236</td>\n",
       "      <td>11.085579</td>\n",
       "      <td>48</td>\n",
       "      <td>3.977273</td>\n",
       "      <td>9.974747</td>\n",
       "      <td>...</td>\n",
       "      <td>0.50</td>\n",
       "      <td>2.15</td>\n",
       "      <td>0.65</td>\n",
       "      <td>BA</td>\n",
       "      <td>3.722601</td>\n",
       "      <td>1099.699951</td>\n",
       "      <td>-6.72</td>\n",
       "      <td>28.370001</td>\n",
       "      <td>35606.843246</td>\n",
       "      <td>208</td>\n",
       "    </tr>\n",
       "  </tbody>\n",
       "</table>\n",
       "<p>5 rows × 22 columns</p>\n",
       "</div>"
      ],
      "text/plain": [
       "   Unnamed: 0  Year    ID   UID  sYear  Rutting        IRI  PSC     AlliP  \\\n",
       "0           0  1981   222   222   1981    0.236  15.836577   92  0.000000   \n",
       "1           1  1981   540   540   1981    0.236  18.840242   83  0.000000   \n",
       "2           2  1981  2431  2431   1981    0.512  20.429158   37  5.965909   \n",
       "3           3  1981   704   704   1981    0.236   7.654330   40  0.000000   \n",
       "4           4  1981   776   776   1981    0.236  11.085579   48  3.977273   \n",
       "\n",
       "       LongP   ...    sfThick  Tthick  TSfThick  STcode   AlliPred  \\\n",
       "0   3.960055   ...       0.00    0.15      0.15      PA   1.910057   \n",
       "1   0.000000   ...       0.15    1.65      0.90   Other   2.126044   \n",
       "2  14.962121   ...       0.15    1.56      0.98      BA   7.894043   \n",
       "3  64.962121   ...       0.65    1.75      1.00   Other  10.134499   \n",
       "4   9.974747   ...       0.50    2.15      0.65      BA   3.722601   \n",
       "\n",
       "        cumPPT  meanMinTemp  meanMaxTemp      cumESALs  cumFTC  \n",
       "0  1690.469971         1.31    26.850000  57829.947364       0  \n",
       "1  2157.649902        -2.84    25.230000  35421.157984     208  \n",
       "2   337.529999        -5.94    31.230000  58882.558639      83  \n",
       "3  1980.089966        -6.77    23.930000  28915.396971     208  \n",
       "4  1099.699951        -6.72    28.370001  35606.843246     208  \n",
       "\n",
       "[5 rows x 22 columns]"
      ]
     },
     "execution_count": 3,
     "metadata": {},
     "output_type": "execute_result"
    }
   ],
   "source": [
    "ds = pd.read_csv('../FinalDatasets/CPMdataset1007.csv')\n",
    "ds.head()"
   ]
  },
  {
   "cell_type": "code",
   "execution_count": 4,
   "metadata": {
    "collapsed": false
   },
   "outputs": [
    {
     "data": {
      "text/plain": [
       "Index([u'Unnamed: 0', u'Year', u'ID', u'UID', u'sYear', u'Rutting', u'IRI',\n",
       "       u'PSC', u'AlliP', u'LongP', u'Trans_Cracking', u'IsBridge', u'sfThick',\n",
       "       u'Tthick', u'TSfThick', u'STcode', u'AlliPred', u'cumPPT',\n",
       "       u'meanMinTemp', u'meanMaxTemp', u'cumESALs', u'cumFTC'],\n",
       "      dtype='object')"
      ]
     },
     "execution_count": 4,
     "metadata": {},
     "output_type": "execute_result"
    }
   ],
   "source": [
    "ds.columns"
   ]
  },
  {
   "cell_type": "code",
   "execution_count": 5,
   "metadata": {
    "collapsed": false
   },
   "outputs": [],
   "source": [
    "sampled_segments = pd.Series(ds.UID.unique()).sample(frac = 0.8)"
   ]
  },
  {
   "cell_type": "code",
   "execution_count": 6,
   "metadata": {
    "collapsed": false
   },
   "outputs": [
    {
     "name": "stdout",
     "output_type": "stream",
     "text": [
      "7150\n"
     ]
    }
   ],
   "source": [
    "print len(sampled_segments)"
   ]
  },
  {
   "cell_type": "code",
   "execution_count": 7,
   "metadata": {
    "collapsed": true
   },
   "outputs": [],
   "source": [
    "model_ds = ds[ds.UID.isin(sampled_segments)]"
   ]
  },
  {
   "cell_type": "code",
   "execution_count": 13,
   "metadata": {
    "collapsed": true
   },
   "outputs": [],
   "source": [
    "y_m1 = model_ds.IRI\n",
    "X_m1 = model_ds[['AlliP', 'LongP', 'sfThick', 'Tthick', 'Rutting', 'IsBridge']]\n",
    "X_m1 = sm.add_constant(X_m1)"
   ]
  },
  {
   "cell_type": "code",
   "execution_count": 14,
   "metadata": {
    "collapsed": false
   },
   "outputs": [
    {
     "name": "stdout",
     "output_type": "stream",
     "text": [
      "                            OLS Regression Results                            \n",
      "==============================================================================\n",
      "Dep. Variable:                    IRI   R-squared:                       0.118\n",
      "Model:                            OLS   Adj. R-squared:                  0.118\n",
      "Method:                 Least Squares   F-statistic:                     3243.\n",
      "Date:                Thu, 08 Oct 2015   Prob (F-statistic):               0.00\n",
      "Time:                        13:44:47   Log-Likelihood:            -4.4991e+05\n",
      "No. Observations:              145629   AIC:                         8.998e+05\n",
      "Df Residuals:                  145622   BIC:                         8.999e+05\n",
      "Df Model:                           6                                         \n",
      "Covariance Type:            nonrobust                                         \n",
      "==============================================================================\n",
      "                 coef    std err          t      P>|t|      [95.0% Conf. Int.]\n",
      "------------------------------------------------------------------------------\n",
      "const          8.4488      0.041    204.437      0.000         8.368     8.530\n",
      "AlliP          0.0276      0.002     15.766      0.000         0.024     0.031\n",
      "LongP          0.0171      0.001     15.462      0.000         0.015     0.019\n",
      "sfThick       -1.6451      0.068    -24.208      0.000        -1.778    -1.512\n",
      "Tthick        -0.7620      0.024    -31.339      0.000        -0.810    -0.714\n",
      "Rutting       12.0432      0.096    125.380      0.000        11.855    12.231\n",
      "IsBridge       1.0602      0.089     11.877      0.000         0.885     1.235\n",
      "==============================================================================\n",
      "Omnibus:                    17000.660   Durbin-Watson:                   0.982\n",
      "Prob(Omnibus):                  0.000   Jarque-Bera (JB):            36633.336\n",
      "Skew:                           0.724   Prob(JB):                         0.00\n",
      "Kurtosis:                       4.985   Cond. No.                         120.\n",
      "==============================================================================\n",
      "\n",
      "Warnings:\n",
      "[1] Standard Errors assume that the covariance matrix of the errors is correctly specified.\n"
     ]
    }
   ],
   "source": [
    "m1 = sm.OLS(y_m1, X_m1)\n",
    "res1 = m1.fit()\n",
    "print res1.summary()"
   ]
  },
  {
   "cell_type": "code",
   "execution_count": 26,
   "metadata": {
    "collapsed": false
   },
   "outputs": [],
   "source": [
    "def addDummies(df):\n",
    "    for surfaceType in df.STcode.unique():\n",
    "        if surfaceType != 'Other':\n",
    "            df.loc[:, surfaceType] = df.STcode == surfaceType"
   ]
  },
  {
   "cell_type": "code",
   "execution_count": 18,
   "metadata": {
    "collapsed": true
   },
   "outputs": [],
   "source": [
    "# ds1 = ds.sample(n=30)\n",
    "# addDummies(ds1)\n",
    "# ds1.loc[:, 'BA'] = ds1.STcode == 'BA'"
   ]
  },
  {
   "cell_type": "code",
   "execution_count": 32,
   "metadata": {
    "collapsed": false
   },
   "outputs": [],
   "source": [
    "addDummies(model_ds)"
   ]
  },
  {
   "cell_type": "code",
   "execution_count": 33,
   "metadata": {
    "collapsed": false
   },
   "outputs": [
    {
     "data": {
      "text/html": [
       "<div>\n",
       "<table border=\"1\" class=\"dataframe\">\n",
       "  <thead>\n",
       "    <tr style=\"text-align: right;\">\n",
       "      <th></th>\n",
       "      <th>Unnamed: 0</th>\n",
       "      <th>Year</th>\n",
       "      <th>ID</th>\n",
       "      <th>UID</th>\n",
       "      <th>sYear</th>\n",
       "      <th>Rutting</th>\n",
       "      <th>IRI</th>\n",
       "      <th>PSC</th>\n",
       "      <th>AlliP</th>\n",
       "      <th>LongP</th>\n",
       "      <th>...</th>\n",
       "      <th>STcode</th>\n",
       "      <th>AlliPred</th>\n",
       "      <th>cumPPT</th>\n",
       "      <th>meanMinTemp</th>\n",
       "      <th>meanMaxTemp</th>\n",
       "      <th>cumESALs</th>\n",
       "      <th>cumFTC</th>\n",
       "      <th>PA</th>\n",
       "      <th>BA</th>\n",
       "      <th>SA</th>\n",
       "    </tr>\n",
       "  </thead>\n",
       "  <tbody>\n",
       "    <tr>\n",
       "      <th>0</th>\n",
       "      <td>0</td>\n",
       "      <td>1981</td>\n",
       "      <td>222</td>\n",
       "      <td>222</td>\n",
       "      <td>1981</td>\n",
       "      <td>0.236</td>\n",
       "      <td>15.836577</td>\n",
       "      <td>92</td>\n",
       "      <td>0.000000</td>\n",
       "      <td>3.960055</td>\n",
       "      <td>...</td>\n",
       "      <td>PA</td>\n",
       "      <td>1.910057</td>\n",
       "      <td>1690.469971</td>\n",
       "      <td>1.31</td>\n",
       "      <td>26.850000</td>\n",
       "      <td>57829.947364</td>\n",
       "      <td>0</td>\n",
       "      <td>True</td>\n",
       "      <td>False</td>\n",
       "      <td>False</td>\n",
       "    </tr>\n",
       "    <tr>\n",
       "      <th>2</th>\n",
       "      <td>2</td>\n",
       "      <td>1981</td>\n",
       "      <td>2431</td>\n",
       "      <td>2431</td>\n",
       "      <td>1981</td>\n",
       "      <td>0.512</td>\n",
       "      <td>20.429158</td>\n",
       "      <td>37</td>\n",
       "      <td>5.965909</td>\n",
       "      <td>14.962121</td>\n",
       "      <td>...</td>\n",
       "      <td>BA</td>\n",
       "      <td>7.894043</td>\n",
       "      <td>337.529999</td>\n",
       "      <td>-5.94</td>\n",
       "      <td>31.230000</td>\n",
       "      <td>58882.558639</td>\n",
       "      <td>83</td>\n",
       "      <td>False</td>\n",
       "      <td>True</td>\n",
       "      <td>False</td>\n",
       "    </tr>\n",
       "    <tr>\n",
       "      <th>4</th>\n",
       "      <td>4</td>\n",
       "      <td>1981</td>\n",
       "      <td>776</td>\n",
       "      <td>776</td>\n",
       "      <td>1981</td>\n",
       "      <td>0.236</td>\n",
       "      <td>11.085579</td>\n",
       "      <td>48</td>\n",
       "      <td>3.977273</td>\n",
       "      <td>9.974747</td>\n",
       "      <td>...</td>\n",
       "      <td>BA</td>\n",
       "      <td>3.722601</td>\n",
       "      <td>1099.699951</td>\n",
       "      <td>-6.72</td>\n",
       "      <td>28.370001</td>\n",
       "      <td>35606.843246</td>\n",
       "      <td>208</td>\n",
       "      <td>False</td>\n",
       "      <td>True</td>\n",
       "      <td>False</td>\n",
       "    </tr>\n",
       "    <tr>\n",
       "      <th>6</th>\n",
       "      <td>6</td>\n",
       "      <td>1981</td>\n",
       "      <td>583</td>\n",
       "      <td>583</td>\n",
       "      <td>1981</td>\n",
       "      <td>0.236</td>\n",
       "      <td>11.613495</td>\n",
       "      <td>75</td>\n",
       "      <td>3.945707</td>\n",
       "      <td>9.943182</td>\n",
       "      <td>...</td>\n",
       "      <td>BA</td>\n",
       "      <td>2.711335</td>\n",
       "      <td>2167.459961</td>\n",
       "      <td>-4.35</td>\n",
       "      <td>25.139999</td>\n",
       "      <td>35074.861747</td>\n",
       "      <td>208</td>\n",
       "      <td>False</td>\n",
       "      <td>True</td>\n",
       "      <td>False</td>\n",
       "    </tr>\n",
       "    <tr>\n",
       "      <th>7</th>\n",
       "      <td>7</td>\n",
       "      <td>1981</td>\n",
       "      <td>464</td>\n",
       "      <td>464</td>\n",
       "      <td>1981</td>\n",
       "      <td>0.000</td>\n",
       "      <td>14.675244</td>\n",
       "      <td>55</td>\n",
       "      <td>0.000000</td>\n",
       "      <td>0.000000</td>\n",
       "      <td>...</td>\n",
       "      <td>PA</td>\n",
       "      <td>-0.367812</td>\n",
       "      <td>2979.790039</td>\n",
       "      <td>-2.94</td>\n",
       "      <td>22.200001</td>\n",
       "      <td>66513.274161</td>\n",
       "      <td>208</td>\n",
       "      <td>True</td>\n",
       "      <td>False</td>\n",
       "      <td>False</td>\n",
       "    </tr>\n",
       "  </tbody>\n",
       "</table>\n",
       "<p>5 rows × 25 columns</p>\n",
       "</div>"
      ],
      "text/plain": [
       "   Unnamed: 0  Year    ID   UID  sYear  Rutting        IRI  PSC     AlliP  \\\n",
       "0           0  1981   222   222   1981    0.236  15.836577   92  0.000000   \n",
       "2           2  1981  2431  2431   1981    0.512  20.429158   37  5.965909   \n",
       "4           4  1981   776   776   1981    0.236  11.085579   48  3.977273   \n",
       "6           6  1981   583   583   1981    0.236  11.613495   75  3.945707   \n",
       "7           7  1981   464   464   1981    0.000  14.675244   55  0.000000   \n",
       "\n",
       "       LongP  ...    STcode  AlliPred       cumPPT  meanMinTemp  meanMaxTemp  \\\n",
       "0   3.960055  ...        PA  1.910057  1690.469971         1.31    26.850000   \n",
       "2  14.962121  ...        BA  7.894043   337.529999        -5.94    31.230000   \n",
       "4   9.974747  ...        BA  3.722601  1099.699951        -6.72    28.370001   \n",
       "6   9.943182  ...        BA  2.711335  2167.459961        -4.35    25.139999   \n",
       "7   0.000000  ...        PA -0.367812  2979.790039        -2.94    22.200001   \n",
       "\n",
       "       cumESALs  cumFTC     PA     BA     SA  \n",
       "0  57829.947364       0   True  False  False  \n",
       "2  58882.558639      83  False   True  False  \n",
       "4  35606.843246     208  False   True  False  \n",
       "6  35074.861747     208  False   True  False  \n",
       "7  66513.274161     208   True  False  False  \n",
       "\n",
       "[5 rows x 25 columns]"
      ]
     },
     "execution_count": 33,
     "metadata": {},
     "output_type": "execute_result"
    }
   ],
   "source": [
    "model_ds.head()"
   ]
  },
  {
   "cell_type": "code",
   "execution_count": 45,
   "metadata": {
    "collapsed": true
   },
   "outputs": [],
   "source": [
    "def change2int(row, var):\n",
    "    item = row[var]\n",
    "    if item:\n",
    "        return 1\n",
    "    return 0"
   ]
  },
  {
   "cell_type": "code",
   "execution_count": 50,
   "metadata": {
    "collapsed": false
   },
   "outputs": [],
   "source": [
    "model_ds.loc[:, 'PA_'] = model_ds.apply(change2int, axis = 1, args = ('PA',))\n",
    "model_ds.loc[:, 'BA_'] = model_ds.apply(change2int, axis = 1, args = ('BA',))\n",
    "model_ds.loc[:, 'SA_'] = model_ds.apply(change2int, axis = 1, args = ('SA',))"
   ]
  },
  {
   "cell_type": "code",
   "execution_count": 53,
   "metadata": {
    "collapsed": false
   },
   "outputs": [],
   "source": [
    "y_m2 = model_ds.IRI\n",
    "X_m2 = model_ds[['AlliP', 'LongP', 'sfThick', 'Tthick', 'Rutting', 'IsBridge', 'BA_','SA_']]\n",
    "X_m2 = sm.add_constant(X_m2)"
   ]
  },
  {
   "cell_type": "code",
   "execution_count": 40,
   "metadata": {
    "collapsed": false
   },
   "outputs": [
    {
     "data": {
      "text/plain": [
       "dtype('bool')"
      ]
     },
     "execution_count": 40,
     "metadata": {},
     "output_type": "execute_result"
    }
   ],
   "source": [
    "np.array(X_m2.PA).dtype"
   ]
  },
  {
   "cell_type": "code",
   "execution_count": 54,
   "metadata": {
    "collapsed": false
   },
   "outputs": [
    {
     "name": "stdout",
     "output_type": "stream",
     "text": [
      "                            OLS Regression Results                            \n",
      "==============================================================================\n",
      "Dep. Variable:                    IRI   R-squared:                       0.119\n",
      "Model:                            OLS   Adj. R-squared:                  0.119\n",
      "Method:                 Least Squares   F-statistic:                     2460.\n",
      "Date:                Thu, 08 Oct 2015   Prob (F-statistic):               0.00\n",
      "Time:                        14:17:31   Log-Likelihood:            -4.4982e+05\n",
      "No. Observations:              145629   AIC:                         8.997e+05\n",
      "Df Residuals:                  145620   BIC:                         8.997e+05\n",
      "Df Model:                           8                                         \n",
      "Covariance Type:            nonrobust                                         \n",
      "==============================================================================\n",
      "                 coef    std err          t      P>|t|      [95.0% Conf. Int.]\n",
      "------------------------------------------------------------------------------\n",
      "const          8.3942      0.043    196.878      0.000         8.311     8.478\n",
      "AlliP          0.0273      0.002     15.616      0.000         0.024     0.031\n",
      "LongP          0.0172      0.001     15.563      0.000         0.015     0.019\n",
      "sfThick       -1.4351      0.070    -20.593      0.000        -1.572    -1.299\n",
      "Tthick        -0.7626      0.024    -31.281      0.000        -0.810    -0.715\n",
      "Rutting       12.0363      0.096    125.369      0.000        11.848    12.224\n",
      "IsBridge       1.1079      0.090     12.372      0.000         0.932     1.283\n",
      "BA_           -0.0842      0.029     -2.864      0.004        -0.142    -0.027\n",
      "SA_            0.8431      0.066     12.862      0.000         0.715     0.972\n",
      "==============================================================================\n",
      "Omnibus:                    17067.563   Durbin-Watson:                   0.983\n",
      "Prob(Omnibus):                  0.000   Jarque-Bera (JB):            37010.382\n",
      "Skew:                           0.724   Prob(JB):                         0.00\n",
      "Kurtosis:                       5.000   Cond. No.                         121.\n",
      "==============================================================================\n",
      "\n",
      "Warnings:\n",
      "[1] Standard Errors assume that the covariance matrix of the errors is correctly specified.\n"
     ]
    }
   ],
   "source": [
    "m2 = sm.OLS(y_m2, X_m2)\n",
    "res2 = m2.fit()\n",
    "print res2.summary()"
   ]
  },
  {
   "cell_type": "code",
   "execution_count": 58,
   "metadata": {
    "collapsed": true
   },
   "outputs": [],
   "source": [
    "model_ds.loc[:, 'logCumEsals'] = np.log(np.array(model_ds.cumESALs))\n",
    "model_ds.loc[:, 'logCumPPT'] = np.log(np.array(model_ds.cumPPT))"
   ]
  },
  {
   "cell_type": "code",
   "execution_count": 65,
   "metadata": {
    "collapsed": false
   },
   "outputs": [
    {
     "name": "stdout",
     "output_type": "stream",
     "text": [
      "                            OLS Regression Results                            \n",
      "==============================================================================\n",
      "Dep. Variable:                    IRI   R-squared:                       0.244\n",
      "Model:                            OLS   Adj. R-squared:                  0.243\n",
      "Method:                 Least Squares   F-statistic:                     3606.\n",
      "Date:                Thu, 08 Oct 2015   Prob (F-statistic):               0.00\n",
      "Time:                        21:08:11   Log-Likelihood:            -4.3872e+05\n",
      "No. Observations:              145629   AIC:                         8.775e+05\n",
      "Df Residuals:                  145615   BIC:                         8.776e+05\n",
      "Df Model:                          13                                         \n",
      "Covariance Type:            nonrobust                                         \n",
      "===============================================================================\n",
      "                  coef    std err          t      P>|t|      [95.0% Conf. Int.]\n",
      "-------------------------------------------------------------------------------\n",
      "const          25.9006      0.235    110.008      0.000        25.439    26.362\n",
      "AlliP           0.0199      0.002     12.276      0.000         0.017     0.023\n",
      "LongP           0.0053      0.001      5.168      0.000         0.003     0.007\n",
      "sfThick         0.1669      0.067      2.502      0.012         0.036     0.298\n",
      "Tthick         -0.4137      0.023    -17.794      0.000        -0.459    -0.368\n",
      "Rutting        15.3388      0.092    167.438      0.000        15.159    15.518\n",
      "IsBridge        2.1019      0.086     24.483      0.000         1.934     2.270\n",
      "PA_            -0.0051      0.053     -0.097      0.923        -0.108     0.098\n",
      "BA_            -0.0689      0.029     -2.399      0.016        -0.125    -0.013\n",
      "SA_             0.0758      0.062      1.230      0.219        -0.045     0.197\n",
      "logCumEsals    -1.4626      0.011   -137.772      0.000        -1.483    -1.442\n",
      "logCumPPT       0.1860      0.016     11.375      0.000         0.154     0.218\n",
      "meanMinTemp     0.0975      0.005     21.350      0.000         0.089     0.106\n",
      "meanMaxTemp    -0.0279      0.006     -4.837      0.000        -0.039    -0.017\n",
      "==============================================================================\n",
      "Omnibus:                    17262.877   Durbin-Watson:                   1.156\n",
      "Prob(Omnibus):                  0.000   Jarque-Bera (JB):            55487.984\n",
      "Skew:                           0.613   Prob(JB):                         0.00\n",
      "Kurtosis:                       5.764   Cond. No.                         622.\n",
      "==============================================================================\n",
      "\n",
      "Warnings:\n",
      "[1] Standard Errors assume that the covariance matrix of the errors is correctly specified.\n"
     ]
    }
   ],
   "source": [
    "y_m3 = model_ds.IRI\n",
    "X_m3 = model_ds[['AlliP', 'LongP', 'sfThick', 'Tthick', 'Rutting', 'IsBridge','PA_', 'BA_','SA_', 'logCumEsals', \n",
    "                 'logCumPPT', 'meanMinTemp', 'meanMaxTemp']]\n",
    "X_m3 = sm.add_constant(X_m3)\n",
    "m3 = sm.OLS(y_m3, X_m3)\n",
    "res3 = m3.fit()\n",
    "print res3.summary()"
   ]
  },
  {
   "cell_type": "code",
   "execution_count": 66,
   "metadata": {
    "collapsed": false
   },
   "outputs": [
    {
     "name": "stdout",
     "output_type": "stream",
     "text": [
      "                            OLS Regression Results                            \n",
      "==============================================================================\n",
      "Dep. Variable:                    IRI   R-squared:                       0.243\n",
      "Model:                            OLS   Adj. R-squared:                  0.243\n",
      "Method:                 Least Squares   F-statistic:                     4687.\n",
      "Date:                Thu, 08 Oct 2015   Prob (F-statistic):               0.00\n",
      "Time:                        21:09:29   Log-Likelihood:            -4.3873e+05\n",
      "No. Observations:              145629   AIC:                         8.775e+05\n",
      "Df Residuals:                  145618   BIC:                         8.776e+05\n",
      "Df Model:                          10                                         \n",
      "Covariance Type:            nonrobust                                         \n",
      "===============================================================================\n",
      "                  coef    std err          t      P>|t|      [95.0% Conf. Int.]\n",
      "-------------------------------------------------------------------------------\n",
      "const          25.8610      0.234    110.282      0.000        25.401    26.321\n",
      "AlliP           0.0200      0.002     12.345      0.000         0.017     0.023\n",
      "LongP           0.0052      0.001      5.094      0.000         0.003     0.007\n",
      "sfThick         0.1405      0.066      2.138      0.033         0.012     0.269\n",
      "Tthick         -0.4182      0.023    -18.328      0.000        -0.463    -0.373\n",
      "Rutting        15.3448      0.092    167.549      0.000        15.165    15.524\n",
      "IsBridge        2.1074      0.083     25.402      0.000         1.945     2.270\n",
      "logCumEsals    -1.4658      0.011   -139.238      0.000        -1.486    -1.445\n",
      "logCumPPT       0.1885      0.016     11.555      0.000         0.157     0.220\n",
      "meanMinTemp     0.0959      0.005     21.181      0.000         0.087     0.105\n",
      "meanMaxTemp    -0.0263      0.006     -4.582      0.000        -0.038    -0.015\n",
      "==============================================================================\n",
      "Omnibus:                    17232.565   Durbin-Watson:                   1.156\n",
      "Prob(Omnibus):                  0.000   Jarque-Bera (JB):            55316.765\n",
      "Skew:                           0.613   Prob(JB):                         0.00\n",
      "Kurtosis:                       5.760   Cond. No.                         620.\n",
      "==============================================================================\n",
      "\n",
      "Warnings:\n",
      "[1] Standard Errors assume that the covariance matrix of the errors is correctly specified.\n"
     ]
    }
   ],
   "source": [
    "y_m4 = model_ds.IRI\n",
    "X_m4 = model_ds[['AlliP', 'LongP', 'sfThick', 'Tthick', 'Rutting', 'IsBridge', 'logCumEsals', \n",
    "                 'logCumPPT', 'meanMinTemp', 'meanMaxTemp']]\n",
    "X_m4 = sm.add_constant(X_m4)\n",
    "m4 = sm.OLS(y_m4, X_m4)\n",
    "res4 = m4.fit()\n",
    "print res4.summary()"
   ]
  },
  {
   "cell_type": "markdown",
   "metadata": {},
   "source": [
    "# Determing the relationship between Rutting and the other covariates"
   ]
  },
  {
   "cell_type": "code",
   "execution_count": 72,
   "metadata": {
    "collapsed": false
   },
   "outputs": [
    {
     "name": "stdout",
     "output_type": "stream",
     "text": [
      "                            OLS Regression Results                            \n",
      "==============================================================================\n",
      "Dep. Variable:                Rutting   R-squared:                       0.073\n",
      "Model:                            OLS   Adj. R-squared:                  0.072\n",
      "Method:                 Least Squares   F-statistic:                     1423.\n",
      "Date:                Thu, 08 Oct 2015   Prob (F-statistic):               0.00\n",
      "Time:                        21:21:37   Log-Likelihood:                 78828.\n",
      "No. Observations:              145629   AIC:                        -1.576e+05\n",
      "Df Residuals:                  145620   BIC:                        -1.575e+05\n",
      "Df Model:                           8                                         \n",
      "Covariance Type:            nonrobust                                         \n",
      "===============================================================================\n",
      "                  coef    std err          t      P>|t|      [95.0% Conf. Int.]\n",
      "-------------------------------------------------------------------------------\n",
      "const          -0.2400      0.005    -52.360      0.000        -0.249    -0.231\n",
      "AlliP           0.0021   4.61e-05     44.918      0.000         0.002     0.002\n",
      "LongP           0.0004   2.94e-05     13.299      0.000         0.000     0.000\n",
      "sfThick        -0.0035      0.002     -1.870      0.062        -0.007     0.000\n",
      "Tthick         -0.0013      0.001     -2.070      0.038        -0.003 -6.82e-05\n",
      "logCumEsals     0.0211      0.000     78.125      0.000         0.021     0.022\n",
      "cumPPT       3.182e-07   5.01e-08      6.357      0.000       2.2e-07  4.16e-07\n",
      "meanMaxTemp     0.0042      0.000     32.499      0.000         0.004     0.004\n",
      "cumFTC       5.664e-06   1.35e-06      4.186      0.000      3.01e-06  8.32e-06\n",
      "==============================================================================\n",
      "Omnibus:                    39032.394   Durbin-Watson:                   1.335\n",
      "Prob(Omnibus):                  0.000   Jarque-Bera (JB):           154497.662\n",
      "Skew:                           1.289   Prob(JB):                         0.00\n",
      "Kurtosis:                       7.337   Cond. No.                     1.62e+05\n",
      "==============================================================================\n",
      "\n",
      "Warnings:\n",
      "[1] Standard Errors assume that the covariance matrix of the errors is correctly specified.\n",
      "[2] The condition number is large, 1.62e+05. This might indicate that there are\n",
      "strong multicollinearity or other numerical problems.\n"
     ]
    }
   ],
   "source": [
    "y_m5 = model_ds.Rutting\n",
    "X_m5 = model_ds[['AlliP', 'LongP', 'sfThick', 'Tthick', 'logCumEsals', 'cumPPT', 'meanMaxTemp', 'cumFTC']]\n",
    "X_m5 = sm.add_constant(X_m5)\n",
    "m5 = sm.OLS(y_m5, X_m5)\n",
    "res5 = m5.fit()\n",
    "print res5.summary()"
   ]
  },
  {
   "cell_type": "code",
   "execution_count": 73,
   "metadata": {
    "collapsed": false
   },
   "outputs": [
    {
     "name": "stdout",
     "output_type": "stream",
     "text": [
      "                            OLS Regression Results                            \n",
      "==============================================================================\n",
      "Dep. Variable:                Rutting   R-squared:                       0.072\n",
      "Model:                            OLS   Adj. R-squared:                  0.072\n",
      "Method:                 Least Squares   F-statistic:                     1885.\n",
      "Date:                Thu, 08 Oct 2015   Prob (F-statistic):               0.00\n",
      "Time:                        21:25:31   Log-Likelihood:                 78794.\n",
      "No. Observations:              145629   AIC:                        -1.576e+05\n",
      "Df Residuals:                  145622   BIC:                        -1.575e+05\n",
      "Df Model:                           6                                         \n",
      "Covariance Type:            nonrobust                                         \n",
      "===============================================================================\n",
      "                  coef    std err          t      P>|t|      [95.0% Conf. Int.]\n",
      "-------------------------------------------------------------------------------\n",
      "const          -0.2329      0.004    -53.689      0.000        -0.241    -0.224\n",
      "AlliP           0.0021   4.61e-05     44.976      0.000         0.002     0.002\n",
      "LongP           0.0004   2.94e-05     13.023      0.000         0.000     0.000\n",
      "sfThick        -0.0052      0.002     -2.807      0.005        -0.009    -0.002\n",
      "Tthick         -0.0014      0.001     -2.285      0.022        -0.003    -0.000\n",
      "logCumEsals     0.0217      0.000     84.337      0.000         0.021     0.022\n",
      "meanMaxTemp     0.0038      0.000     36.309      0.000         0.004     0.004\n",
      "==============================================================================\n",
      "Omnibus:                    38830.089   Durbin-Watson:                   1.336\n",
      "Prob(Omnibus):                  0.000   Jarque-Bera (JB):           152547.940\n",
      "Skew:                           1.285   Prob(JB):                         0.00\n",
      "Kurtosis:                       7.305   Cond. No.                         386.\n",
      "==============================================================================\n",
      "\n",
      "Warnings:\n",
      "[1] Standard Errors assume that the covariance matrix of the errors is correctly specified.\n"
     ]
    }
   ],
   "source": [
    "y_m6 = model_ds.Rutting\n",
    "X_m6 = model_ds[['AlliP', 'LongP', 'sfThick', 'Tthick', 'logCumEsals', 'meanMaxTemp']]\n",
    "X_m6 = sm.add_constant(X_m6)\n",
    "m6 = sm.OLS(y_m6, X_m6)\n",
    "res6 = m6.fit()\n",
    "print res6.summary()"
   ]
  },
  {
   "cell_type": "code",
   "execution_count": 74,
   "metadata": {
    "collapsed": true
   },
   "outputs": [],
   "source": [
    "model_ds.loc[:, 'RuttingPred'] = res6.predict()"
   ]
  },
  {
   "cell_type": "markdown",
   "metadata": {},
   "source": [
    "# Rutting the Roughness regression with predicted Rutting values"
   ]
  },
  {
   "cell_type": "code",
   "execution_count": 87,
   "metadata": {
    "collapsed": true
   },
   "outputs": [],
   "source": [
    "model_ds.loc[:, 'AcumFTC'] = np.array(model_ds.loc[:, 'cumFTC'])+0.1\n",
    "model_ds.loc[:, 'cumFTPrep'] = np.array(model_ds.AcumFTC) * np.array(model_ds.cumPPT) \n",
    "model_ds.loc[:, 'logcumFTPrep'] = np.log(model_ds.cumFTPrep)"
   ]
  },
  {
   "cell_type": "code",
   "execution_count": 95,
   "metadata": {
    "collapsed": true
   },
   "outputs": [],
   "source": [
    "model_ds.loc[:, 'sqrtCumESALs'] = np.sqrt(model_ds.cumESALs)\n",
    "model_ds.loc[:, 'LsqCumESALs'] = np.log(np.square(model_ds.cumESALs))"
   ]
  },
  {
   "cell_type": "code",
   "execution_count": 106,
   "metadata": {
    "collapsed": false
   },
   "outputs": [
    {
     "name": "stdout",
     "output_type": "stream",
     "text": [
      "                            OLS Regression Results                            \n",
      "==============================================================================\n",
      "Dep. Variable:                    IRI   R-squared:                       0.243\n",
      "Model:                            OLS   Adj. R-squared:                  0.243\n",
      "Method:                 Least Squares   F-statistic:                     5836.\n",
      "Date:                Thu, 08 Oct 2015   Prob (F-statistic):               0.00\n",
      "Time:                        23:02:22   Log-Likelihood:            -4.3880e+05\n",
      "No. Observations:              145629   AIC:                         8.776e+05\n",
      "Df Residuals:                  145620   BIC:                         8.777e+05\n",
      "Df Model:                           8                                         \n",
      "Covariance Type:            nonrobust                                         \n",
      "===============================================================================\n",
      "                  coef    std err          t      P>|t|      [95.0% Conf. Int.]\n",
      "-------------------------------------------------------------------------------\n",
      "const          27.8433      0.159    175.008      0.000        27.532    28.155\n",
      "AlliP           0.0199      0.002     12.233      0.000         0.017     0.023\n",
      "LongP           0.0050      0.001      4.858      0.000         0.003     0.007\n",
      "Tthick         -0.4337      0.022    -19.313      0.000        -0.478    -0.390\n",
      "Rutting        15.3249      0.092    167.288      0.000        15.145    15.504\n",
      "IsBridge        2.0797      0.083     25.153      0.000         1.918     2.242\n",
      "logCumEsals    -1.4095      0.009   -153.021      0.000        -1.428    -1.391\n",
      "meanMinTemp     0.0962      0.005     21.309      0.000         0.087     0.105\n",
      "meanMaxTemp    -0.0647      0.005    -13.836      0.000        -0.074    -0.056\n",
      "==============================================================================\n",
      "Omnibus:                    17381.895   Durbin-Watson:                   1.164\n",
      "Prob(Omnibus):                  0.000   Jarque-Bera (JB):            55680.811\n",
      "Skew:                           0.619   Prob(JB):                         0.00\n",
      "Kurtosis:                       5.765   Cond. No.                         409.\n",
      "==============================================================================\n",
      "\n",
      "Warnings:\n",
      "[1] Standard Errors assume that the covariance matrix of the errors is correctly specified.\n"
     ]
    }
   ],
   "source": [
    "y_m7 = model_ds.IRI\n",
    "X_m7 = model_ds[['AlliP', 'LongP', 'Tthick', 'Rutting', 'IsBridge', 'logCumEsals', 'meanMinTemp', 'meanMaxTemp']]\n",
    "X_m7 = sm.add_constant(X_m7)\n",
    "m7 = sm.OLS(y_m7, X_m7)\n",
    "result7 = m7.fit()\n",
    "print result7.summary()"
   ]
  },
  {
   "cell_type": "code",
   "execution_count": 115,
   "metadata": {
    "collapsed": false
   },
   "outputs": [
    {
     "name": "stdout",
     "output_type": "stream",
     "text": [
      "                            OLS Regression Results                            \n",
      "==============================================================================\n",
      "Dep. Variable:                    IRI   R-squared:                       0.098\n",
      "Model:                            OLS   Adj. R-squared:                  0.098\n",
      "Method:                 Least Squares   F-statistic:                     1754.\n",
      "Date:                Thu, 08 Oct 2015   Prob (F-statistic):               0.00\n",
      "Time:                        23:14:03   Log-Likelihood:            -4.5155e+05\n",
      "No. Observations:              145629   AIC:                         9.031e+05\n",
      "Df Residuals:                  145619   BIC:                         9.032e+05\n",
      "Df Model:                           9                                         \n",
      "Covariance Type:            nonrobust                                         \n",
      "===============================================================================\n",
      "                  coef    std err          t      P>|t|      [95.0% Conf. Int.]\n",
      "-------------------------------------------------------------------------------\n",
      "const          23.4508      0.161    145.370      0.000        23.135    23.767\n",
      "AlliP           0.0517      0.002     29.395      0.000         0.048     0.055\n",
      "LongP           0.0112      0.001      9.956      0.000         0.009     0.013\n",
      "Tthick         -0.4350      0.025    -17.591      0.000        -0.483    -0.387\n",
      "IsBridge        2.0652      0.091     22.806      0.000         1.888     2.243\n",
      "logCumEsals    -1.0955      0.010   -106.170      0.000        -1.116    -1.075\n",
      "meanMinTemp     0.0924      0.004     21.472      0.000         0.084     0.101\n",
      "logCumPPT       0.1016      0.014      7.011      0.000         0.073     0.130\n",
      "BA_            -0.1403      0.030     -4.645      0.000        -0.199    -0.081\n",
      "SA_             0.2433      0.066      3.673      0.000         0.113     0.373\n",
      "==============================================================================\n",
      "Omnibus:                     8888.437   Durbin-Watson:                   1.019\n",
      "Prob(Omnibus):                  0.000   Jarque-Bera (JB):            31472.814\n",
      "Skew:                           0.236   Prob(JB):                         0.00\n",
      "Kurtosis:                       5.228   Cond. No.                         246.\n",
      "==============================================================================\n",
      "\n",
      "Warnings:\n",
      "[1] Standard Errors assume that the covariance matrix of the errors is correctly specified.\n"
     ]
    }
   ],
   "source": [
    "y_m8 = model_ds.IRI\n",
    "X_m8 = model_ds[['AlliP', 'LongP','Tthick', 'IsBridge', 'logCumEsals', 'meanMinTemp', 'logCumPPT', 'BA_', 'SA_']]\n",
    "X_m8 = sm.add_constant(X_m8)\n",
    "m8 = sm.OLS(y_m8, X_m8)\n",
    "result8 = m8.fit()\n",
    "print result8.summary()"
   ]
  },
  {
   "cell_type": "code",
   "execution_count": null,
   "metadata": {
    "collapsed": true
   },
   "outputs": [],
   "source": []
  }
 ],
 "metadata": {
  "kernelspec": {
   "display_name": "Python 2",
   "language": "python",
   "name": "python2"
  },
  "language_info": {
   "codemirror_mode": {
    "name": "ipython",
    "version": 2
   },
   "file_extension": ".py",
   "mimetype": "text/x-python",
   "name": "python",
   "nbconvert_exporter": "python",
   "pygments_lexer": "ipython2",
   "version": "2.7.9"
  }
 },
 "nbformat": 4,
 "nbformat_minor": 0
}
