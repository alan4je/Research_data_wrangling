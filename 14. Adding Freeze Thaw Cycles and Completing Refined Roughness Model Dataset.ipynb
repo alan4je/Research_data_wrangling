{
 "cells": [
  {
   "cell_type": "code",
   "execution_count": 1,
   "metadata": {
    "collapsed": true
   },
   "outputs": [],
   "source": [
    "import pandas as pd, numpy as np"
   ]
  },
  {
   "cell_type": "code",
   "execution_count": 3,
   "metadata": {
    "collapsed": false
   },
   "outputs": [],
   "source": [
    "rdat = pd.read_csv('../modelDatasets/RMdata88_99.csv')"
   ]
  },
  {
   "cell_type": "code",
   "execution_count": 4,
   "metadata": {
    "collapsed": false
   },
   "outputs": [
    {
     "data": {
      "text/html": [
       "<div>\n",
       "<table border=\"1\" class=\"dataframe\">\n",
       "  <thead>\n",
       "    <tr style=\"text-align: right;\">\n",
       "      <th></th>\n",
       "      <th>Unnamed: 0</th>\n",
       "      <th>Unnamed: 0.1</th>\n",
       "      <th>UID</th>\n",
       "      <th>sYear</th>\n",
       "      <th>Rutting</th>\n",
       "      <th>IRI</th>\n",
       "      <th>PSC</th>\n",
       "      <th>Alli</th>\n",
       "      <th>Long</th>\n",
       "      <th>Is Bridge</th>\n",
       "      <th>...</th>\n",
       "      <th>meanMaxTemp</th>\n",
       "      <th>cumESALs</th>\n",
       "      <th>cumFTC</th>\n",
       "      <th>pAlli</th>\n",
       "      <th>pLong</th>\n",
       "      <th>IRIsi</th>\n",
       "      <th>esals</th>\n",
       "      <th>ppt</th>\n",
       "      <th>mint</th>\n",
       "      <th>maxt</th>\n",
       "    </tr>\n",
       "  </thead>\n",
       "  <tbody>\n",
       "    <tr>\n",
       "      <th>0</th>\n",
       "      <td>0</td>\n",
       "      <td>11298</td>\n",
       "      <td>222</td>\n",
       "      <td>1988</td>\n",
       "      <td>0.236</td>\n",
       "      <td>8.815663</td>\n",
       "      <td>78</td>\n",
       "      <td>0.004356</td>\n",
       "      <td>0.023523</td>\n",
       "      <td>1</td>\n",
       "      <td>...</td>\n",
       "      <td>25.507500</td>\n",
       "      <td>547733.683099</td>\n",
       "      <td>0</td>\n",
       "      <td>1.980028</td>\n",
       "      <td>10.692152</td>\n",
       "      <td>1.669634</td>\n",
       "      <td>80705.085747</td>\n",
       "      <td>1653.949951</td>\n",
       "      <td>0.78</td>\n",
       "      <td>24.230000</td>\n",
       "    </tr>\n",
       "    <tr>\n",
       "      <th>1</th>\n",
       "      <td>1</td>\n",
       "      <td>11299</td>\n",
       "      <td>583</td>\n",
       "      <td>1988</td>\n",
       "      <td>0.512</td>\n",
       "      <td>14.358494</td>\n",
       "      <td>37</td>\n",
       "      <td>0.023864</td>\n",
       "      <td>0.011932</td>\n",
       "      <td>1</td>\n",
       "      <td>...</td>\n",
       "      <td>23.423749</td>\n",
       "      <td>308712.206196</td>\n",
       "      <td>1015</td>\n",
       "      <td>19.886370</td>\n",
       "      <td>9.943185</td>\n",
       "      <td>2.719413</td>\n",
       "      <td>44455.741252</td>\n",
       "      <td>2380.080078</td>\n",
       "      <td>-5.49</td>\n",
       "      <td>22.139999</td>\n",
       "    </tr>\n",
       "    <tr>\n",
       "      <th>2</th>\n",
       "      <td>2</td>\n",
       "      <td>11300</td>\n",
       "      <td>589</td>\n",
       "      <td>1988</td>\n",
       "      <td>0.512</td>\n",
       "      <td>14.358494</td>\n",
       "      <td>37</td>\n",
       "      <td>0.065909</td>\n",
       "      <td>0.032955</td>\n",
       "      <td>0</td>\n",
       "      <td>...</td>\n",
       "      <td>23.423749</td>\n",
       "      <td>297934.090065</td>\n",
       "      <td>1015</td>\n",
       "      <td>19.972458</td>\n",
       "      <td>9.986229</td>\n",
       "      <td>2.719413</td>\n",
       "      <td>42903.651207</td>\n",
       "      <td>2380.080078</td>\n",
       "      <td>-5.49</td>\n",
       "      <td>22.139999</td>\n",
       "    </tr>\n",
       "    <tr>\n",
       "      <th>3</th>\n",
       "      <td>3</td>\n",
       "      <td>11301</td>\n",
       "      <td>1623</td>\n",
       "      <td>1988</td>\n",
       "      <td>0.236</td>\n",
       "      <td>11.085579</td>\n",
       "      <td>62</td>\n",
       "      <td>0.011932</td>\n",
       "      <td>0.029924</td>\n",
       "      <td>0</td>\n",
       "      <td>...</td>\n",
       "      <td>30.033750</td>\n",
       "      <td>100146.413858</td>\n",
       "      <td>188</td>\n",
       "      <td>3.977274</td>\n",
       "      <td>9.974751</td>\n",
       "      <td>2.099542</td>\n",
       "      <td>14421.467543</td>\n",
       "      <td>184.009995</td>\n",
       "      <td>-8.78</td>\n",
       "      <td>28.590000</td>\n",
       "    </tr>\n",
       "    <tr>\n",
       "      <th>4</th>\n",
       "      <td>4</td>\n",
       "      <td>11302</td>\n",
       "      <td>1650</td>\n",
       "      <td>1988</td>\n",
       "      <td>0.236</td>\n",
       "      <td>12.669245</td>\n",
       "      <td>68</td>\n",
       "      <td>0.011932</td>\n",
       "      <td>0.029924</td>\n",
       "      <td>0</td>\n",
       "      <td>...</td>\n",
       "      <td>29.921250</td>\n",
       "      <td>78918.237150</td>\n",
       "      <td>188</td>\n",
       "      <td>5.423555</td>\n",
       "      <td>13.601933</td>\n",
       "      <td>2.399479</td>\n",
       "      <td>11364.528711</td>\n",
       "      <td>186.139999</td>\n",
       "      <td>-8.73</td>\n",
       "      <td>28.510000</td>\n",
       "    </tr>\n",
       "  </tbody>\n",
       "</table>\n",
       "<p>5 rows × 29 columns</p>\n",
       "</div>"
      ],
      "text/plain": [
       "   Unnamed: 0  Unnamed: 0.1   UID  sYear  Rutting        IRI  PSC      Alli  \\\n",
       "0           0         11298   222   1988    0.236   8.815663   78  0.004356   \n",
       "1           1         11299   583   1988    0.512  14.358494   37  0.023864   \n",
       "2           2         11300   589   1988    0.512  14.358494   37  0.065909   \n",
       "3           3         11301  1623   1988    0.236  11.085579   62  0.011932   \n",
       "4           4         11302  1650   1988    0.236  12.669245   68  0.011932   \n",
       "\n",
       "       Long  Is Bridge    ...      meanMaxTemp       cumESALs  cumFTC  \\\n",
       "0  0.023523          1    ...        25.507500  547733.683099       0   \n",
       "1  0.011932          1    ...        23.423749  308712.206196    1015   \n",
       "2  0.032955          0    ...        23.423749  297934.090065    1015   \n",
       "3  0.029924          0    ...        30.033750  100146.413858     188   \n",
       "4  0.029924          0    ...        29.921250   78918.237150     188   \n",
       "\n",
       "       pAlli      pLong     IRIsi         esals          ppt  mint       maxt  \n",
       "0   1.980028  10.692152  1.669634  80705.085747  1653.949951  0.78  24.230000  \n",
       "1  19.886370   9.943185  2.719413  44455.741252  2380.080078 -5.49  22.139999  \n",
       "2  19.972458   9.986229  2.719413  42903.651207  2380.080078 -5.49  22.139999  \n",
       "3   3.977274   9.974751  2.099542  14421.467543   184.009995 -8.78  28.590000  \n",
       "4   5.423555  13.601933  2.399479  11364.528711   186.139999 -8.73  28.510000  \n",
       "\n",
       "[5 rows x 29 columns]"
      ]
     },
     "execution_count": 4,
     "metadata": {},
     "output_type": "execute_result"
    }
   ],
   "source": [
    "rdat.head()"
   ]
  },
  {
   "cell_type": "code",
   "execution_count": 5,
   "metadata": {
    "collapsed": true
   },
   "outputs": [],
   "source": [
    "uids = rdat.UID.unique()"
   ]
  },
  {
   "cell_type": "code",
   "execution_count": 6,
   "metadata": {
    "collapsed": false
   },
   "outputs": [
    {
     "name": "stdout",
     "output_type": "stream",
     "text": [
      "8861\n"
     ]
    }
   ],
   "source": [
    "print len(uids)"
   ]
  },
  {
   "cell_type": "code",
   "execution_count": 7,
   "metadata": {
    "collapsed": true
   },
   "outputs": [],
   "source": [
    "cds = pd.read_csv('../FinalDatasets/RCSegCoord.csv')"
   ]
  },
  {
   "cell_type": "code",
   "execution_count": 8,
   "metadata": {
    "collapsed": false
   },
   "outputs": [
    {
     "data": {
      "text/html": [
       "<div>\n",
       "<table border=\"1\" class=\"dataframe\">\n",
       "  <thead>\n",
       "    <tr style=\"text-align: right;\">\n",
       "      <th></th>\n",
       "      <th>Unnamed: 0</th>\n",
       "      <th>UID</th>\n",
       "      <th>Longitude</th>\n",
       "      <th>Latitude</th>\n",
       "    </tr>\n",
       "  </thead>\n",
       "  <tbody>\n",
       "    <tr>\n",
       "      <th>0</th>\n",
       "      <td>0</td>\n",
       "      <td>222</td>\n",
       "      <td>-121.802218</td>\n",
       "      <td>47.860322</td>\n",
       "    </tr>\n",
       "    <tr>\n",
       "      <th>1</th>\n",
       "      <td>1</td>\n",
       "      <td>540</td>\n",
       "      <td>-121.252570</td>\n",
       "      <td>47.715980</td>\n",
       "    </tr>\n",
       "    <tr>\n",
       "      <th>2</th>\n",
       "      <td>2</td>\n",
       "      <td>2431</td>\n",
       "      <td>-118.301093</td>\n",
       "      <td>47.646535</td>\n",
       "    </tr>\n",
       "    <tr>\n",
       "      <th>3</th>\n",
       "      <td>3</td>\n",
       "      <td>704</td>\n",
       "      <td>-121.000382</td>\n",
       "      <td>47.774584</td>\n",
       "    </tr>\n",
       "    <tr>\n",
       "      <th>4</th>\n",
       "      <td>4</td>\n",
       "      <td>776</td>\n",
       "      <td>-120.868954</td>\n",
       "      <td>47.787672</td>\n",
       "    </tr>\n",
       "  </tbody>\n",
       "</table>\n",
       "</div>"
      ],
      "text/plain": [
       "   Unnamed: 0   UID   Longitude   Latitude\n",
       "0           0   222 -121.802218  47.860322\n",
       "1           1   540 -121.252570  47.715980\n",
       "2           2  2431 -118.301093  47.646535\n",
       "3           3   704 -121.000382  47.774584\n",
       "4           4   776 -120.868954  47.787672"
      ]
     },
     "execution_count": 8,
     "metadata": {},
     "output_type": "execute_result"
    }
   ],
   "source": [
    "cds.head()"
   ]
  },
  {
   "cell_type": "code",
   "execution_count": 9,
   "metadata": {
    "collapsed": false
   },
   "outputs": [
    {
     "name": "stdout",
     "output_type": "stream",
     "text": [
      "True\n"
     ]
    }
   ],
   "source": [
    "print len(rdat[rdat.UID.isin(cds.UID)]) == len(rdat)"
   ]
  },
  {
   "cell_type": "code",
   "execution_count": 10,
   "metadata": {
    "collapsed": false
   },
   "outputs": [
    {
     "name": "stdout",
     "output_type": "stream",
     "text": [
      "True\n"
     ]
    }
   ],
   "source": [
    "print len(cds) == len(cds.UID.unique())"
   ]
  },
  {
   "cell_type": "code",
   "execution_count": 13,
   "metadata": {
    "collapsed": false
   },
   "outputs": [
    {
     "data": {
      "text/plain": [
       "dtype('int64')"
      ]
     },
     "execution_count": 13,
     "metadata": {},
     "output_type": "execute_result"
    }
   ],
   "source": [
    "cds.UID.dtype"
   ]
  },
  {
   "cell_type": "code",
   "execution_count": 12,
   "metadata": {
    "collapsed": true
   },
   "outputs": [],
   "source": [
    "cds.UID = cds.UID.astype('int')"
   ]
  },
  {
   "cell_type": "code",
   "execution_count": 14,
   "metadata": {
    "collapsed": true
   },
   "outputs": [],
   "source": [
    "cds.to_csv('../FinalDatasets/RCSegCoord.csv')"
   ]
  },
  {
   "cell_type": "code",
   "execution_count": 16,
   "metadata": {
    "collapsed": false
   },
   "outputs": [],
   "source": [
    "mds = pd.read_csv('../FinalDatasets/RMid2icao.csv') # contains match data for UID and ICAO codes to obtain FTCycle data"
   ]
  },
  {
   "cell_type": "code",
   "execution_count": 17,
   "metadata": {
    "collapsed": false
   },
   "outputs": [
    {
     "data": {
      "text/html": [
       "<div>\n",
       "<table border=\"1\" class=\"dataframe\">\n",
       "  <thead>\n",
       "    <tr style=\"text-align: right;\">\n",
       "      <th></th>\n",
       "      <th>InputID</th>\n",
       "      <th>TargetID</th>\n",
       "      <th>Distance</th>\n",
       "    </tr>\n",
       "  </thead>\n",
       "  <tbody>\n",
       "    <tr>\n",
       "      <th>0</th>\n",
       "      <td>222</td>\n",
       "      <td>KAWO</td>\n",
       "      <td>0.469535</td>\n",
       "    </tr>\n",
       "    <tr>\n",
       "      <th>1</th>\n",
       "      <td>540</td>\n",
       "      <td>KESW</td>\n",
       "      <td>0.465864</td>\n",
       "    </tr>\n",
       "    <tr>\n",
       "      <th>2</th>\n",
       "      <td>2431</td>\n",
       "      <td>KSKA</td>\n",
       "      <td>0.657846</td>\n",
       "    </tr>\n",
       "    <tr>\n",
       "      <th>3</th>\n",
       "      <td>704</td>\n",
       "      <td>KESW</td>\n",
       "      <td>0.552878</td>\n",
       "    </tr>\n",
       "    <tr>\n",
       "      <th>4</th>\n",
       "      <td>776</td>\n",
       "      <td>KESW</td>\n",
       "      <td>0.621369</td>\n",
       "    </tr>\n",
       "  </tbody>\n",
       "</table>\n",
       "</div>"
      ],
      "text/plain": [
       "   InputID TargetID  Distance\n",
       "0      222     KAWO  0.469535\n",
       "1      540     KESW  0.465864\n",
       "2     2431     KSKA  0.657846\n",
       "3      704     KESW  0.552878\n",
       "4      776     KESW  0.621369"
      ]
     },
     "execution_count": 17,
     "metadata": {},
     "output_type": "execute_result"
    }
   ],
   "source": [
    "mds.head()"
   ]
  },
  {
   "cell_type": "code",
   "execution_count": 18,
   "metadata": {
    "collapsed": true
   },
   "outputs": [],
   "source": [
    "mds.index = mds.InputID"
   ]
  },
  {
   "cell_type": "code",
   "execution_count": 19,
   "metadata": {
    "collapsed": true
   },
   "outputs": [],
   "source": [
    "def getCode(row):\n",
    "    index = row['UID']\n",
    "    return mds.loc[index,'TargetID']"
   ]
  },
  {
   "cell_type": "code",
   "execution_count": 21,
   "metadata": {
    "collapsed": true
   },
   "outputs": [],
   "source": [
    "rdat.UID = rdat.UID.astype('int')"
   ]
  },
  {
   "cell_type": "code",
   "execution_count": 22,
   "metadata": {
    "collapsed": false
   },
   "outputs": [],
   "source": [
    "rdat.loc[:, 'ICAO'] = rdat.apply(getCode, axis =1)"
   ]
  },
  {
   "cell_type": "markdown",
   "metadata": {},
   "source": [
    "Loading the weather dataset with all the variables. Variable of interest is the freeze thaw cycles.."
   ]
  },
  {
   "cell_type": "code",
   "execution_count": 23,
   "metadata": {
    "collapsed": true
   },
   "outputs": [],
   "source": [
    "wds = pd.read_excel('../DataFiles/AnnualWeatherR.xlsx') #contains yrs 1981 -1999\n",
    "wd = wds[['Year', 'FTCycles', 'Airport']]\n",
    "ft = wd.pivot('Airport', 'Year', 'FTCycles')"
   ]
  },
  {
   "cell_type": "code",
   "execution_count": 24,
   "metadata": {
    "collapsed": false
   },
   "outputs": [
    {
     "data": {
      "text/html": [
       "<div>\n",
       "<table border=\"1\" class=\"dataframe\">\n",
       "  <thead>\n",
       "    <tr style=\"text-align: right;\">\n",
       "      <th>Year</th>\n",
       "      <th>1980</th>\n",
       "      <th>1981</th>\n",
       "      <th>1982</th>\n",
       "      <th>1983</th>\n",
       "      <th>1984</th>\n",
       "      <th>1985</th>\n",
       "      <th>1986</th>\n",
       "      <th>1987</th>\n",
       "      <th>1988</th>\n",
       "      <th>1989</th>\n",
       "      <th>1990</th>\n",
       "      <th>1991</th>\n",
       "      <th>1992</th>\n",
       "      <th>1993</th>\n",
       "      <th>1994</th>\n",
       "      <th>1995</th>\n",
       "      <th>1996</th>\n",
       "      <th>1997</th>\n",
       "      <th>1998</th>\n",
       "      <th>1999</th>\n",
       "    </tr>\n",
       "    <tr>\n",
       "      <th>Airport</th>\n",
       "      <th></th>\n",
       "      <th></th>\n",
       "      <th></th>\n",
       "      <th></th>\n",
       "      <th></th>\n",
       "      <th></th>\n",
       "      <th></th>\n",
       "      <th></th>\n",
       "      <th></th>\n",
       "      <th></th>\n",
       "      <th></th>\n",
       "      <th></th>\n",
       "      <th></th>\n",
       "      <th></th>\n",
       "      <th></th>\n",
       "      <th></th>\n",
       "      <th></th>\n",
       "      <th></th>\n",
       "      <th></th>\n",
       "      <th></th>\n",
       "    </tr>\n",
       "  </thead>\n",
       "  <tbody>\n",
       "    <tr>\n",
       "      <th>KALW</th>\n",
       "      <td>0</td>\n",
       "      <td>12</td>\n",
       "      <td>30</td>\n",
       "      <td>25</td>\n",
       "      <td>23</td>\n",
       "      <td>48</td>\n",
       "      <td>26</td>\n",
       "      <td>23</td>\n",
       "      <td>22</td>\n",
       "      <td>28</td>\n",
       "      <td>25</td>\n",
       "      <td>17</td>\n",
       "      <td>19</td>\n",
       "      <td>38</td>\n",
       "      <td>21</td>\n",
       "      <td>18</td>\n",
       "      <td>30</td>\n",
       "      <td>11</td>\n",
       "      <td>11</td>\n",
       "      <td>11</td>\n",
       "    </tr>\n",
       "    <tr>\n",
       "      <th>KAWO</th>\n",
       "      <td>0</td>\n",
       "      <td>0</td>\n",
       "      <td>0</td>\n",
       "      <td>0</td>\n",
       "      <td>0</td>\n",
       "      <td>0</td>\n",
       "      <td>0</td>\n",
       "      <td>0</td>\n",
       "      <td>0</td>\n",
       "      <td>0</td>\n",
       "      <td>0</td>\n",
       "      <td>0</td>\n",
       "      <td>0</td>\n",
       "      <td>0</td>\n",
       "      <td>0</td>\n",
       "      <td>0</td>\n",
       "      <td>0</td>\n",
       "      <td>0</td>\n",
       "      <td>0</td>\n",
       "      <td>0</td>\n",
       "    </tr>\n",
       "    <tr>\n",
       "      <th>KBFI</th>\n",
       "      <td>8</td>\n",
       "      <td>3</td>\n",
       "      <td>8</td>\n",
       "      <td>5</td>\n",
       "      <td>9</td>\n",
       "      <td>16</td>\n",
       "      <td>4</td>\n",
       "      <td>5</td>\n",
       "      <td>0</td>\n",
       "      <td>8</td>\n",
       "      <td>18</td>\n",
       "      <td>3</td>\n",
       "      <td>9</td>\n",
       "      <td>10</td>\n",
       "      <td>7</td>\n",
       "      <td>3</td>\n",
       "      <td>14</td>\n",
       "      <td>0</td>\n",
       "      <td>7</td>\n",
       "      <td>2</td>\n",
       "    </tr>\n",
       "    <tr>\n",
       "      <th>KBLI</th>\n",
       "      <td>13</td>\n",
       "      <td>4</td>\n",
       "      <td>12</td>\n",
       "      <td>5</td>\n",
       "      <td>11</td>\n",
       "      <td>16</td>\n",
       "      <td>9</td>\n",
       "      <td>8</td>\n",
       "      <td>9</td>\n",
       "      <td>14</td>\n",
       "      <td>24</td>\n",
       "      <td>10</td>\n",
       "      <td>7</td>\n",
       "      <td>7</td>\n",
       "      <td>7</td>\n",
       "      <td>7</td>\n",
       "      <td>27</td>\n",
       "      <td>3</td>\n",
       "      <td>9</td>\n",
       "      <td>10</td>\n",
       "    </tr>\n",
       "    <tr>\n",
       "      <th>KCLM</th>\n",
       "      <td>0</td>\n",
       "      <td>2</td>\n",
       "      <td>1</td>\n",
       "      <td>1</td>\n",
       "      <td>7</td>\n",
       "      <td>7</td>\n",
       "      <td>6</td>\n",
       "      <td>5</td>\n",
       "      <td>5</td>\n",
       "      <td>7</td>\n",
       "      <td>18</td>\n",
       "      <td>7</td>\n",
       "      <td>5</td>\n",
       "      <td>8</td>\n",
       "      <td>4</td>\n",
       "      <td>2</td>\n",
       "      <td>20</td>\n",
       "      <td>1</td>\n",
       "      <td>6</td>\n",
       "      <td>7</td>\n",
       "    </tr>\n",
       "  </tbody>\n",
       "</table>\n",
       "</div>"
      ],
      "text/plain": [
       "Year     1980  1981  1982  1983  1984  1985  1986  1987  1988  1989  1990  \\\n",
       "Airport                                                                     \n",
       "KALW        0    12    30    25    23    48    26    23    22    28    25   \n",
       "KAWO        0     0     0     0     0     0     0     0     0     0     0   \n",
       "KBFI        8     3     8     5     9    16     4     5     0     8    18   \n",
       "KBLI       13     4    12     5    11    16     9     8     9    14    24   \n",
       "KCLM        0     2     1     1     7     7     6     5     5     7    18   \n",
       "\n",
       "Year     1991  1992  1993  1994  1995  1996  1997  1998  1999  \n",
       "Airport                                                        \n",
       "KALW       17    19    38    21    18    30    11    11    11  \n",
       "KAWO        0     0     0     0     0     0     0     0     0  \n",
       "KBFI        3     9    10     7     3    14     0     7     2  \n",
       "KBLI       10     7     7     7     7    27     3     9    10  \n",
       "KCLM        7     5     8     4     2    20     1     6     7  "
      ]
     },
     "execution_count": 24,
     "metadata": {},
     "output_type": "execute_result"
    }
   ],
   "source": [
    "ft.head()"
   ]
  },
  {
   "cell_type": "code",
   "execution_count": 28,
   "metadata": {
    "collapsed": false
   },
   "outputs": [
    {
     "name": "stdout",
     "output_type": "stream",
     "text": [
      "int64\n",
      "int64\n"
     ]
    }
   ],
   "source": [
    "print ft.columns.dtype\n",
    "print rdat.sYear.dtype"
   ]
  },
  {
   "cell_type": "code",
   "execution_count": 29,
   "metadata": {
    "collapsed": true
   },
   "outputs": [],
   "source": [
    "def getFTC(row):\n",
    "    index = row['ICAO']\n",
    "    year  = row['sYear']\n",
    "    return ft.loc[index, year]"
   ]
  },
  {
   "cell_type": "code",
   "execution_count": 30,
   "metadata": {
    "collapsed": true
   },
   "outputs": [],
   "source": [
    "rdat.loc[:, 'ftc'] = rdat.apply(getFTC, axis = 1)"
   ]
  },
  {
   "cell_type": "code",
   "execution_count": 31,
   "metadata": {
    "collapsed": false
   },
   "outputs": [
    {
     "data": {
      "text/html": [
       "<div>\n",
       "<table border=\"1\" class=\"dataframe\">\n",
       "  <thead>\n",
       "    <tr style=\"text-align: right;\">\n",
       "      <th></th>\n",
       "      <th>Unnamed: 0</th>\n",
       "      <th>Unnamed: 0.1</th>\n",
       "      <th>UID</th>\n",
       "      <th>sYear</th>\n",
       "      <th>Rutting</th>\n",
       "      <th>IRI</th>\n",
       "      <th>PSC</th>\n",
       "      <th>Alli</th>\n",
       "      <th>Long</th>\n",
       "      <th>Is Bridge</th>\n",
       "      <th>...</th>\n",
       "      <th>cumFTC</th>\n",
       "      <th>pAlli</th>\n",
       "      <th>pLong</th>\n",
       "      <th>IRIsi</th>\n",
       "      <th>esals</th>\n",
       "      <th>ppt</th>\n",
       "      <th>mint</th>\n",
       "      <th>maxt</th>\n",
       "      <th>ICAO</th>\n",
       "      <th>ftc</th>\n",
       "    </tr>\n",
       "  </thead>\n",
       "  <tbody>\n",
       "    <tr>\n",
       "      <th>0</th>\n",
       "      <td>0</td>\n",
       "      <td>11298</td>\n",
       "      <td>222</td>\n",
       "      <td>1988</td>\n",
       "      <td>0.236</td>\n",
       "      <td>8.815663</td>\n",
       "      <td>78</td>\n",
       "      <td>0.004356</td>\n",
       "      <td>0.023523</td>\n",
       "      <td>1</td>\n",
       "      <td>...</td>\n",
       "      <td>0</td>\n",
       "      <td>1.980028</td>\n",
       "      <td>10.692152</td>\n",
       "      <td>1.669634</td>\n",
       "      <td>80705.085747</td>\n",
       "      <td>1653.949951</td>\n",
       "      <td>0.78</td>\n",
       "      <td>24.230000</td>\n",
       "      <td>KAWO</td>\n",
       "      <td>0</td>\n",
       "    </tr>\n",
       "    <tr>\n",
       "      <th>1</th>\n",
       "      <td>1</td>\n",
       "      <td>11299</td>\n",
       "      <td>583</td>\n",
       "      <td>1988</td>\n",
       "      <td>0.512</td>\n",
       "      <td>14.358494</td>\n",
       "      <td>37</td>\n",
       "      <td>0.023864</td>\n",
       "      <td>0.011932</td>\n",
       "      <td>1</td>\n",
       "      <td>...</td>\n",
       "      <td>1015</td>\n",
       "      <td>19.886370</td>\n",
       "      <td>9.943185</td>\n",
       "      <td>2.719413</td>\n",
       "      <td>44455.741252</td>\n",
       "      <td>2380.080078</td>\n",
       "      <td>-5.49</td>\n",
       "      <td>22.139999</td>\n",
       "      <td>KESW</td>\n",
       "      <td>109</td>\n",
       "    </tr>\n",
       "    <tr>\n",
       "      <th>2</th>\n",
       "      <td>2</td>\n",
       "      <td>11300</td>\n",
       "      <td>589</td>\n",
       "      <td>1988</td>\n",
       "      <td>0.512</td>\n",
       "      <td>14.358494</td>\n",
       "      <td>37</td>\n",
       "      <td>0.065909</td>\n",
       "      <td>0.032955</td>\n",
       "      <td>0</td>\n",
       "      <td>...</td>\n",
       "      <td>1015</td>\n",
       "      <td>19.972458</td>\n",
       "      <td>9.986229</td>\n",
       "      <td>2.719413</td>\n",
       "      <td>42903.651207</td>\n",
       "      <td>2380.080078</td>\n",
       "      <td>-5.49</td>\n",
       "      <td>22.139999</td>\n",
       "      <td>KESW</td>\n",
       "      <td>109</td>\n",
       "    </tr>\n",
       "    <tr>\n",
       "      <th>3</th>\n",
       "      <td>3</td>\n",
       "      <td>11301</td>\n",
       "      <td>1623</td>\n",
       "      <td>1988</td>\n",
       "      <td>0.236</td>\n",
       "      <td>11.085579</td>\n",
       "      <td>62</td>\n",
       "      <td>0.011932</td>\n",
       "      <td>0.029924</td>\n",
       "      <td>0</td>\n",
       "      <td>...</td>\n",
       "      <td>188</td>\n",
       "      <td>3.977274</td>\n",
       "      <td>9.974751</td>\n",
       "      <td>2.099542</td>\n",
       "      <td>14421.467543</td>\n",
       "      <td>184.009995</td>\n",
       "      <td>-8.78</td>\n",
       "      <td>28.590000</td>\n",
       "      <td>KEPH</td>\n",
       "      <td>19</td>\n",
       "    </tr>\n",
       "    <tr>\n",
       "      <th>4</th>\n",
       "      <td>4</td>\n",
       "      <td>11302</td>\n",
       "      <td>1650</td>\n",
       "      <td>1988</td>\n",
       "      <td>0.236</td>\n",
       "      <td>12.669245</td>\n",
       "      <td>68</td>\n",
       "      <td>0.011932</td>\n",
       "      <td>0.029924</td>\n",
       "      <td>0</td>\n",
       "      <td>...</td>\n",
       "      <td>188</td>\n",
       "      <td>5.423555</td>\n",
       "      <td>13.601933</td>\n",
       "      <td>2.399479</td>\n",
       "      <td>11364.528711</td>\n",
       "      <td>186.139999</td>\n",
       "      <td>-8.73</td>\n",
       "      <td>28.510000</td>\n",
       "      <td>KEPH</td>\n",
       "      <td>19</td>\n",
       "    </tr>\n",
       "  </tbody>\n",
       "</table>\n",
       "<p>5 rows × 31 columns</p>\n",
       "</div>"
      ],
      "text/plain": [
       "   Unnamed: 0  Unnamed: 0.1   UID  sYear  Rutting        IRI  PSC      Alli  \\\n",
       "0           0         11298   222   1988    0.236   8.815663   78  0.004356   \n",
       "1           1         11299   583   1988    0.512  14.358494   37  0.023864   \n",
       "2           2         11300   589   1988    0.512  14.358494   37  0.065909   \n",
       "3           3         11301  1623   1988    0.236  11.085579   62  0.011932   \n",
       "4           4         11302  1650   1988    0.236  12.669245   68  0.011932   \n",
       "\n",
       "       Long  Is Bridge ...   cumFTC      pAlli      pLong     IRIsi  \\\n",
       "0  0.023523          1 ...        0   1.980028  10.692152  1.669634   \n",
       "1  0.011932          1 ...     1015  19.886370   9.943185  2.719413   \n",
       "2  0.032955          0 ...     1015  19.972458   9.986229  2.719413   \n",
       "3  0.029924          0 ...      188   3.977274   9.974751  2.099542   \n",
       "4  0.029924          0 ...      188   5.423555  13.601933  2.399479   \n",
       "\n",
       "          esals          ppt  mint       maxt  ICAO  ftc  \n",
       "0  80705.085747  1653.949951  0.78  24.230000  KAWO    0  \n",
       "1  44455.741252  2380.080078 -5.49  22.139999  KESW  109  \n",
       "2  42903.651207  2380.080078 -5.49  22.139999  KESW  109  \n",
       "3  14421.467543   184.009995 -8.78  28.590000  KEPH   19  \n",
       "4  11364.528711   186.139999 -8.73  28.510000  KEPH   19  \n",
       "\n",
       "[5 rows x 31 columns]"
      ]
     },
     "execution_count": 31,
     "metadata": {},
     "output_type": "execute_result"
    }
   ],
   "source": [
    "rdat.head()"
   ]
  },
  {
   "cell_type": "code",
   "execution_count": 32,
   "metadata": {
    "collapsed": false
   },
   "outputs": [
    {
     "data": {
      "text/plain": [
       "Index([u'Unnamed: 0', u'Unnamed: 0.1', u'UID', u'sYear', u'Rutting', u'IRI',\n",
       "       u'PSC', u'Alli', u'Long', u'Is Bridge', u'Lane Miles',\n",
       "       u'Segment Lane Miles', u'ESALs Since Major Rehab', u'sfThick',\n",
       "       u'Tthick', u'TSfThick', u'STcode', u'cumPPT', u'meanMinTemp',\n",
       "       u'meanMaxTemp', u'cumESALs', u'cumFTC', u'pAlli', u'pLong', u'IRIsi',\n",
       "       u'esals', u'ppt', u'mint', u'maxt', u'ICAO', u'ftc'],\n",
       "      dtype='object')"
      ]
     },
     "execution_count": 32,
     "metadata": {},
     "output_type": "execute_result"
    }
   ],
   "source": [
    "rdat.columns"
   ]
  },
  {
   "cell_type": "code",
   "execution_count": 33,
   "metadata": {
    "collapsed": true
   },
   "outputs": [],
   "source": [
    "fmd = rdat[[u'UID', u'sYear', u'Rutting', u'IRI', u'PSC', u'Alli', u'Long', u'Is Bridge', u'Lane Miles',\n",
    "       u'Segment Lane Miles', u'ESALs Since Major Rehab', u'sfThick',\n",
    "       u'Tthick', u'TSfThick', u'STcode', u'cumPPT', u'meanMinTemp',\n",
    "       u'meanMaxTemp', u'cumESALs', u'cumFTC', u'pAlli', u'pLong', u'IRIsi',\n",
    "       u'esals', u'ppt', u'mint', u'maxt', u'ICAO', u'ftc']]"
   ]
  },
  {
   "cell_type": "code",
   "execution_count": 34,
   "metadata": {
    "collapsed": true
   },
   "outputs": [],
   "source": [
    "fmd.to_csv('../modelDatasets/rmData1115.csv')"
   ]
  }
 ],
 "metadata": {
  "kernelspec": {
   "display_name": "Python 2",
   "language": "python",
   "name": "python2"
  },
  "language_info": {
   "codemirror_mode": {
    "name": "ipython",
    "version": 2
   },
   "file_extension": ".py",
   "mimetype": "text/x-python",
   "name": "python",
   "nbconvert_exporter": "python",
   "pygments_lexer": "ipython2",
   "version": "2.7.9"
  }
 },
 "nbformat": 4,
 "nbformat_minor": 0
}
