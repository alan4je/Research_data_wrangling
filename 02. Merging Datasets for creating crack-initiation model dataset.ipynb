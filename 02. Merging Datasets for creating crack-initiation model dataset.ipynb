{
 "cells": [
  {
   "cell_type": "code",
   "execution_count": 1,
   "metadata": {
    "collapsed": true
   },
   "outputs": [],
   "source": [
    "import numpy as np\n",
    "import pandas as pd\n",
    "import xlsxwriter"
   ]
  },
  {
   "cell_type": "code",
   "execution_count": 3,
   "metadata": {
    "collapsed": false
   },
   "outputs": [],
   "source": [
    "dbT= pd.read_csv(\"../tables/Traffic to Contract History.txt\", header = None)\n",
    "exdbT= pd.read_excel(\"../DataFiles/Traffic to Contract History.xlsx\")\n",
    "dbCH= pd.read_csv(\"../FinalDatasets/ContractsHistory.csv\")\n",
    "dbCO= pd.read_csv(\"../FinalDatasets/Contracts.csv\")\n",
    "SU = pd.read_csv(\"../FinalDatasets/SurveyUnits.csv\")\n",
    "SDD = pd.read_csv(\"../tables/Survey Distress Details.txt\", header = None)\n",
    "exSDD = pd.read_excel(\"../DataFiles/Survey Distress Details.xlsx\")\n",
    "# SDD = pd.read_excel(\"../DataFiles/PSCdata.xlsx\")"
   ]
  },
  {
   "cell_type": "code",
   "execution_count": 4,
   "metadata": {
    "collapsed": false
   },
   "outputs": [],
   "source": [
    "dbT.columns = exdbT.columns\n",
    "SDD.columns = exSDD.columns"
   ]
  },
  {
   "cell_type": "code",
   "execution_count": 5,
   "metadata": {
    "collapsed": false
   },
   "outputs": [],
   "source": [
    "#dbT = dbT.drop(['Single Trucks', 'Double Trucks', 'Peak Hour Percentage', 'Peak Hour Directional Split'], axis =1)\n",
    "dbT = dbT[['Traffic Year', 'Traffic Year ESALs _One Direction_', 'Contract History ID']]\n",
    "dbT.columns = ['Traffic Year', 'ESALs', 'Contract History ID']"
   ]
  },
  {
   "cell_type": "code",
   "execution_count": 6,
   "metadata": {
    "collapsed": true
   },
   "outputs": [],
   "source": [
    "dbCH = dbCH[['SR','Begin ARM', 'End ARM', 'Region', 'ID', 'Construction Year', 'Major Rehab Year', 'Segment Lane Miles', \n",
    "            'ESALs Since Major Rehab', 'Total Thickness', 'Total Surface Thickness', 'Listed Surface Type', 'Pavement Type',\n",
    "            'Construction Pavement Type', 'Major Rehab Type', 'Prior Major Rehab Year', 'Prior Major Rehab Type', 'UID']]"
   ]
  },
  {
   "cell_type": "code",
   "execution_count": 7,
   "metadata": {
    "collapsed": false
   },
   "outputs": [
    {
     "data": {
      "text/html": [
       "<div style=\"max-height:1000px;max-width:1500px;overflow:auto;\">\n",
       "<table border=\"1\" class=\"dataframe\">\n",
       "  <thead>\n",
       "    <tr style=\"text-align: right;\">\n",
       "      <th></th>\n",
       "      <th>Traffic Year</th>\n",
       "      <th>ESALs</th>\n",
       "      <th>Contract History ID</th>\n",
       "    </tr>\n",
       "  </thead>\n",
       "  <tbody>\n",
       "    <tr>\n",
       "      <th>0</th>\n",
       "      <td>2013</td>\n",
       "      <td>119738</td>\n",
       "      <td>7fbae59b-6ee6-4419-acb0-1db37aacd5f4</td>\n",
       "    </tr>\n",
       "    <tr>\n",
       "      <th>1</th>\n",
       "      <td>2013</td>\n",
       "      <td>91031</td>\n",
       "      <td>39483404-7908-4e89-ade2-bec2391a60b6</td>\n",
       "    </tr>\n",
       "    <tr>\n",
       "      <th>2</th>\n",
       "      <td>2013</td>\n",
       "      <td>91031</td>\n",
       "      <td>520f0233-9842-4d00-b92e-a10522a50102</td>\n",
       "    </tr>\n",
       "    <tr>\n",
       "      <th>3</th>\n",
       "      <td>2013</td>\n",
       "      <td>74348</td>\n",
       "      <td>f042adcf-fe53-4442-be3c-66080c43e0e7</td>\n",
       "    </tr>\n",
       "    <tr>\n",
       "      <th>4</th>\n",
       "      <td>2013</td>\n",
       "      <td>79442</td>\n",
       "      <td>5a9fd6df-7564-4251-a8ee-69f18e1f6e70</td>\n",
       "    </tr>\n",
       "  </tbody>\n",
       "</table>\n",
       "</div>"
      ],
      "text/plain": [
       "   Traffic Year   ESALs                   Contract History ID\n",
       "0          2013  119738  7fbae59b-6ee6-4419-acb0-1db37aacd5f4\n",
       "1          2013   91031  39483404-7908-4e89-ade2-bec2391a60b6\n",
       "2          2013   91031  520f0233-9842-4d00-b92e-a10522a50102\n",
       "3          2013   74348  f042adcf-fe53-4442-be3c-66080c43e0e7\n",
       "4          2013   79442  5a9fd6df-7564-4251-a8ee-69f18e1f6e70"
      ]
     },
     "execution_count": 7,
     "metadata": {},
     "output_type": "execute_result"
    }
   ],
   "source": [
    "dbT.head()"
   ]
  },
  {
   "cell_type": "markdown",
   "metadata": {},
   "source": [
    "# Merging Contracts History Dataset to Traffic Loading (Y2013)"
   ]
  },
  {
   "cell_type": "code",
   "execution_count": 9,
   "metadata": {
    "collapsed": false
   },
   "outputs": [
    {
     "name": "stdout",
     "output_type": "stream",
     "text": [
      "21892\n",
      "21892\n",
      "19253\n"
     ]
    }
   ],
   "source": [
    "print len(dbT)\n",
    "print len(np.unique(np.array(dbT.loc[:, 'Contract History ID'])))\n",
    "print len(dbCH)"
   ]
  },
  {
   "cell_type": "code",
   "execution_count": 10,
   "metadata": {
    "collapsed": true
   },
   "outputs": [],
   "source": [
    "T_CH = pd.merge(dbT, dbCH, how = 'left',left_on = ['Contract History ID'], right_on = ['ID'])\n",
    "tch = T_CH.dropna(subset =['UID'])"
   ]
  },
  {
   "cell_type": "code",
   "execution_count": 11,
   "metadata": {
    "collapsed": false
   },
   "outputs": [
    {
     "name": "stdout",
     "output_type": "stream",
     "text": [
      "23033\n",
      "False\n",
      "19032\n"
     ]
    }
   ],
   "source": [
    "print len(T_CH)\n",
    "print len(dbT) == len(T_CH) # If false=OK, as there might be more than one contract for a given segment.\n",
    "print len(tch)"
   ]
  },
  {
   "cell_type": "markdown",
   "metadata": {},
   "source": [
    "# Contracts Database"
   ]
  },
  {
   "cell_type": "code",
   "execution_count": 12,
   "metadata": {
    "collapsed": false
   },
   "outputs": [],
   "source": [
    "dbC = dbCO[['SR', 'Begin ARM', 'End ARM', 'ID','Construction End Date','Substantial Completion Date','Contract Type Description', 'Surface Type Code', 'Surface Type Description', 'Surface Thickness',\n",
    "          'Treat Base Type Code', 'Treat Base Type Description', 'Treat Base Thickness', 'UTreat Base Thickness', 'UID']]"
   ]
  },
  {
   "cell_type": "code",
   "execution_count": 24,
   "metadata": {
    "collapsed": false
   },
   "outputs": [],
   "source": [
    "# Function extracts the year value from the date string.\n",
    "def getYear(year):\n",
    "    return int(float(year.split('/')[2].split(' ')[0]))"
   ]
  },
  {
   "cell_type": "code",
   "execution_count": 14,
   "metadata": {
    "collapsed": false
   },
   "outputs": [],
   "source": [
    "# Function returns year values from a column with date format.\n",
    "def returnYear(row):\n",
    "    date = row['Construction End Date']\n",
    "    year = getYear(date)\n",
    "    return year"
   ]
  },
  {
   "cell_type": "code",
   "execution_count": 25,
   "metadata": {
    "collapsed": false
   },
   "outputs": [
    {
     "name": "stderr",
     "output_type": "stream",
     "text": [
      "/Users/Alan/Library/Enthought/Canopy_64bit/User/lib/python2.7/site-packages/pandas/core/indexing.py:243: SettingWithCopyWarning: \n",
      "A value is trying to be set on a copy of a slice from a DataFrame.\n",
      "Try using .loc[row_indexer,col_indexer] = value instead\n",
      "\n",
      "See the the caveats in the documentation: http://pandas.pydata.org/pandas-docs/stable/indexing.html#indexing-view-versus-copy\n",
      "  self.obj[key] = _infer_fill_value(value)\n",
      "/Users/Alan/Library/Enthought/Canopy_64bit/User/lib/python2.7/site-packages/pandas/core/indexing.py:407: SettingWithCopyWarning: \n",
      "A value is trying to be set on a copy of a slice from a DataFrame.\n",
      "Try using .loc[row_indexer,col_indexer] = value instead\n",
      "\n",
      "See the the caveats in the documentation: http://pandas.pydata.org/pandas-docs/stable/indexing.html#indexing-view-versus-copy\n",
      "  self.obj[item] = s\n"
     ]
    }
   ],
   "source": [
    "# Construction end year: Year that the specified project was ended.\n",
    "dbC.loc[:, 'cYear'] = dbC.apply(returnYear, axis = 1)"
   ]
  },
  {
   "cell_type": "code",
   "execution_count": 27,
   "metadata": {
    "collapsed": false
   },
   "outputs": [
    {
     "data": {
      "text/html": [
       "<div style=\"max-height:1000px;max-width:1500px;overflow:auto;\">\n",
       "<table border=\"1\" class=\"dataframe\">\n",
       "  <thead>\n",
       "    <tr style=\"text-align: right;\">\n",
       "      <th></th>\n",
       "      <th>SR</th>\n",
       "      <th>Begin ARM</th>\n",
       "      <th>End ARM</th>\n",
       "      <th>UID</th>\n",
       "      <th>Construction End Date</th>\n",
       "      <th>cYear</th>\n",
       "    </tr>\n",
       "  </thead>\n",
       "  <tbody>\n",
       "    <tr>\n",
       "      <th>0</th>\n",
       "      <td>2</td>\n",
       "      <td>0.00</td>\n",
       "      <td>0.13</td>\n",
       "      <td>1</td>\n",
       "      <td>4/29/1994 0:00:00</td>\n",
       "      <td>1994</td>\n",
       "    </tr>\n",
       "    <tr>\n",
       "      <th>1</th>\n",
       "      <td>2</td>\n",
       "      <td>0.00</td>\n",
       "      <td>0.13</td>\n",
       "      <td>1</td>\n",
       "      <td>10/31/1997 0:00:00</td>\n",
       "      <td>1997</td>\n",
       "    </tr>\n",
       "    <tr>\n",
       "      <th>2</th>\n",
       "      <td>2</td>\n",
       "      <td>0.00</td>\n",
       "      <td>0.13</td>\n",
       "      <td>1</td>\n",
       "      <td>9/9/9999 0:00:00</td>\n",
       "      <td>9999</td>\n",
       "    </tr>\n",
       "    <tr>\n",
       "      <th>3</th>\n",
       "      <td>2</td>\n",
       "      <td>0.00</td>\n",
       "      <td>0.13</td>\n",
       "      <td>1</td>\n",
       "      <td>7/11/2008 0:00:00</td>\n",
       "      <td>2008</td>\n",
       "    </tr>\n",
       "    <tr>\n",
       "      <th>4</th>\n",
       "      <td>2</td>\n",
       "      <td>1.49</td>\n",
       "      <td>1.55</td>\n",
       "      <td>15</td>\n",
       "      <td>8/31/1999 0:00:00</td>\n",
       "      <td>1999</td>\n",
       "    </tr>\n",
       "  </tbody>\n",
       "</table>\n",
       "</div>"
      ],
      "text/plain": [
       "   SR  Begin ARM  End ARM  UID Construction End Date  cYear\n",
       "0   2       0.00     0.13    1     4/29/1994 0:00:00   1994\n",
       "1   2       0.00     0.13    1    10/31/1997 0:00:00   1997\n",
       "2   2       0.00     0.13    1      9/9/9999 0:00:00   9999\n",
       "3   2       0.00     0.13    1     7/11/2008 0:00:00   2008\n",
       "4   2       1.49     1.55   15     8/31/1999 0:00:00   1999"
      ]
     },
     "execution_count": 27,
     "metadata": {},
     "output_type": "execute_result"
    }
   ],
   "source": [
    "dbC[['SR', 'Begin ARM', 'End ARM', 'UID', 'Construction End Date', 'cYear']].head()"
   ]
  },
  {
   "cell_type": "markdown",
   "metadata": {},
   "source": [
    "I have split up the construction date column and created a 'cYear' column which I will use to select the actions which were performed before year 2014. "
   ]
  },
  {
   "cell_type": "code",
   "execution_count": 28,
   "metadata": {
    "collapsed": true
   },
   "outputs": [],
   "source": [
    "dbC2 = dbC[dbC.loc[:, 'cYear'] <= 2013]"
   ]
  },
  {
   "cell_type": "code",
   "execution_count": 29,
   "metadata": {
    "collapsed": false
   },
   "outputs": [
    {
     "name": "stdout",
     "output_type": "stream",
     "text": [
      "27224\n",
      "26538\n"
     ]
    }
   ],
   "source": [
    "print len(dbC)\n",
    "print len(dbC2)"
   ]
  },
  {
   "cell_type": "code",
   "execution_count": 39,
   "metadata": {
    "collapsed": false
   },
   "outputs": [],
   "source": [
    "dbCs = dbC2"
   ]
  },
  {
   "cell_type": "code",
   "execution_count": 40,
   "metadata": {
    "collapsed": false
   },
   "outputs": [
    {
     "data": {
      "text/plain": [
       "26538"
      ]
     },
     "execution_count": 40,
     "metadata": {},
     "output_type": "execute_result"
    }
   ],
   "source": [
    "len(dbCs)"
   ]
  },
  {
   "cell_type": "code",
   "execution_count": 41,
   "metadata": {
    "collapsed": false
   },
   "outputs": [
    {
     "name": "stdout",
     "output_type": "stream",
     "text": [
      "4504\n",
      "4761\n",
      "26538\n"
     ]
    }
   ],
   "source": [
    "print len(dbCs[dbCs.loc[:, 'UTreat Base Thickness']> 0.0])\n",
    "print len(dbCs[dbCs.loc[:, 'Treat Base Thickness']> 0.0])\n",
    "print len(dbCs)"
   ]
  },
  {
   "cell_type": "markdown",
   "metadata": {},
   "source": [
    "From the above summary, it can be observed that the number of segments where the treated or non-treated base layer thickness was recorded is less than 0.2 percent of the total segments in the dataset. The base thickness variable will therefore be removed for the models using records of year less than 2000. It should be noted, however, that for records of year >= 2000, there is a significant number of records with treated and untreated base-layer thicknesses so included of these variables into the models can be warranted."
   ]
  },
  {
   "cell_type": "code",
   "execution_count": 42,
   "metadata": {
    "collapsed": false
   },
   "outputs": [],
   "source": [
    "# db = dbCs[['SR', 'Begin ARM', 'End ARM','uid', 'ID','cYear','Contract Type Description', 'Surface Type Code', 'Surface Type Description', 'Surface Thickness']]\n",
    "db = dbCs #leaving all the variables in the dataset"
   ]
  },
  {
   "cell_type": "code",
   "execution_count": 43,
   "metadata": {
    "collapsed": false
   },
   "outputs": [
    {
     "name": "stdout",
     "output_type": "stream",
     "text": [
      "19253 26538\n"
     ]
    }
   ],
   "source": [
    "print len(dbCH), len(db)"
   ]
  },
  {
   "cell_type": "markdown",
   "metadata": {},
   "source": [
    "# Merging Contracts and merged Traffic-Contract History dataset."
   ]
  },
  {
   "cell_type": "code",
   "execution_count": 44,
   "metadata": {
    "collapsed": false
   },
   "outputs": [
    {
     "name": "stdout",
     "output_type": "stream",
     "text": [
      "26538\n",
      "19032\n"
     ]
    }
   ],
   "source": [
    "print len(db)\n",
    "print len(tch)"
   ]
  },
  {
   "cell_type": "code",
   "execution_count": 45,
   "metadata": {
    "collapsed": false
   },
   "outputs": [
    {
     "data": {
      "text/plain": [
       "Index([u'Traffic Year', u'ESALs', u'Contract History ID', u'SR', u'Begin ARM',\n",
       "       u'End ARM', u'Region', u'ID', u'Construction Year', u'Major Rehab Year',\n",
       "       u'Segment Lane Miles', u'ESALs Since Major Rehab', u'Total Thickness',\n",
       "       u'Total Surface Thickness', u'Listed Surface Type', u'Pavement Type',\n",
       "       u'Construction Pavement Type', u'Major Rehab Type',\n",
       "       u'Prior Major Rehab Year', u'Prior Major Rehab Type', u'UID'],\n",
       "      dtype='object')"
      ]
     },
     "execution_count": 45,
     "metadata": {},
     "output_type": "execute_result"
    }
   ],
   "source": [
    "tch.columns"
   ]
  },
  {
   "cell_type": "code",
   "execution_count": 46,
   "metadata": {
    "collapsed": true
   },
   "outputs": [],
   "source": [
    "C_CH = pd.merge(db, tch, how = 'left',left_on = ['UID'], right_on = ['UID'])\n",
    "CCHs = C_CH.dropna(subset = [u'Major Rehab Year'])"
   ]
  },
  {
   "cell_type": "code",
   "execution_count": 47,
   "metadata": {
    "collapsed": false
   },
   "outputs": [
    {
     "name": "stdout",
     "output_type": "stream",
     "text": [
      "21846 30050\n"
     ]
    }
   ],
   "source": [
    "print len(CCHs), len(C_CH)"
   ]
  },
  {
   "cell_type": "code",
   "execution_count": 49,
   "metadata": {
    "collapsed": false
   },
   "outputs": [
    {
     "name": "stdout",
     "output_type": "stream",
     "text": [
      "[nan 'ACP' 'ACP over BST (Mixed)' 'BST' 'BST over ACP (Mixed)' 'CSTS'\n",
      " 'Composite' 'Grinding PCCP' 'PCCP']\n"
     ]
    }
   ],
   "source": [
    "pvmtType = np.unique(np.array(CCHs[['Pavement Type']]))\n",
    "print pvmtType"
   ]
  },
  {
   "cell_type": "code",
   "execution_count": 50,
   "metadata": {
    "collapsed": false
   },
   "outputs": [
    {
     "name": "stdout",
     "output_type": "stream",
     "text": [
      "['ACP', 'ACP over BST (Mixed)', 'BST', 'BST over ACP (Mixed)', 'Composite']\n"
     ]
    }
   ],
   "source": [
    "# selected pavement type\n",
    "spt = [pvmtType[1], pvmtType[2], pvmtType[3], pvmtType[4],  pvmtType[6]]\n",
    "print spt"
   ]
  },
  {
   "cell_type": "code",
   "execution_count": 51,
   "metadata": {
    "collapsed": false
   },
   "outputs": [],
   "source": [
    "CCHasp = CCHs[CCHs.loc[:,'Pavement Type'].isin(spt)] #selecting only asphalt pavements"
   ]
  },
  {
   "cell_type": "markdown",
   "metadata": {},
   "source": [
    "Extracting the Surface types used for rehabilitation"
   ]
  },
  {
   "cell_type": "code",
   "execution_count": 53,
   "metadata": {
    "collapsed": false
   },
   "outputs": [],
   "source": [
    "CCHasp.index = np.arange(len(CCHasp))"
   ]
  },
  {
   "cell_type": "code",
   "execution_count": 54,
   "metadata": {
    "collapsed": false
   },
   "outputs": [],
   "source": [
    "MatType = np.unique(np.array(CCHasp.loc[:, 'Surface Type Code']))"
   ]
  },
  {
   "cell_type": "code",
   "execution_count": 55,
   "metadata": {
    "collapsed": false
   },
   "outputs": [],
   "source": [
    "MTdic = {}\n",
    "for mt in MatType[1:]:\n",
    "    MTdic[mt] = len(CCHasp[CCHasp.loc[:, 'Surface Type Code']==mt])"
   ]
  },
  {
   "cell_type": "code",
   "execution_count": 58,
   "metadata": {
    "collapsed": false
   },
   "outputs": [
    {
     "name": "stdout",
     "output_type": "stream",
     "text": [
      "BA 7175\n",
      "PA 1823\n",
      "SA 982\n",
      "TA 1070\n"
     ]
    }
   ],
   "source": [
    "uniqMT = []\n",
    "for mt in MTdic.keys():\n",
    "    if MTdic[mt] > 850:\n",
    "        print mt, MTdic[mt]\n",
    "        uniqMT.append(mt)"
   ]
  },
  {
   "cell_type": "code",
   "execution_count": 59,
   "metadata": {
    "collapsed": false
   },
   "outputs": [
    {
     "data": {
      "text/plain": [
       "['BA', 'PA', 'SA', 'TA']"
      ]
     },
     "execution_count": 59,
     "metadata": {},
     "output_type": "execute_result"
    }
   ],
   "source": [
    "uniqMT"
   ]
  },
  {
   "cell_type": "code",
   "execution_count": 60,
   "metadata": {
    "collapsed": true
   },
   "outputs": [],
   "source": [
    "# # CCHs[~CCHs.loc[:,'Surface Type Code'].isin(uniqMT)].loc[:,'Surface Type Code']\n",
    "# for i in CCHs.index:\n",
    "#     if CCHs.loc[i,'Surface Type Code'] not in uniqMT:\n",
    "#         CCHs.loc[i,'Surface Type Code'] = 'Other'  "
   ]
  },
  {
   "cell_type": "markdown",
   "metadata": {
    "collapsed": false
   },
   "source": [
    "I had categorized the surface type previously but later realized that the final dataset might not contain the same proportion of variables, given that I am going to consider only asphalt pavements. Categorization of this nature will be among the final steps of the data cleaning process.."
   ]
  },
  {
   "cell_type": "markdown",
   "metadata": {},
   "source": [
    "Just concluded categorizing the Surface Type Code accordingly. Next step is to link the CCHs (Contract and Contract-History) dataframe to the Survey_Units dataframe using the linker dataframe uploaded below.."
   ]
  },
  {
   "cell_type": "code",
   "execution_count": 61,
   "metadata": {
    "collapsed": false
   },
   "outputs": [
    {
     "data": {
      "text/plain": [
       "3100"
      ]
     },
     "execution_count": 61,
     "metadata": {},
     "output_type": "execute_result"
    }
   ],
   "source": [
    "len(CCHasp[CCHasp.cYear == CCHasp.loc[:, 'Major Rehab Year']])"
   ]
  },
  {
   "cell_type": "markdown",
   "metadata": {},
   "source": [
    "# Merging survey units (SU) and Contracts and Contract History Datasets (CCHa)"
   ]
  },
  {
   "cell_type": "code",
   "execution_count": 34,
   "metadata": {
    "collapsed": false
   },
   "outputs": [],
   "source": [
    "# SU.columns"
   ]
  },
  {
   "cell_type": "code",
   "execution_count": 62,
   "metadata": {
    "collapsed": true
   },
   "outputs": [],
   "source": [
    "su = SU[[u'SR', u'Begin ARM', u'End ARM', 'UID', u'Is Bridge', u'Lane Surface Type', u'Lane Miles', u'Region', \n",
    "         u'Federal Functional Class', u'Int ID']]"
   ]
  },
  {
   "cell_type": "code",
   "execution_count": 63,
   "metadata": {
    "collapsed": false
   },
   "outputs": [
    {
     "data": {
      "text/html": [
       "<div style=\"max-height:1000px;max-width:1500px;overflow:auto;\">\n",
       "<table border=\"1\" class=\"dataframe\">\n",
       "  <thead>\n",
       "    <tr style=\"text-align: right;\">\n",
       "      <th></th>\n",
       "      <th>SR</th>\n",
       "      <th>Begin ARM</th>\n",
       "      <th>End ARM</th>\n",
       "      <th>UID</th>\n",
       "      <th>Is Bridge</th>\n",
       "      <th>Lane Surface Type</th>\n",
       "      <th>Lane Miles</th>\n",
       "      <th>Region</th>\n",
       "      <th>Federal Functional Class</th>\n",
       "      <th>Int ID</th>\n",
       "    </tr>\n",
       "  </thead>\n",
       "  <tbody>\n",
       "    <tr>\n",
       "      <th>0</th>\n",
       "      <td>2</td>\n",
       "      <td>312.04</td>\n",
       "      <td>312.14</td>\n",
       "      <td>3121</td>\n",
       "      <td>0</td>\n",
       "      <td>BST</td>\n",
       "      <td>0.2</td>\n",
       "      <td>Eastern</td>\n",
       "      <td>Rural Other Freeway/Expressway</td>\n",
       "      <td>1</td>\n",
       "    </tr>\n",
       "    <tr>\n",
       "      <th>1</th>\n",
       "      <td>2</td>\n",
       "      <td>312.04</td>\n",
       "      <td>312.14</td>\n",
       "      <td>3121</td>\n",
       "      <td>0</td>\n",
       "      <td>BST</td>\n",
       "      <td>0.2</td>\n",
       "      <td>Eastern</td>\n",
       "      <td>Rural Other Freeway/Expressway</td>\n",
       "      <td>1255</td>\n",
       "    </tr>\n",
       "    <tr>\n",
       "      <th>2</th>\n",
       "      <td>2</td>\n",
       "      <td>171.15</td>\n",
       "      <td>171.25</td>\n",
       "      <td>1712</td>\n",
       "      <td>0</td>\n",
       "      <td>BST</td>\n",
       "      <td>0.2</td>\n",
       "      <td>North Central</td>\n",
       "      <td>Rural Other Principal Arterial</td>\n",
       "      <td>2</td>\n",
       "    </tr>\n",
       "    <tr>\n",
       "      <th>3</th>\n",
       "      <td>2</td>\n",
       "      <td>269.53</td>\n",
       "      <td>269.63</td>\n",
       "      <td>2696</td>\n",
       "      <td>0</td>\n",
       "      <td>ACP</td>\n",
       "      <td>0.2</td>\n",
       "      <td>Eastern</td>\n",
       "      <td>Urban Other Principal Arterial</td>\n",
       "      <td>3</td>\n",
       "    </tr>\n",
       "    <tr>\n",
       "      <th>4</th>\n",
       "      <td>2</td>\n",
       "      <td>269.53</td>\n",
       "      <td>269.63</td>\n",
       "      <td>2696</td>\n",
       "      <td>0</td>\n",
       "      <td>ACP</td>\n",
       "      <td>0.2</td>\n",
       "      <td>Eastern</td>\n",
       "      <td>Urban Other Principal Arterial</td>\n",
       "      <td>2122</td>\n",
       "    </tr>\n",
       "  </tbody>\n",
       "</table>\n",
       "</div>"
      ],
      "text/plain": [
       "   SR  Begin ARM  End ARM   UID  Is Bridge Lane Surface Type  Lane Miles  \\\n",
       "0   2     312.04   312.14  3121          0               BST         0.2   \n",
       "1   2     312.04   312.14  3121          0               BST         0.2   \n",
       "2   2     171.15   171.25  1712          0               BST         0.2   \n",
       "3   2     269.53   269.63  2696          0               ACP         0.2   \n",
       "4   2     269.53   269.63  2696          0               ACP         0.2   \n",
       "\n",
       "          Region        Federal Functional Class  Int ID  \n",
       "0        Eastern  Rural Other Freeway/Expressway       1  \n",
       "1        Eastern  Rural Other Freeway/Expressway    1255  \n",
       "2  North Central  Rural Other Principal Arterial       2  \n",
       "3        Eastern  Urban Other Principal Arterial       3  \n",
       "4        Eastern  Urban Other Principal Arterial    2122  "
      ]
     },
     "execution_count": 63,
     "metadata": {},
     "output_type": "execute_result"
    }
   ],
   "source": [
    "su.head()"
   ]
  },
  {
   "cell_type": "code",
   "execution_count": 64,
   "metadata": {
    "collapsed": false
   },
   "outputs": [
    {
     "name": "stdout",
     "output_type": "stream",
     "text": [
      "19110 80755\n"
     ]
    }
   ],
   "source": [
    "print len(CCHasp), len(su)"
   ]
  },
  {
   "cell_type": "code",
   "execution_count": 65,
   "metadata": {
    "collapsed": false
   },
   "outputs": [],
   "source": [
    "SCCH = pd.merge(su, CCHasp, how = 'left',left_on = ['UID'], right_on = ['UID'])\n",
    "scch = SCCH.dropna(axis=0, how='any', thresh=None, subset= ['cYear'], inplace=False)"
   ]
  },
  {
   "cell_type": "code",
   "execution_count": 66,
   "metadata": {
    "collapsed": false
   },
   "outputs": [
    {
     "name": "stdout",
     "output_type": "stream",
     "text": [
      "25427\n"
     ]
    }
   ],
   "source": [
    "print len(scch)"
   ]
  },
  {
   "cell_type": "markdown",
   "metadata": {},
   "source": [
    "# Merging joint dataset with survey distress details"
   ]
  },
  {
   "cell_type": "code",
   "execution_count": 67,
   "metadata": {
    "collapsed": false
   },
   "outputs": [
    {
     "data": {
      "text/html": [
       "<div style=\"max-height:1000px;max-width:1500px;overflow:auto;\">\n",
       "<table border=\"1\" class=\"dataframe\">\n",
       "  <thead>\n",
       "    <tr style=\"text-align: right;\">\n",
       "      <th></th>\n",
       "      <th>Year</th>\n",
       "      <th>Low Alligator Cracking</th>\n",
       "      <th>Medium Alligator Cracking</th>\n",
       "      <th>High Alligator Cracking</th>\n",
       "      <th>Low Flexible Longitudinal Cracking</th>\n",
       "      <th>Medium Flexible Longitudinal Cracking</th>\n",
       "      <th>High Flexible Longitudinal Cracking</th>\n",
       "      <th>Low Flexible Patching</th>\n",
       "      <th>Medium Flexible Patching</th>\n",
       "      <th>High Flexible Patching</th>\n",
       "      <th>...</th>\n",
       "      <th>Sealed Rigid Multi-Cracking</th>\n",
       "      <th>Sealed Alligator</th>\n",
       "      <th>Sealed Multi-Cracking</th>\n",
       "      <th>Sealed Longitudinal</th>\n",
       "      <th>Sealed Transverse</th>\n",
       "      <th>Bridge</th>\n",
       "      <th>Construction</th>\n",
       "      <th>Unratable</th>\n",
       "      <th>Intentionally Skipped</th>\n",
       "      <th>Int ID</th>\n",
       "    </tr>\n",
       "  </thead>\n",
       "  <tbody>\n",
       "    <tr>\n",
       "      <th>0</th>\n",
       "      <td>2003</td>\n",
       "      <td>NaN</td>\n",
       "      <td>NaN</td>\n",
       "      <td>NaN</td>\n",
       "      <td>2</td>\n",
       "      <td>NaN</td>\n",
       "      <td>NaN</td>\n",
       "      <td>NaN</td>\n",
       "      <td>NaN</td>\n",
       "      <td>NaN</td>\n",
       "      <td>...</td>\n",
       "      <td>NaN</td>\n",
       "      <td>NaN</td>\n",
       "      <td>NaN</td>\n",
       "      <td>NaN</td>\n",
       "      <td>NaN</td>\n",
       "      <td>NaN</td>\n",
       "      <td>NaN</td>\n",
       "      <td>NaN</td>\n",
       "      <td>NaN</td>\n",
       "      <td>54967</td>\n",
       "    </tr>\n",
       "    <tr>\n",
       "      <th>1</th>\n",
       "      <td>2003</td>\n",
       "      <td>2</td>\n",
       "      <td>NaN</td>\n",
       "      <td>NaN</td>\n",
       "      <td>16</td>\n",
       "      <td>NaN</td>\n",
       "      <td>NaN</td>\n",
       "      <td>NaN</td>\n",
       "      <td>NaN</td>\n",
       "      <td>NaN</td>\n",
       "      <td>...</td>\n",
       "      <td>NaN</td>\n",
       "      <td>NaN</td>\n",
       "      <td>NaN</td>\n",
       "      <td>NaN</td>\n",
       "      <td>NaN</td>\n",
       "      <td>NaN</td>\n",
       "      <td>NaN</td>\n",
       "      <td>NaN</td>\n",
       "      <td>NaN</td>\n",
       "      <td>54965</td>\n",
       "    </tr>\n",
       "    <tr>\n",
       "      <th>2</th>\n",
       "      <td>2003</td>\n",
       "      <td>19</td>\n",
       "      <td>NaN</td>\n",
       "      <td>NaN</td>\n",
       "      <td>19</td>\n",
       "      <td>NaN</td>\n",
       "      <td>NaN</td>\n",
       "      <td>NaN</td>\n",
       "      <td>NaN</td>\n",
       "      <td>NaN</td>\n",
       "      <td>...</td>\n",
       "      <td>NaN</td>\n",
       "      <td>NaN</td>\n",
       "      <td>NaN</td>\n",
       "      <td>NaN</td>\n",
       "      <td>NaN</td>\n",
       "      <td>NaN</td>\n",
       "      <td>NaN</td>\n",
       "      <td>NaN</td>\n",
       "      <td>NaN</td>\n",
       "      <td>54963</td>\n",
       "    </tr>\n",
       "    <tr>\n",
       "      <th>3</th>\n",
       "      <td>2003</td>\n",
       "      <td>NaN</td>\n",
       "      <td>NaN</td>\n",
       "      <td>NaN</td>\n",
       "      <td>10</td>\n",
       "      <td>NaN</td>\n",
       "      <td>NaN</td>\n",
       "      <td>NaN</td>\n",
       "      <td>NaN</td>\n",
       "      <td>NaN</td>\n",
       "      <td>...</td>\n",
       "      <td>NaN</td>\n",
       "      <td>NaN</td>\n",
       "      <td>NaN</td>\n",
       "      <td>NaN</td>\n",
       "      <td>NaN</td>\n",
       "      <td>NaN</td>\n",
       "      <td>NaN</td>\n",
       "      <td>NaN</td>\n",
       "      <td>NaN</td>\n",
       "      <td>54961</td>\n",
       "    </tr>\n",
       "    <tr>\n",
       "      <th>4</th>\n",
       "      <td>2003</td>\n",
       "      <td>NaN</td>\n",
       "      <td>NaN</td>\n",
       "      <td>NaN</td>\n",
       "      <td>10</td>\n",
       "      <td>NaN</td>\n",
       "      <td>NaN</td>\n",
       "      <td>NaN</td>\n",
       "      <td>NaN</td>\n",
       "      <td>NaN</td>\n",
       "      <td>...</td>\n",
       "      <td>NaN</td>\n",
       "      <td>NaN</td>\n",
       "      <td>NaN</td>\n",
       "      <td>NaN</td>\n",
       "      <td>NaN</td>\n",
       "      <td>NaN</td>\n",
       "      <td>NaN</td>\n",
       "      <td>NaN</td>\n",
       "      <td>NaN</td>\n",
       "      <td>54962</td>\n",
       "    </tr>\n",
       "  </tbody>\n",
       "</table>\n",
       "<p>5 rows × 41 columns</p>\n",
       "</div>"
      ],
      "text/plain": [
       "   Year  Low Alligator Cracking  Medium Alligator Cracking  \\\n",
       "0  2003                     NaN                        NaN   \n",
       "1  2003                       2                        NaN   \n",
       "2  2003                      19                        NaN   \n",
       "3  2003                     NaN                        NaN   \n",
       "4  2003                     NaN                        NaN   \n",
       "\n",
       "   High Alligator Cracking  Low Flexible Longitudinal Cracking  \\\n",
       "0                      NaN                                   2   \n",
       "1                      NaN                                  16   \n",
       "2                      NaN                                  19   \n",
       "3                      NaN                                  10   \n",
       "4                      NaN                                  10   \n",
       "\n",
       "   Medium Flexible Longitudinal Cracking  High Flexible Longitudinal Cracking  \\\n",
       "0                                    NaN                                  NaN   \n",
       "1                                    NaN                                  NaN   \n",
       "2                                    NaN                                  NaN   \n",
       "3                                    NaN                                  NaN   \n",
       "4                                    NaN                                  NaN   \n",
       "\n",
       "   Low Flexible Patching  Medium Flexible Patching  High Flexible Patching  \\\n",
       "0                    NaN                       NaN                     NaN   \n",
       "1                    NaN                       NaN                     NaN   \n",
       "2                    NaN                       NaN                     NaN   \n",
       "3                    NaN                       NaN                     NaN   \n",
       "4                    NaN                       NaN                     NaN   \n",
       "\n",
       "    ...    Sealed Rigid Multi-Cracking  Sealed Alligator  \\\n",
       "0   ...                            NaN               NaN   \n",
       "1   ...                            NaN               NaN   \n",
       "2   ...                            NaN               NaN   \n",
       "3   ...                            NaN               NaN   \n",
       "4   ...                            NaN               NaN   \n",
       "\n",
       "   Sealed Multi-Cracking  Sealed Longitudinal  Sealed Transverse  Bridge  \\\n",
       "0                    NaN                  NaN                NaN     NaN   \n",
       "1                    NaN                  NaN                NaN     NaN   \n",
       "2                    NaN                  NaN                NaN     NaN   \n",
       "3                    NaN                  NaN                NaN     NaN   \n",
       "4                    NaN                  NaN                NaN     NaN   \n",
       "\n",
       "   Construction  Unratable  Intentionally Skipped  Int ID  \n",
       "0           NaN        NaN                    NaN   54967  \n",
       "1           NaN        NaN                    NaN   54965  \n",
       "2           NaN        NaN                    NaN   54963  \n",
       "3           NaN        NaN                    NaN   54961  \n",
       "4           NaN        NaN                    NaN   54962  \n",
       "\n",
       "[5 rows x 41 columns]"
      ]
     },
     "execution_count": 67,
     "metadata": {},
     "output_type": "execute_result"
    }
   ],
   "source": [
    "SDD.head()"
   ]
  },
  {
   "cell_type": "code",
   "execution_count": 71,
   "metadata": {
    "collapsed": false
   },
   "outputs": [],
   "source": [
    "SD = pd.read_csv(\"../tables/Survey Details.txt\", header = None)\n",
    "exSD = pd.read_excel(\"../DataFiles/SurveyDetails.xlsx\")\n",
    "SD.columns = exSD.columns"
   ]
  },
  {
   "cell_type": "code",
   "execution_count": 72,
   "metadata": {
    "collapsed": true
   },
   "outputs": [],
   "source": [
    "sd = SD[[u'Year','Rutting', 'IRI','PSC', u'Int ID']]\n",
    "sd.columns = [u'sYear','Rutting', 'IRI','PSC', u'IntID']"
   ]
  },
  {
   "cell_type": "code",
   "execution_count": 74,
   "metadata": {
    "collapsed": false
   },
   "outputs": [],
   "source": [
    "SDDs = SDD[[                                 u'Year',\n",
    "                      u'Low Alligator Cracking',\n",
    "                   u'Medium Alligator Cracking',\n",
    "                     u'High Alligator Cracking',\n",
    "          u'Low Flexible Longitudinal Cracking',\n",
    "       u'Medium Flexible Longitudinal Cracking',\n",
    "         u'High Flexible Longitudinal Cracking',\n",
    "                       u'Low Flexible Patching',\n",
    "                    u'Medium Flexible Patching',\n",
    "                      u'High Flexible Patching',\n",
    "            u'Low Flexible Transverse Cracking',\n",
    "         u'Medium Flexible Transverse Cracking',\n",
    "           u'High Flexible Transverse Cracking',\n",
    "                                      u'Int ID']]"
   ]
  },
  {
   "cell_type": "code",
   "execution_count": 75,
   "metadata": {
    "collapsed": true
   },
   "outputs": [],
   "source": [
    "SDDs.columns = [                                 u'sYear',\n",
    "                      u'Low Alligator Cracking',\n",
    "                   u'Medium Alligator Cracking',\n",
    "                     u'High Alligator Cracking',\n",
    "          u'Low Flexible Longitudinal Cracking',\n",
    "       u'Medium Flexible Longitudinal Cracking',\n",
    "         u'High Flexible Longitudinal Cracking',\n",
    "                       u'Low Flexible Patching',\n",
    "                    u'Medium Flexible Patching',\n",
    "                      u'High Flexible Patching',\n",
    "            u'Low Flexible Transverse Cracking',\n",
    "         u'Medium Flexible Transverse Cracking',\n",
    "           u'High Flexible Transverse Cracking',\n",
    "                                      u'IntID']"
   ]
  },
  {
   "cell_type": "code",
   "execution_count": 76,
   "metadata": {
    "collapsed": false
   },
   "outputs": [
    {
     "name": "stdout",
     "output_type": "stream",
     "text": [
      "1845893\n",
      "2646294\n"
     ]
    }
   ],
   "source": [
    "print len(SDDs)\n",
    "print len(sd)"
   ]
  },
  {
   "cell_type": "markdown",
   "metadata": {},
   "source": [
    "The following code merges the Survey Details and Survey Distress Details datasets in order to identify the years where there was measurement for the respective distresses, especially for alligator and longitudinal cracking"
   ]
  },
  {
   "cell_type": "code",
   "execution_count": 83,
   "metadata": {
    "collapsed": true
   },
   "outputs": [],
   "source": [
    "SDDs.loc[:, 'temp'] = 28"
   ]
  },
  {
   "cell_type": "code",
   "execution_count": 84,
   "metadata": {
    "collapsed": true
   },
   "outputs": [],
   "source": [
    "SDDm = pd.merge(sd, SDDs, how = 'left',left_on = ['sYear', 'IntID'], right_on = ['sYear', 'IntID'])"
   ]
  },
  {
   "cell_type": "code",
   "execution_count": 87,
   "metadata": {
    "collapsed": false
   },
   "outputs": [
    {
     "name": "stdout",
     "output_type": "stream",
     "text": [
      "1500899\n",
      "2646294\n"
     ]
    }
   ],
   "source": [
    "sdd = SDDm.dropna(subset = ['temp', 'PSC'])\n",
    "print len(sdd)\n",
    "print len(SDDm)"
   ]
  },
  {
   "cell_type": "code",
   "execution_count": 98,
   "metadata": {
    "collapsed": false
   },
   "outputs": [],
   "source": [
    "sdd = sdd.fillna(0)"
   ]
  },
  {
   "cell_type": "code",
   "execution_count": 97,
   "metadata": {
    "collapsed": true
   },
   "outputs": [],
   "source": [
    "sdd.loc[:, 'Alli'] = np.array(sdd.loc[:, 'Low Alligator Cracking']) + np.array(sdd.loc[:, 'Medium Alligator Cracking']\n",
    "                    ) + np.array(sdd.loc[:, 'High Alligator Cracking'])\n",
    "sdd.loc[:, 'Long'] = np.array(sdd.loc[:, 'Low Flexible Longitudinal Cracking']) + np.array(sdd.loc[:, 'Medium Flexible Longitudinal Cracking']\n",
    "                    ) + np.array(sdd.loc[:, 'High Flexible Longitudinal Cracking'])"
   ]
  },
  {
   "cell_type": "code",
   "execution_count": 99,
   "metadata": {
    "collapsed": false
   },
   "outputs": [
    {
     "data": {
      "text/html": [
       "<div style=\"max-height:1000px;max-width:1500px;overflow:auto;\">\n",
       "<table border=\"1\" class=\"dataframe\">\n",
       "  <thead>\n",
       "    <tr style=\"text-align: right;\">\n",
       "      <th></th>\n",
       "      <th>sYear</th>\n",
       "      <th>Rutting</th>\n",
       "      <th>IRI</th>\n",
       "      <th>PSC</th>\n",
       "      <th>IntID</th>\n",
       "      <th>Low Alligator Cracking</th>\n",
       "      <th>Medium Alligator Cracking</th>\n",
       "      <th>High Alligator Cracking</th>\n",
       "      <th>Low Flexible Longitudinal Cracking</th>\n",
       "      <th>Medium Flexible Longitudinal Cracking</th>\n",
       "      <th>High Flexible Longitudinal Cracking</th>\n",
       "      <th>Low Flexible Patching</th>\n",
       "      <th>Medium Flexible Patching</th>\n",
       "      <th>High Flexible Patching</th>\n",
       "      <th>Low Flexible Transverse Cracking</th>\n",
       "      <th>Medium Flexible Transverse Cracking</th>\n",
       "      <th>High Flexible Transverse Cracking</th>\n",
       "      <th>temp</th>\n",
       "      <th>Alli</th>\n",
       "      <th>Long</th>\n",
       "    </tr>\n",
       "  </thead>\n",
       "  <tbody>\n",
       "    <tr>\n",
       "      <th>0</th>\n",
       "      <td>1981</td>\n",
       "      <td>0.000</td>\n",
       "      <td>119.091</td>\n",
       "      <td>0</td>\n",
       "      <td>1</td>\n",
       "      <td>0</td>\n",
       "      <td>316</td>\n",
       "      <td>0</td>\n",
       "      <td>0</td>\n",
       "      <td>0</td>\n",
       "      <td>686</td>\n",
       "      <td>0</td>\n",
       "      <td>0</td>\n",
       "      <td>0</td>\n",
       "      <td>0</td>\n",
       "      <td>10</td>\n",
       "      <td>0</td>\n",
       "      <td>28</td>\n",
       "      <td>316</td>\n",
       "      <td>686</td>\n",
       "    </tr>\n",
       "    <tr>\n",
       "      <th>1</th>\n",
       "      <td>1981</td>\n",
       "      <td>0.236</td>\n",
       "      <td>181.170</td>\n",
       "      <td>26</td>\n",
       "      <td>2</td>\n",
       "      <td>63</td>\n",
       "      <td>0</td>\n",
       "      <td>0</td>\n",
       "      <td>0</td>\n",
       "      <td>686</td>\n",
       "      <td>0</td>\n",
       "      <td>0</td>\n",
       "      <td>0</td>\n",
       "      <td>0</td>\n",
       "      <td>0</td>\n",
       "      <td>63</td>\n",
       "      <td>0</td>\n",
       "      <td>28</td>\n",
       "      <td>63</td>\n",
       "      <td>686</td>\n",
       "    </tr>\n",
       "    <tr>\n",
       "      <th>2</th>\n",
       "      <td>1981</td>\n",
       "      <td>0.236</td>\n",
       "      <td>85.518</td>\n",
       "      <td>87</td>\n",
       "      <td>3</td>\n",
       "      <td>0</td>\n",
       "      <td>0</td>\n",
       "      <td>0</td>\n",
       "      <td>0</td>\n",
       "      <td>0</td>\n",
       "      <td>0</td>\n",
       "      <td>0</td>\n",
       "      <td>0</td>\n",
       "      <td>0</td>\n",
       "      <td>0</td>\n",
       "      <td>10</td>\n",
       "      <td>0</td>\n",
       "      <td>28</td>\n",
       "      <td>0</td>\n",
       "      <td>0</td>\n",
       "    </tr>\n",
       "    <tr>\n",
       "      <th>3</th>\n",
       "      <td>1981</td>\n",
       "      <td>0.236</td>\n",
       "      <td>190.039</td>\n",
       "      <td>92</td>\n",
       "      <td>4</td>\n",
       "      <td>0</td>\n",
       "      <td>0</td>\n",
       "      <td>0</td>\n",
       "      <td>46</td>\n",
       "      <td>0</td>\n",
       "      <td>0</td>\n",
       "      <td>0</td>\n",
       "      <td>0</td>\n",
       "      <td>0</td>\n",
       "      <td>5</td>\n",
       "      <td>0</td>\n",
       "      <td>0</td>\n",
       "      <td>28</td>\n",
       "      <td>0</td>\n",
       "      <td>46</td>\n",
       "    </tr>\n",
       "    <tr>\n",
       "      <th>4</th>\n",
       "      <td>1981</td>\n",
       "      <td>0.236</td>\n",
       "      <td>87.418</td>\n",
       "      <td>4</td>\n",
       "      <td>5</td>\n",
       "      <td>0</td>\n",
       "      <td>316</td>\n",
       "      <td>0</td>\n",
       "      <td>0</td>\n",
       "      <td>686</td>\n",
       "      <td>0</td>\n",
       "      <td>0</td>\n",
       "      <td>0</td>\n",
       "      <td>0</td>\n",
       "      <td>0</td>\n",
       "      <td>0</td>\n",
       "      <td>0</td>\n",
       "      <td>28</td>\n",
       "      <td>316</td>\n",
       "      <td>686</td>\n",
       "    </tr>\n",
       "  </tbody>\n",
       "</table>\n",
       "</div>"
      ],
      "text/plain": [
       "   sYear  Rutting      IRI  PSC  IntID  Low Alligator Cracking  \\\n",
       "0   1981    0.000  119.091    0      1                       0   \n",
       "1   1981    0.236  181.170   26      2                      63   \n",
       "2   1981    0.236   85.518   87      3                       0   \n",
       "3   1981    0.236  190.039   92      4                       0   \n",
       "4   1981    0.236   87.418    4      5                       0   \n",
       "\n",
       "   Medium Alligator Cracking  High Alligator Cracking  \\\n",
       "0                        316                        0   \n",
       "1                          0                        0   \n",
       "2                          0                        0   \n",
       "3                          0                        0   \n",
       "4                        316                        0   \n",
       "\n",
       "   Low Flexible Longitudinal Cracking  Medium Flexible Longitudinal Cracking  \\\n",
       "0                                   0                                      0   \n",
       "1                                   0                                    686   \n",
       "2                                   0                                      0   \n",
       "3                                  46                                      0   \n",
       "4                                   0                                    686   \n",
       "\n",
       "   High Flexible Longitudinal Cracking  Low Flexible Patching  \\\n",
       "0                                  686                      0   \n",
       "1                                    0                      0   \n",
       "2                                    0                      0   \n",
       "3                                    0                      0   \n",
       "4                                    0                      0   \n",
       "\n",
       "   Medium Flexible Patching  High Flexible Patching  \\\n",
       "0                         0                       0   \n",
       "1                         0                       0   \n",
       "2                         0                       0   \n",
       "3                         0                       0   \n",
       "4                         0                       0   \n",
       "\n",
       "   Low Flexible Transverse Cracking  Medium Flexible Transverse Cracking  \\\n",
       "0                                 0                                   10   \n",
       "1                                 0                                   63   \n",
       "2                                 0                                   10   \n",
       "3                                 5                                    0   \n",
       "4                                 0                                    0   \n",
       "\n",
       "   High Flexible Transverse Cracking  temp  Alli  Long  \n",
       "0                                  0    28   316   686  \n",
       "1                                  0    28    63   686  \n",
       "2                                  0    28     0     0  \n",
       "3                                  0    28     0    46  \n",
       "4                                  0    28   316   686  "
      ]
     },
     "execution_count": 99,
     "metadata": {},
     "output_type": "execute_result"
    }
   ],
   "source": [
    "sdd.head()"
   ]
  },
  {
   "cell_type": "markdown",
   "metadata": {},
   "source": [
    "Code below merges the two datasets, total and sdd.. (scct, and survey distress details)"
   ]
  },
  {
   "cell_type": "code",
   "execution_count": 100,
   "metadata": {
    "collapsed": true
   },
   "outputs": [],
   "source": [
    "allData = pd.merge(sdd, scch, how = 'left',left_on = ['IntID'], right_on = ['Int ID'])\n",
    "cdata = allData.dropna(axis=0, how='any', thresh=None, subset= [u'UID'], inplace=False)"
   ]
  },
  {
   "cell_type": "code",
   "execution_count": 101,
   "metadata": {
    "collapsed": false
   },
   "outputs": [
    {
     "name": "stdout",
     "output_type": "stream",
     "text": [
      "1749107\n",
      "486809 1500899\n",
      "False\n",
      "10147\n",
      "486809\n",
      "10147\n"
     ]
    }
   ],
   "source": [
    "print len(allData)\n",
    "print len(cdata), len(sdd)\n",
    "print len(cdata) == len(sdd)\n",
    "print len(np.unique(np.array(cdata.UID)))\n",
    "print len(cdata[cdata.loc[:,'sYear']>1980])\n",
    "print len(np.unique(np.array(cdata[cdata.loc[:,'sYear']>1980].loc[:, 'UID'])))"
   ]
  },
  {
   "cell_type": "code",
   "execution_count": 102,
   "metadata": {
    "collapsed": false
   },
   "outputs": [
    {
     "data": {
      "text/plain": [
       "10181"
      ]
     },
     "execution_count": 102,
     "metadata": {},
     "output_type": "execute_result"
    }
   ],
   "source": [
    "len(np.unique(np.array(cdata.loc[:, [u'SR', u'Begin ARM', u'End ARM']])))"
   ]
  },
  {
   "cell_type": "code",
   "execution_count": 103,
   "metadata": {
    "collapsed": false
   },
   "outputs": [],
   "source": [
    "CDATA = cdata[[ u'sYear', u'Rutting', u'IRI', u'PSC', u'IntID', 'Alli', 'Long', u'Low Flexible Patching',\n",
    "                    u'Medium Flexible Patching', u'High Flexible Patching',\n",
    "            u'Low Flexible Transverse Cracking',\n",
    "         u'Medium Flexible Transverse Cracking',\n",
    "           u'High Flexible Transverse Cracking',\n",
    "                                          u'SR',\n",
    "                                   u'Begin ARM',\n",
    "                                     u'End ARM',\n",
    "                                         u'UID',\n",
    "                                   u'Is Bridge',\n",
    "                           u'Lane Surface Type',\n",
    "                                  u'Lane Miles',\n",
    "                                    u'Region_x',\n",
    "                    u'Federal Functional Class',\n",
    "                       u'Construction End Date',\n",
    "                 u'Substantial Completion Date',\n",
    "                   u'Contract Type Description',\n",
    "                           u'Surface Type Code',\n",
    "                    u'Surface Type Description',\n",
    "                           u'Surface Thickness',\n",
    "                        u'Treat Base Type Code',\n",
    "                 u'Treat Base Type Description',\n",
    "                        u'Treat Base Thickness',\n",
    "                       u'UTreat Base Thickness',\n",
    "                                       u'cYear',\n",
    "                                u'Traffic Year',\n",
    "                                       u'ESALs',\n",
    "                         u'Contract History ID',\n",
    "                           u'Construction Year',\n",
    "                            u'Major Rehab Year',\n",
    "                          u'Segment Lane Miles',\n",
    "                     u'ESALs Since Major Rehab',\n",
    "                             u'Total Thickness',\n",
    "                     u'Total Surface Thickness',\n",
    "                         u'Listed Surface Type',\n",
    "                               u'Pavement Type',\n",
    "                  u'Construction Pavement Type',\n",
    "                            u'Major Rehab Type',\n",
    "                      u'Prior Major Rehab Year',\n",
    "                      u'Prior Major Rehab Type']]"
   ]
  },
  {
   "cell_type": "code",
   "execution_count": 108,
   "metadata": {
    "collapsed": true
   },
   "outputs": [],
   "source": [
    "def change2Percentage(row):\n",
    "    p = row[u'Alli']\n",
    "    m = row[u'Lane Miles']\n",
    "    if not (p == 'nan'):\n",
    "        return p/(m*5280) * 100\n",
    "    else:\n",
    "        return 'nan'  "
   ]
  },
  {
   "cell_type": "code",
   "execution_count": 109,
   "metadata": {
    "collapsed": true
   },
   "outputs": [],
   "source": [
    "def change2PercentageL(row):\n",
    "    p = row[u'Long']\n",
    "    m = row[u'Lane Miles']\n",
    "    if not (p == 'nan'):\n",
    "        return p/(m*5280) * 100\n",
    "    else:\n",
    "        return 'nan' "
   ]
  },
  {
   "cell_type": "code",
   "execution_count": 110,
   "metadata": {
    "collapsed": false
   },
   "outputs": [],
   "source": [
    "CDATA.loc[:, 'AlliP'] = CDATA.apply(change2Percentage, axis = 1)\n",
    "CDATA.loc[:, 'LongP'] = CDATA.apply(change2PercentageL, axis = 1)"
   ]
  },
  {
   "cell_type": "code",
   "execution_count": 112,
   "metadata": {
    "collapsed": true
   },
   "outputs": [],
   "source": [
    "MatType = np.unique(np.array(ds.loc[:, 'Surface Type Code']))\n",
    "tds = CDATA.drop_duplicates(subset = ['UID'])"
   ]
  },
  {
   "cell_type": "code",
   "execution_count": 116,
   "metadata": {
    "collapsed": false
   },
   "outputs": [
    {
     "name": "stdout",
     "output_type": "stream",
     "text": [
      "3\n"
     ]
    }
   ],
   "source": [
    "MTdic = {}\n",
    "for mt in MatType[1:]:\n",
    "    n = len(tds[tds.loc[:, 'Surface Type Code']==mt])\n",
    "    if n > 500:\n",
    "        MTdic[mt] = n\n",
    "print len(MTdic)"
   ]
  },
  {
   "cell_type": "code",
   "execution_count": 117,
   "metadata": {
    "collapsed": false
   },
   "outputs": [
    {
     "data": {
      "text/plain": [
       "{'BA': 3962, 'PA': 879, 'SA': 521}"
      ]
     },
     "execution_count": 117,
     "metadata": {},
     "output_type": "execute_result"
    }
   ],
   "source": [
    "MTdic"
   ]
  },
  {
   "cell_type": "code",
   "execution_count": 118,
   "metadata": {
    "collapsed": false
   },
   "outputs": [
    {
     "name": "stdout",
     "output_type": "stream",
     "text": [
      "10147\n"
     ]
    }
   ],
   "source": [
    "print len(tds)"
   ]
  },
  {
   "cell_type": "code",
   "execution_count": 119,
   "metadata": {
    "collapsed": true
   },
   "outputs": [],
   "source": [
    "def catSurfType(row):\n",
    "    st = row['Surface Type Code']\n",
    "    if st in MTdic.keys():\n",
    "        return st\n",
    "    else:\n",
    "        return 'Other'  "
   ]
  },
  {
   "cell_type": "code",
   "execution_count": 120,
   "metadata": {
    "collapsed": true
   },
   "outputs": [],
   "source": [
    "CDATA.loc[:, \"STcode\"] = CDATA.apply(catSurfType, axis = 1)"
   ]
  },
  {
   "cell_type": "code",
   "execution_count": 121,
   "metadata": {
    "collapsed": true
   },
   "outputs": [],
   "source": [
    "CDATA.to_csv('../FinalDatasets/workingDataset.csv')"
   ]
  }
 ],
 "metadata": {
  "kernelspec": {
   "display_name": "Python 2",
   "language": "python",
   "name": "python2"
  },
  "language_info": {
   "codemirror_mode": {
    "name": "ipython",
    "version": 2
   },
   "file_extension": ".py",
   "mimetype": "text/x-python",
   "name": "python",
   "nbconvert_exporter": "python",
   "pygments_lexer": "ipython2",
   "version": "2.7.9"
  }
 },
 "nbformat": 4,
 "nbformat_minor": 0
}
