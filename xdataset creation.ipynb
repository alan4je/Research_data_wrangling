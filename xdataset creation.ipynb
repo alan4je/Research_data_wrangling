{
 "cells": [
  {
   "cell_type": "code",
   "execution_count": 1,
   "metadata": {
    "collapsed": true
   },
   "outputs": [],
   "source": [
    "import pandas as pd, numpy as np"
   ]
  },
  {
   "cell_type": "code",
   "execution_count": 2,
   "metadata": {
    "collapsed": true
   },
   "outputs": [],
   "source": [
    "fds = pd.read_csv('../modelDatasets/fullDataset.csv')"
   ]
  },
  {
   "cell_type": "code",
   "execution_count": 3,
   "metadata": {
    "collapsed": false
   },
   "outputs": [
    {
     "data": {
      "text/plain": [
       "Index([u'Unnamed: 0', u'sYear', u'IntID', u'Rutting', u'IRI', u'PSC', u'PPC',\n",
       "       u'PRC', u'Alli', u'Long', u'SR', u'Begin ARM', u'End ARM', u'UID',\n",
       "       u'Is Bridge', u'Lane Surface Type', u'Lane Miles', u'Region_x',\n",
       "       u'Federal Functional Class', u'Construction End Date',\n",
       "       u'Substantial Completion Date', u'Contract Type Description',\n",
       "       u'Surface Type Code', u'Surface Type Description', u'Surface Thickness',\n",
       "       u'Treat Base Type Code', u'Treat Base Type Description',\n",
       "       u'Treat Base Thickness', u'UTreat Base Thickness', u'cYear',\n",
       "       u'Traffic Year', u'ESALs', u'Construction Year', u'Major Rehab Year',\n",
       "       u'Segment Lane Miles', u'ESALs Since Major Rehab', u'Total Thickness',\n",
       "       u'Total Surface Thickness', u'Listed Surface Type', u'Pavement Type',\n",
       "       u'Construction Pavement Type', u'Major Rehab Type',\n",
       "       u'Prior Major Rehab Year', u'Prior Major Rehab Type', u'sfThick',\n",
       "       u'Tthick', u'TSfThick', u'STcode', u'cumPPT', u'meanMinTemp',\n",
       "       u'meanMaxTemp', u'cumESALs', u'cumFTC'],\n",
       "      dtype='object')"
      ]
     },
     "execution_count": 3,
     "metadata": {},
     "output_type": "execute_result"
    }
   ],
   "source": [
    "fds.columns"
   ]
  },
  {
   "cell_type": "code",
   "execution_count": 4,
   "metadata": {
    "collapsed": false
   },
   "outputs": [
    {
     "name": "stdout",
     "output_type": "stream",
     "text": [
      "373539\n"
     ]
    }
   ],
   "source": [
    "print len(fds)"
   ]
  },
  {
   "cell_type": "code",
   "execution_count": 5,
   "metadata": {
    "collapsed": true
   },
   "outputs": [],
   "source": [
    "ds = pd.read_csv('../modelDatasets/rcModelData1215.csv')"
   ]
  },
  {
   "cell_type": "code",
   "execution_count": 6,
   "metadata": {
    "collapsed": false
   },
   "outputs": [
    {
     "data": {
      "text/html": [
       "<div>\n",
       "<table border=\"1\" class=\"dataframe\">\n",
       "  <thead>\n",
       "    <tr style=\"text-align: right;\">\n",
       "      <th></th>\n",
       "      <th>Unnamed: 0</th>\n",
       "      <th>UID</th>\n",
       "      <th>sYear</th>\n",
       "      <th>Rutting</th>\n",
       "      <th>IRI</th>\n",
       "      <th>PSC</th>\n",
       "      <th>Alli</th>\n",
       "      <th>Long</th>\n",
       "      <th>Is Bridge</th>\n",
       "      <th>Lane Miles</th>\n",
       "      <th>...</th>\n",
       "      <th>IRIsi</th>\n",
       "      <th>esals</th>\n",
       "      <th>ppt</th>\n",
       "      <th>mint</th>\n",
       "      <th>maxt</th>\n",
       "      <th>ICAO</th>\n",
       "      <th>ftc</th>\n",
       "      <th>SR</th>\n",
       "      <th>Begin ARM</th>\n",
       "      <th>End ARM</th>\n",
       "    </tr>\n",
       "  </thead>\n",
       "  <tbody>\n",
       "    <tr>\n",
       "      <th>0</th>\n",
       "      <td>25095</td>\n",
       "      <td>1</td>\n",
       "      <td>1988</td>\n",
       "      <td>0.748</td>\n",
       "      <td>17.736993</td>\n",
       "      <td>67</td>\n",
       "      <td>0.001370</td>\n",
       "      <td>0.056856</td>\n",
       "      <td>0</td>\n",
       "      <td>0.36</td>\n",
       "      <td>...</td>\n",
       "      <td>3.359280</td>\n",
       "      <td>17996.598271</td>\n",
       "      <td>918.010010</td>\n",
       "      <td>33.584</td>\n",
       "      <td>74.336001</td>\n",
       "      <td>KPAE</td>\n",
       "      <td>5</td>\n",
       "      <td>2</td>\n",
       "      <td>0</td>\n",
       "      <td>0.1</td>\n",
       "    </tr>\n",
       "    <tr>\n",
       "      <th>1</th>\n",
       "      <td>26540</td>\n",
       "      <td>1</td>\n",
       "      <td>1989</td>\n",
       "      <td>0.236</td>\n",
       "      <td>17.736993</td>\n",
       "      <td>82</td>\n",
       "      <td>0.000000</td>\n",
       "      <td>0.029924</td>\n",
       "      <td>0</td>\n",
       "      <td>0.36</td>\n",
       "      <td>...</td>\n",
       "      <td>3.359280</td>\n",
       "      <td>18686.830557</td>\n",
       "      <td>833.750000</td>\n",
       "      <td>26.042</td>\n",
       "      <td>72.968000</td>\n",
       "      <td>KPAE</td>\n",
       "      <td>11</td>\n",
       "      <td>2</td>\n",
       "      <td>0</td>\n",
       "      <td>0.1</td>\n",
       "    </tr>\n",
       "    <tr>\n",
       "      <th>2</th>\n",
       "      <td>28193</td>\n",
       "      <td>1</td>\n",
       "      <td>1990</td>\n",
       "      <td>0.236</td>\n",
       "      <td>18.159243</td>\n",
       "      <td>82</td>\n",
       "      <td>0.000000</td>\n",
       "      <td>0.029924</td>\n",
       "      <td>0</td>\n",
       "      <td>0.36</td>\n",
       "      <td>...</td>\n",
       "      <td>3.439252</td>\n",
       "      <td>19088.431115</td>\n",
       "      <td>1106.859985</td>\n",
       "      <td>28.454</td>\n",
       "      <td>76.333998</td>\n",
       "      <td>KPAE</td>\n",
       "      <td>18</td>\n",
       "      <td>2</td>\n",
       "      <td>0</td>\n",
       "      <td>0.1</td>\n",
       "    </tr>\n",
       "    <tr>\n",
       "      <th>3</th>\n",
       "      <td>29936</td>\n",
       "      <td>1</td>\n",
       "      <td>1991</td>\n",
       "      <td>0.236</td>\n",
       "      <td>18.159243</td>\n",
       "      <td>71</td>\n",
       "      <td>0.000000</td>\n",
       "      <td>0.056856</td>\n",
       "      <td>0</td>\n",
       "      <td>0.36</td>\n",
       "      <td>...</td>\n",
       "      <td>3.439252</td>\n",
       "      <td>19903.607821</td>\n",
       "      <td>848.960022</td>\n",
       "      <td>32.378</td>\n",
       "      <td>77.666002</td>\n",
       "      <td>KPAE</td>\n",
       "      <td>5</td>\n",
       "      <td>2</td>\n",
       "      <td>0</td>\n",
       "      <td>0.1</td>\n",
       "    </tr>\n",
       "    <tr>\n",
       "      <th>4</th>\n",
       "      <td>15536</td>\n",
       "      <td>1</td>\n",
       "      <td>1996</td>\n",
       "      <td>0.276</td>\n",
       "      <td>20.059659</td>\n",
       "      <td>66</td>\n",
       "      <td>0.010038</td>\n",
       "      <td>0.056856</td>\n",
       "      <td>0</td>\n",
       "      <td>0.36</td>\n",
       "      <td>...</td>\n",
       "      <td>3.799179</td>\n",
       "      <td>22868.344489</td>\n",
       "      <td>1188.750000</td>\n",
       "      <td>32.054</td>\n",
       "      <td>77.575999</td>\n",
       "      <td>KPAE</td>\n",
       "      <td>24</td>\n",
       "      <td>2</td>\n",
       "      <td>0</td>\n",
       "      <td>0.1</td>\n",
       "    </tr>\n",
       "  </tbody>\n",
       "</table>\n",
       "<p>5 rows × 33 columns</p>\n",
       "</div>"
      ],
      "text/plain": [
       "   Unnamed: 0  UID  sYear  Rutting        IRI  PSC      Alli      Long  \\\n",
       "0       25095    1   1988    0.748  17.736993   67  0.001370  0.056856   \n",
       "1       26540    1   1989    0.236  17.736993   82  0.000000  0.029924   \n",
       "2       28193    1   1990    0.236  18.159243   82  0.000000  0.029924   \n",
       "3       29936    1   1991    0.236  18.159243   71  0.000000  0.056856   \n",
       "4       15536    1   1996    0.276  20.059659   66  0.010038  0.056856   \n",
       "\n",
       "   Is Bridge  Lane Miles   ...        IRIsi         esals          ppt  \\\n",
       "0          0        0.36   ...     3.359280  17996.598271   918.010010   \n",
       "1          0        0.36   ...     3.359280  18686.830557   833.750000   \n",
       "2          0        0.36   ...     3.439252  19088.431115  1106.859985   \n",
       "3          0        0.36   ...     3.439252  19903.607821   848.960022   \n",
       "4          0        0.36   ...     3.799179  22868.344489  1188.750000   \n",
       "\n",
       "     mint       maxt  ICAO  ftc  SR  Begin ARM  End ARM  \n",
       "0  33.584  74.336001  KPAE    5   2          0      0.1  \n",
       "1  26.042  72.968000  KPAE   11   2          0      0.1  \n",
       "2  28.454  76.333998  KPAE   18   2          0      0.1  \n",
       "3  32.378  77.666002  KPAE    5   2          0      0.1  \n",
       "4  32.054  77.575999  KPAE   24   2          0      0.1  \n",
       "\n",
       "[5 rows x 33 columns]"
      ]
     },
     "execution_count": 6,
     "metadata": {},
     "output_type": "execute_result"
    }
   ],
   "source": [
    "ds.head()"
   ]
  },
  {
   "cell_type": "code",
   "execution_count": 10,
   "metadata": {
    "collapsed": true
   },
   "outputs": [],
   "source": [
    "fdSel = fds[['UID', 'Region_x']]\n",
    "fdSel = fdSel.drop_duplicates(subset = ['UID'])"
   ]
  },
  {
   "cell_type": "code",
   "execution_count": 11,
   "metadata": {
    "collapsed": false
   },
   "outputs": [
    {
     "data": {
      "text/plain": [
       "True"
      ]
     },
     "execution_count": 11,
     "metadata": {},
     "output_type": "execute_result"
    }
   ],
   "source": [
    "data = pd.merge(ds, fdSel, how = 'left', left_on = ['UID'], right_on = ['UID'])\n",
    "len(data) == len(ds)"
   ]
  },
  {
   "cell_type": "code",
   "execution_count": 12,
   "metadata": {
    "collapsed": false
   },
   "outputs": [
    {
     "data": {
      "text/html": [
       "<div>\n",
       "<table border=\"1\" class=\"dataframe\">\n",
       "  <thead>\n",
       "    <tr style=\"text-align: right;\">\n",
       "      <th></th>\n",
       "      <th>Unnamed: 0</th>\n",
       "      <th>UID</th>\n",
       "      <th>sYear</th>\n",
       "      <th>Rutting</th>\n",
       "      <th>IRI</th>\n",
       "      <th>PSC</th>\n",
       "      <th>Alli</th>\n",
       "      <th>Long</th>\n",
       "      <th>Is Bridge</th>\n",
       "      <th>Lane Miles</th>\n",
       "      <th>...</th>\n",
       "      <th>esals</th>\n",
       "      <th>ppt</th>\n",
       "      <th>mint</th>\n",
       "      <th>maxt</th>\n",
       "      <th>ICAO</th>\n",
       "      <th>ftc</th>\n",
       "      <th>SR</th>\n",
       "      <th>Begin ARM</th>\n",
       "      <th>End ARM</th>\n",
       "      <th>Region_x</th>\n",
       "    </tr>\n",
       "  </thead>\n",
       "  <tbody>\n",
       "    <tr>\n",
       "      <th>0</th>\n",
       "      <td>25095</td>\n",
       "      <td>1</td>\n",
       "      <td>1988</td>\n",
       "      <td>0.748</td>\n",
       "      <td>17.736993</td>\n",
       "      <td>67</td>\n",
       "      <td>0.001370</td>\n",
       "      <td>0.056856</td>\n",
       "      <td>0</td>\n",
       "      <td>0.36</td>\n",
       "      <td>...</td>\n",
       "      <td>17996.598271</td>\n",
       "      <td>918.010010</td>\n",
       "      <td>33.584</td>\n",
       "      <td>74.336001</td>\n",
       "      <td>KPAE</td>\n",
       "      <td>5</td>\n",
       "      <td>2</td>\n",
       "      <td>0</td>\n",
       "      <td>0.1</td>\n",
       "      <td>Eastern</td>\n",
       "    </tr>\n",
       "    <tr>\n",
       "      <th>1</th>\n",
       "      <td>26540</td>\n",
       "      <td>1</td>\n",
       "      <td>1989</td>\n",
       "      <td>0.236</td>\n",
       "      <td>17.736993</td>\n",
       "      <td>82</td>\n",
       "      <td>0.000000</td>\n",
       "      <td>0.029924</td>\n",
       "      <td>0</td>\n",
       "      <td>0.36</td>\n",
       "      <td>...</td>\n",
       "      <td>18686.830557</td>\n",
       "      <td>833.750000</td>\n",
       "      <td>26.042</td>\n",
       "      <td>72.968000</td>\n",
       "      <td>KPAE</td>\n",
       "      <td>11</td>\n",
       "      <td>2</td>\n",
       "      <td>0</td>\n",
       "      <td>0.1</td>\n",
       "      <td>Eastern</td>\n",
       "    </tr>\n",
       "    <tr>\n",
       "      <th>2</th>\n",
       "      <td>28193</td>\n",
       "      <td>1</td>\n",
       "      <td>1990</td>\n",
       "      <td>0.236</td>\n",
       "      <td>18.159243</td>\n",
       "      <td>82</td>\n",
       "      <td>0.000000</td>\n",
       "      <td>0.029924</td>\n",
       "      <td>0</td>\n",
       "      <td>0.36</td>\n",
       "      <td>...</td>\n",
       "      <td>19088.431115</td>\n",
       "      <td>1106.859985</td>\n",
       "      <td>28.454</td>\n",
       "      <td>76.333998</td>\n",
       "      <td>KPAE</td>\n",
       "      <td>18</td>\n",
       "      <td>2</td>\n",
       "      <td>0</td>\n",
       "      <td>0.1</td>\n",
       "      <td>Eastern</td>\n",
       "    </tr>\n",
       "    <tr>\n",
       "      <th>3</th>\n",
       "      <td>29936</td>\n",
       "      <td>1</td>\n",
       "      <td>1991</td>\n",
       "      <td>0.236</td>\n",
       "      <td>18.159243</td>\n",
       "      <td>71</td>\n",
       "      <td>0.000000</td>\n",
       "      <td>0.056856</td>\n",
       "      <td>0</td>\n",
       "      <td>0.36</td>\n",
       "      <td>...</td>\n",
       "      <td>19903.607821</td>\n",
       "      <td>848.960022</td>\n",
       "      <td>32.378</td>\n",
       "      <td>77.666002</td>\n",
       "      <td>KPAE</td>\n",
       "      <td>5</td>\n",
       "      <td>2</td>\n",
       "      <td>0</td>\n",
       "      <td>0.1</td>\n",
       "      <td>Eastern</td>\n",
       "    </tr>\n",
       "    <tr>\n",
       "      <th>4</th>\n",
       "      <td>15536</td>\n",
       "      <td>1</td>\n",
       "      <td>1996</td>\n",
       "      <td>0.276</td>\n",
       "      <td>20.059659</td>\n",
       "      <td>66</td>\n",
       "      <td>0.010038</td>\n",
       "      <td>0.056856</td>\n",
       "      <td>0</td>\n",
       "      <td>0.36</td>\n",
       "      <td>...</td>\n",
       "      <td>22868.344489</td>\n",
       "      <td>1188.750000</td>\n",
       "      <td>32.054</td>\n",
       "      <td>77.575999</td>\n",
       "      <td>KPAE</td>\n",
       "      <td>24</td>\n",
       "      <td>2</td>\n",
       "      <td>0</td>\n",
       "      <td>0.1</td>\n",
       "      <td>Eastern</td>\n",
       "    </tr>\n",
       "  </tbody>\n",
       "</table>\n",
       "<p>5 rows × 34 columns</p>\n",
       "</div>"
      ],
      "text/plain": [
       "   Unnamed: 0  UID  sYear  Rutting        IRI  PSC      Alli      Long  \\\n",
       "0       25095    1   1988    0.748  17.736993   67  0.001370  0.056856   \n",
       "1       26540    1   1989    0.236  17.736993   82  0.000000  0.029924   \n",
       "2       28193    1   1990    0.236  18.159243   82  0.000000  0.029924   \n",
       "3       29936    1   1991    0.236  18.159243   71  0.000000  0.056856   \n",
       "4       15536    1   1996    0.276  20.059659   66  0.010038  0.056856   \n",
       "\n",
       "   Is Bridge  Lane Miles    ...            esals          ppt    mint  \\\n",
       "0          0        0.36    ...     17996.598271   918.010010  33.584   \n",
       "1          0        0.36    ...     18686.830557   833.750000  26.042   \n",
       "2          0        0.36    ...     19088.431115  1106.859985  28.454   \n",
       "3          0        0.36    ...     19903.607821   848.960022  32.378   \n",
       "4          0        0.36    ...     22868.344489  1188.750000  32.054   \n",
       "\n",
       "        maxt  ICAO ftc  SR  Begin ARM  End ARM  Region_x  \n",
       "0  74.336001  KPAE   5   2          0      0.1   Eastern  \n",
       "1  72.968000  KPAE  11   2          0      0.1   Eastern  \n",
       "2  76.333998  KPAE  18   2          0      0.1   Eastern  \n",
       "3  77.666002  KPAE   5   2          0      0.1   Eastern  \n",
       "4  77.575999  KPAE  24   2          0      0.1   Eastern  \n",
       "\n",
       "[5 rows x 34 columns]"
      ]
     },
     "execution_count": 12,
     "metadata": {},
     "output_type": "execute_result"
    }
   ],
   "source": [
    "data.head()"
   ]
  },
  {
   "cell_type": "code",
   "execution_count": 14,
   "metadata": {
    "collapsed": false
   },
   "outputs": [],
   "source": [
    "df = data[[u'UID', u'sYear', u'Rutting', u'IRI', u'PSC', u'Alli',\n",
    "       u'Long', u'Is Bridge', u'Lane Miles', u'Segment Lane Miles',\n",
    "       u'ESALs Since Major Rehab', u'sfThick', u'Tthick', u'TSfThick',\n",
    "       u'STcode', u'cumPPT', u'meanMinTemp', u'meanMaxTemp', u'cumESALs',\n",
    "       u'cumFTC', u'pAlli', u'pLong', u'IRIsi', u'esals', u'ppt', u'mint',\n",
    "       u'maxt', u'ICAO', u'ftc', u'SR', u'Begin ARM', u'End ARM', u'Region_x']]\n",
    "df.columns = [u'UID', u'sYear', u'Rutting', u'IRI', u'PSC', u'Alli',\n",
    "       u'Long', u'Is Bridge', u'Lane Miles', u'Segment Lane Miles',\n",
    "       u'ESALs Since Major Rehab', u'sfThick', u'Tthick', u'TSfThick',\n",
    "       u'STcode', u'cumPPT', u'meanMinTemp', u'meanMaxTemp', u'cumESALs',\n",
    "       u'cumFTC', u'pAlli', u'pLong', u'IRIsi', u'esals', u'ppt', u'mint',\n",
    "       u'maxt', u'ICAO', u'ftc', u'SR', u'Begin ARM', u'End ARM', u'Region']"
   ]
  },
  {
   "cell_type": "code",
   "execution_count": 15,
   "metadata": {
    "collapsed": false
   },
   "outputs": [
    {
     "data": {
      "text/html": [
       "<div>\n",
       "<table border=\"1\" class=\"dataframe\">\n",
       "  <thead>\n",
       "    <tr style=\"text-align: right;\">\n",
       "      <th></th>\n",
       "      <th>UID</th>\n",
       "      <th>sYear</th>\n",
       "      <th>Rutting</th>\n",
       "      <th>IRI</th>\n",
       "      <th>PSC</th>\n",
       "      <th>Alli</th>\n",
       "      <th>Long</th>\n",
       "      <th>Is Bridge</th>\n",
       "      <th>Lane Miles</th>\n",
       "      <th>Segment Lane Miles</th>\n",
       "      <th>...</th>\n",
       "      <th>esals</th>\n",
       "      <th>ppt</th>\n",
       "      <th>mint</th>\n",
       "      <th>maxt</th>\n",
       "      <th>ICAO</th>\n",
       "      <th>ftc</th>\n",
       "      <th>SR</th>\n",
       "      <th>Begin ARM</th>\n",
       "      <th>End ARM</th>\n",
       "      <th>Region</th>\n",
       "    </tr>\n",
       "  </thead>\n",
       "  <tbody>\n",
       "    <tr>\n",
       "      <th>0</th>\n",
       "      <td>1</td>\n",
       "      <td>1988</td>\n",
       "      <td>0.748</td>\n",
       "      <td>17.736993</td>\n",
       "      <td>67</td>\n",
       "      <td>0.001370</td>\n",
       "      <td>0.056856</td>\n",
       "      <td>0</td>\n",
       "      <td>0.36</td>\n",
       "      <td>0.16</td>\n",
       "      <td>...</td>\n",
       "      <td>17996.598271</td>\n",
       "      <td>918.010010</td>\n",
       "      <td>33.584</td>\n",
       "      <td>74.336001</td>\n",
       "      <td>KPAE</td>\n",
       "      <td>5</td>\n",
       "      <td>2</td>\n",
       "      <td>0</td>\n",
       "      <td>0.1</td>\n",
       "      <td>Eastern</td>\n",
       "    </tr>\n",
       "    <tr>\n",
       "      <th>1</th>\n",
       "      <td>1</td>\n",
       "      <td>1989</td>\n",
       "      <td>0.236</td>\n",
       "      <td>17.736993</td>\n",
       "      <td>82</td>\n",
       "      <td>0.000000</td>\n",
       "      <td>0.029924</td>\n",
       "      <td>0</td>\n",
       "      <td>0.36</td>\n",
       "      <td>0.16</td>\n",
       "      <td>...</td>\n",
       "      <td>18686.830557</td>\n",
       "      <td>833.750000</td>\n",
       "      <td>26.042</td>\n",
       "      <td>72.968000</td>\n",
       "      <td>KPAE</td>\n",
       "      <td>11</td>\n",
       "      <td>2</td>\n",
       "      <td>0</td>\n",
       "      <td>0.1</td>\n",
       "      <td>Eastern</td>\n",
       "    </tr>\n",
       "    <tr>\n",
       "      <th>2</th>\n",
       "      <td>1</td>\n",
       "      <td>1990</td>\n",
       "      <td>0.236</td>\n",
       "      <td>18.159243</td>\n",
       "      <td>82</td>\n",
       "      <td>0.000000</td>\n",
       "      <td>0.029924</td>\n",
       "      <td>0</td>\n",
       "      <td>0.36</td>\n",
       "      <td>0.16</td>\n",
       "      <td>...</td>\n",
       "      <td>19088.431115</td>\n",
       "      <td>1106.859985</td>\n",
       "      <td>28.454</td>\n",
       "      <td>76.333998</td>\n",
       "      <td>KPAE</td>\n",
       "      <td>18</td>\n",
       "      <td>2</td>\n",
       "      <td>0</td>\n",
       "      <td>0.1</td>\n",
       "      <td>Eastern</td>\n",
       "    </tr>\n",
       "    <tr>\n",
       "      <th>3</th>\n",
       "      <td>1</td>\n",
       "      <td>1991</td>\n",
       "      <td>0.236</td>\n",
       "      <td>18.159243</td>\n",
       "      <td>71</td>\n",
       "      <td>0.000000</td>\n",
       "      <td>0.056856</td>\n",
       "      <td>0</td>\n",
       "      <td>0.36</td>\n",
       "      <td>0.16</td>\n",
       "      <td>...</td>\n",
       "      <td>19903.607821</td>\n",
       "      <td>848.960022</td>\n",
       "      <td>32.378</td>\n",
       "      <td>77.666002</td>\n",
       "      <td>KPAE</td>\n",
       "      <td>5</td>\n",
       "      <td>2</td>\n",
       "      <td>0</td>\n",
       "      <td>0.1</td>\n",
       "      <td>Eastern</td>\n",
       "    </tr>\n",
       "    <tr>\n",
       "      <th>4</th>\n",
       "      <td>1</td>\n",
       "      <td>1996</td>\n",
       "      <td>0.276</td>\n",
       "      <td>20.059659</td>\n",
       "      <td>66</td>\n",
       "      <td>0.010038</td>\n",
       "      <td>0.056856</td>\n",
       "      <td>0</td>\n",
       "      <td>0.36</td>\n",
       "      <td>0.16</td>\n",
       "      <td>...</td>\n",
       "      <td>22868.344489</td>\n",
       "      <td>1188.750000</td>\n",
       "      <td>32.054</td>\n",
       "      <td>77.575999</td>\n",
       "      <td>KPAE</td>\n",
       "      <td>24</td>\n",
       "      <td>2</td>\n",
       "      <td>0</td>\n",
       "      <td>0.1</td>\n",
       "      <td>Eastern</td>\n",
       "    </tr>\n",
       "  </tbody>\n",
       "</table>\n",
       "<p>5 rows × 33 columns</p>\n",
       "</div>"
      ],
      "text/plain": [
       "   UID  sYear  Rutting        IRI  PSC      Alli      Long  Is Bridge  \\\n",
       "0    1   1988    0.748  17.736993   67  0.001370  0.056856          0   \n",
       "1    1   1989    0.236  17.736993   82  0.000000  0.029924          0   \n",
       "2    1   1990    0.236  18.159243   82  0.000000  0.029924          0   \n",
       "3    1   1991    0.236  18.159243   71  0.000000  0.056856          0   \n",
       "4    1   1996    0.276  20.059659   66  0.010038  0.056856          0   \n",
       "\n",
       "   Lane Miles  Segment Lane Miles   ...            esals          ppt    mint  \\\n",
       "0        0.36                0.16   ...     17996.598271   918.010010  33.584   \n",
       "1        0.36                0.16   ...     18686.830557   833.750000  26.042   \n",
       "2        0.36                0.16   ...     19088.431115  1106.859985  28.454   \n",
       "3        0.36                0.16   ...     19903.607821   848.960022  32.378   \n",
       "4        0.36                0.16   ...     22868.344489  1188.750000  32.054   \n",
       "\n",
       "        maxt  ICAO  ftc  SR  Begin ARM  End ARM   Region  \n",
       "0  74.336001  KPAE    5   2          0      0.1  Eastern  \n",
       "1  72.968000  KPAE   11   2          0      0.1  Eastern  \n",
       "2  76.333998  KPAE   18   2          0      0.1  Eastern  \n",
       "3  77.666002  KPAE    5   2          0      0.1  Eastern  \n",
       "4  77.575999  KPAE   24   2          0      0.1  Eastern  \n",
       "\n",
       "[5 rows x 33 columns]"
      ]
     },
     "execution_count": 15,
     "metadata": {},
     "output_type": "execute_result"
    }
   ],
   "source": [
    "df.head()"
   ]
  },
  {
   "cell_type": "code",
   "execution_count": 16,
   "metadata": {
    "collapsed": true
   },
   "outputs": [],
   "source": [
    "df.to_csv('../projdata/rcmdata.csv')"
   ]
  },
  {
   "cell_type": "code",
   "execution_count": 29,
   "metadata": {
    "collapsed": false
   },
   "outputs": [
    {
     "name": "stdout",
     "output_type": "stream",
     "text": [
      "Northwest: 104852\n",
      "Eastern: 65703\n",
      "North Central: 53096\n",
      "Olympic: 62014\n",
      "Southwest: 44925\n",
      "South Central: 42949\n"
     ]
    }
   ],
   "source": [
    "for reg in fds.Region_x.unique():\n",
    "    print '%s: %d' %(reg, len(fds[fds.Region_x == reg]))"
   ]
  },
  {
   "cell_type": "code",
   "execution_count": 32,
   "metadata": {
    "collapsed": false
   },
   "outputs": [
    {
     "name": "stdout",
     "output_type": "stream",
     "text": [
      "Northwest: 0.28\n",
      "Eastern: 0.18\n",
      "North Central: 0.14\n",
      "Olympic: 0.17\n",
      "Southwest: 0.12\n",
      "South Central: 0.11\n"
     ]
    }
   ],
   "source": [
    "for reg in fds.Region_x.unique():\n",
    "    print '%s: %.2f' %(reg, len(fds[fds.Region_x == reg])*1.0/len(fds))"
   ]
  },
  {
   "cell_type": "code",
   "execution_count": 33,
   "metadata": {
    "collapsed": true
   },
   "outputs": [],
   "source": [
    "ds2 = pd.read_csv('../modelDatasets/mcsdataset.csv')"
   ]
  },
  {
   "cell_type": "code",
   "execution_count": 34,
   "metadata": {
    "collapsed": false
   },
   "outputs": [
    {
     "data": {
      "text/plain": [
       "True"
      ]
     },
     "execution_count": 34,
     "metadata": {},
     "output_type": "execute_result"
    }
   ],
   "source": [
    "data2 = pd.merge(ds2, fdSel, how = 'left', left_on = ['UID'], right_on = ['UID'])\n",
    "len(data2) == len(ds2)"
   ]
  },
  {
   "cell_type": "code",
   "execution_count": 38,
   "metadata": {
    "collapsed": false
   },
   "outputs": [],
   "source": [
    "ds2.columns = [u'Unnamed: 0', u'UID', u'IsBridge', u'Lane Surface Type', u'LaneMiles',\n",
    "       u'Region', u'FFClass', u'SurfaceTypeCode', u'STDescription',\n",
    "       u'TreatBaseCode', u'TreatBaseDescription', u'TBThick', u'untrthick',\n",
    "       u'Y_ESAL', u'MajorRehabYear', u'Cum_ESAL', u'SURFTHK', u'ULT',\n",
    "       u'TSfThick', u'tmin', u'tmax', u'cumESALs', u'IRIsi', u'Alli', u'Long',\n",
    "       u'E_Alli', u'E_Long', u'prep', u'MinT', u'MaxT', u'FTCycles',\n",
    "       u'actbthick', u'pctbthick', u'ftprep', u'BA', u'AA', u'SR', u'BMP',\n",
    "       u'SpeedLimit', u'ESALmean', u'ESALstd', u'PPTmean', u'PPTstd',\n",
    "       u'MINTmean', u'MINTstd', u'MAXTmean', u'MAXTstd', u'FTCmean',\n",
    "       u'FTCstd']"
   ]
  },
  {
   "cell_type": "code",
   "execution_count": 39,
   "metadata": {
    "collapsed": true
   },
   "outputs": [],
   "source": [
    "mcdata = ds2[[u'UID', u'IsBridge', u'Lane Surface Type', u'LaneMiles',\n",
    "       u'Region', u'FFClass', u'SurfaceTypeCode', u'STDescription',\n",
    "       u'TreatBaseCode', u'TreatBaseDescription', u'TBThick', u'untrthick',\n",
    "       u'Y_ESAL', u'MajorRehabYear', u'Cum_ESAL', u'SURFTHK', u'ULT',\n",
    "       u'TSfThick', u'tmin', u'tmax', u'cumESALs', u'IRIsi', u'Alli', u'Long',\n",
    "       u'E_Alli', u'E_Long', u'prep', u'MinT', u'MaxT', u'FTCycles',\n",
    "       u'actbthick', u'pctbthick', u'ftprep', u'BA', u'AA', u'SR', u'BMP',\n",
    "       u'SpeedLimit', u'ESALmean', u'ESALstd', u'PPTmean', u'PPTstd',\n",
    "       u'MINTmean', u'MINTstd', u'MAXTmean', u'MAXTstd', u'FTCmean',\n",
    "       u'FTCstd']]"
   ]
  },
  {
   "cell_type": "code",
   "execution_count": 40,
   "metadata": {
    "collapsed": true
   },
   "outputs": [],
   "source": [
    "mcdata.to_csv('../modelDatasets/mcsdataset.csv')"
   ]
  },
  {
   "cell_type": "code",
   "execution_count": 41,
   "metadata": {
    "collapsed": true
   },
   "outputs": [],
   "source": [
    "d1 = pd.read_csv('../modelDatasets/rdata_mod_weather_covs.csv')"
   ]
  },
  {
   "cell_type": "code",
   "execution_count": 42,
   "metadata": {
    "collapsed": false
   },
   "outputs": [
    {
     "data": {
      "text/plain": [
       "True"
      ]
     },
     "execution_count": 42,
     "metadata": {},
     "output_type": "execute_result"
    }
   ],
   "source": [
    "data3 = pd.merge(d1, fdSel, how = 'left', left_on = ['UID'], right_on = ['UID'])\n",
    "len(data3) == len(d1)"
   ]
  },
  {
   "cell_type": "code",
   "execution_count": 44,
   "metadata": {
    "collapsed": false
   },
   "outputs": [],
   "source": [
    "data3.columns = ['x', u'UID', u'sYear', u'Rutting', u'IRI', u'PSC', u'Alli',\n",
    "       u'Long', u'Is Bridge', u'Lane Miles', u'Segment Lane Miles',\n",
    "       u'ESALs Since Major Rehab', u'sfThick', u'Tthick', u'TSfThick',\n",
    "       u'STcode', u'cumPPT', u'meanMinTemp', u'meanMaxTemp', u'cumESALs',\n",
    "       u'cumFTC', u'pAlli', u'pLong', u'IRIsi', u'esals', u'ppt', u'mint',\n",
    "       u'maxt', u'ICAO', u'ftc', u'SR', u'Begin ARM', u'End ARM',\n",
    "       u'Unnamed: 0_y', u'Year', u'latitude', u'longitude', u'A0', u'A1',\n",
    "       u'A2', u'A3', u'B1', u'B2', u'B3', u'C1', u'C2', u'C3', u'Region']"
   ]
  },
  {
   "cell_type": "code",
   "execution_count": 45,
   "metadata": {
    "collapsed": true
   },
   "outputs": [],
   "source": [
    "rmdata = data3[[ u'UID', u'sYear', u'Rutting', u'IRI', u'PSC', u'Alli',\n",
    "       u'Long', u'Is Bridge', u'Lane Miles', u'Segment Lane Miles',\n",
    "       u'ESALs Since Major Rehab', u'sfThick', u'Tthick', u'TSfThick',\n",
    "       u'STcode', u'cumPPT', u'meanMinTemp', u'meanMaxTemp', u'cumESALs',\n",
    "       u'cumFTC', u'pAlli', u'pLong', u'IRIsi', u'esals', u'ppt', u'mint',\n",
    "       u'maxt', u'ICAO', u'ftc', u'SR', u'Begin ARM', u'End ARM',\n",
    "       u'Unnamed: 0_y', u'Year', u'latitude', u'longitude', u'A0', u'A1',\n",
    "       u'A2', u'A3', u'B1', u'B2', u'B3', u'C1', u'C2', u'C3', u'Region']]"
   ]
  },
  {
   "cell_type": "code",
   "execution_count": 46,
   "metadata": {
    "collapsed": true
   },
   "outputs": [],
   "source": [
    "rmdata.to_csv('../modelDatasets/rmdata120715.csv')"
   ]
  },
  {
   "cell_type": "code",
   "execution_count": 47,
   "metadata": {
    "collapsed": true
   },
   "outputs": [],
   "source": [
    "locdata = pd.read_csv('../FinalDatasets/RCsegCoord.csv')"
   ]
  },
  {
   "cell_type": "code",
   "execution_count": 48,
   "metadata": {
    "collapsed": false
   },
   "outputs": [
    {
     "name": "stdout",
     "output_type": "stream",
     "text": [
      "True\n"
     ]
    }
   ],
   "source": [
    "vdf = pd.merge(rmdata, locdata, how = 'left', left_on = 'UID', right_on = 'UID')\n",
    "print len(vdf) == len(rmdata)"
   ]
  },
  {
   "cell_type": "code",
   "execution_count": 50,
   "metadata": {
    "collapsed": false
   },
   "outputs": [],
   "source": [
    "vdf.columns = [                    u'UID',                   u'sYear',\n",
    "                       u'Rutting',                     u'IRI',\n",
    "                           u'PSC',                    u'Alli',\n",
    "                          u'Long',               u'Is Bridge',\n",
    "                    u'Lane Miles',      u'Segment Lane Miles',\n",
    "       u'ESALs Since Major Rehab',                 u'sfThick',\n",
    "                        u'Tthick',                u'TSfThick',\n",
    "                        u'STcode',                  u'cumPPT',\n",
    "                   u'meanMinTemp',             u'meanMaxTemp',\n",
    "                      u'cumESALs',                  u'cumFTC',\n",
    "                         u'pAlli',                   u'pLong',\n",
    "                         u'IRIsi',                   u'esals',\n",
    "                           u'ppt',                    u'mint',\n",
    "                          u'maxt',                    u'ICAO',\n",
    "                           u'ftc',                      u'SR',\n",
    "                     u'Begin ARM',                 u'End ARM',\n",
    "                  u'Unnamed: 0_y',                    u'Year',\n",
    "                      u'latitude',               u'longitude',\n",
    "                            u'A0',                      u'A1',\n",
    "                            u'A2',                      u'A3',\n",
    "                            u'B1',                      u'B2',\n",
    "                            u'B3',                      u'C1',\n",
    "                            u'C2',                      u'C3',\n",
    "                        u'Region',              u'Unnamed: 0',\n",
    "                  u'Unnamed: 0.1',               u'longitude',\n",
    "                      u'latitude']"
   ]
  },
  {
   "cell_type": "code",
   "execution_count": 51,
   "metadata": {
    "collapsed": true
   },
   "outputs": [],
   "source": [
    "vds = vdf[[ u'UID',                   u'sYear',\n",
    "                       u'Rutting',                     u'IRI',\n",
    "                           u'PSC',                    u'Alli',\n",
    "                          u'Long',               u'Is Bridge',\n",
    "                    u'Lane Miles',      u'Segment Lane Miles',\n",
    "       u'ESALs Since Major Rehab',                 u'sfThick',\n",
    "                        u'Tthick',                u'TSfThick',\n",
    "                        u'STcode',                  u'cumPPT',\n",
    "                   u'meanMinTemp',             u'meanMaxTemp',\n",
    "                      u'cumESALs',                  u'cumFTC',\n",
    "                         u'pAlli',                   u'pLong',\n",
    "                         u'IRIsi',                   u'esals',\n",
    "                           u'ppt',                    u'mint',\n",
    "                          u'maxt',                    u'ICAO',\n",
    "                           u'ftc',                      u'SR',\n",
    "                     u'Begin ARM',                 u'End ARM',\n",
    "                  u'Unnamed: 0_y',                    u'Year',\n",
    "                      u'latitude',               u'longitude',\n",
    "                            u'A0',                      u'A1',\n",
    "                            u'A2',                      u'A3',\n",
    "                            u'B1',                      u'B2',\n",
    "                            u'B3',                      u'C1',\n",
    "                            u'C2',                      u'C3',\n",
    "                        u'Region',               u'longitude',\n",
    "                      u'latitude']]"
   ]
  },
  {
   "cell_type": "code",
   "execution_count": 52,
   "metadata": {
    "collapsed": false
   },
   "outputs": [
    {
     "data": {
      "text/html": [
       "<div>\n",
       "<table border=\"1\" class=\"dataframe\">\n",
       "  <thead>\n",
       "    <tr style=\"text-align: right;\">\n",
       "      <th></th>\n",
       "      <th>UID</th>\n",
       "      <th>sYear</th>\n",
       "      <th>Rutting</th>\n",
       "      <th>IRI</th>\n",
       "      <th>PSC</th>\n",
       "      <th>Alli</th>\n",
       "      <th>Long</th>\n",
       "      <th>Is Bridge</th>\n",
       "      <th>Lane Miles</th>\n",
       "      <th>Segment Lane Miles</th>\n",
       "      <th>...</th>\n",
       "      <th>B2</th>\n",
       "      <th>B3</th>\n",
       "      <th>C1</th>\n",
       "      <th>C2</th>\n",
       "      <th>C3</th>\n",
       "      <th>Region</th>\n",
       "      <th>longitude</th>\n",
       "      <th>longitude</th>\n",
       "      <th>latitude</th>\n",
       "      <th>latitude</th>\n",
       "    </tr>\n",
       "  </thead>\n",
       "  <tbody>\n",
       "    <tr>\n",
       "      <th>0</th>\n",
       "      <td>1</td>\n",
       "      <td>1988</td>\n",
       "      <td>0.748</td>\n",
       "      <td>17.736993</td>\n",
       "      <td>67</td>\n",
       "      <td>0.001370</td>\n",
       "      <td>0.056856</td>\n",
       "      <td>0</td>\n",
       "      <td>0.36</td>\n",
       "      <td>0.16</td>\n",
       "      <td>...</td>\n",
       "      <td>5</td>\n",
       "      <td>0</td>\n",
       "      <td>25.388300</td>\n",
       "      <td>13.780000</td>\n",
       "      <td>917.990000</td>\n",
       "      <td>Eastern</td>\n",
       "      <td>-122.169366</td>\n",
       "      <td>-122.169366</td>\n",
       "      <td>47.978215</td>\n",
       "      <td>47.978215</td>\n",
       "    </tr>\n",
       "    <tr>\n",
       "      <th>1</th>\n",
       "      <td>1</td>\n",
       "      <td>1989</td>\n",
       "      <td>0.236</td>\n",
       "      <td>17.736993</td>\n",
       "      <td>82</td>\n",
       "      <td>0.000000</td>\n",
       "      <td>0.029924</td>\n",
       "      <td>0</td>\n",
       "      <td>0.36</td>\n",
       "      <td>0.16</td>\n",
       "      <td>...</td>\n",
       "      <td>2</td>\n",
       "      <td>0</td>\n",
       "      <td>78.009700</td>\n",
       "      <td>36.600000</td>\n",
       "      <td>833.730003</td>\n",
       "      <td>Eastern</td>\n",
       "      <td>-122.169366</td>\n",
       "      <td>-122.169366</td>\n",
       "      <td>47.978215</td>\n",
       "      <td>47.978215</td>\n",
       "    </tr>\n",
       "    <tr>\n",
       "      <th>2</th>\n",
       "      <td>1</td>\n",
       "      <td>1990</td>\n",
       "      <td>0.236</td>\n",
       "      <td>18.159243</td>\n",
       "      <td>82</td>\n",
       "      <td>0.000000</td>\n",
       "      <td>0.029924</td>\n",
       "      <td>0</td>\n",
       "      <td>0.36</td>\n",
       "      <td>0.16</td>\n",
       "      <td>...</td>\n",
       "      <td>2</td>\n",
       "      <td>0</td>\n",
       "      <td>197.568803</td>\n",
       "      <td>50.050000</td>\n",
       "      <td>1106.920008</td>\n",
       "      <td>Eastern</td>\n",
       "      <td>-122.169366</td>\n",
       "      <td>-122.169366</td>\n",
       "      <td>47.978215</td>\n",
       "      <td>47.978215</td>\n",
       "    </tr>\n",
       "    <tr>\n",
       "      <th>3</th>\n",
       "      <td>1</td>\n",
       "      <td>1991</td>\n",
       "      <td>0.236</td>\n",
       "      <td>18.159243</td>\n",
       "      <td>71</td>\n",
       "      <td>0.000000</td>\n",
       "      <td>0.056856</td>\n",
       "      <td>0</td>\n",
       "      <td>0.36</td>\n",
       "      <td>0.16</td>\n",
       "      <td>...</td>\n",
       "      <td>4</td>\n",
       "      <td>0</td>\n",
       "      <td>32.225200</td>\n",
       "      <td>10.350000</td>\n",
       "      <td>848.949998</td>\n",
       "      <td>Eastern</td>\n",
       "      <td>-122.169366</td>\n",
       "      <td>-122.169366</td>\n",
       "      <td>47.978215</td>\n",
       "      <td>47.978215</td>\n",
       "    </tr>\n",
       "    <tr>\n",
       "      <th>4</th>\n",
       "      <td>1</td>\n",
       "      <td>1996</td>\n",
       "      <td>0.276</td>\n",
       "      <td>20.059659</td>\n",
       "      <td>66</td>\n",
       "      <td>0.010038</td>\n",
       "      <td>0.056856</td>\n",
       "      <td>0</td>\n",
       "      <td>0.36</td>\n",
       "      <td>0.16</td>\n",
       "      <td>...</td>\n",
       "      <td>5</td>\n",
       "      <td>0</td>\n",
       "      <td>380.070897</td>\n",
       "      <td>113.969999</td>\n",
       "      <td>1188.779993</td>\n",
       "      <td>Eastern</td>\n",
       "      <td>-122.169366</td>\n",
       "      <td>-122.169366</td>\n",
       "      <td>47.978215</td>\n",
       "      <td>47.978215</td>\n",
       "    </tr>\n",
       "  </tbody>\n",
       "</table>\n",
       "<p>5 rows × 53 columns</p>\n",
       "</div>"
      ],
      "text/plain": [
       "   UID  sYear  Rutting        IRI  PSC      Alli      Long  Is Bridge  \\\n",
       "0    1   1988    0.748  17.736993   67  0.001370  0.056856          0   \n",
       "1    1   1989    0.236  17.736993   82  0.000000  0.029924          0   \n",
       "2    1   1990    0.236  18.159243   82  0.000000  0.029924          0   \n",
       "3    1   1991    0.236  18.159243   71  0.000000  0.056856          0   \n",
       "4    1   1996    0.276  20.059659   66  0.010038  0.056856          0   \n",
       "\n",
       "   Lane Miles  Segment Lane Miles    ...      B2  B3          C1          C2  \\\n",
       "0        0.36                0.16    ...       5   0   25.388300   13.780000   \n",
       "1        0.36                0.16    ...       2   0   78.009700   36.600000   \n",
       "2        0.36                0.16    ...       2   0  197.568803   50.050000   \n",
       "3        0.36                0.16    ...       4   0   32.225200   10.350000   \n",
       "4        0.36                0.16    ...       5   0  380.070897  113.969999   \n",
       "\n",
       "            C3   Region   longitude   longitude   latitude   latitude  \n",
       "0   917.990000  Eastern -122.169366 -122.169366  47.978215  47.978215  \n",
       "1   833.730003  Eastern -122.169366 -122.169366  47.978215  47.978215  \n",
       "2  1106.920008  Eastern -122.169366 -122.169366  47.978215  47.978215  \n",
       "3   848.949998  Eastern -122.169366 -122.169366  47.978215  47.978215  \n",
       "4  1188.779993  Eastern -122.169366 -122.169366  47.978215  47.978215  \n",
       "\n",
       "[5 rows x 53 columns]"
      ]
     },
     "execution_count": 52,
     "metadata": {},
     "output_type": "execute_result"
    }
   ],
   "source": [
    "vds.head()"
   ]
  },
  {
   "cell_type": "code",
   "execution_count": 53,
   "metadata": {
    "collapsed": true
   },
   "outputs": [],
   "source": [
    "vds.to_csv('../projdata/vdata1.csv')"
   ]
  },
  {
   "cell_type": "code",
   "execution_count": null,
   "metadata": {
    "collapsed": true
   },
   "outputs": [],
   "source": []
  }
 ],
 "metadata": {
  "kernelspec": {
   "display_name": "Python 2",
   "language": "python",
   "name": "python2"
  },
  "language_info": {
   "codemirror_mode": {
    "name": "ipython",
    "version": 2
   },
   "file_extension": ".py",
   "mimetype": "text/x-python",
   "name": "python",
   "nbconvert_exporter": "python",
   "pygments_lexer": "ipython2",
   "version": "2.7.10"
  }
 },
 "nbformat": 4,
 "nbformat_minor": 0
}
