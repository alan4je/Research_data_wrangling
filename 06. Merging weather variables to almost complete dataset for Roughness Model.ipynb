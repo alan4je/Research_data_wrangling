{
 "cells": [
  {
   "cell_type": "code",
   "execution_count": 1,
   "metadata": {
    "collapsed": true
   },
   "outputs": [],
   "source": [
    "import pandas as pd\n",
    "import numpy as np\n",
    "import xlsxwriter"
   ]
  },
  {
   "cell_type": "code",
   "execution_count": 2,
   "metadata": {
    "collapsed": true
   },
   "outputs": [],
   "source": [
    "# Min temp data basefile\n",
    "mnfile = \"../Weather Variables/MinTemp/\" \n",
    "# Max temp data basefile\n",
    "mxfile = \"../Weather Variables/MaxTemp/\" \n",
    "# Precipiation data basefile\n",
    "pfile = \"../Weather Variables/Ppt/\" "
   ]
  },
  {
   "cell_type": "code",
   "execution_count": 3,
   "metadata": {
    "collapsed": true
   },
   "outputs": [],
   "source": [
    "def findMaxMin(db, code):\n",
    "    if code == 'max':\n",
    "        return db.max(axis=1)\n",
    "    else:\n",
    "        return db.min(axis=1)"
   ]
  },
  {
   "cell_type": "code",
   "execution_count": 4,
   "metadata": {
    "collapsed": true
   },
   "outputs": [],
   "source": [
    "def summarizeWeatherData(var):\n",
    "    if var == 'maxT':\n",
    "        bfile = mxfile\n",
    "        code = 'max'\n",
    "    elif var == \"minT\":\n",
    "        bfile = mnfile\n",
    "        code = 'min'\n",
    "    else:\n",
    "        bfile = pfile\n",
    "        return pd.read_excel(bfile+'PrecipitationRecord1981_2013.xlsx')\n",
    "\n",
    "    tdb = pd.read_excel(bfile+str(1991)+'.xlsx')\n",
    "    merged = tdb[['UID']]\n",
    "    for year in np.arange(33)+1981:\n",
    "        db = pd.read_excel(bfile+str(year)+'.xlsx')\n",
    "        adb = db[[u'jan',  u'feb',  u'mar',  u'apr', u'may',  u'jun',  u'jul',  u'aug',  u'sep',  u'oct',  u'nov',  \n",
    "                  u'dec']]\n",
    "        req = findMaxMin(adb, code)\n",
    "#         print np.array(req)[0:3]\n",
    "        req.name = str(year)\n",
    "        merged = merged.join(req)\n",
    "    return merged"
   ]
  },
  {
   "cell_type": "code",
   "execution_count": 5,
   "metadata": {
    "collapsed": false
   },
   "outputs": [],
   "source": [
    "minTemp = summarizeWeatherData('minT')"
   ]
  },
  {
   "cell_type": "code",
   "execution_count": 6,
   "metadata": {
    "collapsed": true
   },
   "outputs": [],
   "source": [
    "maxTemp = summarizeWeatherData('maxT')"
   ]
  },
  {
   "cell_type": "code",
   "execution_count": 7,
   "metadata": {
    "collapsed": false
   },
   "outputs": [],
   "source": [
    "Ppt = summarizeWeatherData('ppt')"
   ]
  },
  {
   "cell_type": "code",
   "execution_count": 8,
   "metadata": {
    "collapsed": false
   },
   "outputs": [
    {
     "data": {
      "text/html": [
       "<div>\n",
       "<table border=\"1\" class=\"dataframe\">\n",
       "  <thead>\n",
       "    <tr style=\"text-align: right;\">\n",
       "      <th></th>\n",
       "      <th>UID</th>\n",
       "      <th>Longitude</th>\n",
       "      <th>Latitude</th>\n",
       "      <th>1981</th>\n",
       "      <th>1982</th>\n",
       "      <th>1983</th>\n",
       "      <th>1984</th>\n",
       "      <th>1985</th>\n",
       "      <th>1986</th>\n",
       "      <th>1987</th>\n",
       "      <th>...</th>\n",
       "      <th>2004</th>\n",
       "      <th>2005</th>\n",
       "      <th>2006</th>\n",
       "      <th>2007</th>\n",
       "      <th>2008</th>\n",
       "      <th>2009</th>\n",
       "      <th>2010</th>\n",
       "      <th>2011</th>\n",
       "      <th>2012</th>\n",
       "      <th>2013</th>\n",
       "    </tr>\n",
       "  </thead>\n",
       "  <tbody>\n",
       "    <tr>\n",
       "      <th>0</th>\n",
       "      <td>222</td>\n",
       "      <td>-121.802218</td>\n",
       "      <td>47.860322</td>\n",
       "      <td>1690.469971</td>\n",
       "      <td>250.389999</td>\n",
       "      <td>1664.189941</td>\n",
       "      <td>1833.619995</td>\n",
       "      <td>1204.719971</td>\n",
       "      <td>1657.739990</td>\n",
       "      <td>1117.500000</td>\n",
       "      <td>...</td>\n",
       "      <td>1611.349976</td>\n",
       "      <td>1434.619995</td>\n",
       "      <td>1799.180054</td>\n",
       "      <td>1725.300049</td>\n",
       "      <td>1687.619995</td>\n",
       "      <td>1554.349976</td>\n",
       "      <td>1633.670044</td>\n",
       "      <td>1840.020020</td>\n",
       "      <td>2006.119995</td>\n",
       "      <td>1656.489990</td>\n",
       "    </tr>\n",
       "    <tr>\n",
       "      <th>1</th>\n",
       "      <td>540</td>\n",
       "      <td>-121.252570</td>\n",
       "      <td>47.715980</td>\n",
       "      <td>2157.649902</td>\n",
       "      <td>477.429993</td>\n",
       "      <td>2289.860107</td>\n",
       "      <td>2530.840088</td>\n",
       "      <td>1734.770020</td>\n",
       "      <td>2106.399902</td>\n",
       "      <td>1655.130005</td>\n",
       "      <td>...</td>\n",
       "      <td>1964.030029</td>\n",
       "      <td>1785.910034</td>\n",
       "      <td>2404.729980</td>\n",
       "      <td>2059.379883</td>\n",
       "      <td>2107.500000</td>\n",
       "      <td>2045.839966</td>\n",
       "      <td>2090.399902</td>\n",
       "      <td>2544.739990</td>\n",
       "      <td>2465.479980</td>\n",
       "      <td>1968.800049</td>\n",
       "    </tr>\n",
       "    <tr>\n",
       "      <th>2</th>\n",
       "      <td>2431</td>\n",
       "      <td>-118.301093</td>\n",
       "      <td>47.646535</td>\n",
       "      <td>337.529999</td>\n",
       "      <td>36.470001</td>\n",
       "      <td>501.670013</td>\n",
       "      <td>363.320007</td>\n",
       "      <td>228.970001</td>\n",
       "      <td>317.239990</td>\n",
       "      <td>319.609985</td>\n",
       "      <td>...</td>\n",
       "      <td>306.170013</td>\n",
       "      <td>359.350006</td>\n",
       "      <td>424.649994</td>\n",
       "      <td>236.389999</td>\n",
       "      <td>248.000000</td>\n",
       "      <td>287.329987</td>\n",
       "      <td>481.829987</td>\n",
       "      <td>287.309998</td>\n",
       "      <td>469.309998</td>\n",
       "      <td>258.200012</td>\n",
       "    </tr>\n",
       "    <tr>\n",
       "      <th>3</th>\n",
       "      <td>704</td>\n",
       "      <td>-121.000382</td>\n",
       "      <td>47.774584</td>\n",
       "      <td>1980.089966</td>\n",
       "      <td>483.109985</td>\n",
       "      <td>2204.989990</td>\n",
       "      <td>2411.659912</td>\n",
       "      <td>1679.930054</td>\n",
       "      <td>1992.989990</td>\n",
       "      <td>1580.770020</td>\n",
       "      <td>...</td>\n",
       "      <td>1923.250000</td>\n",
       "      <td>1703.020020</td>\n",
       "      <td>2439.649902</td>\n",
       "      <td>2022.010010</td>\n",
       "      <td>2015.349976</td>\n",
       "      <td>2088.709961</td>\n",
       "      <td>2009.209961</td>\n",
       "      <td>2498.659912</td>\n",
       "      <td>2463.620117</td>\n",
       "      <td>1904.589966</td>\n",
       "    </tr>\n",
       "    <tr>\n",
       "      <th>4</th>\n",
       "      <td>776</td>\n",
       "      <td>-120.868954</td>\n",
       "      <td>47.787672</td>\n",
       "      <td>1099.699951</td>\n",
       "      <td>336.149994</td>\n",
       "      <td>1390.640015</td>\n",
       "      <td>1228.729980</td>\n",
       "      <td>845.900024</td>\n",
       "      <td>1152.069946</td>\n",
       "      <td>951.090027</td>\n",
       "      <td>...</td>\n",
       "      <td>849.609985</td>\n",
       "      <td>891.830017</td>\n",
       "      <td>1454.770020</td>\n",
       "      <td>1019.559998</td>\n",
       "      <td>1037.709961</td>\n",
       "      <td>1089.160034</td>\n",
       "      <td>1206.229980</td>\n",
       "      <td>1441.949951</td>\n",
       "      <td>1611.650024</td>\n",
       "      <td>992.859985</td>\n",
       "    </tr>\n",
       "  </tbody>\n",
       "</table>\n",
       "<p>5 rows × 36 columns</p>\n",
       "</div>"
      ],
      "text/plain": [
       "    UID   Longitude   Latitude         1981        1982         1983  \\\n",
       "0   222 -121.802218  47.860322  1690.469971  250.389999  1664.189941   \n",
       "1   540 -121.252570  47.715980  2157.649902  477.429993  2289.860107   \n",
       "2  2431 -118.301093  47.646535   337.529999   36.470001   501.670013   \n",
       "3   704 -121.000382  47.774584  1980.089966  483.109985  2204.989990   \n",
       "4   776 -120.868954  47.787672  1099.699951  336.149994  1390.640015   \n",
       "\n",
       "          1984         1985         1986         1987     ...       \\\n",
       "0  1833.619995  1204.719971  1657.739990  1117.500000     ...        \n",
       "1  2530.840088  1734.770020  2106.399902  1655.130005     ...        \n",
       "2   363.320007   228.970001   317.239990   319.609985     ...        \n",
       "3  2411.659912  1679.930054  1992.989990  1580.770020     ...        \n",
       "4  1228.729980   845.900024  1152.069946   951.090027     ...        \n",
       "\n",
       "          2004         2005         2006         2007         2008  \\\n",
       "0  1611.349976  1434.619995  1799.180054  1725.300049  1687.619995   \n",
       "1  1964.030029  1785.910034  2404.729980  2059.379883  2107.500000   \n",
       "2   306.170013   359.350006   424.649994   236.389999   248.000000   \n",
       "3  1923.250000  1703.020020  2439.649902  2022.010010  2015.349976   \n",
       "4   849.609985   891.830017  1454.770020  1019.559998  1037.709961   \n",
       "\n",
       "          2009         2010         2011         2012         2013  \n",
       "0  1554.349976  1633.670044  1840.020020  2006.119995  1656.489990  \n",
       "1  2045.839966  2090.399902  2544.739990  2465.479980  1968.800049  \n",
       "2   287.329987   481.829987   287.309998   469.309998   258.200012  \n",
       "3  2088.709961  2009.209961  2498.659912  2463.620117  1904.589966  \n",
       "4  1089.160034  1206.229980  1441.949951  1611.650024   992.859985  \n",
       "\n",
       "[5 rows x 36 columns]"
      ]
     },
     "execution_count": 8,
     "metadata": {},
     "output_type": "execute_result"
    }
   ],
   "source": [
    "Ppt.head()"
   ]
  },
  {
   "cell_type": "code",
   "execution_count": 12,
   "metadata": {
    "collapsed": true
   },
   "outputs": [],
   "source": [
    "minTemp.index = np.array(minTemp.UID)\n",
    "maxTemp.index = np.array(maxTemp.UID)\n",
    "Ppt.index = np.array(Ppt.UID)"
   ]
  },
  {
   "cell_type": "code",
   "execution_count": 9,
   "metadata": {
    "collapsed": false
   },
   "outputs": [
    {
     "name": "stdout",
     "output_type": "stream",
     "text": [
      "True\n",
      "True\n"
     ]
    }
   ],
   "source": [
    "segments = np.unique(np.array(Ppt.UID))\n",
    "msegs = np.tile(segments, 33)\n",
    "sorted_segments = np.sort(msegs)\n",
    "print len(sorted_segments) == len(segments) *33\n",
    "years = np.arange(33)+1981\n",
    "myears = np.tile(years, len(segments))\n",
    "print len(sorted_segments) == len(myears)"
   ]
  },
  {
   "cell_type": "code",
   "execution_count": 10,
   "metadata": {
    "collapsed": true
   },
   "outputs": [],
   "source": [
    "segDic = {'ID': sorted_segments, 'Year': myears}\n",
    "cumdf = pd.DataFrame(segDic)"
   ]
  },
  {
   "cell_type": "code",
   "execution_count": 11,
   "metadata": {
    "collapsed": false
   },
   "outputs": [
    {
     "name": "stdout",
     "output_type": "stream",
     "text": [
      "294954\n"
     ]
    }
   ],
   "source": [
    "print len(cumdf)"
   ]
  },
  {
   "cell_type": "code",
   "execution_count": 16,
   "metadata": {
    "collapsed": true
   },
   "outputs": [],
   "source": [
    "def createCumDF(cumdf, df): \n",
    "    tcumdf = cumdf.copy()\n",
    "    for x in segments:\n",
    "        for year in years:\n",
    "            tcumdf[tcumdf.ID == x].loc[:, str(year)] = df.loc[x, str(year)]\n",
    "    return tcumdf"
   ]
  },
  {
   "cell_type": "code",
   "execution_count": null,
   "metadata": {
    "collapsed": false
   },
   "outputs": [],
   "source": [
    "cumPpt = createCumDF(cumdf, Ppt)"
   ]
  },
  {
   "cell_type": "code",
   "execution_count": null,
   "metadata": {
    "collapsed": true
   },
   "outputs": [],
   "source": []
  },
  {
   "cell_type": "code",
   "execution_count": 10,
   "metadata": {
    "collapsed": true
   },
   "outputs": [],
   "source": [
    "df = pd.read_excel('../modelData/cdata_cim.xlsx')"
   ]
  },
  {
   "cell_type": "code",
   "execution_count": 11,
   "metadata": {
    "collapsed": false
   },
   "outputs": [
    {
     "data": {
      "text/plain": [
       "True"
      ]
     },
     "execution_count": 11,
     "metadata": {},
     "output_type": "execute_result"
    }
   ],
   "source": [
    "len(df[df.sYear < 2014]) == len(df)"
   ]
  },
  {
   "cell_type": "code",
   "execution_count": 12,
   "metadata": {
    "collapsed": false
   },
   "outputs": [],
   "source": [
    "def popPPT(row):\n",
    "    index = row['uid']\n",
    "    year  = row['sYear']\n",
    "    val   = str(year)\n",
    "    return Ppt.loc[index, val]\n",
    "df.loc[:, 'PPT'] = df.apply(popPPT, axis = 1)"
   ]
  },
  {
   "cell_type": "code",
   "execution_count": 13,
   "metadata": {
    "collapsed": false
   },
   "outputs": [],
   "source": [
    "def popMinT(row):\n",
    "    index = row['uid']\n",
    "    year  = row['sYear']\n",
    "    val   = str(year)\n",
    "    return minTemp.loc[index, val]\n",
    "df.loc[:, 'MinTemp'] = df.apply(popMinT, axis = 1)"
   ]
  },
  {
   "cell_type": "code",
   "execution_count": 14,
   "metadata": {
    "collapsed": true
   },
   "outputs": [],
   "source": [
    "def popMaxT(row):\n",
    "    index = row['uid']\n",
    "    year  = row['sYear']\n",
    "    val   = str(year)\n",
    "    return maxTemp.loc[index, val]\n",
    "df.loc[:, 'MaxTemp'] = df.apply(popMaxT, axis = 1)"
   ]
  },
  {
   "cell_type": "code",
   "execution_count": 15,
   "metadata": {
    "collapsed": false
   },
   "outputs": [
    {
     "data": {
      "text/html": [
       "<div style=\"max-height:1000px;max-width:1500px;overflow:auto;\">\n",
       "<table border=\"1\" class=\"dataframe\">\n",
       "  <thead>\n",
       "    <tr style=\"text-align: right;\">\n",
       "      <th></th>\n",
       "      <th>sYear</th>\n",
       "      <th>Rutting</th>\n",
       "      <th>IRI</th>\n",
       "      <th>PSC</th>\n",
       "      <th>IntID</th>\n",
       "      <th>SR</th>\n",
       "      <th>Begin ARM</th>\n",
       "      <th>End ARM</th>\n",
       "      <th>uid</th>\n",
       "      <th>ID_y</th>\n",
       "      <th>...</th>\n",
       "      <th>ESALs</th>\n",
       "      <th>Contract History ID</th>\n",
       "      <th>STcode</th>\n",
       "      <th>Latitude</th>\n",
       "      <th>Longitude</th>\n",
       "      <th>ICAO</th>\n",
       "      <th>FTCycles</th>\n",
       "      <th>PPT</th>\n",
       "      <th>MinTemp</th>\n",
       "      <th>MaxTemp</th>\n",
       "    </tr>\n",
       "  </thead>\n",
       "  <tbody>\n",
       "    <tr>\n",
       "      <th>0</th>\n",
       "      <td>1981</td>\n",
       "      <td>0.236</td>\n",
       "      <td>157.732</td>\n",
       "      <td>81</td>\n",
       "      <td>7</td>\n",
       "      <td>2</td>\n",
       "      <td>58.81</td>\n",
       "      <td>58.85</td>\n",
       "      <td>589</td>\n",
       "      <td>6d84b3f5-0725-4999-84e6-116b5c9b2e4e</td>\n",
       "      <td>...</td>\n",
       "      <td>33850.287773</td>\n",
       "      <td>6d84b3f5-0725-4999-84e6-116b5c9b2e4e</td>\n",
       "      <td>BA</td>\n",
       "      <td>47.712741</td>\n",
       "      <td>-121.148306</td>\n",
       "      <td>KESW</td>\n",
       "      <td>109</td>\n",
       "      <td>2167.459961</td>\n",
       "      <td>-4.35</td>\n",
       "      <td>25.139999</td>\n",
       "    </tr>\n",
       "    <tr>\n",
       "      <th>1</th>\n",
       "      <td>1981</td>\n",
       "      <td>0.236</td>\n",
       "      <td>156.465</td>\n",
       "      <td>52</td>\n",
       "      <td>28</td>\n",
       "      <td>2</td>\n",
       "      <td>29.40</td>\n",
       "      <td>29.45</td>\n",
       "      <td>295</td>\n",
       "      <td>96f2f5bb-a993-44d8-b9fc-e98ed55b333d</td>\n",
       "      <td>...</td>\n",
       "      <td>59474.398810</td>\n",
       "      <td>96f2f5bb-a993-44d8-b9fc-e98ed55b333d</td>\n",
       "      <td>Other</td>\n",
       "      <td>47.840245</td>\n",
       "      <td>-121.665412</td>\n",
       "      <td>KAWO</td>\n",
       "      <td>0</td>\n",
       "      <td>2071.070068</td>\n",
       "      <td>0.51</td>\n",
       "      <td>25.990000</td>\n",
       "    </tr>\n",
       "    <tr>\n",
       "      <th>2</th>\n",
       "      <td>1981</td>\n",
       "      <td>0.236</td>\n",
       "      <td>139.362</td>\n",
       "      <td>75</td>\n",
       "      <td>64</td>\n",
       "      <td>2</td>\n",
       "      <td>58.27</td>\n",
       "      <td>58.31</td>\n",
       "      <td>584</td>\n",
       "      <td>362e294a-0a07-43e7-b3f3-bfba58443fad</td>\n",
       "      <td>...</td>\n",
       "      <td>35074.861747</td>\n",
       "      <td>362e294a-0a07-43e7-b3f3-bfba58443fad</td>\n",
       "      <td>BA</td>\n",
       "      <td>47.712741</td>\n",
       "      <td>-121.148306</td>\n",
       "      <td>KESW</td>\n",
       "      <td>109</td>\n",
       "      <td>2167.459961</td>\n",
       "      <td>-4.35</td>\n",
       "      <td>25.139999</td>\n",
       "    </tr>\n",
       "    <tr>\n",
       "      <th>3</th>\n",
       "      <td>1981</td>\n",
       "      <td>NaN</td>\n",
       "      <td>126.059</td>\n",
       "      <td>0</td>\n",
       "      <td>473</td>\n",
       "      <td>2</td>\n",
       "      <td>312.24</td>\n",
       "      <td>312.34</td>\n",
       "      <td>3124</td>\n",
       "      <td>276269f6-c706-44fe-becb-1e2caf22cdae</td>\n",
       "      <td>...</td>\n",
       "      <td>69707.873892</td>\n",
       "      <td>276269f6-c706-44fe-becb-1e2caf22cdae</td>\n",
       "      <td>Other</td>\n",
       "      <td>48.011505</td>\n",
       "      <td>-117.349583</td>\n",
       "      <td>KSFF</td>\n",
       "      <td>20</td>\n",
       "      <td>557.729980</td>\n",
       "      <td>-4.84</td>\n",
       "      <td>31.610001</td>\n",
       "    </tr>\n",
       "    <tr>\n",
       "      <th>4</th>\n",
       "      <td>1981</td>\n",
       "      <td>0.236</td>\n",
       "      <td>102.621</td>\n",
       "      <td>75</td>\n",
       "      <td>514</td>\n",
       "      <td>2</td>\n",
       "      <td>129.28</td>\n",
       "      <td>129.38</td>\n",
       "      <td>1293</td>\n",
       "      <td>171a9c25-bffa-4ab9-ab96-85fdb6fc8b4a</td>\n",
       "      <td>...</td>\n",
       "      <td>116417.204918</td>\n",
       "      <td>171a9c25-bffa-4ab9-ab96-85fdb6fc8b4a</td>\n",
       "      <td>Other</td>\n",
       "      <td>47.498492</td>\n",
       "      <td>-120.297298</td>\n",
       "      <td>KEAT</td>\n",
       "      <td>24</td>\n",
       "      <td>292.450012</td>\n",
       "      <td>-4.83</td>\n",
       "      <td>32.799999</td>\n",
       "    </tr>\n",
       "  </tbody>\n",
       "</table>\n",
       "<p>5 rows × 43 columns</p>\n",
       "</div>"
      ],
      "text/plain": [
       "   sYear  Rutting      IRI  PSC  IntID  SR  Begin ARM  End ARM   uid  \\\n",
       "0   1981    0.236  157.732   81      7   2      58.81    58.85   589   \n",
       "1   1981    0.236  156.465   52     28   2      29.40    29.45   295   \n",
       "2   1981    0.236  139.362   75     64   2      58.27    58.31   584   \n",
       "3   1981      NaN  126.059    0    473   2     312.24   312.34  3124   \n",
       "4   1981    0.236  102.621   75    514   2     129.28   129.38  1293   \n",
       "\n",
       "                                   ID_y    ...              ESALs  \\\n",
       "0  6d84b3f5-0725-4999-84e6-116b5c9b2e4e    ...       33850.287773   \n",
       "1  96f2f5bb-a993-44d8-b9fc-e98ed55b333d    ...       59474.398810   \n",
       "2  362e294a-0a07-43e7-b3f3-bfba58443fad    ...       35074.861747   \n",
       "3  276269f6-c706-44fe-becb-1e2caf22cdae    ...       69707.873892   \n",
       "4  171a9c25-bffa-4ab9-ab96-85fdb6fc8b4a    ...      116417.204918   \n",
       "\n",
       "                    Contract History ID  STcode   Latitude   Longitude  ICAO  \\\n",
       "0  6d84b3f5-0725-4999-84e6-116b5c9b2e4e      BA  47.712741 -121.148306  KESW   \n",
       "1  96f2f5bb-a993-44d8-b9fc-e98ed55b333d   Other  47.840245 -121.665412  KAWO   \n",
       "2  362e294a-0a07-43e7-b3f3-bfba58443fad      BA  47.712741 -121.148306  KESW   \n",
       "3  276269f6-c706-44fe-becb-1e2caf22cdae   Other  48.011505 -117.349583  KSFF   \n",
       "4  171a9c25-bffa-4ab9-ab96-85fdb6fc8b4a   Other  47.498492 -120.297298  KEAT   \n",
       "\n",
       "  FTCycles          PPT MinTemp    MaxTemp  \n",
       "0      109  2167.459961   -4.35  25.139999  \n",
       "1        0  2071.070068    0.51  25.990000  \n",
       "2      109  2167.459961   -4.35  25.139999  \n",
       "3       20   557.729980   -4.84  31.610001  \n",
       "4       24   292.450012   -4.83  32.799999  \n",
       "\n",
       "[5 rows x 43 columns]"
      ]
     },
     "execution_count": 15,
     "metadata": {},
     "output_type": "execute_result"
    }
   ],
   "source": [
    "df.head()"
   ]
  },
  {
   "cell_type": "code",
   "execution_count": 16,
   "metadata": {
    "collapsed": true
   },
   "outputs": [],
   "source": [
    "df.to_excel('../modelData/CIMdataset2.xlsx')"
   ]
  },
  {
   "cell_type": "code",
   "execution_count": null,
   "metadata": {
    "collapsed": true
   },
   "outputs": [],
   "source": []
  }
 ],
 "metadata": {
  "kernelspec": {
   "display_name": "Python 2",
   "language": "python",
   "name": "python2"
  },
  "language_info": {
   "codemirror_mode": {
    "name": "ipython",
    "version": 2
   },
   "file_extension": ".py",
   "mimetype": "text/x-python",
   "name": "python",
   "nbconvert_exporter": "python",
   "pygments_lexer": "ipython2",
   "version": "2.7.9"
  }
 },
 "nbformat": 4,
 "nbformat_minor": 0
}
