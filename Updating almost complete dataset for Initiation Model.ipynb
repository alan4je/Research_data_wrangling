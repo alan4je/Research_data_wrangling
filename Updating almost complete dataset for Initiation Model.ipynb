{
 "cells": [
  {
   "cell_type": "code",
   "execution_count": 2,
   "metadata": {
    "collapsed": true
   },
   "outputs": [],
   "source": [
    "import pandas as pd\n",
    "import numpy as np\n",
    "import xlsxwriter"
   ]
  },
  {
   "cell_type": "code",
   "execution_count": 3,
   "metadata": {
    "collapsed": true
   },
   "outputs": [],
   "source": [
    "ds = pd.read_excel('../modelData/almostCompleteData.xlsx')"
   ]
  },
  {
   "cell_type": "code",
   "execution_count": 11,
   "metadata": {
    "collapsed": true
   },
   "outputs": [],
   "source": [
    "#importing segment coordinate linker\n",
    "ld = pd.read_csv('../modelData/selectCIMpoints.csv')"
   ]
  },
  {
   "cell_type": "code",
   "execution_count": 12,
   "metadata": {
    "collapsed": false
   },
   "outputs": [
    {
     "data": {
      "text/html": [
       "<div style=\"max-height:1000px;max-width:1500px;overflow:auto;\">\n",
       "<table border=\"1\" class=\"dataframe\">\n",
       "  <thead>\n",
       "    <tr style=\"text-align: right;\">\n",
       "      <th></th>\n",
       "      <th>InputID</th>\n",
       "      <th>TargetID</th>\n",
       "      <th>Distance</th>\n",
       "    </tr>\n",
       "  </thead>\n",
       "  <tbody>\n",
       "    <tr>\n",
       "      <th>0</th>\n",
       "      <td>589</td>\n",
       "      <td>KESW</td>\n",
       "      <td>0.459890</td>\n",
       "    </tr>\n",
       "    <tr>\n",
       "      <th>1</th>\n",
       "      <td>295</td>\n",
       "      <td>KAWO</td>\n",
       "      <td>0.591650</td>\n",
       "    </tr>\n",
       "    <tr>\n",
       "      <th>2</th>\n",
       "      <td>584</td>\n",
       "      <td>KESW</td>\n",
       "      <td>0.459890</td>\n",
       "    </tr>\n",
       "    <tr>\n",
       "      <th>3</th>\n",
       "      <td>3124</td>\n",
       "      <td>KSFF</td>\n",
       "      <td>0.330645</td>\n",
       "    </tr>\n",
       "    <tr>\n",
       "      <th>4</th>\n",
       "      <td>1293</td>\n",
       "      <td>KEAT</td>\n",
       "      <td>0.134871</td>\n",
       "    </tr>\n",
       "  </tbody>\n",
       "</table>\n",
       "</div>"
      ],
      "text/plain": [
       "   InputID TargetID  Distance\n",
       "0      589     KESW  0.459890\n",
       "1      295     KAWO  0.591650\n",
       "2      584     KESW  0.459890\n",
       "3     3124     KSFF  0.330645\n",
       "4     1293     KEAT  0.134871"
      ]
     },
     "execution_count": 12,
     "metadata": {},
     "output_type": "execute_result"
    }
   ],
   "source": [
    "ld.head()"
   ]
  },
  {
   "cell_type": "code",
   "execution_count": 13,
   "metadata": {
    "collapsed": true
   },
   "outputs": [],
   "source": [
    "ld.index = np.array(ld.InputID)"
   ]
  },
  {
   "cell_type": "code",
   "execution_count": 14,
   "metadata": {
    "collapsed": true
   },
   "outputs": [],
   "source": [
    "def getCode(row):\n",
    "    index = row['uid']\n",
    "    return ld.loc[index,'TargetID']"
   ]
  },
  {
   "cell_type": "code",
   "execution_count": 15,
   "metadata": {
    "collapsed": false
   },
   "outputs": [],
   "source": [
    "sds = ds[~np.isnan(ds.Latitude)]"
   ]
  },
  {
   "cell_type": "code",
   "execution_count": 16,
   "metadata": {
    "collapsed": false
   },
   "outputs": [
    {
     "name": "stdout",
     "output_type": "stream",
     "text": [
      "6783 7742\n"
     ]
    }
   ],
   "source": [
    "print len(sds), len(ds)"
   ]
  },
  {
   "cell_type": "code",
   "execution_count": 17,
   "metadata": {
    "collapsed": false
   },
   "outputs": [
    {
     "name": "stderr",
     "output_type": "stream",
     "text": [
      "/Users/Alan/Library/Enthought/Canopy_64bit/User/lib/python2.7/site-packages/pandas/core/indexing.py:243: SettingWithCopyWarning: \n",
      "A value is trying to be set on a copy of a slice from a DataFrame.\n",
      "Try using .loc[row_indexer,col_indexer] = value instead\n",
      "\n",
      "See the the caveats in the documentation: http://pandas.pydata.org/pandas-docs/stable/indexing.html#indexing-view-versus-copy\n",
      "  self.obj[key] = _infer_fill_value(value)\n",
      "/Users/Alan/Library/Enthought/Canopy_64bit/User/lib/python2.7/site-packages/pandas/core/indexing.py:407: SettingWithCopyWarning: \n",
      "A value is trying to be set on a copy of a slice from a DataFrame.\n",
      "Try using .loc[row_indexer,col_indexer] = value instead\n",
      "\n",
      "See the the caveats in the documentation: http://pandas.pydata.org/pandas-docs/stable/indexing.html#indexing-view-versus-copy\n",
      "  self.obj[item] = s\n"
     ]
    }
   ],
   "source": [
    "sds.loc[:, 'ICAO'] =sds.apply(getCode, axis = 1)"
   ]
  },
  {
   "cell_type": "code",
   "execution_count": 18,
   "metadata": {
    "collapsed": false
   },
   "outputs": [
    {
     "data": {
      "text/html": [
       "<div style=\"max-height:1000px;max-width:1500px;overflow:auto;\">\n",
       "<table border=\"1\" class=\"dataframe\">\n",
       "  <thead>\n",
       "    <tr style=\"text-align: right;\">\n",
       "      <th></th>\n",
       "      <th>sYear</th>\n",
       "      <th>Rutting</th>\n",
       "      <th>IRI</th>\n",
       "      <th>PSC</th>\n",
       "      <th>IntID</th>\n",
       "      <th>SR</th>\n",
       "      <th>Begin ARM</th>\n",
       "      <th>End ARM</th>\n",
       "      <th>uid</th>\n",
       "      <th>ID_y</th>\n",
       "      <th>...</th>\n",
       "      <th>Major Rehab Type</th>\n",
       "      <th>Prior Major Rehab Year</th>\n",
       "      <th>Prior Major Rehab Type</th>\n",
       "      <th>Traffic Year</th>\n",
       "      <th>ESALs</th>\n",
       "      <th>Contract History ID</th>\n",
       "      <th>STcode</th>\n",
       "      <th>Latitude</th>\n",
       "      <th>Longitude</th>\n",
       "      <th>ICAO</th>\n",
       "    </tr>\n",
       "  </thead>\n",
       "  <tbody>\n",
       "    <tr>\n",
       "      <th>0</th>\n",
       "      <td>1981</td>\n",
       "      <td>0.236</td>\n",
       "      <td>157.732</td>\n",
       "      <td>81</td>\n",
       "      <td>7</td>\n",
       "      <td>2</td>\n",
       "      <td>58.81</td>\n",
       "      <td>58.85</td>\n",
       "      <td>589</td>\n",
       "      <td>6d84b3f5-0725-4999-84e6-116b5c9b2e4e</td>\n",
       "      <td>...</td>\n",
       "      <td>ACP</td>\n",
       "      <td>1999</td>\n",
       "      <td>ACP</td>\n",
       "      <td>2013</td>\n",
       "      <td>33850.287773</td>\n",
       "      <td>6d84b3f5-0725-4999-84e6-116b5c9b2e4e</td>\n",
       "      <td>BA</td>\n",
       "      <td>47.712741</td>\n",
       "      <td>-121.148306</td>\n",
       "      <td>KESW</td>\n",
       "    </tr>\n",
       "    <tr>\n",
       "      <th>1</th>\n",
       "      <td>1981</td>\n",
       "      <td>0.236</td>\n",
       "      <td>156.465</td>\n",
       "      <td>52</td>\n",
       "      <td>28</td>\n",
       "      <td>2</td>\n",
       "      <td>29.40</td>\n",
       "      <td>29.45</td>\n",
       "      <td>295</td>\n",
       "      <td>96f2f5bb-a993-44d8-b9fc-e98ed55b333d</td>\n",
       "      <td>...</td>\n",
       "      <td>ACP</td>\n",
       "      <td>2002</td>\n",
       "      <td>ACP</td>\n",
       "      <td>2013</td>\n",
       "      <td>59474.398810</td>\n",
       "      <td>96f2f5bb-a993-44d8-b9fc-e98ed55b333d</td>\n",
       "      <td>Other</td>\n",
       "      <td>47.840245</td>\n",
       "      <td>-121.665412</td>\n",
       "      <td>KAWO</td>\n",
       "    </tr>\n",
       "    <tr>\n",
       "      <th>2</th>\n",
       "      <td>1981</td>\n",
       "      <td>0.236</td>\n",
       "      <td>139.362</td>\n",
       "      <td>75</td>\n",
       "      <td>64</td>\n",
       "      <td>2</td>\n",
       "      <td>58.27</td>\n",
       "      <td>58.31</td>\n",
       "      <td>584</td>\n",
       "      <td>362e294a-0a07-43e7-b3f3-bfba58443fad</td>\n",
       "      <td>...</td>\n",
       "      <td>ACP</td>\n",
       "      <td>1999</td>\n",
       "      <td>ACP</td>\n",
       "      <td>2013</td>\n",
       "      <td>35074.861747</td>\n",
       "      <td>362e294a-0a07-43e7-b3f3-bfba58443fad</td>\n",
       "      <td>BA</td>\n",
       "      <td>47.712741</td>\n",
       "      <td>-121.148306</td>\n",
       "      <td>KESW</td>\n",
       "    </tr>\n",
       "    <tr>\n",
       "      <th>3</th>\n",
       "      <td>1981</td>\n",
       "      <td>NaN</td>\n",
       "      <td>126.059</td>\n",
       "      <td>0</td>\n",
       "      <td>473</td>\n",
       "      <td>2</td>\n",
       "      <td>312.24</td>\n",
       "      <td>312.34</td>\n",
       "      <td>3124</td>\n",
       "      <td>276269f6-c706-44fe-becb-1e2caf22cdae</td>\n",
       "      <td>...</td>\n",
       "      <td>BST</td>\n",
       "      <td>1999</td>\n",
       "      <td>ACP</td>\n",
       "      <td>2013</td>\n",
       "      <td>69707.873892</td>\n",
       "      <td>276269f6-c706-44fe-becb-1e2caf22cdae</td>\n",
       "      <td>Other</td>\n",
       "      <td>48.011505</td>\n",
       "      <td>-117.349583</td>\n",
       "      <td>KSFF</td>\n",
       "    </tr>\n",
       "    <tr>\n",
       "      <th>4</th>\n",
       "      <td>1981</td>\n",
       "      <td>0.236</td>\n",
       "      <td>102.621</td>\n",
       "      <td>75</td>\n",
       "      <td>514</td>\n",
       "      <td>2</td>\n",
       "      <td>129.28</td>\n",
       "      <td>129.38</td>\n",
       "      <td>1293</td>\n",
       "      <td>171a9c25-bffa-4ab9-ab96-85fdb6fc8b4a</td>\n",
       "      <td>...</td>\n",
       "      <td>ACP</td>\n",
       "      <td>2000</td>\n",
       "      <td>ACP</td>\n",
       "      <td>2013</td>\n",
       "      <td>116417.204918</td>\n",
       "      <td>171a9c25-bffa-4ab9-ab96-85fdb6fc8b4a</td>\n",
       "      <td>Other</td>\n",
       "      <td>47.498492</td>\n",
       "      <td>-120.297298</td>\n",
       "      <td>KEAT</td>\n",
       "    </tr>\n",
       "  </tbody>\n",
       "</table>\n",
       "<p>5 rows × 39 columns</p>\n",
       "</div>"
      ],
      "text/plain": [
       "   sYear  Rutting      IRI  PSC  IntID  SR  Begin ARM  End ARM   uid  \\\n",
       "0   1981    0.236  157.732   81      7   2      58.81    58.85   589   \n",
       "1   1981    0.236  156.465   52     28   2      29.40    29.45   295   \n",
       "2   1981    0.236  139.362   75     64   2      58.27    58.31   584   \n",
       "3   1981      NaN  126.059    0    473   2     312.24   312.34  3124   \n",
       "4   1981    0.236  102.621   75    514   2     129.28   129.38  1293   \n",
       "\n",
       "                                   ID_y  ...   Major Rehab Type  \\\n",
       "0  6d84b3f5-0725-4999-84e6-116b5c9b2e4e  ...                ACP   \n",
       "1  96f2f5bb-a993-44d8-b9fc-e98ed55b333d  ...                ACP   \n",
       "2  362e294a-0a07-43e7-b3f3-bfba58443fad  ...                ACP   \n",
       "3  276269f6-c706-44fe-becb-1e2caf22cdae  ...                BST   \n",
       "4  171a9c25-bffa-4ab9-ab96-85fdb6fc8b4a  ...                ACP   \n",
       "\n",
       "  Prior Major Rehab Year  Prior Major Rehab Type Traffic Year          ESALs  \\\n",
       "0                   1999                     ACP         2013   33850.287773   \n",
       "1                   2002                     ACP         2013   59474.398810   \n",
       "2                   1999                     ACP         2013   35074.861747   \n",
       "3                   1999                     ACP         2013   69707.873892   \n",
       "4                   2000                     ACP         2013  116417.204918   \n",
       "\n",
       "                    Contract History ID STcode   Latitude   Longitude  ICAO  \n",
       "0  6d84b3f5-0725-4999-84e6-116b5c9b2e4e     BA  47.712741 -121.148306  KESW  \n",
       "1  96f2f5bb-a993-44d8-b9fc-e98ed55b333d  Other  47.840245 -121.665412  KAWO  \n",
       "2  362e294a-0a07-43e7-b3f3-bfba58443fad     BA  47.712741 -121.148306  KESW  \n",
       "3  276269f6-c706-44fe-becb-1e2caf22cdae  Other  48.011505 -117.349583  KSFF  \n",
       "4  171a9c25-bffa-4ab9-ab96-85fdb6fc8b4a  Other  47.498492 -120.297298  KEAT  \n",
       "\n",
       "[5 rows x 39 columns]"
      ]
     },
     "execution_count": 18,
     "metadata": {},
     "output_type": "execute_result"
    }
   ],
   "source": [
    "sds.head()"
   ]
  },
  {
   "cell_type": "code",
   "execution_count": 19,
   "metadata": {
    "collapsed": true
   },
   "outputs": [],
   "source": [
    "def getFTCycles(row):\n",
    "    ind = row['ICAO']\n",
    "    year  = row['sYear']\n",
    "    ftc   = list(wdt[((wdt.loc[:,'Airport']== ind) & (wdt.loc[:,'Year'] == year))].loc[:,'FTCycles'])[0]\n",
    "    return ftc"
   ]
  },
  {
   "cell_type": "code",
   "execution_count": 20,
   "metadata": {
    "collapsed": true
   },
   "outputs": [],
   "source": [
    "wds = pd.read_excel('../DataFiles/AnnualWeatherR.xlsx')\n",
    "wds2 = pd.read_excel('../DataFiles/AnnualWeatherR2.xlsx')"
   ]
  },
  {
   "cell_type": "code",
   "execution_count": 21,
   "metadata": {
    "collapsed": true
   },
   "outputs": [],
   "source": [
    "wd = wds[['Year', 'FTCycles', 'Airport']]"
   ]
  },
  {
   "cell_type": "code",
   "execution_count": 22,
   "metadata": {
    "collapsed": true
   },
   "outputs": [],
   "source": [
    "wdt = pd.concat([wd, wds2], axis = 0)"
   ]
  },
  {
   "cell_type": "code",
   "execution_count": 23,
   "metadata": {
    "collapsed": false
   },
   "outputs": [
    {
     "data": {
      "text/html": [
       "<div style=\"max-height:1000px;max-width:1500px;overflow:auto;\">\n",
       "<table border=\"1\" class=\"dataframe\">\n",
       "  <thead>\n",
       "    <tr style=\"text-align: right;\">\n",
       "      <th></th>\n",
       "      <th>Year</th>\n",
       "      <th>FTCycles</th>\n",
       "      <th>Airport</th>\n",
       "    </tr>\n",
       "  </thead>\n",
       "  <tbody>\n",
       "    <tr>\n",
       "      <th>0</th>\n",
       "      <td>1986</td>\n",
       "      <td>4</td>\n",
       "      <td>KBFI</td>\n",
       "    </tr>\n",
       "    <tr>\n",
       "      <th>1</th>\n",
       "      <td>1987</td>\n",
       "      <td>5</td>\n",
       "      <td>KBFI</td>\n",
       "    </tr>\n",
       "    <tr>\n",
       "      <th>2</th>\n",
       "      <td>1984</td>\n",
       "      <td>9</td>\n",
       "      <td>KBFI</td>\n",
       "    </tr>\n",
       "    <tr>\n",
       "      <th>3</th>\n",
       "      <td>1985</td>\n",
       "      <td>16</td>\n",
       "      <td>KBFI</td>\n",
       "    </tr>\n",
       "    <tr>\n",
       "      <th>4</th>\n",
       "      <td>1982</td>\n",
       "      <td>8</td>\n",
       "      <td>KBFI</td>\n",
       "    </tr>\n",
       "  </tbody>\n",
       "</table>\n",
       "</div>"
      ],
      "text/plain": [
       "   Year  FTCycles Airport\n",
       "0  1986         4    KBFI\n",
       "1  1987         5    KBFI\n",
       "2  1984         9    KBFI\n",
       "3  1985        16    KBFI\n",
       "4  1982         8    KBFI"
      ]
     },
     "execution_count": 23,
     "metadata": {},
     "output_type": "execute_result"
    }
   ],
   "source": [
    "wdt.head()"
   ]
  },
  {
   "cell_type": "code",
   "execution_count": 24,
   "metadata": {
    "collapsed": false
   },
   "outputs": [],
   "source": [
    "sds.loc[:,'FTCycles'] = sds.apply(getFTCycles, axis = 1)"
   ]
  },
  {
   "cell_type": "code",
   "execution_count": 25,
   "metadata": {
    "collapsed": false
   },
   "outputs": [],
   "source": [
    "# sds.tail()"
   ]
  },
  {
   "cell_type": "code",
   "execution_count": 26,
   "metadata": {
    "collapsed": true
   },
   "outputs": [],
   "source": [
    "sds.to_excel('../modelData/cdata_cim.xlsx')"
   ]
  },
  {
   "cell_type": "code",
   "execution_count": null,
   "metadata": {
    "collapsed": true
   },
   "outputs": [],
   "source": []
  }
 ],
 "metadata": {
  "kernelspec": {
   "display_name": "Python 2",
   "language": "python",
   "name": "python2"
  },
  "language_info": {
   "codemirror_mode": {
    "name": "ipython",
    "version": 2
   },
   "file_extension": ".py",
   "mimetype": "text/x-python",
   "name": "python",
   "nbconvert_exporter": "python",
   "pygments_lexer": "ipython2",
   "version": "2.7.9"
  }
 },
 "nbformat": 4,
 "nbformat_minor": 0
}
