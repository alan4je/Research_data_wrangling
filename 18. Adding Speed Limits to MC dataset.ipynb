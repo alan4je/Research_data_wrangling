{
 "cells": [
  {
   "cell_type": "code",
   "execution_count": 1,
   "metadata": {
    "collapsed": true
   },
   "outputs": [],
   "source": [
    "import pandas as pd\n",
    "import numpy as np\n",
    "import xlsxwriter"
   ]
  },
  {
   "cell_type": "code",
   "execution_count": 3,
   "metadata": {
    "collapsed": false
   },
   "outputs": [],
   "source": [
    "df1 = pd.read_excel('../DataFiles/Preservation Units.xlsx')"
   ]
  },
  {
   "cell_type": "code",
   "execution_count": 4,
   "metadata": {
    "collapsed": false
   },
   "outputs": [
    {
     "data": {
      "text/html": [
       "<div>\n",
       "<table border=\"1\" class=\"dataframe\">\n",
       "  <thead>\n",
       "    <tr style=\"text-align: right;\">\n",
       "      <th></th>\n",
       "      <th>SR</th>\n",
       "      <th>RRT</th>\n",
       "      <th>RRQ</th>\n",
       "      <th>Begin ARM</th>\n",
       "      <th>End ARM</th>\n",
       "      <th>Begin SRMP</th>\n",
       "      <th>End SRMP</th>\n",
       "      <th>Direction To Inventory</th>\n",
       "      <th>Region</th>\n",
       "      <th>Surface Type</th>\n",
       "      <th>...</th>\n",
       "      <th>Due Year Trigger</th>\n",
       "      <th>Percent Far Past Due</th>\n",
       "      <th>Percent Past Due</th>\n",
       "      <th>Percent Due</th>\n",
       "      <th>Percent Near Future Due</th>\n",
       "      <th>Percent Future Due</th>\n",
       "      <th>AADT</th>\n",
       "      <th>Avg Construction Date</th>\n",
       "      <th>Avg Major Rehab Date</th>\n",
       "      <th>Speed Limit</th>\n",
       "    </tr>\n",
       "  </thead>\n",
       "  <tbody>\n",
       "    <tr>\n",
       "      <th>0</th>\n",
       "      <td>2</td>\n",
       "      <td>NaN</td>\n",
       "      <td>NaN</td>\n",
       "      <td>3.96</td>\n",
       "      <td>4.50</td>\n",
       "      <td>3.83</td>\n",
       "      <td>4.37</td>\n",
       "      <td>B</td>\n",
       "      <td>Northwest</td>\n",
       "      <td>ACP</td>\n",
       "      <td>...</td>\n",
       "      <td>PSC</td>\n",
       "      <td>0</td>\n",
       "      <td>7.41</td>\n",
       "      <td>92.59</td>\n",
       "      <td>0.00</td>\n",
       "      <td>0.00</td>\n",
       "      <td>31462</td>\n",
       "      <td>1983-10-01</td>\n",
       "      <td>1998-06-08</td>\n",
       "      <td>60</td>\n",
       "    </tr>\n",
       "    <tr>\n",
       "      <th>1</th>\n",
       "      <td>2</td>\n",
       "      <td>NaN</td>\n",
       "      <td>NaN</td>\n",
       "      <td>4.53</td>\n",
       "      <td>4.80</td>\n",
       "      <td>4.40</td>\n",
       "      <td>4.67</td>\n",
       "      <td>B</td>\n",
       "      <td>Northwest</td>\n",
       "      <td>ACP</td>\n",
       "      <td>...</td>\n",
       "      <td>PSC</td>\n",
       "      <td>0</td>\n",
       "      <td>37.04</td>\n",
       "      <td>62.96</td>\n",
       "      <td>0.00</td>\n",
       "      <td>0.00</td>\n",
       "      <td>23939</td>\n",
       "      <td>1983-10-01</td>\n",
       "      <td>1998-06-08</td>\n",
       "      <td>60</td>\n",
       "    </tr>\n",
       "    <tr>\n",
       "      <th>2</th>\n",
       "      <td>2</td>\n",
       "      <td>NaN</td>\n",
       "      <td>NaN</td>\n",
       "      <td>5.15</td>\n",
       "      <td>8.65</td>\n",
       "      <td>5.02</td>\n",
       "      <td>8.52</td>\n",
       "      <td>B</td>\n",
       "      <td>Northwest</td>\n",
       "      <td>ACP</td>\n",
       "      <td>...</td>\n",
       "      <td>PSC</td>\n",
       "      <td>0</td>\n",
       "      <td>0.00</td>\n",
       "      <td>93.61</td>\n",
       "      <td>6.39</td>\n",
       "      <td>0.00</td>\n",
       "      <td>20098</td>\n",
       "      <td>1983-08-24</td>\n",
       "      <td>1998-06-08</td>\n",
       "      <td>60</td>\n",
       "    </tr>\n",
       "    <tr>\n",
       "      <th>3</th>\n",
       "      <td>2</td>\n",
       "      <td>NaN</td>\n",
       "      <td>NaN</td>\n",
       "      <td>8.65</td>\n",
       "      <td>8.93</td>\n",
       "      <td>8.52</td>\n",
       "      <td>8.80</td>\n",
       "      <td>B</td>\n",
       "      <td>Northwest</td>\n",
       "      <td>ACP</td>\n",
       "      <td>...</td>\n",
       "      <td>PSC</td>\n",
       "      <td>0</td>\n",
       "      <td>0.00</td>\n",
       "      <td>100.00</td>\n",
       "      <td>0.00</td>\n",
       "      <td>0.00</td>\n",
       "      <td>17598</td>\n",
       "      <td>1983-10-01</td>\n",
       "      <td>1998-06-08</td>\n",
       "      <td>60</td>\n",
       "    </tr>\n",
       "    <tr>\n",
       "      <th>4</th>\n",
       "      <td>2</td>\n",
       "      <td>NaN</td>\n",
       "      <td>NaN</td>\n",
       "      <td>8.93</td>\n",
       "      <td>10.33</td>\n",
       "      <td>8.80</td>\n",
       "      <td>10.25</td>\n",
       "      <td>B</td>\n",
       "      <td>Northwest</td>\n",
       "      <td>ACP</td>\n",
       "      <td>...</td>\n",
       "      <td>PRC</td>\n",
       "      <td>0</td>\n",
       "      <td>35.71</td>\n",
       "      <td>35.71</td>\n",
       "      <td>21.43</td>\n",
       "      <td>7.14</td>\n",
       "      <td>25316</td>\n",
       "      <td>1960-07-05</td>\n",
       "      <td>1998-06-08</td>\n",
       "      <td>60</td>\n",
       "    </tr>\n",
       "  </tbody>\n",
       "</table>\n",
       "<p>5 rows × 26 columns</p>\n",
       "</div>"
      ],
      "text/plain": [
       "   SR  RRT  RRQ  Begin ARM  End ARM Begin SRMP End SRMP  \\\n",
       "0   2  NaN  NaN       3.96     4.50       3.83     4.37   \n",
       "1   2  NaN  NaN       4.53     4.80       4.40     4.67   \n",
       "2   2  NaN  NaN       5.15     8.65       5.02     8.52   \n",
       "3   2  NaN  NaN       8.65     8.93       8.52     8.80   \n",
       "4   2  NaN  NaN       8.93    10.33       8.80    10.25   \n",
       "\n",
       "  Direction To Inventory     Region Surface Type     ...       \\\n",
       "0                      B  Northwest          ACP     ...        \n",
       "1                      B  Northwest          ACP     ...        \n",
       "2                      B  Northwest          ACP     ...        \n",
       "3                      B  Northwest          ACP     ...        \n",
       "4                      B  Northwest          ACP     ...        \n",
       "\n",
       "   Due Year Trigger  Percent Far Past Due Percent Past Due Percent Due  \\\n",
       "0               PSC                     0             7.41       92.59   \n",
       "1               PSC                     0            37.04       62.96   \n",
       "2               PSC                     0             0.00       93.61   \n",
       "3               PSC                     0             0.00      100.00   \n",
       "4               PRC                     0            35.71       35.71   \n",
       "\n",
       "  Percent Near Future Due  Percent Future Due   AADT  Avg Construction Date  \\\n",
       "0                    0.00                0.00  31462             1983-10-01   \n",
       "1                    0.00                0.00  23939             1983-10-01   \n",
       "2                    6.39                0.00  20098             1983-08-24   \n",
       "3                    0.00                0.00  17598             1983-10-01   \n",
       "4                   21.43                7.14  25316             1960-07-05   \n",
       "\n",
       "   Avg Major Rehab Date  Speed Limit  \n",
       "0            1998-06-08           60  \n",
       "1            1998-06-08           60  \n",
       "2            1998-06-08           60  \n",
       "3            1998-06-08           60  \n",
       "4            1998-06-08           60  \n",
       "\n",
       "[5 rows x 26 columns]"
      ]
     },
     "execution_count": 4,
     "metadata": {},
     "output_type": "execute_result"
    }
   ],
   "source": [
    "df1.head()"
   ]
  },
  {
   "cell_type": "code",
   "execution_count": 6,
   "metadata": {
    "collapsed": false
   },
   "outputs": [],
   "source": [
    "df2 = pd.read_csv('../tables/Preservation Units.txt', header = None)"
   ]
  },
  {
   "cell_type": "code",
   "execution_count": 8,
   "metadata": {
    "collapsed": false
   },
   "outputs": [
    {
     "data": {
      "text/plain": [
       "True"
      ]
     },
     "execution_count": 8,
     "metadata": {},
     "output_type": "execute_result"
    }
   ],
   "source": [
    "len(df1) == len(df2)"
   ]
  },
  {
   "cell_type": "code",
   "execution_count": 9,
   "metadata": {
    "collapsed": false
   },
   "outputs": [],
   "source": [
    "df2.columns = df1.columns"
   ]
  },
  {
   "cell_type": "code",
   "execution_count": 10,
   "metadata": {
    "collapsed": false
   },
   "outputs": [
    {
     "data": {
      "text/html": [
       "<div>\n",
       "<table border=\"1\" class=\"dataframe\">\n",
       "  <thead>\n",
       "    <tr style=\"text-align: right;\">\n",
       "      <th></th>\n",
       "      <th>SR</th>\n",
       "      <th>RRT</th>\n",
       "      <th>RRQ</th>\n",
       "      <th>Begin ARM</th>\n",
       "      <th>End ARM</th>\n",
       "      <th>Begin SRMP</th>\n",
       "      <th>End SRMP</th>\n",
       "      <th>Direction To Inventory</th>\n",
       "      <th>Region</th>\n",
       "      <th>Surface Type</th>\n",
       "      <th>...</th>\n",
       "      <th>Due Year Trigger</th>\n",
       "      <th>Percent Far Past Due</th>\n",
       "      <th>Percent Past Due</th>\n",
       "      <th>Percent Due</th>\n",
       "      <th>Percent Near Future Due</th>\n",
       "      <th>Percent Future Due</th>\n",
       "      <th>AADT</th>\n",
       "      <th>Avg Construction Date</th>\n",
       "      <th>Avg Major Rehab Date</th>\n",
       "      <th>Speed Limit</th>\n",
       "    </tr>\n",
       "  </thead>\n",
       "  <tbody>\n",
       "    <tr>\n",
       "      <th>0</th>\n",
       "      <td>2</td>\n",
       "      <td>NaN</td>\n",
       "      <td>NaN</td>\n",
       "      <td>3.96</td>\n",
       "      <td>4.50</td>\n",
       "      <td>3.83</td>\n",
       "      <td>4.37</td>\n",
       "      <td>B</td>\n",
       "      <td>Northwest</td>\n",
       "      <td>ACP</td>\n",
       "      <td>...</td>\n",
       "      <td>PSC</td>\n",
       "      <td>0</td>\n",
       "      <td>7.41</td>\n",
       "      <td>92.59</td>\n",
       "      <td>0.00</td>\n",
       "      <td>0.00</td>\n",
       "      <td>31462</td>\n",
       "      <td>10/1/1983 0:00:00</td>\n",
       "      <td>6/8/1998 0:00:00</td>\n",
       "      <td>60</td>\n",
       "    </tr>\n",
       "    <tr>\n",
       "      <th>1</th>\n",
       "      <td>2</td>\n",
       "      <td>NaN</td>\n",
       "      <td>NaN</td>\n",
       "      <td>4.53</td>\n",
       "      <td>4.80</td>\n",
       "      <td>4.40</td>\n",
       "      <td>4.67</td>\n",
       "      <td>B</td>\n",
       "      <td>Northwest</td>\n",
       "      <td>ACP</td>\n",
       "      <td>...</td>\n",
       "      <td>PSC</td>\n",
       "      <td>0</td>\n",
       "      <td>37.04</td>\n",
       "      <td>62.96</td>\n",
       "      <td>0.00</td>\n",
       "      <td>0.00</td>\n",
       "      <td>23939</td>\n",
       "      <td>10/1/1983 0:00:00</td>\n",
       "      <td>6/8/1998 0:00:00</td>\n",
       "      <td>60</td>\n",
       "    </tr>\n",
       "    <tr>\n",
       "      <th>2</th>\n",
       "      <td>2</td>\n",
       "      <td>NaN</td>\n",
       "      <td>NaN</td>\n",
       "      <td>5.15</td>\n",
       "      <td>8.65</td>\n",
       "      <td>5.02</td>\n",
       "      <td>8.52</td>\n",
       "      <td>B</td>\n",
       "      <td>Northwest</td>\n",
       "      <td>ACP</td>\n",
       "      <td>...</td>\n",
       "      <td>PSC</td>\n",
       "      <td>0</td>\n",
       "      <td>0.00</td>\n",
       "      <td>93.61</td>\n",
       "      <td>6.39</td>\n",
       "      <td>0.00</td>\n",
       "      <td>20098</td>\n",
       "      <td>8/24/1983 0:00:00</td>\n",
       "      <td>6/8/1998 0:00:00</td>\n",
       "      <td>60</td>\n",
       "    </tr>\n",
       "    <tr>\n",
       "      <th>3</th>\n",
       "      <td>2</td>\n",
       "      <td>NaN</td>\n",
       "      <td>NaN</td>\n",
       "      <td>8.65</td>\n",
       "      <td>8.93</td>\n",
       "      <td>8.52</td>\n",
       "      <td>8.80</td>\n",
       "      <td>B</td>\n",
       "      <td>Northwest</td>\n",
       "      <td>ACP</td>\n",
       "      <td>...</td>\n",
       "      <td>PSC</td>\n",
       "      <td>0</td>\n",
       "      <td>0.00</td>\n",
       "      <td>100.00</td>\n",
       "      <td>0.00</td>\n",
       "      <td>0.00</td>\n",
       "      <td>17598</td>\n",
       "      <td>10/1/1983 0:00:00</td>\n",
       "      <td>6/8/1998 0:00:00</td>\n",
       "      <td>60</td>\n",
       "    </tr>\n",
       "    <tr>\n",
       "      <th>4</th>\n",
       "      <td>2</td>\n",
       "      <td>NaN</td>\n",
       "      <td>NaN</td>\n",
       "      <td>8.93</td>\n",
       "      <td>10.33</td>\n",
       "      <td>8.80</td>\n",
       "      <td>10.25</td>\n",
       "      <td>B</td>\n",
       "      <td>Northwest</td>\n",
       "      <td>ACP</td>\n",
       "      <td>...</td>\n",
       "      <td>PRC</td>\n",
       "      <td>0</td>\n",
       "      <td>35.71</td>\n",
       "      <td>35.71</td>\n",
       "      <td>21.43</td>\n",
       "      <td>7.14</td>\n",
       "      <td>25316</td>\n",
       "      <td>7/5/1960 0:00:00</td>\n",
       "      <td>6/8/1998 0:00:00</td>\n",
       "      <td>60</td>\n",
       "    </tr>\n",
       "  </tbody>\n",
       "</table>\n",
       "<p>5 rows × 26 columns</p>\n",
       "</div>"
      ],
      "text/plain": [
       "   SR  RRT  RRQ  Begin ARM  End ARM Begin SRMP End SRMP  \\\n",
       "0   2  NaN  NaN       3.96     4.50       3.83     4.37   \n",
       "1   2  NaN  NaN       4.53     4.80       4.40     4.67   \n",
       "2   2  NaN  NaN       5.15     8.65       5.02     8.52   \n",
       "3   2  NaN  NaN       8.65     8.93       8.52     8.80   \n",
       "4   2  NaN  NaN       8.93    10.33       8.80    10.25   \n",
       "\n",
       "  Direction To Inventory     Region Surface Type     ...       \\\n",
       "0                      B  Northwest          ACP     ...        \n",
       "1                      B  Northwest          ACP     ...        \n",
       "2                      B  Northwest          ACP     ...        \n",
       "3                      B  Northwest          ACP     ...        \n",
       "4                      B  Northwest          ACP     ...        \n",
       "\n",
       "   Due Year Trigger  Percent Far Past Due  Percent Past Due Percent Due  \\\n",
       "0               PSC                     0              7.41       92.59   \n",
       "1               PSC                     0             37.04       62.96   \n",
       "2               PSC                     0              0.00       93.61   \n",
       "3               PSC                     0              0.00      100.00   \n",
       "4               PRC                     0             35.71       35.71   \n",
       "\n",
       "  Percent Near Future Due  Percent Future Due   AADT  Avg Construction Date  \\\n",
       "0                    0.00                0.00  31462      10/1/1983 0:00:00   \n",
       "1                    0.00                0.00  23939      10/1/1983 0:00:00   \n",
       "2                    6.39                0.00  20098      8/24/1983 0:00:00   \n",
       "3                    0.00                0.00  17598      10/1/1983 0:00:00   \n",
       "4                   21.43                7.14  25316       7/5/1960 0:00:00   \n",
       "\n",
       "   Avg Major Rehab Date  Speed Limit  \n",
       "0      6/8/1998 0:00:00           60  \n",
       "1      6/8/1998 0:00:00           60  \n",
       "2      6/8/1998 0:00:00           60  \n",
       "3      6/8/1998 0:00:00           60  \n",
       "4      6/8/1998 0:00:00           60  \n",
       "\n",
       "[5 rows x 26 columns]"
      ]
     },
     "execution_count": 10,
     "metadata": {},
     "output_type": "execute_result"
    }
   ],
   "source": [
    "df2.head()"
   ]
  },
  {
   "cell_type": "code",
   "execution_count": 12,
   "metadata": {
    "collapsed": false
   },
   "outputs": [
    {
     "data": {
      "text/plain": [
       "count    306.000000\n",
       "mean     134.302124\n",
       "std      106.613026\n",
       "min        0.000000\n",
       "25%       44.185000\n",
       "50%      103.020000\n",
       "75%      267.130000\n",
       "max      326.210000\n",
       "Name: Begin ARM, dtype: float64"
      ]
     },
     "execution_count": 12,
     "metadata": {},
     "output_type": "execute_result"
    }
   ],
   "source": [
    "df2[df2.SR==2]['Begin ARM'].describe()"
   ]
  },
  {
   "cell_type": "code",
   "execution_count": 14,
   "metadata": {
    "collapsed": false
   },
   "outputs": [
    {
     "data": {
      "text/plain": [
       "array([60, 55, 45, 35, 50, 30, 40, 25, 65])"
      ]
     },
     "execution_count": 14,
     "metadata": {},
     "output_type": "execute_result"
    }
   ],
   "source": [
    "df2[df2.SR==2]['Speed Limit'].unique()"
   ]
  },
  {
   "cell_type": "code",
   "execution_count": 13,
   "metadata": {
    "collapsed": false
   },
   "outputs": [
    {
     "name": "stdout",
     "output_type": "stream",
     "text": [
      "8645\n"
     ]
    }
   ],
   "source": [
    "print len(df2)"
   ]
  },
  {
   "cell_type": "code",
   "execution_count": 36,
   "metadata": {
    "collapsed": false
   },
   "outputs": [],
   "source": [
    "firstList = np.arange(df2[df2.SR==2]['Begin ARM'].max())\n",
    "firstIndex = np.repeat(2, len(firstList))\n",
    "ds = pd.DataFrame(firstList, firstIndex)\n",
    "for sr in df2.SR.unique()[1:]:\n",
    "    mx = df2[df2.SR==sr]['Begin ARM'].max()\n",
    "    milepost = np.arange(mx)\n",
    "    index = np.repeat(sr, len(milepost))\n",
    "    sdf = pd.DataFrame(milepost, index)\n",
    "    ds = pd.concat([ds, sdf])"
   ]
  },
  {
   "cell_type": "code",
   "execution_count": 41,
   "metadata": {
    "collapsed": false
   },
   "outputs": [
    {
     "data": {
      "text/html": [
       "<div>\n",
       "<table border=\"1\" class=\"dataframe\">\n",
       "  <thead>\n",
       "    <tr style=\"text-align: right;\">\n",
       "      <th></th>\n",
       "      <th>milepost</th>\n",
       "    </tr>\n",
       "  </thead>\n",
       "  <tbody>\n",
       "    <tr>\n",
       "      <th>970</th>\n",
       "      <td>9</td>\n",
       "    </tr>\n",
       "    <tr>\n",
       "      <th>970</th>\n",
       "      <td>10</td>\n",
       "    </tr>\n",
       "    <tr>\n",
       "      <th>971</th>\n",
       "      <td>0</td>\n",
       "    </tr>\n",
       "    <tr>\n",
       "      <th>971</th>\n",
       "      <td>1</td>\n",
       "    </tr>\n",
       "    <tr>\n",
       "      <th>971</th>\n",
       "      <td>2</td>\n",
       "    </tr>\n",
       "    <tr>\n",
       "      <th>971</th>\n",
       "      <td>3</td>\n",
       "    </tr>\n",
       "    <tr>\n",
       "      <th>971</th>\n",
       "      <td>4</td>\n",
       "    </tr>\n",
       "    <tr>\n",
       "      <th>971</th>\n",
       "      <td>5</td>\n",
       "    </tr>\n",
       "    <tr>\n",
       "      <th>971</th>\n",
       "      <td>6</td>\n",
       "    </tr>\n",
       "  </tbody>\n",
       "</table>\n",
       "</div>"
      ],
      "text/plain": [
       "     milepost\n",
       "970         9\n",
       "970        10\n",
       "971         0\n",
       "971         1\n",
       "971         2\n",
       "971         3\n",
       "971         4\n",
       "971         5\n",
       "971         6"
      ]
     },
     "execution_count": 41,
     "metadata": {},
     "output_type": "execute_result"
    }
   ],
   "source": [
    "ds.columns = ['milepost']\n",
    "ds.tail(9)"
   ]
  },
  {
   "cell_type": "code",
   "execution_count": 42,
   "metadata": {
    "collapsed": false
   },
   "outputs": [
    {
     "data": {
      "text/plain": [
       "Index([u'SR', u'RRT', u'RRQ', u'Begin ARM', u'End ARM', u'Begin SRMP',\n",
       "       u'End SRMP', u'Direction To Inventory', u'Region', u'Surface Type',\n",
       "       u'Length', u'Lane Miles', u'NHS', u'Federal Functional Class', u'ID',\n",
       "       u'Due Year', u'Due Year Trigger', u'Percent Far Past Due',\n",
       "       u'Percent Past Due', u'Percent Due', u'Percent Near Future Due',\n",
       "       u'Percent Future Due', u'AADT', u'Avg Construction Date',\n",
       "       u'Avg Major Rehab Date', u'Speed Limit'],\n",
       "      dtype='object')"
      ]
     },
     "execution_count": 42,
     "metadata": {},
     "output_type": "execute_result"
    }
   ],
   "source": [
    "df2.columns"
   ]
  },
  {
   "cell_type": "code",
   "execution_count": 43,
   "metadata": {
    "collapsed": true
   },
   "outputs": [],
   "source": [
    "df = df2[['SR', 'Begin ARM', 'Speed Limit']]"
   ]
  },
  {
   "cell_type": "code",
   "execution_count": 44,
   "metadata": {
    "collapsed": false
   },
   "outputs": [
    {
     "data": {
      "text/html": [
       "<div>\n",
       "<table border=\"1\" class=\"dataframe\">\n",
       "  <thead>\n",
       "    <tr style=\"text-align: right;\">\n",
       "      <th></th>\n",
       "      <th>SR</th>\n",
       "      <th>Begin ARM</th>\n",
       "      <th>Speed Limit</th>\n",
       "    </tr>\n",
       "  </thead>\n",
       "  <tbody>\n",
       "    <tr>\n",
       "      <th>0</th>\n",
       "      <td>2</td>\n",
       "      <td>3.96</td>\n",
       "      <td>60</td>\n",
       "    </tr>\n",
       "    <tr>\n",
       "      <th>1</th>\n",
       "      <td>2</td>\n",
       "      <td>4.53</td>\n",
       "      <td>60</td>\n",
       "    </tr>\n",
       "    <tr>\n",
       "      <th>2</th>\n",
       "      <td>2</td>\n",
       "      <td>5.15</td>\n",
       "      <td>60</td>\n",
       "    </tr>\n",
       "    <tr>\n",
       "      <th>3</th>\n",
       "      <td>2</td>\n",
       "      <td>8.65</td>\n",
       "      <td>60</td>\n",
       "    </tr>\n",
       "    <tr>\n",
       "      <th>4</th>\n",
       "      <td>2</td>\n",
       "      <td>8.93</td>\n",
       "      <td>60</td>\n",
       "    </tr>\n",
       "    <tr>\n",
       "      <th>5</th>\n",
       "      <td>2</td>\n",
       "      <td>10.33</td>\n",
       "      <td>60</td>\n",
       "    </tr>\n",
       "    <tr>\n",
       "      <th>6</th>\n",
       "      <td>2</td>\n",
       "      <td>12.55</td>\n",
       "      <td>55</td>\n",
       "    </tr>\n",
       "    <tr>\n",
       "      <th>7</th>\n",
       "      <td>2</td>\n",
       "      <td>13.10</td>\n",
       "      <td>55</td>\n",
       "    </tr>\n",
       "    <tr>\n",
       "      <th>8</th>\n",
       "      <td>2</td>\n",
       "      <td>13.40</td>\n",
       "      <td>55</td>\n",
       "    </tr>\n",
       "    <tr>\n",
       "      <th>9</th>\n",
       "      <td>2</td>\n",
       "      <td>13.50</td>\n",
       "      <td>45</td>\n",
       "    </tr>\n",
       "  </tbody>\n",
       "</table>\n",
       "</div>"
      ],
      "text/plain": [
       "   SR  Begin ARM  Speed Limit\n",
       "0   2       3.96           60\n",
       "1   2       4.53           60\n",
       "2   2       5.15           60\n",
       "3   2       8.65           60\n",
       "4   2       8.93           60\n",
       "5   2      10.33           60\n",
       "6   2      12.55           55\n",
       "7   2      13.10           55\n",
       "8   2      13.40           55\n",
       "9   2      13.50           45"
      ]
     },
     "execution_count": 44,
     "metadata": {},
     "output_type": "execute_result"
    }
   ],
   "source": [
    "df.head(10)"
   ]
  },
  {
   "cell_type": "code",
   "execution_count": 60,
   "metadata": {
    "collapsed": false
   },
   "outputs": [],
   "source": [
    "ds['SR'] = ds.index"
   ]
  },
  {
   "cell_type": "code",
   "execution_count": 61,
   "metadata": {
    "collapsed": true
   },
   "outputs": [],
   "source": [
    "ds.index = np.arange(len(ds))"
   ]
  },
  {
   "cell_type": "code",
   "execution_count": 62,
   "metadata": {
    "collapsed": false
   },
   "outputs": [
    {
     "data": {
      "text/html": [
       "<div>\n",
       "<table border=\"1\" class=\"dataframe\">\n",
       "  <thead>\n",
       "    <tr style=\"text-align: right;\">\n",
       "      <th></th>\n",
       "      <th>milepost</th>\n",
       "      <th>SR</th>\n",
       "    </tr>\n",
       "  </thead>\n",
       "  <tbody>\n",
       "    <tr>\n",
       "      <th>0</th>\n",
       "      <td>0</td>\n",
       "      <td>2</td>\n",
       "    </tr>\n",
       "    <tr>\n",
       "      <th>1</th>\n",
       "      <td>1</td>\n",
       "      <td>2</td>\n",
       "    </tr>\n",
       "    <tr>\n",
       "      <th>2</th>\n",
       "      <td>2</td>\n",
       "      <td>2</td>\n",
       "    </tr>\n",
       "    <tr>\n",
       "      <th>3</th>\n",
       "      <td>3</td>\n",
       "      <td>2</td>\n",
       "    </tr>\n",
       "    <tr>\n",
       "      <th>4</th>\n",
       "      <td>4</td>\n",
       "      <td>2</td>\n",
       "    </tr>\n",
       "  </tbody>\n",
       "</table>\n",
       "</div>"
      ],
      "text/plain": [
       "   milepost  SR\n",
       "0         0   2\n",
       "1         1   2\n",
       "2         2   2\n",
       "3         3   2\n",
       "4         4   2"
      ]
     },
     "execution_count": 62,
     "metadata": {},
     "output_type": "execute_result"
    }
   ],
   "source": [
    "ds.head()"
   ]
  },
  {
   "cell_type": "code",
   "execution_count": 63,
   "metadata": {
    "collapsed": false
   },
   "outputs": [],
   "source": [
    "def getSpeed(row):\n",
    "    sr = row['SR']\n",
    "    mp = row['milepost']\n",
    "    result = np.array(df[(df.SR == sr) & (df['Begin ARM'] >= mp) & (df['Begin ARM'] < (mp+1))]['Speed Limit'])\n",
    "    if len(result) == 0:\n",
    "        return None\n",
    "    else:\n",
    "        return result[0]"
   ]
  },
  {
   "cell_type": "code",
   "execution_count": 64,
   "metadata": {
    "collapsed": false
   },
   "outputs": [],
   "source": [
    "ds['SpeedLimit'] = ds.apply(getSpeed, axis = 1)"
   ]
  },
  {
   "cell_type": "code",
   "execution_count": 66,
   "metadata": {
    "collapsed": false
   },
   "outputs": [
    {
     "data": {
      "text/html": [
       "<div>\n",
       "<table border=\"1\" class=\"dataframe\">\n",
       "  <thead>\n",
       "    <tr style=\"text-align: right;\">\n",
       "      <th></th>\n",
       "      <th>milepost</th>\n",
       "      <th>SR</th>\n",
       "      <th>SpeedLimit</th>\n",
       "    </tr>\n",
       "  </thead>\n",
       "  <tbody>\n",
       "    <tr>\n",
       "      <th>0</th>\n",
       "      <td>0</td>\n",
       "      <td>2</td>\n",
       "      <td>55</td>\n",
       "    </tr>\n",
       "    <tr>\n",
       "      <th>1</th>\n",
       "      <td>1</td>\n",
       "      <td>2</td>\n",
       "      <td>NaN</td>\n",
       "    </tr>\n",
       "    <tr>\n",
       "      <th>2</th>\n",
       "      <td>2</td>\n",
       "      <td>2</td>\n",
       "      <td>55</td>\n",
       "    </tr>\n",
       "    <tr>\n",
       "      <th>3</th>\n",
       "      <td>3</td>\n",
       "      <td>2</td>\n",
       "      <td>60</td>\n",
       "    </tr>\n",
       "    <tr>\n",
       "      <th>4</th>\n",
       "      <td>4</td>\n",
       "      <td>2</td>\n",
       "      <td>60</td>\n",
       "    </tr>\n",
       "    <tr>\n",
       "      <th>5</th>\n",
       "      <td>5</td>\n",
       "      <td>2</td>\n",
       "      <td>60</td>\n",
       "    </tr>\n",
       "    <tr>\n",
       "      <th>6</th>\n",
       "      <td>6</td>\n",
       "      <td>2</td>\n",
       "      <td>NaN</td>\n",
       "    </tr>\n",
       "    <tr>\n",
       "      <th>7</th>\n",
       "      <td>7</td>\n",
       "      <td>2</td>\n",
       "      <td>NaN</td>\n",
       "    </tr>\n",
       "    <tr>\n",
       "      <th>8</th>\n",
       "      <td>8</td>\n",
       "      <td>2</td>\n",
       "      <td>60</td>\n",
       "    </tr>\n",
       "    <tr>\n",
       "      <th>9</th>\n",
       "      <td>9</td>\n",
       "      <td>2</td>\n",
       "      <td>NaN</td>\n",
       "    </tr>\n",
       "  </tbody>\n",
       "</table>\n",
       "</div>"
      ],
      "text/plain": [
       "   milepost  SR  SpeedLimit\n",
       "0         0   2          55\n",
       "1         1   2         NaN\n",
       "2         2   2          55\n",
       "3         3   2          60\n",
       "4         4   2          60\n",
       "5         5   2          60\n",
       "6         6   2         NaN\n",
       "7         7   2         NaN\n",
       "8         8   2          60\n",
       "9         9   2         NaN"
      ]
     },
     "execution_count": 66,
     "metadata": {},
     "output_type": "execute_result"
    }
   ],
   "source": [
    "ds.head(10)"
   ]
  },
  {
   "cell_type": "code",
   "execution_count": 67,
   "metadata": {
    "collapsed": true
   },
   "outputs": [],
   "source": [
    "ds['ID'] = ds.index"
   ]
  },
  {
   "cell_type": "code",
   "execution_count": 82,
   "metadata": {
    "collapsed": true
   },
   "outputs": [],
   "source": [
    "def ImputeMissingSpeed(row):\n",
    "    speed = row['SpeedLimit']\n",
    "    mile  = row['milepost']\n",
    "    index = int(row['ID'])\n",
    "    if np.isnan(speed) & (mile == 0):\n",
    "        ds.loc[index, 'SpeedLimit'] = 0\n",
    "        return None\n",
    "    elif np.isnan(speed):\n",
    "        ds.loc[index, 'SpeedLimit'] = ds.loc[(index-1), 'SpeedLimit']\n",
    "        return None\n",
    "    else:\n",
    "        return None"
   ]
  },
  {
   "cell_type": "code",
   "execution_count": 83,
   "metadata": {
    "collapsed": false
   },
   "outputs": [],
   "source": [
    "result = ds.apply(ImputeMissingSpeed, axis = 1)"
   ]
  },
  {
   "cell_type": "code",
   "execution_count": 84,
   "metadata": {
    "collapsed": false
   },
   "outputs": [
    {
     "data": {
      "text/html": [
       "<div>\n",
       "<table border=\"1\" class=\"dataframe\">\n",
       "  <thead>\n",
       "    <tr style=\"text-align: right;\">\n",
       "      <th></th>\n",
       "      <th>milepost</th>\n",
       "      <th>SR</th>\n",
       "      <th>SpeedLimit</th>\n",
       "      <th>ID</th>\n",
       "    </tr>\n",
       "  </thead>\n",
       "  <tbody>\n",
       "    <tr>\n",
       "      <th>0</th>\n",
       "      <td>0</td>\n",
       "      <td>2</td>\n",
       "      <td>55</td>\n",
       "      <td>0</td>\n",
       "    </tr>\n",
       "    <tr>\n",
       "      <th>1</th>\n",
       "      <td>1</td>\n",
       "      <td>2</td>\n",
       "      <td>55</td>\n",
       "      <td>1</td>\n",
       "    </tr>\n",
       "    <tr>\n",
       "      <th>2</th>\n",
       "      <td>2</td>\n",
       "      <td>2</td>\n",
       "      <td>55</td>\n",
       "      <td>2</td>\n",
       "    </tr>\n",
       "    <tr>\n",
       "      <th>3</th>\n",
       "      <td>3</td>\n",
       "      <td>2</td>\n",
       "      <td>60</td>\n",
       "      <td>3</td>\n",
       "    </tr>\n",
       "    <tr>\n",
       "      <th>4</th>\n",
       "      <td>4</td>\n",
       "      <td>2</td>\n",
       "      <td>60</td>\n",
       "      <td>4</td>\n",
       "    </tr>\n",
       "    <tr>\n",
       "      <th>5</th>\n",
       "      <td>5</td>\n",
       "      <td>2</td>\n",
       "      <td>60</td>\n",
       "      <td>5</td>\n",
       "    </tr>\n",
       "    <tr>\n",
       "      <th>6</th>\n",
       "      <td>6</td>\n",
       "      <td>2</td>\n",
       "      <td>60</td>\n",
       "      <td>6</td>\n",
       "    </tr>\n",
       "    <tr>\n",
       "      <th>7</th>\n",
       "      <td>7</td>\n",
       "      <td>2</td>\n",
       "      <td>60</td>\n",
       "      <td>7</td>\n",
       "    </tr>\n",
       "    <tr>\n",
       "      <th>8</th>\n",
       "      <td>8</td>\n",
       "      <td>2</td>\n",
       "      <td>60</td>\n",
       "      <td>8</td>\n",
       "    </tr>\n",
       "    <tr>\n",
       "      <th>9</th>\n",
       "      <td>9</td>\n",
       "      <td>2</td>\n",
       "      <td>60</td>\n",
       "      <td>9</td>\n",
       "    </tr>\n",
       "    <tr>\n",
       "      <th>10</th>\n",
       "      <td>10</td>\n",
       "      <td>2</td>\n",
       "      <td>60</td>\n",
       "      <td>10</td>\n",
       "    </tr>\n",
       "    <tr>\n",
       "      <th>11</th>\n",
       "      <td>11</td>\n",
       "      <td>2</td>\n",
       "      <td>60</td>\n",
       "      <td>11</td>\n",
       "    </tr>\n",
       "    <tr>\n",
       "      <th>12</th>\n",
       "      <td>12</td>\n",
       "      <td>2</td>\n",
       "      <td>55</td>\n",
       "      <td>12</td>\n",
       "    </tr>\n",
       "    <tr>\n",
       "      <th>13</th>\n",
       "      <td>13</td>\n",
       "      <td>2</td>\n",
       "      <td>55</td>\n",
       "      <td>13</td>\n",
       "    </tr>\n",
       "    <tr>\n",
       "      <th>14</th>\n",
       "      <td>14</td>\n",
       "      <td>2</td>\n",
       "      <td>45</td>\n",
       "      <td>14</td>\n",
       "    </tr>\n",
       "    <tr>\n",
       "      <th>15</th>\n",
       "      <td>15</td>\n",
       "      <td>2</td>\n",
       "      <td>55</td>\n",
       "      <td>15</td>\n",
       "    </tr>\n",
       "    <tr>\n",
       "      <th>16</th>\n",
       "      <td>16</td>\n",
       "      <td>2</td>\n",
       "      <td>55</td>\n",
       "      <td>16</td>\n",
       "    </tr>\n",
       "    <tr>\n",
       "      <th>17</th>\n",
       "      <td>17</td>\n",
       "      <td>2</td>\n",
       "      <td>55</td>\n",
       "      <td>17</td>\n",
       "    </tr>\n",
       "    <tr>\n",
       "      <th>18</th>\n",
       "      <td>18</td>\n",
       "      <td>2</td>\n",
       "      <td>55</td>\n",
       "      <td>18</td>\n",
       "    </tr>\n",
       "    <tr>\n",
       "      <th>19</th>\n",
       "      <td>19</td>\n",
       "      <td>2</td>\n",
       "      <td>55</td>\n",
       "      <td>19</td>\n",
       "    </tr>\n",
       "  </tbody>\n",
       "</table>\n",
       "</div>"
      ],
      "text/plain": [
       "    milepost  SR  SpeedLimit  ID\n",
       "0          0   2          55   0\n",
       "1          1   2          55   1\n",
       "2          2   2          55   2\n",
       "3          3   2          60   3\n",
       "4          4   2          60   4\n",
       "5          5   2          60   5\n",
       "6          6   2          60   6\n",
       "7          7   2          60   7\n",
       "8          8   2          60   8\n",
       "9          9   2          60   9\n",
       "10        10   2          60  10\n",
       "11        11   2          60  11\n",
       "12        12   2          55  12\n",
       "13        13   2          55  13\n",
       "14        14   2          45  14\n",
       "15        15   2          55  15\n",
       "16        16   2          55  16\n",
       "17        17   2          55  17\n",
       "18        18   2          55  18\n",
       "19        19   2          55  19"
      ]
     },
     "execution_count": 84,
     "metadata": {},
     "output_type": "execute_result"
    }
   ],
   "source": [
    "ds.head(20)"
   ]
  },
  {
   "cell_type": "code",
   "execution_count": 86,
   "metadata": {
    "collapsed": false
   },
   "outputs": [
    {
     "name": "stdout",
     "output_type": "stream",
     "text": [
      "0\n"
     ]
    }
   ],
   "source": [
    "print len(ds[ds['SpeedLimit'] == 0])"
   ]
  },
  {
   "cell_type": "code",
   "execution_count": 87,
   "metadata": {
    "collapsed": false
   },
   "outputs": [
    {
     "data": {
      "text/plain": [
       "array([ 55.,  60.,  45.,  50.,  35.,  30.,  40.,  25.,  65.,  70.])"
      ]
     },
     "execution_count": 87,
     "metadata": {},
     "output_type": "execute_result"
    }
   ],
   "source": [
    "ds.SpeedLimit.unique()"
   ]
  },
  {
   "cell_type": "code",
   "execution_count": 91,
   "metadata": {
    "collapsed": false
   },
   "outputs": [],
   "source": [
    "ds2 = pd.read_csv('../modelDatasets/ndata.csv')"
   ]
  },
  {
   "cell_type": "code",
   "execution_count": 92,
   "metadata": {
    "collapsed": false
   },
   "outputs": [
    {
     "data": {
      "text/plain": [
       "Index([u'Unnamed: 0', u'UID', u'IsBridge', u'Lane Surface Type', u'LaneMiles',\n",
       "       u'Region_x', u'FFClass', u'SurfaceTypeCode', u'STDescription',\n",
       "       u'TreatBaseCode', u'TreatBaseDescription', u'TBThick', u'untrthick',\n",
       "       u'Y_ESAL', u'MajorRehabYear', u'Cum_ESAL', u'SURFTHK', u'ULT',\n",
       "       u'TSfThick', u'tmin', u'tmax', u'cumESALs', u'IRIsi', u'Alli', u'Long',\n",
       "       u'E_Alli', u'E_Long', u'prep', u'MinT', u'MaxT', u'FTCycles',\n",
       "       u'actbthick', u'pctbthick', u'ftprep', u'BA', u'AA'],\n",
       "      dtype='object')"
      ]
     },
     "execution_count": 92,
     "metadata": {},
     "output_type": "execute_result"
    }
   ],
   "source": [
    "ds2.columns"
   ]
  },
  {
   "cell_type": "code",
   "execution_count": 95,
   "metadata": {
    "collapsed": true
   },
   "outputs": [],
   "source": [
    "#Importing the dataframe with unique ids\n",
    "idf = pd.read_csv('../FInalDatasets/Contracts.csv')\n",
    "idf = idf.drop_duplicates(subset = ['UID'])"
   ]
  },
  {
   "cell_type": "code",
   "execution_count": 96,
   "metadata": {
    "collapsed": false
   },
   "outputs": [
    {
     "name": "stdout",
     "output_type": "stream",
     "text": [
      "18098\n"
     ]
    },
    {
     "data": {
      "text/html": [
       "<div>\n",
       "<table border=\"1\" class=\"dataframe\">\n",
       "  <thead>\n",
       "    <tr style=\"text-align: right;\">\n",
       "      <th></th>\n",
       "      <th>Unnamed: 0</th>\n",
       "      <th>SR</th>\n",
       "      <th>BA</th>\n",
       "      <th>EA</th>\n",
       "      <th>bs</th>\n",
       "      <th>es</th>\n",
       "      <th>UID</th>\n",
       "      <th>RRT</th>\n",
       "      <th>RRQ</th>\n",
       "      <th>Begin ARM</th>\n",
       "      <th>...</th>\n",
       "      <th>Exception Code</th>\n",
       "      <th>Exception Description</th>\n",
       "      <th>Surface Type Code</th>\n",
       "      <th>Surface Type Description</th>\n",
       "      <th>Surface Thickness</th>\n",
       "      <th>Treat Base Type Code</th>\n",
       "      <th>Treat Base Type Description</th>\n",
       "      <th>Treat Base Thickness</th>\n",
       "      <th>UTreat Base Thickness</th>\n",
       "      <th>Sequence Number</th>\n",
       "    </tr>\n",
       "  </thead>\n",
       "  <tbody>\n",
       "    <tr>\n",
       "      <th>0</th>\n",
       "      <td>0</td>\n",
       "      <td>2</td>\n",
       "      <td>0.00</td>\n",
       "      <td>0.13</td>\n",
       "      <td>0</td>\n",
       "      <td>1</td>\n",
       "      <td>1</td>\n",
       "      <td>NaN</td>\n",
       "      <td>NaN</td>\n",
       "      <td>0.00</td>\n",
       "      <td>...</td>\n",
       "      <td>NaN</td>\n",
       "      <td>NaN</td>\n",
       "      <td>BA</td>\n",
       "      <td>ACP CLASS B AR4000W</td>\n",
       "      <td>0.25</td>\n",
       "      <td>3</td>\n",
       "      <td>Asphalt Treated Base Or Bituminous Admix</td>\n",
       "      <td>0.5</td>\n",
       "      <td>0.25</td>\n",
       "      <td>0</td>\n",
       "    </tr>\n",
       "    <tr>\n",
       "      <th>4</th>\n",
       "      <td>5</td>\n",
       "      <td>2</td>\n",
       "      <td>1.49</td>\n",
       "      <td>1.55</td>\n",
       "      <td>14</td>\n",
       "      <td>15</td>\n",
       "      <td>15</td>\n",
       "      <td>NaN</td>\n",
       "      <td>NaN</td>\n",
       "      <td>1.49</td>\n",
       "      <td>...</td>\n",
       "      <td>42</td>\n",
       "      <td>BRIDGE DECK RESURFACING</td>\n",
       "      <td>BA</td>\n",
       "      <td>ACP CLASS B AR4000W</td>\n",
       "      <td>0.15</td>\n",
       "      <td>0</td>\n",
       "      <td>NaN</td>\n",
       "      <td>0.0</td>\n",
       "      <td>0.00</td>\n",
       "      <td>1</td>\n",
       "    </tr>\n",
       "    <tr>\n",
       "      <th>5</th>\n",
       "      <td>7</td>\n",
       "      <td>2</td>\n",
       "      <td>2.64</td>\n",
       "      <td>2.75</td>\n",
       "      <td>26</td>\n",
       "      <td>27</td>\n",
       "      <td>27</td>\n",
       "      <td>NaN</td>\n",
       "      <td>NaN</td>\n",
       "      <td>2.64</td>\n",
       "      <td>...</td>\n",
       "      <td>NaN</td>\n",
       "      <td>NaN</td>\n",
       "      <td>AA</td>\n",
       "      <td>ACP CLASS A AR4000W</td>\n",
       "      <td>0.35</td>\n",
       "      <td>0</td>\n",
       "      <td>NaN</td>\n",
       "      <td>0.0</td>\n",
       "      <td>0.00</td>\n",
       "      <td>1</td>\n",
       "    </tr>\n",
       "    <tr>\n",
       "      <th>6</th>\n",
       "      <td>9</td>\n",
       "      <td>2</td>\n",
       "      <td>3.64</td>\n",
       "      <td>3.75</td>\n",
       "      <td>36</td>\n",
       "      <td>37</td>\n",
       "      <td>37</td>\n",
       "      <td>NaN</td>\n",
       "      <td>NaN</td>\n",
       "      <td>3.64</td>\n",
       "      <td>...</td>\n",
       "      <td>NaN</td>\n",
       "      <td>NaN</td>\n",
       "      <td>BA</td>\n",
       "      <td>ACP CLASS B AR4000W</td>\n",
       "      <td>0.70</td>\n",
       "      <td>3</td>\n",
       "      <td>Asphalt Treated Base Or Bituminous Admix</td>\n",
       "      <td>0.3</td>\n",
       "      <td>0.00</td>\n",
       "      <td>0</td>\n",
       "    </tr>\n",
       "    <tr>\n",
       "      <th>7</th>\n",
       "      <td>10</td>\n",
       "      <td>2</td>\n",
       "      <td>6.50</td>\n",
       "      <td>6.66</td>\n",
       "      <td>65</td>\n",
       "      <td>66</td>\n",
       "      <td>66</td>\n",
       "      <td>NaN</td>\n",
       "      <td>NaN</td>\n",
       "      <td>6.50</td>\n",
       "      <td>...</td>\n",
       "      <td>NaN</td>\n",
       "      <td>NaN</td>\n",
       "      <td>PA</td>\n",
       "      <td>PCCP</td>\n",
       "      <td>0.00</td>\n",
       "      <td>0</td>\n",
       "      <td>NaN</td>\n",
       "      <td>0.0</td>\n",
       "      <td>0.00</td>\n",
       "      <td>0</td>\n",
       "    </tr>\n",
       "  </tbody>\n",
       "</table>\n",
       "<p>5 rows × 30 columns</p>\n",
       "</div>"
      ],
      "text/plain": [
       "   Unnamed: 0  SR    BA    EA  bs  es  UID  RRT  RRQ  Begin ARM  \\\n",
       "0           0   2  0.00  0.13   0   1    1  NaN  NaN       0.00   \n",
       "4           5   2  1.49  1.55  14  15   15  NaN  NaN       1.49   \n",
       "5           7   2  2.64  2.75  26  27   27  NaN  NaN       2.64   \n",
       "6           9   2  3.64  3.75  36  37   37  NaN  NaN       3.64   \n",
       "7          10   2  6.50  6.66  65  66   66  NaN  NaN       6.50   \n",
       "\n",
       "        ...        Exception Code    Exception Description Surface Type Code  \\\n",
       "0       ...                   NaN                      NaN                BA   \n",
       "4       ...                    42  BRIDGE DECK RESURFACING                BA   \n",
       "5       ...                   NaN                      NaN                AA   \n",
       "6       ...                   NaN                      NaN                BA   \n",
       "7       ...                   NaN                      NaN                PA   \n",
       "\n",
       "  Surface Type Description Surface Thickness Treat Base Type Code  \\\n",
       "0      ACP CLASS B AR4000W              0.25                    3   \n",
       "4      ACP CLASS B AR4000W              0.15                    0   \n",
       "5      ACP CLASS A AR4000W              0.35                    0   \n",
       "6      ACP CLASS B AR4000W              0.70                    3   \n",
       "7                     PCCP              0.00                    0   \n",
       "\n",
       "                Treat Base Type Description Treat Base Thickness  \\\n",
       "0  Asphalt Treated Base Or Bituminous Admix                  0.5   \n",
       "4                                       NaN                  0.0   \n",
       "5                                       NaN                  0.0   \n",
       "6  Asphalt Treated Base Or Bituminous Admix                  0.3   \n",
       "7                                       NaN                  0.0   \n",
       "\n",
       "   UTreat Base Thickness Sequence Number  \n",
       "0                   0.25               0  \n",
       "4                   0.00               1  \n",
       "5                   0.00               1  \n",
       "6                   0.00               0  \n",
       "7                   0.00               0  \n",
       "\n",
       "[5 rows x 30 columns]"
      ]
     },
     "execution_count": 96,
     "metadata": {},
     "output_type": "execute_result"
    }
   ],
   "source": [
    "print len(idf)\n",
    "idf.head()"
   ]
  },
  {
   "cell_type": "code",
   "execution_count": 98,
   "metadata": {
    "collapsed": false
   },
   "outputs": [
    {
     "name": "stdout",
     "output_type": "stream",
     "text": [
      "4083\n",
      "4083\n"
     ]
    }
   ],
   "source": [
    "print len(ds2[ds2.UID.isin(idf.UID)])\n",
    "print len(ds2)"
   ]
  },
  {
   "cell_type": "code",
   "execution_count": 102,
   "metadata": {
    "collapsed": true
   },
   "outputs": [],
   "source": [
    "sdf = idf[['SR', 'BA', 'UID']]\n",
    "sdf.columns = ['SR', 'BMP', 'UID']"
   ]
  },
  {
   "cell_type": "code",
   "execution_count": 103,
   "metadata": {
    "collapsed": true
   },
   "outputs": [],
   "source": [
    "data = pd.merge(ds2, sdf, how = 'left', left_on = ['UID'], right_on = 'UID')"
   ]
  },
  {
   "cell_type": "code",
   "execution_count": 104,
   "metadata": {
    "collapsed": false
   },
   "outputs": [
    {
     "data": {
      "text/html": [
       "<div>\n",
       "<table border=\"1\" class=\"dataframe\">\n",
       "  <thead>\n",
       "    <tr style=\"text-align: right;\">\n",
       "      <th></th>\n",
       "      <th>Unnamed: 0</th>\n",
       "      <th>UID</th>\n",
       "      <th>IsBridge</th>\n",
       "      <th>Lane Surface Type</th>\n",
       "      <th>LaneMiles</th>\n",
       "      <th>Region_x</th>\n",
       "      <th>FFClass</th>\n",
       "      <th>SurfaceTypeCode</th>\n",
       "      <th>STDescription</th>\n",
       "      <th>TreatBaseCode</th>\n",
       "      <th>...</th>\n",
       "      <th>MinT</th>\n",
       "      <th>MaxT</th>\n",
       "      <th>FTCycles</th>\n",
       "      <th>actbthick</th>\n",
       "      <th>pctbthick</th>\n",
       "      <th>ftprep</th>\n",
       "      <th>BA</th>\n",
       "      <th>AA</th>\n",
       "      <th>SR</th>\n",
       "      <th>BMP</th>\n",
       "    </tr>\n",
       "  </thead>\n",
       "  <tbody>\n",
       "    <tr>\n",
       "      <th>0</th>\n",
       "      <td>0</td>\n",
       "      <td>650</td>\n",
       "      <td>0</td>\n",
       "      <td>ACP</td>\n",
       "      <td>0.20</td>\n",
       "      <td>North Central</td>\n",
       "      <td>Rural Other Principal Arterial</td>\n",
       "      <td>D2</td>\n",
       "      <td>ACP CLASS 1/2IN PG58-34</td>\n",
       "      <td>0</td>\n",
       "      <td>...</td>\n",
       "      <td>-5.48</td>\n",
       "      <td>21.600000</td>\n",
       "      <td>38</td>\n",
       "      <td>0</td>\n",
       "      <td>0</td>\n",
       "      <td>78155.358887</td>\n",
       "      <td>0</td>\n",
       "      <td>0</td>\n",
       "      <td>2</td>\n",
       "      <td>64.77</td>\n",
       "    </tr>\n",
       "    <tr>\n",
       "      <th>1</th>\n",
       "      <td>1</td>\n",
       "      <td>2651</td>\n",
       "      <td>0</td>\n",
       "      <td>ACP</td>\n",
       "      <td>0.30</td>\n",
       "      <td>Eastern</td>\n",
       "      <td>Rural Other Principal Arterial</td>\n",
       "      <td>BA</td>\n",
       "      <td>ACP CLASS B AR4000W</td>\n",
       "      <td>0</td>\n",
       "      <td>...</td>\n",
       "      <td>-8.73</td>\n",
       "      <td>30.420000</td>\n",
       "      <td>84</td>\n",
       "      <td>0</td>\n",
       "      <td>0</td>\n",
       "      <td>28866.599487</td>\n",
       "      <td>1</td>\n",
       "      <td>0</td>\n",
       "      <td>2</td>\n",
       "      <td>265.06</td>\n",
       "    </tr>\n",
       "    <tr>\n",
       "      <th>2</th>\n",
       "      <td>2</td>\n",
       "      <td>1193</td>\n",
       "      <td>0</td>\n",
       "      <td>ACP</td>\n",
       "      <td>0.20</td>\n",
       "      <td>North Central</td>\n",
       "      <td>Urban Other Freeway/Expressway</td>\n",
       "      <td>BA</td>\n",
       "      <td>ACP CLASS B AR4000W</td>\n",
       "      <td>0</td>\n",
       "      <td>...</td>\n",
       "      <td>-4.85</td>\n",
       "      <td>33.630001</td>\n",
       "      <td>21</td>\n",
       "      <td>0</td>\n",
       "      <td>0</td>\n",
       "      <td>4056.779846</td>\n",
       "      <td>1</td>\n",
       "      <td>0</td>\n",
       "      <td>2</td>\n",
       "      <td>119.23</td>\n",
       "    </tr>\n",
       "    <tr>\n",
       "      <th>3</th>\n",
       "      <td>3</td>\n",
       "      <td>1070</td>\n",
       "      <td>0</td>\n",
       "      <td>ACP</td>\n",
       "      <td>0.20</td>\n",
       "      <td>North Central</td>\n",
       "      <td>Rural Other Freeway/Expressway</td>\n",
       "      <td>BA</td>\n",
       "      <td>ACP CLASS B AR4000W</td>\n",
       "      <td>0</td>\n",
       "      <td>...</td>\n",
       "      <td>-6.27</td>\n",
       "      <td>32.840000</td>\n",
       "      <td>21</td>\n",
       "      <td>0</td>\n",
       "      <td>0</td>\n",
       "      <td>6786.360077</td>\n",
       "      <td>1</td>\n",
       "      <td>0</td>\n",
       "      <td>2</td>\n",
       "      <td>107.03</td>\n",
       "    </tr>\n",
       "    <tr>\n",
       "      <th>4</th>\n",
       "      <td>4</td>\n",
       "      <td>1192</td>\n",
       "      <td>0</td>\n",
       "      <td>ACP</td>\n",
       "      <td>0.12</td>\n",
       "      <td>North Central</td>\n",
       "      <td>Urban Other Freeway/Expressway</td>\n",
       "      <td>H2</td>\n",
       "      <td>ACP CLASS 1/2IN PG70-28</td>\n",
       "      <td>0</td>\n",
       "      <td>...</td>\n",
       "      <td>-4.85</td>\n",
       "      <td>33.630001</td>\n",
       "      <td>21</td>\n",
       "      <td>0</td>\n",
       "      <td>0</td>\n",
       "      <td>4056.779846</td>\n",
       "      <td>0</td>\n",
       "      <td>0</td>\n",
       "      <td>2</td>\n",
       "      <td>119.17</td>\n",
       "    </tr>\n",
       "  </tbody>\n",
       "</table>\n",
       "<p>5 rows × 38 columns</p>\n",
       "</div>"
      ],
      "text/plain": [
       "   Unnamed: 0   UID  IsBridge Lane Surface Type  LaneMiles       Region_x  \\\n",
       "0           0   650         0               ACP       0.20  North Central   \n",
       "1           1  2651         0               ACP       0.30        Eastern   \n",
       "2           2  1193         0               ACP       0.20  North Central   \n",
       "3           3  1070         0               ACP       0.20  North Central   \n",
       "4           4  1192         0               ACP       0.12  North Central   \n",
       "\n",
       "                          FFClass SurfaceTypeCode            STDescription  \\\n",
       "0  Rural Other Principal Arterial              D2  ACP CLASS 1/2IN PG58-34   \n",
       "1  Rural Other Principal Arterial              BA      ACP CLASS B AR4000W   \n",
       "2  Urban Other Freeway/Expressway              BA      ACP CLASS B AR4000W   \n",
       "3  Rural Other Freeway/Expressway              BA      ACP CLASS B AR4000W   \n",
       "4  Urban Other Freeway/Expressway              H2  ACP CLASS 1/2IN PG70-28   \n",
       "\n",
       "   TreatBaseCode   ...    MinT       MaxT  FTCycles  actbthick  pctbthick  \\\n",
       "0              0   ...   -5.48  21.600000        38          0          0   \n",
       "1              0   ...   -8.73  30.420000        84          0          0   \n",
       "2              0   ...   -4.85  33.630001        21          0          0   \n",
       "3              0   ...   -6.27  32.840000        21          0          0   \n",
       "4              0   ...   -4.85  33.630001        21          0          0   \n",
       "\n",
       "         ftprep  BA  AA  SR     BMP  \n",
       "0  78155.358887   0   0   2   64.77  \n",
       "1  28866.599487   1   0   2  265.06  \n",
       "2   4056.779846   1   0   2  119.23  \n",
       "3   6786.360077   1   0   2  107.03  \n",
       "4   4056.779846   0   0   2  119.17  \n",
       "\n",
       "[5 rows x 38 columns]"
      ]
     },
     "execution_count": 104,
     "metadata": {},
     "output_type": "execute_result"
    }
   ],
   "source": [
    "data.head()"
   ]
  },
  {
   "cell_type": "code",
   "execution_count": 105,
   "metadata": {
    "collapsed": true
   },
   "outputs": [],
   "source": [
    "def getSpeed(row):\n",
    "    sr = row['SR']\n",
    "    mp = int(row['BMP'])\n",
    "    req = np.array(ds[(ds.SR == sr) & (ds.milepost==mp)]['SpeedLimit'])\n",
    "    if len(req) == 0:\n",
    "        return None\n",
    "    return req[0]"
   ]
  },
  {
   "cell_type": "code",
   "execution_count": 108,
   "metadata": {
    "collapsed": true
   },
   "outputs": [],
   "source": [
    "data['SpeedLimit'] = data.apply(getSpeed, axis = 1)"
   ]
  },
  {
   "cell_type": "code",
   "execution_count": 109,
   "metadata": {
    "collapsed": false
   },
   "outputs": [
    {
     "data": {
      "text/html": [
       "<div>\n",
       "<table border=\"1\" class=\"dataframe\">\n",
       "  <thead>\n",
       "    <tr style=\"text-align: right;\">\n",
       "      <th></th>\n",
       "      <th>Unnamed: 0</th>\n",
       "      <th>UID</th>\n",
       "      <th>IsBridge</th>\n",
       "      <th>Lane Surface Type</th>\n",
       "      <th>LaneMiles</th>\n",
       "      <th>Region_x</th>\n",
       "      <th>FFClass</th>\n",
       "      <th>SurfaceTypeCode</th>\n",
       "      <th>STDescription</th>\n",
       "      <th>TreatBaseCode</th>\n",
       "      <th>...</th>\n",
       "      <th>MaxT</th>\n",
       "      <th>FTCycles</th>\n",
       "      <th>actbthick</th>\n",
       "      <th>pctbthick</th>\n",
       "      <th>ftprep</th>\n",
       "      <th>BA</th>\n",
       "      <th>AA</th>\n",
       "      <th>SR</th>\n",
       "      <th>BMP</th>\n",
       "      <th>SpeedLimit</th>\n",
       "    </tr>\n",
       "  </thead>\n",
       "  <tbody>\n",
       "    <tr>\n",
       "      <th>0</th>\n",
       "      <td>0</td>\n",
       "      <td>650</td>\n",
       "      <td>0</td>\n",
       "      <td>ACP</td>\n",
       "      <td>0.20</td>\n",
       "      <td>North Central</td>\n",
       "      <td>Rural Other Principal Arterial</td>\n",
       "      <td>D2</td>\n",
       "      <td>ACP CLASS 1/2IN PG58-34</td>\n",
       "      <td>0</td>\n",
       "      <td>...</td>\n",
       "      <td>21.600000</td>\n",
       "      <td>38</td>\n",
       "      <td>0</td>\n",
       "      <td>0</td>\n",
       "      <td>78155.358887</td>\n",
       "      <td>0</td>\n",
       "      <td>0</td>\n",
       "      <td>2</td>\n",
       "      <td>64.77</td>\n",
       "      <td>35</td>\n",
       "    </tr>\n",
       "    <tr>\n",
       "      <th>1</th>\n",
       "      <td>1</td>\n",
       "      <td>2651</td>\n",
       "      <td>0</td>\n",
       "      <td>ACP</td>\n",
       "      <td>0.30</td>\n",
       "      <td>Eastern</td>\n",
       "      <td>Rural Other Principal Arterial</td>\n",
       "      <td>BA</td>\n",
       "      <td>ACP CLASS B AR4000W</td>\n",
       "      <td>0</td>\n",
       "      <td>...</td>\n",
       "      <td>30.420000</td>\n",
       "      <td>84</td>\n",
       "      <td>0</td>\n",
       "      <td>0</td>\n",
       "      <td>28866.599487</td>\n",
       "      <td>1</td>\n",
       "      <td>0</td>\n",
       "      <td>2</td>\n",
       "      <td>265.06</td>\n",
       "      <td>60</td>\n",
       "    </tr>\n",
       "    <tr>\n",
       "      <th>2</th>\n",
       "      <td>2</td>\n",
       "      <td>1193</td>\n",
       "      <td>0</td>\n",
       "      <td>ACP</td>\n",
       "      <td>0.20</td>\n",
       "      <td>North Central</td>\n",
       "      <td>Urban Other Freeway/Expressway</td>\n",
       "      <td>BA</td>\n",
       "      <td>ACP CLASS B AR4000W</td>\n",
       "      <td>0</td>\n",
       "      <td>...</td>\n",
       "      <td>33.630001</td>\n",
       "      <td>21</td>\n",
       "      <td>0</td>\n",
       "      <td>0</td>\n",
       "      <td>4056.779846</td>\n",
       "      <td>1</td>\n",
       "      <td>0</td>\n",
       "      <td>2</td>\n",
       "      <td>119.23</td>\n",
       "      <td>45</td>\n",
       "    </tr>\n",
       "    <tr>\n",
       "      <th>3</th>\n",
       "      <td>3</td>\n",
       "      <td>1070</td>\n",
       "      <td>0</td>\n",
       "      <td>ACP</td>\n",
       "      <td>0.20</td>\n",
       "      <td>North Central</td>\n",
       "      <td>Rural Other Freeway/Expressway</td>\n",
       "      <td>BA</td>\n",
       "      <td>ACP CLASS B AR4000W</td>\n",
       "      <td>0</td>\n",
       "      <td>...</td>\n",
       "      <td>32.840000</td>\n",
       "      <td>21</td>\n",
       "      <td>0</td>\n",
       "      <td>0</td>\n",
       "      <td>6786.360077</td>\n",
       "      <td>1</td>\n",
       "      <td>0</td>\n",
       "      <td>2</td>\n",
       "      <td>107.03</td>\n",
       "      <td>60</td>\n",
       "    </tr>\n",
       "    <tr>\n",
       "      <th>4</th>\n",
       "      <td>4</td>\n",
       "      <td>1192</td>\n",
       "      <td>0</td>\n",
       "      <td>ACP</td>\n",
       "      <td>0.12</td>\n",
       "      <td>North Central</td>\n",
       "      <td>Urban Other Freeway/Expressway</td>\n",
       "      <td>H2</td>\n",
       "      <td>ACP CLASS 1/2IN PG70-28</td>\n",
       "      <td>0</td>\n",
       "      <td>...</td>\n",
       "      <td>33.630001</td>\n",
       "      <td>21</td>\n",
       "      <td>0</td>\n",
       "      <td>0</td>\n",
       "      <td>4056.779846</td>\n",
       "      <td>0</td>\n",
       "      <td>0</td>\n",
       "      <td>2</td>\n",
       "      <td>119.17</td>\n",
       "      <td>45</td>\n",
       "    </tr>\n",
       "  </tbody>\n",
       "</table>\n",
       "<p>5 rows × 39 columns</p>\n",
       "</div>"
      ],
      "text/plain": [
       "   Unnamed: 0   UID  IsBridge Lane Surface Type  LaneMiles       Region_x  \\\n",
       "0           0   650         0               ACP       0.20  North Central   \n",
       "1           1  2651         0               ACP       0.30        Eastern   \n",
       "2           2  1193         0               ACP       0.20  North Central   \n",
       "3           3  1070         0               ACP       0.20  North Central   \n",
       "4           4  1192         0               ACP       0.12  North Central   \n",
       "\n",
       "                          FFClass SurfaceTypeCode            STDescription  \\\n",
       "0  Rural Other Principal Arterial              D2  ACP CLASS 1/2IN PG58-34   \n",
       "1  Rural Other Principal Arterial              BA      ACP CLASS B AR4000W   \n",
       "2  Urban Other Freeway/Expressway              BA      ACP CLASS B AR4000W   \n",
       "3  Rural Other Freeway/Expressway              BA      ACP CLASS B AR4000W   \n",
       "4  Urban Other Freeway/Expressway              H2  ACP CLASS 1/2IN PG70-28   \n",
       "\n",
       "   TreatBaseCode     ...           MaxT  FTCycles  actbthick  pctbthick  \\\n",
       "0              0     ...      21.600000        38          0          0   \n",
       "1              0     ...      30.420000        84          0          0   \n",
       "2              0     ...      33.630001        21          0          0   \n",
       "3              0     ...      32.840000        21          0          0   \n",
       "4              0     ...      33.630001        21          0          0   \n",
       "\n",
       "         ftprep  BA  AA  SR     BMP  SpeedLimit  \n",
       "0  78155.358887   0   0   2   64.77          35  \n",
       "1  28866.599487   1   0   2  265.06          60  \n",
       "2   4056.779846   1   0   2  119.23          45  \n",
       "3   6786.360077   1   0   2  107.03          60  \n",
       "4   4056.779846   0   0   2  119.17          45  \n",
       "\n",
       "[5 rows x 39 columns]"
      ]
     },
     "execution_count": 109,
     "metadata": {},
     "output_type": "execute_result"
    }
   ],
   "source": [
    "data.head()"
   ]
  },
  {
   "cell_type": "code",
   "execution_count": 110,
   "metadata": {
    "collapsed": false
   },
   "outputs": [
    {
     "data": {
      "text/plain": [
       "array([ 35.,  60.,  45.,  55.,  30.,  50.,  70.,  40.,  25.,  65.,  nan])"
      ]
     },
     "execution_count": 110,
     "metadata": {},
     "output_type": "execute_result"
    }
   ],
   "source": [
    "data.SpeedLimit.unique()"
   ]
  },
  {
   "cell_type": "code",
   "execution_count": 111,
   "metadata": {
    "collapsed": false
   },
   "outputs": [
    {
     "name": "stdout",
     "output_type": "stream",
     "text": [
      "18\n"
     ]
    }
   ],
   "source": [
    "print len(data[data.SpeedLimit.isnull()==1])"
   ]
  },
  {
   "cell_type": "code",
   "execution_count": 116,
   "metadata": {
    "collapsed": false
   },
   "outputs": [
    {
     "name": "stderr",
     "output_type": "stream",
     "text": [
      "/Users/Alan/anaconda2/lib/python2.7/site-packages/ipykernel/__main__.py:1: FutureWarning: sort(columns=....) is deprecated, use sort_values(by=.....)\n",
      "  if __name__ == '__main__':\n"
     ]
    }
   ],
   "source": [
    "dataset = data.sort(columns = ['SR', 'BMP'])"
   ]
  },
  {
   "cell_type": "code",
   "execution_count": 120,
   "metadata": {
    "collapsed": false
   },
   "outputs": [],
   "source": [
    "dataset.index = np.arange(len(data))\n",
    "dataset['idx'] = np.arange(len(data))"
   ]
  },
  {
   "cell_type": "code",
   "execution_count": 121,
   "metadata": {
    "collapsed": false
   },
   "outputs": [
    {
     "data": {
      "text/html": [
       "<div>\n",
       "<table border=\"1\" class=\"dataframe\">\n",
       "  <thead>\n",
       "    <tr style=\"text-align: right;\">\n",
       "      <th></th>\n",
       "      <th>Unnamed: 0</th>\n",
       "      <th>UID</th>\n",
       "      <th>IsBridge</th>\n",
       "      <th>Lane Surface Type</th>\n",
       "      <th>LaneMiles</th>\n",
       "      <th>Region_x</th>\n",
       "      <th>FFClass</th>\n",
       "      <th>SurfaceTypeCode</th>\n",
       "      <th>STDescription</th>\n",
       "      <th>TreatBaseCode</th>\n",
       "      <th>...</th>\n",
       "      <th>FTCycles</th>\n",
       "      <th>actbthick</th>\n",
       "      <th>pctbthick</th>\n",
       "      <th>ftprep</th>\n",
       "      <th>BA</th>\n",
       "      <th>AA</th>\n",
       "      <th>SR</th>\n",
       "      <th>BMP</th>\n",
       "      <th>SpeedLimit</th>\n",
       "      <th>idx</th>\n",
       "    </tr>\n",
       "  </thead>\n",
       "  <tbody>\n",
       "    <tr>\n",
       "      <th>0</th>\n",
       "      <td>712</td>\n",
       "      <td>1</td>\n",
       "      <td>0</td>\n",
       "      <td>ACP</td>\n",
       "      <td>0.36</td>\n",
       "      <td>Eastern</td>\n",
       "      <td>Urban Other Principal Arterial</td>\n",
       "      <td>BA</td>\n",
       "      <td>ACP CLASS B AR4000W</td>\n",
       "      <td>3</td>\n",
       "      <td>...</td>\n",
       "      <td>5</td>\n",
       "      <td>0.5</td>\n",
       "      <td>0</td>\n",
       "      <td>4208.250122</td>\n",
       "      <td>1</td>\n",
       "      <td>0</td>\n",
       "      <td>2</td>\n",
       "      <td>0.00</td>\n",
       "      <td>55</td>\n",
       "      <td>0</td>\n",
       "    </tr>\n",
       "    <tr>\n",
       "      <th>1</th>\n",
       "      <td>635</td>\n",
       "      <td>24</td>\n",
       "      <td>1</td>\n",
       "      <td>ACP</td>\n",
       "      <td>0.15</td>\n",
       "      <td>Northwest</td>\n",
       "      <td>Urban Other Freeway/Expressway</td>\n",
       "      <td>PA</td>\n",
       "      <td>PCCP</td>\n",
       "      <td>0</td>\n",
       "      <td>...</td>\n",
       "      <td>5</td>\n",
       "      <td>0.0</td>\n",
       "      <td>0</td>\n",
       "      <td>4534.049988</td>\n",
       "      <td>0</td>\n",
       "      <td>0</td>\n",
       "      <td>2</td>\n",
       "      <td>2.19</td>\n",
       "      <td>55</td>\n",
       "      <td>1</td>\n",
       "    </tr>\n",
       "    <tr>\n",
       "      <th>2</th>\n",
       "      <td>1704</td>\n",
       "      <td>27</td>\n",
       "      <td>0</td>\n",
       "      <td>ACP</td>\n",
       "      <td>0.20</td>\n",
       "      <td>Northwest</td>\n",
       "      <td>Urban Other Freeway/Expressway</td>\n",
       "      <td>AA</td>\n",
       "      <td>ACP CLASS A AR4000W</td>\n",
       "      <td>0</td>\n",
       "      <td>...</td>\n",
       "      <td>5</td>\n",
       "      <td>0.0</td>\n",
       "      <td>0</td>\n",
       "      <td>4534.049988</td>\n",
       "      <td>0</td>\n",
       "      <td>1</td>\n",
       "      <td>2</td>\n",
       "      <td>2.64</td>\n",
       "      <td>55</td>\n",
       "      <td>2</td>\n",
       "    </tr>\n",
       "    <tr>\n",
       "      <th>3</th>\n",
       "      <td>671</td>\n",
       "      <td>33</td>\n",
       "      <td>0</td>\n",
       "      <td>ACP</td>\n",
       "      <td>0.20</td>\n",
       "      <td>Northwest</td>\n",
       "      <td>Urban Other Freeway/Expressway</td>\n",
       "      <td>BA</td>\n",
       "      <td>ACP CLASS B AR4000W</td>\n",
       "      <td>0</td>\n",
       "      <td>...</td>\n",
       "      <td>5</td>\n",
       "      <td>0.0</td>\n",
       "      <td>0</td>\n",
       "      <td>4534.049988</td>\n",
       "      <td>1</td>\n",
       "      <td>0</td>\n",
       "      <td>2</td>\n",
       "      <td>2.75</td>\n",
       "      <td>55</td>\n",
       "      <td>3</td>\n",
       "    </tr>\n",
       "    <tr>\n",
       "      <th>4</th>\n",
       "      <td>706</td>\n",
       "      <td>28</td>\n",
       "      <td>0</td>\n",
       "      <td>ACP</td>\n",
       "      <td>0.20</td>\n",
       "      <td>Northwest</td>\n",
       "      <td>Urban Other Freeway/Expressway</td>\n",
       "      <td>AA</td>\n",
       "      <td>ACP CLASS A AR4000W</td>\n",
       "      <td>0</td>\n",
       "      <td>...</td>\n",
       "      <td>5</td>\n",
       "      <td>0.0</td>\n",
       "      <td>0</td>\n",
       "      <td>4534.049988</td>\n",
       "      <td>0</td>\n",
       "      <td>1</td>\n",
       "      <td>2</td>\n",
       "      <td>2.75</td>\n",
       "      <td>55</td>\n",
       "      <td>4</td>\n",
       "    </tr>\n",
       "  </tbody>\n",
       "</table>\n",
       "<p>5 rows × 40 columns</p>\n",
       "</div>"
      ],
      "text/plain": [
       "   Unnamed: 0  UID  IsBridge Lane Surface Type  LaneMiles   Region_x  \\\n",
       "0         712    1         0               ACP       0.36    Eastern   \n",
       "1         635   24         1               ACP       0.15  Northwest   \n",
       "2        1704   27         0               ACP       0.20  Northwest   \n",
       "3         671   33         0               ACP       0.20  Northwest   \n",
       "4         706   28         0               ACP       0.20  Northwest   \n",
       "\n",
       "                          FFClass SurfaceTypeCode        STDescription  \\\n",
       "0  Urban Other Principal Arterial              BA  ACP CLASS B AR4000W   \n",
       "1  Urban Other Freeway/Expressway              PA                 PCCP   \n",
       "2  Urban Other Freeway/Expressway              AA  ACP CLASS A AR4000W   \n",
       "3  Urban Other Freeway/Expressway              BA  ACP CLASS B AR4000W   \n",
       "4  Urban Other Freeway/Expressway              AA  ACP CLASS A AR4000W   \n",
       "\n",
       "   TreatBaseCode ...  FTCycles  actbthick  pctbthick       ftprep  BA  AA  SR  \\\n",
       "0              3 ...         5        0.5          0  4208.250122   1   0   2   \n",
       "1              0 ...         5        0.0          0  4534.049988   0   0   2   \n",
       "2              0 ...         5        0.0          0  4534.049988   0   1   2   \n",
       "3              0 ...         5        0.0          0  4534.049988   1   0   2   \n",
       "4              0 ...         5        0.0          0  4534.049988   0   1   2   \n",
       "\n",
       "    BMP  SpeedLimit  idx  \n",
       "0  0.00          55    0  \n",
       "1  2.19          55    1  \n",
       "2  2.64          55    2  \n",
       "3  2.75          55    3  \n",
       "4  2.75          55    4  \n",
       "\n",
       "[5 rows x 40 columns]"
      ]
     },
     "execution_count": 121,
     "metadata": {},
     "output_type": "execute_result"
    }
   ],
   "source": [
    "dataset.head()"
   ]
  },
  {
   "cell_type": "code",
   "execution_count": 127,
   "metadata": {
    "collapsed": false
   },
   "outputs": [],
   "source": [
    "def ImputeSpeed(row):\n",
    "    speed = row['SpeedLimit']\n",
    "    idx   = row['idx']\n",
    "    sr    = row['SR']\n",
    "    mp    = row['BMP']\n",
    "    if np.isnan(speed) & (mp == 0):\n",
    "        dataset.loc[idx, 'SpeedLimit'] = 0\n",
    "        return None\n",
    "    elif np.isnan(speed):\n",
    "        dataset.loc[idx, 'SpeedLimit'] = dataset.loc[(idx-1), 'SpeedLimit']\n",
    "        return None     \n",
    "    else:\n",
    "        return None"
   ]
  },
  {
   "cell_type": "code",
   "execution_count": 128,
   "metadata": {
    "collapsed": false
   },
   "outputs": [],
   "source": [
    "res = dataset.apply(ImputeSpeed, axis = 1)"
   ]
  },
  {
   "cell_type": "code",
   "execution_count": 131,
   "metadata": {
    "collapsed": false
   },
   "outputs": [
    {
     "name": "stdout",
     "output_type": "stream",
     "text": [
      "0\n"
     ]
    }
   ],
   "source": [
    "print len(dataset[dataset.SpeedLimit ==0])"
   ]
  },
  {
   "cell_type": "code",
   "execution_count": 132,
   "metadata": {
    "collapsed": false
   },
   "outputs": [
    {
     "data": {
      "text/plain": [
       "array([ 55.,  60.,  45.,  50.,  35.,  30.,  65.,  25.,  40.,  70.])"
      ]
     },
     "execution_count": 132,
     "metadata": {},
     "output_type": "execute_result"
    }
   ],
   "source": [
    "dataset.SpeedLimit.unique()"
   ]
  },
  {
   "cell_type": "code",
   "execution_count": 133,
   "metadata": {
    "collapsed": false
   },
   "outputs": [
    {
     "data": {
      "text/plain": [
       "Index([u'Unnamed: 0', u'UID', u'IsBridge', u'Lane Surface Type', u'LaneMiles',\n",
       "       u'Region_x', u'FFClass', u'SurfaceTypeCode', u'STDescription',\n",
       "       u'TreatBaseCode', u'TreatBaseDescription', u'TBThick', u'untrthick',\n",
       "       u'Y_ESAL', u'MajorRehabYear', u'Cum_ESAL', u'SURFTHK', u'ULT',\n",
       "       u'TSfThick', u'tmin', u'tmax', u'cumESALs', u'IRIsi', u'Alli', u'Long',\n",
       "       u'E_Alli', u'E_Long', u'prep', u'MinT', u'MaxT', u'FTCycles',\n",
       "       u'actbthick', u'pctbthick', u'ftprep', u'BA', u'AA', u'SR', u'BMP',\n",
       "       u'SpeedLimit', u'idx'],\n",
       "      dtype='object')"
      ]
     },
     "execution_count": 133,
     "metadata": {},
     "output_type": "execute_result"
    }
   ],
   "source": [
    "dataset.columns"
   ]
  },
  {
   "cell_type": "code",
   "execution_count": 136,
   "metadata": {
    "collapsed": true
   },
   "outputs": [],
   "source": [
    "rdat = dataset[[ u'UID', u'IsBridge', u'Lane Surface Type', u'LaneMiles',\n",
    "       u'Region_x', u'FFClass', u'SurfaceTypeCode', u'STDescription',\n",
    "       u'TreatBaseCode', u'TreatBaseDescription', u'TBThick', u'untrthick',\n",
    "       u'Y_ESAL', u'MajorRehabYear', u'Cum_ESAL', u'SURFTHK', u'ULT',\n",
    "       u'TSfThick', u'tmin', u'tmax', u'cumESALs', u'IRIsi', u'Alli', u'Long',\n",
    "       u'E_Alli', u'E_Long', u'prep', u'MinT', u'MaxT', u'FTCycles',\n",
    "       u'actbthick', u'pctbthick', u'ftprep', u'BA', u'AA', u'SR', u'BMP',\n",
    "       u'SpeedLimit']]"
   ]
  },
  {
   "cell_type": "code",
   "execution_count": 137,
   "metadata": {
    "collapsed": false
   },
   "outputs": [],
   "source": [
    "rdat.to_csv('../modelDatasets/MCdata.csv')"
   ]
  },
  {
   "cell_type": "code",
   "execution_count": 138,
   "metadata": {
    "collapsed": true
   },
   "outputs": [],
   "source": [
    "speeds = np.sort(dataset.SpeedLimit.unique())"
   ]
  },
  {
   "cell_type": "code",
   "execution_count": 139,
   "metadata": {
    "collapsed": false
   },
   "outputs": [
    {
     "data": {
      "text/plain": [
       "array([ 25.,  30.,  35.,  40.,  45.,  50.,  55.,  60.,  65.,  70.])"
      ]
     },
     "execution_count": 139,
     "metadata": {},
     "output_type": "execute_result"
    }
   ],
   "source": [
    "speeds"
   ]
  }
 ],
 "metadata": {
  "kernelspec": {
   "display_name": "Python 2",
   "language": "python",
   "name": "python2"
  },
  "language_info": {
   "codemirror_mode": {
    "name": "ipython",
    "version": 2
   },
   "file_extension": ".py",
   "mimetype": "text/x-python",
   "name": "python",
   "nbconvert_exporter": "python",
   "pygments_lexer": "ipython2",
   "version": "2.7.10"
  }
 },
 "nbformat": 4,
 "nbformat_minor": 0
}
