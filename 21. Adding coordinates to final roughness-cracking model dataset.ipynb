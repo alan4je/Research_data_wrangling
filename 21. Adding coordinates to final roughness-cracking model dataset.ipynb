{
 "cells": [
  {
   "cell_type": "code",
   "execution_count": 1,
   "metadata": {
    "collapsed": true
   },
   "outputs": [],
   "source": [
    "import pandas as pd, numpy as np"
   ]
  },
  {
   "cell_type": "code",
   "execution_count": 2,
   "metadata": {
    "collapsed": true
   },
   "outputs": [],
   "source": [
    "ds = pd.read_csv('../modelDatasets/rcModelData1215.csv')"
   ]
  },
  {
   "cell_type": "code",
   "execution_count": 3,
   "metadata": {
    "collapsed": false
   },
   "outputs": [
    {
     "name": "stdout",
     "output_type": "stream",
     "text": [
      "10256\n"
     ]
    },
    {
     "data": {
      "text/html": [
       "<div>\n",
       "<table border=\"1\" class=\"dataframe\">\n",
       "  <thead>\n",
       "    <tr style=\"text-align: right;\">\n",
       "      <th></th>\n",
       "      <th>Unnamed: 0</th>\n",
       "      <th>UID</th>\n",
       "      <th>sYear</th>\n",
       "      <th>Rutting</th>\n",
       "      <th>IRI</th>\n",
       "      <th>PSC</th>\n",
       "      <th>Alli</th>\n",
       "      <th>Long</th>\n",
       "      <th>Is Bridge</th>\n",
       "      <th>Lane Miles</th>\n",
       "      <th>...</th>\n",
       "      <th>IRIsi</th>\n",
       "      <th>esals</th>\n",
       "      <th>ppt</th>\n",
       "      <th>mint</th>\n",
       "      <th>maxt</th>\n",
       "      <th>ICAO</th>\n",
       "      <th>ftc</th>\n",
       "      <th>SR</th>\n",
       "      <th>Begin ARM</th>\n",
       "      <th>End ARM</th>\n",
       "    </tr>\n",
       "  </thead>\n",
       "  <tbody>\n",
       "    <tr>\n",
       "      <th>0</th>\n",
       "      <td>25095</td>\n",
       "      <td>1</td>\n",
       "      <td>1988</td>\n",
       "      <td>0.748</td>\n",
       "      <td>17.736993</td>\n",
       "      <td>67</td>\n",
       "      <td>0.001370</td>\n",
       "      <td>0.056856</td>\n",
       "      <td>0</td>\n",
       "      <td>0.36</td>\n",
       "      <td>...</td>\n",
       "      <td>3.359280</td>\n",
       "      <td>17996.598271</td>\n",
       "      <td>918.010010</td>\n",
       "      <td>33.584</td>\n",
       "      <td>74.336001</td>\n",
       "      <td>KPAE</td>\n",
       "      <td>5</td>\n",
       "      <td>2</td>\n",
       "      <td>0</td>\n",
       "      <td>0.1</td>\n",
       "    </tr>\n",
       "    <tr>\n",
       "      <th>1</th>\n",
       "      <td>26540</td>\n",
       "      <td>1</td>\n",
       "      <td>1989</td>\n",
       "      <td>0.236</td>\n",
       "      <td>17.736993</td>\n",
       "      <td>82</td>\n",
       "      <td>0.000000</td>\n",
       "      <td>0.029924</td>\n",
       "      <td>0</td>\n",
       "      <td>0.36</td>\n",
       "      <td>...</td>\n",
       "      <td>3.359280</td>\n",
       "      <td>18686.830557</td>\n",
       "      <td>833.750000</td>\n",
       "      <td>26.042</td>\n",
       "      <td>72.968000</td>\n",
       "      <td>KPAE</td>\n",
       "      <td>11</td>\n",
       "      <td>2</td>\n",
       "      <td>0</td>\n",
       "      <td>0.1</td>\n",
       "    </tr>\n",
       "    <tr>\n",
       "      <th>2</th>\n",
       "      <td>28193</td>\n",
       "      <td>1</td>\n",
       "      <td>1990</td>\n",
       "      <td>0.236</td>\n",
       "      <td>18.159243</td>\n",
       "      <td>82</td>\n",
       "      <td>0.000000</td>\n",
       "      <td>0.029924</td>\n",
       "      <td>0</td>\n",
       "      <td>0.36</td>\n",
       "      <td>...</td>\n",
       "      <td>3.439252</td>\n",
       "      <td>19088.431115</td>\n",
       "      <td>1106.859985</td>\n",
       "      <td>28.454</td>\n",
       "      <td>76.333998</td>\n",
       "      <td>KPAE</td>\n",
       "      <td>18</td>\n",
       "      <td>2</td>\n",
       "      <td>0</td>\n",
       "      <td>0.1</td>\n",
       "    </tr>\n",
       "    <tr>\n",
       "      <th>3</th>\n",
       "      <td>29936</td>\n",
       "      <td>1</td>\n",
       "      <td>1991</td>\n",
       "      <td>0.236</td>\n",
       "      <td>18.159243</td>\n",
       "      <td>71</td>\n",
       "      <td>0.000000</td>\n",
       "      <td>0.056856</td>\n",
       "      <td>0</td>\n",
       "      <td>0.36</td>\n",
       "      <td>...</td>\n",
       "      <td>3.439252</td>\n",
       "      <td>19903.607821</td>\n",
       "      <td>848.960022</td>\n",
       "      <td>32.378</td>\n",
       "      <td>77.666002</td>\n",
       "      <td>KPAE</td>\n",
       "      <td>5</td>\n",
       "      <td>2</td>\n",
       "      <td>0</td>\n",
       "      <td>0.1</td>\n",
       "    </tr>\n",
       "    <tr>\n",
       "      <th>4</th>\n",
       "      <td>15536</td>\n",
       "      <td>1</td>\n",
       "      <td>1996</td>\n",
       "      <td>0.276</td>\n",
       "      <td>20.059659</td>\n",
       "      <td>66</td>\n",
       "      <td>0.010038</td>\n",
       "      <td>0.056856</td>\n",
       "      <td>0</td>\n",
       "      <td>0.36</td>\n",
       "      <td>...</td>\n",
       "      <td>3.799179</td>\n",
       "      <td>22868.344489</td>\n",
       "      <td>1188.750000</td>\n",
       "      <td>32.054</td>\n",
       "      <td>77.575999</td>\n",
       "      <td>KPAE</td>\n",
       "      <td>24</td>\n",
       "      <td>2</td>\n",
       "      <td>0</td>\n",
       "      <td>0.1</td>\n",
       "    </tr>\n",
       "  </tbody>\n",
       "</table>\n",
       "<p>5 rows × 33 columns</p>\n",
       "</div>"
      ],
      "text/plain": [
       "   Unnamed: 0  UID  sYear  Rutting        IRI  PSC      Alli      Long  \\\n",
       "0       25095    1   1988    0.748  17.736993   67  0.001370  0.056856   \n",
       "1       26540    1   1989    0.236  17.736993   82  0.000000  0.029924   \n",
       "2       28193    1   1990    0.236  18.159243   82  0.000000  0.029924   \n",
       "3       29936    1   1991    0.236  18.159243   71  0.000000  0.056856   \n",
       "4       15536    1   1996    0.276  20.059659   66  0.010038  0.056856   \n",
       "\n",
       "   Is Bridge  Lane Miles   ...        IRIsi         esals          ppt  \\\n",
       "0          0        0.36   ...     3.359280  17996.598271   918.010010   \n",
       "1          0        0.36   ...     3.359280  18686.830557   833.750000   \n",
       "2          0        0.36   ...     3.439252  19088.431115  1106.859985   \n",
       "3          0        0.36   ...     3.439252  19903.607821   848.960022   \n",
       "4          0        0.36   ...     3.799179  22868.344489  1188.750000   \n",
       "\n",
       "     mint       maxt  ICAO  ftc  SR  Begin ARM  End ARM  \n",
       "0  33.584  74.336001  KPAE    5   2          0      0.1  \n",
       "1  26.042  72.968000  KPAE   11   2          0      0.1  \n",
       "2  28.454  76.333998  KPAE   18   2          0      0.1  \n",
       "3  32.378  77.666002  KPAE    5   2          0      0.1  \n",
       "4  32.054  77.575999  KPAE   24   2          0      0.1  \n",
       "\n",
       "[5 rows x 33 columns]"
      ]
     },
     "execution_count": 3,
     "metadata": {},
     "output_type": "execute_result"
    }
   ],
   "source": [
    "print len(ds)\n",
    "ds.head()"
   ]
  },
  {
   "cell_type": "code",
   "execution_count": 4,
   "metadata": {
    "collapsed": true
   },
   "outputs": [],
   "source": [
    "cd = pd.read_csv('../FinalDatasets/RCsegCoord.csv')"
   ]
  },
  {
   "cell_type": "code",
   "execution_count": 5,
   "metadata": {
    "collapsed": false
   },
   "outputs": [
    {
     "data": {
      "text/html": [
       "<div>\n",
       "<table border=\"1\" class=\"dataframe\">\n",
       "  <thead>\n",
       "    <tr style=\"text-align: right;\">\n",
       "      <th></th>\n",
       "      <th>Unnamed: 0</th>\n",
       "      <th>Unnamed: 0.1</th>\n",
       "      <th>UID</th>\n",
       "      <th>Longitude</th>\n",
       "      <th>Latitude</th>\n",
       "    </tr>\n",
       "  </thead>\n",
       "  <tbody>\n",
       "    <tr>\n",
       "      <th>0</th>\n",
       "      <td>0</td>\n",
       "      <td>0</td>\n",
       "      <td>222</td>\n",
       "      <td>-121.802218</td>\n",
       "      <td>47.860322</td>\n",
       "    </tr>\n",
       "    <tr>\n",
       "      <th>1</th>\n",
       "      <td>1</td>\n",
       "      <td>1</td>\n",
       "      <td>540</td>\n",
       "      <td>-121.252570</td>\n",
       "      <td>47.715980</td>\n",
       "    </tr>\n",
       "    <tr>\n",
       "      <th>2</th>\n",
       "      <td>2</td>\n",
       "      <td>2</td>\n",
       "      <td>2431</td>\n",
       "      <td>-118.301093</td>\n",
       "      <td>47.646535</td>\n",
       "    </tr>\n",
       "    <tr>\n",
       "      <th>3</th>\n",
       "      <td>3</td>\n",
       "      <td>3</td>\n",
       "      <td>704</td>\n",
       "      <td>-121.000382</td>\n",
       "      <td>47.774584</td>\n",
       "    </tr>\n",
       "    <tr>\n",
       "      <th>4</th>\n",
       "      <td>4</td>\n",
       "      <td>4</td>\n",
       "      <td>776</td>\n",
       "      <td>-120.868954</td>\n",
       "      <td>47.787672</td>\n",
       "    </tr>\n",
       "  </tbody>\n",
       "</table>\n",
       "</div>"
      ],
      "text/plain": [
       "   Unnamed: 0  Unnamed: 0.1   UID   Longitude   Latitude\n",
       "0           0             0   222 -121.802218  47.860322\n",
       "1           1             1   540 -121.252570  47.715980\n",
       "2           2             2  2431 -118.301093  47.646535\n",
       "3           3             3   704 -121.000382  47.774584\n",
       "4           4             4   776 -120.868954  47.787672"
      ]
     },
     "execution_count": 5,
     "metadata": {},
     "output_type": "execute_result"
    }
   ],
   "source": [
    "cd.head()"
   ]
  },
  {
   "cell_type": "code",
   "execution_count": 6,
   "metadata": {
    "collapsed": true
   },
   "outputs": [],
   "source": [
    "df = ds.drop_duplicates(subset = ['UID'])"
   ]
  },
  {
   "cell_type": "code",
   "execution_count": 7,
   "metadata": {
    "collapsed": false
   },
   "outputs": [
    {
     "name": "stdout",
     "output_type": "stream",
     "text": [
      "True\n"
     ]
    }
   ],
   "source": [
    "print len(df[df.UID.isin(cd.UID)]) == len(df)"
   ]
  },
  {
   "cell_type": "code",
   "execution_count": 8,
   "metadata": {
    "collapsed": false
   },
   "outputs": [
    {
     "name": "stdout",
     "output_type": "stream",
     "text": [
      "True\n"
     ]
    }
   ],
   "source": [
    "mds = pd.merge(df,cd, how = 'left', left_on = 'UID', right_on = 'UID')\n",
    "print len(mds) == len(df)"
   ]
  },
  {
   "cell_type": "code",
   "execution_count": 9,
   "metadata": {
    "collapsed": false
   },
   "outputs": [
    {
     "data": {
      "text/html": [
       "<div>\n",
       "<table border=\"1\" class=\"dataframe\">\n",
       "  <thead>\n",
       "    <tr style=\"text-align: right;\">\n",
       "      <th></th>\n",
       "      <th>UID</th>\n",
       "      <th>Latitude</th>\n",
       "      <th>Longitude</th>\n",
       "    </tr>\n",
       "  </thead>\n",
       "  <tbody>\n",
       "    <tr>\n",
       "      <th>0</th>\n",
       "      <td>1</td>\n",
       "      <td>47.978215</td>\n",
       "      <td>-122.169366</td>\n",
       "    </tr>\n",
       "    <tr>\n",
       "      <th>1</th>\n",
       "      <td>27</td>\n",
       "      <td>47.978414</td>\n",
       "      <td>-122.133338</td>\n",
       "    </tr>\n",
       "    <tr>\n",
       "      <th>2</th>\n",
       "      <td>43</td>\n",
       "      <td>47.958874</td>\n",
       "      <td>-122.102727</td>\n",
       "    </tr>\n",
       "    <tr>\n",
       "      <th>3</th>\n",
       "      <td>66</td>\n",
       "      <td>47.947539</td>\n",
       "      <td>-122.070079</td>\n",
       "    </tr>\n",
       "    <tr>\n",
       "      <th>4</th>\n",
       "      <td>81</td>\n",
       "      <td>47.922928</td>\n",
       "      <td>-122.062374</td>\n",
       "    </tr>\n",
       "  </tbody>\n",
       "</table>\n",
       "</div>"
      ],
      "text/plain": [
       "   UID   Latitude   Longitude\n",
       "0    1  47.978215 -122.169366\n",
       "1   27  47.978414 -122.133338\n",
       "2   43  47.958874 -122.102727\n",
       "3   66  47.947539 -122.070079\n",
       "4   81  47.922928 -122.062374"
      ]
     },
     "execution_count": 9,
     "metadata": {},
     "output_type": "execute_result"
    }
   ],
   "source": [
    "rds = mds[['UID', 'Latitude', 'Longitude']]\n",
    "rds.head()"
   ]
  },
  {
   "cell_type": "code",
   "execution_count": 10,
   "metadata": {
    "collapsed": false
   },
   "outputs": [
    {
     "name": "stdout",
     "output_type": "stream",
     "text": [
      "1960\n"
     ]
    }
   ],
   "source": [
    "print len(rds)\n",
    "rds.columns = ['UID', 'latitude', 'longitude']"
   ]
  },
  {
   "cell_type": "code",
   "execution_count": 11,
   "metadata": {
    "collapsed": true
   },
   "outputs": [],
   "source": [
    "rds.to_csv('../modelDatasets/rm_seg_coords.csv') # Roughness model"
   ]
  },
  {
   "cell_type": "code",
   "execution_count": null,
   "metadata": {
    "collapsed": true
   },
   "outputs": [],
   "source": []
  }
 ],
 "metadata": {
  "kernelspec": {
   "display_name": "Python 2",
   "language": "python",
   "name": "python2"
  },
  "language_info": {
   "codemirror_mode": {
    "name": "ipython",
    "version": 2
   },
   "file_extension": ".py",
   "mimetype": "text/x-python",
   "name": "python",
   "nbconvert_exporter": "python",
   "pygments_lexer": "ipython2",
   "version": "2.7.10"
  }
 },
 "nbformat": 4,
 "nbformat_minor": 0
}
