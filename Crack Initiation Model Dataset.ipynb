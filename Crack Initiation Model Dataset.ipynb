{
 "cells": [
  {
   "cell_type": "code",
   "execution_count": 3,
   "metadata": {
    "collapsed": true
   },
   "outputs": [],
   "source": [
    "import numpy as np\n",
    "import pandas as pd\n",
    "import xlsxwriter"
   ]
  },
  {
   "cell_type": "code",
   "execution_count": 4,
   "metadata": {
    "collapsed": false
   },
   "outputs": [],
   "source": [
    "T= pd.read_excel(\"../DataFiles/Traffic to Contract History.xlsx\")\n",
    "dbCH= pd.read_excel(\"../DataFiles/Contract History.xlsx\")\n",
    "dbCO= pd.read_excel(\"../DataFiles/Contracts.xlsx\")\n",
    "SU = pd.read_excel(\"../DataFiles/Survey Units.xlsx\")\n",
    "SDD = pd.read_excel(\"../DataFiles/Survey Distress Details.xlsx\")"
   ]
  },
  {
   "cell_type": "code",
   "execution_count": 5,
   "metadata": {
    "collapsed": true
   },
   "outputs": [],
   "source": [
    "#Selecting the required columns from the datasets\n",
    "dbT = T[['Traffic Year', 'Traffic Year ESALs _One Direction_', 'Contract History ID']]\n",
    "dbT.columns = ['Traffic Year', 'ESALs', 'Contract History ID'] #remaning the column titles for traffic df.\n",
    "dbCH = dbCH[['SR','Begin ARM', 'End ARM', 'Region', 'ID', 'Construction Year', 'Major Rehab Year', 'Segment Lane Miles', \n",
    "            'ESALs Since Major Rehab', 'Total Thickness', 'Total Surface Thickness', 'Listed Surface Type', 'Pavement Type',\n",
    "            'Construction Pavement Type', 'Major Rehab Type', 'Prior Major Rehab Year', 'Prior Major Rehab Type']]\n",
    "dbC = dbCO[['SR', 'Begin ARM', 'End ARM', 'ID','Construction End Date','Substantial Completion Date','Contract Type Description', 'Surface Type Code', 'Surface Type Description', 'Surface Thickness',\n",
    "          'Treat Base Type Code', 'Treat Base Type Description', 'Treat Base Thickness', 'UTreat Base Thickness']]"
   ]
  },
  {
   "cell_type": "code",
   "execution_count": 6,
   "metadata": {
    "collapsed": true
   },
   "outputs": [],
   "source": [
    "#creating the 'Year' variable in contract history df.\n",
    "def getYear(year):\n",
    "    return int(str(year).split('-')[0])"
   ]
  },
  {
   "cell_type": "code",
   "execution_count": 7,
   "metadata": {
    "collapsed": true
   },
   "outputs": [],
   "source": [
    "yearVec = dbC['Construction End Date'].apply(getYear)"
   ]
  },
  {
   "cell_type": "code",
   "execution_count": 8,
   "metadata": {
    "collapsed": false
   },
   "outputs": [
    {
     "name": "stderr",
     "output_type": "stream",
     "text": [
      "/home/guerrero/anaconda/lib/python2.7/site-packages/pandas/core/indexing.py:249: SettingWithCopyWarning: \n",
      "A value is trying to be set on a copy of a slice from a DataFrame.\n",
      "Try using .loc[row_indexer,col_indexer] = value instead\n",
      "\n",
      "See the the caveats in the documentation: http://pandas.pydata.org/pandas-docs/stable/indexing.html#indexing-view-versus-copy\n",
      "  self.obj[key] = _infer_fill_value(value)\n",
      "/home/guerrero/anaconda/lib/python2.7/site-packages/pandas/core/indexing.py:415: SettingWithCopyWarning: \n",
      "A value is trying to be set on a copy of a slice from a DataFrame.\n",
      "Try using .loc[row_indexer,col_indexer] = value instead\n",
      "\n",
      "See the the caveats in the documentation: http://pandas.pydata.org/pandas-docs/stable/indexing.html#indexing-view-versus-copy\n",
      "  self.obj[item] = s\n"
     ]
    }
   ],
   "source": [
    "dbC.loc[:,'Year'] = yearVec"
   ]
  },
  {
   "cell_type": "code",
   "execution_count": 9,
   "metadata": {
    "collapsed": false
   },
   "outputs": [],
   "source": [
    "# dbC.head()"
   ]
  },
  {
   "cell_type": "code",
   "execution_count": 10,
   "metadata": {
    "collapsed": false
   },
   "outputs": [],
   "source": [
    "#Selecting only segments which have had a resurfacing activity applied\n",
    "SurfType = [u'FIRST STAGE RESURFACING', u'RESURFACE EXISTING RDWY']\n",
    "dbCs = dbC[dbC.loc[:,'Contract Type Description'].isin(SurfType)]"
   ]
  },
  {
   "cell_type": "code",
   "execution_count": 11,
   "metadata": {
    "collapsed": false
   },
   "outputs": [
    {
     "name": "stdout",
     "output_type": "stream",
     "text": [
      "31130\n"
     ]
    }
   ],
   "source": [
    "print len(dbCs)"
   ]
  },
  {
   "cell_type": "code",
   "execution_count": 12,
   "metadata": {
    "collapsed": true
   },
   "outputs": [],
   "source": [
    "db = dbCs[['SR', 'Begin ARM', 'End ARM', 'ID','Year','Contract Type Description', 'Surface Type Code', \n",
    "           'Surface Type Description', 'Surface Thickness']]"
   ]
  },
  {
   "cell_type": "markdown",
   "metadata": {},
   "source": [
    "Merging the Contracts and Contracts-History Datasets"
   ]
  },
  {
   "cell_type": "code",
   "execution_count": 13,
   "metadata": {
    "collapsed": true
   },
   "outputs": [],
   "source": [
    "CCH = pd.merge(db, dbCH, how = 'left',left_on = ['SR', 'Begin ARM', 'End ARM'], \n",
    "                right_on = ['SR', 'Begin ARM', 'End ARM'])"
   ]
  },
  {
   "cell_type": "code",
   "execution_count": 14,
   "metadata": {
    "collapsed": true
   },
   "outputs": [],
   "source": [
    "CCHs = CCH.dropna(axis=0, how='any', thresh=None, subset=['Construction Year'], inplace=False)"
   ]
  },
  {
   "cell_type": "code",
   "execution_count": 15,
   "metadata": {
    "collapsed": false
   },
   "outputs": [
    {
     "name": "stdout",
     "output_type": "stream",
     "text": [
      "28706 49298\n"
     ]
    }
   ],
   "source": [
    "print len(CCHs), len(CCH)"
   ]
  },
  {
   "cell_type": "code",
   "execution_count": 18,
   "metadata": {
    "collapsed": false
   },
   "outputs": [
    {
     "data": {
      "text/plain": [
       "Index([                      u'SR',                      u'RRT',\n",
       "                            u'RRQ',                u'Begin ARM',\n",
       "                        u'End ARM',               u'Begin SRMP',\n",
       "                       u'End SRMP',   u'Direction To Inventory',\n",
       "                    u'Original ID',                 u'Due Year',\n",
       "               u'Due Year Trigger',                u'Is Bridge',\n",
       "                 u'Is Near Tunnel',      u'Is Near RR Crossing',\n",
       "              u'Lane Surface Type',               u'Lane Miles',\n",
       "                         u'Region',                      u'NHS',\n",
       "       u'Federal Functional Class',    u'Avg Construction Date',\n",
       "           u'Avg Major Rehab Date',                   u'Int ID'],\n",
       "      dtype='object')"
      ]
     },
     "execution_count": 18,
     "metadata": {},
     "output_type": "execute_result"
    }
   ],
   "source": [
    "SU.columns"
   ]
  },
  {
   "cell_type": "markdown",
   "metadata": {},
   "source": [
    "Merging dabase to Survey Units dataset"
   ]
  },
  {
   "cell_type": "code",
   "execution_count": 19,
   "metadata": {
    "collapsed": true
   },
   "outputs": [],
   "source": [
    "SUCCH = pd.merge(CCHs, SU, how = 'left',left_on = ['SR', 'Begin ARM', 'End ARM', 'Region', 'Segment Lane Miles'],\n",
    "               right_on = ['SR', 'Begin ARM', 'End ARM', 'Region', 'Lane Miles'])"
   ]
  },
  {
   "cell_type": "code",
   "execution_count": 20,
   "metadata": {
    "collapsed": true
   },
   "outputs": [],
   "source": [
    "#removing unique segments not contained in both datasets\n",
    "db2 = SUCCH.dropna(axis=0, how='any', thresh=None, subset=['Lane Miles'], inplace=False)"
   ]
  },
  {
   "cell_type": "code",
   "execution_count": 21,
   "metadata": {
    "collapsed": false
   },
   "outputs": [
    {
     "name": "stdout",
     "output_type": "stream",
     "text": [
      "91022\n",
      "7351\n",
      "6623\n",
      "1799\n",
      "2506\n"
     ]
    }
   ],
   "source": [
    "print len(SU)\n",
    "print len(db2)\n",
    "print len(db2[db2.loc[:,'Year']>1980])\n",
    "print len(np.unique(np.array(db2[db2.loc[:,'Year']>1980].loc[:, 'Int ID'])))\n",
    "print len(np.unique(np.array(db2[db2.loc[:,'Year']>1980].loc[:, [u'SR', u'Begin ARM', u'End ARM']])))"
   ]
  },
  {
   "cell_type": "markdown",
   "metadata": {},
   "source": [
    "Adding the Survey Details dataset including the cracking variables"
   ]
  },
  {
   "cell_type": "code",
   "execution_count": 22,
   "metadata": {
    "collapsed": true
   },
   "outputs": [],
   "source": [
    "sdd = SDD[[u'Year', u'Low Alligator Cracking', u'Medium Alligator Cracking',u'High Alligator Cracking',\n",
    "          u'Low Flexible Longitudinal Cracking',u'Medium Flexible Longitudinal Cracking', u'High Flexible Longitudinal Cracking',u'Sealed Alligator',\n",
    "           u'Sealed Longitudinal', u'Bridge', u'Int ID']]\n",
    "sdd.columns = [u'YearC', u'Low Alligator Cracking', u'Medium Alligator Cracking',u'High Alligator Cracking',\n",
    "          u'Low Flexible Longitudinal Cracking',u'Medium Flexible Longitudinal Cracking', u'High Flexible Longitudinal Cracking',u'Sealed Alligator',\n",
    "           u'Sealed Longitudinal', u'Bridge', u'Int ID']"
   ]
  },
  {
   "cell_type": "markdown",
   "metadata": {},
   "source": [
    "Merging dabase to Survey-Units-Details dataset\n"
   ]
  },
  {
   "cell_type": "code",
   "execution_count": 23,
   "metadata": {
    "collapsed": true
   },
   "outputs": [],
   "source": [
    "SCV = pd.merge(sdd, db2, how = 'left',left_on = ['Int ID'], right_on = ['Int ID'])"
   ]
  },
  {
   "cell_type": "code",
   "execution_count": 24,
   "metadata": {
    "collapsed": true
   },
   "outputs": [],
   "source": [
    "db3 = SCV.dropna(axis=0, how='any', thresh=None, subset=['Lane Miles'], inplace=False)"
   ]
  },
  {
   "cell_type": "code",
   "execution_count": 25,
   "metadata": {
    "collapsed": false
   },
   "outputs": [
    {
     "name": "stdout",
     "output_type": "stream",
     "text": [
      "87195\n",
      "1555\n"
     ]
    }
   ],
   "source": [
    "print len(db3)\n",
    "print len(np.unique(np.array(db3.loc[:, [u'SR', u'Begin ARM', u'End ARM']])))"
   ]
  },
  {
   "cell_type": "markdown",
   "metadata": {},
   "source": [
    "Merging the cracking distress variables"
   ]
  },
  {
   "cell_type": "code",
   "execution_count": 26,
   "metadata": {
    "collapsed": false
   },
   "outputs": [],
   "source": [
    "#sc is the dataset with selected vars necessary for formulating the crack initiation model\n",
    "sc = db3[[u'YearC', u'Low Alligator Cracking', u'Medium Alligator Cracking', u'High Alligator Cracking',\n",
    "          u'Low Flexible Longitudinal Cracking', u'Medium Flexible Longitudinal Cracking', u'High Flexible Longitudinal Cracking',u'Sealed Alligator',\n",
    "          u'Sealed Longitudinal', u'Int ID', u'SR', u'Begin ARM', u'End ARM', u'Year', u'Contract Type Description',\n",
    "          u'Surface Type Code', u'Surface Type Description', u'Surface Thickness', u'Region', u'ID_y', u'Construction Year',\n",
    "          u'Major Rehab Year', u'Segment Lane Miles', u'ESALs Since Major Rehab', u'Total Thickness', u'Total Surface Thickness',\n",
    "          u'Pavement Type', u'Construction Pavement Type', u'Major Rehab Type',u'Prior Major Rehab Year',\n",
    "          u'Prior Major Rehab Type', u'Original ID', u'Is Bridge', u'Lane Surface Type', u'Lane Miles',\n",
    "                    u'Federal Functional Class',  u'Avg Construction Date',   u'Avg Major Rehab Date']]"
   ]
  },
  {
   "cell_type": "code",
   "execution_count": 27,
   "metadata": {
    "collapsed": false
   },
   "outputs": [],
   "source": [
    "sc.loc[:,'Alli'] = 'nan'\n",
    "sc.loc[:,'CatAlli'] = 'nan'\n",
    "sc.loc[:,\"Long\"] = 'nan'\n",
    "sc.loc[:,\"CatLong\"] = 'nan'"
   ]
  },
  {
   "cell_type": "code",
   "execution_count": 28,
   "metadata": {
    "collapsed": true
   },
   "outputs": [],
   "source": [
    "import math\n",
    "def getAlli(row):\n",
    "    p1 = row[u'Low Alligator Cracking']\n",
    "    p2 = row[u'Medium Alligator Cracking']\n",
    "    p3 = row[u'High Alligator Cracking']\n",
    "    \n",
    "    if not math.isnan(p1):\n",
    "        a = p1\n",
    "    elif not math.isnan(p2):\n",
    "        a = p2\n",
    "    elif not math.isnan(p3):\n",
    "        a = p3\n",
    "        at = 'H'\n",
    "    else:\n",
    "        a = 'nan'\n",
    "    return a"
   ]
  },
  {
   "cell_type": "code",
   "execution_count": 29,
   "metadata": {
    "collapsed": true
   },
   "outputs": [],
   "source": [
    "def getCatAlli(row):\n",
    "    p1 = row[u'Low Alligator Cracking']\n",
    "    p2 = row[u'Medium Alligator Cracking']\n",
    "    p3 = row[u'High Alligator Cracking']\n",
    "    \n",
    "    if not math.isnan(p1):\n",
    "        at = 'L'\n",
    "    elif not math.isnan(p2):\n",
    "        at = 'M'\n",
    "    elif not math.isnan(p3):\n",
    "        at = 'H'\n",
    "    else:\n",
    "        at = 'nan'\n",
    "    return at"
   ]
  },
  {
   "cell_type": "code",
   "execution_count": 30,
   "metadata": {
    "collapsed": true
   },
   "outputs": [],
   "source": [
    "def getLong(row):\n",
    "    p4 = row[u'Low Flexible Longitudinal Cracking']\n",
    "    p5 = row[u'Medium Flexible Longitudinal Cracking']\n",
    "    p6 = row[u'High Flexible Longitudinal Cracking'] \n",
    "        \n",
    "    if not math.isnan(p4):\n",
    "        l = p4\n",
    "    elif not math.isnan(p5):\n",
    "        l = p5\n",
    "    elif not math.isnan(p6):\n",
    "        l = p6\n",
    "    else:\n",
    "        l = 'nan'\n",
    "    return l"
   ]
  },
  {
   "cell_type": "code",
   "execution_count": 31,
   "metadata": {
    "collapsed": true
   },
   "outputs": [],
   "source": [
    "def getCatLong(row):\n",
    "    p4 = row[u'Low Flexible Longitudinal Cracking']\n",
    "    p5 = row[u'Medium Flexible Longitudinal Cracking']\n",
    "    p6 = row[u'High Flexible Longitudinal Cracking'] \n",
    "        \n",
    "    if not math.isnan(p4):\n",
    "        lt = 'L'\n",
    "    elif not math.isnan(p5):\n",
    "        lt = 'M'\n",
    "    elif not math.isnan(p6):\n",
    "        lt = 'H'\n",
    "    else:\n",
    "        lt = 'nan'\n",
    "    return lt"
   ]
  },
  {
   "cell_type": "code",
   "execution_count": 32,
   "metadata": {
    "collapsed": false
   },
   "outputs": [],
   "source": [
    "sc.loc[:,'Alli'] = sc.apply(getAlli, axis =1)\n",
    "sc.loc[:,'CatAlli'] = sc.apply(getCatAlli, axis =1)\n",
    "sc.loc[:,\"Long\"] = sc.apply(getLong, axis =1)\n",
    "sc.loc[:,\"CatLong\"] = sc.apply(getCatLong, axis =1)"
   ]
  },
  {
   "cell_type": "code",
   "execution_count": 33,
   "metadata": {
    "collapsed": true
   },
   "outputs": [],
   "source": [
    "cdb = sc[~((sc.loc[:,'Alli']== 'nan') & (sc.loc[:,'Long']== 'nan'))]"
   ]
  },
  {
   "cell_type": "code",
   "execution_count": 34,
   "metadata": {
    "collapsed": false
   },
   "outputs": [
    {
     "data": {
      "text/plain": [
       "58321"
      ]
     },
     "execution_count": 34,
     "metadata": {},
     "output_type": "execute_result"
    }
   ],
   "source": [
    "len(cdb)"
   ]
  },
  {
   "cell_type": "code",
   "execution_count": 35,
   "metadata": {
    "collapsed": true
   },
   "outputs": [],
   "source": [
    "df = cdb[[u'YearC',u'Sealed Alligator', u'Sealed Longitudinal', u'Int ID', u'SR', u'Begin ARM', u'End ARM', u'Year', \n",
    "         u'Contract Type Description', u'Surface Type Code', u'Surface Type Description', u'Surface Thickness', \n",
    "         u'Region', u'ID_y', u'Construction Year', u'Major Rehab Year', u'Segment Lane Miles', u'ESALs Since Major Rehab',\n",
    "         u'Total Thickness', u'Total Surface Thickness', u'Pavement Type', u'Construction Pavement Type', \n",
    "         u'Major Rehab Type',u'Prior Major Rehab Year', u'Prior Major Rehab Type', u'Original ID', \n",
    "         u'Is Bridge', u'Lane Surface Type', u'Lane Miles', u'Federal Functional Class',  u'Avg Construction Date', \n",
    "         u'Avg Major Rehab Date', 'Alli', 'CatAlli', 'Long', 'CatLong']]"
   ]
  },
  {
   "cell_type": "code",
   "execution_count": 40,
   "metadata": {
    "collapsed": true
   },
   "outputs": [],
   "source": [
    "def change2Percentage(row):\n",
    "    p = row[u'Alli']\n",
    "    m = row[u'Lane Miles']\n",
    "    if not (p == 'nan'):\n",
    "        return p/(m*5280) * 100\n",
    "    else:\n",
    "        return 'nan'  "
   ]
  },
  {
   "cell_type": "code",
   "execution_count": 41,
   "metadata": {
    "collapsed": true
   },
   "outputs": [],
   "source": [
    "def change2PercentageL(row):\n",
    "    p = row[u'Long']\n",
    "    m = row[u'Lane Miles']\n",
    "    if not (p == 'nan'):\n",
    "        return p/(m*5280) * 100\n",
    "    else:\n",
    "        return 'nan' "
   ]
  },
  {
   "cell_type": "code",
   "execution_count": 42,
   "metadata": {
    "collapsed": false
   },
   "outputs": [],
   "source": [
    "df.loc[:, 'AlliP'] = df.apply(change2Percentage, axis = 1)\n",
    "df.loc[:, 'LongP'] = df.apply(change2PercentageL, axis = 1)"
   ]
  },
  {
   "cell_type": "markdown",
   "metadata": {},
   "source": [
    "Merging the Traffic dataset"
   ]
  },
  {
   "cell_type": "code",
   "execution_count": 45,
   "metadata": {
    "collapsed": true
   },
   "outputs": [],
   "source": [
    "db4 = pd.merge(df, dbT, how = 'left',left_on = ['ID_y'], right_on = ['Contract History ID'])"
   ]
  },
  {
   "cell_type": "code",
   "execution_count": 46,
   "metadata": {
    "collapsed": true
   },
   "outputs": [],
   "source": [
    "df2 = db4.dropna(axis=0, how='any', thresh=None, subset=[u'Traffic Year', u'ESALs'], inplace=False)"
   ]
  },
  {
   "cell_type": "code",
   "execution_count": 47,
   "metadata": {
    "collapsed": false
   },
   "outputs": [
    {
     "name": "stdout",
     "output_type": "stream",
     "text": [
      "52899\n",
      "972\n"
     ]
    }
   ],
   "source": [
    "print len(df2)\n",
    "print len(np.unique(np.array(df2.loc[:, [u'Contract History ID']])))"
   ]
  },
  {
   "cell_type": "code",
   "execution_count": 48,
   "metadata": {
    "collapsed": false
   },
   "outputs": [
    {
     "name": "stderr",
     "output_type": "stream",
     "text": [
      "/home/guerrero/anaconda/lib/python2.7/site-packages/numpy/lib/arraysetops.py:198: FutureWarning: numpy not_equal will not check object identity in the future. The comparison did not return the same result as suggested by the identity (`is`)) and will change.\n",
      "  flag = np.concatenate(([True], aux[1:] != aux[:-1]))\n"
     ]
    }
   ],
   "source": [
    "MatType = np.unique(np.array(df2.loc[:, 'Surface Type Code']))\n",
    "dfst = df2.drop_duplicates(['Contract History ID'])"
   ]
  },
  {
   "cell_type": "code",
   "execution_count": 49,
   "metadata": {
    "collapsed": false
   },
   "outputs": [
    {
     "name": "stdout",
     "output_type": "stream",
     "text": [
      "70\n",
      "972\n"
     ]
    }
   ],
   "source": [
    "print len(MatType)\n",
    "print len(dfst)"
   ]
  },
  {
   "cell_type": "code",
   "execution_count": 60,
   "metadata": {
    "collapsed": false
   },
   "outputs": [],
   "source": [
    "MTdic = {}\n",
    "for mt in MatType[1:]:\n",
    "    n = len(dfst[dfst.loc[:, 'Surface Type Code']==mt])\n",
    "    if n > 30:\n",
    "        MTdic[mt] = n"
   ]
  },
  {
   "cell_type": "code",
   "execution_count": 61,
   "metadata": {
    "collapsed": false
   },
   "outputs": [
    {
     "name": "stdout",
     "output_type": "stream",
     "text": [
      "11\n"
     ]
    }
   ],
   "source": [
    "print len(MTdic)"
   ]
  },
  {
   "cell_type": "code",
   "execution_count": 62,
   "metadata": {
    "collapsed": false
   },
   "outputs": [
    {
     "name": "stdout",
     "output_type": "stream",
     "text": [
      "{u'AA': 34, u'G5': 33, u'BA': 216, u'AI': 34, u'PB': 34, u'Z4': 32, u'A2': 41, u'A5': 37, u'B2': 124, u'X2': 35, u'G2': 60}\n"
     ]
    }
   ],
   "source": [
    "print MTdic"
   ]
  },
  {
   "cell_type": "code",
   "execution_count": 63,
   "metadata": {
    "collapsed": false
   },
   "outputs": [],
   "source": [
    "def catSurfType(row):\n",
    "    st = row['Surface Type Code']\n",
    "    if st in MTdic.keys():\n",
    "        return st\n",
    "    else:\n",
    "        return 'Other'  "
   ]
  },
  {
   "cell_type": "code",
   "execution_count": 64,
   "metadata": {
    "collapsed": false
   },
   "outputs": [
    {
     "name": "stderr",
     "output_type": "stream",
     "text": [
      "/home/guerrero/anaconda/lib/python2.7/site-packages/IPython/kernel/__main__.py:1: SettingWithCopyWarning: \n",
      "A value is trying to be set on a copy of a slice from a DataFrame.\n",
      "Try using .loc[row_indexer,col_indexer] = value instead\n",
      "\n",
      "See the the caveats in the documentation: http://pandas.pydata.org/pandas-docs/stable/indexing.html#indexing-view-versus-copy\n",
      "  if __name__ == '__main__':\n"
     ]
    }
   ],
   "source": [
    "df2[\"STcode\"] = df2.apply(catSurfType, axis = 1)"
   ]
  },
  {
   "cell_type": "code",
   "execution_count": 65,
   "metadata": {
    "collapsed": false
   },
   "outputs": [
    {
     "data": {
      "text/html": [
       "<div>\n",
       "<table border=\"1\" class=\"dataframe\">\n",
       "  <thead>\n",
       "    <tr style=\"text-align: right;\">\n",
       "      <th></th>\n",
       "      <th>YearC</th>\n",
       "      <th>Sealed Alligator</th>\n",
       "      <th>Sealed Longitudinal</th>\n",
       "      <th>Int ID</th>\n",
       "      <th>SR</th>\n",
       "      <th>Begin ARM</th>\n",
       "      <th>End ARM</th>\n",
       "      <th>Year</th>\n",
       "      <th>Contract Type Description</th>\n",
       "      <th>Surface Type Code</th>\n",
       "      <th>...</th>\n",
       "      <th>Alli</th>\n",
       "      <th>CatAlli</th>\n",
       "      <th>Long</th>\n",
       "      <th>CatLong</th>\n",
       "      <th>AlliP</th>\n",
       "      <th>LongP</th>\n",
       "      <th>Traffic Year</th>\n",
       "      <th>ESALs</th>\n",
       "      <th>Contract History ID</th>\n",
       "      <th>STcode</th>\n",
       "    </tr>\n",
       "  </thead>\n",
       "  <tbody>\n",
       "    <tr>\n",
       "      <th>0</th>\n",
       "      <td>2003</td>\n",
       "      <td>NaN</td>\n",
       "      <td>NaN</td>\n",
       "      <td>54964</td>\n",
       "      <td>101</td>\n",
       "      <td>0.53</td>\n",
       "      <td>0.63</td>\n",
       "      <td>1996</td>\n",
       "      <td>RESURFACE EXISTING RDWY</td>\n",
       "      <td>AA</td>\n",
       "      <td>...</td>\n",
       "      <td>21</td>\n",
       "      <td>L</td>\n",
       "      <td>10</td>\n",
       "      <td>L</td>\n",
       "      <td>1.988636</td>\n",
       "      <td>0.9469697</td>\n",
       "      <td>2013</td>\n",
       "      <td>32740</td>\n",
       "      <td>0073c3c3-1b5a-40af-a002-022c09a2875d</td>\n",
       "      <td>AA</td>\n",
       "    </tr>\n",
       "    <tr>\n",
       "      <th>1</th>\n",
       "      <td>2004</td>\n",
       "      <td>NaN</td>\n",
       "      <td>NaN</td>\n",
       "      <td>54964</td>\n",
       "      <td>101</td>\n",
       "      <td>0.53</td>\n",
       "      <td>0.63</td>\n",
       "      <td>1996</td>\n",
       "      <td>RESURFACE EXISTING RDWY</td>\n",
       "      <td>AA</td>\n",
       "      <td>...</td>\n",
       "      <td>10</td>\n",
       "      <td>L</td>\n",
       "      <td>84</td>\n",
       "      <td>L</td>\n",
       "      <td>0.9469697</td>\n",
       "      <td>7.954545</td>\n",
       "      <td>2013</td>\n",
       "      <td>32740</td>\n",
       "      <td>0073c3c3-1b5a-40af-a002-022c09a2875d</td>\n",
       "      <td>AA</td>\n",
       "    </tr>\n",
       "    <tr>\n",
       "      <th>2</th>\n",
       "      <td>2005</td>\n",
       "      <td>NaN</td>\n",
       "      <td>NaN</td>\n",
       "      <td>54964</td>\n",
       "      <td>101</td>\n",
       "      <td>0.53</td>\n",
       "      <td>0.63</td>\n",
       "      <td>1996</td>\n",
       "      <td>RESURFACE EXISTING RDWY</td>\n",
       "      <td>AA</td>\n",
       "      <td>...</td>\n",
       "      <td>21</td>\n",
       "      <td>L</td>\n",
       "      <td>10</td>\n",
       "      <td>L</td>\n",
       "      <td>1.988636</td>\n",
       "      <td>0.9469697</td>\n",
       "      <td>2013</td>\n",
       "      <td>32740</td>\n",
       "      <td>0073c3c3-1b5a-40af-a002-022c09a2875d</td>\n",
       "      <td>AA</td>\n",
       "    </tr>\n",
       "    <tr>\n",
       "      <th>3</th>\n",
       "      <td>2006</td>\n",
       "      <td>NaN</td>\n",
       "      <td>NaN</td>\n",
       "      <td>54964</td>\n",
       "      <td>101</td>\n",
       "      <td>0.53</td>\n",
       "      <td>0.63</td>\n",
       "      <td>1996</td>\n",
       "      <td>RESURFACE EXISTING RDWY</td>\n",
       "      <td>AA</td>\n",
       "      <td>...</td>\n",
       "      <td>21</td>\n",
       "      <td>L</td>\n",
       "      <td>5</td>\n",
       "      <td>L</td>\n",
       "      <td>1.988636</td>\n",
       "      <td>0.4734848</td>\n",
       "      <td>2013</td>\n",
       "      <td>32740</td>\n",
       "      <td>0073c3c3-1b5a-40af-a002-022c09a2875d</td>\n",
       "      <td>AA</td>\n",
       "    </tr>\n",
       "    <tr>\n",
       "      <th>4</th>\n",
       "      <td>2007</td>\n",
       "      <td>NaN</td>\n",
       "      <td>NaN</td>\n",
       "      <td>54964</td>\n",
       "      <td>101</td>\n",
       "      <td>0.53</td>\n",
       "      <td>0.63</td>\n",
       "      <td>1996</td>\n",
       "      <td>RESURFACE EXISTING RDWY</td>\n",
       "      <td>AA</td>\n",
       "      <td>...</td>\n",
       "      <td>nan</td>\n",
       "      <td>nan</td>\n",
       "      <td>5</td>\n",
       "      <td>L</td>\n",
       "      <td>nan</td>\n",
       "      <td>0.4734848</td>\n",
       "      <td>2013</td>\n",
       "      <td>32740</td>\n",
       "      <td>0073c3c3-1b5a-40af-a002-022c09a2875d</td>\n",
       "      <td>AA</td>\n",
       "    </tr>\n",
       "  </tbody>\n",
       "</table>\n",
       "<p>5 rows × 42 columns</p>\n",
       "</div>"
      ],
      "text/plain": [
       "   YearC  Sealed Alligator  Sealed Longitudinal  Int ID   SR  Begin ARM  \\\n",
       "0   2003               NaN                  NaN   54964  101       0.53   \n",
       "1   2004               NaN                  NaN   54964  101       0.53   \n",
       "2   2005               NaN                  NaN   54964  101       0.53   \n",
       "3   2006               NaN                  NaN   54964  101       0.53   \n",
       "4   2007               NaN                  NaN   54964  101       0.53   \n",
       "\n",
       "   End ARM  Year Contract Type Description Surface Type Code   ...   Alli  \\\n",
       "0     0.63  1996   RESURFACE EXISTING RDWY                AA   ...     21   \n",
       "1     0.63  1996   RESURFACE EXISTING RDWY                AA   ...     10   \n",
       "2     0.63  1996   RESURFACE EXISTING RDWY                AA   ...     21   \n",
       "3     0.63  1996   RESURFACE EXISTING RDWY                AA   ...     21   \n",
       "4     0.63  1996   RESURFACE EXISTING RDWY                AA   ...    nan   \n",
       "\n",
       "   CatAlli Long CatLong      AlliP      LongP  Traffic Year  ESALs  \\\n",
       "0        L   10       L   1.988636  0.9469697          2013  32740   \n",
       "1        L   84       L  0.9469697   7.954545          2013  32740   \n",
       "2        L   10       L   1.988636  0.9469697          2013  32740   \n",
       "3        L    5       L   1.988636  0.4734848          2013  32740   \n",
       "4      nan    5       L        nan  0.4734848          2013  32740   \n",
       "\n",
       "                    Contract History ID  STcode  \n",
       "0  0073c3c3-1b5a-40af-a002-022c09a2875d      AA  \n",
       "1  0073c3c3-1b5a-40af-a002-022c09a2875d      AA  \n",
       "2  0073c3c3-1b5a-40af-a002-022c09a2875d      AA  \n",
       "3  0073c3c3-1b5a-40af-a002-022c09a2875d      AA  \n",
       "4  0073c3c3-1b5a-40af-a002-022c09a2875d      AA  \n",
       "\n",
       "[5 rows x 42 columns]"
      ]
     },
     "execution_count": 65,
     "metadata": {},
     "output_type": "execute_result"
    }
   ],
   "source": [
    "df2.head()"
   ]
  },
  {
   "cell_type": "code",
   "execution_count": 66,
   "metadata": {
    "collapsed": true
   },
   "outputs": [],
   "source": [
    "df2.to_excel(\"../DataFiles/RcrackModeldataset.xlsx\")"
   ]
  },
  {
   "cell_type": "code",
   "execution_count": null,
   "metadata": {
    "collapsed": true
   },
   "outputs": [],
   "source": []
  }
 ],
 "metadata": {
  "kernelspec": {
   "display_name": "Python 2",
   "language": "python",
   "name": "python2"
  },
  "language_info": {
   "codemirror_mode": {
    "name": "ipython",
    "version": 2
   },
   "file_extension": ".py",
   "mimetype": "text/x-python",
   "name": "python",
   "nbconvert_exporter": "python",
   "pygments_lexer": "ipython2",
   "version": "2.7.10"
  }
 },
 "nbformat": 4,
 "nbformat_minor": 0
}
