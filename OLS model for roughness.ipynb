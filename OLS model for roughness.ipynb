{
 "cells": [
  {
   "cell_type": "code",
   "execution_count": 1,
   "metadata": {
    "collapsed": true
   },
   "outputs": [],
   "source": [
    "import pandas as pd\n",
    "import statsmodels.api as sm\n",
    "import pylab as pl\n",
    "import numpy as np"
   ]
  },
  {
   "cell_type": "code",
   "execution_count": 2,
   "metadata": {
    "collapsed": false
   },
   "outputs": [],
   "source": [
    "df = pd.read_csv('../modelDatasets/CIMdataset.csv')"
   ]
  },
  {
   "cell_type": "code",
   "execution_count": 4,
   "metadata": {
    "collapsed": false
   },
   "outputs": [
    {
     "data": {
      "text/plain": [
       "Index([u'Unnamed: 0', u'Unnamed: 0.1', u'sYear', u'IntID', u'Rutting', u'IRI',\n",
       "       u'PSC', u'PPC', u'PRC', u'Alli', u'Long', u'SR', u'Begin ARM',\n",
       "       u'End ARM', u'UID', u'Is Bridge', u'Lane Surface Type', u'Lane Miles',\n",
       "       u'Region_x', u'Federal Functional Class', u'Construction End Date',\n",
       "       u'Substantial Completion Date', u'Contract Type Description',\n",
       "       u'Surface Type Code', u'Surface Type Description', u'Surface Thickness',\n",
       "       u'Treat Base Type Code', u'Treat Base Type Description',\n",
       "       u'Treat Base Thickness', u'UTreat Base Thickness', u'cYear',\n",
       "       u'Traffic Year', u'ESALs', u'Construction Year', u'Major Rehab Year',\n",
       "       u'Segment Lane Miles', u'ESALs Since Major Rehab', u'Total Thickness',\n",
       "       u'Total Surface Thickness', u'Listed Surface Type', u'Pavement Type',\n",
       "       u'Construction Pavement Type', u'Major Rehab Type',\n",
       "       u'Prior Major Rehab Year', u'Prior Major Rehab Type', u'sfThick',\n",
       "       u'Tthick', u'TSfThick', u'STcode', u'cumPPT', u'meanMinTemp',\n",
       "       u'meanMaxTemp', u'cumESALs', u'cumFTC', u'IRIsi', u'pAlli', u'pLong',\n",
       "       u'ciYear', u'ciAlli', u'ciLong', u'ciCumESALs', u'ciMMinT', u'ciMMaxT',\n",
       "       u'ciCumPPT', u'ciCumFTC', u'prevAlli', u'prevLong'],\n",
       "      dtype='object')"
      ]
     },
     "execution_count": 4,
     "metadata": {},
     "output_type": "execute_result"
    }
   ],
   "source": [
    "df.columns"
   ]
  },
  {
   "cell_type": "code",
   "execution_count": 14,
   "metadata": {
    "collapsed": false
   },
   "outputs": [
    {
     "data": {
      "text/plain": [
       "BA    189\n",
       "Z2     49\n",
       "AA     46\n",
       "dtype: int64"
      ]
     },
     "execution_count": 14,
     "metadata": {},
     "output_type": "execute_result"
    }
   ],
   "source": [
    "df['Surface Type Code'].value_counts().head(3)"
   ]
  },
  {
   "cell_type": "code",
   "execution_count": 15,
   "metadata": {
    "collapsed": true
   },
   "outputs": [],
   "source": [
    "def getCode(row):\n",
    "    code = row['Surface Type Code']\n",
    "    if code in ['BA', 'Z2', 'AA']:\n",
    "        return code\n",
    "    return 'Other'"
   ]
  },
  {
   "cell_type": "code",
   "execution_count": 16,
   "metadata": {
    "collapsed": true
   },
   "outputs": [],
   "source": [
    "df['stCode'] = df.apply(getCode, axis = 1)"
   ]
  },
  {
   "cell_type": "code",
   "execution_count": 19,
   "metadata": {
    "collapsed": false
   },
   "outputs": [
    {
     "name": "stdout",
     "output_type": "stream",
     "text": [
      "2.65151515152\n",
      "12.5\n"
     ]
    }
   ],
   "source": [
    "#Chose to leave out the effect of the base thicknesses due to insufficient dataset\n",
    "print len(df[df['Treat Base Thickness'] > 0])*100.0/len(df)\n",
    "print len(df[df['UTreat Base Thickness'] > 0])*100.0/len(df)"
   ]
  },
  {
   "cell_type": "code",
   "execution_count": 20,
   "metadata": {
    "collapsed": false
   },
   "outputs": [],
   "source": [
    "df['cumFTPrep'] = df['ciCumPPT'].mul(df['ciCumFTC'])"
   ]
  },
  {
   "cell_type": "code",
   "execution_count": 24,
   "metadata": {
    "collapsed": false
   },
   "outputs": [],
   "source": [
    "df['LcumFTPrep'] = np.log(df['cumFTPrep'].add(1))"
   ]
  },
  {
   "cell_type": "code",
   "execution_count": 25,
   "metadata": {
    "collapsed": false
   },
   "outputs": [
    {
     "data": {
      "text/plain": [
       "count    528.000000\n",
       "mean      10.641068\n",
       "std        4.315993\n",
       "min        0.000000\n",
       "25%       10.923617\n",
       "50%       12.119837\n",
       "75%       12.989179\n",
       "max       16.753121\n",
       "Name: LcumFTPrep, dtype: float64"
      ]
     },
     "execution_count": 25,
     "metadata": {},
     "output_type": "execute_result"
    }
   ],
   "source": [
    "df['LcumFTPrep'].describe()"
   ]
  },
  {
   "cell_type": "code",
   "execution_count": 26,
   "metadata": {
    "collapsed": true
   },
   "outputs": [],
   "source": [
    "df['LcumESALs'] = np.log(df['ciCumESALs'].add(1))"
   ]
  },
  {
   "cell_type": "code",
   "execution_count": 27,
   "metadata": {
    "collapsed": false
   },
   "outputs": [
    {
     "data": {
      "text/plain": [
       "count    528.000000\n",
       "mean      12.750448\n",
       "std        1.344799\n",
       "min        8.263571\n",
       "25%       11.966271\n",
       "50%       12.809657\n",
       "75%       13.600466\n",
       "max       16.318268\n",
       "Name: LcumESALs, dtype: float64"
      ]
     },
     "execution_count": 27,
     "metadata": {},
     "output_type": "execute_result"
    }
   ],
   "source": [
    "df['LcumESALs'].describe()"
   ]
  },
  {
   "cell_type": "code",
   "execution_count": 28,
   "metadata": {
    "collapsed": false
   },
   "outputs": [
    {
     "data": {
      "text/plain": [
       "count    528.000000\n",
       "mean      11.340312\n",
       "std        1.198568\n",
       "min        7.469084\n",
       "25%       10.705679\n",
       "50%       11.435963\n",
       "75%       12.052210\n",
       "max       14.604483\n",
       "Name: L_ESALs, dtype: float64"
      ]
     },
     "execution_count": 28,
     "metadata": {},
     "output_type": "execute_result"
    }
   ],
   "source": [
    "df['L_ESALs'] = np.log(df['ESALs'].add(1))\n",
    "df['L_ESALs'].describe()"
   ]
  },
  {
   "cell_type": "code",
   "execution_count": 29,
   "metadata": {
    "collapsed": false
   },
   "outputs": [
    {
     "data": {
      "text/plain": [
       "count      528.000000\n",
       "mean      4677.499255\n",
       "std       3847.977620\n",
       "min        315.529999\n",
       "25%       1761.647495\n",
       "50%       3320.970062\n",
       "75%       6925.090027\n",
       "max      21811.219971\n",
       "Name: ciCumPPT, dtype: float64"
      ]
     },
     "execution_count": 29,
     "metadata": {},
     "output_type": "execute_result"
    }
   ],
   "source": [
    "df['ciCumPPT'].describe()"
   ]
  },
  {
   "cell_type": "code",
   "execution_count": 30,
   "metadata": {
    "collapsed": true
   },
   "outputs": [],
   "source": [
    "df['ciCumPPTX1000'] = df['ciCumPPT'].div(1000)"
   ]
  },
  {
   "cell_type": "code",
   "execution_count": 32,
   "metadata": {
    "collapsed": true
   },
   "outputs": [],
   "source": [
    "ds = df[[u'prevAlli', u'prevLong', u'ciAlli', u'ciLong', 'L_ESALs', 'LcumESALs', u'Is Bridge', u'sfThick',u'TSfThick',\n",
    "         u'Tthick', u'stCode', u'ciMMinT', u'ciMMaxT', 'ciCumPPTX1000', 'LcumFTPrep', u'cumESALs', u'cumFTC', \n",
    "         u'IRIsi', u'pAlli', u'pLong',  u'ciCumESALs', u'meanMinTemp', u'meanMaxTemp',\n",
    "       u'ciCumPPT', u'ciCumFTC',  'cumFTPrep',  u'ESALs', u'cumPPT']]"
   ]
  },
  {
   "cell_type": "code",
   "execution_count": 33,
   "metadata": {
    "collapsed": true
   },
   "outputs": [],
   "source": [
    "ds.columns = [u'prevAlli', u'prevLong', u'ciAlli', u'ciLong', 'L_ESALs', 'LcumESALs', u'IsBridge', u'sfThick',u'TSfThick',\n",
    "         u'Tthick', u'stCode', u'ciMMinT', u'ciMMaxT', 'ciCumPPTX1000', 'LcumFTPrep', u'cumESALs', u'cumFTC', \n",
    "         u'IRIsi', u'pAlli', u'pLong',  u'ciCumESALs', u'meanMinTemp', u'meanMaxTemp',\n",
    "       u'ciCumPPT', u'ciCumFTC',  'cumFTPrep',  u'ESALs', u'cumPPT']"
   ]
  },
  {
   "cell_type": "code",
   "execution_count": 65,
   "metadata": {
    "collapsed": true
   },
   "outputs": [],
   "source": [
    "data = ds[[u'prevAlli', u'prevLong', u'ciAlli', u'ciLong', 'L_ESALs', 'LcumESALs', u'IsBridge', u'sfThick',u'TSfThick',\n",
    "         u'Tthick', u'stCode', u'ciMMinT', u'ciMMaxT', 'ciCumPPTX1000', 'LcumFTPrep', u'ciCumPPT']]"
   ]
  },
  {
   "cell_type": "code",
   "execution_count": 35,
   "metadata": {
    "collapsed": false
   },
   "outputs": [
    {
     "data": {
      "text/plain": [
       "0    510\n",
       "1     18\n",
       "dtype: int64"
      ]
     },
     "execution_count": 35,
     "metadata": {},
     "output_type": "execute_result"
    }
   ],
   "source": [
    "data.IsBridge.value_counts()"
   ]
  },
  {
   "cell_type": "markdown",
   "metadata": {},
   "source": [
    "# Endogeneity Bias Correction for Surface Thickness variable"
   ]
  },
  {
   "cell_type": "code",
   "execution_count": 38,
   "metadata": {
    "collapsed": true
   },
   "outputs": [],
   "source": [
    "def runOLS(y, parameters):\n",
    "    X = data[parameters]\n",
    "    X = sm.add_constant(X)\n",
    "    model = sm.OLS(y, X)\n",
    "    result = model.fit()\n",
    "    return result.summary()"
   ]
  },
  {
   "cell_type": "code",
   "execution_count": 40,
   "metadata": {
    "collapsed": false
   },
   "outputs": [
    {
     "name": "stdout",
     "output_type": "stream",
     "text": [
      "                            OLS Regression Results                            \n",
      "==============================================================================\n",
      "Dep. Variable:                sfThick   R-squared:                       0.105\n",
      "Model:                            OLS   Adj. R-squared:                  0.090\n",
      "Method:                 Least Squares   F-statistic:                     6.764\n",
      "Date:                Sat, 24 Oct 2015   Prob (F-statistic):           3.34e-09\n",
      "Time:                        10:44:36   Log-Likelihood:                 263.10\n",
      "No. Observations:                 528   AIC:                            -506.2\n",
      "Df Residuals:                     518   BIC:                            -463.5\n",
      "Df Model:                           9                                         \n",
      "Covariance Type:            nonrobust                                         \n",
      "=================================================================================\n",
      "                    coef    std err          t      P>|t|      [95.0% Conf. Int.]\n",
      "---------------------------------------------------------------------------------\n",
      "const             0.2277      0.094      2.420      0.016         0.043     0.413\n",
      "prevAlli          0.0011      0.001      1.504      0.133        -0.000     0.002\n",
      "prevLong         -0.0016      0.000     -4.208      0.000        -0.002    -0.001\n",
      "L_ESALs           0.0054      0.006      0.938      0.349        -0.006     0.017\n",
      "TSfThick          0.0550      0.028      1.968      0.050         0.000     0.110\n",
      "Tthick            0.0368      0.015      2.375      0.018         0.006     0.067\n",
      "ciMMinT          -0.0034      0.003     -1.060      0.290        -0.010     0.003\n",
      "ciMMaxT          -0.0050      0.003     -1.750      0.081        -0.011     0.001\n",
      "ciCumPPTX1000    -0.0021      0.002     -0.967      0.334        -0.006     0.002\n",
      "LcumFTPrep       -0.0024      0.002     -1.522      0.129        -0.005     0.001\n",
      "==============================================================================\n",
      "Omnibus:                      197.200   Durbin-Watson:                   1.755\n",
      "Prob(Omnibus):                  0.000   Jarque-Bera (JB):              584.360\n",
      "Skew:                           1.831   Prob(JB):                    1.28e-127\n",
      "Kurtosis:                       6.627   Cond. No.                         553.\n",
      "==============================================================================\n",
      "\n",
      "Warnings:\n",
      "[1] Standard Errors assume that the covariance matrix of the errors is correctly specified.\n"
     ]
    }
   ],
   "source": [
    "y = data.sfThick\n",
    "parameters = [u'prevAlli', u'prevLong', 'L_ESALs', u'TSfThick',\n",
    "             u'Tthick', u'ciMMinT', u'ciMMaxT', 'ciCumPPTX1000', 'LcumFTPrep']\n",
    "run1 = runOLS(y, parameters)\n",
    "print run1"
   ]
  },
  {
   "cell_type": "code",
   "execution_count": 44,
   "metadata": {
    "collapsed": false
   },
   "outputs": [
    {
     "name": "stdout",
     "output_type": "stream",
     "text": [
      "                            OLS Regression Results                            \n",
      "==============================================================================\n",
      "Dep. Variable:                sfThick   R-squared:                       0.097\n",
      "Model:                            OLS   Adj. R-squared:                  0.085\n",
      "Method:                 Least Squares   F-statistic:                     7.950\n",
      "Date:                Sat, 24 Oct 2015   Prob (F-statistic):           3.51e-09\n",
      "Time:                        10:51:07   Log-Likelihood:                 260.61\n",
      "No. Observations:                 528   AIC:                            -505.2\n",
      "Df Residuals:                     520   BIC:                            -471.1\n",
      "Df Model:                           7                                         \n",
      "Covariance Type:            nonrobust                                         \n",
      "==============================================================================\n",
      "                 coef    std err          t      P>|t|      [95.0% Conf. Int.]\n",
      "------------------------------------------------------------------------------\n",
      "const          0.1709      0.083      2.055      0.040         0.007     0.334\n",
      "prevAlli       0.0009      0.001      1.357      0.175        -0.000     0.002\n",
      "prevLong      -0.0015      0.000     -4.104      0.000        -0.002    -0.001\n",
      "L_ESALs        0.0080      0.006      1.414      0.158        -0.003     0.019\n",
      "Tthick         0.0581      0.011      5.291      0.000         0.037     0.080\n",
      "ciMMinT       -0.0035      0.003     -1.083      0.279        -0.010     0.003\n",
      "ciMMaxT       -0.0039      0.003     -1.496      0.135        -0.009     0.001\n",
      "LcumFTPrep    -0.0024      0.002     -1.522      0.129        -0.005     0.001\n",
      "==============================================================================\n",
      "Omnibus:                      201.726   Durbin-Watson:                   1.746\n",
      "Prob(Omnibus):                  0.000   Jarque-Bera (JB):              617.408\n",
      "Skew:                           1.860   Prob(JB):                    8.54e-135\n",
      "Kurtosis:                       6.772   Cond. No.                         484.\n",
      "==============================================================================\n",
      "\n",
      "Warnings:\n",
      "[1] Standard Errors assume that the covariance matrix of the errors is correctly specified.\n"
     ]
    }
   ],
   "source": [
    "y = data.sfThick\n",
    "parameters = [u'prevAlli', u'prevLong', 'L_ESALs',\n",
    "             u'Tthick', u'ciMMinT', u'ciMMaxT', 'LcumFTPrep']\n",
    "run2 = runOLS(y, parameters)\n",
    "print run2"
   ]
  },
  {
   "cell_type": "code",
   "execution_count": 66,
   "metadata": {
    "collapsed": false
   },
   "outputs": [],
   "source": [
    "data.loc[:,'LprevAlli'] = np.log(data.prevAlli.add(0.1))\n",
    "data.loc[:,'LprevLong'] = np.log(data.prevLong.add(0.1))\n",
    "data.loc[:,'L_TSfThick'] = np.log(data.TSfThick.add(0.01))\n",
    "data.loc[:,'L_Tthick'] = np.log(data.Tthick.add(0.01))\n",
    "data.loc[:,'L_MMinT'] = np.log(data.ciMMinT.add(0.1))\n",
    "data.loc[:,'L_MMaxT'] = np.log(data.ciMMaxT.add(0.1))\n",
    "data.loc[:,'LcumPPT'] = np.log(data.ciCumPPT.add(1))"
   ]
  },
  {
   "cell_type": "code",
   "execution_count": 71,
   "metadata": {
    "collapsed": false
   },
   "outputs": [
    {
     "name": "stdout",
     "output_type": "stream",
     "text": [
      "                            OLS Regression Results                            \n",
      "==============================================================================\n",
      "Dep. Variable:                sfThick   R-squared:                       0.183\n",
      "Model:                            OLS   Adj. R-squared:                  0.175\n",
      "Method:                 Least Squares   F-statistic:                     23.34\n",
      "Date:                Sat, 24 Oct 2015   Prob (F-statistic):           3.43e-21\n",
      "Time:                        11:19:05   Log-Likelihood:                -562.00\n",
      "No. Observations:                 528   AIC:                             1136.\n",
      "Df Residuals:                     522   BIC:                             1162.\n",
      "Df Model:                           5                                         \n",
      "Covariance Type:            nonrobust                                         \n",
      "==============================================================================\n",
      "                 coef    std err          t      P>|t|      [95.0% Conf. Int.]\n",
      "------------------------------------------------------------------------------\n",
      "const         -2.6547      0.328     -8.084      0.000        -3.300    -2.010\n",
      "LprevAlli      0.0114      0.016      0.723      0.470        -0.020     0.042\n",
      "LprevLong     -0.0430      0.018     -2.351      0.019        -0.079    -0.007\n",
      "L_TSfThick     0.2407      0.096      2.509      0.012         0.052     0.429\n",
      "L_Tthick       0.1639      0.077      2.142      0.033         0.014     0.314\n",
      "L_ESALs        0.0882      0.027      3.248      0.001         0.035     0.142\n",
      "==============================================================================\n",
      "Omnibus:                       67.184   Durbin-Watson:                   1.487\n",
      "Prob(Omnibus):                  0.000   Jarque-Bera (JB):              171.249\n",
      "Skew:                          -0.650   Prob(JB):                     6.51e-38\n",
      "Kurtosis:                       5.469   Cond. No.                         126.\n",
      "==============================================================================\n",
      "\n",
      "Warnings:\n",
      "[1] Standard Errors assume that the covariance matrix of the errors is correctly specified.\n"
     ]
    }
   ],
   "source": [
    "y = np.log(data.sfThick.add(0.01))\n",
    "# 'LprevAlli', 'LprevLong', 'L_TSfThick', 'L_Tthick', 'L_MMaxT','L_MMinT', \n",
    "parameters = ['LprevAlli', 'LprevLong', 'L_TSfThick', 'L_Tthick', 'L_ESALs' ]\n",
    "run3 = runOLS(y, parameters)\n",
    "print run3"
   ]
  },
  {
   "cell_type": "markdown",
   "metadata": {},
   "source": [
    "# Endogeneity Bias Correction for Surface Type"
   ]
  },
  {
   "cell_type": "code",
   "execution_count": 76,
   "metadata": {
    "collapsed": false
   },
   "outputs": [
    {
     "name": "stdout",
     "output_type": "stream",
     "text": [
      "Optimization terminated successfully.\n",
      "         Current function value: 1.118871\n",
      "         Iterations 7\n",
      "                          MNLogit Regression Results                          \n",
      "==============================================================================\n",
      "Dep. Variable:                 stCode   No. Observations:                  528\n",
      "Model:                        MNLogit   Df Residuals:                      516\n",
      "Method:                           MLE   Df Model:                            9\n",
      "Date:                Sat, 24 Oct 2015   Pseudo R-squ.:                 0.03354\n",
      "Time:                        11:36:04   Log-Likelihood:                -590.76\n",
      "converged:                       True   LL-Null:                       -611.27\n",
      "                                        LLR p-value:                 4.989e-06\n",
      "==============================================================================\n",
      "   stCode=BA       coef    std err          z      P>|z|      [95.0% Conf. Int.]\n",
      "--------------------------------------------------------------------------------\n",
      "sfThick          0.4769      1.115      0.428      0.669        -1.708     2.662\n",
      "L_ESALs         -0.3305      0.145     -2.274      0.023        -0.615    -0.046\n",
      "LcumFTPrep      -0.1361      0.056     -2.425      0.015        -0.246    -0.026\n",
      "const            6.6178      1.801      3.674      0.000         3.087    10.148\n",
      "--------------------------------------------------------------------------------\n",
      "stCode=Other       coef    std err          z      P>|z|      [95.0% Conf. Int.]\n",
      "--------------------------------------------------------------------------------\n",
      "sfThick          0.1674      1.097      0.153      0.879        -1.982     2.317\n",
      "L_ESALs         -0.3496      0.141     -2.473      0.013        -0.627    -0.073\n",
      "LcumFTPrep      -0.0850      0.056     -1.511      0.131        -0.195     0.025\n",
      "const            6.6215      1.761      3.761      0.000         3.171    10.072\n",
      "--------------------------------------------------------------------------------\n",
      " stCode=Z2       coef    std err          z      P>|z|      [95.0% Conf. Int.]\n",
      "------------------------------------------------------------------------------\n",
      "sfThick       -4.8899      2.102     -2.326      0.020        -9.011    -0.769\n",
      "L_ESALs        0.0876      0.173      0.505      0.614        -0.252     0.428\n",
      "LcumFTPrep    -0.0096      0.073     -0.131      0.896        -0.153     0.134\n",
      "const         -0.0571      2.178     -0.026      0.979        -4.326     4.212\n",
      "==============================================================================\n"
     ]
    }
   ],
   "source": [
    "# [[u'prevAlli', u'prevLong', u'ciAlli', u'ciLong', 'L_ESALs', 'LcumESALs', u'IsBridge', u'sfThick',u'TSfThick',\n",
    "#          u'Tthick', u'stCode', u'ciMMinT', u'ciMMaxT', 'ciCumPPTX1000', 'LcumFTPrep', u'ciCumPPT']]\n",
    "X = data[[u'sfThick', 'L_ESALs', 'LcumFTPrep']]\n",
    "y = data['stCode']\n",
    "X = sm.add_constant(X, prepend = False)\n",
    "model = sm.MNLogit(y,X)\n",
    "model_fit = model.fit()\n",
    "print model_fit.summary()"
   ]
  },
  {
   "cell_type": "code",
   "execution_count": 75,
   "metadata": {
    "collapsed": false
   },
   "outputs": [
    {
     "name": "stdout",
     "output_type": "stream",
     "text": [
      "Optimization terminated successfully.\n",
      "         Current function value: 1.118871\n",
      "         Iterations 7\n",
      "                          MNLogit Regression Results                          \n",
      "==============================================================================\n",
      "Dep. Variable:                 stCode   No. Observations:                  528\n",
      "Model:                        MNLogit   Df Residuals:                      516\n",
      "Method:                           MLE   Df Model:                            9\n",
      "Date:                Sat, 24 Oct 2015   Pseudo R-squ.:                 0.03354\n",
      "Time:                        11:30:31   Log-Likelihood:                -590.76\n",
      "converged:                       True   LL-Null:                       -611.27\n",
      "                                        LLR p-value:                 4.989e-06\n",
      "==============================================================================\n",
      "   stCode=BA       coef    std err          z      P>|z|      [95.0% Conf. Int.]\n",
      "--------------------------------------------------------------------------------\n",
      "sfThick          0.4769      1.115      0.428      0.669        -1.708     2.662\n",
      "L_ESALs         -0.3305      0.145     -2.274      0.023        -0.615    -0.046\n",
      "LcumFTPrep      -0.1361      0.056     -2.425      0.015        -0.246    -0.026\n",
      "const            6.6178      1.801      3.674      0.000         3.087    10.148\n",
      "--------------------------------------------------------------------------------\n",
      "stCode=Other       coef    std err          z      P>|z|      [95.0% Conf. Int.]\n",
      "--------------------------------------------------------------------------------\n",
      "sfThick          0.1674      1.097      0.153      0.879        -1.982     2.317\n",
      "L_ESALs         -0.3496      0.141     -2.473      0.013        -0.627    -0.073\n",
      "LcumFTPrep      -0.0850      0.056     -1.511      0.131        -0.195     0.025\n",
      "const            6.6215      1.761      3.761      0.000         3.171    10.072\n",
      "--------------------------------------------------------------------------------\n",
      " stCode=Z2       coef    std err          z      P>|z|      [95.0% Conf. Int.]\n",
      "------------------------------------------------------------------------------\n",
      "sfThick       -4.8899      2.102     -2.326      0.020        -9.011    -0.769\n",
      "L_ESALs        0.0876      0.173      0.505      0.614        -0.252     0.428\n",
      "LcumFTPrep    -0.0096      0.073     -0.131      0.896        -0.153     0.134\n",
      "const         -0.0571      2.178     -0.026      0.979        -4.326     4.212\n",
      "==============================================================================\n"
     ]
    }
   ],
   "source": []
  },
  {
   "cell_type": "code",
   "execution_count": 77,
   "metadata": {
    "collapsed": false
   },
   "outputs": [
    {
     "name": "stdout",
     "output_type": "stream",
     "text": [
      "Optimization terminated successfully.\n",
      "         Current function value: 1.129974\n",
      "         Iterations 7\n",
      "                          MNLogit Regression Results                          \n",
      "==============================================================================\n",
      "Dep. Variable:                 stCode   No. Observations:                  528\n",
      "Model:                        MNLogit   Df Residuals:                      519\n",
      "Method:                           MLE   Df Model:                            6\n",
      "Date:                Sat, 24 Oct 2015   Pseudo R-squ.:                 0.02395\n",
      "Time:                        11:36:21   Log-Likelihood:                -596.63\n",
      "converged:                       True   LL-Null:                       -611.27\n",
      "                                        LLR p-value:                 5.381e-05\n",
      "==============================================================================\n",
      "   stCode=BA       coef    std err          z      P>|z|      [95.0% Conf. Int.]\n",
      "--------------------------------------------------------------------------------\n",
      "L_ESALs         -0.3171      0.143     -2.213      0.027        -0.598    -0.036\n",
      "LcumFTPrep      -0.1365      0.056     -2.434      0.015        -0.246    -0.027\n",
      "const            6.5640      1.783      3.682      0.000         3.069    10.058\n",
      "--------------------------------------------------------------------------------\n",
      "stCode=Other       coef    std err          z      P>|z|      [95.0% Conf. Int.]\n",
      "--------------------------------------------------------------------------------\n",
      "L_ESALs         -0.3409      0.139     -2.444      0.015        -0.614    -0.068\n",
      "LcumFTPrep      -0.0847      0.056     -1.506      0.132        -0.195     0.026\n",
      "const            6.5515      1.744      3.756      0.000         3.133     9.970\n",
      "--------------------------------------------------------------------------------\n",
      " stCode=Z2       coef    std err          z      P>|z|      [95.0% Conf. Int.]\n",
      "------------------------------------------------------------------------------\n",
      "L_ESALs        0.0317      0.175      0.181      0.856        -0.312     0.375\n",
      "LcumFTPrep    -0.0107      0.073     -0.147      0.883        -0.154     0.133\n",
      "const         -0.1825      2.213     -0.082      0.934        -4.519     4.154\n",
      "==============================================================================\n"
     ]
    }
   ],
   "source": [
    "X = data[['L_ESALs', 'LcumFTPrep']]\n",
    "y = data['stCode']\n",
    "X = sm.add_constant(X, prepend = False)\n",
    "model = sm.MNLogit(y,X)\n",
    "model_fit = model.fit()\n",
    "print model_fit.summary()"
   ]
  },
  {
   "cell_type": "markdown",
   "metadata": {},
   "source": [
    "# Crack Initiation Model - Cox Model"
   ]
  },
  {
   "cell_type": "code",
   "execution_count": 102,
   "metadata": {
    "collapsed": true
   },
   "outputs": [],
   "source": [
    "import statsmodels.formula.api as smf"
   ]
  },
  {
   "cell_type": "code",
   "execution_count": 101,
   "metadata": {
    "collapsed": false
   },
   "outputs": [
    {
     "data": {
      "text/plain": [
       "Index([     u'prevAlli',      u'prevLong',        u'ciAlli',        u'ciLong',\n",
       "             u'L_ESALs',     u'LcumESALs',      u'IsBridge',       u'sfThick',\n",
       "            u'TSfThick',        u'Tthick',        u'stCode',       u'ciMMinT',\n",
       "             u'ciMMaxT', u'ciCumPPTX1000',    u'LcumFTPrep',      u'ciCumPPT',\n",
       "           u'LprevAlli',     u'LprevLong',    u'L_TSfThick',      u'L_Tthick',\n",
       "             u'L_MMinT',       u'L_MMaxT',       u'LcumPPT',        u'Censor'],\n",
       "      dtype='object')"
      ]
     },
     "execution_count": 101,
     "metadata": {},
     "output_type": "execute_result"
    }
   ],
   "source": [
    "data.columns"
   ]
  },
  {
   "cell_type": "code",
   "execution_count": 84,
   "metadata": {
    "collapsed": false
   },
   "outputs": [],
   "source": [
    "ds.loc[:,'Censor'] = data['ciAlli'] > 0.1"
   ]
  },
  {
   "cell_type": "code",
   "execution_count": 109,
   "metadata": {
    "collapsed": false
   },
   "outputs": [],
   "source": [
    "mod = smf.phreg(\"ciCumESALs ~ 0 +prevAlli + prevLong + sfThick +  TSfThick + Tthick + ciMMaxT + ciMMinT + LcumFTPrep\",\n",
    "                ds, status=ds.Censor)"
   ]
  },
  {
   "cell_type": "code",
   "execution_count": 110,
   "metadata": {
    "collapsed": false
   },
   "outputs": [
    {
     "name": "stdout",
     "output_type": "stream",
     "text": [
      "                         Results: PHReg\n",
      "================================================================\n",
      "Model:                     PH Reg          Sample size:      528\n",
      "Dependent variable:        ciCumESALs      Num. events:      375\n",
      "Ties:                      Breslow                              \n",
      "----------------------------------------------------------------\n",
      "            log HR log HR SE   HR      t    P>|t|  [0.025 0.975]\n",
      "----------------------------------------------------------------\n",
      "prevAlli   -0.0073    0.0059 0.9928 -1.2322 0.2179 0.9814 1.0043\n",
      "prevLong    0.0081    0.0029 1.0081  2.7951 0.0052 1.0024 1.0139\n",
      "sfThick     0.2847    0.3659 1.3294  0.7782 0.4364 0.6490 2.7232\n",
      "TSfThick   -0.3784    0.2451 0.6850 -1.5439 0.1226 0.4237 1.1074\n",
      "Tthick     -0.0945    0.1309 0.9099 -0.7214 0.4706 0.7039 1.1760\n",
      "ciMMaxT    -0.0957    0.0230 0.9087 -4.1686 0.0000 0.8687 0.9505\n",
      "ciMMinT    -0.0431    0.0280 0.9578 -1.5374 0.1242 0.9066 1.0119\n",
      "LcumFTPrep -0.0397    0.0112 0.9610 -3.5421 0.0004 0.9401 0.9824\n",
      "================================================================\n",
      "Confidence intervals are for the hazard ratios\n"
     ]
    }
   ],
   "source": [
    "rslt = mod.fit()\n",
    "print(rslt.summary())"
   ]
  },
  {
   "cell_type": "code",
   "execution_count": 3,
   "metadata": {
    "collapsed": false
   },
   "outputs": [
    {
     "data": {
      "text/plain": [
       "<matplotlib.axes._subplots.AxesSubplot at 0x10f021290>"
      ]
     },
     "execution_count": 3,
     "metadata": {},
     "output_type": "execute_result"
    },
    {
     "data": {
      "image/png": "[encoded data removed]",
      "text/plain": [
       "<matplotlib.figure.Figure at 0x10f00dc10>"
      ]
     },
     "metadata": {},
     "output_type": "display_data"
    }
   ],
   "source": [
    "%matplotlib inline\n",
    "df.pAlli.hist()"
   ]
  },
  {
   "cell_type": "code",
   "execution_count": 5,
   "metadata": {
    "collapsed": false
   },
   "outputs": [
    {
     "data": {
      "text/plain": [
       "<matplotlib.axes._subplots.AxesSubplot at 0x110233350>"
      ]
     },
     "execution_count": 5,
     "metadata": {},
     "output_type": "execute_result"
    },
    {
     "data": {
      "image/png": "[encoded data removed]",
      "text/plain": [
       "<matplotlib.figure.Figure at 0x1101d5b50>"
      ]
     },
     "metadata": {},
     "output_type": "display_data"
    }
   ],
   "source": [
    "df.pAlli.plot(kind='kde')"
   ]
  },
  {
   "cell_type": "code",
   "execution_count": 45,
   "metadata": {
    "collapsed": false
   },
   "outputs": [
    {
     "data": {
      "text/plain": [
       "16.818254503612032"
      ]
     },
     "execution_count": 45,
     "metadata": {},
     "output_type": "execute_result"
    }
   ],
   "source": [
    "df.prevLong.mean()"
   ]
  },
  {
   "cell_type": "code",
   "execution_count": 51,
   "metadata": {
    "collapsed": false
   },
   "outputs": [
    {
     "data": {
      "text/plain": [
       "count    528.000000\n",
       "mean      16.818255\n",
       "std       17.953732\n",
       "min        0.000000\n",
       "25%        2.249054\n",
       "50%       14.962126\n",
       "75%       28.428039\n",
       "max      123.428070\n",
       "Name: prevLong, dtype: float64"
      ]
     },
     "execution_count": 51,
     "metadata": {},
     "output_type": "execute_result"
    }
   ],
   "source": [
    "df.prevLong.describe()"
   ]
  },
  {
   "cell_type": "code",
   "execution_count": 44,
   "metadata": {
    "collapsed": false
   },
   "outputs": [
    {
     "data": {
      "text/plain": [
       "<matplotlib.axes._subplots.AxesSubplot at 0x1120306d0>"
      ]
     },
     "execution_count": 44,
     "metadata": {},
     "output_type": "execute_result"
    },
    {
     "data": {
      "image/png": "[encoded data removed]",
      "text/plain": [
       "<matplotlib.figure.Figure at 0x111e28450>"
      ]
     },
     "metadata": {},
     "output_type": "display_data"
    }
   ],
   "source": [
    "df.prevLong.plot(kind='kde')"
   ]
  },
  {
   "cell_type": "code",
   "execution_count": 54,
   "metadata": {
    "collapsed": false
   },
   "outputs": [
    {
     "data": {
      "image/png": "[encoded data removed]",
      "text/plain": [
       "<matplotlib.figure.Figure at 0x1111f09d0>"
      ]
     },
     "metadata": {},
     "output_type": "display_data"
    },
    {
     "name": "stdout",
     "output_type": "stream",
     "text": [
      "19.0704567723\n"
     ]
    }
   ],
   "source": [
    "mu, sigma = 2.75, .6 # mean and standard deviation\n",
    "s = np.random.lognormal(mu, sigma, 1000)\n",
    "x = np.linspace(0, 160, 10000)\n",
    "pdf = (np.exp(-(np.log(x) - mu)**2 / (2 * sigma**2))\n",
    "      / (x * sigma * np.sqrt(2 * np.pi)))\n",
    "plt.plot(x, pdf, linewidth=2, color='r')\n",
    "plt.axis('tight')\n",
    "plt.show()\n",
    "print s.mean()"
   ]
  },
  {
   "cell_type": "code",
   "execution_count": 36,
   "metadata": {
    "collapsed": false
   },
   "outputs": [
    {
     "name": "stdout",
     "output_type": "stream",
     "text": [
      "10.3063911807\n"
     ]
    }
   ],
   "source": [
    "print s.mean()"
   ]
  },
  {
   "cell_type": "code",
   "execution_count": 37,
   "metadata": {
    "collapsed": false
   },
   "outputs": [
    {
     "data": {
      "image/png": "[encoded data removed]",
      "text/plain": [
       "<matplotlib.figure.Figure at 0x1125c2e10>"
      ]
     },
     "metadata": {},
     "output_type": "display_data"
    }
   ],
   "source": [
    "import matplotlib.pyplot as plt\n",
    "count, bins, ignored = plt.hist(s, 100, normed=True, align='mid')"
   ]
  },
  {
   "cell_type": "code",
   "execution_count": 11,
   "metadata": {
    "collapsed": true
   },
   "outputs": [],
   "source": [
    "x = np.linspace(min(bins), max(bins), 10000)\n",
    "pdf = (np.exp(-(np.log(x) - mu)**2 / (2 * sigma**2))\n",
    "      / (x * sigma * np.sqrt(2 * np.pi)))"
   ]
  },
  {
   "cell_type": "code",
   "execution_count": 12,
   "metadata": {
    "collapsed": false
   },
   "outputs": [
    {
     "data": {
      "image/png": "[encoded data removed]",
      "text/plain": [
       "<matplotlib.figure.Figure at 0x1112e9590>"
      ]
     },
     "metadata": {},
     "output_type": "display_data"
    }
   ],
   "source": [
    "plt.plot(x, pdf, linewidth=2, color='r')\n",
    "plt.axis('tight')\n",
    "plt.show()"
   ]
  },
  {
   "cell_type": "code",
   "execution_count": 14,
   "metadata": {
    "collapsed": false
   },
   "outputs": [
    {
     "name": "stdout",
     "output_type": "stream",
     "text": [
      "0.698721353012 393.811784606\n"
     ]
    }
   ],
   "source": [
    "print min(bins), max(bins)"
   ]
  },
  {
   "cell_type": "code",
   "execution_count": 55,
   "metadata": {
    "collapsed": true
   },
   "outputs": [],
   "source": [
    "data = pd.read_csv('../modelDatasets/FWD.csv')"
   ]
  },
  {
   "cell_type": "code",
   "execution_count": 56,
   "metadata": {
    "collapsed": false
   },
   "outputs": [
    {
     "data": {
      "text/plain": [
       "Index([u'Unnamed: 0', u'sYear', u'IntID', u'Rutting', u'IRI', u'PSC', u'PPC',\n",
       "       u'PRC', u'Alli', u'Long', u'SR', u'Begin ARM', u'End ARM', u'UID',\n",
       "       u'Is Bridge', u'Lane Surface Type', u'Lane Miles', u'Region_x',\n",
       "       u'Federal Functional Class', u'Construction End Date',\n",
       "       u'Substantial Completion Date', u'Contract Type Description',\n",
       "       u'Surface Type Code', u'Surface Type Description', u'Surface Thickness',\n",
       "       u'Treat Base Type Code', u'Treat Base Type Description',\n",
       "       u'Treat Base Thickness', u'UTreat Base Thickness', u'cYear',\n",
       "       u'Traffic Year', u'ESALs', u'Construction Year', u'Major Rehab Year',\n",
       "       u'Segment Lane Miles', u'ESALs Since Major Rehab', u'Total Thickness',\n",
       "       u'Total Surface Thickness', u'Listed Surface Type', u'Pavement Type',\n",
       "       u'Construction Pavement Type', u'Major Rehab Type',\n",
       "       u'Prior Major Rehab Year', u'Prior Major Rehab Type', u'sfThick',\n",
       "       u'Tthick', u'TSfThick', u'STcode', u'cumPPT', u'meanMinTemp',\n",
       "       u'meanMaxTemp', u'cumESALs', u'cumFTC', u'IRIsi', u'pAlli', u'pLong',\n",
       "       u'PPT', u'MinT', u'MaxT', u'FTCycles'],\n",
       "      dtype='object')"
      ]
     },
     "execution_count": 56,
     "metadata": {},
     "output_type": "execute_result"
    }
   ],
   "source": [
    "data.columns"
   ]
  },
  {
   "cell_type": "code",
   "execution_count": 59,
   "metadata": {
    "collapsed": false
   },
   "outputs": [
    {
     "name": "stdout",
     "output_type": "stream",
     "text": [
      "22.5814352192\n",
      "25.7898603968\n"
     ]
    }
   ],
   "source": [
    "print len(data[data['Treat Base Thickness'] > 0])*100.0/ len(data)\n",
    "print len(data[data['UTreat Base Thickness'] > 0])*100.0/ len(data)"
   ]
  },
  {
   "cell_type": "code",
   "execution_count": 61,
   "metadata": {
    "collapsed": false
   },
   "outputs": [
    {
     "data": {
      "text/plain": [
       "Crushed Stone                                                        737\n",
       "Asphalt Treated Base Or Bituminous Admix                             121\n",
       "Concrete Treated Base, Unfinished Portland Cement, Or Soil Cement     94\n",
       "dtype: int64"
      ]
     },
     "execution_count": 61,
     "metadata": {},
     "output_type": "execute_result"
    }
   ],
   "source": [
    "data['Treat Base Type Description'].value_counts()"
   ]
  },
  {
   "cell_type": "code",
   "execution_count": 64,
   "metadata": {
    "collapsed": true
   },
   "outputs": [],
   "source": [
    "def getBaseThickness(row, category):\n",
    "    cat = row['Treat Base Type Description']\n",
    "    t   = row['Treat Base Thickness']\n",
    "    if cat == category:\n",
    "        return t\n",
    "    else:\n",
    "        return 0"
   ]
  },
  {
   "cell_type": "code",
   "execution_count": 65,
   "metadata": {
    "collapsed": false
   },
   "outputs": [],
   "source": [
    "data['actbthick'] = data.apply(getBaseThickness, axis = 1, args = ('Asphalt Treated Base Or Bituminous Admix',))\n",
    "data['pctbthick'] = data.apply(getBaseThickness, axis = 1, args = ('Concrete Treated Base, Unfinished Portland Cement, Or Soil Cement',))"
   ]
  },
  {
   "cell_type": "code",
   "execution_count": 69,
   "metadata": {
    "collapsed": false
   },
   "outputs": [
    {
     "data": {
      "text/plain": [
       "0.95553405577513684"
      ]
     },
     "execution_count": 69,
     "metadata": {},
     "output_type": "execute_result"
    }
   ],
   "source": [
    "data['cumESALs'].corr(data['ESALs Since Major Rehab'])"
   ]
  },
  {
   "cell_type": "code",
   "execution_count": 70,
   "metadata": {
    "collapsed": false
   },
   "outputs": [
    {
     "name": "stdout",
     "output_type": "stream",
     "text": [
      "0\n",
      "1936\n"
     ]
    }
   ],
   "source": [
    "print len(data[data.STcode == 'AA'])\n",
    "print len(data[data.STcode == 'BA'])"
   ]
  },
  {
   "cell_type": "code",
   "execution_count": 87,
   "metadata": {
    "collapsed": true
   },
   "outputs": [],
   "source": [
    "def getSTcode(row, cat):\n",
    "    val = row['Surface Type Code']\n",
    "    if val == cat:\n",
    "        return 1\n",
    "    return 0"
   ]
  },
  {
   "cell_type": "code",
   "execution_count": 91,
   "metadata": {
    "collapsed": false
   },
   "outputs": [
    {
     "name": "stdout",
     "output_type": "stream",
     "text": [
      "1936\n",
      "152\n"
     ]
    }
   ],
   "source": [
    "data['BA'] = data.apply(getSTcode, axis = 1, args = ('BA',))\n",
    "data['AA'] = data.apply(getSTcode, axis = 1, args = ('AA',))\n",
    "print len(data[data.BA == 1])\n",
    "print len(data[data.AA == 1])"
   ]
  },
  {
   "cell_type": "code",
   "execution_count": 92,
   "metadata": {
    "collapsed": true
   },
   "outputs": [],
   "source": [
    "data['ftprep'] = data.PPT.mul(data.FTCycles)"
   ]
  },
  {
   "cell_type": "code",
   "execution_count": 93,
   "metadata": {
    "collapsed": true
   },
   "outputs": [],
   "source": [
    "data['E_Alli'] = np.random.lognormal(2.25, 0.4, len(data)) #lognormal distribution with mean 2.25, and stdev 0.4\n",
    "data['E_Long'] = np.random.lognormal(2.75, 0.6, len(data)) #lognormal distribution with mean 2.75, and stdev 0.6\n",
    "#-------------------------------------------------------------------------------------------------\n",
    "# Note that these distributions were estimated using observations from another dataset.\n",
    "# -------------------------------------------------------------------------------------------"
   ]
  },
  {
   "cell_type": "code",
   "execution_count": 106,
   "metadata": {
    "collapsed": true
   },
   "outputs": [],
   "source": [
    "dataset = data[[u'UID', u'Is Bridge', u'Lane Surface Type', u'Lane Miles', u'Region_x',\n",
    "       u'Federal Functional Class', u'Surface Type Code', u'Surface Type Description',\n",
    "       u'Treat Base Type Code', u'Treat Base Type Description',\n",
    "       u'Treat Base Thickness', u'UTreat Base Thickness', u'ESALs', u'Major Rehab Year',\n",
    "       u'ESALs Since Major Rehab', u'sfThick',\n",
    "       u'Tthick', u'TSfThick', u'meanMinTemp',\n",
    "       u'meanMaxTemp', u'cumESALs', u'IRIsi', u'pAlli', u'pLong', 'E_Alli', 'E_Long',\n",
    "       u'PPT', u'MinT', u'MaxT', u'FTCycles', 'actbthick', 'pctbthick','ftprep', 'BA', 'AA']]"
   ]
  },
  {
   "cell_type": "code",
   "execution_count": 107,
   "metadata": {
    "collapsed": true
   },
   "outputs": [],
   "source": [
    "# ESALs Since Major Rehab are the cumulative ESALs, which have a correlation coefficient of 0.955 with imputed data!\n",
    "dataset.columns = [u'UID', u'IsBridge', u'Lane Surface Type', u'LaneMiles', u'Region_x',\n",
    "       u'FFClass', u'SurfaceTypeCode', u'STDescription', u'TreatBaseCode', u'TreatBaseDescription',\n",
    "       u'TBThick', u'untrthick', u'Y_ESAL', u'MajorRehabYear', u'Cum_ESAL', u'SURFTHK',\n",
    "       u'ULT', u'TSfThick', u'tmin', u'tmax', u'cumESALs', u'IRIsi', u'Alli', u'Long', 'E_Alli', 'E_Long',\n",
    "       u'prep', u'MinT', u'MaxT', u'FTCycles',  'actbthick', 'pctbthick','ftprep', 'BA', 'AA']"
   ]
  },
  {
   "cell_type": "code",
   "execution_count": 110,
   "metadata": {
    "collapsed": false
   },
   "outputs": [
    {
     "data": {
      "text/html": [
       "<div>\n",
       "<table border=\"1\" class=\"dataframe\">\n",
       "  <thead>\n",
       "    <tr style=\"text-align: right;\">\n",
       "      <th></th>\n",
       "      <th>SURFTHK</th>\n",
       "      <th>ftprep</th>\n",
       "      <th>Alli</th>\n",
       "      <th>prep</th>\n",
       "    </tr>\n",
       "  </thead>\n",
       "  <tbody>\n",
       "    <tr>\n",
       "      <th>0</th>\n",
       "      <td>0.17</td>\n",
       "      <td>78155.358887</td>\n",
       "      <td>0.568182</td>\n",
       "      <td>2056.719971</td>\n",
       "    </tr>\n",
       "    <tr>\n",
       "      <th>1</th>\n",
       "      <td>0.15</td>\n",
       "      <td>28866.599487</td>\n",
       "      <td>3.472223</td>\n",
       "      <td>343.649994</td>\n",
       "    </tr>\n",
       "    <tr>\n",
       "      <th>2</th>\n",
       "      <td>0.25</td>\n",
       "      <td>4056.779846</td>\n",
       "      <td>0.852273</td>\n",
       "      <td>193.179993</td>\n",
       "    </tr>\n",
       "    <tr>\n",
       "      <th>3</th>\n",
       "      <td>0.25</td>\n",
       "      <td>6786.360077</td>\n",
       "      <td>1.231061</td>\n",
       "      <td>323.160004</td>\n",
       "    </tr>\n",
       "    <tr>\n",
       "      <th>4</th>\n",
       "      <td>0.15</td>\n",
       "      <td>4056.779846</td>\n",
       "      <td>5.523992</td>\n",
       "      <td>193.179993</td>\n",
       "    </tr>\n",
       "  </tbody>\n",
       "</table>\n",
       "</div>"
      ],
      "text/plain": [
       "   SURFTHK        ftprep      Alli         prep\n",
       "0     0.17  78155.358887  0.568182  2056.719971\n",
       "1     0.15  28866.599487  3.472223   343.649994\n",
       "2     0.25   4056.779846  0.852273   193.179993\n",
       "3     0.25   6786.360077  1.231061   323.160004\n",
       "4     0.15   4056.779846  5.523992   193.179993"
      ]
     },
     "execution_count": 110,
     "metadata": {},
     "output_type": "execute_result"
    }
   ],
   "source": [
    "dataset[['SURFTHK', 'ftprep', 'Alli', 'prep']].head()"
   ]
  },
  {
   "cell_type": "code",
   "execution_count": 111,
   "metadata": {
    "collapsed": false
   },
   "outputs": [
    {
     "name": "stdout",
     "output_type": "stream",
     "text": [
      "0\n"
     ]
    }
   ],
   "source": [
    "print len(dataset[dataset.ftprep.isnull() == True])"
   ]
  },
  {
   "cell_type": "code",
   "execution_count": 109,
   "metadata": {
    "collapsed": true
   },
   "outputs": [],
   "source": [
    "dataset.to_csv('../modelDatasets/ndata.csv') #Saving final dataset for running simulation!"
   ]
  },
  {
   "cell_type": "code",
   "execution_count": 105,
   "metadata": {
    "collapsed": false
   },
   "outputs": [
    {
     "data": {
      "text/plain": [
       "59.488655399999999"
      ]
     },
     "execution_count": 105,
     "metadata": {},
     "output_type": "execute_result"
    }
   ],
   "source": [
    "dataset.Alli.max()"
   ]
  },
  {
   "cell_type": "code",
   "execution_count": null,
   "metadata": {
    "collapsed": true
   },
   "outputs": [],
   "source": [
    "tdata = pd.read_csv('../modelDatasets/wtraffic.csv')"
   ]
  },
  {
   "cell_type": "code",
   "execution_count": null,
   "metadata": {
    "collapsed": true
   },
   "outputs": [],
   "source": []
  }
 ],
 "metadata": {
  "kernelspec": {
   "display_name": "Python 2",
   "language": "python",
   "name": "python2"
  },
  "language_info": {
   "codemirror_mode": {
    "name": "ipython",
    "version": 2
   },
   "file_extension": ".py",
   "mimetype": "text/x-python",
   "name": "python",
   "nbconvert_exporter": "python",
   "pygments_lexer": "ipython2",
   "version": "2.7.9"
  }
 },
 "nbformat": 4,
 "nbformat_minor": 0
}
