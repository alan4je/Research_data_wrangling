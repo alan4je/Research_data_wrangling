{
 "cells": [
  {
   "cell_type": "code",
   "execution_count": 1,
   "metadata": {
    "collapsed": true
   },
   "outputs": [],
   "source": [
    "import numpy as np\n",
    "import pandas as pd"
   ]
  },
  {
   "cell_type": "code",
   "execution_count": 2,
   "metadata": {
    "collapsed": false
   },
   "outputs": [],
   "source": [
    "df = pd.read_csv('../FinalDatasets/RdatasetCPM.csv')\n",
    "cumPpt = pd.read_csv('../FinalDatasets/cumPPT.csv')\n",
    "cumEsals = pd.read_csv('../FinalDatasets/cumEsals.csv')\n",
    "meanMaxT = pd.read_csv('../FinalDatasets/meanMaxT.csv')\n",
    "meanMinT = pd.read_csv('../FinalDatasets/meanMinT.csv')"
   ]
  },
  {
   "cell_type": "code",
   "execution_count": 3,
   "metadata": {
    "collapsed": false
   },
   "outputs": [
    {
     "data": {
      "text/plain": [
       "True"
      ]
     },
     "execution_count": 3,
     "metadata": {},
     "output_type": "execute_result"
    }
   ],
   "source": [
    "df = df[df.sYear < 2014]\n",
    "len(df[df.sYear < 2014]) == len(df)"
   ]
  },
  {
   "cell_type": "code",
   "execution_count": 4,
   "metadata": {
    "collapsed": false
   },
   "outputs": [
    {
     "name": "stdout",
     "output_type": "stream",
     "text": [
      "True\n"
     ]
    }
   ],
   "source": [
    "col_index = cumPpt.ID.unique()\n",
    "print len(col_index) == len(cumPpt)"
   ]
  },
  {
   "cell_type": "code",
   "execution_count": 5,
   "metadata": {
    "collapsed": true
   },
   "outputs": [],
   "source": [
    "cumPpt.index = col_index\n",
    "cumEsals.index = col_index\n",
    "meanMaxT.index = col_index\n",
    "meanMinT.index = col_index"
   ]
  },
  {
   "cell_type": "code",
   "execution_count": 6,
   "metadata": {
    "collapsed": false
   },
   "outputs": [
    {
     "name": "stdout",
     "output_type": "stream",
     "text": [
      "182518 196493\n"
     ]
    }
   ],
   "source": [
    "#cleaned dataset: removed rows which have no weather data\n",
    "ds = df[df.ID.isin(col_index)]\n",
    "print len(ds), len(df)"
   ]
  },
  {
   "cell_type": "code",
   "execution_count": 7,
   "metadata": {
    "collapsed": false
   },
   "outputs": [
    {
     "name": "stderr",
     "output_type": "stream",
     "text": [
      "/Users/Alan/anaconda2/lib/python2.7/site-packages/pandas/core/indexing.py:260: SettingWithCopyWarning: \n",
      "A value is trying to be set on a copy of a slice from a DataFrame.\n",
      "Try using .loc[row_indexer,col_indexer] = value instead\n",
      "\n",
      "See the caveats in the documentation: http://pandas.pydata.org/pandas-docs/stable/indexing.html#indexing-view-versus-copy\n",
      "  self.obj[key] = _infer_fill_value(value)\n",
      "/Users/Alan/anaconda2/lib/python2.7/site-packages/pandas/core/indexing.py:420: SettingWithCopyWarning: \n",
      "A value is trying to be set on a copy of a slice from a DataFrame.\n",
      "Try using .loc[row_indexer,col_indexer] = value instead\n",
      "\n",
      "See the caveats in the documentation: http://pandas.pydata.org/pandas-docs/stable/indexing.html#indexing-view-versus-copy\n",
      "  self.obj[item] = s\n"
     ]
    }
   ],
   "source": [
    "def popPPT(row):\n",
    "    index = row['UID']\n",
    "    year  = row['sYear']\n",
    "    val   = str(year)\n",
    "    return cumPpt.loc[index, val]\n",
    "ds.loc[:, 'cumPPT'] = ds.apply(popPPT, axis = 1)"
   ]
  },
  {
   "cell_type": "code",
   "execution_count": 8,
   "metadata": {
    "collapsed": true
   },
   "outputs": [],
   "source": [
    "def popMinT(row):\n",
    "    index = row['UID']\n",
    "    year  = row['sYear']\n",
    "    val   = str(year)\n",
    "    return meanMinT.loc[index, val]\n",
    "ds.loc[:, 'meanMinTemp'] = ds.apply(popMinT, axis = 1)"
   ]
  },
  {
   "cell_type": "code",
   "execution_count": 9,
   "metadata": {
    "collapsed": true
   },
   "outputs": [],
   "source": [
    "def popMaxT(row):\n",
    "    index = row['UID']\n",
    "    year  = row['sYear']\n",
    "    val   = str(year)\n",
    "    return meanMaxT.loc[index, val]\n",
    "ds.loc[:, 'meanMaxTemp'] = ds.apply(popMaxT, axis = 1)"
   ]
  },
  {
   "cell_type": "code",
   "execution_count": 10,
   "metadata": {
    "collapsed": true
   },
   "outputs": [],
   "source": [
    "def popCumEsals(row):\n",
    "    index = row['UID']\n",
    "    year  = row['sYear']\n",
    "    val   = str(year)\n",
    "    return cumEsals.loc[index, val]\n",
    "ds.loc[:, 'cumESALs'] = ds.apply(popCumEsals, axis = 1)"
   ]
  },
  {
   "cell_type": "code",
   "execution_count": 11,
   "metadata": {
    "collapsed": false
   },
   "outputs": [
    {
     "data": {
      "text/html": [
       "<div>\n",
       "<table border=\"1\" class=\"dataframe\">\n",
       "  <thead>\n",
       "    <tr style=\"text-align: right;\">\n",
       "      <th></th>\n",
       "      <th>Year</th>\n",
       "      <th>ID</th>\n",
       "      <th>UID</th>\n",
       "      <th>sYear</th>\n",
       "      <th>Rutting</th>\n",
       "      <th>IRI</th>\n",
       "      <th>PSC</th>\n",
       "      <th>AlliP</th>\n",
       "      <th>LongP</th>\n",
       "      <th>Trans_Cracking</th>\n",
       "      <th>IsBridge</th>\n",
       "      <th>sfThick</th>\n",
       "      <th>Tthick</th>\n",
       "      <th>TSfThick</th>\n",
       "      <th>STcode</th>\n",
       "      <th>AlliPred</th>\n",
       "      <th>cumPPT</th>\n",
       "      <th>meanMinTemp</th>\n",
       "      <th>meanMaxTemp</th>\n",
       "      <th>cumESALs</th>\n",
       "    </tr>\n",
       "  </thead>\n",
       "  <tbody>\n",
       "    <tr>\n",
       "      <th>0</th>\n",
       "      <td>1981</td>\n",
       "      <td>222</td>\n",
       "      <td>222</td>\n",
       "      <td>1981</td>\n",
       "      <td>0.236</td>\n",
       "      <td>15.836577</td>\n",
       "      <td>92</td>\n",
       "      <td>0.000000</td>\n",
       "      <td>3.960055</td>\n",
       "      <td>5</td>\n",
       "      <td>1</td>\n",
       "      <td>0.00</td>\n",
       "      <td>0.15</td>\n",
       "      <td>0.15</td>\n",
       "      <td>PA</td>\n",
       "      <td>1.910057</td>\n",
       "      <td>1690.469971</td>\n",
       "      <td>1.31</td>\n",
       "      <td>26.850000</td>\n",
       "      <td>57829.947364</td>\n",
       "    </tr>\n",
       "    <tr>\n",
       "      <th>1</th>\n",
       "      <td>1981</td>\n",
       "      <td>540</td>\n",
       "      <td>540</td>\n",
       "      <td>1981</td>\n",
       "      <td>0.236</td>\n",
       "      <td>18.840242</td>\n",
       "      <td>83</td>\n",
       "      <td>0.000000</td>\n",
       "      <td>0.000000</td>\n",
       "      <td>0</td>\n",
       "      <td>0</td>\n",
       "      <td>0.15</td>\n",
       "      <td>1.65</td>\n",
       "      <td>0.90</td>\n",
       "      <td>Other</td>\n",
       "      <td>2.126044</td>\n",
       "      <td>2157.649902</td>\n",
       "      <td>-2.84</td>\n",
       "      <td>25.230000</td>\n",
       "      <td>35421.157984</td>\n",
       "    </tr>\n",
       "    <tr>\n",
       "      <th>2</th>\n",
       "      <td>1981</td>\n",
       "      <td>2431</td>\n",
       "      <td>2431</td>\n",
       "      <td>1981</td>\n",
       "      <td>0.512</td>\n",
       "      <td>20.429158</td>\n",
       "      <td>37</td>\n",
       "      <td>5.965909</td>\n",
       "      <td>14.962121</td>\n",
       "      <td>37</td>\n",
       "      <td>0</td>\n",
       "      <td>0.15</td>\n",
       "      <td>1.56</td>\n",
       "      <td>0.98</td>\n",
       "      <td>BA</td>\n",
       "      <td>7.894043</td>\n",
       "      <td>337.529999</td>\n",
       "      <td>-5.94</td>\n",
       "      <td>31.230000</td>\n",
       "      <td>58882.558639</td>\n",
       "    </tr>\n",
       "    <tr>\n",
       "      <th>3</th>\n",
       "      <td>1981</td>\n",
       "      <td>704</td>\n",
       "      <td>704</td>\n",
       "      <td>1981</td>\n",
       "      <td>0.236</td>\n",
       "      <td>7.654330</td>\n",
       "      <td>40</td>\n",
       "      <td>0.000000</td>\n",
       "      <td>64.962121</td>\n",
       "      <td>0</td>\n",
       "      <td>0</td>\n",
       "      <td>0.65</td>\n",
       "      <td>1.75</td>\n",
       "      <td>1.00</td>\n",
       "      <td>Other</td>\n",
       "      <td>10.134499</td>\n",
       "      <td>1980.089966</td>\n",
       "      <td>-6.77</td>\n",
       "      <td>23.930000</td>\n",
       "      <td>28915.396971</td>\n",
       "    </tr>\n",
       "    <tr>\n",
       "      <th>4</th>\n",
       "      <td>1981</td>\n",
       "      <td>776</td>\n",
       "      <td>776</td>\n",
       "      <td>1981</td>\n",
       "      <td>0.236</td>\n",
       "      <td>11.085579</td>\n",
       "      <td>48</td>\n",
       "      <td>3.977273</td>\n",
       "      <td>9.974747</td>\n",
       "      <td>10</td>\n",
       "      <td>0</td>\n",
       "      <td>0.50</td>\n",
       "      <td>2.15</td>\n",
       "      <td>0.65</td>\n",
       "      <td>BA</td>\n",
       "      <td>3.722601</td>\n",
       "      <td>1099.699951</td>\n",
       "      <td>-6.72</td>\n",
       "      <td>28.370001</td>\n",
       "      <td>35606.843246</td>\n",
       "    </tr>\n",
       "  </tbody>\n",
       "</table>\n",
       "</div>"
      ],
      "text/plain": [
       "   Year    ID   UID  sYear  Rutting        IRI  PSC     AlliP      LongP  \\\n",
       "0  1981   222   222   1981    0.236  15.836577   92  0.000000   3.960055   \n",
       "1  1981   540   540   1981    0.236  18.840242   83  0.000000   0.000000   \n",
       "2  1981  2431  2431   1981    0.512  20.429158   37  5.965909  14.962121   \n",
       "3  1981   704   704   1981    0.236   7.654330   40  0.000000  64.962121   \n",
       "4  1981   776   776   1981    0.236  11.085579   48  3.977273   9.974747   \n",
       "\n",
       "   Trans_Cracking  IsBridge  sfThick  Tthick  TSfThick STcode   AlliPred  \\\n",
       "0               5         1     0.00    0.15      0.15     PA   1.910057   \n",
       "1               0         0     0.15    1.65      0.90  Other   2.126044   \n",
       "2              37         0     0.15    1.56      0.98     BA   7.894043   \n",
       "3               0         0     0.65    1.75      1.00  Other  10.134499   \n",
       "4              10         0     0.50    2.15      0.65     BA   3.722601   \n",
       "\n",
       "        cumPPT  meanMinTemp  meanMaxTemp      cumESALs  \n",
       "0  1690.469971         1.31    26.850000  57829.947364  \n",
       "1  2157.649902        -2.84    25.230000  35421.157984  \n",
       "2   337.529999        -5.94    31.230000  58882.558639  \n",
       "3  1980.089966        -6.77    23.930000  28915.396971  \n",
       "4  1099.699951        -6.72    28.370001  35606.843246  "
      ]
     },
     "execution_count": 11,
     "metadata": {},
     "output_type": "execute_result"
    }
   ],
   "source": [
    "ds.head()"
   ]
  },
  {
   "cell_type": "markdown",
   "metadata": {},
   "source": [
    "# Adding Freeze-Thaw Cycles"
   ]
  },
  {
   "cell_type": "code",
   "execution_count": 12,
   "metadata": {
    "collapsed": false
   },
   "outputs": [],
   "source": [
    "rdat = pd.read_csv('../FinalDatasets/RoughnessCrackingDataset.csv')"
   ]
  },
  {
   "cell_type": "code",
   "execution_count": 13,
   "metadata": {
    "collapsed": false
   },
   "outputs": [],
   "source": [
    "rdf = rdat[['UID','Latitude', 'Longitude']]"
   ]
  },
  {
   "cell_type": "code",
   "execution_count": 14,
   "metadata": {
    "collapsed": false
   },
   "outputs": [],
   "source": [
    "ndf = rdf[rdf.UID.isin(col_index)]\n",
    "ndf = ndf.drop_duplicates(subset = 'UID')"
   ]
  },
  {
   "cell_type": "code",
   "execution_count": 15,
   "metadata": {
    "collapsed": false
   },
   "outputs": [
    {
     "name": "stdout",
     "output_type": "stream",
     "text": [
      "True\n"
     ]
    }
   ],
   "source": [
    "ndf.index = np.arange(len(ndf))+1\n",
    "print len(ndf) == len(cumPpt)"
   ]
  },
  {
   "cell_type": "code",
   "execution_count": 16,
   "metadata": {
    "collapsed": false
   },
   "outputs": [],
   "source": [
    "ndf.to_csv('../FinalDatasets/cmp_seg_icao_matching.csv')"
   ]
  },
  {
   "cell_type": "code",
   "execution_count": 17,
   "metadata": {
    "collapsed": true
   },
   "outputs": [],
   "source": [
    "cpmSegAp = pd.read_csv('../FinalDatasets/CPM_seg_icao.csv')"
   ]
  },
  {
   "cell_type": "code",
   "execution_count": 18,
   "metadata": {
    "collapsed": false
   },
   "outputs": [
    {
     "name": "stdout",
     "output_type": "stream",
     "text": [
      "True\n"
     ]
    }
   ],
   "source": [
    "print len(cpmSegAp) == len(ndf)"
   ]
  },
  {
   "cell_type": "code",
   "execution_count": 19,
   "metadata": {
    "collapsed": true
   },
   "outputs": [],
   "source": [
    "cpmSegAp.index = ndf.UID"
   ]
  },
  {
   "cell_type": "code",
   "execution_count": 20,
   "metadata": {
    "collapsed": false
   },
   "outputs": [
    {
     "data": {
      "text/html": [
       "<div>\n",
       "<table border=\"1\" class=\"dataframe\">\n",
       "  <thead>\n",
       "    <tr style=\"text-align: right;\">\n",
       "      <th></th>\n",
       "      <th>InputID</th>\n",
       "      <th>TargetID</th>\n",
       "      <th>Distance</th>\n",
       "    </tr>\n",
       "    <tr>\n",
       "      <th>UID</th>\n",
       "      <th></th>\n",
       "      <th></th>\n",
       "      <th></th>\n",
       "    </tr>\n",
       "  </thead>\n",
       "  <tbody>\n",
       "    <tr>\n",
       "      <th>222</th>\n",
       "      <td>1</td>\n",
       "      <td>KAWO</td>\n",
       "      <td>0.469535</td>\n",
       "    </tr>\n",
       "    <tr>\n",
       "      <th>540</th>\n",
       "      <td>2</td>\n",
       "      <td>KESW</td>\n",
       "      <td>0.465864</td>\n",
       "    </tr>\n",
       "    <tr>\n",
       "      <th>2431</th>\n",
       "      <td>3</td>\n",
       "      <td>KSKA</td>\n",
       "      <td>0.657846</td>\n",
       "    </tr>\n",
       "    <tr>\n",
       "      <th>704</th>\n",
       "      <td>4</td>\n",
       "      <td>KESW</td>\n",
       "      <td>0.552878</td>\n",
       "    </tr>\n",
       "    <tr>\n",
       "      <th>776</th>\n",
       "      <td>5</td>\n",
       "      <td>KESW</td>\n",
       "      <td>0.621369</td>\n",
       "    </tr>\n",
       "  </tbody>\n",
       "</table>\n",
       "</div>"
      ],
      "text/plain": [
       "      InputID TargetID  Distance\n",
       "UID                             \n",
       "222         1     KAWO  0.469535\n",
       "540         2     KESW  0.465864\n",
       "2431        3     KSKA  0.657846\n",
       "704         4     KESW  0.552878\n",
       "776         5     KESW  0.621369"
      ]
     },
     "execution_count": 20,
     "metadata": {},
     "output_type": "execute_result"
    }
   ],
   "source": [
    "cpmSegAp.head()"
   ]
  },
  {
   "cell_type": "code",
   "execution_count": 21,
   "metadata": {
    "collapsed": true
   },
   "outputs": [],
   "source": [
    "wds = pd.read_excel('../DataFiles/AnnualWeatherR.xlsx') #contains yrs 1981 -1999\n",
    "wds2 = pd.read_excel('../DataFiles/AnnualWeatherR2.xlsx') # runs from 2000-2013"
   ]
  },
  {
   "cell_type": "code",
   "execution_count": 22,
   "metadata": {
    "collapsed": true
   },
   "outputs": [],
   "source": [
    "# combining the datasets\n",
    "wd = wds[['Year', 'FTCycles', 'Airport']]\n",
    "wdt = pd.concat([wd, wds2], axis = 0)"
   ]
  },
  {
   "cell_type": "code",
   "execution_count": 23,
   "metadata": {
    "collapsed": false
   },
   "outputs": [
    {
     "data": {
      "text/plain": [
       "True"
      ]
     },
     "execution_count": 23,
     "metadata": {},
     "output_type": "execute_result"
    }
   ],
   "source": [
    "#checking that combination code was accurate\n",
    "len(wdt) == len(wd)+len(wds2)"
   ]
  },
  {
   "cell_type": "code",
   "execution_count": 24,
   "metadata": {
    "collapsed": false
   },
   "outputs": [
    {
     "data": {
      "text/html": [
       "<div>\n",
       "<table border=\"1\" class=\"dataframe\">\n",
       "  <thead>\n",
       "    <tr style=\"text-align: right;\">\n",
       "      <th></th>\n",
       "      <th>Year</th>\n",
       "      <th>FTCycles</th>\n",
       "      <th>Airport</th>\n",
       "    </tr>\n",
       "  </thead>\n",
       "  <tbody>\n",
       "    <tr>\n",
       "      <th>0</th>\n",
       "      <td>1986</td>\n",
       "      <td>4</td>\n",
       "      <td>KBFI</td>\n",
       "    </tr>\n",
       "    <tr>\n",
       "      <th>1</th>\n",
       "      <td>1987</td>\n",
       "      <td>5</td>\n",
       "      <td>KBFI</td>\n",
       "    </tr>\n",
       "    <tr>\n",
       "      <th>2</th>\n",
       "      <td>1984</td>\n",
       "      <td>9</td>\n",
       "      <td>KBFI</td>\n",
       "    </tr>\n",
       "    <tr>\n",
       "      <th>3</th>\n",
       "      <td>1985</td>\n",
       "      <td>16</td>\n",
       "      <td>KBFI</td>\n",
       "    </tr>\n",
       "    <tr>\n",
       "      <th>4</th>\n",
       "      <td>1982</td>\n",
       "      <td>8</td>\n",
       "      <td>KBFI</td>\n",
       "    </tr>\n",
       "  </tbody>\n",
       "</table>\n",
       "</div>"
      ],
      "text/plain": [
       "   Year  FTCycles Airport\n",
       "0  1986         4    KBFI\n",
       "1  1987         5    KBFI\n",
       "2  1984         9    KBFI\n",
       "3  1985        16    KBFI\n",
       "4  1982         8    KBFI"
      ]
     },
     "execution_count": 24,
     "metadata": {},
     "output_type": "execute_result"
    }
   ],
   "source": [
    "wdt.head()"
   ]
  },
  {
   "cell_type": "code",
   "execution_count": 25,
   "metadata": {
    "collapsed": false
   },
   "outputs": [],
   "source": [
    "ft = wdt.pivot('Airport', 'Year', 'FTCycles')"
   ]
  },
  {
   "cell_type": "code",
   "execution_count": 26,
   "metadata": {
    "collapsed": false
   },
   "outputs": [
    {
     "data": {
      "text/html": [
       "<div>\n",
       "<table border=\"1\" class=\"dataframe\">\n",
       "  <thead>\n",
       "    <tr style=\"text-align: right;\">\n",
       "      <th>Year</th>\n",
       "      <th>1980</th>\n",
       "      <th>1981</th>\n",
       "      <th>1982</th>\n",
       "      <th>1983</th>\n",
       "      <th>1984</th>\n",
       "      <th>1985</th>\n",
       "      <th>1986</th>\n",
       "      <th>1987</th>\n",
       "      <th>1988</th>\n",
       "      <th>1989</th>\n",
       "      <th>...</th>\n",
       "      <th>2004</th>\n",
       "      <th>2005</th>\n",
       "      <th>2006</th>\n",
       "      <th>2007</th>\n",
       "      <th>2008</th>\n",
       "      <th>2009</th>\n",
       "      <th>2010</th>\n",
       "      <th>2011</th>\n",
       "      <th>2012</th>\n",
       "      <th>2013</th>\n",
       "    </tr>\n",
       "    <tr>\n",
       "      <th>Airport</th>\n",
       "      <th></th>\n",
       "      <th></th>\n",
       "      <th></th>\n",
       "      <th></th>\n",
       "      <th></th>\n",
       "      <th></th>\n",
       "      <th></th>\n",
       "      <th></th>\n",
       "      <th></th>\n",
       "      <th></th>\n",
       "      <th></th>\n",
       "      <th></th>\n",
       "      <th></th>\n",
       "      <th></th>\n",
       "      <th></th>\n",
       "      <th></th>\n",
       "      <th></th>\n",
       "      <th></th>\n",
       "      <th></th>\n",
       "      <th></th>\n",
       "      <th></th>\n",
       "    </tr>\n",
       "  </thead>\n",
       "  <tbody>\n",
       "    <tr>\n",
       "      <th>KALW</th>\n",
       "      <td>0</td>\n",
       "      <td>12</td>\n",
       "      <td>30</td>\n",
       "      <td>25</td>\n",
       "      <td>23</td>\n",
       "      <td>48</td>\n",
       "      <td>26</td>\n",
       "      <td>23</td>\n",
       "      <td>22</td>\n",
       "      <td>28</td>\n",
       "      <td>...</td>\n",
       "      <td>18</td>\n",
       "      <td>26</td>\n",
       "      <td>8</td>\n",
       "      <td>24</td>\n",
       "      <td>24</td>\n",
       "      <td>25</td>\n",
       "      <td>15</td>\n",
       "      <td>19</td>\n",
       "      <td>24</td>\n",
       "      <td>22</td>\n",
       "    </tr>\n",
       "    <tr>\n",
       "      <th>KAWO</th>\n",
       "      <td>0</td>\n",
       "      <td>0</td>\n",
       "      <td>0</td>\n",
       "      <td>0</td>\n",
       "      <td>0</td>\n",
       "      <td>0</td>\n",
       "      <td>0</td>\n",
       "      <td>0</td>\n",
       "      <td>0</td>\n",
       "      <td>0</td>\n",
       "      <td>...</td>\n",
       "      <td>0</td>\n",
       "      <td>0</td>\n",
       "      <td>0</td>\n",
       "      <td>0</td>\n",
       "      <td>0</td>\n",
       "      <td>0</td>\n",
       "      <td>0</td>\n",
       "      <td>0</td>\n",
       "      <td>0</td>\n",
       "      <td>0</td>\n",
       "    </tr>\n",
       "    <tr>\n",
       "      <th>KBFI</th>\n",
       "      <td>8</td>\n",
       "      <td>3</td>\n",
       "      <td>8</td>\n",
       "      <td>5</td>\n",
       "      <td>9</td>\n",
       "      <td>16</td>\n",
       "      <td>4</td>\n",
       "      <td>5</td>\n",
       "      <td>0</td>\n",
       "      <td>8</td>\n",
       "      <td>...</td>\n",
       "      <td>4</td>\n",
       "      <td>4</td>\n",
       "      <td>3</td>\n",
       "      <td>7</td>\n",
       "      <td>14</td>\n",
       "      <td>13</td>\n",
       "      <td>4</td>\n",
       "      <td>6</td>\n",
       "      <td>11</td>\n",
       "      <td>2</td>\n",
       "    </tr>\n",
       "    <tr>\n",
       "      <th>KBLI</th>\n",
       "      <td>13</td>\n",
       "      <td>4</td>\n",
       "      <td>12</td>\n",
       "      <td>5</td>\n",
       "      <td>11</td>\n",
       "      <td>16</td>\n",
       "      <td>9</td>\n",
       "      <td>8</td>\n",
       "      <td>9</td>\n",
       "      <td>14</td>\n",
       "      <td>...</td>\n",
       "      <td>6</td>\n",
       "      <td>12</td>\n",
       "      <td>8</td>\n",
       "      <td>15</td>\n",
       "      <td>24</td>\n",
       "      <td>13</td>\n",
       "      <td>5</td>\n",
       "      <td>14</td>\n",
       "      <td>19</td>\n",
       "      <td>5</td>\n",
       "    </tr>\n",
       "    <tr>\n",
       "      <th>KCLM</th>\n",
       "      <td>0</td>\n",
       "      <td>2</td>\n",
       "      <td>1</td>\n",
       "      <td>1</td>\n",
       "      <td>7</td>\n",
       "      <td>7</td>\n",
       "      <td>6</td>\n",
       "      <td>5</td>\n",
       "      <td>5</td>\n",
       "      <td>7</td>\n",
       "      <td>...</td>\n",
       "      <td>2</td>\n",
       "      <td>9</td>\n",
       "      <td>7</td>\n",
       "      <td>13</td>\n",
       "      <td>26</td>\n",
       "      <td>13</td>\n",
       "      <td>8</td>\n",
       "      <td>12</td>\n",
       "      <td>12</td>\n",
       "      <td>5</td>\n",
       "    </tr>\n",
       "  </tbody>\n",
       "</table>\n",
       "<p>5 rows × 34 columns</p>\n",
       "</div>"
      ],
      "text/plain": [
       "Year     1980  1981  1982  1983  1984  1985  1986  1987  1988  1989  ...   \\\n",
       "Airport                                                              ...    \n",
       "KALW        0    12    30    25    23    48    26    23    22    28  ...    \n",
       "KAWO        0     0     0     0     0     0     0     0     0     0  ...    \n",
       "KBFI        8     3     8     5     9    16     4     5     0     8  ...    \n",
       "KBLI       13     4    12     5    11    16     9     8     9    14  ...    \n",
       "KCLM        0     2     1     1     7     7     6     5     5     7  ...    \n",
       "\n",
       "Year     2004  2005  2006  2007  2008  2009  2010  2011  2012  2013  \n",
       "Airport                                                              \n",
       "KALW       18    26     8    24    24    25    15    19    24    22  \n",
       "KAWO        0     0     0     0     0     0     0     0     0     0  \n",
       "KBFI        4     4     3     7    14    13     4     6    11     2  \n",
       "KBLI        6    12     8    15    24    13     5    14    19     5  \n",
       "KCLM        2     9     7    13    26    13     8    12    12     5  \n",
       "\n",
       "[5 rows x 34 columns]"
      ]
     },
     "execution_count": 26,
     "metadata": {},
     "output_type": "execute_result"
    }
   ],
   "source": [
    "ft.head()"
   ]
  },
  {
   "cell_type": "markdown",
   "metadata": {},
   "source": [
    "The following code identifies the points in time at which major rehabilitation occured."
   ]
  },
  {
   "cell_type": "code",
   "execution_count": 27,
   "metadata": {
    "collapsed": false
   },
   "outputs": [],
   "source": [
    "Ryrs = rdat[['UID', 'Major Rehab Year', 'Prior Major Rehab Year']]\n",
    "Ryrs = Ryrs[Ryrs.UID.isin(col_index)]\n",
    "Ryrs.columns = ['UID', 'MRYear', 'PMRYear']\n",
    "Ryrs = Ryrs.drop_duplicates(subset = 'UID')\n",
    "Ryrs.index = Ryrs.UID"
   ]
  },
  {
   "cell_type": "code",
   "execution_count": 28,
   "metadata": {
    "collapsed": true
   },
   "outputs": [],
   "source": [
    "import math\n",
    "def removeNan(row):\n",
    "    val = row['PMRYear']\n",
    "    if math.isnan(val):\n",
    "        return 1900\n",
    "    return val\n",
    "Ryrs.loc[:, 'PriorRehab'] = Ryrs.apply(removeNan, axis = 1)"
   ]
  },
  {
   "cell_type": "code",
   "execution_count": 29,
   "metadata": {
    "collapsed": false
   },
   "outputs": [
    {
     "data": {
      "text/html": [
       "<div>\n",
       "<table border=\"1\" class=\"dataframe\">\n",
       "  <thead>\n",
       "    <tr style=\"text-align: right;\">\n",
       "      <th></th>\n",
       "      <th>UID</th>\n",
       "      <th>MRYear</th>\n",
       "      <th>PMRYear</th>\n",
       "      <th>PriorRehab</th>\n",
       "    </tr>\n",
       "    <tr>\n",
       "      <th>UID</th>\n",
       "      <th></th>\n",
       "      <th></th>\n",
       "      <th></th>\n",
       "      <th></th>\n",
       "    </tr>\n",
       "  </thead>\n",
       "  <tbody>\n",
       "    <tr>\n",
       "      <th>222</th>\n",
       "      <td>222</td>\n",
       "      <td>2000</td>\n",
       "      <td>1989</td>\n",
       "      <td>1989</td>\n",
       "    </tr>\n",
       "    <tr>\n",
       "      <th>540</th>\n",
       "      <td>540</td>\n",
       "      <td>1998</td>\n",
       "      <td>1984</td>\n",
       "      <td>1984</td>\n",
       "    </tr>\n",
       "    <tr>\n",
       "      <th>2431</th>\n",
       "      <td>2431</td>\n",
       "      <td>1999</td>\n",
       "      <td>1987</td>\n",
       "      <td>1987</td>\n",
       "    </tr>\n",
       "    <tr>\n",
       "      <th>704</th>\n",
       "      <td>704</td>\n",
       "      <td>2014</td>\n",
       "      <td>2003</td>\n",
       "      <td>2003</td>\n",
       "    </tr>\n",
       "    <tr>\n",
       "      <th>776</th>\n",
       "      <td>776</td>\n",
       "      <td>2003</td>\n",
       "      <td>1997</td>\n",
       "      <td>1997</td>\n",
       "    </tr>\n",
       "  </tbody>\n",
       "</table>\n",
       "</div>"
      ],
      "text/plain": [
       "       UID  MRYear  PMRYear  PriorRehab\n",
       "UID                                    \n",
       "222    222    2000     1989        1989\n",
       "540    540    1998     1984        1984\n",
       "2431  2431    1999     1987        1987\n",
       "704    704    2014     2003        2003\n",
       "776    776    2003     1997        1997"
      ]
     },
     "execution_count": 29,
     "metadata": {},
     "output_type": "execute_result"
    }
   ],
   "source": [
    "Ryrs.head()"
   ]
  },
  {
   "cell_type": "code",
   "execution_count": 30,
   "metadata": {
    "collapsed": true
   },
   "outputs": [],
   "source": [
    "def getCode(row):\n",
    "    index = row['UID']\n",
    "    return cpmSegAp.loc[index,'TargetID']"
   ]
  },
  {
   "cell_type": "code",
   "execution_count": 31,
   "metadata": {
    "collapsed": true
   },
   "outputs": [],
   "source": [
    "Ryrs.loc[:, 'ICAO'] = Ryrs.apply(getCode, axis =1)"
   ]
  },
  {
   "cell_type": "code",
   "execution_count": 32,
   "metadata": {
    "collapsed": true
   },
   "outputs": [],
   "source": [
    "ft.loc[:,'ICAO'] = ft.index"
   ]
  },
  {
   "cell_type": "code",
   "execution_count": 33,
   "metadata": {
    "collapsed": false
   },
   "outputs": [
    {
     "data": {
      "text/html": [
       "<div>\n",
       "<table border=\"1\" class=\"dataframe\">\n",
       "  <thead>\n",
       "    <tr style=\"text-align: right;\">\n",
       "      <th>Year</th>\n",
       "      <th>1980</th>\n",
       "      <th>1981</th>\n",
       "      <th>1982</th>\n",
       "      <th>1983</th>\n",
       "      <th>1984</th>\n",
       "      <th>1985</th>\n",
       "      <th>1986</th>\n",
       "      <th>1987</th>\n",
       "      <th>1988</th>\n",
       "      <th>1989</th>\n",
       "      <th>...</th>\n",
       "      <th>2005</th>\n",
       "      <th>2006</th>\n",
       "      <th>2007</th>\n",
       "      <th>2008</th>\n",
       "      <th>2009</th>\n",
       "      <th>2010</th>\n",
       "      <th>2011</th>\n",
       "      <th>2012</th>\n",
       "      <th>2013</th>\n",
       "      <th>ICAO</th>\n",
       "    </tr>\n",
       "    <tr>\n",
       "      <th>Airport</th>\n",
       "      <th></th>\n",
       "      <th></th>\n",
       "      <th></th>\n",
       "      <th></th>\n",
       "      <th></th>\n",
       "      <th></th>\n",
       "      <th></th>\n",
       "      <th></th>\n",
       "      <th></th>\n",
       "      <th></th>\n",
       "      <th></th>\n",
       "      <th></th>\n",
       "      <th></th>\n",
       "      <th></th>\n",
       "      <th></th>\n",
       "      <th></th>\n",
       "      <th></th>\n",
       "      <th></th>\n",
       "      <th></th>\n",
       "      <th></th>\n",
       "      <th></th>\n",
       "    </tr>\n",
       "  </thead>\n",
       "  <tbody>\n",
       "    <tr>\n",
       "      <th>KALW</th>\n",
       "      <td>0</td>\n",
       "      <td>12</td>\n",
       "      <td>30</td>\n",
       "      <td>25</td>\n",
       "      <td>23</td>\n",
       "      <td>48</td>\n",
       "      <td>26</td>\n",
       "      <td>23</td>\n",
       "      <td>22</td>\n",
       "      <td>28</td>\n",
       "      <td>...</td>\n",
       "      <td>26</td>\n",
       "      <td>8</td>\n",
       "      <td>24</td>\n",
       "      <td>24</td>\n",
       "      <td>25</td>\n",
       "      <td>15</td>\n",
       "      <td>19</td>\n",
       "      <td>24</td>\n",
       "      <td>22</td>\n",
       "      <td>KALW</td>\n",
       "    </tr>\n",
       "    <tr>\n",
       "      <th>KAWO</th>\n",
       "      <td>0</td>\n",
       "      <td>0</td>\n",
       "      <td>0</td>\n",
       "      <td>0</td>\n",
       "      <td>0</td>\n",
       "      <td>0</td>\n",
       "      <td>0</td>\n",
       "      <td>0</td>\n",
       "      <td>0</td>\n",
       "      <td>0</td>\n",
       "      <td>...</td>\n",
       "      <td>0</td>\n",
       "      <td>0</td>\n",
       "      <td>0</td>\n",
       "      <td>0</td>\n",
       "      <td>0</td>\n",
       "      <td>0</td>\n",
       "      <td>0</td>\n",
       "      <td>0</td>\n",
       "      <td>0</td>\n",
       "      <td>KAWO</td>\n",
       "    </tr>\n",
       "    <tr>\n",
       "      <th>KBFI</th>\n",
       "      <td>8</td>\n",
       "      <td>3</td>\n",
       "      <td>8</td>\n",
       "      <td>5</td>\n",
       "      <td>9</td>\n",
       "      <td>16</td>\n",
       "      <td>4</td>\n",
       "      <td>5</td>\n",
       "      <td>0</td>\n",
       "      <td>8</td>\n",
       "      <td>...</td>\n",
       "      <td>4</td>\n",
       "      <td>3</td>\n",
       "      <td>7</td>\n",
       "      <td>14</td>\n",
       "      <td>13</td>\n",
       "      <td>4</td>\n",
       "      <td>6</td>\n",
       "      <td>11</td>\n",
       "      <td>2</td>\n",
       "      <td>KBFI</td>\n",
       "    </tr>\n",
       "    <tr>\n",
       "      <th>KBLI</th>\n",
       "      <td>13</td>\n",
       "      <td>4</td>\n",
       "      <td>12</td>\n",
       "      <td>5</td>\n",
       "      <td>11</td>\n",
       "      <td>16</td>\n",
       "      <td>9</td>\n",
       "      <td>8</td>\n",
       "      <td>9</td>\n",
       "      <td>14</td>\n",
       "      <td>...</td>\n",
       "      <td>12</td>\n",
       "      <td>8</td>\n",
       "      <td>15</td>\n",
       "      <td>24</td>\n",
       "      <td>13</td>\n",
       "      <td>5</td>\n",
       "      <td>14</td>\n",
       "      <td>19</td>\n",
       "      <td>5</td>\n",
       "      <td>KBLI</td>\n",
       "    </tr>\n",
       "    <tr>\n",
       "      <th>KCLM</th>\n",
       "      <td>0</td>\n",
       "      <td>2</td>\n",
       "      <td>1</td>\n",
       "      <td>1</td>\n",
       "      <td>7</td>\n",
       "      <td>7</td>\n",
       "      <td>6</td>\n",
       "      <td>5</td>\n",
       "      <td>5</td>\n",
       "      <td>7</td>\n",
       "      <td>...</td>\n",
       "      <td>9</td>\n",
       "      <td>7</td>\n",
       "      <td>13</td>\n",
       "      <td>26</td>\n",
       "      <td>13</td>\n",
       "      <td>8</td>\n",
       "      <td>12</td>\n",
       "      <td>12</td>\n",
       "      <td>5</td>\n",
       "      <td>KCLM</td>\n",
       "    </tr>\n",
       "  </tbody>\n",
       "</table>\n",
       "<p>5 rows × 35 columns</p>\n",
       "</div>"
      ],
      "text/plain": [
       "Year     1980  1981  1982  1983  1984  1985  1986  1987  1988  1989  ...   \\\n",
       "Airport                                                              ...    \n",
       "KALW        0    12    30    25    23    48    26    23    22    28  ...    \n",
       "KAWO        0     0     0     0     0     0     0     0     0     0  ...    \n",
       "KBFI        8     3     8     5     9    16     4     5     0     8  ...    \n",
       "KBLI       13     4    12     5    11    16     9     8     9    14  ...    \n",
       "KCLM        0     2     1     1     7     7     6     5     5     7  ...    \n",
       "\n",
       "Year     2005  2006  2007  2008  2009  2010  2011  2012  2013  ICAO  \n",
       "Airport                                                              \n",
       "KALW       26     8    24    24    25    15    19    24    22  KALW  \n",
       "KAWO        0     0     0     0     0     0     0     0     0  KAWO  \n",
       "KBFI        4     3     7    14    13     4     6    11     2  KBFI  \n",
       "KBLI       12     8    15    24    13     5    14    19     5  KBLI  \n",
       "KCLM        9     7    13    26    13     8    12    12     5  KCLM  \n",
       "\n",
       "[5 rows x 35 columns]"
      ]
     },
     "execution_count": 33,
     "metadata": {},
     "output_type": "execute_result"
    }
   ],
   "source": [
    "ft.head()"
   ]
  },
  {
   "cell_type": "code",
   "execution_count": 34,
   "metadata": {
    "collapsed": true
   },
   "outputs": [],
   "source": [
    "ftdb = pd.merge(Ryrs, ft, how ='left', left_on =['ICAO'], right_on = 'ICAO')"
   ]
  },
  {
   "cell_type": "code",
   "execution_count": 35,
   "metadata": {
    "collapsed": false
   },
   "outputs": [
    {
     "data": {
      "text/html": [
       "<div>\n",
       "<table border=\"1\" class=\"dataframe\">\n",
       "  <thead>\n",
       "    <tr style=\"text-align: right;\">\n",
       "      <th></th>\n",
       "      <th>UID</th>\n",
       "      <th>MRYear</th>\n",
       "      <th>PMRYear</th>\n",
       "      <th>PriorRehab</th>\n",
       "      <th>ICAO</th>\n",
       "      <th>1980</th>\n",
       "      <th>1981</th>\n",
       "      <th>1982</th>\n",
       "      <th>1983</th>\n",
       "      <th>1984</th>\n",
       "      <th>...</th>\n",
       "      <th>2004</th>\n",
       "      <th>2005</th>\n",
       "      <th>2006</th>\n",
       "      <th>2007</th>\n",
       "      <th>2008</th>\n",
       "      <th>2009</th>\n",
       "      <th>2010</th>\n",
       "      <th>2011</th>\n",
       "      <th>2012</th>\n",
       "      <th>2013</th>\n",
       "    </tr>\n",
       "  </thead>\n",
       "  <tbody>\n",
       "    <tr>\n",
       "      <th>0</th>\n",
       "      <td>222</td>\n",
       "      <td>2000</td>\n",
       "      <td>1989</td>\n",
       "      <td>1989</td>\n",
       "      <td>KAWO</td>\n",
       "      <td>0</td>\n",
       "      <td>0</td>\n",
       "      <td>0</td>\n",
       "      <td>0</td>\n",
       "      <td>0</td>\n",
       "      <td>...</td>\n",
       "      <td>0</td>\n",
       "      <td>0</td>\n",
       "      <td>0</td>\n",
       "      <td>0</td>\n",
       "      <td>0</td>\n",
       "      <td>0</td>\n",
       "      <td>0</td>\n",
       "      <td>0</td>\n",
       "      <td>0</td>\n",
       "      <td>0</td>\n",
       "    </tr>\n",
       "    <tr>\n",
       "      <th>1</th>\n",
       "      <td>540</td>\n",
       "      <td>1998</td>\n",
       "      <td>1984</td>\n",
       "      <td>1984</td>\n",
       "      <td>KESW</td>\n",
       "      <td>99</td>\n",
       "      <td>109</td>\n",
       "      <td>124</td>\n",
       "      <td>110</td>\n",
       "      <td>147</td>\n",
       "      <td>...</td>\n",
       "      <td>117</td>\n",
       "      <td>99</td>\n",
       "      <td>116</td>\n",
       "      <td>131</td>\n",
       "      <td>132</td>\n",
       "      <td>79</td>\n",
       "      <td>115</td>\n",
       "      <td>104</td>\n",
       "      <td>54</td>\n",
       "      <td>38</td>\n",
       "    </tr>\n",
       "    <tr>\n",
       "      <th>2</th>\n",
       "      <td>2431</td>\n",
       "      <td>1999</td>\n",
       "      <td>1987</td>\n",
       "      <td>1987</td>\n",
       "      <td>KSKA</td>\n",
       "      <td>49</td>\n",
       "      <td>34</td>\n",
       "      <td>67</td>\n",
       "      <td>49</td>\n",
       "      <td>59</td>\n",
       "      <td>...</td>\n",
       "      <td>40</td>\n",
       "      <td>37</td>\n",
       "      <td>54</td>\n",
       "      <td>64</td>\n",
       "      <td>73</td>\n",
       "      <td>60</td>\n",
       "      <td>56</td>\n",
       "      <td>78</td>\n",
       "      <td>92</td>\n",
       "      <td>84</td>\n",
       "    </tr>\n",
       "    <tr>\n",
       "      <th>3</th>\n",
       "      <td>704</td>\n",
       "      <td>2014</td>\n",
       "      <td>2003</td>\n",
       "      <td>2003</td>\n",
       "      <td>KESW</td>\n",
       "      <td>99</td>\n",
       "      <td>109</td>\n",
       "      <td>124</td>\n",
       "      <td>110</td>\n",
       "      <td>147</td>\n",
       "      <td>...</td>\n",
       "      <td>117</td>\n",
       "      <td>99</td>\n",
       "      <td>116</td>\n",
       "      <td>131</td>\n",
       "      <td>132</td>\n",
       "      <td>79</td>\n",
       "      <td>115</td>\n",
       "      <td>104</td>\n",
       "      <td>54</td>\n",
       "      <td>38</td>\n",
       "    </tr>\n",
       "    <tr>\n",
       "      <th>4</th>\n",
       "      <td>776</td>\n",
       "      <td>2003</td>\n",
       "      <td>1997</td>\n",
       "      <td>1997</td>\n",
       "      <td>KESW</td>\n",
       "      <td>99</td>\n",
       "      <td>109</td>\n",
       "      <td>124</td>\n",
       "      <td>110</td>\n",
       "      <td>147</td>\n",
       "      <td>...</td>\n",
       "      <td>117</td>\n",
       "      <td>99</td>\n",
       "      <td>116</td>\n",
       "      <td>131</td>\n",
       "      <td>132</td>\n",
       "      <td>79</td>\n",
       "      <td>115</td>\n",
       "      <td>104</td>\n",
       "      <td>54</td>\n",
       "      <td>38</td>\n",
       "    </tr>\n",
       "  </tbody>\n",
       "</table>\n",
       "<p>5 rows × 39 columns</p>\n",
       "</div>"
      ],
      "text/plain": [
       "    UID  MRYear  PMRYear  PriorRehab  ICAO  1980  1981  1982  1983  1984  \\\n",
       "0   222    2000     1989        1989  KAWO     0     0     0     0     0   \n",
       "1   540    1998     1984        1984  KESW    99   109   124   110   147   \n",
       "2  2431    1999     1987        1987  KSKA    49    34    67    49    59   \n",
       "3   704    2014     2003        2003  KESW    99   109   124   110   147   \n",
       "4   776    2003     1997        1997  KESW    99   109   124   110   147   \n",
       "\n",
       "   ...   2004  2005  2006  2007  2008  2009  2010  2011  2012  2013  \n",
       "0  ...      0     0     0     0     0     0     0     0     0     0  \n",
       "1  ...    117    99   116   131   132    79   115   104    54    38  \n",
       "2  ...     40    37    54    64    73    60    56    78    92    84  \n",
       "3  ...    117    99   116   131   132    79   115   104    54    38  \n",
       "4  ...    117    99   116   131   132    79   115   104    54    38  \n",
       "\n",
       "[5 rows x 39 columns]"
      ]
     },
     "execution_count": 35,
     "metadata": {},
     "output_type": "execute_result"
    }
   ],
   "source": [
    "ftdb.head()"
   ]
  },
  {
   "cell_type": "code",
   "execution_count": 88,
   "metadata": {
    "collapsed": true
   },
   "outputs": [],
   "source": [
    "def cumVal(row):\n",
    "    ix = row['UID']\n",
    "    l = np.array(row[['1980', '1981', '1982', '1983', '1984', '1985', '1986', '1987', '1988', '1989', '1990', \n",
    "                      '1991', '1992', '1993', '1994', '1995', '1996', '1997', '1998', '1999', '2000',\n",
    "                     '2001', '2002', '2003', '2004', '2005', '2006', '2007', '2008', '2009', '2010', \n",
    "                     '2011', '2012', '2013']])\n",
    "    pmr = int(row['PriorRehab'])\n",
    "    if pmr > 1981:\n",
    "        p1 = pmr - 1981\n",
    "    else:\n",
    "        p1 =0\n",
    "    mr  = int(row['MRYear'])\n",
    "    if (mr > 1981) & (mr < 2014):\n",
    "        p2 = mr - 1981\n",
    "    else:\n",
    "        p2 =0\n",
    "        \n",
    "    if (p1 ==0) & (p2==0):\n",
    "        res = list(np.cumsum(l))\n",
    "        \n",
    "    elif p1 == 0:\n",
    "        l1 = list(np.cumsum(l[0:p2]))\n",
    "        l2 = list(np.cumsum(l[p2:]))\n",
    "        res = l1 + l2\n",
    "    else:\n",
    "        l1 = list(np.cumsum(l[0:p1]))\n",
    "        l2 = list(np.cumsum(l[p1:p2]))\n",
    "        l3 = list(np.cumsum(l[p2:]))\n",
    "        res = l1 + l2 + l3\n",
    "        \n",
    "    return ix, res"
   ]
  },
  {
   "cell_type": "code",
   "execution_count": 72,
   "metadata": {
    "collapsed": true
   },
   "outputs": [],
   "source": [
    "distributeResultToColumns = lambda x: pd.Series(([i for i in x[:1]] + [j for j in x[1:][0]]))\n",
    "colNames = np.concatenate((np.array(['UID']),ftdb.columns[5:]), axis = 0)\n",
    "def getCumVarDataset(df):\n",
    "    rdf = df.apply(cumVal, axis = 1)\n",
    "    rdf = pd.DataFrame(rdf)\n",
    "    rdf.columns = ['Results']\n",
    "    newdf = rdf['Results'].apply(distributeResultToColumns)\n",
    "    output = newdf[range(35)]\n",
    "    output.columns = colNames\n",
    "    return output"
   ]
  },
  {
   "cell_type": "code",
   "execution_count": 71,
   "metadata": {
    "collapsed": false
   },
   "outputs": [
    {
     "data": {
      "text/plain": [
       "array(['UID', 1980, 1981, 1982, 1983, 1984, 1985, 1986, 1987, 1988, 1989,\n",
       "       1990, 1991, 1992, 1993, 1994, 1995, 1996, 1997, 1998, 1999, 2000,\n",
       "       2001, 2002, 2003, 2004, 2005, 2006, 2007, 2008, 2009, 2010, 2011,\n",
       "       2012, 2013], dtype=object)"
      ]
     },
     "execution_count": 71,
     "metadata": {},
     "output_type": "execute_result"
    }
   ],
   "source": [
    "np.concatenate((np.array(['UID']),ftdb.columns[5:]), axis = 0)"
   ]
  },
  {
   "cell_type": "code",
   "execution_count": 79,
   "metadata": {
    "collapsed": false
   },
   "outputs": [
    {
     "data": {
      "text/plain": [
       "array([1980, 1981, 1982, 1983, 1984, 1985, 1986, 1987, 1988, 1989, 1990,\n",
       "       1991, 1992, 1993, 1994, 1995, 1996, 1997, 1998, 1999, 2000, 2001,\n",
       "       2002, 2003, 2004, 2005, 2006, 2007, 2008, 2009, 2010, 2011, 2012,\n",
       "       2013])"
      ]
     },
     "execution_count": 79,
     "metadata": {},
     "output_type": "execute_result"
    }
   ],
   "source": [
    "np.arange(34)+1980"
   ]
  },
  {
   "cell_type": "code",
   "execution_count": 89,
   "metadata": {
    "collapsed": false
   },
   "outputs": [],
   "source": [
    "ftdb.columns = [ u'UID',     u'MRYear',    u'PMRYear', u'PriorRehab',  u'ICAO', '1980', '1981', '1982', \n",
    "                '1983', '1984', '1985', '1986', '1987', '1988', '1989', '1990', '1991', '1992', '1993', \n",
    "                '1994', '1995', '1996', '1997', '1998', '1999', '2000', '2001', '2002', '2003', '2004', \n",
    "                '2005', '2006', '2007', '2008', '2009', '2010', '2011', '2012', '2013']"
   ]
  },
  {
   "cell_type": "code",
   "execution_count": 90,
   "metadata": {
    "collapsed": false
   },
   "outputs": [],
   "source": [
    "cumFTCycles   = getCumVarDataset(ftdb)"
   ]
  },
  {
   "cell_type": "code",
   "execution_count": 92,
   "metadata": {
    "collapsed": false
   },
   "outputs": [
    {
     "data": {
      "text/html": [
       "<div>\n",
       "<table border=\"1\" class=\"dataframe\">\n",
       "  <thead>\n",
       "    <tr style=\"text-align: right;\">\n",
       "      <th></th>\n",
       "      <th>UID</th>\n",
       "      <th>1980</th>\n",
       "      <th>1981</th>\n",
       "      <th>1982</th>\n",
       "      <th>1983</th>\n",
       "      <th>1984</th>\n",
       "      <th>1985</th>\n",
       "      <th>1986</th>\n",
       "      <th>1987</th>\n",
       "      <th>1988</th>\n",
       "      <th>...</th>\n",
       "      <th>2004</th>\n",
       "      <th>2005</th>\n",
       "      <th>2006</th>\n",
       "      <th>2007</th>\n",
       "      <th>2008</th>\n",
       "      <th>2009</th>\n",
       "      <th>2010</th>\n",
       "      <th>2011</th>\n",
       "      <th>2012</th>\n",
       "      <th>2013</th>\n",
       "    </tr>\n",
       "    <tr>\n",
       "      <th>UID</th>\n",
       "      <th></th>\n",
       "      <th></th>\n",
       "      <th></th>\n",
       "      <th></th>\n",
       "      <th></th>\n",
       "      <th></th>\n",
       "      <th></th>\n",
       "      <th></th>\n",
       "      <th></th>\n",
       "      <th></th>\n",
       "      <th></th>\n",
       "      <th></th>\n",
       "      <th></th>\n",
       "      <th></th>\n",
       "      <th></th>\n",
       "      <th></th>\n",
       "      <th></th>\n",
       "      <th></th>\n",
       "      <th></th>\n",
       "      <th></th>\n",
       "      <th></th>\n",
       "    </tr>\n",
       "  </thead>\n",
       "  <tbody>\n",
       "    <tr>\n",
       "      <th>222</th>\n",
       "      <td>222</td>\n",
       "      <td>0</td>\n",
       "      <td>0</td>\n",
       "      <td>0</td>\n",
       "      <td>0</td>\n",
       "      <td>0</td>\n",
       "      <td>0</td>\n",
       "      <td>0</td>\n",
       "      <td>0</td>\n",
       "      <td>0</td>\n",
       "      <td>...</td>\n",
       "      <td>0</td>\n",
       "      <td>0</td>\n",
       "      <td>0</td>\n",
       "      <td>0</td>\n",
       "      <td>0</td>\n",
       "      <td>0</td>\n",
       "      <td>0</td>\n",
       "      <td>0</td>\n",
       "      <td>0</td>\n",
       "      <td>0</td>\n",
       "    </tr>\n",
       "    <tr>\n",
       "      <th>540</th>\n",
       "      <td>540</td>\n",
       "      <td>99</td>\n",
       "      <td>208</td>\n",
       "      <td>332</td>\n",
       "      <td>110</td>\n",
       "      <td>257</td>\n",
       "      <td>359</td>\n",
       "      <td>480</td>\n",
       "      <td>574</td>\n",
       "      <td>683</td>\n",
       "      <td>...</td>\n",
       "      <td>995</td>\n",
       "      <td>1094</td>\n",
       "      <td>1210</td>\n",
       "      <td>1341</td>\n",
       "      <td>1473</td>\n",
       "      <td>1552</td>\n",
       "      <td>1667</td>\n",
       "      <td>1771</td>\n",
       "      <td>1825</td>\n",
       "      <td>1863</td>\n",
       "    </tr>\n",
       "    <tr>\n",
       "      <th>2431</th>\n",
       "      <td>2431</td>\n",
       "      <td>49</td>\n",
       "      <td>83</td>\n",
       "      <td>150</td>\n",
       "      <td>199</td>\n",
       "      <td>258</td>\n",
       "      <td>335</td>\n",
       "      <td>52</td>\n",
       "      <td>101</td>\n",
       "      <td>149</td>\n",
       "      <td>...</td>\n",
       "      <td>391</td>\n",
       "      <td>428</td>\n",
       "      <td>482</td>\n",
       "      <td>546</td>\n",
       "      <td>619</td>\n",
       "      <td>679</td>\n",
       "      <td>735</td>\n",
       "      <td>813</td>\n",
       "      <td>905</td>\n",
       "      <td>989</td>\n",
       "    </tr>\n",
       "    <tr>\n",
       "      <th>704</th>\n",
       "      <td>704</td>\n",
       "      <td>99</td>\n",
       "      <td>208</td>\n",
       "      <td>332</td>\n",
       "      <td>442</td>\n",
       "      <td>589</td>\n",
       "      <td>691</td>\n",
       "      <td>812</td>\n",
       "      <td>906</td>\n",
       "      <td>1015</td>\n",
       "      <td>...</td>\n",
       "      <td>332</td>\n",
       "      <td>442</td>\n",
       "      <td>589</td>\n",
       "      <td>691</td>\n",
       "      <td>812</td>\n",
       "      <td>906</td>\n",
       "      <td>1015</td>\n",
       "      <td>1083</td>\n",
       "      <td>1186</td>\n",
       "      <td>1303</td>\n",
       "    </tr>\n",
       "    <tr>\n",
       "      <th>776</th>\n",
       "      <td>776</td>\n",
       "      <td>99</td>\n",
       "      <td>208</td>\n",
       "      <td>332</td>\n",
       "      <td>442</td>\n",
       "      <td>589</td>\n",
       "      <td>691</td>\n",
       "      <td>812</td>\n",
       "      <td>906</td>\n",
       "      <td>1015</td>\n",
       "      <td>...</td>\n",
       "      <td>366</td>\n",
       "      <td>465</td>\n",
       "      <td>581</td>\n",
       "      <td>712</td>\n",
       "      <td>844</td>\n",
       "      <td>923</td>\n",
       "      <td>1038</td>\n",
       "      <td>1142</td>\n",
       "      <td>1196</td>\n",
       "      <td>1234</td>\n",
       "    </tr>\n",
       "  </tbody>\n",
       "</table>\n",
       "<p>5 rows × 35 columns</p>\n",
       "</div>"
      ],
      "text/plain": [
       "       UID  1980  1981  1982  1983  1984  1985  1986  1987  1988  ...   2004  \\\n",
       "UID                                                               ...          \n",
       "222    222     0     0     0     0     0     0     0     0     0  ...      0   \n",
       "540    540    99   208   332   110   257   359   480   574   683  ...    995   \n",
       "2431  2431    49    83   150   199   258   335    52   101   149  ...    391   \n",
       "704    704    99   208   332   442   589   691   812   906  1015  ...    332   \n",
       "776    776    99   208   332   442   589   691   812   906  1015  ...    366   \n",
       "\n",
       "      2005  2006  2007  2008  2009  2010  2011  2012  2013  \n",
       "UID                                                         \n",
       "222      0     0     0     0     0     0     0     0     0  \n",
       "540   1094  1210  1341  1473  1552  1667  1771  1825  1863  \n",
       "2431   428   482   546   619   679   735   813   905   989  \n",
       "704    442   589   691   812   906  1015  1083  1186  1303  \n",
       "776    465   581   712   844   923  1038  1142  1196  1234  \n",
       "\n",
       "[5 rows x 35 columns]"
      ]
     },
     "execution_count": 92,
     "metadata": {},
     "output_type": "execute_result"
    }
   ],
   "source": [
    "cumFTCycles.index = cumFTCycles.UID\n",
    "cumFTCycles.head()"
   ]
  },
  {
   "cell_type": "code",
   "execution_count": 93,
   "metadata": {
    "collapsed": true
   },
   "outputs": [],
   "source": [
    "def popCumFTC(row):\n",
    "    index = row['UID']\n",
    "    year  = row['sYear']\n",
    "    val   = year\n",
    "    return cumFTCycles.loc[index, val]\n",
    "ds.loc[:, 'cumFTC'] = ds.apply(popCumFTC, axis = 1)"
   ]
  },
  {
   "cell_type": "code",
   "execution_count": 94,
   "metadata": {
    "collapsed": false
   },
   "outputs": [
    {
     "data": {
      "text/html": [
       "<div>\n",
       "<table border=\"1\" class=\"dataframe\">\n",
       "  <thead>\n",
       "    <tr style=\"text-align: right;\">\n",
       "      <th></th>\n",
       "      <th>Year</th>\n",
       "      <th>ID</th>\n",
       "      <th>UID</th>\n",
       "      <th>sYear</th>\n",
       "      <th>Rutting</th>\n",
       "      <th>IRI</th>\n",
       "      <th>PSC</th>\n",
       "      <th>AlliP</th>\n",
       "      <th>LongP</th>\n",
       "      <th>Trans_Cracking</th>\n",
       "      <th>...</th>\n",
       "      <th>sfThick</th>\n",
       "      <th>Tthick</th>\n",
       "      <th>TSfThick</th>\n",
       "      <th>STcode</th>\n",
       "      <th>AlliPred</th>\n",
       "      <th>cumPPT</th>\n",
       "      <th>meanMinTemp</th>\n",
       "      <th>meanMaxTemp</th>\n",
       "      <th>cumESALs</th>\n",
       "      <th>cumFTC</th>\n",
       "    </tr>\n",
       "  </thead>\n",
       "  <tbody>\n",
       "    <tr>\n",
       "      <th>0</th>\n",
       "      <td>1981</td>\n",
       "      <td>222</td>\n",
       "      <td>222</td>\n",
       "      <td>1981</td>\n",
       "      <td>0.236</td>\n",
       "      <td>15.836577</td>\n",
       "      <td>92</td>\n",
       "      <td>0.000000</td>\n",
       "      <td>3.960055</td>\n",
       "      <td>5</td>\n",
       "      <td>...</td>\n",
       "      <td>0.00</td>\n",
       "      <td>0.15</td>\n",
       "      <td>0.15</td>\n",
       "      <td>PA</td>\n",
       "      <td>1.910057</td>\n",
       "      <td>1690.469971</td>\n",
       "      <td>1.31</td>\n",
       "      <td>26.850000</td>\n",
       "      <td>57829.947364</td>\n",
       "      <td>0</td>\n",
       "    </tr>\n",
       "    <tr>\n",
       "      <th>1</th>\n",
       "      <td>1981</td>\n",
       "      <td>540</td>\n",
       "      <td>540</td>\n",
       "      <td>1981</td>\n",
       "      <td>0.236</td>\n",
       "      <td>18.840242</td>\n",
       "      <td>83</td>\n",
       "      <td>0.000000</td>\n",
       "      <td>0.000000</td>\n",
       "      <td>0</td>\n",
       "      <td>...</td>\n",
       "      <td>0.15</td>\n",
       "      <td>1.65</td>\n",
       "      <td>0.90</td>\n",
       "      <td>Other</td>\n",
       "      <td>2.126044</td>\n",
       "      <td>2157.649902</td>\n",
       "      <td>-2.84</td>\n",
       "      <td>25.230000</td>\n",
       "      <td>35421.157984</td>\n",
       "      <td>208</td>\n",
       "    </tr>\n",
       "    <tr>\n",
       "      <th>2</th>\n",
       "      <td>1981</td>\n",
       "      <td>2431</td>\n",
       "      <td>2431</td>\n",
       "      <td>1981</td>\n",
       "      <td>0.512</td>\n",
       "      <td>20.429158</td>\n",
       "      <td>37</td>\n",
       "      <td>5.965909</td>\n",
       "      <td>14.962121</td>\n",
       "      <td>37</td>\n",
       "      <td>...</td>\n",
       "      <td>0.15</td>\n",
       "      <td>1.56</td>\n",
       "      <td>0.98</td>\n",
       "      <td>BA</td>\n",
       "      <td>7.894043</td>\n",
       "      <td>337.529999</td>\n",
       "      <td>-5.94</td>\n",
       "      <td>31.230000</td>\n",
       "      <td>58882.558639</td>\n",
       "      <td>83</td>\n",
       "    </tr>\n",
       "    <tr>\n",
       "      <th>3</th>\n",
       "      <td>1981</td>\n",
       "      <td>704</td>\n",
       "      <td>704</td>\n",
       "      <td>1981</td>\n",
       "      <td>0.236</td>\n",
       "      <td>7.654330</td>\n",
       "      <td>40</td>\n",
       "      <td>0.000000</td>\n",
       "      <td>64.962121</td>\n",
       "      <td>0</td>\n",
       "      <td>...</td>\n",
       "      <td>0.65</td>\n",
       "      <td>1.75</td>\n",
       "      <td>1.00</td>\n",
       "      <td>Other</td>\n",
       "      <td>10.134499</td>\n",
       "      <td>1980.089966</td>\n",
       "      <td>-6.77</td>\n",
       "      <td>23.930000</td>\n",
       "      <td>28915.396971</td>\n",
       "      <td>208</td>\n",
       "    </tr>\n",
       "    <tr>\n",
       "      <th>4</th>\n",
       "      <td>1981</td>\n",
       "      <td>776</td>\n",
       "      <td>776</td>\n",
       "      <td>1981</td>\n",
       "      <td>0.236</td>\n",
       "      <td>11.085579</td>\n",
       "      <td>48</td>\n",
       "      <td>3.977273</td>\n",
       "      <td>9.974747</td>\n",
       "      <td>10</td>\n",
       "      <td>...</td>\n",
       "      <td>0.50</td>\n",
       "      <td>2.15</td>\n",
       "      <td>0.65</td>\n",
       "      <td>BA</td>\n",
       "      <td>3.722601</td>\n",
       "      <td>1099.699951</td>\n",
       "      <td>-6.72</td>\n",
       "      <td>28.370001</td>\n",
       "      <td>35606.843246</td>\n",
       "      <td>208</td>\n",
       "    </tr>\n",
       "  </tbody>\n",
       "</table>\n",
       "<p>5 rows × 21 columns</p>\n",
       "</div>"
      ],
      "text/plain": [
       "   Year    ID   UID  sYear  Rutting        IRI  PSC     AlliP      LongP  \\\n",
       "0  1981   222   222   1981    0.236  15.836577   92  0.000000   3.960055   \n",
       "1  1981   540   540   1981    0.236  18.840242   83  0.000000   0.000000   \n",
       "2  1981  2431  2431   1981    0.512  20.429158   37  5.965909  14.962121   \n",
       "3  1981   704   704   1981    0.236   7.654330   40  0.000000  64.962121   \n",
       "4  1981   776   776   1981    0.236  11.085579   48  3.977273   9.974747   \n",
       "\n",
       "   Trans_Cracking   ...    sfThick  Tthick  TSfThick  STcode   AlliPred  \\\n",
       "0               5   ...       0.00    0.15      0.15      PA   1.910057   \n",
       "1               0   ...       0.15    1.65      0.90   Other   2.126044   \n",
       "2              37   ...       0.15    1.56      0.98      BA   7.894043   \n",
       "3               0   ...       0.65    1.75      1.00   Other  10.134499   \n",
       "4              10   ...       0.50    2.15      0.65      BA   3.722601   \n",
       "\n",
       "        cumPPT  meanMinTemp  meanMaxTemp      cumESALs  cumFTC  \n",
       "0  1690.469971         1.31    26.850000  57829.947364       0  \n",
       "1  2157.649902        -2.84    25.230000  35421.157984     208  \n",
       "2   337.529999        -5.94    31.230000  58882.558639      83  \n",
       "3  1980.089966        -6.77    23.930000  28915.396971     208  \n",
       "4  1099.699951        -6.72    28.370001  35606.843246     208  \n",
       "\n",
       "[5 rows x 21 columns]"
      ]
     },
     "execution_count": 94,
     "metadata": {},
     "output_type": "execute_result"
    }
   ],
   "source": [
    "ds.head()"
   ]
  },
  {
   "cell_type": "code",
   "execution_count": 95,
   "metadata": {
    "collapsed": true
   },
   "outputs": [],
   "source": [
    "ds.to_csv('../FinalDatasets/CPMdataset1007.csv')"
   ]
  },
  {
   "cell_type": "code",
   "execution_count": 48,
   "metadata": {
    "collapsed": false
   },
   "outputs": [
    {
     "data": {
      "text/plain": [
       "1980     99\n",
       "1981    109\n",
       "1982    124\n",
       "1983    110\n",
       "1984    147\n",
       "1985    102\n",
       "1986    121\n",
       "1987     94\n",
       "1988    109\n",
       "1989     68\n",
       "1990    103\n",
       "1991    117\n",
       "1992     90\n",
       "1993    101\n",
       "1994    112\n",
       "1995    106\n",
       "1996    133\n",
       "1997    117\n",
       "1998    147\n",
       "1999    127\n",
       "2000     91\n",
       "2001    147\n",
       "2002    124\n",
       "2003    125\n",
       "2004    117\n",
       "2005     99\n",
       "2006    116\n",
       "2007    131\n",
       "2008    132\n",
       "2009     79\n",
       "2010    115\n",
       "2011    104\n",
       "2012     54\n",
       "2013     38\n",
       "Name: 3, dtype: object"
      ]
     },
     "execution_count": 48,
     "metadata": {},
     "output_type": "execute_result"
    }
   ],
   "source": [
    "ftdb.iloc[3, np.arange(39)[5:]]"
   ]
  },
  {
   "cell_type": "code",
   "execution_count": 43,
   "metadata": {
    "collapsed": false
   },
   "outputs": [
    {
     "data": {
      "image/png": "[encoded data removed]",
      "text/plain": [
       "<matplotlib.figure.Figure at 0x10c405390>"
      ]
     },
     "metadata": {},
     "output_type": "display_data"
    }
   ],
   "source": [
    "%matplotlib inline\n",
    "for i in np.arange(15):\n",
    "    n = int(np.random.randint(0, len(ftdb), 1))\n",
    "    ftdb.iloc[n, np.arange(39)[5:]].hist()"
   ]
  },
  {
   "cell_type": "code",
   "execution_count": 44,
   "metadata": {
    "collapsed": false
   },
   "outputs": [
    {
     "data": {
      "image/png": "[encoded data removed]",
      "text/plain": [
       "<matplotlib.figure.Figure at 0x10c6898d0>"
      ]
     },
     "metadata": {},
     "output_type": "display_data"
    }
   ],
   "source": [
    "for i in np.arange(20):\n",
    "    n = int(np.random.randint(0, len(ftdb), 1))\n",
    "    ftdb.iloc[n, np.arange(39)[5:]].plot()"
   ]
  },
  {
   "cell_type": "code",
   "execution_count": 45,
   "metadata": {
    "collapsed": false
   },
   "outputs": [
    {
     "data": {
      "image/png": "[encoded data removed]",
      "text/plain": [
       "<matplotlib.figure.Figure at 0x10c751a90>"
      ]
     },
     "metadata": {},
     "output_type": "display_data"
    }
   ],
   "source": [
    "for i in np.arange(20):\n",
    "    n = int(np.random.randint(0, len(ftdb), 1))\n",
    "    ftdb.iloc[n, np.arange(39)[5:]].plot()"
   ]
  },
  {
   "cell_type": "code",
   "execution_count": 49,
   "metadata": {
    "collapsed": true
   },
   "outputs": [],
   "source": [
    "def getmean(row, df):\n",
    "    index = int(row.idx)\n",
    "    m = df.iloc[index, np.arange(39)[5:]].mean()\n",
    "    return m\n",
    "def getstd(row, df):\n",
    "    index = int(row.idx)\n",
    "    std = df.iloc[index, np.arange(39)[5:]].std()\n",
    "    return std\n",
    "def addMeanStd(ds, var):    \n",
    "    ds.index = np.arange(len(ds))\n",
    "    ds['idx'] = np.arange(len(ds))\n",
    "    m_name = var + 'mean'\n",
    "    std_name = var + 'std'\n",
    "    ds[m_name] = ds.apply(getmean, axis = 1, args = (ds,))\n",
    "    ds[std_name] = ds.apply(getstd, axis = 1, args = (ds,))\n",
    "\n",
    "#adding the mean values and std for the respective variables\n",
    "addMeanStd(ftdb, 'FTC')"
   ]
  },
  {
   "cell_type": "code",
   "execution_count": 51,
   "metadata": {
    "collapsed": false
   },
   "outputs": [
    {
     "data": {
      "text/html": [
       "<div>\n",
       "<table border=\"1\" class=\"dataframe\">\n",
       "  <thead>\n",
       "    <tr style=\"text-align: right;\">\n",
       "      <th></th>\n",
       "      <th>UID</th>\n",
       "      <th>MRYear</th>\n",
       "      <th>PMRYear</th>\n",
       "      <th>PriorRehab</th>\n",
       "      <th>ICAO</th>\n",
       "      <th>1980</th>\n",
       "      <th>1981</th>\n",
       "      <th>1982</th>\n",
       "      <th>1983</th>\n",
       "      <th>1984</th>\n",
       "      <th>...</th>\n",
       "      <th>2007</th>\n",
       "      <th>2008</th>\n",
       "      <th>2009</th>\n",
       "      <th>2010</th>\n",
       "      <th>2011</th>\n",
       "      <th>2012</th>\n",
       "      <th>2013</th>\n",
       "      <th>idx</th>\n",
       "      <th>FTCmean</th>\n",
       "      <th>FTCstd</th>\n",
       "    </tr>\n",
       "  </thead>\n",
       "  <tbody>\n",
       "    <tr>\n",
       "      <th>0</th>\n",
       "      <td>222</td>\n",
       "      <td>2000</td>\n",
       "      <td>1989</td>\n",
       "      <td>1989</td>\n",
       "      <td>KAWO</td>\n",
       "      <td>0</td>\n",
       "      <td>0</td>\n",
       "      <td>0</td>\n",
       "      <td>0</td>\n",
       "      <td>0</td>\n",
       "      <td>...</td>\n",
       "      <td>0</td>\n",
       "      <td>0</td>\n",
       "      <td>0</td>\n",
       "      <td>0</td>\n",
       "      <td>0</td>\n",
       "      <td>0</td>\n",
       "      <td>0</td>\n",
       "      <td>0</td>\n",
       "      <td>0.000000</td>\n",
       "      <td>0.000000</td>\n",
       "    </tr>\n",
       "    <tr>\n",
       "      <th>1</th>\n",
       "      <td>540</td>\n",
       "      <td>1998</td>\n",
       "      <td>1984</td>\n",
       "      <td>1984</td>\n",
       "      <td>KESW</td>\n",
       "      <td>99</td>\n",
       "      <td>109</td>\n",
       "      <td>124</td>\n",
       "      <td>110</td>\n",
       "      <td>147</td>\n",
       "      <td>...</td>\n",
       "      <td>131</td>\n",
       "      <td>132</td>\n",
       "      <td>79</td>\n",
       "      <td>115</td>\n",
       "      <td>104</td>\n",
       "      <td>54</td>\n",
       "      <td>38</td>\n",
       "      <td>1</td>\n",
       "      <td>109.058824</td>\n",
       "      <td>24.197347</td>\n",
       "    </tr>\n",
       "    <tr>\n",
       "      <th>2</th>\n",
       "      <td>2431</td>\n",
       "      <td>1999</td>\n",
       "      <td>1987</td>\n",
       "      <td>1987</td>\n",
       "      <td>KSKA</td>\n",
       "      <td>49</td>\n",
       "      <td>34</td>\n",
       "      <td>67</td>\n",
       "      <td>49</td>\n",
       "      <td>59</td>\n",
       "      <td>...</td>\n",
       "      <td>64</td>\n",
       "      <td>73</td>\n",
       "      <td>60</td>\n",
       "      <td>56</td>\n",
       "      <td>78</td>\n",
       "      <td>92</td>\n",
       "      <td>84</td>\n",
       "      <td>2</td>\n",
       "      <td>57.235294</td>\n",
       "      <td>13.751163</td>\n",
       "    </tr>\n",
       "    <tr>\n",
       "      <th>3</th>\n",
       "      <td>704</td>\n",
       "      <td>2014</td>\n",
       "      <td>2003</td>\n",
       "      <td>2003</td>\n",
       "      <td>KESW</td>\n",
       "      <td>99</td>\n",
       "      <td>109</td>\n",
       "      <td>124</td>\n",
       "      <td>110</td>\n",
       "      <td>147</td>\n",
       "      <td>...</td>\n",
       "      <td>131</td>\n",
       "      <td>132</td>\n",
       "      <td>79</td>\n",
       "      <td>115</td>\n",
       "      <td>104</td>\n",
       "      <td>54</td>\n",
       "      <td>38</td>\n",
       "      <td>3</td>\n",
       "      <td>109.058824</td>\n",
       "      <td>24.197347</td>\n",
       "    </tr>\n",
       "    <tr>\n",
       "      <th>4</th>\n",
       "      <td>776</td>\n",
       "      <td>2003</td>\n",
       "      <td>1997</td>\n",
       "      <td>1997</td>\n",
       "      <td>KESW</td>\n",
       "      <td>99</td>\n",
       "      <td>109</td>\n",
       "      <td>124</td>\n",
       "      <td>110</td>\n",
       "      <td>147</td>\n",
       "      <td>...</td>\n",
       "      <td>131</td>\n",
       "      <td>132</td>\n",
       "      <td>79</td>\n",
       "      <td>115</td>\n",
       "      <td>104</td>\n",
       "      <td>54</td>\n",
       "      <td>38</td>\n",
       "      <td>4</td>\n",
       "      <td>109.058824</td>\n",
       "      <td>24.197347</td>\n",
       "    </tr>\n",
       "  </tbody>\n",
       "</table>\n",
       "<p>5 rows × 42 columns</p>\n",
       "</div>"
      ],
      "text/plain": [
       "    UID  MRYear  PMRYear  PriorRehab  ICAO  1980  1981  1982  1983  1984  \\\n",
       "0   222    2000     1989        1989  KAWO     0     0     0     0     0   \n",
       "1   540    1998     1984        1984  KESW    99   109   124   110   147   \n",
       "2  2431    1999     1987        1987  KSKA    49    34    67    49    59   \n",
       "3   704    2014     2003        2003  KESW    99   109   124   110   147   \n",
       "4   776    2003     1997        1997  KESW    99   109   124   110   147   \n",
       "\n",
       "     ...      2007  2008  2009  2010  2011  2012  2013  idx     FTCmean  \\\n",
       "0    ...         0     0     0     0     0     0     0    0    0.000000   \n",
       "1    ...       131   132    79   115   104    54    38    1  109.058824   \n",
       "2    ...        64    73    60    56    78    92    84    2   57.235294   \n",
       "3    ...       131   132    79   115   104    54    38    3  109.058824   \n",
       "4    ...       131   132    79   115   104    54    38    4  109.058824   \n",
       "\n",
       "      FTCstd  \n",
       "0   0.000000  \n",
       "1  24.197347  \n",
       "2  13.751163  \n",
       "3  24.197347  \n",
       "4  24.197347  \n",
       "\n",
       "[5 rows x 42 columns]"
      ]
     },
     "execution_count": 51,
     "metadata": {},
     "output_type": "execute_result"
    }
   ],
   "source": [
    "ftdb.head()"
   ]
  },
  {
   "cell_type": "code",
   "execution_count": 50,
   "metadata": {
    "collapsed": true
   },
   "outputs": [],
   "source": [
    "wdb = pd.read_csv('../modelDatasets/weather_vars_stats.csv')"
   ]
  },
  {
   "cell_type": "code",
   "execution_count": 53,
   "metadata": {
    "collapsed": false
   },
   "outputs": [
    {
     "data": {
      "text/html": [
       "<div>\n",
       "<table border=\"1\" class=\"dataframe\">\n",
       "  <thead>\n",
       "    <tr style=\"text-align: right;\">\n",
       "      <th></th>\n",
       "      <th>Unnamed: 0</th>\n",
       "      <th>ID</th>\n",
       "      <th>ESALmean</th>\n",
       "      <th>ESALstd</th>\n",
       "      <th>PPTmean</th>\n",
       "      <th>PPTstd</th>\n",
       "      <th>MINTmean</th>\n",
       "      <th>MINTstd</th>\n",
       "      <th>MAXTmean</th>\n",
       "      <th>MAXTstd</th>\n",
       "    </tr>\n",
       "  </thead>\n",
       "  <tbody>\n",
       "    <tr>\n",
       "      <th>0</th>\n",
       "      <td>0</td>\n",
       "      <td>1</td>\n",
       "      <td>23496.869612</td>\n",
       "      <td>4884.604865</td>\n",
       "      <td>964.209355</td>\n",
       "      <td>154.203705</td>\n",
       "      <td>0.188065</td>\n",
       "      <td>1.393931</td>\n",
       "      <td>24.471613</td>\n",
       "      <td>1.182844</td>\n",
       "    </tr>\n",
       "    <tr>\n",
       "      <th>1</th>\n",
       "      <td>1</td>\n",
       "      <td>24</td>\n",
       "      <td>136028.254537</td>\n",
       "      <td>28277.991273</td>\n",
       "      <td>1025.094193</td>\n",
       "      <td>159.552571</td>\n",
       "      <td>-0.035161</td>\n",
       "      <td>1.405529</td>\n",
       "      <td>24.216452</td>\n",
       "      <td>1.142242</td>\n",
       "    </tr>\n",
       "    <tr>\n",
       "      <th>2</th>\n",
       "      <td>2</td>\n",
       "      <td>27</td>\n",
       "      <td>83571.872262</td>\n",
       "      <td>17373.189728</td>\n",
       "      <td>1025.094193</td>\n",
       "      <td>159.552571</td>\n",
       "      <td>-0.035161</td>\n",
       "      <td>1.405529</td>\n",
       "      <td>24.216452</td>\n",
       "      <td>1.142242</td>\n",
       "    </tr>\n",
       "    <tr>\n",
       "      <th>3</th>\n",
       "      <td>3</td>\n",
       "      <td>28</td>\n",
       "      <td>83571.872262</td>\n",
       "      <td>17373.189728</td>\n",
       "      <td>1025.094193</td>\n",
       "      <td>159.552571</td>\n",
       "      <td>-0.035161</td>\n",
       "      <td>1.405529</td>\n",
       "      <td>24.216452</td>\n",
       "      <td>1.142242</td>\n",
       "    </tr>\n",
       "    <tr>\n",
       "      <th>4</th>\n",
       "      <td>4</td>\n",
       "      <td>32</td>\n",
       "      <td>91051.346892</td>\n",
       "      <td>18928.046982</td>\n",
       "      <td>1025.094193</td>\n",
       "      <td>159.552571</td>\n",
       "      <td>-0.035161</td>\n",
       "      <td>1.405529</td>\n",
       "      <td>24.216452</td>\n",
       "      <td>1.142242</td>\n",
       "    </tr>\n",
       "  </tbody>\n",
       "</table>\n",
       "</div>"
      ],
      "text/plain": [
       "   Unnamed: 0  ID       ESALmean       ESALstd      PPTmean      PPTstd  \\\n",
       "0           0   1   23496.869612   4884.604865   964.209355  154.203705   \n",
       "1           1  24  136028.254537  28277.991273  1025.094193  159.552571   \n",
       "2           2  27   83571.872262  17373.189728  1025.094193  159.552571   \n",
       "3           3  28   83571.872262  17373.189728  1025.094193  159.552571   \n",
       "4           4  32   91051.346892  18928.046982  1025.094193  159.552571   \n",
       "\n",
       "   MINTmean   MINTstd   MAXTmean   MAXTstd  \n",
       "0  0.188065  1.393931  24.471613  1.182844  \n",
       "1 -0.035161  1.405529  24.216452  1.142242  \n",
       "2 -0.035161  1.405529  24.216452  1.142242  \n",
       "3 -0.035161  1.405529  24.216452  1.142242  \n",
       "4 -0.035161  1.405529  24.216452  1.142242  "
      ]
     },
     "execution_count": 53,
     "metadata": {},
     "output_type": "execute_result"
    }
   ],
   "source": [
    "wdb.head()"
   ]
  },
  {
   "cell_type": "code",
   "execution_count": 52,
   "metadata": {
    "collapsed": true
   },
   "outputs": [],
   "source": [
    "ftd = ftdb[['UID', 'FTCmean', 'FTCstd']]"
   ]
  },
  {
   "cell_type": "code",
   "execution_count": 54,
   "metadata": {
    "collapsed": false
   },
   "outputs": [
    {
     "name": "stdout",
     "output_type": "stream",
     "text": [
      "True\n"
     ]
    }
   ],
   "source": [
    "merged_ds = pd.merge(wdb, ftd, how = 'left', left_on = 'ID', right_on = 'UID')\n",
    "print len(merged_ds) == len(ftd)"
   ]
  },
  {
   "cell_type": "code",
   "execution_count": 55,
   "metadata": {
    "collapsed": false
   },
   "outputs": [
    {
     "data": {
      "text/html": [
       "<div>\n",
       "<table border=\"1\" class=\"dataframe\">\n",
       "  <thead>\n",
       "    <tr style=\"text-align: right;\">\n",
       "      <th></th>\n",
       "      <th>Unnamed: 0</th>\n",
       "      <th>ID</th>\n",
       "      <th>ESALmean</th>\n",
       "      <th>ESALstd</th>\n",
       "      <th>PPTmean</th>\n",
       "      <th>PPTstd</th>\n",
       "      <th>MINTmean</th>\n",
       "      <th>MINTstd</th>\n",
       "      <th>MAXTmean</th>\n",
       "      <th>MAXTstd</th>\n",
       "      <th>UID</th>\n",
       "      <th>FTCmean</th>\n",
       "      <th>FTCstd</th>\n",
       "    </tr>\n",
       "  </thead>\n",
       "  <tbody>\n",
       "    <tr>\n",
       "      <th>0</th>\n",
       "      <td>0</td>\n",
       "      <td>1</td>\n",
       "      <td>23496.869612</td>\n",
       "      <td>4884.604865</td>\n",
       "      <td>964.209355</td>\n",
       "      <td>154.203705</td>\n",
       "      <td>0.188065</td>\n",
       "      <td>1.393931</td>\n",
       "      <td>24.471613</td>\n",
       "      <td>1.182844</td>\n",
       "      <td>1</td>\n",
       "      <td>10.735294</td>\n",
       "      <td>6.214884</td>\n",
       "    </tr>\n",
       "    <tr>\n",
       "      <th>1</th>\n",
       "      <td>1</td>\n",
       "      <td>24</td>\n",
       "      <td>136028.254537</td>\n",
       "      <td>28277.991273</td>\n",
       "      <td>1025.094193</td>\n",
       "      <td>159.552571</td>\n",
       "      <td>-0.035161</td>\n",
       "      <td>1.405529</td>\n",
       "      <td>24.216452</td>\n",
       "      <td>1.142242</td>\n",
       "      <td>24</td>\n",
       "      <td>10.735294</td>\n",
       "      <td>6.214884</td>\n",
       "    </tr>\n",
       "    <tr>\n",
       "      <th>2</th>\n",
       "      <td>2</td>\n",
       "      <td>27</td>\n",
       "      <td>83571.872262</td>\n",
       "      <td>17373.189728</td>\n",
       "      <td>1025.094193</td>\n",
       "      <td>159.552571</td>\n",
       "      <td>-0.035161</td>\n",
       "      <td>1.405529</td>\n",
       "      <td>24.216452</td>\n",
       "      <td>1.142242</td>\n",
       "      <td>27</td>\n",
       "      <td>10.735294</td>\n",
       "      <td>6.214884</td>\n",
       "    </tr>\n",
       "    <tr>\n",
       "      <th>3</th>\n",
       "      <td>3</td>\n",
       "      <td>28</td>\n",
       "      <td>83571.872262</td>\n",
       "      <td>17373.189728</td>\n",
       "      <td>1025.094193</td>\n",
       "      <td>159.552571</td>\n",
       "      <td>-0.035161</td>\n",
       "      <td>1.405529</td>\n",
       "      <td>24.216452</td>\n",
       "      <td>1.142242</td>\n",
       "      <td>28</td>\n",
       "      <td>10.735294</td>\n",
       "      <td>6.214884</td>\n",
       "    </tr>\n",
       "    <tr>\n",
       "      <th>4</th>\n",
       "      <td>4</td>\n",
       "      <td>32</td>\n",
       "      <td>91051.346892</td>\n",
       "      <td>18928.046982</td>\n",
       "      <td>1025.094193</td>\n",
       "      <td>159.552571</td>\n",
       "      <td>-0.035161</td>\n",
       "      <td>1.405529</td>\n",
       "      <td>24.216452</td>\n",
       "      <td>1.142242</td>\n",
       "      <td>32</td>\n",
       "      <td>10.735294</td>\n",
       "      <td>6.214884</td>\n",
       "    </tr>\n",
       "  </tbody>\n",
       "</table>\n",
       "</div>"
      ],
      "text/plain": [
       "   Unnamed: 0  ID       ESALmean       ESALstd      PPTmean      PPTstd  \\\n",
       "0           0   1   23496.869612   4884.604865   964.209355  154.203705   \n",
       "1           1  24  136028.254537  28277.991273  1025.094193  159.552571   \n",
       "2           2  27   83571.872262  17373.189728  1025.094193  159.552571   \n",
       "3           3  28   83571.872262  17373.189728  1025.094193  159.552571   \n",
       "4           4  32   91051.346892  18928.046982  1025.094193  159.552571   \n",
       "\n",
       "   MINTmean   MINTstd   MAXTmean   MAXTstd  UID    FTCmean    FTCstd  \n",
       "0  0.188065  1.393931  24.471613  1.182844    1  10.735294  6.214884  \n",
       "1 -0.035161  1.405529  24.216452  1.142242   24  10.735294  6.214884  \n",
       "2 -0.035161  1.405529  24.216452  1.142242   27  10.735294  6.214884  \n",
       "3 -0.035161  1.405529  24.216452  1.142242   28  10.735294  6.214884  \n",
       "4 -0.035161  1.405529  24.216452  1.142242   32  10.735294  6.214884  "
      ]
     },
     "execution_count": 55,
     "metadata": {},
     "output_type": "execute_result"
    }
   ],
   "source": [
    "merged_ds.head()"
   ]
  },
  {
   "cell_type": "code",
   "execution_count": 57,
   "metadata": {
    "collapsed": false
   },
   "outputs": [],
   "source": [
    "weather_ds = merged_ds[[u'UID', u'ESALmean', u'ESALstd', u'PPTmean', u'PPTstd', u'MINTmean', \n",
    "                        u'MINTstd', u'MAXTmean', u'MAXTstd', u'FTCmean', u'FTCstd']]"
   ]
  },
  {
   "cell_type": "code",
   "execution_count": 58,
   "metadata": {
    "collapsed": true
   },
   "outputs": [],
   "source": [
    "weather_ds.to_csv('../modelDatasets/weather_vars_stats2.csv')"
   ]
  }
 ],
 "metadata": {
  "kernelspec": {
   "display_name": "Python 2",
   "language": "python",
   "name": "python2"
  },
  "language_info": {
   "codemirror_mode": {
    "name": "ipython",
    "version": 2
   },
   "file_extension": ".py",
   "mimetype": "text/x-python",
   "name": "python",
   "nbconvert_exporter": "python",
   "pygments_lexer": "ipython2",
   "version": "2.7.10"
  }
 },
 "nbformat": 4,
 "nbformat_minor": 0
}
