{
 "cells": [
  {
   "cell_type": "code",
   "execution_count": 2,
   "metadata": {
    "collapsed": true
   },
   "outputs": [],
   "source": [
    "import numpy as np\n",
    "import pandas as pd\n",
    "import xlsxwriter"
   ]
  },
  {
   "cell_type": "code",
   "execution_count": 16,
   "metadata": {
    "collapsed": false
   },
   "outputs": [],
   "source": [
    "su = pd.read_excel('../DataFiles/surveyUnits.xlsx')\n",
    "cd = pd.read_excel('../DataFiles/contractsIDs.xlsx')\n",
    "ch = pd.read_excel('../DataFiles/contractsHistoryIDs.xlsx')\n",
    "SU = pd.read_excel(\"../DataFiles/Survey Units.xlsx\")\n",
    "CD= pd.read_excel(\"../DataFiles/Contracts.xlsx\")\n",
    "CH= pd.read_excel(\"../DataFiles/Contract History.xlsx\")"
   ]
  },
  {
   "cell_type": "code",
   "execution_count": 17,
   "metadata": {
    "collapsed": true
   },
   "outputs": [],
   "source": [
    "su.loc[0, 'code2'] = 0\n",
    "cd.loc[0, 'code2'] = 0\n",
    "ch.loc[0, 'code2'] = 0"
   ]
  },
  {
   "cell_type": "code",
   "execution_count": 23,
   "metadata": {
    "collapsed": false
   },
   "outputs": [],
   "source": [
    "sus = su.sort(columns=['SR', 'bs'])\n",
    "cds = cd.sort(columns=['SR', 'bs'])\n",
    "chs = ch.sort(columns=['SR', 'bs'])"
   ]
  },
  {
   "cell_type": "code",
   "execution_count": 24,
   "metadata": {
    "collapsed": false
   },
   "outputs": [],
   "source": [
    "sus.index = range(len(sus))\n",
    "cds.index = range(len(cds))\n",
    "chs.index = range(len(chs))"
   ]
  },
  {
   "cell_type": "code",
   "execution_count": 52,
   "metadata": {
    "collapsed": false
   },
   "outputs": [
    {
     "data": {
      "text/html": [
       "<div>\n",
       "<table border=\"1\" class=\"dataframe\">\n",
       "  <thead>\n",
       "    <tr style=\"text-align: right;\">\n",
       "      <th></th>\n",
       "      <th>SR</th>\n",
       "      <th>BA</th>\n",
       "      <th>EA</th>\n",
       "      <th>bs</th>\n",
       "      <th>es</th>\n",
       "      <th>UID</th>\n",
       "      <th>uidp</th>\n",
       "      <th>uidt</th>\n",
       "      <th>code</th>\n",
       "      <th>bsi</th>\n",
       "      <th>uid</th>\n",
       "      <th>code2</th>\n",
       "    </tr>\n",
       "  </thead>\n",
       "  <tbody>\n",
       "    <tr>\n",
       "      <th>0</th>\n",
       "      <td>2</td>\n",
       "      <td>0</td>\n",
       "      <td>0.13</td>\n",
       "      <td>0</td>\n",
       "      <td>1</td>\n",
       "      <td>1</td>\n",
       "      <td>1</td>\n",
       "      <td>1</td>\n",
       "      <td>1</td>\n",
       "      <td>1</td>\n",
       "      <td>2</td>\n",
       "      <td>0</td>\n",
       "    </tr>\n",
       "    <tr>\n",
       "      <th>1</th>\n",
       "      <td>2</td>\n",
       "      <td>0</td>\n",
       "      <td>0.57</td>\n",
       "      <td>0</td>\n",
       "      <td>5</td>\n",
       "      <td>1</td>\n",
       "      <td>1</td>\n",
       "      <td>1</td>\n",
       "      <td>1</td>\n",
       "      <td>3</td>\n",
       "      <td>4</td>\n",
       "      <td>1</td>\n",
       "    </tr>\n",
       "    <tr>\n",
       "      <th>2</th>\n",
       "      <td>2</td>\n",
       "      <td>0</td>\n",
       "      <td>0.57</td>\n",
       "      <td>0</td>\n",
       "      <td>5</td>\n",
       "      <td>1</td>\n",
       "      <td>1</td>\n",
       "      <td>1</td>\n",
       "      <td>1</td>\n",
       "      <td>3</td>\n",
       "      <td>4</td>\n",
       "      <td>0</td>\n",
       "    </tr>\n",
       "    <tr>\n",
       "      <th>3</th>\n",
       "      <td>2</td>\n",
       "      <td>0</td>\n",
       "      <td>0.57</td>\n",
       "      <td>0</td>\n",
       "      <td>5</td>\n",
       "      <td>1</td>\n",
       "      <td>1</td>\n",
       "      <td>1</td>\n",
       "      <td>1</td>\n",
       "      <td>3</td>\n",
       "      <td>4</td>\n",
       "      <td>0</td>\n",
       "    </tr>\n",
       "    <tr>\n",
       "      <th>4</th>\n",
       "      <td>2</td>\n",
       "      <td>0</td>\n",
       "      <td>0.63</td>\n",
       "      <td>0</td>\n",
       "      <td>6</td>\n",
       "      <td>1</td>\n",
       "      <td>1</td>\n",
       "      <td>1</td>\n",
       "      <td>1</td>\n",
       "      <td>3</td>\n",
       "      <td>4</td>\n",
       "      <td>1</td>\n",
       "    </tr>\n",
       "  </tbody>\n",
       "</table>\n",
       "</div>"
      ],
      "text/plain": [
       "   SR  BA    EA  bs  es  UID  uidp  uidt  code  bsi  uid  code2\n",
       "0   2   0  0.13   0   1    1     1     1     1    1    2      0\n",
       "1   2   0  0.57   0   5    1     1     1     1    3    4      1\n",
       "2   2   0  0.57   0   5    1     1     1     1    3    4      0\n",
       "3   2   0  0.57   0   5    1     1     1     1    3    4      0\n",
       "4   2   0  0.63   0   6    1     1     1     1    3    4      1"
      ]
     },
     "execution_count": 52,
     "metadata": {},
     "output_type": "execute_result"
    }
   ],
   "source": [
    "cds.head()"
   ]
  },
  {
   "cell_type": "code",
   "execution_count": 53,
   "metadata": {
    "collapsed": false
   },
   "outputs": [
    {
     "data": {
      "text/html": [
       "<div>\n",
       "<table border=\"1\" class=\"dataframe\">\n",
       "  <thead>\n",
       "    <tr style=\"text-align: right;\">\n",
       "      <th></th>\n",
       "      <th>SR</th>\n",
       "      <th>BA</th>\n",
       "      <th>EA</th>\n",
       "      <th>bs</th>\n",
       "      <th>es</th>\n",
       "      <th>UID</th>\n",
       "      <th>uidp</th>\n",
       "      <th>uidt</th>\n",
       "      <th>code</th>\n",
       "      <th>bsi</th>\n",
       "      <th>uid</th>\n",
       "      <th>code2</th>\n",
       "    </tr>\n",
       "  </thead>\n",
       "  <tbody>\n",
       "    <tr>\n",
       "      <th>0</th>\n",
       "      <td>2</td>\n",
       "      <td>0.00</td>\n",
       "      <td>0.10</td>\n",
       "      <td>0</td>\n",
       "      <td>1</td>\n",
       "      <td>1</td>\n",
       "      <td>1</td>\n",
       "      <td>1</td>\n",
       "      <td>1</td>\n",
       "      <td>1</td>\n",
       "      <td>2</td>\n",
       "      <td>0</td>\n",
       "    </tr>\n",
       "    <tr>\n",
       "      <th>1</th>\n",
       "      <td>2</td>\n",
       "      <td>0.00</td>\n",
       "      <td>0.12</td>\n",
       "      <td>0</td>\n",
       "      <td>1</td>\n",
       "      <td>1</td>\n",
       "      <td>1</td>\n",
       "      <td>1</td>\n",
       "      <td>1</td>\n",
       "      <td>1</td>\n",
       "      <td>2</td>\n",
       "      <td>0</td>\n",
       "    </tr>\n",
       "    <tr>\n",
       "      <th>2</th>\n",
       "      <td>2</td>\n",
       "      <td>0.00</td>\n",
       "      <td>0.13</td>\n",
       "      <td>0</td>\n",
       "      <td>1</td>\n",
       "      <td>1</td>\n",
       "      <td>1</td>\n",
       "      <td>1</td>\n",
       "      <td>1</td>\n",
       "      <td>1</td>\n",
       "      <td>2</td>\n",
       "      <td>0</td>\n",
       "    </tr>\n",
       "    <tr>\n",
       "      <th>3</th>\n",
       "      <td>2</td>\n",
       "      <td>0.00</td>\n",
       "      <td>0.07</td>\n",
       "      <td>0</td>\n",
       "      <td>0</td>\n",
       "      <td>1</td>\n",
       "      <td>1</td>\n",
       "      <td>1</td>\n",
       "      <td>1</td>\n",
       "      <td>0</td>\n",
       "      <td>1</td>\n",
       "      <td>0</td>\n",
       "    </tr>\n",
       "    <tr>\n",
       "      <th>4</th>\n",
       "      <td>2</td>\n",
       "      <td>0.07</td>\n",
       "      <td>0.15</td>\n",
       "      <td>0</td>\n",
       "      <td>1</td>\n",
       "      <td>1</td>\n",
       "      <td>1</td>\n",
       "      <td>1</td>\n",
       "      <td>1</td>\n",
       "      <td>1</td>\n",
       "      <td>2</td>\n",
       "      <td>1</td>\n",
       "    </tr>\n",
       "  </tbody>\n",
       "</table>\n",
       "</div>"
      ],
      "text/plain": [
       "   SR    BA    EA  bs  es  UID  uidp  uidt  code  bsi  uid  code2\n",
       "0   2  0.00  0.10   0   1    1     1     1     1    1    2      0\n",
       "1   2  0.00  0.12   0   1    1     1     1     1    1    2      0\n",
       "2   2  0.00  0.13   0   1    1     1     1     1    1    2      0\n",
       "3   2  0.00  0.07   0   0    1     1     1     1    0    1      0\n",
       "4   2  0.07  0.15   0   1    1     1     1     1    1    2      1"
      ]
     },
     "execution_count": 53,
     "metadata": {},
     "output_type": "execute_result"
    }
   ],
   "source": [
    "chs[chs.code ==1].head()"
   ]
  },
  {
   "cell_type": "code",
   "execution_count": 56,
   "metadata": {
    "collapsed": false
   },
   "outputs": [
    {
     "data": {
      "text/html": [
       "<div>\n",
       "<table border=\"1\" class=\"dataframe\">\n",
       "  <thead>\n",
       "    <tr style=\"text-align: right;\">\n",
       "      <th></th>\n",
       "      <th>SR</th>\n",
       "      <th>BA</th>\n",
       "      <th>EA</th>\n",
       "      <th>bs</th>\n",
       "      <th>es</th>\n",
       "      <th>UID</th>\n",
       "      <th>uidp</th>\n",
       "      <th>uidt</th>\n",
       "      <th>code</th>\n",
       "      <th>bsi</th>\n",
       "      <th>uid</th>\n",
       "      <th>code2</th>\n",
       "    </tr>\n",
       "  </thead>\n",
       "  <tbody>\n",
       "    <tr>\n",
       "      <th>3639</th>\n",
       "      <td>2</td>\n",
       "      <td>294.31</td>\n",
       "      <td>294.41</td>\n",
       "      <td>2943</td>\n",
       "      <td>2944</td>\n",
       "      <td>2944</td>\n",
       "      <td>2943</td>\n",
       "      <td>2944</td>\n",
       "      <td>1</td>\n",
       "      <td>2944</td>\n",
       "      <td>2945</td>\n",
       "      <td>0</td>\n",
       "    </tr>\n",
       "    <tr>\n",
       "      <th>3640</th>\n",
       "      <td>2</td>\n",
       "      <td>294.31</td>\n",
       "      <td>294.41</td>\n",
       "      <td>2943</td>\n",
       "      <td>2944</td>\n",
       "      <td>2944</td>\n",
       "      <td>2944</td>\n",
       "      <td>2945</td>\n",
       "      <td>1</td>\n",
       "      <td>2944</td>\n",
       "      <td>2945</td>\n",
       "      <td>0</td>\n",
       "    </tr>\n",
       "  </tbody>\n",
       "</table>\n",
       "</div>"
      ],
      "text/plain": [
       "      SR      BA      EA    bs    es   UID  uidp  uidt  code   bsi   uid  \\\n",
       "3639   2  294.31  294.41  2943  2944  2944  2943  2944     1  2944  2945   \n",
       "3640   2  294.31  294.41  2943  2944  2944  2944  2945     1  2944  2945   \n",
       "\n",
       "      code2  \n",
       "3639      0  \n",
       "3640      0  "
      ]
     },
     "execution_count": 56,
     "metadata": {},
     "output_type": "execute_result"
    }
   ],
   "source": [
    "sus[sus.uid == 2945].head()"
   ]
  },
  {
   "cell_type": "code",
   "execution_count": 31,
   "metadata": {
    "collapsed": true
   },
   "outputs": [],
   "source": [
    "def addVars(idcode):\n",
    "    chs.loc[1:, 'uidp'] = np.array(chs.loc[:, idcode])[:-1]\n",
    "    cds.loc[1:, 'uidp'] = np.array(cds.loc[:, idcode])[:-1]\n",
    "    sus.loc[1:, 'uidp'] = np.array(sus.loc[:, idcode])[:-1]\n",
    "    chs.loc[0, 'uidp'] = chs.loc[0, idcode]\n",
    "    cds.loc[0, 'uidp'] = cds.loc[0, idcode]\n",
    "    sus.loc[0, 'uidp'] = sus.loc[0, idcode]\n",
    "    chs.loc[:(len(ch)-2), 'uidt'] = np.array(chs.loc[:, idcode])[1:]\n",
    "    cds.loc[:(len(cds)-2), 'uidt'] = np.array(cds.loc[:, idcode])[1:]\n",
    "    sus.loc[:(len(su)-2), 'uidt'] = np.array(sus.loc[:, idcode])[1:]\n",
    "    chs.loc[(len(ch)-1), 'uidt'] = chs.loc[(len(ch)-1), idcode]\n",
    "    cds.loc[(len(cds)-1), 'uidt'] = cds.loc[(len(cds)-1), idcode]\n",
    "    sus.loc[(len(su)-1), 'uidt'] = sus.loc[(len(su)-1), idcode]"
   ]
  },
  {
   "cell_type": "code",
   "execution_count": 32,
   "metadata": {
    "collapsed": false
   },
   "outputs": [],
   "source": [
    "addVars('UID')"
   ]
  },
  {
   "cell_type": "code",
   "execution_count": 57,
   "metadata": {
    "collapsed": true
   },
   "outputs": [],
   "source": [
    "def refineCode(row):\n",
    "    id1 = row['UID']\n",
    "    id2 = row['uidp']\n",
    "    id3 = row['uidt']\n",
    "    if id1 == id2:\n",
    "        return 1\n",
    "    elif id1 == id3:\n",
    "        return 1\n",
    "    return 0\n",
    "def refineCode2(row):\n",
    "    id1 = row['uid']\n",
    "    id2 = row['uidp']\n",
    "    id3 = row['uidt']\n",
    "    if id1 == id2:\n",
    "        return 1\n",
    "    elif id1 == id3:\n",
    "        return 1\n",
    "    return 0"
   ]
  },
  {
   "cell_type": "code",
   "execution_count": 37,
   "metadata": {
    "collapsed": true
   },
   "outputs": [],
   "source": [
    "chs.loc[:, 'code'] = chs.apply(refineCode, axis =1)\n",
    "cds.loc[:, 'code'] = cds.apply(refineCode, axis =1)\n",
    "sus.loc[:, 'code'] = sus.apply(refineCode, axis =1)"
   ]
  },
  {
   "cell_type": "code",
   "execution_count": 45,
   "metadata": {
    "collapsed": true
   },
   "outputs": [],
   "source": [
    "def modifyCode(row):\n",
    "    code = row['code']\n",
    "    bs   = row['bs']\n",
    "    es   = row['es']\n",
    "    if code == 1:\n",
    "        return int(round((bs+es)/2))\n",
    "    else:\n",
    "        return bs"
   ]
  },
  {
   "cell_type": "code",
   "execution_count": 46,
   "metadata": {
    "collapsed": true
   },
   "outputs": [],
   "source": [
    "chs.loc[:, 'bsi'] = chs.apply(modifyCode, axis =1)\n",
    "cds.loc[:, 'bsi'] = cds.apply(modifyCode, axis =1)\n",
    "sus.loc[:, 'bsi'] = sus.apply(modifyCode, axis =1)"
   ]
  },
  {
   "cell_type": "code",
   "execution_count": 47,
   "metadata": {
    "collapsed": true
   },
   "outputs": [],
   "source": [
    "def getUID2(row):\n",
    "    rd = row['SR']\n",
    "    bg = row['bsi']\n",
    "    code = row['code']\n",
    "    if code == 1:\n",
    "        res = db[((db.SR==rd) & (db.bs == bg))].UID\n",
    "        if list(res) == []:\n",
    "            return None\n",
    "        else:\n",
    "            return list(res)[0]\n",
    "    else:\n",
    "        return row['UID']"
   ]
  },
  {
   "cell_type": "code",
   "execution_count": 49,
   "metadata": {
    "collapsed": true
   },
   "outputs": [],
   "source": [
    "db = pd.read_excel('../DataFiles/sid.xlsx')"
   ]
  },
  {
   "cell_type": "code",
   "execution_count": 50,
   "metadata": {
    "collapsed": false
   },
   "outputs": [
    {
     "data": {
      "text/html": [
       "<div>\n",
       "<table border=\"1\" class=\"dataframe\">\n",
       "  <thead>\n",
       "    <tr style=\"text-align: right;\">\n",
       "      <th></th>\n",
       "      <th>SR</th>\n",
       "      <th>bs</th>\n",
       "      <th>es</th>\n",
       "      <th>UID</th>\n",
       "    </tr>\n",
       "  </thead>\n",
       "  <tbody>\n",
       "    <tr>\n",
       "      <th>0</th>\n",
       "      <td>2</td>\n",
       "      <td>0</td>\n",
       "      <td>1</td>\n",
       "      <td>1</td>\n",
       "    </tr>\n",
       "    <tr>\n",
       "      <th>1</th>\n",
       "      <td>2</td>\n",
       "      <td>1</td>\n",
       "      <td>2</td>\n",
       "      <td>2</td>\n",
       "    </tr>\n",
       "    <tr>\n",
       "      <th>2</th>\n",
       "      <td>2</td>\n",
       "      <td>2</td>\n",
       "      <td>3</td>\n",
       "      <td>3</td>\n",
       "    </tr>\n",
       "    <tr>\n",
       "      <th>3</th>\n",
       "      <td>2</td>\n",
       "      <td>3</td>\n",
       "      <td>4</td>\n",
       "      <td>4</td>\n",
       "    </tr>\n",
       "    <tr>\n",
       "      <th>4</th>\n",
       "      <td>2</td>\n",
       "      <td>4</td>\n",
       "      <td>5</td>\n",
       "      <td>5</td>\n",
       "    </tr>\n",
       "  </tbody>\n",
       "</table>\n",
       "</div>"
      ],
      "text/plain": [
       "   SR  bs  es  UID\n",
       "0   2   0   1    1\n",
       "1   2   1   2    2\n",
       "2   2   2   3    3\n",
       "3   2   3   4    4\n",
       "4   2   4   5    5"
      ]
     },
     "execution_count": 50,
     "metadata": {},
     "output_type": "execute_result"
    }
   ],
   "source": [
    "db.head()"
   ]
  },
  {
   "cell_type": "code",
   "execution_count": 51,
   "metadata": {
    "collapsed": false
   },
   "outputs": [],
   "source": [
    "chs.loc[:, 'uid'] = chs.apply(getUID2, axis =1)\n",
    "cds.loc[:, 'uid'] = cds.apply(getUID2, axis =1)\n",
    "sus.loc[:, 'uid'] = sus.apply(getUID2, axis =1)"
   ]
  },
  {
   "cell_type": "code",
   "execution_count": 58,
   "metadata": {
    "collapsed": true
   },
   "outputs": [],
   "source": [
    "addVars('uid')"
   ]
  },
  {
   "cell_type": "code",
   "execution_count": 59,
   "metadata": {
    "collapsed": true
   },
   "outputs": [],
   "source": [
    "chs.loc[:, 'code2'] = chs.apply(refineCode2, axis =1)\n",
    "cds.loc[:, 'code2'] = cds.apply(refineCode2, axis =1)\n",
    "sus.loc[:, 'code2'] = sus.apply(refineCode2, axis =1)"
   ]
  },
  {
   "cell_type": "code",
   "execution_count": 60,
   "metadata": {
    "collapsed": false
   },
   "outputs": [
    {
     "name": "stdout",
     "output_type": "stream",
     "text": [
      "12270 28588\n",
      "41876 54196\n",
      "36449 91022\n"
     ]
    }
   ],
   "source": [
    "print len(chs[chs.code2==1]), len(chs)\n",
    "print len(cds[cds.code2==1]), len(cds)\n",
    "print len(sus[sus.code2==1]), len(sus)"
   ]
  },
  {
   "cell_type": "code",
   "execution_count": 61,
   "metadata": {
    "collapsed": false
   },
   "outputs": [
    {
     "name": "stdout",
     "output_type": "stream",
     "text": [
      "21040 28588\n",
      "50325 54196\n",
      "39909 91022\n"
     ]
    }
   ],
   "source": [
    "print len(chs[chs.code==1]), len(chs)\n",
    "print len(cds[cds.code==1]), len(cds)\n",
    "print len(sus[sus.code==1]), len(sus)"
   ]
  },
  {
   "cell_type": "code",
   "execution_count": 62,
   "metadata": {
    "collapsed": true
   },
   "outputs": [],
   "source": [
    "cch = pd.merge(cds, chs, how = 'left',left_on = ['uid'], right_on = ['uid'])"
   ]
  },
  {
   "cell_type": "code",
   "execution_count": 63,
   "metadata": {
    "collapsed": false
   },
   "outputs": [
    {
     "data": {
      "text/html": [
       "<div>\n",
       "<table border=\"1\" class=\"dataframe\">\n",
       "  <thead>\n",
       "    <tr style=\"text-align: right;\">\n",
       "      <th></th>\n",
       "      <th>SR_x</th>\n",
       "      <th>BA_x</th>\n",
       "      <th>EA_x</th>\n",
       "      <th>bs_x</th>\n",
       "      <th>es_x</th>\n",
       "      <th>UID_x</th>\n",
       "      <th>uidp_x</th>\n",
       "      <th>uidt_x</th>\n",
       "      <th>code_x</th>\n",
       "      <th>bsi_x</th>\n",
       "      <th>...</th>\n",
       "      <th>BA_y</th>\n",
       "      <th>EA_y</th>\n",
       "      <th>bs_y</th>\n",
       "      <th>es_y</th>\n",
       "      <th>UID_y</th>\n",
       "      <th>uidp_y</th>\n",
       "      <th>uidt_y</th>\n",
       "      <th>code_y</th>\n",
       "      <th>bsi_y</th>\n",
       "      <th>code2_y</th>\n",
       "    </tr>\n",
       "  </thead>\n",
       "  <tbody>\n",
       "    <tr>\n",
       "      <th>0</th>\n",
       "      <td>2</td>\n",
       "      <td>0</td>\n",
       "      <td>0.13</td>\n",
       "      <td>0</td>\n",
       "      <td>1</td>\n",
       "      <td>1</td>\n",
       "      <td>2</td>\n",
       "      <td>4</td>\n",
       "      <td>1</td>\n",
       "      <td>1</td>\n",
       "      <td>...</td>\n",
       "      <td>0.00</td>\n",
       "      <td>0.10</td>\n",
       "      <td>0</td>\n",
       "      <td>1</td>\n",
       "      <td>1</td>\n",
       "      <td>2</td>\n",
       "      <td>2</td>\n",
       "      <td>1</td>\n",
       "      <td>1</td>\n",
       "      <td>1</td>\n",
       "    </tr>\n",
       "    <tr>\n",
       "      <th>1</th>\n",
       "      <td>2</td>\n",
       "      <td>0</td>\n",
       "      <td>0.13</td>\n",
       "      <td>0</td>\n",
       "      <td>1</td>\n",
       "      <td>1</td>\n",
       "      <td>2</td>\n",
       "      <td>4</td>\n",
       "      <td>1</td>\n",
       "      <td>1</td>\n",
       "      <td>...</td>\n",
       "      <td>0.00</td>\n",
       "      <td>0.12</td>\n",
       "      <td>0</td>\n",
       "      <td>1</td>\n",
       "      <td>1</td>\n",
       "      <td>2</td>\n",
       "      <td>2</td>\n",
       "      <td>1</td>\n",
       "      <td>1</td>\n",
       "      <td>1</td>\n",
       "    </tr>\n",
       "    <tr>\n",
       "      <th>2</th>\n",
       "      <td>2</td>\n",
       "      <td>0</td>\n",
       "      <td>0.13</td>\n",
       "      <td>0</td>\n",
       "      <td>1</td>\n",
       "      <td>1</td>\n",
       "      <td>2</td>\n",
       "      <td>4</td>\n",
       "      <td>1</td>\n",
       "      <td>1</td>\n",
       "      <td>...</td>\n",
       "      <td>0.00</td>\n",
       "      <td>0.13</td>\n",
       "      <td>0</td>\n",
       "      <td>1</td>\n",
       "      <td>1</td>\n",
       "      <td>2</td>\n",
       "      <td>1</td>\n",
       "      <td>1</td>\n",
       "      <td>1</td>\n",
       "      <td>1</td>\n",
       "    </tr>\n",
       "    <tr>\n",
       "      <th>3</th>\n",
       "      <td>2</td>\n",
       "      <td>0</td>\n",
       "      <td>0.13</td>\n",
       "      <td>0</td>\n",
       "      <td>1</td>\n",
       "      <td>1</td>\n",
       "      <td>2</td>\n",
       "      <td>4</td>\n",
       "      <td>1</td>\n",
       "      <td>1</td>\n",
       "      <td>...</td>\n",
       "      <td>0.07</td>\n",
       "      <td>0.15</td>\n",
       "      <td>0</td>\n",
       "      <td>1</td>\n",
       "      <td>1</td>\n",
       "      <td>1</td>\n",
       "      <td>4</td>\n",
       "      <td>1</td>\n",
       "      <td>1</td>\n",
       "      <td>0</td>\n",
       "    </tr>\n",
       "    <tr>\n",
       "      <th>4</th>\n",
       "      <td>2</td>\n",
       "      <td>0</td>\n",
       "      <td>0.13</td>\n",
       "      <td>0</td>\n",
       "      <td>1</td>\n",
       "      <td>1</td>\n",
       "      <td>2</td>\n",
       "      <td>4</td>\n",
       "      <td>1</td>\n",
       "      <td>1</td>\n",
       "      <td>...</td>\n",
       "      <td>0.00</td>\n",
       "      <td>0.11</td>\n",
       "      <td>0</td>\n",
       "      <td>1</td>\n",
       "      <td>1</td>\n",
       "      <td>4</td>\n",
       "      <td>2</td>\n",
       "      <td>1</td>\n",
       "      <td>1</td>\n",
       "      <td>1</td>\n",
       "    </tr>\n",
       "  </tbody>\n",
       "</table>\n",
       "<p>5 rows × 23 columns</p>\n",
       "</div>"
      ],
      "text/plain": [
       "   SR_x  BA_x  EA_x  bs_x  es_x  UID_x  uidp_x  uidt_x  code_x  bsi_x  \\\n",
       "0     2     0  0.13     0     1      1       2       4       1      1   \n",
       "1     2     0  0.13     0     1      1       2       4       1      1   \n",
       "2     2     0  0.13     0     1      1       2       4       1      1   \n",
       "3     2     0  0.13     0     1      1       2       4       1      1   \n",
       "4     2     0  0.13     0     1      1       2       4       1      1   \n",
       "\n",
       "    ...     BA_y  EA_y  bs_y  es_y  UID_y  uidp_y  uidt_y  code_y  bsi_y  \\\n",
       "0   ...     0.00  0.10     0     1      1       2       2       1      1   \n",
       "1   ...     0.00  0.12     0     1      1       2       2       1      1   \n",
       "2   ...     0.00  0.13     0     1      1       2       1       1      1   \n",
       "3   ...     0.07  0.15     0     1      1       1       4       1      1   \n",
       "4   ...     0.00  0.11     0     1      1       4       2       1      1   \n",
       "\n",
       "   code2_y  \n",
       "0        1  \n",
       "1        1  \n",
       "2        1  \n",
       "3        0  \n",
       "4        1  \n",
       "\n",
       "[5 rows x 23 columns]"
      ]
     },
     "execution_count": 63,
     "metadata": {},
     "output_type": "execute_result"
    }
   ],
   "source": [
    "cch.head()"
   ]
  },
  {
   "cell_type": "code",
   "execution_count": 64,
   "metadata": {
    "collapsed": true
   },
   "outputs": [],
   "source": [
    "cchs = cch.dropna(subset = ['BA_y', 'EA_y'])"
   ]
  },
  {
   "cell_type": "code",
   "execution_count": 66,
   "metadata": {
    "collapsed": false
   },
   "outputs": [
    {
     "name": "stdout",
     "output_type": "stream",
     "text": [
      "1516502 54196\n"
     ]
    }
   ],
   "source": [
    "print len(cchs), len(cds)"
   ]
  },
  {
   "cell_type": "code",
   "execution_count": 67,
   "metadata": {
    "collapsed": true
   },
   "outputs": [],
   "source": [
    "cdc = cds.drop_duplicates(subset = ['uid'])\n",
    "chc = chs.drop_duplicates(subset = ['uid'])\n",
    "suc = sus.drop_duplicates(subset = ['uid'])"
   ]
  },
  {
   "cell_type": "code",
   "execution_count": 69,
   "metadata": {
    "collapsed": false
   },
   "outputs": [
    {
     "name": "stdout",
     "output_type": "stream",
     "text": [
      "54196 16448\n",
      "28588 15495\n",
      "91022 69385\n"
     ]
    }
   ],
   "source": [
    "print len(cds), len(cdc)\n",
    "print len(chs), len(chc)\n",
    "print len(sus), len(suc)"
   ]
  },
  {
   "cell_type": "code",
   "execution_count": 70,
   "metadata": {
    "collapsed": true
   },
   "outputs": [],
   "source": [
    "m1 = pd.merge(suc, chc, how = 'left', left_on =['uid'], right_on =['uid'])"
   ]
  },
  {
   "cell_type": "code",
   "execution_count": 76,
   "metadata": {
    "collapsed": false
   },
   "outputs": [
    {
     "data": {
      "text/plain": [
       "Index([   u'SR_x',    u'BA_x',    u'EA_x',    u'bs_x',    u'es_x',   u'UID_x',\n",
       "        u'uidp_x',  u'uidt_x',  u'code_x',   u'bsi_x',     u'uid', u'code2_x',\n",
       "          u'SR_y',    u'BA_y',    u'EA_y',    u'bs_y',    u'es_y',   u'UID_y',\n",
       "        u'uidp_y',  u'uidt_y',  u'code_y',   u'bsi_y', u'code2_y',      u'SR',\n",
       "            u'BA',      u'EA',      u'bs',      u'es',     u'UID',    u'uidp',\n",
       "          u'uidt',    u'code',     u'bsi',   u'code2'],\n",
       "      dtype='object')"
      ]
     },
     "execution_count": 76,
     "metadata": {},
     "output_type": "execute_result"
    }
   ],
   "source": [
    "m2.columns"
   ]
  },
  {
   "cell_type": "code",
   "execution_count": 72,
   "metadata": {
    "collapsed": true
   },
   "outputs": [],
   "source": [
    "sch = m1.dropna(subset = [ u'bs_y',    u'es_y'])"
   ]
  },
  {
   "cell_type": "code",
   "execution_count": 73,
   "metadata": {
    "collapsed": false
   },
   "outputs": [
    {
     "data": {
      "text/plain": [
       "15385"
      ]
     },
     "execution_count": 73,
     "metadata": {},
     "output_type": "execute_result"
    }
   ],
   "source": [
    "len(sch)"
   ]
  },
  {
   "cell_type": "code",
   "execution_count": 75,
   "metadata": {
    "collapsed": false
   },
   "outputs": [],
   "source": [
    "m2 = pd.merge(sch, cdc, how = 'left', left_on =['uid'], right_on =['uid'])"
   ]
  },
  {
   "cell_type": "code",
   "execution_count": 78,
   "metadata": {
    "collapsed": false
   },
   "outputs": [],
   "source": [
    "ds = m2.dropna(subset = [ u'bs',    u'es'])"
   ]
  },
  {
   "cell_type": "code",
   "execution_count": 79,
   "metadata": {
    "collapsed": false
   },
   "outputs": [
    {
     "data": {
      "text/plain": [
       "10779"
      ]
     },
     "execution_count": 79,
     "metadata": {},
     "output_type": "execute_result"
    }
   ],
   "source": [
    "len(ds)"
   ]
  },
  {
   "cell_type": "code",
   "execution_count": 80,
   "metadata": {
    "collapsed": false
   },
   "outputs": [
    {
     "data": {
      "text/html": [
       "<div>\n",
       "<table border=\"1\" class=\"dataframe\">\n",
       "  <thead>\n",
       "    <tr style=\"text-align: right;\">\n",
       "      <th></th>\n",
       "      <th>SR_x</th>\n",
       "      <th>BA_x</th>\n",
       "      <th>EA_x</th>\n",
       "      <th>bs_x</th>\n",
       "      <th>es_x</th>\n",
       "      <th>UID_x</th>\n",
       "      <th>uidp_x</th>\n",
       "      <th>uidt_x</th>\n",
       "      <th>code_x</th>\n",
       "      <th>bsi_x</th>\n",
       "      <th>...</th>\n",
       "      <th>BA</th>\n",
       "      <th>EA</th>\n",
       "      <th>bs</th>\n",
       "      <th>es</th>\n",
       "      <th>UID</th>\n",
       "      <th>uidp</th>\n",
       "      <th>uidt</th>\n",
       "      <th>code</th>\n",
       "      <th>bsi</th>\n",
       "      <th>code2</th>\n",
       "    </tr>\n",
       "  </thead>\n",
       "  <tbody>\n",
       "    <tr>\n",
       "      <th>0</th>\n",
       "      <td>2</td>\n",
       "      <td>0.00</td>\n",
       "      <td>0.10</td>\n",
       "      <td>0</td>\n",
       "      <td>1</td>\n",
       "      <td>1</td>\n",
       "      <td>2</td>\n",
       "      <td>2</td>\n",
       "      <td>1</td>\n",
       "      <td>1</td>\n",
       "      <td>...</td>\n",
       "      <td>0.00</td>\n",
       "      <td>0.13</td>\n",
       "      <td>0</td>\n",
       "      <td>1</td>\n",
       "      <td>1</td>\n",
       "      <td>2</td>\n",
       "      <td>4</td>\n",
       "      <td>1</td>\n",
       "      <td>1</td>\n",
       "      <td>1</td>\n",
       "    </tr>\n",
       "    <tr>\n",
       "      <th>1</th>\n",
       "      <td>2</td>\n",
       "      <td>0.00</td>\n",
       "      <td>0.07</td>\n",
       "      <td>0</td>\n",
       "      <td>0</td>\n",
       "      <td>1</td>\n",
       "      <td>2</td>\n",
       "      <td>2</td>\n",
       "      <td>1</td>\n",
       "      <td>0</td>\n",
       "      <td>...</td>\n",
       "      <td>0.00</td>\n",
       "      <td>0.04</td>\n",
       "      <td>0</td>\n",
       "      <td>0</td>\n",
       "      <td>1</td>\n",
       "      <td>2</td>\n",
       "      <td>1</td>\n",
       "      <td>1</td>\n",
       "      <td>0</td>\n",
       "      <td>1</td>\n",
       "    </tr>\n",
       "    <tr>\n",
       "      <th>2</th>\n",
       "      <td>2</td>\n",
       "      <td>0.13</td>\n",
       "      <td>0.23</td>\n",
       "      <td>1</td>\n",
       "      <td>2</td>\n",
       "      <td>2</td>\n",
       "      <td>2</td>\n",
       "      <td>2</td>\n",
       "      <td>1</td>\n",
       "      <td>2</td>\n",
       "      <td>...</td>\n",
       "      <td>0.00</td>\n",
       "      <td>0.49</td>\n",
       "      <td>0</td>\n",
       "      <td>4</td>\n",
       "      <td>1</td>\n",
       "      <td>9</td>\n",
       "      <td>3</td>\n",
       "      <td>1</td>\n",
       "      <td>2</td>\n",
       "      <td>1</td>\n",
       "    </tr>\n",
       "    <tr>\n",
       "      <th>3</th>\n",
       "      <td>2</td>\n",
       "      <td>0.23</td>\n",
       "      <td>0.35</td>\n",
       "      <td>2</td>\n",
       "      <td>3</td>\n",
       "      <td>3</td>\n",
       "      <td>3</td>\n",
       "      <td>4</td>\n",
       "      <td>1</td>\n",
       "      <td>3</td>\n",
       "      <td>...</td>\n",
       "      <td>0.00</td>\n",
       "      <td>0.57</td>\n",
       "      <td>0</td>\n",
       "      <td>5</td>\n",
       "      <td>1</td>\n",
       "      <td>2</td>\n",
       "      <td>4</td>\n",
       "      <td>1</td>\n",
       "      <td>3</td>\n",
       "      <td>1</td>\n",
       "    </tr>\n",
       "    <tr>\n",
       "      <th>4</th>\n",
       "      <td>2</td>\n",
       "      <td>0.35</td>\n",
       "      <td>0.45</td>\n",
       "      <td>3</td>\n",
       "      <td>4</td>\n",
       "      <td>4</td>\n",
       "      <td>4</td>\n",
       "      <td>5</td>\n",
       "      <td>1</td>\n",
       "      <td>4</td>\n",
       "      <td>...</td>\n",
       "      <td>0.39</td>\n",
       "      <td>0.48</td>\n",
       "      <td>3</td>\n",
       "      <td>4</td>\n",
       "      <td>4</td>\n",
       "      <td>15</td>\n",
       "      <td>4</td>\n",
       "      <td>1</td>\n",
       "      <td>4</td>\n",
       "      <td>0</td>\n",
       "    </tr>\n",
       "  </tbody>\n",
       "</table>\n",
       "<p>5 rows × 34 columns</p>\n",
       "</div>"
      ],
      "text/plain": [
       "   SR_x  BA_x  EA_x  bs_x  es_x  UID_x  uidp_x  uidt_x  code_x  bsi_x  ...    \\\n",
       "0     2  0.00  0.10     0     1      1       2       2       1      1  ...     \n",
       "1     2  0.00  0.07     0     0      1       2       2       1      0  ...     \n",
       "2     2  0.13  0.23     1     2      2       2       2       1      2  ...     \n",
       "3     2  0.23  0.35     2     3      3       3       4       1      3  ...     \n",
       "4     2  0.35  0.45     3     4      4       4       5       1      4  ...     \n",
       "\n",
       "     BA    EA  bs  es  UID  uidp  uidt  code  bsi  code2  \n",
       "0  0.00  0.13   0   1    1     2     4     1    1      1  \n",
       "1  0.00  0.04   0   0    1     2     1     1    0      1  \n",
       "2  0.00  0.49   0   4    1     9     3     1    2      1  \n",
       "3  0.00  0.57   0   5    1     2     4     1    3      1  \n",
       "4  0.39  0.48   3   4    4    15     4     1    4      0  \n",
       "\n",
       "[5 rows x 34 columns]"
      ]
     },
     "execution_count": 80,
     "metadata": {},
     "output_type": "execute_result"
    }
   ],
   "source": [
    "ds.head()"
   ]
  },
  {
   "cell_type": "code",
   "execution_count": 88,
   "metadata": {
    "collapsed": false
   },
   "outputs": [],
   "source": [
    "# sch.head()"
   ]
  },
  {
   "cell_type": "code",
   "execution_count": 89,
   "metadata": {
    "collapsed": false
   },
   "outputs": [],
   "source": [
    "sud = pd.merge(SU, suc, how = 'left', left_on =['SR', 'Begin ARM', 'End ARM'], right_on =['SR', 'BA', 'EA'])"
   ]
  },
  {
   "cell_type": "code",
   "execution_count": 94,
   "metadata": {
    "collapsed": true
   },
   "outputs": [],
   "source": [
    "sut = sud.dropna(subset = ['bs', 'es'])\n",
    "surveyUnits = sut.drop_duplicates(subset = ['uid'])"
   ]
  },
  {
   "cell_type": "code",
   "execution_count": 95,
   "metadata": {
    "collapsed": false
   },
   "outputs": [
    {
     "name": "stdout",
     "output_type": "stream",
     "text": [
      "69385\n",
      "True\n"
     ]
    }
   ],
   "source": [
    "print len(surveyUnits)\n",
    "print len(surveyUnits) == len(suc)"
   ]
  },
  {
   "cell_type": "code",
   "execution_count": 96,
   "metadata": {
    "collapsed": true
   },
   "outputs": [],
   "source": [
    "chd = pd.merge(CH, chc, how = 'left', left_on =['SR', 'Begin ARM', 'End ARM'], right_on =['SR', 'BA', 'EA'])\n",
    "cht = chd.dropna(subset = ['bs', 'es'])\n",
    "contractsHistory = cht.drop_duplicates(subset = ['uid'])"
   ]
  },
  {
   "cell_type": "code",
   "execution_count": 97,
   "metadata": {
    "collapsed": false
   },
   "outputs": [
    {
     "name": "stdout",
     "output_type": "stream",
     "text": [
      "15495\n",
      "True\n"
     ]
    }
   ],
   "source": [
    "print len(contractsHistory)\n",
    "print len(contractsHistory) == len(chc)"
   ]
  },
  {
   "cell_type": "code",
   "execution_count": 98,
   "metadata": {
    "collapsed": true
   },
   "outputs": [],
   "source": [
    "cdd = pd.merge(CD, cdc, how = 'left', left_on =['SR', 'Begin ARM', 'End ARM'], right_on =['SR', 'BA', 'EA'])\n",
    "cdt = cdd.dropna(subset = ['bs', 'es'])\n",
    "contracts = cdt.drop_duplicates(subset = ['uid'])"
   ]
  },
  {
   "cell_type": "code",
   "execution_count": 99,
   "metadata": {
    "collapsed": false
   },
   "outputs": [
    {
     "name": "stdout",
     "output_type": "stream",
     "text": [
      "16448\n",
      "True\n"
     ]
    }
   ],
   "source": [
    "print len(contracts)\n",
    "print len(contracts) == len(cdc)"
   ]
  },
  {
   "cell_type": "code",
   "execution_count": 100,
   "metadata": {
    "collapsed": true
   },
   "outputs": [],
   "source": [
    "contracts.to_excel('../DataFiles/contractsR.xlsx')\n",
    "contractsHistory.to_excel('../DataFiles/contractsHistR.xlsx')\n",
    "surveyUnits.to_excel('../DataFiles/surveyUnitsR.xlsx')"
   ]
  },
  {
   "cell_type": "code",
   "execution_count": null,
   "metadata": {
    "collapsed": true
   },
   "outputs": [],
   "source": []
  }
 ],
 "metadata": {
  "kernelspec": {
   "display_name": "Python 2",
   "language": "python",
   "name": "python2"
  },
  "language_info": {
   "codemirror_mode": {
    "name": "ipython",
    "version": 2
   },
   "file_extension": ".py",
   "mimetype": "text/x-python",
   "name": "python",
   "nbconvert_exporter": "python",
   "pygments_lexer": "ipython2",
   "version": "2.7.10"
  }
 },
 "nbformat": 4,
 "nbformat_minor": 0
}
