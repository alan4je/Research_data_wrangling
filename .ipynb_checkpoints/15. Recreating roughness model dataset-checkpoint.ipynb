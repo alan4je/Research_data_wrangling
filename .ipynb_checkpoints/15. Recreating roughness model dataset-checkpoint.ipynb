{
 "cells": [
  {
   "cell_type": "code",
   "execution_count": 1,
   "metadata": {
    "collapsed": true
   },
   "outputs": [],
   "source": [
    "import pandas as pd, numpy as np"
   ]
  },
  {
   "cell_type": "code",
   "execution_count": 2,
   "metadata": {
    "collapsed": true
   },
   "outputs": [],
   "source": [
    "ds = pd.read_csv('../modelDatasets/ndata.csv')"
   ]
  },
  {
   "cell_type": "code",
   "execution_count": 3,
   "metadata": {
    "collapsed": false
   },
   "outputs": [
    {
     "data": {
      "text/html": [
       "<div>\n",
       "<table border=\"1\" class=\"dataframe\">\n",
       "  <thead>\n",
       "    <tr style=\"text-align: right;\">\n",
       "      <th></th>\n",
       "      <th>Unnamed: 0</th>\n",
       "      <th>UID</th>\n",
       "      <th>IsBridge</th>\n",
       "      <th>Lane Surface Type</th>\n",
       "      <th>LaneMiles</th>\n",
       "      <th>Region_x</th>\n",
       "      <th>FFClass</th>\n",
       "      <th>SurfaceTypeCode</th>\n",
       "      <th>STDescription</th>\n",
       "      <th>TreatBaseCode</th>\n",
       "      <th>...</th>\n",
       "      <th>E_Long</th>\n",
       "      <th>prep</th>\n",
       "      <th>MinT</th>\n",
       "      <th>MaxT</th>\n",
       "      <th>FTCycles</th>\n",
       "      <th>actbthick</th>\n",
       "      <th>pctbthick</th>\n",
       "      <th>ftprep</th>\n",
       "      <th>BA</th>\n",
       "      <th>AA</th>\n",
       "    </tr>\n",
       "  </thead>\n",
       "  <tbody>\n",
       "    <tr>\n",
       "      <th>0</th>\n",
       "      <td>0</td>\n",
       "      <td>650</td>\n",
       "      <td>0</td>\n",
       "      <td>ACP</td>\n",
       "      <td>0.20</td>\n",
       "      <td>North Central</td>\n",
       "      <td>Rural Other Principal Arterial</td>\n",
       "      <td>D2</td>\n",
       "      <td>ACP CLASS 1/2IN PG58-34</td>\n",
       "      <td>0</td>\n",
       "      <td>...</td>\n",
       "      <td>9.424972</td>\n",
       "      <td>2056.719971</td>\n",
       "      <td>-5.48</td>\n",
       "      <td>21.600000</td>\n",
       "      <td>38</td>\n",
       "      <td>0</td>\n",
       "      <td>0</td>\n",
       "      <td>78155.358887</td>\n",
       "      <td>0</td>\n",
       "      <td>0</td>\n",
       "    </tr>\n",
       "    <tr>\n",
       "      <th>1</th>\n",
       "      <td>1</td>\n",
       "      <td>2651</td>\n",
       "      <td>0</td>\n",
       "      <td>ACP</td>\n",
       "      <td>0.30</td>\n",
       "      <td>Eastern</td>\n",
       "      <td>Rural Other Principal Arterial</td>\n",
       "      <td>BA</td>\n",
       "      <td>ACP CLASS B AR4000W</td>\n",
       "      <td>0</td>\n",
       "      <td>...</td>\n",
       "      <td>21.466953</td>\n",
       "      <td>343.649994</td>\n",
       "      <td>-8.73</td>\n",
       "      <td>30.420000</td>\n",
       "      <td>84</td>\n",
       "      <td>0</td>\n",
       "      <td>0</td>\n",
       "      <td>28866.599487</td>\n",
       "      <td>1</td>\n",
       "      <td>0</td>\n",
       "    </tr>\n",
       "    <tr>\n",
       "      <th>2</th>\n",
       "      <td>2</td>\n",
       "      <td>1193</td>\n",
       "      <td>0</td>\n",
       "      <td>ACP</td>\n",
       "      <td>0.20</td>\n",
       "      <td>North Central</td>\n",
       "      <td>Urban Other Freeway/Expressway</td>\n",
       "      <td>BA</td>\n",
       "      <td>ACP CLASS B AR4000W</td>\n",
       "      <td>0</td>\n",
       "      <td>...</td>\n",
       "      <td>17.737946</td>\n",
       "      <td>193.179993</td>\n",
       "      <td>-4.85</td>\n",
       "      <td>33.630001</td>\n",
       "      <td>21</td>\n",
       "      <td>0</td>\n",
       "      <td>0</td>\n",
       "      <td>4056.779846</td>\n",
       "      <td>1</td>\n",
       "      <td>0</td>\n",
       "    </tr>\n",
       "    <tr>\n",
       "      <th>3</th>\n",
       "      <td>3</td>\n",
       "      <td>1070</td>\n",
       "      <td>0</td>\n",
       "      <td>ACP</td>\n",
       "      <td>0.20</td>\n",
       "      <td>North Central</td>\n",
       "      <td>Rural Other Freeway/Expressway</td>\n",
       "      <td>BA</td>\n",
       "      <td>ACP CLASS B AR4000W</td>\n",
       "      <td>0</td>\n",
       "      <td>...</td>\n",
       "      <td>11.702109</td>\n",
       "      <td>323.160004</td>\n",
       "      <td>-6.27</td>\n",
       "      <td>32.840000</td>\n",
       "      <td>21</td>\n",
       "      <td>0</td>\n",
       "      <td>0</td>\n",
       "      <td>6786.360077</td>\n",
       "      <td>1</td>\n",
       "      <td>0</td>\n",
       "    </tr>\n",
       "    <tr>\n",
       "      <th>4</th>\n",
       "      <td>4</td>\n",
       "      <td>1192</td>\n",
       "      <td>0</td>\n",
       "      <td>ACP</td>\n",
       "      <td>0.12</td>\n",
       "      <td>North Central</td>\n",
       "      <td>Urban Other Freeway/Expressway</td>\n",
       "      <td>H2</td>\n",
       "      <td>ACP CLASS 1/2IN PG70-28</td>\n",
       "      <td>0</td>\n",
       "      <td>...</td>\n",
       "      <td>14.950525</td>\n",
       "      <td>193.179993</td>\n",
       "      <td>-4.85</td>\n",
       "      <td>33.630001</td>\n",
       "      <td>21</td>\n",
       "      <td>0</td>\n",
       "      <td>0</td>\n",
       "      <td>4056.779846</td>\n",
       "      <td>0</td>\n",
       "      <td>0</td>\n",
       "    </tr>\n",
       "  </tbody>\n",
       "</table>\n",
       "<p>5 rows × 36 columns</p>\n",
       "</div>"
      ],
      "text/plain": [
       "   Unnamed: 0   UID  IsBridge Lane Surface Type  LaneMiles       Region_x  \\\n",
       "0           0   650         0               ACP       0.20  North Central   \n",
       "1           1  2651         0               ACP       0.30        Eastern   \n",
       "2           2  1193         0               ACP       0.20  North Central   \n",
       "3           3  1070         0               ACP       0.20  North Central   \n",
       "4           4  1192         0               ACP       0.12  North Central   \n",
       "\n",
       "                          FFClass SurfaceTypeCode            STDescription  \\\n",
       "0  Rural Other Principal Arterial              D2  ACP CLASS 1/2IN PG58-34   \n",
       "1  Rural Other Principal Arterial              BA      ACP CLASS B AR4000W   \n",
       "2  Urban Other Freeway/Expressway              BA      ACP CLASS B AR4000W   \n",
       "3  Rural Other Freeway/Expressway              BA      ACP CLASS B AR4000W   \n",
       "4  Urban Other Freeway/Expressway              H2  ACP CLASS 1/2IN PG70-28   \n",
       "\n",
       "   TreatBaseCode ...     E_Long         prep  MinT       MaxT  FTCycles  \\\n",
       "0              0 ...   9.424972  2056.719971 -5.48  21.600000        38   \n",
       "1              0 ...  21.466953   343.649994 -8.73  30.420000        84   \n",
       "2              0 ...  17.737946   193.179993 -4.85  33.630001        21   \n",
       "3              0 ...  11.702109   323.160004 -6.27  32.840000        21   \n",
       "4              0 ...  14.950525   193.179993 -4.85  33.630001        21   \n",
       "\n",
       "   actbthick  pctbthick        ftprep  BA  AA  \n",
       "0          0          0  78155.358887   0   0  \n",
       "1          0          0  28866.599487   1   0  \n",
       "2          0          0   4056.779846   1   0  \n",
       "3          0          0   6786.360077   1   0  \n",
       "4          0          0   4056.779846   0   0  \n",
       "\n",
       "[5 rows x 36 columns]"
      ]
     },
     "execution_count": 3,
     "metadata": {},
     "output_type": "execute_result"
    }
   ],
   "source": [
    "ds.head()"
   ]
  },
  {
   "cell_type": "code",
   "execution_count": 6,
   "metadata": {
    "collapsed": true
   },
   "outputs": [],
   "source": [
    "df = pd.read_csv('../tables/Traffic.txt', header=None)\n",
    "exdf = pd.read_excel(\"../DataFiles/Traffic.xlsx\")"
   ]
  },
  {
   "cell_type": "code",
   "execution_count": 7,
   "metadata": {
    "collapsed": true
   },
   "outputs": [],
   "source": [
    "df.columns = exdf.columns"
   ]
  },
  {
   "cell_type": "code",
   "execution_count": 8,
   "metadata": {
    "collapsed": false
   },
   "outputs": [
    {
     "name": "stdout",
     "output_type": "stream",
     "text": [
      "52428\n"
     ]
    },
    {
     "data": {
      "text/html": [
       "<div>\n",
       "<table border=\"1\" class=\"dataframe\">\n",
       "  <thead>\n",
       "    <tr style=\"text-align: right;\">\n",
       "      <th></th>\n",
       "      <th>SR</th>\n",
       "      <th>RRT</th>\n",
       "      <th>RRQ</th>\n",
       "      <th>Begin ARM</th>\n",
       "      <th>End ARM</th>\n",
       "      <th>Begin SRMP</th>\n",
       "      <th>End SRMP</th>\n",
       "      <th>Direction To Inventory</th>\n",
       "      <th>Traffic Year</th>\n",
       "      <th>AADT</th>\n",
       "      <th>Single Trucks</th>\n",
       "      <th>Double Trucks</th>\n",
       "      <th>Train Trucks</th>\n",
       "      <th>Peak Hour Percentage</th>\n",
       "      <th>Peak Hour Directional Split</th>\n",
       "      <th>Traffic Year ESALs _One Direction_</th>\n",
       "      <th>Percent Trucks</th>\n",
       "    </tr>\n",
       "  </thead>\n",
       "  <tbody>\n",
       "    <tr>\n",
       "      <th>0</th>\n",
       "      <td>2</td>\n",
       "      <td>NaN</td>\n",
       "      <td>NaN</td>\n",
       "      <td>0.00</td>\n",
       "      <td>0.13</td>\n",
       "      <td>0.00B</td>\n",
       "      <td>0.00</td>\n",
       "      <td>D</td>\n",
       "      <td>2004</td>\n",
       "      <td>8313</td>\n",
       "      <td>198</td>\n",
       "      <td>40</td>\n",
       "      <td>0</td>\n",
       "      <td>0.1502</td>\n",
       "      <td>1.0000</td>\n",
       "      <td>43508</td>\n",
       "      <td>2.86</td>\n",
       "    </tr>\n",
       "    <tr>\n",
       "      <th>1</th>\n",
       "      <td>2</td>\n",
       "      <td>NaN</td>\n",
       "      <td>NaN</td>\n",
       "      <td>0.13</td>\n",
       "      <td>0.19</td>\n",
       "      <td>0.00</td>\n",
       "      <td>0.06</td>\n",
       "      <td>B</td>\n",
       "      <td>2004</td>\n",
       "      <td>8313</td>\n",
       "      <td>198</td>\n",
       "      <td>40</td>\n",
       "      <td>0</td>\n",
       "      <td>0.1502</td>\n",
       "      <td>1.0000</td>\n",
       "      <td>21754</td>\n",
       "      <td>2.86</td>\n",
       "    </tr>\n",
       "    <tr>\n",
       "      <th>2</th>\n",
       "      <td>2</td>\n",
       "      <td>NaN</td>\n",
       "      <td>NaN</td>\n",
       "      <td>0.19</td>\n",
       "      <td>0.35</td>\n",
       "      <td>0.06</td>\n",
       "      <td>0.22</td>\n",
       "      <td>B</td>\n",
       "      <td>2004</td>\n",
       "      <td>20814</td>\n",
       "      <td>495</td>\n",
       "      <td>100</td>\n",
       "      <td>0</td>\n",
       "      <td>0.1502</td>\n",
       "      <td>1.0000</td>\n",
       "      <td>54458</td>\n",
       "      <td>2.86</td>\n",
       "    </tr>\n",
       "    <tr>\n",
       "      <th>3</th>\n",
       "      <td>2</td>\n",
       "      <td>NaN</td>\n",
       "      <td>NaN</td>\n",
       "      <td>0.35</td>\n",
       "      <td>2.16</td>\n",
       "      <td>0.22</td>\n",
       "      <td>2.03</td>\n",
       "      <td>B</td>\n",
       "      <td>2004</td>\n",
       "      <td>69473</td>\n",
       "      <td>4794</td>\n",
       "      <td>799</td>\n",
       "      <td>264</td>\n",
       "      <td>0.0956</td>\n",
       "      <td>0.5269</td>\n",
       "      <td>579912</td>\n",
       "      <td>8.43</td>\n",
       "    </tr>\n",
       "    <tr>\n",
       "      <th>4</th>\n",
       "      <td>2</td>\n",
       "      <td>NaN</td>\n",
       "      <td>NaN</td>\n",
       "      <td>2.16</td>\n",
       "      <td>2.34</td>\n",
       "      <td>2.03</td>\n",
       "      <td>2.21</td>\n",
       "      <td>B</td>\n",
       "      <td>2004</td>\n",
       "      <td>67921</td>\n",
       "      <td>4687</td>\n",
       "      <td>781</td>\n",
       "      <td>258</td>\n",
       "      <td>0.0956</td>\n",
       "      <td>0.5269</td>\n",
       "      <td>567192</td>\n",
       "      <td>8.43</td>\n",
       "    </tr>\n",
       "  </tbody>\n",
       "</table>\n",
       "</div>"
      ],
      "text/plain": [
       "   SR  RRT  RRQ  Begin ARM  End ARM Begin SRMP End SRMP  \\\n",
       "0   2  NaN  NaN       0.00     0.13      0.00B     0.00   \n",
       "1   2  NaN  NaN       0.13     0.19       0.00     0.06   \n",
       "2   2  NaN  NaN       0.19     0.35       0.06     0.22   \n",
       "3   2  NaN  NaN       0.35     2.16       0.22     2.03   \n",
       "4   2  NaN  NaN       2.16     2.34       2.03     2.21   \n",
       "\n",
       "  Direction To Inventory  Traffic Year   AADT  Single Trucks  Double Trucks  \\\n",
       "0                      D          2004   8313            198             40   \n",
       "1                      B          2004   8313            198             40   \n",
       "2                      B          2004  20814            495            100   \n",
       "3                      B          2004  69473           4794            799   \n",
       "4                      B          2004  67921           4687            781   \n",
       "\n",
       "   Train Trucks  Peak Hour Percentage  Peak Hour Directional Split  \\\n",
       "0             0                0.1502                       1.0000   \n",
       "1             0                0.1502                       1.0000   \n",
       "2             0                0.1502                       1.0000   \n",
       "3           264                0.0956                       0.5269   \n",
       "4           258                0.0956                       0.5269   \n",
       "\n",
       "   Traffic Year ESALs _One Direction_  Percent Trucks  \n",
       "0                               43508            2.86  \n",
       "1                               21754            2.86  \n",
       "2                               54458            2.86  \n",
       "3                              579912            8.43  \n",
       "4                              567192            8.43  "
      ]
     },
     "execution_count": 8,
     "metadata": {},
     "output_type": "execute_result"
    }
   ],
   "source": [
    "print len(df)\n",
    "df.head()"
   ]
  },
  {
   "cell_type": "code",
   "execution_count": 10,
   "metadata": {
    "collapsed": false
   },
   "outputs": [
    {
     "name": "stdout",
     "output_type": "stream",
     "text": [
      "In year 2004, there are 5066 unique segments\n",
      "In year 2005, there are 5155 unique segments\n",
      "In year 2006, there are 5181 unique segments\n",
      "In year 2007, there are 5244 unique segments\n",
      "In year 2008, there are 5312 unique segments\n",
      "In year 2009, there are 5335 unique segments\n",
      "In year 2010, there are 5375 unique segments\n",
      "In year 2011, there are 5287 unique segments\n",
      "In year 2012, there are 5241 unique segments\n",
      "In year 2013, there are 5232 unique segments\n"
     ]
    }
   ],
   "source": [
    "for year in df['Traffic Year'].unique():\n",
    "    print 'In year %d, there are %d unique segments' %(year, len(df[df['Traffic Year'] == year]))"
   ]
  },
  {
   "cell_type": "code",
   "execution_count": 11,
   "metadata": {
    "collapsed": true
   },
   "outputs": [],
   "source": [
    "db = pd.read_csv('../FinalDatasets/sid.csv')"
   ]
  },
  {
   "cell_type": "code",
   "execution_count": 12,
   "metadata": {
    "collapsed": true
   },
   "outputs": [],
   "source": [
    "def getUID(row):\n",
    "    rd = row['SR']\n",
    "    bg = row['bs']\n",
    "    end = row['es']\n",
    "    res = db[((db.SR==rd) & ((db.bs == bg) & (db.es == end)))].UID\n",
    "    if list(res) == []:\n",
    "        return None\n",
    "    else:\n",
    "        return list(res)[0]"
   ]
  },
  {
   "cell_type": "code",
   "execution_count": 13,
   "metadata": {
    "collapsed": true
   },
   "outputs": [],
   "source": [
    "def roundme(n):\n",
    "    return int(n*10)"
   ]
  },
  {
   "cell_type": "code",
   "execution_count": 15,
   "metadata": {
    "collapsed": false
   },
   "outputs": [],
   "source": [
    "df.columns = [                                u'SR',\n",
    "                                      u'RRT',\n",
    "                                      u'RRQ',\n",
    "                                u'BA',\n",
    "                                  u'EA',\n",
    "                               u'Begin SRMP',\n",
    "                                 u'End SRMP',\n",
    "                   u'Direction To Inventory',\n",
    "                             u'Traffic Year',\n",
    "                                     u'AADT',\n",
    "                            u'Single Trucks',\n",
    "                            u'Double Trucks',\n",
    "                             u'Train Trucks',\n",
    "                     u'Peak Hour Percentage',\n",
    "              u'Peak Hour Directional Split',\n",
    "       u'Traffic Year ESALs _One Direction_',\n",
    "                           u'Percent Trucks']"
   ]
  },
  {
   "cell_type": "code",
   "execution_count": 16,
   "metadata": {
    "collapsed": true
   },
   "outputs": [],
   "source": [
    "df.loc[:, 'bs'] = df['BA'].apply(roundme)\n",
    "df.loc[:, 'es'] = df['EA'].apply(roundme)"
   ]
  },
  {
   "cell_type": "code",
   "execution_count": 26,
   "metadata": {
    "collapsed": true
   },
   "outputs": [],
   "source": [
    "su = df.drop_duplicates(subset = ['SR', 'BA', 'EA'])"
   ]
  },
  {
   "cell_type": "code",
   "execution_count": 27,
   "metadata": {
    "collapsed": false
   },
   "outputs": [
    {
     "name": "stdout",
     "output_type": "stream",
     "text": [
      "7661\n",
      "8909\n"
     ]
    },
    {
     "name": "stderr",
     "output_type": "stream",
     "text": [
      "/Users/Alan/Library/Enthought/Canopy_64bit/User/lib/python2.7/site-packages/pandas/core/indexing.py:415: SettingWithCopyWarning: \n",
      "A value is trying to be set on a copy of a slice from a DataFrame.\n",
      "Try using .loc[row_indexer,col_indexer] = value instead\n",
      "\n",
      "See the the caveats in the documentation: http://pandas.pydata.org/pandas-docs/stable/indexing.html#indexing-view-versus-copy\n",
      "  self.obj[item] = s\n"
     ]
    }
   ],
   "source": [
    "su.loc[:, 'UID'] = su.apply(getUID, axis = 1)\n",
    "print len(su[np.isnan(su.UID)])\n",
    "print len(su)"
   ]
  },
  {
   "cell_type": "code",
   "execution_count": 28,
   "metadata": {
    "collapsed": true
   },
   "outputs": [],
   "source": [
    "su_wid = su[~np.isnan(su.UID)]\n",
    "su2 = su[np.isnan(su.UID)].sort(columns = ['SR', 'BA', 'EA'])"
   ]
  },
  {
   "cell_type": "code",
   "execution_count": 29,
   "metadata": {
    "collapsed": false
   },
   "outputs": [
    {
     "name": "stdout",
     "output_type": "stream",
     "text": [
      "1248 7661\n"
     ]
    }
   ],
   "source": [
    "su_ids = np.array(su_wid.UID)\n",
    "print len(su_wid), len(su2)"
   ]
  },
  {
   "cell_type": "code",
   "execution_count": 23,
   "metadata": {
    "collapsed": true
   },
   "outputs": [],
   "source": [
    "def fillUID(row):\n",
    "    rd = row['SR']\n",
    "    bg = row['BA']\n",
    "    end = row['EA']\n",
    "    begin = row['bs']\n",
    "    if (end - bg > 0.05) & (end - bg < 0.15):\n",
    "        res = db[((db.SR==rd) & (db.bs == begin))].UID\n",
    "        if list(res) == []:\n",
    "            return None\n",
    "        else:\n",
    "            x = list(res)[0]\n",
    "            if x not in su_ids: #  change su_ids to a list and just append x to it if not found in ids.\n",
    "                return x\n",
    "            return None"
   ]
  },
  {
   "cell_type": "code",
   "execution_count": 30,
   "metadata": {
    "collapsed": false
   },
   "outputs": [],
   "source": [
    "su2.loc[:, 'UID'] = su2.apply(fillUID, axis = 1)"
   ]
  },
  {
   "cell_type": "code",
   "execution_count": 31,
   "metadata": {
    "collapsed": false
   },
   "outputs": [
    {
     "name": "stdout",
     "output_type": "stream",
     "text": [
      "7383\n"
     ]
    }
   ],
   "source": [
    "su_w2 = su2[~np.isnan(su2.UID)]\n",
    "su3 = su2[np.isnan(su2.UID)]\n",
    "print len(su3)"
   ]
  },
  {
   "cell_type": "code",
   "execution_count": 34,
   "metadata": {
    "collapsed": true
   },
   "outputs": [],
   "source": [
    "def fillUID2(row):\n",
    "    rd = row['SR']\n",
    "    bg = row['BA']\n",
    "    end = row['EA']\n",
    "    begin = row['bs']\n",
    "    if (end - bg > 0.01):\n",
    "        res = db[((db.SR==rd) & (db.bs == int((bg*10 + end*10)/2)))].UID\n",
    "        if list(res) == []:\n",
    "            return None\n",
    "        else:\n",
    "            x = list(res)[0]\n",
    "            if x not in su_ids:\n",
    "                return x\n",
    "            return None"
   ]
  },
  {
   "cell_type": "code",
   "execution_count": 36,
   "metadata": {
    "collapsed": false
   },
   "outputs": [],
   "source": [
    "su3.loc[:, 'UID'] = su3.apply(fillUID2, axis = 1)"
   ]
  },
  {
   "cell_type": "code",
   "execution_count": 37,
   "metadata": {
    "collapsed": true
   },
   "outputs": [],
   "source": [
    "su_w3 = su3[~np.isnan(su3.UID)]\n",
    "su4 = su3[np.isnan(su3.UID)]\n",
    "su_ids = np.concatenate((su_ids,np.array(su_w3.UID)),axis=0)"
   ]
  },
  {
   "cell_type": "code",
   "execution_count": 38,
   "metadata": {
    "collapsed": false
   },
   "outputs": [
    {
     "name": "stdout",
     "output_type": "stream",
     "text": [
      "7589\n"
     ]
    }
   ],
   "source": [
    "su_final = pd.concat([su_wid, su_w2, su_w3])\n",
    "su_ds = su_final.drop_duplicates(subset = ['UID'])\n",
    "print len(su_ds)"
   ]
  },
  {
   "cell_type": "code",
   "execution_count": null,
   "metadata": {
    "collapsed": true
   },
   "outputs": [],
   "source": []
  },
  {
   "cell_type": "code",
   "execution_count": 41,
   "metadata": {
    "collapsed": false
   },
   "outputs": [
    {
     "ename": "KeyError",
     "evalue": "['UID']",
     "output_type": "error",
     "traceback": [
      "\u001b[0;31m---------------------------------------------------------------------------\u001b[0m",
      "\u001b[0;31mKeyError\u001b[0m                                  Traceback (most recent call last)",
      "\u001b[0;32m<ipython-input-41-cd0821eccb85>\u001b[0m in \u001b[0;36m<module>\u001b[0;34m()\u001b[0m\n\u001b[1;32m      1\u001b[0m \u001b[0mdf2\u001b[0m    \u001b[0;34m=\u001b[0m \u001b[0mpd\u001b[0m\u001b[0;34m.\u001b[0m\u001b[0mmerge\u001b[0m\u001b[0;34m(\u001b[0m\u001b[0msu_ds\u001b[0m\u001b[0;34m,\u001b[0m \u001b[0mdf\u001b[0m\u001b[0;34m,\u001b[0m \u001b[0mhow\u001b[0m \u001b[0;34m=\u001b[0m \u001b[0;34m'left'\u001b[0m\u001b[0;34m,\u001b[0m \u001b[0mleft_on\u001b[0m \u001b[0;34m=\u001b[0m \u001b[0;34m[\u001b[0m\u001b[0;34m'SR'\u001b[0m\u001b[0;34m,\u001b[0m \u001b[0;34m'BA'\u001b[0m\u001b[0;34m,\u001b[0m \u001b[0;34m'EA'\u001b[0m\u001b[0;34m]\u001b[0m\u001b[0;34m,\u001b[0m \u001b[0mright_on\u001b[0m \u001b[0;34m=\u001b[0m \u001b[0;34m[\u001b[0m\u001b[0;34m'SR'\u001b[0m\u001b[0;34m,\u001b[0m \u001b[0;34m'BA'\u001b[0m\u001b[0;34m,\u001b[0m \u001b[0;34m'EA'\u001b[0m\u001b[0;34m]\u001b[0m\u001b[0;34m)\u001b[0m\u001b[0;34m\u001b[0m\u001b[0m\n\u001b[0;32m----> 2\u001b[0;31m \u001b[0mdf_wid\u001b[0m \u001b[0;34m=\u001b[0m \u001b[0mdf2\u001b[0m\u001b[0;34m.\u001b[0m\u001b[0mdropna\u001b[0m\u001b[0;34m(\u001b[0m\u001b[0msubset\u001b[0m \u001b[0;34m=\u001b[0m \u001b[0;34m[\u001b[0m\u001b[0;34m'UID'\u001b[0m\u001b[0;34m]\u001b[0m\u001b[0;34m)\u001b[0m\u001b[0;34m\u001b[0m\u001b[0m\n\u001b[0m\u001b[1;32m      3\u001b[0m \u001b[0;32mprint\u001b[0m \u001b[0mlen\u001b[0m\u001b[0;34m(\u001b[0m\u001b[0mdf2\u001b[0m\u001b[0;34m)\u001b[0m\u001b[0;34m,\u001b[0m \u001b[0mlen\u001b[0m\u001b[0;34m(\u001b[0m\u001b[0mdf_wid\u001b[0m\u001b[0;34m)\u001b[0m\u001b[0;34m,\u001b[0m \u001b[0mlen\u001b[0m\u001b[0;34m(\u001b[0m\u001b[0mdf\u001b[0m\u001b[0;34m)\u001b[0m\u001b[0;34m\u001b[0m\u001b[0m\n",
      "\u001b[0;32m/Users/Alan/Library/Enthought/Canopy_64bit/User/lib/python2.7/site-packages/pandas/core/frame.pyc\u001b[0m in \u001b[0;36mdropna\u001b[0;34m(self, axis, how, thresh, subset, inplace)\u001b[0m\n\u001b[1;32m   2781\u001b[0m                 \u001b[0mcheck\u001b[0m \u001b[0;34m=\u001b[0m \u001b[0mindices\u001b[0m \u001b[0;34m==\u001b[0m \u001b[0;34m-\u001b[0m\u001b[0;36m1\u001b[0m\u001b[0;34m\u001b[0m\u001b[0m\n\u001b[1;32m   2782\u001b[0m                 \u001b[0;32mif\u001b[0m \u001b[0mcheck\u001b[0m\u001b[0;34m.\u001b[0m\u001b[0many\u001b[0m\u001b[0;34m(\u001b[0m\u001b[0;34m)\u001b[0m\u001b[0;34m:\u001b[0m\u001b[0;34m\u001b[0m\u001b[0m\n\u001b[0;32m-> 2783\u001b[0;31m                     \u001b[0;32mraise\u001b[0m \u001b[0mKeyError\u001b[0m\u001b[0;34m(\u001b[0m\u001b[0mlist\u001b[0m\u001b[0;34m(\u001b[0m\u001b[0mnp\u001b[0m\u001b[0;34m.\u001b[0m\u001b[0mcompress\u001b[0m\u001b[0;34m(\u001b[0m\u001b[0mcheck\u001b[0m\u001b[0;34m,\u001b[0m\u001b[0msubset\u001b[0m\u001b[0;34m)\u001b[0m\u001b[0;34m)\u001b[0m\u001b[0;34m)\u001b[0m\u001b[0;34m\u001b[0m\u001b[0m\n\u001b[0m\u001b[1;32m   2784\u001b[0m                 \u001b[0magg_obj\u001b[0m \u001b[0;34m=\u001b[0m \u001b[0mself\u001b[0m\u001b[0;34m.\u001b[0m\u001b[0mtake\u001b[0m\u001b[0;34m(\u001b[0m\u001b[0mindices\u001b[0m\u001b[0;34m,\u001b[0m\u001b[0maxis\u001b[0m\u001b[0;34m=\u001b[0m\u001b[0magg_axis\u001b[0m\u001b[0;34m)\u001b[0m\u001b[0;34m\u001b[0m\u001b[0m\n\u001b[1;32m   2785\u001b[0m \u001b[0;34m\u001b[0m\u001b[0m\n",
      "\u001b[0;31mKeyError\u001b[0m: ['UID']"
     ]
    }
   ],
   "source": [
    "df2    = pd.merge(su_ds, df, how = 'left', left_on = ['SR', 'BA', 'EA'], right_on = ['SR', 'BA', 'EA'])\n",
    "df_wid = df2.dropna(subset = ['UID'])\n",
    "print len(df2), len(df_wid), len(df)"
   ]
  },
  {
   "cell_type": "code",
   "execution_count": null,
   "metadata": {
    "collapsed": true
   },
   "outputs": [],
   "source": []
  }
 ],
 "metadata": {
  "kernelspec": {
   "display_name": "Python 2",
   "language": "python",
   "name": "python2"
  },
  "language_info": {
   "codemirror_mode": {
    "name": "ipython",
    "version": 2
   },
   "file_extension": ".py",
   "mimetype": "text/x-python",
   "name": "python",
   "nbconvert_exporter": "python",
   "pygments_lexer": "ipython2",
   "version": "2.7.9"
  }
 },
 "nbformat": 4,
 "nbformat_minor": 0
}
