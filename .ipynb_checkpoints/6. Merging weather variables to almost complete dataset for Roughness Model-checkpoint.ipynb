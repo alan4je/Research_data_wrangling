{
 "cells": [
  {
   "cell_type": "code",
   "execution_count": 1,
   "metadata": {
    "collapsed": true
   },
   "outputs": [],
   "source": [
    "import pandas as pd\n",
    "import numpy as np\n",
    "import xlsxwriter"
   ]
  },
  {
   "cell_type": "code",
   "execution_count": 2,
   "metadata": {
    "collapsed": true
   },
   "outputs": [],
   "source": []
  },
  {
   "cell_type": "code",
   "execution_count": 3,
   "metadata": {
    "collapsed": true
   },
   "outputs": [],
   "source": [
    "# Min temp data basefile\n",
    "mnfile = \"../MinTemp/\" \n",
    "# Max temp data basefile\n",
    "mxfile = \"../MaxTemp/\" \n",
    "# Precipiation data basefile\n",
    "pfile = \"../Ppt/\" "
   ]
  },
  {
   "cell_type": "code",
   "execution_count": 18,
   "metadata": {
    "collapsed": true
   },
   "outputs": [],
   "source": [
    "def findMaxMin(db, code):\n",
    "    if code == 'max':\n",
    "        return db.max(axis=1)\n",
    "    else:\n",
    "        return db.min(axis=1)"
   ]
  },
  {
   "cell_type": "code",
   "execution_count": 54,
   "metadata": {
    "collapsed": true
   },
   "outputs": [],
   "source": [
    "def summarizeWeatherData(var):\n",
    "    if var == 'maxT':\n",
    "        bfile = mxfile\n",
    "        code = 'max'\n",
    "    elif var == \"minT\":\n",
    "        bfile = mnfile\n",
    "        code = 'min'\n",
    "    else:\n",
    "        bfile = pfile\n",
    "        return pd.read_excel(bfile+'PrecipitationRecord1981_2013.xlsx')\n",
    "\n",
    "    tdb = pd.read_excel(bfile+str(1991)+'.xlsx')\n",
    "    merged = tdb[['Xmax', 'Ymax']]\n",
    "    for year in np.arange(33)+1981:\n",
    "        db = pd.read_excel(bfile+str(year)+'.xlsx')\n",
    "        adb = db[[u'jan',  u'feb',  u'mar',  u'apr', u'may',  u'jun',  u'jul',  u'aug',  u'sep',  u'oct',  u'nov',  \n",
    "                  u'dec']]\n",
    "        req = findMaxMin(adb, code)\n",
    "#         print np.array(req)[0:3]\n",
    "        req.name = str(year)\n",
    "        merged = merged.join(req)\n",
    "    return merged"
   ]
  },
  {
   "cell_type": "code",
   "execution_count": 55,
   "metadata": {
    "collapsed": false
   },
   "outputs": [],
   "source": [
    "minTemp = summarizeWeatherData('minT')"
   ]
  },
  {
   "cell_type": "code",
   "execution_count": 52,
   "metadata": {
    "collapsed": true
   },
   "outputs": [],
   "source": [
    "maxTemp = summarizeWeatherData('maxT')"
   ]
  },
  {
   "cell_type": "code",
   "execution_count": 62,
   "metadata": {
    "collapsed": false
   },
   "outputs": [],
   "source": [
    "Ppt = summarizeWeatherData('ppt')"
   ]
  },
  {
   "cell_type": "code",
   "execution_count": 63,
   "metadata": {
    "collapsed": false
   },
   "outputs": [
    {
     "data": {
      "text/html": [
       "<div>\n",
       "<table border=\"1\" class=\"dataframe\">\n",
       "  <thead>\n",
       "    <tr style=\"text-align: right;\">\n",
       "      <th></th>\n",
       "      <th>Xmin</th>\n",
       "      <th>Xmax</th>\n",
       "      <th>Ymin</th>\n",
       "      <th>Ymax</th>\n",
       "      <th>1981</th>\n",
       "      <th>1982</th>\n",
       "      <th>1983</th>\n",
       "      <th>1984</th>\n",
       "      <th>1985</th>\n",
       "      <th>1986</th>\n",
       "      <th>...</th>\n",
       "      <th>2004</th>\n",
       "      <th>2005</th>\n",
       "      <th>2006</th>\n",
       "      <th>2007</th>\n",
       "      <th>2008</th>\n",
       "      <th>2009</th>\n",
       "      <th>2010</th>\n",
       "      <th>2011</th>\n",
       "      <th>2012</th>\n",
       "      <th>2013</th>\n",
       "    </tr>\n",
       "  </thead>\n",
       "  <tbody>\n",
       "    <tr>\n",
       "      <th>0</th>\n",
       "      <td>-123.145833</td>\n",
       "      <td>-123.104167</td>\n",
       "      <td>48.979167</td>\n",
       "      <td>49.020833</td>\n",
       "      <td>983.059998</td>\n",
       "      <td>200.839996</td>\n",
       "      <td>1080.560059</td>\n",
       "      <td>1099.219971</td>\n",
       "      <td>675.909973</td>\n",
       "      <td>965.039978</td>\n",
       "      <td>...</td>\n",
       "      <td>940.770020</td>\n",
       "      <td>756.289978</td>\n",
       "      <td>948.270020</td>\n",
       "      <td>1078.319946</td>\n",
       "      <td>829.669983</td>\n",
       "      <td>876.640015</td>\n",
       "      <td>1026.729980</td>\n",
       "      <td>924.099976</td>\n",
       "      <td>1013.599976</td>\n",
       "      <td>799.309998</td>\n",
       "    </tr>\n",
       "    <tr>\n",
       "      <th>1</th>\n",
       "      <td>-123.104167</td>\n",
       "      <td>-123.062500</td>\n",
       "      <td>48.979167</td>\n",
       "      <td>49.020833</td>\n",
       "      <td>985.830017</td>\n",
       "      <td>201.100006</td>\n",
       "      <td>1082.969971</td>\n",
       "      <td>1100.270020</td>\n",
       "      <td>674.979980</td>\n",
       "      <td>969.799988</td>\n",
       "      <td>...</td>\n",
       "      <td>952.530029</td>\n",
       "      <td>781.619995</td>\n",
       "      <td>959.690002</td>\n",
       "      <td>1080.319946</td>\n",
       "      <td>832.559998</td>\n",
       "      <td>883.469971</td>\n",
       "      <td>1033.099976</td>\n",
       "      <td>931.729980</td>\n",
       "      <td>1014.599976</td>\n",
       "      <td>812.960022</td>\n",
       "    </tr>\n",
       "    <tr>\n",
       "      <th>2</th>\n",
       "      <td>-123.062500</td>\n",
       "      <td>-123.020833</td>\n",
       "      <td>48.979167</td>\n",
       "      <td>49.020833</td>\n",
       "      <td>1073.839966</td>\n",
       "      <td>202.610001</td>\n",
       "      <td>1133.239990</td>\n",
       "      <td>1151.199951</td>\n",
       "      <td>702.679993</td>\n",
       "      <td>985.760010</td>\n",
       "      <td>...</td>\n",
       "      <td>991.880005</td>\n",
       "      <td>856.340027</td>\n",
       "      <td>991.179993</td>\n",
       "      <td>1096.160034</td>\n",
       "      <td>847.979980</td>\n",
       "      <td>901.020020</td>\n",
       "      <td>1035.810059</td>\n",
       "      <td>938.890015</td>\n",
       "      <td>1031.709961</td>\n",
       "      <td>857.900024</td>\n",
       "    </tr>\n",
       "    <tr>\n",
       "      <th>3</th>\n",
       "      <td>-123.020833</td>\n",
       "      <td>-122.979167</td>\n",
       "      <td>48.979167</td>\n",
       "      <td>49.020833</td>\n",
       "      <td>1073.839966</td>\n",
       "      <td>202.610001</td>\n",
       "      <td>1133.239990</td>\n",
       "      <td>1151.199951</td>\n",
       "      <td>702.679993</td>\n",
       "      <td>985.760010</td>\n",
       "      <td>...</td>\n",
       "      <td>991.880005</td>\n",
       "      <td>856.340027</td>\n",
       "      <td>991.179993</td>\n",
       "      <td>1096.160034</td>\n",
       "      <td>847.979980</td>\n",
       "      <td>901.020020</td>\n",
       "      <td>1035.810059</td>\n",
       "      <td>938.890015</td>\n",
       "      <td>1031.709961</td>\n",
       "      <td>857.900024</td>\n",
       "    </tr>\n",
       "    <tr>\n",
       "      <th>4</th>\n",
       "      <td>-122.812500</td>\n",
       "      <td>-122.770833</td>\n",
       "      <td>48.979167</td>\n",
       "      <td>49.020833</td>\n",
       "      <td>1217.390015</td>\n",
       "      <td>217.500000</td>\n",
       "      <td>1187.459961</td>\n",
       "      <td>1191.660034</td>\n",
       "      <td>767.979980</td>\n",
       "      <td>1039.229980</td>\n",
       "      <td>...</td>\n",
       "      <td>1136.939941</td>\n",
       "      <td>1006.090027</td>\n",
       "      <td>1028.859985</td>\n",
       "      <td>1216.510010</td>\n",
       "      <td>969.190002</td>\n",
       "      <td>926.400024</td>\n",
       "      <td>1097.069946</td>\n",
       "      <td>1034.709961</td>\n",
       "      <td>1206.790039</td>\n",
       "      <td>956.330017</td>\n",
       "    </tr>\n",
       "  </tbody>\n",
       "</table>\n",
       "<p>5 rows × 37 columns</p>\n",
       "</div>"
      ],
      "text/plain": [
       "         Xmin        Xmax       Ymin       Ymax         1981        1982  \\\n",
       "0 -123.145833 -123.104167  48.979167  49.020833   983.059998  200.839996   \n",
       "1 -123.104167 -123.062500  48.979167  49.020833   985.830017  201.100006   \n",
       "2 -123.062500 -123.020833  48.979167  49.020833  1073.839966  202.610001   \n",
       "3 -123.020833 -122.979167  48.979167  49.020833  1073.839966  202.610001   \n",
       "4 -122.812500 -122.770833  48.979167  49.020833  1217.390015  217.500000   \n",
       "\n",
       "          1983         1984        1985         1986     ...             2004  \\\n",
       "0  1080.560059  1099.219971  675.909973   965.039978     ...       940.770020   \n",
       "1  1082.969971  1100.270020  674.979980   969.799988     ...       952.530029   \n",
       "2  1133.239990  1151.199951  702.679993   985.760010     ...       991.880005   \n",
       "3  1133.239990  1151.199951  702.679993   985.760010     ...       991.880005   \n",
       "4  1187.459961  1191.660034  767.979980  1039.229980     ...      1136.939941   \n",
       "\n",
       "          2005         2006         2007        2008        2009         2010  \\\n",
       "0   756.289978   948.270020  1078.319946  829.669983  876.640015  1026.729980   \n",
       "1   781.619995   959.690002  1080.319946  832.559998  883.469971  1033.099976   \n",
       "2   856.340027   991.179993  1096.160034  847.979980  901.020020  1035.810059   \n",
       "3   856.340027   991.179993  1096.160034  847.979980  901.020020  1035.810059   \n",
       "4  1006.090027  1028.859985  1216.510010  969.190002  926.400024  1097.069946   \n",
       "\n",
       "          2011         2012        2013  \n",
       "0   924.099976  1013.599976  799.309998  \n",
       "1   931.729980  1014.599976  812.960022  \n",
       "2   938.890015  1031.709961  857.900024  \n",
       "3   938.890015  1031.709961  857.900024  \n",
       "4  1034.709961  1206.790039  956.330017  \n",
       "\n",
       "[5 rows x 37 columns]"
      ]
     },
     "execution_count": 63,
     "metadata": {},
     "output_type": "execute_result"
    }
   ],
   "source": [
    "Ppt.head()"
   ]
  },
  {
   "cell_type": "code",
   "execution_count": 64,
   "metadata": {
    "collapsed": true
   },
   "outputs": [],
   "source": [
    "coordLinker = pd.read_excel('../DataFiles/coordLinker.xlsx')"
   ]
  },
  {
   "cell_type": "code",
   "execution_count": 65,
   "metadata": {
    "collapsed": false
   },
   "outputs": [
    {
     "data": {
      "text/html": [
       "<div>\n",
       "<table border=\"1\" class=\"dataframe\">\n",
       "  <thead>\n",
       "    <tr style=\"text-align: right;\">\n",
       "      <th></th>\n",
       "      <th>Int ID</th>\n",
       "      <th>Latitude</th>\n",
       "      <th>Longitude</th>\n",
       "      <th>ID</th>\n",
       "      <th>Xmax</th>\n",
       "      <th>Ymax</th>\n",
       "    </tr>\n",
       "  </thead>\n",
       "  <tbody>\n",
       "    <tr>\n",
       "      <th>0</th>\n",
       "      <td>54964</td>\n",
       "      <td>46.242524</td>\n",
       "      <td>-123.886017</td>\n",
       "      <td>10653</td>\n",
       "      <td>-123.854167</td>\n",
       "      <td>46.270833</td>\n",
       "    </tr>\n",
       "    <tr>\n",
       "      <th>1</th>\n",
       "      <td>55012</td>\n",
       "      <td>46.242524</td>\n",
       "      <td>-123.886017</td>\n",
       "      <td>10653</td>\n",
       "      <td>-123.854167</td>\n",
       "      <td>46.270833</td>\n",
       "    </tr>\n",
       "    <tr>\n",
       "      <th>2</th>\n",
       "      <td>55019</td>\n",
       "      <td>46.245641</td>\n",
       "      <td>-123.906384</td>\n",
       "      <td>10652</td>\n",
       "      <td>-123.895833</td>\n",
       "      <td>46.270833</td>\n",
       "    </tr>\n",
       "    <tr>\n",
       "      <th>3</th>\n",
       "      <td>55369</td>\n",
       "      <td>47.943812</td>\n",
       "      <td>-122.877238</td>\n",
       "      <td>3861</td>\n",
       "      <td>-122.854167</td>\n",
       "      <td>47.979167</td>\n",
       "    </tr>\n",
       "    <tr>\n",
       "      <th>4</th>\n",
       "      <td>55432</td>\n",
       "      <td>47.854791</td>\n",
       "      <td>-122.601585</td>\n",
       "      <td>4227</td>\n",
       "      <td>-122.562500</td>\n",
       "      <td>47.895833</td>\n",
       "    </tr>\n",
       "    <tr>\n",
       "      <th>5</th>\n",
       "      <td>55473</td>\n",
       "      <td>47.795164</td>\n",
       "      <td>-122.373605</td>\n",
       "      <td>4594</td>\n",
       "      <td>-122.354167</td>\n",
       "      <td>47.812500</td>\n",
       "    </tr>\n",
       "    <tr>\n",
       "      <th>6</th>\n",
       "      <td>55384</td>\n",
       "      <td>47.919418</td>\n",
       "      <td>-122.800770</td>\n",
       "      <td>4046</td>\n",
       "      <td>-122.770833</td>\n",
       "      <td>47.937500</td>\n",
       "    </tr>\n",
       "    <tr>\n",
       "      <th>7</th>\n",
       "      <td>56206</td>\n",
       "      <td>46.694240</td>\n",
       "      <td>-123.803590</td>\n",
       "      <td>8852</td>\n",
       "      <td>-123.770833</td>\n",
       "      <td>46.729167</td>\n",
       "    </tr>\n",
       "    <tr>\n",
       "      <th>8</th>\n",
       "      <td>56345</td>\n",
       "      <td>47.322197</td>\n",
       "      <td>-123.149192</td>\n",
       "      <td>6441</td>\n",
       "      <td>-123.145833</td>\n",
       "      <td>47.354167</td>\n",
       "    </tr>\n",
       "    <tr>\n",
       "      <th>9</th>\n",
       "      <td>56423</td>\n",
       "      <td>47.383104</td>\n",
       "      <td>-122.939421</td>\n",
       "      <td>6278</td>\n",
       "      <td>-122.937500</td>\n",
       "      <td>47.395833</td>\n",
       "    </tr>\n",
       "  </tbody>\n",
       "</table>\n",
       "</div>"
      ],
      "text/plain": [
       "   Int ID   Latitude   Longitude     ID        Xmax       Ymax\n",
       "0   54964  46.242524 -123.886017  10653 -123.854167  46.270833\n",
       "1   55012  46.242524 -123.886017  10653 -123.854167  46.270833\n",
       "2   55019  46.245641 -123.906384  10652 -123.895833  46.270833\n",
       "3   55369  47.943812 -122.877238   3861 -122.854167  47.979167\n",
       "4   55432  47.854791 -122.601585   4227 -122.562500  47.895833\n",
       "5   55473  47.795164 -122.373605   4594 -122.354167  47.812500\n",
       "6   55384  47.919418 -122.800770   4046 -122.770833  47.937500\n",
       "7   56206  46.694240 -123.803590   8852 -123.770833  46.729167\n",
       "8   56345  47.322197 -123.149192   6441 -123.145833  47.354167\n",
       "9   56423  47.383104 -122.939421   6278 -122.937500  47.395833"
      ]
     },
     "execution_count": 65,
     "metadata": {},
     "output_type": "execute_result"
    }
   ],
   "source": [
    "coordLinker.head(10)"
   ]
  },
  {
   "cell_type": "code",
   "execution_count": 66,
   "metadata": {
    "collapsed": true
   },
   "outputs": [],
   "source": [
    "df = pd.read_excel('../DataFiles/dataWesals.xlsx')"
   ]
  },
  {
   "cell_type": "code",
   "execution_count": 72,
   "metadata": {
    "collapsed": false
   },
   "outputs": [],
   "source": [
    "# df.columns"
   ]
  },
  {
   "cell_type": "code",
   "execution_count": 70,
   "metadata": {
    "collapsed": true
   },
   "outputs": [],
   "source": [
    "df = df[[u'YearC', u'Int ID',\n",
    "                               u'SR',                  u'Begin ARM',\n",
    "                          u'End ARM',                       u'Year',\n",
    "        u'Contract Type Description',          u'Surface Type Code',\n",
    "         u'Surface Type Description',          u'Surface Thickness',\n",
    "                           u'Region',                       u'ID_y',\n",
    "                u'Construction Year',           u'Major Rehab Year',\n",
    "               u'Segment Lane Miles',    u'ESALs Since Major Rehab',\n",
    "                  u'Total Thickness',    u'Total Surface Thickness',\n",
    "                    u'Pavement Type', u'Construction Pavement Type',\n",
    "                 u'Major Rehab Type',     u'Prior Major Rehab Year',\n",
    "           u'Prior Major Rehab Type',                u'Original ID',\n",
    "                        u'Is Bridge',          u'Lane Surface Type',\n",
    "                       u'Lane Miles',   u'Federal Functional Class',\n",
    "            u'Avg Construction Date',       u'Avg Major Rehab Date',\n",
    "                             u'Alli',                    u'CatAlli',\n",
    "                             u'Long',                    u'CatLong',\n",
    "                            u'AlliP',                      u'LongP',\n",
    "                     u'Traffic Year',                      u'ESALs',\n",
    "              u'Contract History ID',                     u'STcode',\n",
    "                         u'Latitude',                  u'Longitude']]"
   ]
  },
  {
   "cell_type": "code",
   "execution_count": 71,
   "metadata": {
    "collapsed": false
   },
   "outputs": [
    {
     "data": {
      "text/html": [
       "<div>\n",
       "<table border=\"1\" class=\"dataframe\">\n",
       "  <thead>\n",
       "    <tr style=\"text-align: right;\">\n",
       "      <th></th>\n",
       "      <th>YearC</th>\n",
       "      <th>Int ID</th>\n",
       "      <th>SR</th>\n",
       "      <th>Begin ARM</th>\n",
       "      <th>End ARM</th>\n",
       "      <th>Year</th>\n",
       "      <th>Contract Type Description</th>\n",
       "      <th>Surface Type Code</th>\n",
       "      <th>Surface Type Description</th>\n",
       "      <th>Surface Thickness</th>\n",
       "      <th>...</th>\n",
       "      <th>Long</th>\n",
       "      <th>CatLong</th>\n",
       "      <th>AlliP</th>\n",
       "      <th>LongP</th>\n",
       "      <th>Traffic Year</th>\n",
       "      <th>ESALs</th>\n",
       "      <th>Contract History ID</th>\n",
       "      <th>STcode</th>\n",
       "      <th>Latitude</th>\n",
       "      <th>Longitude</th>\n",
       "    </tr>\n",
       "  </thead>\n",
       "  <tbody>\n",
       "    <tr>\n",
       "      <th>0</th>\n",
       "      <td>2003</td>\n",
       "      <td>54964</td>\n",
       "      <td>101</td>\n",
       "      <td>0.53</td>\n",
       "      <td>0.63</td>\n",
       "      <td>1996</td>\n",
       "      <td>RESURFACE EXISTING RDWY</td>\n",
       "      <td>AA</td>\n",
       "      <td>ACP CLASS A AR4000W</td>\n",
       "      <td>0.15</td>\n",
       "      <td>...</td>\n",
       "      <td>10</td>\n",
       "      <td>L</td>\n",
       "      <td>1.988636</td>\n",
       "      <td>0.946970</td>\n",
       "      <td>2013</td>\n",
       "      <td>40724.540843</td>\n",
       "      <td>0073c3c3-1b5a-40af-a002-022c09a2875d</td>\n",
       "      <td>AA</td>\n",
       "      <td>46.242524</td>\n",
       "      <td>-123.886017</td>\n",
       "    </tr>\n",
       "    <tr>\n",
       "      <th>1</th>\n",
       "      <td>2004</td>\n",
       "      <td>54964</td>\n",
       "      <td>101</td>\n",
       "      <td>0.53</td>\n",
       "      <td>0.63</td>\n",
       "      <td>1996</td>\n",
       "      <td>RESURFACE EXISTING RDWY</td>\n",
       "      <td>AA</td>\n",
       "      <td>ACP CLASS A AR4000W</td>\n",
       "      <td>0.15</td>\n",
       "      <td>...</td>\n",
       "      <td>84</td>\n",
       "      <td>L</td>\n",
       "      <td>0.946970</td>\n",
       "      <td>7.954545</td>\n",
       "      <td>2013</td>\n",
       "      <td>35842.303869</td>\n",
       "      <td>0073c3c3-1b5a-40af-a002-022c09a2875d</td>\n",
       "      <td>AA</td>\n",
       "      <td>46.242524</td>\n",
       "      <td>-123.886017</td>\n",
       "    </tr>\n",
       "    <tr>\n",
       "      <th>2</th>\n",
       "      <td>2005</td>\n",
       "      <td>54964</td>\n",
       "      <td>101</td>\n",
       "      <td>0.53</td>\n",
       "      <td>0.63</td>\n",
       "      <td>1996</td>\n",
       "      <td>RESURFACE EXISTING RDWY</td>\n",
       "      <td>AA</td>\n",
       "      <td>ACP CLASS A AR4000W</td>\n",
       "      <td>0.15</td>\n",
       "      <td>...</td>\n",
       "      <td>10</td>\n",
       "      <td>L</td>\n",
       "      <td>1.988636</td>\n",
       "      <td>0.946970</td>\n",
       "      <td>2013</td>\n",
       "      <td>35649.988229</td>\n",
       "      <td>0073c3c3-1b5a-40af-a002-022c09a2875d</td>\n",
       "      <td>AA</td>\n",
       "      <td>46.242524</td>\n",
       "      <td>-123.886017</td>\n",
       "    </tr>\n",
       "    <tr>\n",
       "      <th>3</th>\n",
       "      <td>2006</td>\n",
       "      <td>54964</td>\n",
       "      <td>101</td>\n",
       "      <td>0.53</td>\n",
       "      <td>0.63</td>\n",
       "      <td>1996</td>\n",
       "      <td>RESURFACE EXISTING RDWY</td>\n",
       "      <td>AA</td>\n",
       "      <td>ACP CLASS A AR4000W</td>\n",
       "      <td>0.15</td>\n",
       "      <td>...</td>\n",
       "      <td>5</td>\n",
       "      <td>L</td>\n",
       "      <td>1.988636</td>\n",
       "      <td>0.473485</td>\n",
       "      <td>2013</td>\n",
       "      <td>35979.602372</td>\n",
       "      <td>0073c3c3-1b5a-40af-a002-022c09a2875d</td>\n",
       "      <td>AA</td>\n",
       "      <td>46.242524</td>\n",
       "      <td>-123.886017</td>\n",
       "    </tr>\n",
       "    <tr>\n",
       "      <th>4</th>\n",
       "      <td>2007</td>\n",
       "      <td>54964</td>\n",
       "      <td>101</td>\n",
       "      <td>0.53</td>\n",
       "      <td>0.63</td>\n",
       "      <td>1996</td>\n",
       "      <td>RESURFACE EXISTING RDWY</td>\n",
       "      <td>AA</td>\n",
       "      <td>ACP CLASS A AR4000W</td>\n",
       "      <td>0.15</td>\n",
       "      <td>...</td>\n",
       "      <td>5</td>\n",
       "      <td>L</td>\n",
       "      <td>NaN</td>\n",
       "      <td>0.473485</td>\n",
       "      <td>2013</td>\n",
       "      <td>36506.698358</td>\n",
       "      <td>0073c3c3-1b5a-40af-a002-022c09a2875d</td>\n",
       "      <td>AA</td>\n",
       "      <td>46.242524</td>\n",
       "      <td>-123.886017</td>\n",
       "    </tr>\n",
       "  </tbody>\n",
       "</table>\n",
       "<p>5 rows × 42 columns</p>\n",
       "</div>"
      ],
      "text/plain": [
       "   YearC  Int ID   SR  Begin ARM  End ARM  Year Contract Type Description  \\\n",
       "0   2003   54964  101       0.53     0.63  1996   RESURFACE EXISTING RDWY   \n",
       "1   2004   54964  101       0.53     0.63  1996   RESURFACE EXISTING RDWY   \n",
       "2   2005   54964  101       0.53     0.63  1996   RESURFACE EXISTING RDWY   \n",
       "3   2006   54964  101       0.53     0.63  1996   RESURFACE EXISTING RDWY   \n",
       "4   2007   54964  101       0.53     0.63  1996   RESURFACE EXISTING RDWY   \n",
       "\n",
       "  Surface Type Code Surface Type Description  Surface Thickness     ...      \\\n",
       "0                AA      ACP CLASS A AR4000W               0.15     ...       \n",
       "1                AA      ACP CLASS A AR4000W               0.15     ...       \n",
       "2                AA      ACP CLASS A AR4000W               0.15     ...       \n",
       "3                AA      ACP CLASS A AR4000W               0.15     ...       \n",
       "4                AA      ACP CLASS A AR4000W               0.15     ...       \n",
       "\n",
       "  Long CatLong     AlliP     LongP  Traffic Year         ESALs  \\\n",
       "0   10       L  1.988636  0.946970          2013  40724.540843   \n",
       "1   84       L  0.946970  7.954545          2013  35842.303869   \n",
       "2   10       L  1.988636  0.946970          2013  35649.988229   \n",
       "3    5       L  1.988636  0.473485          2013  35979.602372   \n",
       "4    5       L       NaN  0.473485          2013  36506.698358   \n",
       "\n",
       "                    Contract History ID  STcode   Latitude   Longitude  \n",
       "0  0073c3c3-1b5a-40af-a002-022c09a2875d      AA  46.242524 -123.886017  \n",
       "1  0073c3c3-1b5a-40af-a002-022c09a2875d      AA  46.242524 -123.886017  \n",
       "2  0073c3c3-1b5a-40af-a002-022c09a2875d      AA  46.242524 -123.886017  \n",
       "3  0073c3c3-1b5a-40af-a002-022c09a2875d      AA  46.242524 -123.886017  \n",
       "4  0073c3c3-1b5a-40af-a002-022c09a2875d      AA  46.242524 -123.886017  \n",
       "\n",
       "[5 rows x 42 columns]"
      ]
     },
     "execution_count": 71,
     "metadata": {},
     "output_type": "execute_result"
    }
   ],
   "source": [
    "df.head()"
   ]
  },
  {
   "cell_type": "code",
   "execution_count": 97,
   "metadata": {
    "collapsed": false
   },
   "outputs": [
    {
     "ename": "IndexError",
     "evalue": "index 0 is out of bounds for axis 0 with size 0",
     "output_type": "error",
     "traceback": [
      "\u001b[1;31m---------------------------------------------------------------------------\u001b[0m",
      "\u001b[1;31mIndexError\u001b[0m                                Traceback (most recent call last)",
      "\u001b[1;32m<ipython-input-97-e729c56fd542>\u001b[0m in \u001b[0;36m<module>\u001b[1;34m()\u001b[0m\n\u001b[1;32m----> 1\u001b[1;33m \u001b[0mindex\u001b[0m \u001b[1;33m=\u001b[0m \u001b[0mnp\u001b[0m\u001b[1;33m.\u001b[0m\u001b[0marray\u001b[0m\u001b[1;33m(\u001b[0m\u001b[0mcoordLinker\u001b[0m\u001b[1;33m[\u001b[0m\u001b[0mcoordLinker\u001b[0m\u001b[1;33m.\u001b[0m\u001b[0mloc\u001b[0m\u001b[1;33m[\u001b[0m\u001b[1;33m:\u001b[0m\u001b[1;33m,\u001b[0m\u001b[1;34m'Int ID'\u001b[0m\u001b[1;33m]\u001b[0m \u001b[1;33m==\u001b[0m \u001b[1;36m5496\u001b[0m\u001b[1;33m]\u001b[0m\u001b[1;33m.\u001b[0m\u001b[0mloc\u001b[0m\u001b[1;33m[\u001b[0m\u001b[1;33m:\u001b[0m\u001b[1;33m,\u001b[0m\u001b[1;34m'ID'\u001b[0m\u001b[1;33m]\u001b[0m\u001b[1;33m)\u001b[0m\u001b[1;33m[\u001b[0m\u001b[1;36m0\u001b[0m\u001b[1;33m]\u001b[0m\u001b[1;33m\u001b[0m\u001b[0m\n\u001b[0m",
      "\u001b[1;31mIndexError\u001b[0m: index 0 is out of bounds for axis 0 with size 0"
     ]
    }
   ],
   "source": [
    "index = np.array(coordLinker[coordLinker.loc[:,'Int ID'] == 5496].loc[:,'ID'])[0]"
   ]
  },
  {
   "cell_type": "code",
   "execution_count": 78,
   "metadata": {
    "collapsed": false
   },
   "outputs": [
    {
     "data": {
      "text/plain": [
       "32.029998779296903"
      ]
     },
     "execution_count": 78,
     "metadata": {},
     "output_type": "execute_result"
    }
   ],
   "source": [
    "maxTemp.loc[index, '1991']"
   ]
  },
  {
   "cell_type": "code",
   "execution_count": 93,
   "metadata": {
    "collapsed": true
   },
   "outputs": [],
   "source": [
    "def populateWeatherVariables(df):\n",
    "    for row in df.index:\n",
    "        xid = df.loc[row,'Int ID']\n",
    "        year = df.loc[row,'YearC']\n",
    "        val = str(year)\n",
    "        index = np.array(coordLinker[coordLinker.loc[:,'Int ID'] == xid].loc[:,'ID'])[0]\n",
    "        df.loc[row, 'PPT'] = Ppt.loc[index, val] \n",
    "        df.loc[row, 'MinTemp'] = minTemp.loc[index, val] \n",
    "        df.loc[row, 'MaxTemp'] = maxTemp.loc[index, val] "
   ]
  },
  {
   "cell_type": "code",
   "execution_count": 105,
   "metadata": {
    "collapsed": false
   },
   "outputs": [],
   "source": [
    "# df[((df.loc[:,'YearC'] == 2003) & (df.loc[:,'Int ID'] == 54964))].loc[:, 'ESALs']"
   ]
  },
  {
   "cell_type": "code",
   "execution_count": 96,
   "metadata": {
    "collapsed": false
   },
   "outputs": [
    {
     "data": {
      "text/plain": [
       "True"
      ]
     },
     "execution_count": 96,
     "metadata": {},
     "output_type": "execute_result"
    }
   ],
   "source": [
    "len(df[df.YearC < 2014]) == len(df)"
   ]
  },
  {
   "cell_type": "code",
   "execution_count": 99,
   "metadata": {
    "collapsed": false
   },
   "outputs": [
    {
     "data": {
      "text/plain": [
       "956"
      ]
     },
     "execution_count": 99,
     "metadata": {},
     "output_type": "execute_result"
    }
   ],
   "source": [
    "print len(np.unique(np.array(df[['Int ID']])))\n",
    "print len(coordLinker)"
   ]
  },
  {
   "cell_type": "code",
   "execution_count": 102,
   "metadata": {
    "collapsed": false
   },
   "outputs": [],
   "source": [
    "df2 = df.dropna(axis=0, how='any', thresh=None, subset=['Longitude'], inplace=False)\n",
    "print len(np.unique(np.array(df2[['Int ID']])))"
   ]
  },
  {
   "cell_type": "code",
   "execution_count": 106,
   "metadata": {
    "collapsed": false
   },
   "outputs": [
    {
     "name": "stderr",
     "output_type": "stream",
     "text": [
      "/home/guerrero/anaconda/lib/python2.7/site-packages/pandas/core/indexing.py:415: SettingWithCopyWarning: \n",
      "A value is trying to be set on a copy of a slice from a DataFrame.\n",
      "Try using .loc[row_indexer,col_indexer] = value instead\n",
      "\n",
      "See the the caveats in the documentation: http://pandas.pydata.org/pandas-docs/stable/indexing.html#indexing-view-versus-copy\n",
      "  self.obj[item] = s\n"
     ]
    }
   ],
   "source": [
    "populateWeatherVariables(df2)"
   ]
  },
  {
   "cell_type": "code",
   "execution_count": 107,
   "metadata": {
    "collapsed": false
   },
   "outputs": [
    {
     "data": {
      "text/html": [
       "<div>\n",
       "<table border=\"1\" class=\"dataframe\">\n",
       "  <thead>\n",
       "    <tr style=\"text-align: right;\">\n",
       "      <th></th>\n",
       "      <th>YearC</th>\n",
       "      <th>Int ID</th>\n",
       "      <th>SR</th>\n",
       "      <th>Begin ARM</th>\n",
       "      <th>End ARM</th>\n",
       "      <th>Year</th>\n",
       "      <th>Contract Type Description</th>\n",
       "      <th>Surface Type Code</th>\n",
       "      <th>Surface Type Description</th>\n",
       "      <th>Surface Thickness</th>\n",
       "      <th>...</th>\n",
       "      <th>LongP</th>\n",
       "      <th>Traffic Year</th>\n",
       "      <th>ESALs</th>\n",
       "      <th>Contract History ID</th>\n",
       "      <th>STcode</th>\n",
       "      <th>Latitude</th>\n",
       "      <th>Longitude</th>\n",
       "      <th>PPT</th>\n",
       "      <th>MinTemp</th>\n",
       "      <th>MaxTemp</th>\n",
       "    </tr>\n",
       "  </thead>\n",
       "  <tbody>\n",
       "    <tr>\n",
       "      <th>0</th>\n",
       "      <td>2003</td>\n",
       "      <td>54964</td>\n",
       "      <td>101</td>\n",
       "      <td>0.53</td>\n",
       "      <td>0.63</td>\n",
       "      <td>1996</td>\n",
       "      <td>RESURFACE EXISTING RDWY</td>\n",
       "      <td>AA</td>\n",
       "      <td>ACP CLASS A AR4000W</td>\n",
       "      <td>0.15</td>\n",
       "      <td>...</td>\n",
       "      <td>0.946970</td>\n",
       "      <td>2013</td>\n",
       "      <td>40724.540843</td>\n",
       "      <td>0073c3c3-1b5a-40af-a002-022c09a2875d</td>\n",
       "      <td>AA</td>\n",
       "      <td>46.242524</td>\n",
       "      <td>-123.886017</td>\n",
       "      <td>185.619995</td>\n",
       "      <td>-2.08</td>\n",
       "      <td>34.279999</td>\n",
       "    </tr>\n",
       "    <tr>\n",
       "      <th>1</th>\n",
       "      <td>2004</td>\n",
       "      <td>54964</td>\n",
       "      <td>101</td>\n",
       "      <td>0.53</td>\n",
       "      <td>0.63</td>\n",
       "      <td>1996</td>\n",
       "      <td>RESURFACE EXISTING RDWY</td>\n",
       "      <td>AA</td>\n",
       "      <td>ACP CLASS A AR4000W</td>\n",
       "      <td>0.15</td>\n",
       "      <td>...</td>\n",
       "      <td>7.954545</td>\n",
       "      <td>2013</td>\n",
       "      <td>35842.303869</td>\n",
       "      <td>0073c3c3-1b5a-40af-a002-022c09a2875d</td>\n",
       "      <td>AA</td>\n",
       "      <td>46.242524</td>\n",
       "      <td>-123.886017</td>\n",
       "      <td>215.160004</td>\n",
       "      <td>-4.13</td>\n",
       "      <td>33.490002</td>\n",
       "    </tr>\n",
       "    <tr>\n",
       "      <th>2</th>\n",
       "      <td>2005</td>\n",
       "      <td>54964</td>\n",
       "      <td>101</td>\n",
       "      <td>0.53</td>\n",
       "      <td>0.63</td>\n",
       "      <td>1996</td>\n",
       "      <td>RESURFACE EXISTING RDWY</td>\n",
       "      <td>AA</td>\n",
       "      <td>ACP CLASS A AR4000W</td>\n",
       "      <td>0.15</td>\n",
       "      <td>...</td>\n",
       "      <td>0.946970</td>\n",
       "      <td>2013</td>\n",
       "      <td>35649.988229</td>\n",
       "      <td>0073c3c3-1b5a-40af-a002-022c09a2875d</td>\n",
       "      <td>AA</td>\n",
       "      <td>46.242524</td>\n",
       "      <td>-123.886017</td>\n",
       "      <td>188.020004</td>\n",
       "      <td>-4.41</td>\n",
       "      <td>33.029999</td>\n",
       "    </tr>\n",
       "    <tr>\n",
       "      <th>3</th>\n",
       "      <td>2006</td>\n",
       "      <td>54964</td>\n",
       "      <td>101</td>\n",
       "      <td>0.53</td>\n",
       "      <td>0.63</td>\n",
       "      <td>1996</td>\n",
       "      <td>RESURFACE EXISTING RDWY</td>\n",
       "      <td>AA</td>\n",
       "      <td>ACP CLASS A AR4000W</td>\n",
       "      <td>0.15</td>\n",
       "      <td>...</td>\n",
       "      <td>0.473485</td>\n",
       "      <td>2013</td>\n",
       "      <td>35979.602372</td>\n",
       "      <td>0073c3c3-1b5a-40af-a002-022c09a2875d</td>\n",
       "      <td>AA</td>\n",
       "      <td>46.242524</td>\n",
       "      <td>-123.886017</td>\n",
       "      <td>251.809998</td>\n",
       "      <td>-3.32</td>\n",
       "      <td>34.799999</td>\n",
       "    </tr>\n",
       "    <tr>\n",
       "      <th>4</th>\n",
       "      <td>2007</td>\n",
       "      <td>54964</td>\n",
       "      <td>101</td>\n",
       "      <td>0.53</td>\n",
       "      <td>0.63</td>\n",
       "      <td>1996</td>\n",
       "      <td>RESURFACE EXISTING RDWY</td>\n",
       "      <td>AA</td>\n",
       "      <td>ACP CLASS A AR4000W</td>\n",
       "      <td>0.15</td>\n",
       "      <td>...</td>\n",
       "      <td>0.473485</td>\n",
       "      <td>2013</td>\n",
       "      <td>36506.698358</td>\n",
       "      <td>0073c3c3-1b5a-40af-a002-022c09a2875d</td>\n",
       "      <td>AA</td>\n",
       "      <td>46.242524</td>\n",
       "      <td>-123.886017</td>\n",
       "      <td>173.809998</td>\n",
       "      <td>-4.77</td>\n",
       "      <td>34.380001</td>\n",
       "    </tr>\n",
       "  </tbody>\n",
       "</table>\n",
       "<p>5 rows × 45 columns</p>\n",
       "</div>"
      ],
      "text/plain": [
       "   YearC  Int ID   SR  Begin ARM  End ARM  Year Contract Type Description  \\\n",
       "0   2003   54964  101       0.53     0.63  1996   RESURFACE EXISTING RDWY   \n",
       "1   2004   54964  101       0.53     0.63  1996   RESURFACE EXISTING RDWY   \n",
       "2   2005   54964  101       0.53     0.63  1996   RESURFACE EXISTING RDWY   \n",
       "3   2006   54964  101       0.53     0.63  1996   RESURFACE EXISTING RDWY   \n",
       "4   2007   54964  101       0.53     0.63  1996   RESURFACE EXISTING RDWY   \n",
       "\n",
       "  Surface Type Code Surface Type Description  Surface Thickness    ...      \\\n",
       "0                AA      ACP CLASS A AR4000W               0.15    ...       \n",
       "1                AA      ACP CLASS A AR4000W               0.15    ...       \n",
       "2                AA      ACP CLASS A AR4000W               0.15    ...       \n",
       "3                AA      ACP CLASS A AR4000W               0.15    ...       \n",
       "4                AA      ACP CLASS A AR4000W               0.15    ...       \n",
       "\n",
       "      LongP Traffic Year         ESALs                   Contract History ID  \\\n",
       "0  0.946970         2013  40724.540843  0073c3c3-1b5a-40af-a002-022c09a2875d   \n",
       "1  7.954545         2013  35842.303869  0073c3c3-1b5a-40af-a002-022c09a2875d   \n",
       "2  0.946970         2013  35649.988229  0073c3c3-1b5a-40af-a002-022c09a2875d   \n",
       "3  0.473485         2013  35979.602372  0073c3c3-1b5a-40af-a002-022c09a2875d   \n",
       "4  0.473485         2013  36506.698358  0073c3c3-1b5a-40af-a002-022c09a2875d   \n",
       "\n",
       "   STcode   Latitude   Longitude         PPT MinTemp    MaxTemp  \n",
       "0      AA  46.242524 -123.886017  185.619995   -2.08  34.279999  \n",
       "1      AA  46.242524 -123.886017  215.160004   -4.13  33.490002  \n",
       "2      AA  46.242524 -123.886017  188.020004   -4.41  33.029999  \n",
       "3      AA  46.242524 -123.886017  251.809998   -3.32  34.799999  \n",
       "4      AA  46.242524 -123.886017  173.809998   -4.77  34.380001  \n",
       "\n",
       "[5 rows x 45 columns]"
      ]
     },
     "execution_count": 107,
     "metadata": {},
     "output_type": "execute_result"
    }
   ],
   "source": [
    "df2.head()"
   ]
  },
  {
   "cell_type": "code",
   "execution_count": 108,
   "metadata": {
    "collapsed": true
   },
   "outputs": [],
   "source": [
    "df2.to_excel('../DataFiles/cdata.xlsx')"
   ]
  },
  {
   "cell_type": "code",
   "execution_count": null,
   "metadata": {
    "collapsed": true
   },
   "outputs": [],
   "source": []
  }
 ],
 "metadata": {
  "kernelspec": {
   "display_name": "Python 2",
   "language": "python",
   "name": "python2"
  },
  "language_info": {
   "codemirror_mode": {
    "name": "ipython",
    "version": 2
   },
   "file_extension": ".py",
   "mimetype": "text/x-python",
   "name": "python",
   "nbconvert_exporter": "python",
   "pygments_lexer": "ipython2",
   "version": "2.7.9"
  }
 },
 "nbformat": 4,
 "nbformat_minor": 0
}
