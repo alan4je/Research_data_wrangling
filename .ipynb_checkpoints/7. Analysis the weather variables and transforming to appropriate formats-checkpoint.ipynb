{
 "cells": [
  {
   "cell_type": "code",
   "execution_count": 1,
   "metadata": {
    "collapsed": true
   },
   "outputs": [],
   "source": [
    "import pandas as pd\n",
    "import numpy as np"
   ]
  },
  {
   "cell_type": "code",
   "execution_count": 2,
   "metadata": {
    "collapsed": false
   },
   "outputs": [],
   "source": [
    "ppt = pd.read_csv('../FinalDatasets/ppt.csv')\n",
    "maxt = pd.read_csv('../FinalDatasets/MaxT.csv')\n",
    "mint = pd.read_csv('../FinalDatasets/MinT.csv')\n",
    "esals =pd.read_csv('../FinalDatasets/ESALs.csv')\n",
    "rdat = pd.read_csv('../FinalDatasets/RoughnessCrackingDataset.csv')"
   ]
  },
  {
   "cell_type": "code",
   "execution_count": 3,
   "metadata": {
    "collapsed": true
   },
   "outputs": [],
   "source": [
    "#Rehabilitation years\n",
    "Ryrs = rdat[['UID', 'Major Rehab Year', 'Prior Major Rehab Year']]\n",
    "Ryrs.columns = ['UID', 'MRYear', 'PMRYear']\n",
    "Ryrs = Ryrs.drop_duplicates(subset = 'UID')\n",
    "Ryrs.index = Ryrs.UID"
   ]
  },
  {
   "cell_type": "code",
   "execution_count": 4,
   "metadata": {
    "collapsed": true
   },
   "outputs": [],
   "source": [
    "import math\n",
    "def removeNan(row):\n",
    "    val = row['PMRYear']\n",
    "    if math.isnan(val):\n",
    "        return 1900\n",
    "    return val"
   ]
  },
  {
   "cell_type": "code",
   "execution_count": 5,
   "metadata": {
    "collapsed": false
   },
   "outputs": [],
   "source": [
    "Ryrs.loc[:, 'PriorRehab'] = Ryrs.apply(removeNan, axis = 1)"
   ]
  },
  {
   "cell_type": "code",
   "execution_count": 6,
   "metadata": {
    "collapsed": false
   },
   "outputs": [
    {
     "data": {
      "text/html": [
       "<div>\n",
       "<table border=\"1\" class=\"dataframe\">\n",
       "  <thead>\n",
       "    <tr style=\"text-align: right;\">\n",
       "      <th></th>\n",
       "      <th>UID</th>\n",
       "      <th>MRYear</th>\n",
       "      <th>PMRYear</th>\n",
       "      <th>PriorRehab</th>\n",
       "    </tr>\n",
       "    <tr>\n",
       "      <th>UID</th>\n",
       "      <th></th>\n",
       "      <th></th>\n",
       "      <th></th>\n",
       "      <th></th>\n",
       "    </tr>\n",
       "  </thead>\n",
       "  <tbody>\n",
       "    <tr>\n",
       "      <th>399</th>\n",
       "      <td>399</td>\n",
       "      <td>2003</td>\n",
       "      <td>NaN</td>\n",
       "      <td>1900</td>\n",
       "    </tr>\n",
       "    <tr>\n",
       "      <th>443</th>\n",
       "      <td>443</td>\n",
       "      <td>2008</td>\n",
       "      <td>NaN</td>\n",
       "      <td>1900</td>\n",
       "    </tr>\n",
       "    <tr>\n",
       "      <th>1047</th>\n",
       "      <td>1047</td>\n",
       "      <td>2008</td>\n",
       "      <td>NaN</td>\n",
       "      <td>1900</td>\n",
       "    </tr>\n",
       "    <tr>\n",
       "      <th>401</th>\n",
       "      <td>401</td>\n",
       "      <td>2003</td>\n",
       "      <td>NaN</td>\n",
       "      <td>1900</td>\n",
       "    </tr>\n",
       "    <tr>\n",
       "      <th>1</th>\n",
       "      <td>1</td>\n",
       "      <td>1994</td>\n",
       "      <td>NaN</td>\n",
       "      <td>1900</td>\n",
       "    </tr>\n",
       "  </tbody>\n",
       "</table>\n",
       "</div>"
      ],
      "text/plain": [
       "       UID  MRYear  PMRYear  PriorRehab\n",
       "UID                                    \n",
       "399    399    2003      NaN        1900\n",
       "443    443    2008      NaN        1900\n",
       "1047  1047    2008      NaN        1900\n",
       "401    401    2003      NaN        1900\n",
       "1        1    1994      NaN        1900"
      ]
     },
     "execution_count": 6,
     "metadata": {},
     "output_type": "execute_result"
    }
   ],
   "source": [
    "Ryrs[Ryrs.PriorRehab==1900].head()"
   ]
  },
  {
   "cell_type": "code",
   "execution_count": 7,
   "metadata": {
    "collapsed": false
   },
   "outputs": [
    {
     "name": "stdout",
     "output_type": "stream",
     "text": [
      "316305\n"
     ]
    }
   ],
   "source": [
    "print len(np.unique(np.array(esals.ID)))*33"
   ]
  },
  {
   "cell_type": "code",
   "execution_count": 8,
   "metadata": {
    "collapsed": true
   },
   "outputs": [],
   "source": [
    "selected_ids = np.unique(np.array(ppt.ID))\n",
    "esals = esals[esals.ID.isin(selected_ids)]"
   ]
  },
  {
   "cell_type": "code",
   "execution_count": 9,
   "metadata": {
    "collapsed": false
   },
   "outputs": [],
   "source": [
    "esals = esals.drop_duplicates(subset = ['ID'])\n",
    "ppt  = ppt.drop_duplicates(subset = ['ID'])\n",
    "mint = mint.drop_duplicates(subset = ['ID'])\n",
    "maxt = maxt.drop_duplicates(subset = ['ID'])"
   ]
  },
  {
   "cell_type": "code",
   "execution_count": 10,
   "metadata": {
    "collapsed": false
   },
   "outputs": [
    {
     "name": "stdout",
     "output_type": "stream",
     "text": [
      "8938\n",
      "8938\n",
      "8938\n",
      "8938\n",
      "8938\n"
     ]
    }
   ],
   "source": [
    "print len(esals)\n",
    "print len(ppt)\n",
    "print len(mint)\n",
    "print len(maxt)\n",
    "print len(Ryrs)"
   ]
  },
  {
   "cell_type": "code",
   "execution_count": 11,
   "metadata": {
    "collapsed": true
   },
   "outputs": [],
   "source": [
    "def addPrevRehabYear(row):\n",
    "    ix = row['ID'] #index\n",
    "    return Ryrs.loc[ix, 'PriorRehab']\n",
    "\n",
    "def addRehabYear(row):\n",
    "    ix = row['ID'] #index\n",
    "    return Ryrs.loc[ix, 'MRYear']"
   ]
  },
  {
   "cell_type": "code",
   "execution_count": 12,
   "metadata": {
    "collapsed": true
   },
   "outputs": [],
   "source": [
    "def addRehabYears(df):\n",
    "    df.loc[:, 'PriorMRyr'] = df.apply(addPrevRehabYear, axis =1)\n",
    "    df.loc[:, 'MajorRyr'] = df.apply(addRehabYear, axis =1)"
   ]
  },
  {
   "cell_type": "code",
   "execution_count": 13,
   "metadata": {
    "collapsed": false
   },
   "outputs": [],
   "source": [
    "addRehabYears(esals)\n",
    "addRehabYears(ppt)\n",
    "addRehabYears(mint)\n",
    "addRehabYears(maxt)"
   ]
  },
  {
   "cell_type": "code",
   "execution_count": 14,
   "metadata": {
    "collapsed": false
   },
   "outputs": [
    {
     "data": {
      "text/html": [
       "<div>\n",
       "<table border=\"1\" class=\"dataframe\">\n",
       "  <thead>\n",
       "    <tr style=\"text-align: right;\">\n",
       "      <th></th>\n",
       "      <th>Unnamed: 0</th>\n",
       "      <th>ID</th>\n",
       "      <th>Year</th>\n",
       "      <th>1981</th>\n",
       "      <th>1982</th>\n",
       "      <th>1983</th>\n",
       "      <th>1984</th>\n",
       "      <th>1985</th>\n",
       "      <th>1986</th>\n",
       "      <th>1987</th>\n",
       "      <th>...</th>\n",
       "      <th>2006</th>\n",
       "      <th>2007</th>\n",
       "      <th>2008</th>\n",
       "      <th>2009</th>\n",
       "      <th>2010</th>\n",
       "      <th>2011</th>\n",
       "      <th>2012</th>\n",
       "      <th>2013</th>\n",
       "      <th>PriorMRyr</th>\n",
       "      <th>MajorRyr</th>\n",
       "    </tr>\n",
       "  </thead>\n",
       "  <tbody>\n",
       "    <tr>\n",
       "      <th>0</th>\n",
       "      <td>0</td>\n",
       "      <td>1</td>\n",
       "      <td>1981</td>\n",
       "      <td>12895.622638</td>\n",
       "      <td>13058.226161</td>\n",
       "      <td>13828.983957</td>\n",
       "      <td>14994.900067</td>\n",
       "      <td>15576.625091</td>\n",
       "      <td>16534.948341</td>\n",
       "      <td>17254.391382</td>\n",
       "      <td>...</td>\n",
       "      <td>28771.148850</td>\n",
       "      <td>28826.453915</td>\n",
       "      <td>27905.473334</td>\n",
       "      <td>28384.511776</td>\n",
       "      <td>28596.103563</td>\n",
       "      <td>28398.052581</td>\n",
       "      <td>28200.120262</td>\n",
       "      <td>30058</td>\n",
       "      <td>1900</td>\n",
       "      <td>1994</td>\n",
       "    </tr>\n",
       "    <tr>\n",
       "      <th>33</th>\n",
       "      <td>33</td>\n",
       "      <td>24</td>\n",
       "      <td>1981</td>\n",
       "      <td>74655.435707</td>\n",
       "      <td>75596.781245</td>\n",
       "      <td>80058.858085</td>\n",
       "      <td>86808.588411</td>\n",
       "      <td>90176.315303</td>\n",
       "      <td>95724.247479</td>\n",
       "      <td>99889.252548</td>\n",
       "      <td>...</td>\n",
       "      <td>166562.151628</td>\n",
       "      <td>166882.324128</td>\n",
       "      <td>161550.576411</td>\n",
       "      <td>164323.829367</td>\n",
       "      <td>165548.778134</td>\n",
       "      <td>164402.219899</td>\n",
       "      <td>163256.348627</td>\n",
       "      <td>174012</td>\n",
       "      <td>1975</td>\n",
       "      <td>2002</td>\n",
       "    </tr>\n",
       "    <tr>\n",
       "      <th>66</th>\n",
       "      <td>66</td>\n",
       "      <td>27</td>\n",
       "      <td>1981</td>\n",
       "      <td>45866.166245</td>\n",
       "      <td>46444.502042</td>\n",
       "      <td>49185.874538</td>\n",
       "      <td>53332.715961</td>\n",
       "      <td>55401.751123</td>\n",
       "      <td>58810.242107</td>\n",
       "      <td>61369.102197</td>\n",
       "      <td>...</td>\n",
       "      <td>102331.026057</td>\n",
       "      <td>102527.730891</td>\n",
       "      <td>99252.057462</td>\n",
       "      <td>100955.864825</td>\n",
       "      <td>101708.438342</td>\n",
       "      <td>101004.025728</td>\n",
       "      <td>100300.035164</td>\n",
       "      <td>106908</td>\n",
       "      <td>1994</td>\n",
       "      <td>2002</td>\n",
       "    </tr>\n",
       "    <tr>\n",
       "      <th>99</th>\n",
       "      <td>99</td>\n",
       "      <td>28</td>\n",
       "      <td>1981</td>\n",
       "      <td>45866.166245</td>\n",
       "      <td>46444.502042</td>\n",
       "      <td>49185.874538</td>\n",
       "      <td>53332.715961</td>\n",
       "      <td>55401.751123</td>\n",
       "      <td>58810.242107</td>\n",
       "      <td>61369.102197</td>\n",
       "      <td>...</td>\n",
       "      <td>102331.026057</td>\n",
       "      <td>102527.730891</td>\n",
       "      <td>99252.057462</td>\n",
       "      <td>100955.864825</td>\n",
       "      <td>101708.438342</td>\n",
       "      <td>101004.025728</td>\n",
       "      <td>100300.035164</td>\n",
       "      <td>106908</td>\n",
       "      <td>1994</td>\n",
       "      <td>2002</td>\n",
       "    </tr>\n",
       "    <tr>\n",
       "      <th>132</th>\n",
       "      <td>132</td>\n",
       "      <td>32</td>\n",
       "      <td>1981</td>\n",
       "      <td>49971.074003</td>\n",
       "      <td>50601.169416</td>\n",
       "      <td>53587.887929</td>\n",
       "      <td>58105.861341</td>\n",
       "      <td>60360.070002</td>\n",
       "      <td>64073.612448</td>\n",
       "      <td>66861.484150</td>\n",
       "      <td>...</td>\n",
       "      <td>111489.398277</td>\n",
       "      <td>111703.707705</td>\n",
       "      <td>108134.869653</td>\n",
       "      <td>109991.163537</td>\n",
       "      <td>110811.090510</td>\n",
       "      <td>110043.634720</td>\n",
       "      <td>109276.638753</td>\n",
       "      <td>116476</td>\n",
       "      <td>1988</td>\n",
       "      <td>2002</td>\n",
       "    </tr>\n",
       "  </tbody>\n",
       "</table>\n",
       "<p>5 rows × 38 columns</p>\n",
       "</div>"
      ],
      "text/plain": [
       "     Unnamed: 0  ID  Year          1981          1982          1983  \\\n",
       "0             0   1  1981  12895.622638  13058.226161  13828.983957   \n",
       "33           33  24  1981  74655.435707  75596.781245  80058.858085   \n",
       "66           66  27  1981  45866.166245  46444.502042  49185.874538   \n",
       "99           99  28  1981  45866.166245  46444.502042  49185.874538   \n",
       "132         132  32  1981  49971.074003  50601.169416  53587.887929   \n",
       "\n",
       "             1984          1985          1986          1987    ...     \\\n",
       "0    14994.900067  15576.625091  16534.948341  17254.391382    ...      \n",
       "33   86808.588411  90176.315303  95724.247479  99889.252548    ...      \n",
       "66   53332.715961  55401.751123  58810.242107  61369.102197    ...      \n",
       "99   53332.715961  55401.751123  58810.242107  61369.102197    ...      \n",
       "132  58105.861341  60360.070002  64073.612448  66861.484150    ...      \n",
       "\n",
       "              2006           2007           2008           2009  \\\n",
       "0     28771.148850   28826.453915   27905.473334   28384.511776   \n",
       "33   166562.151628  166882.324128  161550.576411  164323.829367   \n",
       "66   102331.026057  102527.730891   99252.057462  100955.864825   \n",
       "99   102331.026057  102527.730891   99252.057462  100955.864825   \n",
       "132  111489.398277  111703.707705  108134.869653  109991.163537   \n",
       "\n",
       "              2010           2011           2012    2013  PriorMRyr  MajorRyr  \n",
       "0     28596.103563   28398.052581   28200.120262   30058       1900      1994  \n",
       "33   165548.778134  164402.219899  163256.348627  174012       1975      2002  \n",
       "66   101708.438342  101004.025728  100300.035164  106908       1994      2002  \n",
       "99   101708.438342  101004.025728  100300.035164  106908       1994      2002  \n",
       "132  110811.090510  110043.634720  109276.638753  116476       1988      2002  \n",
       "\n",
       "[5 rows x 38 columns]"
      ]
     },
     "execution_count": 14,
     "metadata": {},
     "output_type": "execute_result"
    }
   ],
   "source": [
    "esals.head()"
   ]
  },
  {
   "cell_type": "code",
   "execution_count": 15,
   "metadata": {
    "collapsed": true
   },
   "outputs": [],
   "source": [
    "def cumVal(row):\n",
    "    ix = row['ID']\n",
    "    syear = row['Year']\n",
    "    l = np.array(row[['1981', '1982', '1983', '1984', '1985', '1986', '1987', '1988', '1989', '1990', \n",
    "                      '1991', '1992', '1993', '1994', '1995', '1996', '1997', '1998', '1999', '2000',\n",
    "                     '2001', '2002', '2003', '2004', '2005', '2006', '2007', '2008', '2009', '2010', \n",
    "                     '2011', '2012', '2013']])\n",
    "    pmr = int(row['PriorMRyr'])\n",
    "    if pmr > 1981:\n",
    "        p1 = pmr - 1981\n",
    "    else:\n",
    "        p1 =0\n",
    "    mr  = int(row['MajorRyr'])\n",
    "    if (mr > 1981) & (mr < 2014):\n",
    "        p2 = mr - 1981\n",
    "    else:\n",
    "        p2 =0\n",
    "        \n",
    "    if (p1 ==0) & (p2==0):\n",
    "        res = list(np.cumsum(l))\n",
    "        \n",
    "    elif p1 == 0:\n",
    "        l1 = list(np.cumsum(l[0:p2]))\n",
    "        l2 = list(np.cumsum(l[p2:]))\n",
    "        res = l1 + l2\n",
    "    else:\n",
    "        l1 = list(np.cumsum(l[0:p1]))\n",
    "        l2 = list(np.cumsum(l[p1:p2]))\n",
    "        l3 = list(np.cumsum(l[p2:]))\n",
    "        res = l1 + l2 + l3\n",
    "        \n",
    "    return ix, syear, res"
   ]
  },
  {
   "cell_type": "code",
   "execution_count": 16,
   "metadata": {
    "collapsed": true
   },
   "outputs": [],
   "source": [
    "distributeResultToColumns = lambda x: pd.Series(([i for i in x[:2]] + [j for j in x[2:][0]]))\n",
    "colNames = esals.columns[1:-2]\n",
    "def getCumVarDataset(df):\n",
    "    rdf = df.apply(cumVal, axis = 1)\n",
    "    rdf = pd.DataFrame(rdf)\n",
    "    rdf.columns = ['Results']\n",
    "    newdf = rdf['Results'].apply(distributeResultToColumns)\n",
    "    output = newdf[range(35)]\n",
    "    output.columns = colNames\n",
    "    return output"
   ]
  },
  {
   "cell_type": "code",
   "execution_count": 17,
   "metadata": {
    "collapsed": true
   },
   "outputs": [],
   "source": [
    "def cmean(row): #function determines the cumulative variables in a row\n",
    "    ix = row['ID']\n",
    "    syear = row['Year']\n",
    "    l = np.array(row[['1981', '1982', '1983', '1984', '1985', '1986', '1987', '1988', '1989', '1990', \n",
    "                      '1991', '1992', '1993', '1994', '1995', '1996', '1997', '1998', '1999', '2000',\n",
    "                     '2001', '2002', '2003', '2004', '2005', '2006', '2007', '2008', '2009', '2010', \n",
    "                     '2011', '2012', '2013']])\n",
    "    pmr = int(row['PriorMRyr'])\n",
    "    if pmr > 1981:\n",
    "        p1 = pmr - 1981\n",
    "    else:\n",
    "        p1 =0\n",
    "    mr  = int(row['MajorRyr'])\n",
    "    if (mr > 1981) & (mr < 2014):\n",
    "        p2 = mr - 1981\n",
    "    else:\n",
    "        p2 =0\n",
    "        \n",
    "    if (p1 ==0) & (p2==0):\n",
    "        r = np.cumsum(l)\n",
    "        d = np.arange(len(r))+1\n",
    "        res = list(r/d)\n",
    "        \n",
    "    elif p1 == 0:\n",
    "        l1 = np.cumsum(l[0:p2])\n",
    "        d1 = np.arange(len(l1))+1\n",
    "        l2 = np.cumsum(l[p2:])\n",
    "        d2 = np.arange(len(l2))+1\n",
    "        meanl1 = l1/d1\n",
    "        meanl2 = l2/d2\n",
    "        res = list(meanl1) + list(meanl2)\n",
    "    else:\n",
    "        l1 = np.cumsum(l[0:p1])\n",
    "        d1 = np.arange(len(l1))+1\n",
    "        l2 = np.cumsum(l[p1:p2])\n",
    "        d2 = np.arange(len(l2))+1\n",
    "        l3 = np.cumsum(l[p2:])\n",
    "        d3 = np.arange(len(l3))+1\n",
    "        meanl1 = l1/d1\n",
    "        meanl2 = l2/d2\n",
    "        meanl3 = l3/d3\n",
    "        res = list(meanl1) + list(meanl2) + list(meanl3)\n",
    "        \n",
    "    return ix, syear, res"
   ]
  },
  {
   "cell_type": "code",
   "execution_count": null,
   "metadata": {
    "collapsed": true
   },
   "outputs": [],
   "source": [
    "distributeResultToColumns = lambda x: pd.Series(([i for i in x[:2]] + [j for j in x[2:][0]]))\n",
    "colNames = esals.columns[1:-2]\n",
    "def cmeanVarDataset(df):\n",
    "    rdf = df.apply(cmean, axis = 1)\n",
    "    rdf = pd.DataFrame(rdf)\n",
    "    rdf.columns = ['Results']\n",
    "    newdf = rdf['Results'].apply(distributeResultToColumns)\n",
    "    output = newdf[range(35)]\n",
    "    output.columns = colNames\n",
    "    return output"
   ]
  },
  {
   "cell_type": "code",
   "execution_count": null,
   "metadata": {
    "collapsed": false
   },
   "outputs": [],
   "source": [
    "cumPpt   = getCumVarDataset(ppt)\n",
    "cumEsals = getCumVarDataset(esals)\n",
    "meanMaxT = cmeanVarDataset(maxt)\n",
    "meanMinT = cmeanVarDataset(mint)"
   ]
  },
  {
   "cell_type": "code",
   "execution_count": null,
   "metadata": {
    "collapsed": false
   },
   "outputs": [],
   "source": [
    "meanMinT.head()"
   ]
  },
  {
   "cell_type": "code",
   "execution_count": null,
   "metadata": {
    "collapsed": false
   },
   "outputs": [],
   "source": [
    "cumPpt.to_csv('../FinalDatasets/cumPPT.csv')\n",
    "cumEsals.to_csv('../FinalDatasets/cumEsals.csv')\n",
    "meanMaxT.to_csv('../FinalDatasets/meanMaxT.csv')\n",
    "meanMinT.to_csv('../FinalDatasets/meanMinT.csv')"
   ]
  }
 ],
 "metadata": {
  "kernelspec": {
   "display_name": "Python 2",
   "language": "python",
   "name": "python2"
  },
  "language_info": {
   "codemirror_mode": {
    "name": "ipython",
    "version": 2
   },
   "file_extension": ".py",
   "mimetype": "text/x-python",
   "name": "python",
   "nbconvert_exporter": "python",
   "pygments_lexer": "ipython2",
   "version": "2.7.10"
  }
 },
 "nbformat": 4,
 "nbformat_minor": 0
}
