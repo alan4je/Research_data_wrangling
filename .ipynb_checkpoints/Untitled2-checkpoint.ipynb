{
 "cells": [
  {
   "cell_type": "code",
   "execution_count": 1,
   "metadata": {
    "collapsed": true
   },
   "outputs": [],
   "source": [
    "import pandas as pd\n",
    "import numpy as np"
   ]
  },
  {
   "cell_type": "code",
   "execution_count": 2,
   "metadata": {
    "collapsed": true
   },
   "outputs": [],
   "source": [
    "import statsmodels.api as sm\n",
    "import matplotlib.pyplot as plt\n",
    "from statsmodels.sandbox.regression.predstd import wls_prediction_std\n",
    "%matplotlib inline "
   ]
  },
  {
   "cell_type": "code",
   "execution_count": 3,
   "metadata": {
    "collapsed": false
   },
   "outputs": [
    {
     "data": {
      "text/html": [
       "<div>\n",
       "<table border=\"1\" class=\"dataframe\">\n",
       "  <thead>\n",
       "    <tr style=\"text-align: right;\">\n",
       "      <th></th>\n",
       "      <th>Unnamed: 0</th>\n",
       "      <th>Year</th>\n",
       "      <th>ID</th>\n",
       "      <th>UID</th>\n",
       "      <th>sYear</th>\n",
       "      <th>Rutting</th>\n",
       "      <th>IRI</th>\n",
       "      <th>PSC</th>\n",
       "      <th>AlliP</th>\n",
       "      <th>LongP</th>\n",
       "      <th>...</th>\n",
       "      <th>sfThick</th>\n",
       "      <th>Tthick</th>\n",
       "      <th>TSfThick</th>\n",
       "      <th>STcode</th>\n",
       "      <th>AlliPred</th>\n",
       "      <th>cumPPT</th>\n",
       "      <th>meanMinTemp</th>\n",
       "      <th>meanMaxTemp</th>\n",
       "      <th>cumESALs</th>\n",
       "      <th>cumFTC</th>\n",
       "    </tr>\n",
       "  </thead>\n",
       "  <tbody>\n",
       "    <tr>\n",
       "      <th>0</th>\n",
       "      <td>0</td>\n",
       "      <td>1981</td>\n",
       "      <td>222</td>\n",
       "      <td>222</td>\n",
       "      <td>1981</td>\n",
       "      <td>0.236</td>\n",
       "      <td>15.836577</td>\n",
       "      <td>92</td>\n",
       "      <td>0.000000</td>\n",
       "      <td>3.960055</td>\n",
       "      <td>...</td>\n",
       "      <td>0.00</td>\n",
       "      <td>0.15</td>\n",
       "      <td>0.15</td>\n",
       "      <td>PA</td>\n",
       "      <td>1.910057</td>\n",
       "      <td>1690.469971</td>\n",
       "      <td>1.31</td>\n",
       "      <td>26.850000</td>\n",
       "      <td>57829.947364</td>\n",
       "      <td>0</td>\n",
       "    </tr>\n",
       "    <tr>\n",
       "      <th>1</th>\n",
       "      <td>1</td>\n",
       "      <td>1981</td>\n",
       "      <td>540</td>\n",
       "      <td>540</td>\n",
       "      <td>1981</td>\n",
       "      <td>0.236</td>\n",
       "      <td>18.840242</td>\n",
       "      <td>83</td>\n",
       "      <td>0.000000</td>\n",
       "      <td>0.000000</td>\n",
       "      <td>...</td>\n",
       "      <td>0.15</td>\n",
       "      <td>1.65</td>\n",
       "      <td>0.90</td>\n",
       "      <td>Other</td>\n",
       "      <td>2.126044</td>\n",
       "      <td>2157.649902</td>\n",
       "      <td>-2.84</td>\n",
       "      <td>25.230000</td>\n",
       "      <td>35421.157984</td>\n",
       "      <td>208</td>\n",
       "    </tr>\n",
       "    <tr>\n",
       "      <th>2</th>\n",
       "      <td>2</td>\n",
       "      <td>1981</td>\n",
       "      <td>2431</td>\n",
       "      <td>2431</td>\n",
       "      <td>1981</td>\n",
       "      <td>0.512</td>\n",
       "      <td>20.429158</td>\n",
       "      <td>37</td>\n",
       "      <td>5.965909</td>\n",
       "      <td>14.962121</td>\n",
       "      <td>...</td>\n",
       "      <td>0.15</td>\n",
       "      <td>1.56</td>\n",
       "      <td>0.98</td>\n",
       "      <td>BA</td>\n",
       "      <td>7.894043</td>\n",
       "      <td>337.529999</td>\n",
       "      <td>-5.94</td>\n",
       "      <td>31.230000</td>\n",
       "      <td>58882.558639</td>\n",
       "      <td>83</td>\n",
       "    </tr>\n",
       "    <tr>\n",
       "      <th>3</th>\n",
       "      <td>3</td>\n",
       "      <td>1981</td>\n",
       "      <td>704</td>\n",
       "      <td>704</td>\n",
       "      <td>1981</td>\n",
       "      <td>0.236</td>\n",
       "      <td>7.654330</td>\n",
       "      <td>40</td>\n",
       "      <td>0.000000</td>\n",
       "      <td>64.962121</td>\n",
       "      <td>...</td>\n",
       "      <td>0.65</td>\n",
       "      <td>1.75</td>\n",
       "      <td>1.00</td>\n",
       "      <td>Other</td>\n",
       "      <td>10.134499</td>\n",
       "      <td>1980.089966</td>\n",
       "      <td>-6.77</td>\n",
       "      <td>23.930000</td>\n",
       "      <td>28915.396971</td>\n",
       "      <td>208</td>\n",
       "    </tr>\n",
       "    <tr>\n",
       "      <th>4</th>\n",
       "      <td>4</td>\n",
       "      <td>1981</td>\n",
       "      <td>776</td>\n",
       "      <td>776</td>\n",
       "      <td>1981</td>\n",
       "      <td>0.236</td>\n",
       "      <td>11.085579</td>\n",
       "      <td>48</td>\n",
       "      <td>3.977273</td>\n",
       "      <td>9.974747</td>\n",
       "      <td>...</td>\n",
       "      <td>0.50</td>\n",
       "      <td>2.15</td>\n",
       "      <td>0.65</td>\n",
       "      <td>BA</td>\n",
       "      <td>3.722601</td>\n",
       "      <td>1099.699951</td>\n",
       "      <td>-6.72</td>\n",
       "      <td>28.370001</td>\n",
       "      <td>35606.843246</td>\n",
       "      <td>208</td>\n",
       "    </tr>\n",
       "  </tbody>\n",
       "</table>\n",
       "<p>5 rows × 22 columns</p>\n",
       "</div>"
      ],
      "text/plain": [
       "   Unnamed: 0  Year    ID   UID  sYear  Rutting        IRI  PSC     AlliP  \\\n",
       "0           0  1981   222   222   1981    0.236  15.836577   92  0.000000   \n",
       "1           1  1981   540   540   1981    0.236  18.840242   83  0.000000   \n",
       "2           2  1981  2431  2431   1981    0.512  20.429158   37  5.965909   \n",
       "3           3  1981   704   704   1981    0.236   7.654330   40  0.000000   \n",
       "4           4  1981   776   776   1981    0.236  11.085579   48  3.977273   \n",
       "\n",
       "       LongP   ...    sfThick  Tthick  TSfThick  STcode   AlliPred  \\\n",
       "0   3.960055   ...       0.00    0.15      0.15      PA   1.910057   \n",
       "1   0.000000   ...       0.15    1.65      0.90   Other   2.126044   \n",
       "2  14.962121   ...       0.15    1.56      0.98      BA   7.894043   \n",
       "3  64.962121   ...       0.65    1.75      1.00   Other  10.134499   \n",
       "4   9.974747   ...       0.50    2.15      0.65      BA   3.722601   \n",
       "\n",
       "        cumPPT  meanMinTemp  meanMaxTemp      cumESALs  cumFTC  \n",
       "0  1690.469971         1.31    26.850000  57829.947364       0  \n",
       "1  2157.649902        -2.84    25.230000  35421.157984     208  \n",
       "2   337.529999        -5.94    31.230000  58882.558639      83  \n",
       "3  1980.089966        -6.77    23.930000  28915.396971     208  \n",
       "4  1099.699951        -6.72    28.370001  35606.843246     208  \n",
       "\n",
       "[5 rows x 22 columns]"
      ]
     },
     "execution_count": 3,
     "metadata": {},
     "output_type": "execute_result"
    }
   ],
   "source": [
    "ds = pd.read_csv('../FinalDatasets/CPMdataset1007.csv')\n",
    "ds.head()"
   ]
  },
  {
   "cell_type": "code",
   "execution_count": 4,
   "metadata": {
    "collapsed": false
   },
   "outputs": [
    {
     "data": {
      "text/plain": [
       "Index([u'Unnamed: 0', u'Year', u'ID', u'UID', u'sYear', u'Rutting', u'IRI',\n",
       "       u'PSC', u'AlliP', u'LongP', u'Trans_Cracking', u'IsBridge', u'sfThick',\n",
       "       u'Tthick', u'TSfThick', u'STcode', u'AlliPred', u'cumPPT',\n",
       "       u'meanMinTemp', u'meanMaxTemp', u'cumESALs', u'cumFTC'],\n",
       "      dtype='object')"
      ]
     },
     "execution_count": 4,
     "metadata": {},
     "output_type": "execute_result"
    }
   ],
   "source": [
    "ds.columns"
   ]
  },
  {
   "cell_type": "code",
   "execution_count": 5,
   "metadata": {
    "collapsed": false
   },
   "outputs": [],
   "source": [
    "sampled_segments = pd.Series(ds.UID.unique()).sample(frac = 0.8)"
   ]
  },
  {
   "cell_type": "code",
   "execution_count": 6,
   "metadata": {
    "collapsed": false
   },
   "outputs": [
    {
     "name": "stdout",
     "output_type": "stream",
     "text": [
      "7150\n"
     ]
    }
   ],
   "source": [
    "print len(sampled_segments)"
   ]
  },
  {
   "cell_type": "code",
   "execution_count": 7,
   "metadata": {
    "collapsed": true
   },
   "outputs": [],
   "source": [
    "model_ds = ds[ds.UID.isin(sampled_segments)]"
   ]
  },
  {
   "cell_type": "code",
   "execution_count": 9,
   "metadata": {
    "collapsed": false
   },
   "outputs": [
    {
     "ename": "AttributeError",
     "evalue": "'module' object has no attribute 'ols'",
     "output_type": "error",
     "traceback": [
      "\u001b[0;31m---------------------------------------------------------------------------\u001b[0m",
      "\u001b[0;31mAttributeError\u001b[0m                            Traceback (most recent call last)",
      "\u001b[0;32m<ipython-input-9-e38c488ce913>\u001b[0m in \u001b[0;36m<module>\u001b[0;34m()\u001b[0m\n\u001b[0;32m----> 1\u001b[0;31m \u001b[0mm1\u001b[0m \u001b[0;34m=\u001b[0m \u001b[0msm\u001b[0m\u001b[0;34m.\u001b[0m\u001b[0mols\u001b[0m\u001b[0;34m(\u001b[0m\u001b[0mformula\u001b[0m\u001b[0;34m=\u001b[0m\u001b[0;34m\"IRI ~ AlliP + LongP + sfThick + Tthick + Rutting + C(IsBridge) + C(STcode)\"\u001b[0m\u001b[0;34m,\u001b[0m\u001b[0mdata\u001b[0m\u001b[0;34m=\u001b[0m\u001b[0mmodel_ds\u001b[0m\u001b[0;34m)\u001b[0m\u001b[0;34m.\u001b[0m\u001b[0mfit\u001b[0m\u001b[0;34m(\u001b[0m\u001b[0;34m)\u001b[0m\u001b[0;34m\u001b[0m\u001b[0m\n\u001b[0m\u001b[1;32m      2\u001b[0m \u001b[0;32mprint\u001b[0m \u001b[0mm1\u001b[0m\u001b[0;34m.\u001b[0m\u001b[0msummary\u001b[0m\u001b[0;34m(\u001b[0m\u001b[0;34m)\u001b[0m\u001b[0;34m\u001b[0m\u001b[0m\n",
      "\u001b[0;31mAttributeError\u001b[0m: 'module' object has no attribute 'ols'"
     ]
    }
   ],
   "source": [
    "m1 = sm.ols(formula=\"IRI ~ AlliP + LongP + sfThick + Tthick + Rutting + C(IsBridge) + C(STcode)\",data=model_ds).fit()\n",
    "print m1.summary()"
   ]
  },
  {
   "cell_type": "code",
   "execution_count": null,
   "metadata": {
    "collapsed": true
   },
   "outputs": [],
   "source": []
  }
 ],
 "metadata": {
  "kernelspec": {
   "display_name": "Python 2",
   "language": "python",
   "name": "python2"
  },
  "language_info": {
   "codemirror_mode": {
    "name": "ipython",
    "version": 2
   },
   "file_extension": ".py",
   "mimetype": "text/x-python",
   "name": "python",
   "nbconvert_exporter": "python",
   "pygments_lexer": "ipython2",
   "version": "2.7.9"
  }
 },
 "nbformat": 4,
 "nbformat_minor": 0
}
