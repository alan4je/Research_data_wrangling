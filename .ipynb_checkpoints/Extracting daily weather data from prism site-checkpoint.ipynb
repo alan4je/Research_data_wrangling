{
 "cells": [
  {
   "cell_type": "code",
   "execution_count": 1,
   "metadata": {
    "collapsed": true
   },
   "outputs": [],
   "source": [
    "%matplotlib inline\n",
    "\n",
    "import pandas as pd, numpy as np\n",
    "import urllib\n",
    "import json\n",
    "\n",
    "import gdal\n",
    "from gdalconst import * \n",
    "import os, sys, time"
   ]
  },
  {
   "cell_type": "code",
   "execution_count": 4,
   "metadata": {
    "collapsed": true
   },
   "outputs": [],
   "source": [
    "# function that extracts weather data from prism website\n",
    "\n",
    "base_url = \"http://services.nacse.org/prism/data/public/4km/\"\n",
    "\n",
    "months   = {1:'01', 2: '02', 3:'03', 4:'04', 5:'05', 6:'06', 7:'07', 8:'08', 9: '09',\n",
    "               10:'10', 11:'11', 12:'12'}\n",
    "days     = {1: 31, 2: 28, 3:31, 4:30, 5:31, 6:30, 7:31, 8:31, 9: 30,\n",
    "               10:31, 11:30, 12:31}\n",
    "lydays   = {1: 31, 2: 29, 3:31, 4:30, 5:31, 6:30, 7:31, 8:31, 9: 30,\n",
    "               10:31, 11:30, 12:31}\n",
    "def leapYear(year):\n",
    "    if (year%400 == 0):\n",
    "        return True\n",
    "    elif (year%4 == 0) & (year%100 != 0):\n",
    "        return True\n",
    "    else:\n",
    "        return False\n",
    "    \n",
    "\n",
    "def getDailyWeatherZip(var):\n",
    "    for year in np.arange(12)+1988:\n",
    "        for m in np.arange(12)+1:\n",
    "            month = months[m]\n",
    "            if leapYear(year):\n",
    "                ndays = lydays[m]\n",
    "            else:\n",
    "                ndays = days[m]\n",
    "            for d in np.arange(ndays)+1:\n",
    "                if d < 10:\n",
    "                    day = '0' + str(d)\n",
    "                else:\n",
    "                    day = str(d)\n",
    "                date = str(year) + month + day\n",
    "                #creating the url\n",
    "                endpoint_url = base_url + var + '/' + date\n",
    "                #opening a connection\n",
    "                request = urllib.urlopen(endpoint_url)\n",
    "                #save\n",
    "                output = open(\"../ZipFiles/\"+ var +'/'+ date + \".zip\", \"w\")\n",
    "                output.write(request.read())\n",
    "                output.close()\n",
    "                time.sleep(2)"
   ]
  },
  {
   "cell_type": "code",
   "execution_count": null,
   "metadata": {
    "collapsed": false
   },
   "outputs": [],
   "source": [
    "getDailyWeatherZip('tmin')"
   ]
  },
  {
   "cell_type": "code",
   "execution_count": null,
   "metadata": {
    "collapsed": true
   },
   "outputs": [],
   "source": [
    "getDailyWeatherZip('tmax')\n",
    "getDailyWeatherZip('ppt')"
   ]
  },
  {
   "cell_type": "code",
   "execution_count": null,
   "metadata": {
    "collapsed": true
   },
   "outputs": [],
   "source": [
    "import zipfile\n",
    "\n",
    "def getDailyWeatherRaster(var):\n",
    "    for year in np.arange(12)+1988:\n",
    "        for m in np.arange(12)+1:\n",
    "            month = months[m]\n",
    "            if leapYear(year):\n",
    "                ndays = lydays[m]\n",
    "            else:\n",
    "                ndays = days[m]\n",
    "            for d in np.arange(ndays)+1:\n",
    "                if d < 10:\n",
    "                    day = '0' + str(d)\n",
    "                else:\n",
    "                    day = str(d)\n",
    "                date = str(year) + month + day\n",
    "                # unzipping a file\n",
    "                fh = open(\"../ZipFiles/\"+ var +'/'+ date + \".zip\", \"rb\")\n",
    "                z = zipfile.ZipFile(fh)\n",
    "                # saving only the .bil file\n",
    "                for name in z.namelist():\n",
    "                    if name.split('.')[-1] == 'bil':\n",
    "                        outpath = \"../RasterFiles/\" + var\n",
    "                        z.extract(name, outpath)\n",
    "                fh.close()"
   ]
  },
  {
   "cell_type": "code",
   "execution_count": null,
   "metadata": {
    "collapsed": true
   },
   "outputs": [],
   "source": [
    "getDailyWeatherRaster('tmin')\n",
    "getDailyWeatherRaster('tmax')\n",
    "getDailyWeatherRaster('ppt')"
   ]
  }
 ],
 "metadata": {
  "kernelspec": {
   "display_name": "Python 2",
   "language": "python",
   "name": "python2"
  },
  "language_info": {
   "codemirror_mode": {
    "name": "ipython",
    "version": 2
   },
   "file_extension": ".py",
   "mimetype": "text/x-python",
   "name": "python",
   "nbconvert_exporter": "python",
   "pygments_lexer": "ipython2",
   "version": "2.7.10"
  }
 },
 "nbformat": 4,
 "nbformat_minor": 0
}
