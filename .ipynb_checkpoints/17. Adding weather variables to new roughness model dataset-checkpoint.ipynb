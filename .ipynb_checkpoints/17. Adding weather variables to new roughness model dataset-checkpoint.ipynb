{
 "cells": [
  {
   "cell_type": "code",
   "execution_count": 1,
   "metadata": {
    "collapsed": true
   },
   "outputs": [],
   "source": [
    "import pandas as pd\n",
    "import numpy as np"
   ]
  },
  {
   "cell_type": "code",
   "execution_count": 2,
   "metadata": {
    "collapsed": false
   },
   "outputs": [
    {
     "ename": "IOError",
     "evalue": "File ../FinalDatasets/ppt.csv does not exist",
     "output_type": "error",
     "traceback": [
      "\u001b[0;31m---------------------------------------------------------------------------\u001b[0m",
      "\u001b[0;31mIOError\u001b[0m                                   Traceback (most recent call last)",
      "\u001b[0;32m<ipython-input-2-777e73cb4540>\u001b[0m in \u001b[0;36m<module>\u001b[0;34m()\u001b[0m\n\u001b[0;32m----> 1\u001b[0;31m \u001b[0mppt\u001b[0m \u001b[0;34m=\u001b[0m \u001b[0mpd\u001b[0m\u001b[0;34m.\u001b[0m\u001b[0mread_csv\u001b[0m\u001b[0;34m(\u001b[0m\u001b[0;34m'../FinalDatasets/ppt.csv'\u001b[0m\u001b[0;34m)\u001b[0m\u001b[0;34m\u001b[0m\u001b[0m\n\u001b[0m\u001b[1;32m      2\u001b[0m \u001b[0mmaxt\u001b[0m \u001b[0;34m=\u001b[0m \u001b[0mpd\u001b[0m\u001b[0;34m.\u001b[0m\u001b[0mread_csv\u001b[0m\u001b[0;34m(\u001b[0m\u001b[0;34m'../FinalDatasets/MaxT.csv'\u001b[0m\u001b[0;34m)\u001b[0m\u001b[0;34m\u001b[0m\u001b[0m\n\u001b[1;32m      3\u001b[0m \u001b[0mmint\u001b[0m \u001b[0;34m=\u001b[0m \u001b[0mpd\u001b[0m\u001b[0;34m.\u001b[0m\u001b[0mread_csv\u001b[0m\u001b[0;34m(\u001b[0m\u001b[0;34m'../FinalDatasets/MinT.csv'\u001b[0m\u001b[0;34m)\u001b[0m\u001b[0;34m\u001b[0m\u001b[0m\n\u001b[1;32m      4\u001b[0m \u001b[0mesals\u001b[0m \u001b[0;34m=\u001b[0m\u001b[0mpd\u001b[0m\u001b[0;34m.\u001b[0m\u001b[0mread_csv\u001b[0m\u001b[0;34m(\u001b[0m\u001b[0;34m'../FinalDatasets/ESALs.csv'\u001b[0m\u001b[0;34m)\u001b[0m\u001b[0;34m\u001b[0m\u001b[0m\n\u001b[1;32m      5\u001b[0m \u001b[0mrdat\u001b[0m \u001b[0;34m=\u001b[0m \u001b[0mpd\u001b[0m\u001b[0;34m.\u001b[0m\u001b[0mread_csv\u001b[0m\u001b[0;34m(\u001b[0m\u001b[0;34m'../modelDatasets/rmdata1988_1999.csv'\u001b[0m\u001b[0;34m)\u001b[0m\u001b[0;34m\u001b[0m\u001b[0m\n",
      "\u001b[0;32m/Users/Alan/Library/Enthought/Canopy_64bit/User/lib/python2.7/site-packages/pandas/io/parsers.pyc\u001b[0m in \u001b[0;36mparser_f\u001b[0;34m(filepath_or_buffer, sep, dialect, compression, doublequote, escapechar, quotechar, quoting, skipinitialspace, lineterminator, header, index_col, names, prefix, skiprows, skipfooter, skip_footer, na_values, na_fvalues, true_values, false_values, delimiter, converters, dtype, usecols, engine, delim_whitespace, as_recarray, na_filter, compact_ints, use_unsigned, low_memory, buffer_lines, warn_bad_lines, error_bad_lines, keep_default_na, thousands, comment, decimal, parse_dates, keep_date_col, dayfirst, date_parser, memory_map, float_precision, nrows, iterator, chunksize, verbose, encoding, squeeze, mangle_dupe_cols, tupleize_cols, infer_datetime_format, skip_blank_lines)\u001b[0m\n\u001b[1;32m    472\u001b[0m                     skip_blank_lines=skip_blank_lines)\n\u001b[1;32m    473\u001b[0m \u001b[0;34m\u001b[0m\u001b[0m\n\u001b[0;32m--> 474\u001b[0;31m         \u001b[0;32mreturn\u001b[0m \u001b[0m_read\u001b[0m\u001b[0;34m(\u001b[0m\u001b[0mfilepath_or_buffer\u001b[0m\u001b[0;34m,\u001b[0m \u001b[0mkwds\u001b[0m\u001b[0;34m)\u001b[0m\u001b[0;34m\u001b[0m\u001b[0m\n\u001b[0m\u001b[1;32m    475\u001b[0m \u001b[0;34m\u001b[0m\u001b[0m\n\u001b[1;32m    476\u001b[0m     \u001b[0mparser_f\u001b[0m\u001b[0;34m.\u001b[0m\u001b[0m__name__\u001b[0m \u001b[0;34m=\u001b[0m \u001b[0mname\u001b[0m\u001b[0;34m\u001b[0m\u001b[0m\n",
      "\u001b[0;32m/Users/Alan/Library/Enthought/Canopy_64bit/User/lib/python2.7/site-packages/pandas/io/parsers.pyc\u001b[0m in \u001b[0;36m_read\u001b[0;34m(filepath_or_buffer, kwds)\u001b[0m\n\u001b[1;32m    248\u001b[0m \u001b[0;34m\u001b[0m\u001b[0m\n\u001b[1;32m    249\u001b[0m     \u001b[0;31m# Create the parser.\u001b[0m\u001b[0;34m\u001b[0m\u001b[0;34m\u001b[0m\u001b[0m\n\u001b[0;32m--> 250\u001b[0;31m     \u001b[0mparser\u001b[0m \u001b[0;34m=\u001b[0m \u001b[0mTextFileReader\u001b[0m\u001b[0;34m(\u001b[0m\u001b[0mfilepath_or_buffer\u001b[0m\u001b[0;34m,\u001b[0m \u001b[0;34m**\u001b[0m\u001b[0mkwds\u001b[0m\u001b[0;34m)\u001b[0m\u001b[0;34m\u001b[0m\u001b[0m\n\u001b[0m\u001b[1;32m    251\u001b[0m \u001b[0;34m\u001b[0m\u001b[0m\n\u001b[1;32m    252\u001b[0m     \u001b[0;32mif\u001b[0m \u001b[0;34m(\u001b[0m\u001b[0mnrows\u001b[0m \u001b[0;32mis\u001b[0m \u001b[0;32mnot\u001b[0m \u001b[0mNone\u001b[0m\u001b[0;34m)\u001b[0m \u001b[0;32mand\u001b[0m \u001b[0;34m(\u001b[0m\u001b[0mchunksize\u001b[0m \u001b[0;32mis\u001b[0m \u001b[0;32mnot\u001b[0m \u001b[0mNone\u001b[0m\u001b[0;34m)\u001b[0m\u001b[0;34m:\u001b[0m\u001b[0;34m\u001b[0m\u001b[0m\n",
      "\u001b[0;32m/Users/Alan/Library/Enthought/Canopy_64bit/User/lib/python2.7/site-packages/pandas/io/parsers.pyc\u001b[0m in \u001b[0;36m__init__\u001b[0;34m(self, f, engine, **kwds)\u001b[0m\n\u001b[1;32m    564\u001b[0m             \u001b[0mself\u001b[0m\u001b[0;34m.\u001b[0m\u001b[0moptions\u001b[0m\u001b[0;34m[\u001b[0m\u001b[0;34m'has_index_names'\u001b[0m\u001b[0;34m]\u001b[0m \u001b[0;34m=\u001b[0m \u001b[0mkwds\u001b[0m\u001b[0;34m[\u001b[0m\u001b[0;34m'has_index_names'\u001b[0m\u001b[0;34m]\u001b[0m\u001b[0;34m\u001b[0m\u001b[0m\n\u001b[1;32m    565\u001b[0m \u001b[0;34m\u001b[0m\u001b[0m\n\u001b[0;32m--> 566\u001b[0;31m         \u001b[0mself\u001b[0m\u001b[0;34m.\u001b[0m\u001b[0m_make_engine\u001b[0m\u001b[0;34m(\u001b[0m\u001b[0mself\u001b[0m\u001b[0;34m.\u001b[0m\u001b[0mengine\u001b[0m\u001b[0;34m)\u001b[0m\u001b[0;34m\u001b[0m\u001b[0m\n\u001b[0m\u001b[1;32m    567\u001b[0m \u001b[0;34m\u001b[0m\u001b[0m\n\u001b[1;32m    568\u001b[0m     \u001b[0;32mdef\u001b[0m \u001b[0m_get_options_with_defaults\u001b[0m\u001b[0;34m(\u001b[0m\u001b[0mself\u001b[0m\u001b[0;34m,\u001b[0m \u001b[0mengine\u001b[0m\u001b[0;34m)\u001b[0m\u001b[0;34m:\u001b[0m\u001b[0;34m\u001b[0m\u001b[0m\n",
      "\u001b[0;32m/Users/Alan/Library/Enthought/Canopy_64bit/User/lib/python2.7/site-packages/pandas/io/parsers.pyc\u001b[0m in \u001b[0;36m_make_engine\u001b[0;34m(self, engine)\u001b[0m\n\u001b[1;32m    703\u001b[0m     \u001b[0;32mdef\u001b[0m \u001b[0m_make_engine\u001b[0m\u001b[0;34m(\u001b[0m\u001b[0mself\u001b[0m\u001b[0;34m,\u001b[0m \u001b[0mengine\u001b[0m\u001b[0;34m=\u001b[0m\u001b[0;34m'c'\u001b[0m\u001b[0;34m)\u001b[0m\u001b[0;34m:\u001b[0m\u001b[0;34m\u001b[0m\u001b[0m\n\u001b[1;32m    704\u001b[0m         \u001b[0;32mif\u001b[0m \u001b[0mengine\u001b[0m \u001b[0;34m==\u001b[0m \u001b[0;34m'c'\u001b[0m\u001b[0;34m:\u001b[0m\u001b[0;34m\u001b[0m\u001b[0m\n\u001b[0;32m--> 705\u001b[0;31m             \u001b[0mself\u001b[0m\u001b[0;34m.\u001b[0m\u001b[0m_engine\u001b[0m \u001b[0;34m=\u001b[0m \u001b[0mCParserWrapper\u001b[0m\u001b[0;34m(\u001b[0m\u001b[0mself\u001b[0m\u001b[0;34m.\u001b[0m\u001b[0mf\u001b[0m\u001b[0;34m,\u001b[0m \u001b[0;34m**\u001b[0m\u001b[0mself\u001b[0m\u001b[0;34m.\u001b[0m\u001b[0moptions\u001b[0m\u001b[0;34m)\u001b[0m\u001b[0;34m\u001b[0m\u001b[0m\n\u001b[0m\u001b[1;32m    706\u001b[0m         \u001b[0;32melse\u001b[0m\u001b[0;34m:\u001b[0m\u001b[0;34m\u001b[0m\u001b[0m\n\u001b[1;32m    707\u001b[0m             \u001b[0;32mif\u001b[0m \u001b[0mengine\u001b[0m \u001b[0;34m==\u001b[0m \u001b[0;34m'python'\u001b[0m\u001b[0;34m:\u001b[0m\u001b[0;34m\u001b[0m\u001b[0m\n",
      "\u001b[0;32m/Users/Alan/Library/Enthought/Canopy_64bit/User/lib/python2.7/site-packages/pandas/io/parsers.pyc\u001b[0m in \u001b[0;36m__init__\u001b[0;34m(self, src, **kwds)\u001b[0m\n\u001b[1;32m   1070\u001b[0m         \u001b[0mkwds\u001b[0m\u001b[0;34m[\u001b[0m\u001b[0;34m'allow_leading_cols'\u001b[0m\u001b[0;34m]\u001b[0m \u001b[0;34m=\u001b[0m \u001b[0mself\u001b[0m\u001b[0;34m.\u001b[0m\u001b[0mindex_col\u001b[0m \u001b[0;32mis\u001b[0m \u001b[0;32mnot\u001b[0m \u001b[0mFalse\u001b[0m\u001b[0;34m\u001b[0m\u001b[0m\n\u001b[1;32m   1071\u001b[0m \u001b[0;34m\u001b[0m\u001b[0m\n\u001b[0;32m-> 1072\u001b[0;31m         \u001b[0mself\u001b[0m\u001b[0;34m.\u001b[0m\u001b[0m_reader\u001b[0m \u001b[0;34m=\u001b[0m \u001b[0m_parser\u001b[0m\u001b[0;34m.\u001b[0m\u001b[0mTextReader\u001b[0m\u001b[0;34m(\u001b[0m\u001b[0msrc\u001b[0m\u001b[0;34m,\u001b[0m \u001b[0;34m**\u001b[0m\u001b[0mkwds\u001b[0m\u001b[0;34m)\u001b[0m\u001b[0;34m\u001b[0m\u001b[0m\n\u001b[0m\u001b[1;32m   1073\u001b[0m \u001b[0;34m\u001b[0m\u001b[0m\n\u001b[1;32m   1074\u001b[0m         \u001b[0;31m# XXX\u001b[0m\u001b[0;34m\u001b[0m\u001b[0;34m\u001b[0m\u001b[0m\n",
      "\u001b[0;32mpandas/parser.pyx\u001b[0m in \u001b[0;36mpandas.parser.TextReader.__cinit__ (pandas/parser.c:3173)\u001b[0;34m()\u001b[0m\n",
      "\u001b[0;32mpandas/parser.pyx\u001b[0m in \u001b[0;36mpandas.parser.TextReader._setup_parser_source (pandas/parser.c:5912)\u001b[0;34m()\u001b[0m\n",
      "\u001b[0;31mIOError\u001b[0m: File ../FinalDatasets/ppt.csv does not exist"
     ]
    }
   ],
   "source": [
    "ppt = pd.read_csv('../FinalDatasets/ppt.csv')\n",
    "maxt = pd.read_csv('../FinalDatasets/MaxT.csv')\n",
    "mint = pd.read_csv('../FinalDatasets/MinT.csv')\n",
    "esals =pd.read_csv('../FinalDatasets/ESALs.csv')\n",
    "rdat = pd.read_csv('../modelDatasets/rmdata1988_1999.csv')"
   ]
  },
  {
   "cell_type": "code",
   "execution_count": 3,
   "metadata": {
    "collapsed": true
   },
   "outputs": [],
   "source": [
    "#Rehabilitation years\n",
    "Ryrs = rdat[['UID', 'Major Rehab Year', 'Prior Major Rehab Year']]\n",
    "Ryrs.columns = ['UID', 'MRYear', 'PMRYear']\n",
    "Ryrs = Ryrs.drop_duplicates(subset = 'UID')\n",
    "Ryrs.index = Ryrs.UID"
   ]
  },
  {
   "cell_type": "code",
   "execution_count": 4,
   "metadata": {
    "collapsed": true
   },
   "outputs": [],
   "source": [
    "import math\n",
    "def removeNan(row):\n",
    "    val = row['PMRYear']\n",
    "    if math.isnan(val):\n",
    "        return 1900\n",
    "    return val"
   ]
  },
  {
   "cell_type": "code",
   "execution_count": 5,
   "metadata": {
    "collapsed": false
   },
   "outputs": [],
   "source": [
    "Ryrs.loc[:, 'PriorRehab'] = Ryrs.apply(removeNan, axis = 1)"
   ]
  },
  {
   "cell_type": "code",
   "execution_count": 6,
   "metadata": {
    "collapsed": false
   },
   "outputs": [
    {
     "data": {
      "text/html": [
       "<div>\n",
       "<table border=\"1\" class=\"dataframe\">\n",
       "  <thead>\n",
       "    <tr style=\"text-align: right;\">\n",
       "      <th></th>\n",
       "      <th>UID</th>\n",
       "      <th>MRYear</th>\n",
       "      <th>PMRYear</th>\n",
       "      <th>PriorRehab</th>\n",
       "    </tr>\n",
       "    <tr>\n",
       "      <th>UID</th>\n",
       "      <th></th>\n",
       "      <th></th>\n",
       "      <th></th>\n",
       "      <th></th>\n",
       "    </tr>\n",
       "  </thead>\n",
       "  <tbody>\n",
       "    <tr>\n",
       "      <th>399</th>\n",
       "      <td>399</td>\n",
       "      <td>2003</td>\n",
       "      <td>NaN</td>\n",
       "      <td>1900</td>\n",
       "    </tr>\n",
       "    <tr>\n",
       "      <th>443</th>\n",
       "      <td>443</td>\n",
       "      <td>2008</td>\n",
       "      <td>NaN</td>\n",
       "      <td>1900</td>\n",
       "    </tr>\n",
       "    <tr>\n",
       "      <th>1047</th>\n",
       "      <td>1047</td>\n",
       "      <td>2008</td>\n",
       "      <td>NaN</td>\n",
       "      <td>1900</td>\n",
       "    </tr>\n",
       "    <tr>\n",
       "      <th>401</th>\n",
       "      <td>401</td>\n",
       "      <td>2003</td>\n",
       "      <td>NaN</td>\n",
       "      <td>1900</td>\n",
       "    </tr>\n",
       "    <tr>\n",
       "      <th>1</th>\n",
       "      <td>1</td>\n",
       "      <td>1994</td>\n",
       "      <td>NaN</td>\n",
       "      <td>1900</td>\n",
       "    </tr>\n",
       "  </tbody>\n",
       "</table>\n",
       "</div>"
      ],
      "text/plain": [
       "       UID  MRYear  PMRYear  PriorRehab\n",
       "UID                                    \n",
       "399    399    2003      NaN        1900\n",
       "443    443    2008      NaN        1900\n",
       "1047  1047    2008      NaN        1900\n",
       "401    401    2003      NaN        1900\n",
       "1        1    1994      NaN        1900"
      ]
     },
     "execution_count": 6,
     "metadata": {},
     "output_type": "execute_result"
    }
   ],
   "source": [
    "Ryrs[Ryrs.PriorRehab==1900].head()"
   ]
  },
  {
   "cell_type": "code",
   "execution_count": 7,
   "metadata": {
    "collapsed": false
   },
   "outputs": [
    {
     "name": "stdout",
     "output_type": "stream",
     "text": [
      "316305\n"
     ]
    }
   ],
   "source": [
    "print len(np.unique(np.array(esals.ID)))*33"
   ]
  },
  {
   "cell_type": "code",
   "execution_count": 8,
   "metadata": {
    "collapsed": true
   },
   "outputs": [],
   "source": [
    "selected_ids = np.unique(np.array(ppt.ID))\n",
    "esals = esals[esals.ID.isin(selected_ids)]"
   ]
  },
  {
   "cell_type": "code",
   "execution_count": 9,
   "metadata": {
    "collapsed": false
   },
   "outputs": [],
   "source": [
    "esals = esals.drop_duplicates(subset = ['ID'])\n",
    "ppt  = ppt.drop_duplicates(subset = ['ID'])\n",
    "mint = mint.drop_duplicates(subset = ['ID'])\n",
    "maxt = maxt.drop_duplicates(subset = ['ID'])"
   ]
  },
  {
   "cell_type": "code",
   "execution_count": 10,
   "metadata": {
    "collapsed": false
   },
   "outputs": [
    {
     "name": "stdout",
     "output_type": "stream",
     "text": [
      "8938\n",
      "8938\n",
      "8938\n",
      "8938\n",
      "8938\n"
     ]
    }
   ],
   "source": [
    "print len(esals)\n",
    "print len(ppt)\n",
    "print len(mint)\n",
    "print len(maxt)\n",
    "print len(Ryrs)"
   ]
  },
  {
   "cell_type": "code",
   "execution_count": 11,
   "metadata": {
    "collapsed": true
   },
   "outputs": [],
   "source": [
    "def addPrevRehabYear(row):\n",
    "    ix = row['ID'] #index\n",
    "    return Ryrs.loc[ix, 'PriorRehab']\n",
    "\n",
    "def addRehabYear(row):\n",
    "    ix = row['ID'] #index\n",
    "    return Ryrs.loc[ix, 'MRYear']"
   ]
  },
  {
   "cell_type": "code",
   "execution_count": 12,
   "metadata": {
    "collapsed": true
   },
   "outputs": [],
   "source": [
    "def addRehabYears(df):\n",
    "    df.loc[:, 'PriorMRyr'] = df.apply(addPrevRehabYear, axis =1)\n",
    "    df.loc[:, 'MajorRyr'] = df.apply(addRehabYear, axis =1)"
   ]
  },
  {
   "cell_type": "code",
   "execution_count": 13,
   "metadata": {
    "collapsed": false
   },
   "outputs": [],
   "source": [
    "addRehabYears(esals)\n",
    "addRehabYears(ppt)\n",
    "addRehabYears(mint)\n",
    "addRehabYears(maxt)"
   ]
  },
  {
   "cell_type": "code",
   "execution_count": 14,
   "metadata": {
    "collapsed": false
   },
   "outputs": [
    {
     "data": {
      "text/html": [
       "<div>\n",
       "<table border=\"1\" class=\"dataframe\">\n",
       "  <thead>\n",
       "    <tr style=\"text-align: right;\">\n",
       "      <th></th>\n",
       "      <th>Unnamed: 0</th>\n",
       "      <th>ID</th>\n",
       "      <th>Year</th>\n",
       "      <th>1981</th>\n",
       "      <th>1982</th>\n",
       "      <th>1983</th>\n",
       "      <th>1984</th>\n",
       "      <th>1985</th>\n",
       "      <th>1986</th>\n",
       "      <th>1987</th>\n",
       "      <th>...</th>\n",
       "      <th>2006</th>\n",
       "      <th>2007</th>\n",
       "      <th>2008</th>\n",
       "      <th>2009</th>\n",
       "      <th>2010</th>\n",
       "      <th>2011</th>\n",
       "      <th>2012</th>\n",
       "      <th>2013</th>\n",
       "      <th>PriorMRyr</th>\n",
       "      <th>MajorRyr</th>\n",
       "    </tr>\n",
       "  </thead>\n",
       "  <tbody>\n",
       "    <tr>\n",
       "      <th>0</th>\n",
       "      <td>0</td>\n",
       "      <td>1</td>\n",
       "      <td>1981</td>\n",
       "      <td>12895.622638</td>\n",
       "      <td>13058.226161</td>\n",
       "      <td>13828.983957</td>\n",
       "      <td>14994.900067</td>\n",
       "      <td>15576.625091</td>\n",
       "      <td>16534.948341</td>\n",
       "      <td>17254.391382</td>\n",
       "      <td>...</td>\n",
       "      <td>28771.148850</td>\n",
       "      <td>28826.453915</td>\n",
       "      <td>27905.473334</td>\n",
       "      <td>28384.511776</td>\n",
       "      <td>28596.103563</td>\n",
       "      <td>28398.052581</td>\n",
       "      <td>28200.120262</td>\n",
       "      <td>30058</td>\n",
       "      <td>1900</td>\n",
       "      <td>1994</td>\n",
       "    </tr>\n",
       "    <tr>\n",
       "      <th>33</th>\n",
       "      <td>33</td>\n",
       "      <td>24</td>\n",
       "      <td>1981</td>\n",
       "      <td>74655.435707</td>\n",
       "      <td>75596.781245</td>\n",
       "      <td>80058.858085</td>\n",
       "      <td>86808.588411</td>\n",
       "      <td>90176.315303</td>\n",
       "      <td>95724.247479</td>\n",
       "      <td>99889.252548</td>\n",
       "      <td>...</td>\n",
       "      <td>166562.151628</td>\n",
       "      <td>166882.324128</td>\n",
       "      <td>161550.576411</td>\n",
       "      <td>164323.829367</td>\n",
       "      <td>165548.778134</td>\n",
       "      <td>164402.219899</td>\n",
       "      <td>163256.348627</td>\n",
       "      <td>174012</td>\n",
       "      <td>1975</td>\n",
       "      <td>2002</td>\n",
       "    </tr>\n",
       "    <tr>\n",
       "      <th>66</th>\n",
       "      <td>66</td>\n",
       "      <td>27</td>\n",
       "      <td>1981</td>\n",
       "      <td>45866.166245</td>\n",
       "      <td>46444.502042</td>\n",
       "      <td>49185.874538</td>\n",
       "      <td>53332.715961</td>\n",
       "      <td>55401.751123</td>\n",
       "      <td>58810.242107</td>\n",
       "      <td>61369.102197</td>\n",
       "      <td>...</td>\n",
       "      <td>102331.026057</td>\n",
       "      <td>102527.730891</td>\n",
       "      <td>99252.057462</td>\n",
       "      <td>100955.864825</td>\n",
       "      <td>101708.438342</td>\n",
       "      <td>101004.025728</td>\n",
       "      <td>100300.035164</td>\n",
       "      <td>106908</td>\n",
       "      <td>1994</td>\n",
       "      <td>2002</td>\n",
       "    </tr>\n",
       "    <tr>\n",
       "      <th>99</th>\n",
       "      <td>99</td>\n",
       "      <td>28</td>\n",
       "      <td>1981</td>\n",
       "      <td>45866.166245</td>\n",
       "      <td>46444.502042</td>\n",
       "      <td>49185.874538</td>\n",
       "      <td>53332.715961</td>\n",
       "      <td>55401.751123</td>\n",
       "      <td>58810.242107</td>\n",
       "      <td>61369.102197</td>\n",
       "      <td>...</td>\n",
       "      <td>102331.026057</td>\n",
       "      <td>102527.730891</td>\n",
       "      <td>99252.057462</td>\n",
       "      <td>100955.864825</td>\n",
       "      <td>101708.438342</td>\n",
       "      <td>101004.025728</td>\n",
       "      <td>100300.035164</td>\n",
       "      <td>106908</td>\n",
       "      <td>1994</td>\n",
       "      <td>2002</td>\n",
       "    </tr>\n",
       "    <tr>\n",
       "      <th>132</th>\n",
       "      <td>132</td>\n",
       "      <td>32</td>\n",
       "      <td>1981</td>\n",
       "      <td>49971.074003</td>\n",
       "      <td>50601.169416</td>\n",
       "      <td>53587.887929</td>\n",
       "      <td>58105.861341</td>\n",
       "      <td>60360.070002</td>\n",
       "      <td>64073.612448</td>\n",
       "      <td>66861.484150</td>\n",
       "      <td>...</td>\n",
       "      <td>111489.398277</td>\n",
       "      <td>111703.707705</td>\n",
       "      <td>108134.869653</td>\n",
       "      <td>109991.163537</td>\n",
       "      <td>110811.090510</td>\n",
       "      <td>110043.634720</td>\n",
       "      <td>109276.638753</td>\n",
       "      <td>116476</td>\n",
       "      <td>1988</td>\n",
       "      <td>2002</td>\n",
       "    </tr>\n",
       "  </tbody>\n",
       "</table>\n",
       "<p>5 rows × 38 columns</p>\n",
       "</div>"
      ],
      "text/plain": [
       "     Unnamed: 0  ID  Year          1981          1982          1983  \\\n",
       "0             0   1  1981  12895.622638  13058.226161  13828.983957   \n",
       "33           33  24  1981  74655.435707  75596.781245  80058.858085   \n",
       "66           66  27  1981  45866.166245  46444.502042  49185.874538   \n",
       "99           99  28  1981  45866.166245  46444.502042  49185.874538   \n",
       "132         132  32  1981  49971.074003  50601.169416  53587.887929   \n",
       "\n",
       "             1984          1985          1986          1987    ...     \\\n",
       "0    14994.900067  15576.625091  16534.948341  17254.391382    ...      \n",
       "33   86808.588411  90176.315303  95724.247479  99889.252548    ...      \n",
       "66   53332.715961  55401.751123  58810.242107  61369.102197    ...      \n",
       "99   53332.715961  55401.751123  58810.242107  61369.102197    ...      \n",
       "132  58105.861341  60360.070002  64073.612448  66861.484150    ...      \n",
       "\n",
       "              2006           2007           2008           2009  \\\n",
       "0     28771.148850   28826.453915   27905.473334   28384.511776   \n",
       "33   166562.151628  166882.324128  161550.576411  164323.829367   \n",
       "66   102331.026057  102527.730891   99252.057462  100955.864825   \n",
       "99   102331.026057  102527.730891   99252.057462  100955.864825   \n",
       "132  111489.398277  111703.707705  108134.869653  109991.163537   \n",
       "\n",
       "              2010           2011           2012    2013  PriorMRyr  MajorRyr  \n",
       "0     28596.103563   28398.052581   28200.120262   30058       1900      1994  \n",
       "33   165548.778134  164402.219899  163256.348627  174012       1975      2002  \n",
       "66   101708.438342  101004.025728  100300.035164  106908       1994      2002  \n",
       "99   101708.438342  101004.025728  100300.035164  106908       1994      2002  \n",
       "132  110811.090510  110043.634720  109276.638753  116476       1988      2002  \n",
       "\n",
       "[5 rows x 38 columns]"
      ]
     },
     "execution_count": 14,
     "metadata": {},
     "output_type": "execute_result"
    }
   ],
   "source": [
    "esals.head()"
   ]
  },
  {
   "cell_type": "code",
   "execution_count": 15,
   "metadata": {
    "collapsed": true
   },
   "outputs": [],
   "source": [
    "def cumVal(row):\n",
    "    ix = row['ID']\n",
    "    syear = row['Year']\n",
    "    l = np.array(row[['1981', '1982', '1983', '1984', '1985', '1986', '1987', '1988', '1989', '1990', \n",
    "                      '1991', '1992', '1993', '1994', '1995', '1996', '1997', '1998', '1999', '2000',\n",
    "                     '2001', '2002', '2003', '2004', '2005', '2006', '2007', '2008', '2009', '2010', \n",
    "                     '2011', '2012', '2013']])\n",
    "    pmr = int(row['PriorMRyr'])\n",
    "    if pmr > 1981:\n",
    "        p1 = pmr - 1981\n",
    "    else:\n",
    "        p1 =0\n",
    "    mr  = int(row['MajorRyr'])\n",
    "    if (mr > 1981) & (mr < 2014):\n",
    "        p2 = mr - 1981\n",
    "    else:\n",
    "        p2 =0\n",
    "        \n",
    "    if (p1 ==0) & (p2==0):\n",
    "        res = list(np.cumsum(l))\n",
    "        \n",
    "    elif p1 == 0:\n",
    "        l1 = list(np.cumsum(l[0:p2]))\n",
    "        l2 = list(np.cumsum(l[p2:]))\n",
    "        res = l1 + l2\n",
    "    else:\n",
    "        l1 = list(np.cumsum(l[0:p1]))\n",
    "        l2 = list(np.cumsum(l[p1:p2]))\n",
    "        l3 = list(np.cumsum(l[p2:]))\n",
    "        res = l1 + l2 + l3\n",
    "        \n",
    "    return ix, syear, res"
   ]
  },
  {
   "cell_type": "code",
   "execution_count": 16,
   "metadata": {
    "collapsed": true
   },
   "outputs": [],
   "source": [
    "distributeResultToColumns = lambda x: pd.Series(([i for i in x[:2]] + [j for j in x[2:][0]]))\n",
    "colNames = esals.columns[1:-2]\n",
    "def getCumVarDataset(df):\n",
    "    rdf = df.apply(cumVal, axis = 1)\n",
    "    rdf = pd.DataFrame(rdf)\n",
    "    rdf.columns = ['Results']\n",
    "    newdf = rdf['Results'].apply(distributeResultToColumns)\n",
    "    output = newdf[range(35)]\n",
    "    output.columns = colNames\n",
    "    return output"
   ]
  },
  {
   "cell_type": "code",
   "execution_count": 20,
   "metadata": {
    "collapsed": true
   },
   "outputs": [],
   "source": [
    "def cmean(row): #function determines the cumulative variables in a row\n",
    "    ix = row['ID']\n",
    "    syear = row['Year']\n",
    "    l = np.array(row[['1981', '1982', '1983', '1984', '1985', '1986', '1987', '1988', '1989', '1990', \n",
    "                      '1991', '1992', '1993', '1994', '1995', '1996', '1997', '1998', '1999', '2000',\n",
    "                     '2001', '2002', '2003', '2004', '2005', '2006', '2007', '2008', '2009', '2010', \n",
    "                     '2011', '2012', '2013']])\n",
    "    pmr = int(row['PriorMRyr'])\n",
    "    if pmr > 1981:\n",
    "        p1 = pmr - 1981\n",
    "    else:\n",
    "        p1 =0\n",
    "    mr  = int(row['MajorRyr'])\n",
    "    if (mr > 1981) & (mr < 2014):\n",
    "        p2 = mr - 1981\n",
    "    else:\n",
    "        p2 =0\n",
    "        \n",
    "    if (p1 ==0) & (p2==0):\n",
    "        r = np.cumsum(l)\n",
    "        d = np.arange(len(r))+1\n",
    "        res = list(r/d)\n",
    "        \n",
    "    elif p1 == 0:\n",
    "        l1 = np.cumsum(l[0:p2])\n",
    "        d1 = np.arange(len(l1))+1\n",
    "        l2 = np.cumsum(l[p2:])\n",
    "        d2 = np.arange(len(l2))+1\n",
    "        meanl1 = l1/d1\n",
    "        meanl2 = l2/d2\n",
    "        res = list(meanl1) + list(meanl2)\n",
    "    else:\n",
    "        l1 = np.cumsum(l[0:p1])\n",
    "        d1 = np.arange(len(l1))+1\n",
    "        l2 = np.cumsum(l[p1:p2])\n",
    "        d2 = np.arange(len(l2))+1\n",
    "        l3 = np.cumsum(l[p2:])\n",
    "        d3 = np.arange(len(l3))+1\n",
    "        meanl1 = l1/d1\n",
    "        meanl2 = l2/d2\n",
    "        meanl3 = l3/d3\n",
    "        res = list(meanl1) + list(meanl2) + list(meanl3)\n",
    "        \n",
    "    return ix, syear, res"
   ]
  },
  {
   "cell_type": "code",
   "execution_count": 18,
   "metadata": {
    "collapsed": true
   },
   "outputs": [],
   "source": [
    "distributeResultToColumns = lambda x: pd.Series(([i for i in x[:2]] + [j for j in x[2:][0]]))\n",
    "colNames = esals.columns[1:-2]\n",
    "def cmeanVarDataset(df):\n",
    "    rdf = df.apply(cmean, axis = 1)\n",
    "    rdf = pd.DataFrame(rdf)\n",
    "    rdf.columns = ['Results']\n",
    "    newdf = rdf['Results'].apply(distributeResultToColumns)\n",
    "    output = newdf[range(35)]\n",
    "    output.columns = colNames\n",
    "    return output"
   ]
  },
  {
   "cell_type": "code",
   "execution_count": 21,
   "metadata": {
    "collapsed": false
   },
   "outputs": [],
   "source": [
    "cumPpt   = getCumVarDataset(ppt)\n",
    "cumEsals = getCumVarDataset(esals)\n",
    "meanMaxT = cmeanVarDataset(maxt)\n",
    "meanMinT = cmeanVarDataset(mint)"
   ]
  },
  {
   "cell_type": "code",
   "execution_count": 22,
   "metadata": {
    "collapsed": false
   },
   "outputs": [
    {
     "data": {
      "text/html": [
       "<div>\n",
       "<table border=\"1\" class=\"dataframe\">\n",
       "  <thead>\n",
       "    <tr style=\"text-align: right;\">\n",
       "      <th></th>\n",
       "      <th>ID</th>\n",
       "      <th>Year</th>\n",
       "      <th>1981</th>\n",
       "      <th>1982</th>\n",
       "      <th>1983</th>\n",
       "      <th>1984</th>\n",
       "      <th>1985</th>\n",
       "      <th>1986</th>\n",
       "      <th>1987</th>\n",
       "      <th>1988</th>\n",
       "      <th>...</th>\n",
       "      <th>2004</th>\n",
       "      <th>2005</th>\n",
       "      <th>2006</th>\n",
       "      <th>2007</th>\n",
       "      <th>2008</th>\n",
       "      <th>2009</th>\n",
       "      <th>2010</th>\n",
       "      <th>2011</th>\n",
       "      <th>2012</th>\n",
       "      <th>2013</th>\n",
       "    </tr>\n",
       "  </thead>\n",
       "  <tbody>\n",
       "    <tr>\n",
       "      <th>0</th>\n",
       "      <td>1</td>\n",
       "      <td>1981</td>\n",
       "      <td>2.26</td>\n",
       "      <td>1.460</td>\n",
       "      <td>0.216667</td>\n",
       "      <td>0.0075</td>\n",
       "      <td>-0.182</td>\n",
       "      <td>0.105</td>\n",
       "      <td>0.167143</td>\n",
       "      <td>0.25625</td>\n",
       "      <td>...</td>\n",
       "      <td>1.078182</td>\n",
       "      <td>0.994167</td>\n",
       "      <td>0.938462</td>\n",
       "      <td>0.856429</td>\n",
       "      <td>0.768000</td>\n",
       "      <td>0.60875</td>\n",
       "      <td>0.741176</td>\n",
       "      <td>0.70</td>\n",
       "      <td>0.695263</td>\n",
       "      <td>0.626000</td>\n",
       "    </tr>\n",
       "    <tr>\n",
       "      <th>33</th>\n",
       "      <td>24</td>\n",
       "      <td>1981</td>\n",
       "      <td>1.96</td>\n",
       "      <td>1.235</td>\n",
       "      <td>0.013333</td>\n",
       "      <td>-0.2200</td>\n",
       "      <td>-0.440</td>\n",
       "      <td>-0.150</td>\n",
       "      <td>-0.081429</td>\n",
       "      <td>0.01375</td>\n",
       "      <td>...</td>\n",
       "      <td>1.333333</td>\n",
       "      <td>0.942500</td>\n",
       "      <td>0.782000</td>\n",
       "      <td>0.581667</td>\n",
       "      <td>0.398571</td>\n",
       "      <td>0.09250</td>\n",
       "      <td>0.371111</td>\n",
       "      <td>0.31</td>\n",
       "      <td>0.320000</td>\n",
       "      <td>0.216667</td>\n",
       "    </tr>\n",
       "    <tr>\n",
       "      <th>66</th>\n",
       "      <td>27</td>\n",
       "      <td>1981</td>\n",
       "      <td>1.96</td>\n",
       "      <td>1.235</td>\n",
       "      <td>0.013333</td>\n",
       "      <td>-0.2200</td>\n",
       "      <td>-0.440</td>\n",
       "      <td>-0.150</td>\n",
       "      <td>-0.081429</td>\n",
       "      <td>0.01375</td>\n",
       "      <td>...</td>\n",
       "      <td>1.333333</td>\n",
       "      <td>0.942500</td>\n",
       "      <td>0.782000</td>\n",
       "      <td>0.581667</td>\n",
       "      <td>0.398571</td>\n",
       "      <td>0.09250</td>\n",
       "      <td>0.371111</td>\n",
       "      <td>0.31</td>\n",
       "      <td>0.320000</td>\n",
       "      <td>0.216667</td>\n",
       "    </tr>\n",
       "    <tr>\n",
       "      <th>99</th>\n",
       "      <td>28</td>\n",
       "      <td>1981</td>\n",
       "      <td>1.96</td>\n",
       "      <td>1.235</td>\n",
       "      <td>0.013333</td>\n",
       "      <td>-0.2200</td>\n",
       "      <td>-0.440</td>\n",
       "      <td>-0.150</td>\n",
       "      <td>-0.081429</td>\n",
       "      <td>0.01375</td>\n",
       "      <td>...</td>\n",
       "      <td>1.333333</td>\n",
       "      <td>0.942500</td>\n",
       "      <td>0.782000</td>\n",
       "      <td>0.581667</td>\n",
       "      <td>0.398571</td>\n",
       "      <td>0.09250</td>\n",
       "      <td>0.371111</td>\n",
       "      <td>0.31</td>\n",
       "      <td>0.320000</td>\n",
       "      <td>0.216667</td>\n",
       "    </tr>\n",
       "    <tr>\n",
       "      <th>132</th>\n",
       "      <td>32</td>\n",
       "      <td>1981</td>\n",
       "      <td>1.96</td>\n",
       "      <td>1.235</td>\n",
       "      <td>0.013333</td>\n",
       "      <td>-0.2200</td>\n",
       "      <td>-0.440</td>\n",
       "      <td>-0.150</td>\n",
       "      <td>-0.081429</td>\n",
       "      <td>0.68000</td>\n",
       "      <td>...</td>\n",
       "      <td>1.333333</td>\n",
       "      <td>0.942500</td>\n",
       "      <td>0.782000</td>\n",
       "      <td>0.581667</td>\n",
       "      <td>0.398571</td>\n",
       "      <td>0.09250</td>\n",
       "      <td>0.371111</td>\n",
       "      <td>0.31</td>\n",
       "      <td>0.320000</td>\n",
       "      <td>0.216667</td>\n",
       "    </tr>\n",
       "  </tbody>\n",
       "</table>\n",
       "<p>5 rows × 35 columns</p>\n",
       "</div>"
      ],
      "text/plain": [
       "     ID  Year  1981   1982      1983    1984   1985   1986      1987     1988  \\\n",
       "0     1  1981  2.26  1.460  0.216667  0.0075 -0.182  0.105  0.167143  0.25625   \n",
       "33   24  1981  1.96  1.235  0.013333 -0.2200 -0.440 -0.150 -0.081429  0.01375   \n",
       "66   27  1981  1.96  1.235  0.013333 -0.2200 -0.440 -0.150 -0.081429  0.01375   \n",
       "99   28  1981  1.96  1.235  0.013333 -0.2200 -0.440 -0.150 -0.081429  0.01375   \n",
       "132  32  1981  1.96  1.235  0.013333 -0.2200 -0.440 -0.150 -0.081429  0.68000   \n",
       "\n",
       "       ...         2004      2005      2006      2007      2008     2009  \\\n",
       "0      ...     1.078182  0.994167  0.938462  0.856429  0.768000  0.60875   \n",
       "33     ...     1.333333  0.942500  0.782000  0.581667  0.398571  0.09250   \n",
       "66     ...     1.333333  0.942500  0.782000  0.581667  0.398571  0.09250   \n",
       "99     ...     1.333333  0.942500  0.782000  0.581667  0.398571  0.09250   \n",
       "132    ...     1.333333  0.942500  0.782000  0.581667  0.398571  0.09250   \n",
       "\n",
       "         2010  2011      2012      2013  \n",
       "0    0.741176  0.70  0.695263  0.626000  \n",
       "33   0.371111  0.31  0.320000  0.216667  \n",
       "66   0.371111  0.31  0.320000  0.216667  \n",
       "99   0.371111  0.31  0.320000  0.216667  \n",
       "132  0.371111  0.31  0.320000  0.216667  \n",
       "\n",
       "[5 rows x 35 columns]"
      ]
     },
     "execution_count": 22,
     "metadata": {},
     "output_type": "execute_result"
    }
   ],
   "source": [
    "meanMinT.head()"
   ]
  },
  {
   "cell_type": "code",
   "execution_count": 24,
   "metadata": {
    "collapsed": false
   },
   "outputs": [],
   "source": [
    "cumPpt.to_csv('../FinalDatasets/cumPPT.csv')\n",
    "cumEsals.to_csv('../FinalDatasets/cumEsals.csv')\n",
    "meanMaxT.to_csv('../FinalDatasets/meanMaxT.csv')\n",
    "meanMinT.to_csv('../FinalDatasets/meanMinT.csv')"
   ]
  }
 ],
 "metadata": {
  "kernelspec": {
   "display_name": "Python 2",
   "language": "python",
   "name": "python2"
  },
  "language_info": {
   "codemirror_mode": {
    "name": "ipython",
    "version": 2
   },
   "file_extension": ".py",
   "mimetype": "text/x-python",
   "name": "python",
   "nbconvert_exporter": "python",
   "pygments_lexer": "ipython2",
   "version": "2.7.9"
  }
 },
 "nbformat": 4,
 "nbformat_minor": 0
}
