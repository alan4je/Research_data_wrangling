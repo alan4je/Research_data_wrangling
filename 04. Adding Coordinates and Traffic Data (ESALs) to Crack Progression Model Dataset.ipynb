{
 "cells": [
  {
   "cell_type": "code",
   "execution_count": 1,
   "metadata": {
    "collapsed": false
   },
   "outputs": [],
   "source": [
    "import pandas as pd\n",
    "import numpy as np"
   ]
  },
  {
   "cell_type": "code",
   "execution_count": 2,
   "metadata": {
    "collapsed": false
   },
   "outputs": [],
   "source": [
    "ds = pd.read_csv(\"../FinalDatasets/CPMdataset.csv\")"
   ]
  },
  {
   "cell_type": "code",
   "execution_count": 3,
   "metadata": {
    "collapsed": true
   },
   "outputs": [],
   "source": [
    "wd = pd.read_excel('../DataFiles/AnnualWeatherR2.xlsx')\n",
    "wds = pd.read_excel('../DataFiles/AnnualWeatherR.xlsx')\n",
    "wds = wds[['Year', 'FTCycles', 'Airport']]\n",
    "wd = pd.concat([wds, wd], axis = 0)"
   ]
  },
  {
   "cell_type": "code",
   "execution_count": 4,
   "metadata": {
    "collapsed": false
   },
   "outputs": [
    {
     "data": {
      "text/html": [
       "<div>\n",
       "<table border=\"1\" class=\"dataframe\">\n",
       "  <thead>\n",
       "    <tr style=\"text-align: right;\">\n",
       "      <th></th>\n",
       "      <th>Year</th>\n",
       "      <th>FTCycles</th>\n",
       "      <th>Airport</th>\n",
       "    </tr>\n",
       "  </thead>\n",
       "  <tbody>\n",
       "    <tr>\n",
       "      <th>0</th>\n",
       "      <td>1986</td>\n",
       "      <td>4</td>\n",
       "      <td>KBFI</td>\n",
       "    </tr>\n",
       "    <tr>\n",
       "      <th>1</th>\n",
       "      <td>1987</td>\n",
       "      <td>5</td>\n",
       "      <td>KBFI</td>\n",
       "    </tr>\n",
       "    <tr>\n",
       "      <th>2</th>\n",
       "      <td>1984</td>\n",
       "      <td>9</td>\n",
       "      <td>KBFI</td>\n",
       "    </tr>\n",
       "    <tr>\n",
       "      <th>3</th>\n",
       "      <td>1985</td>\n",
       "      <td>16</td>\n",
       "      <td>KBFI</td>\n",
       "    </tr>\n",
       "    <tr>\n",
       "      <th>4</th>\n",
       "      <td>1982</td>\n",
       "      <td>8</td>\n",
       "      <td>KBFI</td>\n",
       "    </tr>\n",
       "  </tbody>\n",
       "</table>\n",
       "</div>"
      ],
      "text/plain": [
       "   Year  FTCycles Airport\n",
       "0  1986         4    KBFI\n",
       "1  1987         5    KBFI\n",
       "2  1984         9    KBFI\n",
       "3  1985        16    KBFI\n",
       "4  1982         8    KBFI"
      ]
     },
     "execution_count": 4,
     "metadata": {},
     "output_type": "execute_result"
    }
   ],
   "source": [
    "wd.head()"
   ]
  },
  {
   "cell_type": "code",
   "execution_count": 5,
   "metadata": {
    "collapsed": true
   },
   "outputs": [],
   "source": [
    "def getCode(row):\n",
    "    index = row['IntID']\n",
    "    return ld.loc[index,'TargetID']"
   ]
  },
  {
   "cell_type": "markdown",
   "metadata": {},
   "source": [
    "# Adding traffic data"
   ]
  },
  {
   "cell_type": "code",
   "execution_count": 6,
   "metadata": {
    "collapsed": false
   },
   "outputs": [],
   "source": [
    "dc = ds.drop_duplicates(subset = [u'UID'])\n",
    "df = dc[['UID', 'Federal Functional Class', 'ESALs']]"
   ]
  },
  {
   "cell_type": "code",
   "execution_count": 7,
   "metadata": {
    "collapsed": true
   },
   "outputs": [],
   "source": [
    "df.columns = ['UID', 'Functional_Class', '2013']"
   ]
  },
  {
   "cell_type": "code",
   "execution_count": 8,
   "metadata": {
    "collapsed": true
   },
   "outputs": [],
   "source": [
    "def getClass(row):\n",
    "    f = row['Functional_Class']\n",
    "    req = f.split()[0]\n",
    "    return req"
   ]
  },
  {
   "cell_type": "code",
   "execution_count": 9,
   "metadata": {
    "collapsed": false
   },
   "outputs": [
    {
     "name": "stderr",
     "output_type": "stream",
     "text": [
      "/Users/Alan/Library/Enthought/Canopy_64bit/User/lib/python2.7/site-packages/pandas/core/indexing.py:249: SettingWithCopyWarning: \n",
      "A value is trying to be set on a copy of a slice from a DataFrame.\n",
      "Try using .loc[row_indexer,col_indexer] = value instead\n",
      "\n",
      "See the the caveats in the documentation: http://pandas.pydata.org/pandas-docs/stable/indexing.html#indexing-view-versus-copy\n",
      "  self.obj[key] = _infer_fill_value(value)\n",
      "/Users/Alan/Library/Enthought/Canopy_64bit/User/lib/python2.7/site-packages/pandas/core/indexing.py:415: SettingWithCopyWarning: \n",
      "A value is trying to be set on a copy of a slice from a DataFrame.\n",
      "Try using .loc[row_indexer,col_indexer] = value instead\n",
      "\n",
      "See the the caveats in the documentation: http://pandas.pydata.org/pandas-docs/stable/indexing.html#indexing-view-versus-copy\n",
      "  self.obj[item] = s\n"
     ]
    }
   ],
   "source": [
    "df.loc[:,'Class'] = df.apply(getClass, axis = 1)"
   ]
  },
  {
   "cell_type": "code",
   "execution_count": 10,
   "metadata": {
    "collapsed": false
   },
   "outputs": [
    {
     "data": {
      "text/html": [
       "<div>\n",
       "<table border=\"1\" class=\"dataframe\">\n",
       "  <thead>\n",
       "    <tr style=\"text-align: right;\">\n",
       "      <th></th>\n",
       "      <th>UID</th>\n",
       "      <th>Functional_Class</th>\n",
       "      <th>2013</th>\n",
       "      <th>Class</th>\n",
       "    </tr>\n",
       "  </thead>\n",
       "  <tbody>\n",
       "    <tr>\n",
       "      <th>0</th>\n",
       "      <td>222</td>\n",
       "      <td>Urban Other Principal Arterial</td>\n",
       "      <td>134794</td>\n",
       "      <td>Urban</td>\n",
       "    </tr>\n",
       "    <tr>\n",
       "      <th>3</th>\n",
       "      <td>540</td>\n",
       "      <td>Rural Other Principal Arterial</td>\n",
       "      <td>52268</td>\n",
       "      <td>Rural</td>\n",
       "    </tr>\n",
       "    <tr>\n",
       "      <th>4</th>\n",
       "      <td>2431</td>\n",
       "      <td>Rural Other Principal Arterial</td>\n",
       "      <td>86888</td>\n",
       "      <td>Rural</td>\n",
       "    </tr>\n",
       "    <tr>\n",
       "      <th>5</th>\n",
       "      <td>704</td>\n",
       "      <td>Rural Other Freeway/Expressway</td>\n",
       "      <td>42668</td>\n",
       "      <td>Rural</td>\n",
       "    </tr>\n",
       "    <tr>\n",
       "      <th>8</th>\n",
       "      <td>776</td>\n",
       "      <td>Rural Other Principal Arterial</td>\n",
       "      <td>52542</td>\n",
       "      <td>Rural</td>\n",
       "    </tr>\n",
       "  </tbody>\n",
       "</table>\n",
       "</div>"
      ],
      "text/plain": [
       "    UID                Functional_Class    2013  Class\n",
       "0   222  Urban Other Principal Arterial  134794  Urban\n",
       "3   540  Rural Other Principal Arterial   52268  Rural\n",
       "4  2431  Rural Other Principal Arterial   86888  Rural\n",
       "5   704  Rural Other Freeway/Expressway   42668  Rural\n",
       "8   776  Rural Other Principal Arterial   52542  Rural"
      ]
     },
     "execution_count": 10,
     "metadata": {},
     "output_type": "execute_result"
    }
   ],
   "source": [
    "df.head()"
   ]
  },
  {
   "cell_type": "code",
   "execution_count": 11,
   "metadata": {
    "collapsed": true
   },
   "outputs": [],
   "source": [
    "de = pd.read_excel(\"../DataFiles/EsalIncrements.xlsx\") "
   ]
  },
  {
   "cell_type": "code",
   "execution_count": 12,
   "metadata": {
    "collapsed": false
   },
   "outputs": [
    {
     "data": {
      "text/html": [
       "<div>\n",
       "<table border=\"1\" class=\"dataframe\">\n",
       "  <thead>\n",
       "    <tr style=\"text-align: right;\">\n",
       "      <th></th>\n",
       "      <th>Year</th>\n",
       "      <th>Rural</th>\n",
       "      <th>Urban</th>\n",
       "      <th>Total</th>\n",
       "      <th>ruralTMT</th>\n",
       "      <th>urbanTMT</th>\n",
       "      <th>totalTMT</th>\n",
       "      <th>rESALs</th>\n",
       "      <th>uESALs</th>\n",
       "      <th>tESALs</th>\n",
       "      <th>pRural</th>\n",
       "      <th>pUrban</th>\n",
       "      <th>pTotal</th>\n",
       "    </tr>\n",
       "  </thead>\n",
       "  <tbody>\n",
       "    <tr>\n",
       "      <th>0</th>\n",
       "      <td>1980</td>\n",
       "      <td>6598173.2</td>\n",
       "      <td>8491214.5</td>\n",
       "      <td>15089387.6</td>\n",
       "      <td>1095738.317765</td>\n",
       "      <td>700176.161462</td>\n",
       "      <td>1691903.176381</td>\n",
       "      <td>739952.237659</td>\n",
       "      <td>419523.945046</td>\n",
       "      <td>1096669.995277</td>\n",
       "      <td>NaN</td>\n",
       "      <td>NaN</td>\n",
       "      <td>NaN</td>\n",
       "    </tr>\n",
       "    <tr>\n",
       "      <th>1</th>\n",
       "      <td>1981</td>\n",
       "      <td>7028297.3</td>\n",
       "      <td>9128681.7</td>\n",
       "      <td>16156978.9</td>\n",
       "      <td>1167167.703366</td>\n",
       "      <td>752741.002116</td>\n",
       "      <td>1811607.246514</td>\n",
       "      <td>788188.511643</td>\n",
       "      <td>451019.175155</td>\n",
       "      <td>1174260.642225</td>\n",
       "      <td>0.065188</td>\n",
       "      <td>0.075074</td>\n",
       "      <td>0.070751</td>\n",
       "    </tr>\n",
       "    <tr>\n",
       "      <th>2</th>\n",
       "      <td>1982</td>\n",
       "      <td>7112799.6</td>\n",
       "      <td>9243787.1</td>\n",
       "      <td>16356586.7</td>\n",
       "      <td>1181200.740275</td>\n",
       "      <td>762232.466162</td>\n",
       "      <td>1833988.345059</td>\n",
       "      <td>797665.023410</td>\n",
       "      <td>456706.167458</td>\n",
       "      <td>1188767.783991</td>\n",
       "      <td>0.012023</td>\n",
       "      <td>0.012609</td>\n",
       "      <td>0.012354</td>\n",
       "    </tr>\n",
       "    <tr>\n",
       "      <th>3</th>\n",
       "      <td>1983</td>\n",
       "      <td>7471215.6</td>\n",
       "      <td>9789398.8</td>\n",
       "      <td>17260614.4</td>\n",
       "      <td>1240721.782387</td>\n",
       "      <td>807223.003824</td>\n",
       "      <td>1935352.785930</td>\n",
       "      <td>837859.591387</td>\n",
       "      <td>483663.108994</td>\n",
       "      <td>1254470.917861</td>\n",
       "      <td>0.050390</td>\n",
       "      <td>0.059025</td>\n",
       "      <td>0.055270</td>\n",
       "    </tr>\n",
       "    <tr>\n",
       "      <th>4</th>\n",
       "      <td>1984</td>\n",
       "      <td>7417125.2</td>\n",
       "      <td>10614739.1</td>\n",
       "      <td>18031864.3</td>\n",
       "      <td>1231739.156120</td>\n",
       "      <td>875279.652629</td>\n",
       "      <td>2021829.466773</td>\n",
       "      <td>831793.622626</td>\n",
       "      <td>524440.552393</td>\n",
       "      <td>1310523.996131</td>\n",
       "      <td>-0.007240</td>\n",
       "      <td>0.084310</td>\n",
       "      <td>0.044683</td>\n",
       "    </tr>\n",
       "  </tbody>\n",
       "</table>\n",
       "</div>"
      ],
      "text/plain": [
       "   Year      Rural       Urban       Total        ruralTMT       urbanTMT  \\\n",
       "0  1980  6598173.2   8491214.5  15089387.6  1095738.317765  700176.161462   \n",
       "1  1981  7028297.3   9128681.7  16156978.9  1167167.703366  752741.002116   \n",
       "2  1982  7112799.6   9243787.1  16356586.7  1181200.740275  762232.466162   \n",
       "3  1983  7471215.6   9789398.8  17260614.4  1240721.782387  807223.003824   \n",
       "4  1984  7417125.2  10614739.1  18031864.3  1231739.156120  875279.652629   \n",
       "\n",
       "         totalTMT         rESALs         uESALs          tESALs    pRural  \\\n",
       "0  1691903.176381  739952.237659  419523.945046  1096669.995277       NaN   \n",
       "1  1811607.246514  788188.511643  451019.175155  1174260.642225  0.065188   \n",
       "2  1833988.345059  797665.023410  456706.167458  1188767.783991  0.012023   \n",
       "3  1935352.785930  837859.591387  483663.108994  1254470.917861  0.050390   \n",
       "4  2021829.466773  831793.622626  524440.552393  1310523.996131 -0.007240   \n",
       "\n",
       "     pUrban    pTotal  \n",
       "0       NaN       NaN  \n",
       "1  0.075074  0.070751  \n",
       "2  0.012609  0.012354  \n",
       "3  0.059025  0.055270  \n",
       "4  0.084310  0.044683  "
      ]
     },
     "execution_count": 12,
     "metadata": {},
     "output_type": "execute_result"
    }
   ],
   "source": [
    "de.head()"
   ]
  },
  {
   "cell_type": "code",
   "execution_count": 17,
   "metadata": {
    "collapsed": true
   },
   "outputs": [],
   "source": [
    "di = de[['Year', 'pRural', 'pUrban']]\n",
    "di.columns = ['Year', 'Rural', 'Urban']"
   ]
  },
  {
   "cell_type": "code",
   "execution_count": 14,
   "metadata": {
    "collapsed": true
   },
   "outputs": [],
   "source": [
    "def extrapolate(df):   \n",
    "    for row in df.index:\n",
    "        if df.loc[row, 'Class'] == 'Rural':\n",
    "            cat = 'r'\n",
    "        else:\n",
    "            cat = 'u'\n",
    "        for year in (np.arange(32)+1981)[::-1]:\n",
    "            name = str(year)\n",
    "            pname = str(year-1)\n",
    "            ind  = year + 1 - 1980\n",
    "            df.loc[row, name] = (df.loc[row, pname])/(1 + di.loc[ind, cat])"
   ]
  },
  {
   "cell_type": "code",
   "execution_count": 19,
   "metadata": {
    "collapsed": false
   },
   "outputs": [],
   "source": [
    "di.index = np.array(di.Year)"
   ]
  },
  {
   "cell_type": "code",
   "execution_count": 20,
   "metadata": {
    "collapsed": false
   },
   "outputs": [
    {
     "data": {
      "text/html": [
       "<div>\n",
       "<table border=\"1\" class=\"dataframe\">\n",
       "  <thead>\n",
       "    <tr style=\"text-align: right;\">\n",
       "      <th></th>\n",
       "      <th>Year</th>\n",
       "      <th>Rural</th>\n",
       "      <th>Urban</th>\n",
       "    </tr>\n",
       "  </thead>\n",
       "  <tbody>\n",
       "    <tr>\n",
       "      <th>1980</th>\n",
       "      <td>1980</td>\n",
       "      <td>NaN</td>\n",
       "      <td>NaN</td>\n",
       "    </tr>\n",
       "    <tr>\n",
       "      <th>1981</th>\n",
       "      <td>1981</td>\n",
       "      <td>0.065188</td>\n",
       "      <td>0.075074</td>\n",
       "    </tr>\n",
       "    <tr>\n",
       "      <th>1982</th>\n",
       "      <td>1982</td>\n",
       "      <td>0.012023</td>\n",
       "      <td>0.012609</td>\n",
       "    </tr>\n",
       "    <tr>\n",
       "      <th>1983</th>\n",
       "      <td>1983</td>\n",
       "      <td>0.050390</td>\n",
       "      <td>0.059025</td>\n",
       "    </tr>\n",
       "    <tr>\n",
       "      <th>1984</th>\n",
       "      <td>1984</td>\n",
       "      <td>-0.007240</td>\n",
       "      <td>0.084310</td>\n",
       "    </tr>\n",
       "  </tbody>\n",
       "</table>\n",
       "</div>"
      ],
      "text/plain": [
       "      Year     Rural     Urban\n",
       "1980  1980       NaN       NaN\n",
       "1981  1981  0.065188  0.075074\n",
       "1982  1982  0.012023  0.012609\n",
       "1983  1983  0.050390  0.059025\n",
       "1984  1984 -0.007240  0.084310"
      ]
     },
     "execution_count": 20,
     "metadata": {},
     "output_type": "execute_result"
    }
   ],
   "source": [
    "di.head()"
   ]
  },
  {
   "cell_type": "code",
   "execution_count": 21,
   "metadata": {
    "collapsed": true
   },
   "outputs": [],
   "source": [
    "def extrapolate(row, year): \n",
    "    funClass = row['Class']\n",
    "#     year  = 2013\n",
    "    esal  = row[str(year)]\n",
    "    r     = di.loc[year, funClass]\n",
    "    required = esal/(1+r)\n",
    "    return required"
   ]
  },
  {
   "cell_type": "code",
   "execution_count": 27,
   "metadata": {
    "collapsed": false
   },
   "outputs": [],
   "source": [
    "# extrapolate(df)\n",
    "for year in (np.arange(32)+1981)[::-1]:\n",
    "    name = str(year)\n",
    "    pYear = year+1\n",
    "    df.loc[:, name] = df.apply(extrapolate, axis =1, args = (pYear,))"
   ]
  },
  {
   "cell_type": "code",
   "execution_count": 26,
   "metadata": {
    "collapsed": false
   },
   "outputs": [
    {
     "data": {
      "text/plain": [
       "array([2012, 2011, 2010, 2009, 2008, 2007, 2006, 2005, 2004, 2003, 2002,\n",
       "       2001, 2000, 1999, 1998, 1997, 1996, 1995, 1994, 1993, 1992, 1991,\n",
       "       1990, 1989, 1988, 1987, 1986, 1985, 1984, 1983, 1982, 1981])"
      ]
     },
     "execution_count": 26,
     "metadata": {},
     "output_type": "execute_result"
    }
   ],
   "source": [
    "(np.arange(32)+1981)[::-1]"
   ]
  },
  {
   "cell_type": "code",
   "execution_count": 28,
   "metadata": {
    "collapsed": false
   },
   "outputs": [
    {
     "data": {
      "text/html": [
       "<div>\n",
       "<table border=\"1\" class=\"dataframe\">\n",
       "  <thead>\n",
       "    <tr style=\"text-align: right;\">\n",
       "      <th></th>\n",
       "      <th>UID</th>\n",
       "      <th>Functional_Class</th>\n",
       "      <th>2013</th>\n",
       "      <th>Class</th>\n",
       "      <th>2012</th>\n",
       "      <th>2011</th>\n",
       "      <th>2010</th>\n",
       "      <th>2009</th>\n",
       "      <th>2008</th>\n",
       "      <th>2007</th>\n",
       "      <th>...</th>\n",
       "      <th>1990</th>\n",
       "      <th>1989</th>\n",
       "      <th>1988</th>\n",
       "      <th>1987</th>\n",
       "      <th>1986</th>\n",
       "      <th>1985</th>\n",
       "      <th>1984</th>\n",
       "      <th>1983</th>\n",
       "      <th>1982</th>\n",
       "      <th>1981</th>\n",
       "    </tr>\n",
       "  </thead>\n",
       "  <tbody>\n",
       "    <tr>\n",
       "      <th>0</th>\n",
       "      <td>222</td>\n",
       "      <td>Urban Other Principal Arterial</td>\n",
       "      <td>134794</td>\n",
       "      <td>Urban</td>\n",
       "      <td>126462.406367</td>\n",
       "      <td>127350.026602</td>\n",
       "      <td>128238.178975</td>\n",
       "      <td>127289.303357</td>\n",
       "      <td>125141.073011</td>\n",
       "      <td>129271.176692</td>\n",
       "      <td>...</td>\n",
       "      <td>85601.370140</td>\n",
       "      <td>83800.407148</td>\n",
       "      <td>80705.085746</td>\n",
       "      <td>77376.686137</td>\n",
       "      <td>74150.370174</td>\n",
       "      <td>69852.804663</td>\n",
       "      <td>67244.080099</td>\n",
       "      <td>62015.572011</td>\n",
       "      <td>58559.136905</td>\n",
       "      <td>57829.947364</td>\n",
       "    </tr>\n",
       "    <tr>\n",
       "      <th>3</th>\n",
       "      <td>540</td>\n",
       "      <td>Rural Other Principal Arterial</td>\n",
       "      <td>52268</td>\n",
       "      <td>Rural</td>\n",
       "      <td>56705.292107</td>\n",
       "      <td>57214.726903</td>\n",
       "      <td>58064.483748</td>\n",
       "      <td>57264.129970</td>\n",
       "      <td>55375.421978</td>\n",
       "      <td>58281.371710</td>\n",
       "      <td>...</td>\n",
       "      <td>48438.879274</td>\n",
       "      <td>46017.534794</td>\n",
       "      <td>44894.655482</td>\n",
       "      <td>42689.322039</td>\n",
       "      <td>40386.353710</td>\n",
       "      <td>37487.475310</td>\n",
       "      <td>37380.769806</td>\n",
       "      <td>37653.374182</td>\n",
       "      <td>35847.032017</td>\n",
       "      <td>35421.157984</td>\n",
       "    </tr>\n",
       "    <tr>\n",
       "      <th>4</th>\n",
       "      <td>2431</td>\n",
       "      <td>Rural Other Principal Arterial</td>\n",
       "      <td>86888</td>\n",
       "      <td>Rural</td>\n",
       "      <td>94264.357171</td>\n",
       "      <td>95111.218933</td>\n",
       "      <td>96523.816942</td>\n",
       "      <td>95193.344396</td>\n",
       "      <td>92053.640177</td>\n",
       "      <td>96884.361849</td>\n",
       "      <td>...</td>\n",
       "      <td>80522.639901</td>\n",
       "      <td>76497.504460</td>\n",
       "      <td>74630.879802</td>\n",
       "      <td>70964.831509</td>\n",
       "      <td>67136.479321</td>\n",
       "      <td>62317.512718</td>\n",
       "      <td>62140.130230</td>\n",
       "      <td>62593.295629</td>\n",
       "      <td>59590.512703</td>\n",
       "      <td>58882.558639</td>\n",
       "    </tr>\n",
       "    <tr>\n",
       "      <th>5</th>\n",
       "      <td>704</td>\n",
       "      <td>Rural Other Freeway/Expressway</td>\n",
       "      <td>42668</td>\n",
       "      <td>Rural</td>\n",
       "      <td>46290.300062</td>\n",
       "      <td>46706.167588</td>\n",
       "      <td>47399.850627</td>\n",
       "      <td>46746.496854</td>\n",
       "      <td>45204.685562</td>\n",
       "      <td>47576.903040</td>\n",
       "      <td>...</td>\n",
       "      <td>39542.169221</td>\n",
       "      <td>37565.550137</td>\n",
       "      <td>36648.908703</td>\n",
       "      <td>34848.626172</td>\n",
       "      <td>32968.641236</td>\n",
       "      <td>30602.196306</td>\n",
       "      <td>30515.089272</td>\n",
       "      <td>30737.624734</td>\n",
       "      <td>29263.051238</td>\n",
       "      <td>28915.396971</td>\n",
       "    </tr>\n",
       "    <tr>\n",
       "      <th>8</th>\n",
       "      <td>776</td>\n",
       "      <td>Rural Other Principal Arterial</td>\n",
       "      <td>52542</td>\n",
       "      <td>Rural</td>\n",
       "      <td>57002.553339</td>\n",
       "      <td>57514.658700</td>\n",
       "      <td>58368.870152</td>\n",
       "      <td>57564.320749</td>\n",
       "      <td>55665.711746</td>\n",
       "      <td>58586.895086</td>\n",
       "      <td>...</td>\n",
       "      <td>48692.806207</td>\n",
       "      <td>46258.768522</td>\n",
       "      <td>45130.002838</td>\n",
       "      <td>42913.108567</td>\n",
       "      <td>40598.067587</td>\n",
       "      <td>37683.992649</td>\n",
       "      <td>37576.727771</td>\n",
       "      <td>37850.761198</td>\n",
       "      <td>36034.949802</td>\n",
       "      <td>35606.843246</td>\n",
       "    </tr>\n",
       "  </tbody>\n",
       "</table>\n",
       "<p>5 rows × 36 columns</p>\n",
       "</div>"
      ],
      "text/plain": [
       "    UID                Functional_Class    2013  Class           2012  \\\n",
       "0   222  Urban Other Principal Arterial  134794  Urban  126462.406367   \n",
       "3   540  Rural Other Principal Arterial   52268  Rural   56705.292107   \n",
       "4  2431  Rural Other Principal Arterial   86888  Rural   94264.357171   \n",
       "5   704  Rural Other Freeway/Expressway   42668  Rural   46290.300062   \n",
       "8   776  Rural Other Principal Arterial   52542  Rural   57002.553339   \n",
       "\n",
       "            2011           2010           2009           2008           2007  \\\n",
       "0  127350.026602  128238.178975  127289.303357  125141.073011  129271.176692   \n",
       "3   57214.726903   58064.483748   57264.129970   55375.421978   58281.371710   \n",
       "4   95111.218933   96523.816942   95193.344396   92053.640177   96884.361849   \n",
       "5   46706.167588   47399.850627   46746.496854   45204.685562   47576.903040   \n",
       "8   57514.658700   58368.870152   57564.320749   55665.711746   58586.895086   \n",
       "\n",
       "       ...               1990          1989          1988          1987  \\\n",
       "0      ...       85601.370140  83800.407148  80705.085746  77376.686137   \n",
       "3      ...       48438.879274  46017.534794  44894.655482  42689.322039   \n",
       "4      ...       80522.639901  76497.504460  74630.879802  70964.831509   \n",
       "5      ...       39542.169221  37565.550137  36648.908703  34848.626172   \n",
       "8      ...       48692.806207  46258.768522  45130.002838  42913.108567   \n",
       "\n",
       "           1986          1985          1984          1983          1982  \\\n",
       "0  74150.370174  69852.804663  67244.080099  62015.572011  58559.136905   \n",
       "3  40386.353710  37487.475310  37380.769806  37653.374182  35847.032017   \n",
       "4  67136.479321  62317.512718  62140.130230  62593.295629  59590.512703   \n",
       "5  32968.641236  30602.196306  30515.089272  30737.624734  29263.051238   \n",
       "8  40598.067587  37683.992649  37576.727771  37850.761198  36034.949802   \n",
       "\n",
       "           1981  \n",
       "0  57829.947364  \n",
       "3  35421.157984  \n",
       "4  58882.558639  \n",
       "5  28915.396971  \n",
       "8  35606.843246  \n",
       "\n",
       "[5 rows x 36 columns]"
      ]
     },
     "execution_count": 28,
     "metadata": {},
     "output_type": "execute_result"
    }
   ],
   "source": [
    "df.head()"
   ]
  },
  {
   "cell_type": "code",
   "execution_count": 29,
   "metadata": {
    "collapsed": true
   },
   "outputs": [],
   "source": [
    "df2 = df[[u'2013',u'2012', u'2011', u'2010', u'2009', u'2008', u'2007', u'2006', u'2005', u'2004', u'2003', u'2002',\n",
    "          u'2001', u'2000', u'1999',u'1998', u'1997', u'1996', u'1995', u'1994', u'1993', u'1992', u'1991',  u'1990',\n",
    "          u'1989', u'1988', u'1987',u'1986', u'1985', u'1984', u'1983',u'1982', u'1981']]"
   ]
  },
  {
   "cell_type": "code",
   "execution_count": 30,
   "metadata": {
    "collapsed": true
   },
   "outputs": [],
   "source": [
    "df2.index = np.array(df.loc[:, 'UID'])"
   ]
  },
  {
   "cell_type": "code",
   "execution_count": 91,
   "metadata": {
    "collapsed": false
   },
   "outputs": [
    {
     "data": {
      "text/html": [
       "<div>\n",
       "<table border=\"1\" class=\"dataframe\">\n",
       "  <thead>\n",
       "    <tr style=\"text-align: right;\">\n",
       "      <th></th>\n",
       "      <th>2013</th>\n",
       "      <th>2012</th>\n",
       "      <th>2011</th>\n",
       "      <th>2010</th>\n",
       "      <th>2009</th>\n",
       "      <th>2008</th>\n",
       "      <th>2007</th>\n",
       "      <th>2006</th>\n",
       "      <th>2005</th>\n",
       "      <th>2004</th>\n",
       "      <th>...</th>\n",
       "      <th>1990</th>\n",
       "      <th>1989</th>\n",
       "      <th>1988</th>\n",
       "      <th>1987</th>\n",
       "      <th>1986</th>\n",
       "      <th>1985</th>\n",
       "      <th>1984</th>\n",
       "      <th>1983</th>\n",
       "      <th>1982</th>\n",
       "      <th>1981</th>\n",
       "    </tr>\n",
       "  </thead>\n",
       "  <tbody>\n",
       "    <tr>\n",
       "      <th>222</th>\n",
       "      <td>134794</td>\n",
       "      <td>126462.406367</td>\n",
       "      <td>127350.026602</td>\n",
       "      <td>128238.178975</td>\n",
       "      <td>127289.303357</td>\n",
       "      <td>125141.073011</td>\n",
       "      <td>129271.176692</td>\n",
       "      <td>129023.163153</td>\n",
       "      <td>128826.808780</td>\n",
       "      <td>127988.456893</td>\n",
       "      <td>...</td>\n",
       "      <td>85601.370140</td>\n",
       "      <td>83800.407148</td>\n",
       "      <td>80705.085746</td>\n",
       "      <td>77376.686137</td>\n",
       "      <td>74150.370174</td>\n",
       "      <td>69852.804663</td>\n",
       "      <td>67244.080099</td>\n",
       "      <td>62015.572011</td>\n",
       "      <td>58559.136905</td>\n",
       "      <td>57829.947364</td>\n",
       "    </tr>\n",
       "    <tr>\n",
       "      <th>540</th>\n",
       "      <td>52268</td>\n",
       "      <td>56705.292107</td>\n",
       "      <td>57214.726903</td>\n",
       "      <td>58064.483748</td>\n",
       "      <td>57264.129970</td>\n",
       "      <td>55375.421978</td>\n",
       "      <td>58281.371710</td>\n",
       "      <td>57439.885668</td>\n",
       "      <td>56913.670884</td>\n",
       "      <td>57220.694521</td>\n",
       "      <td>...</td>\n",
       "      <td>48438.879274</td>\n",
       "      <td>46017.534794</td>\n",
       "      <td>44894.655482</td>\n",
       "      <td>42689.322039</td>\n",
       "      <td>40386.353710</td>\n",
       "      <td>37487.475310</td>\n",
       "      <td>37380.769806</td>\n",
       "      <td>37653.374182</td>\n",
       "      <td>35847.032017</td>\n",
       "      <td>35421.157984</td>\n",
       "    </tr>\n",
       "    <tr>\n",
       "      <th>2431</th>\n",
       "      <td>86888</td>\n",
       "      <td>94264.357171</td>\n",
       "      <td>95111.218933</td>\n",
       "      <td>96523.816942</td>\n",
       "      <td>95193.344396</td>\n",
       "      <td>92053.640177</td>\n",
       "      <td>96884.361849</td>\n",
       "      <td>95485.512855</td>\n",
       "      <td>94610.756787</td>\n",
       "      <td>95121.139236</td>\n",
       "      <td>...</td>\n",
       "      <td>80522.639901</td>\n",
       "      <td>76497.504460</td>\n",
       "      <td>74630.879802</td>\n",
       "      <td>70964.831509</td>\n",
       "      <td>67136.479321</td>\n",
       "      <td>62317.512718</td>\n",
       "      <td>62140.130230</td>\n",
       "      <td>62593.295629</td>\n",
       "      <td>59590.512703</td>\n",
       "      <td>58882.558639</td>\n",
       "    </tr>\n",
       "    <tr>\n",
       "      <th>704</th>\n",
       "      <td>42668</td>\n",
       "      <td>46290.300062</td>\n",
       "      <td>46706.167588</td>\n",
       "      <td>47399.850627</td>\n",
       "      <td>46746.496854</td>\n",
       "      <td>45204.685562</td>\n",
       "      <td>47576.903040</td>\n",
       "      <td>46889.971717</td>\n",
       "      <td>46460.406162</td>\n",
       "      <td>46711.039141</td>\n",
       "      <td>...</td>\n",
       "      <td>39542.169221</td>\n",
       "      <td>37565.550137</td>\n",
       "      <td>36648.908703</td>\n",
       "      <td>34848.626172</td>\n",
       "      <td>32968.641236</td>\n",
       "      <td>30602.196306</td>\n",
       "      <td>30515.089272</td>\n",
       "      <td>30737.624734</td>\n",
       "      <td>29263.051238</td>\n",
       "      <td>28915.396971</td>\n",
       "    </tr>\n",
       "    <tr>\n",
       "      <th>776</th>\n",
       "      <td>52542</td>\n",
       "      <td>57002.553339</td>\n",
       "      <td>57514.658700</td>\n",
       "      <td>58368.870152</td>\n",
       "      <td>57564.320749</td>\n",
       "      <td>55665.711746</td>\n",
       "      <td>58586.895086</td>\n",
       "      <td>57740.997795</td>\n",
       "      <td>57212.024481</td>\n",
       "      <td>57520.657602</td>\n",
       "      <td>...</td>\n",
       "      <td>48692.806207</td>\n",
       "      <td>46258.768522</td>\n",
       "      <td>45130.002838</td>\n",
       "      <td>42913.108567</td>\n",
       "      <td>40598.067587</td>\n",
       "      <td>37683.992649</td>\n",
       "      <td>37576.727771</td>\n",
       "      <td>37850.761198</td>\n",
       "      <td>36034.949802</td>\n",
       "      <td>35606.843246</td>\n",
       "    </tr>\n",
       "  </tbody>\n",
       "</table>\n",
       "<p>5 rows × 33 columns</p>\n",
       "</div>"
      ],
      "text/plain": [
       "        2013           2012           2011           2010           2009  \\\n",
       "222   134794  126462.406367  127350.026602  128238.178975  127289.303357   \n",
       "540    52268   56705.292107   57214.726903   58064.483748   57264.129970   \n",
       "2431   86888   94264.357171   95111.218933   96523.816942   95193.344396   \n",
       "704    42668   46290.300062   46706.167588   47399.850627   46746.496854   \n",
       "776    52542   57002.553339   57514.658700   58368.870152   57564.320749   \n",
       "\n",
       "               2008           2007           2006           2005  \\\n",
       "222   125141.073011  129271.176692  129023.163153  128826.808780   \n",
       "540    55375.421978   58281.371710   57439.885668   56913.670884   \n",
       "2431   92053.640177   96884.361849   95485.512855   94610.756787   \n",
       "704    45204.685562   47576.903040   46889.971717   46460.406162   \n",
       "776    55665.711746   58586.895086   57740.997795   57212.024481   \n",
       "\n",
       "               2004      ...               1990          1989          1988  \\\n",
       "222   127988.456893      ...       85601.370140  83800.407148  80705.085746   \n",
       "540    57220.694521      ...       48438.879274  46017.534794  44894.655482   \n",
       "2431   95121.139236      ...       80522.639901  76497.504460  74630.879802   \n",
       "704    46711.039141      ...       39542.169221  37565.550137  36648.908703   \n",
       "776    57520.657602      ...       48692.806207  46258.768522  45130.002838   \n",
       "\n",
       "              1987          1986          1985          1984          1983  \\\n",
       "222   77376.686137  74150.370174  69852.804663  67244.080099  62015.572011   \n",
       "540   42689.322039  40386.353710  37487.475310  37380.769806  37653.374182   \n",
       "2431  70964.831509  67136.479321  62317.512718  62140.130230  62593.295629   \n",
       "704   34848.626172  32968.641236  30602.196306  30515.089272  30737.624734   \n",
       "776   42913.108567  40598.067587  37683.992649  37576.727771  37850.761198   \n",
       "\n",
       "              1982          1981  \n",
       "222   58559.136905  57829.947364  \n",
       "540   35847.032017  35421.157984  \n",
       "2431  59590.512703  58882.558639  \n",
       "704   29263.051238  28915.396971  \n",
       "776   36034.949802  35606.843246  \n",
       "\n",
       "[5 rows x 33 columns]"
      ]
     },
     "execution_count": 91,
     "metadata": {},
     "output_type": "execute_result"
    }
   ],
   "source": [
    "df2.head()"
   ]
  },
  {
   "cell_type": "code",
   "execution_count": 131,
   "metadata": {
    "collapsed": false
   },
   "outputs": [
    {
     "data": {
      "text/html": [
       "<div>\n",
       "<table border=\"1\" class=\"dataframe\">\n",
       "  <thead>\n",
       "    <tr style=\"text-align: right;\">\n",
       "      <th></th>\n",
       "      <th>1981</th>\n",
       "      <th>1982</th>\n",
       "      <th>1983</th>\n",
       "      <th>1984</th>\n",
       "      <th>1985</th>\n",
       "      <th>1986</th>\n",
       "      <th>1987</th>\n",
       "      <th>1988</th>\n",
       "      <th>1989</th>\n",
       "      <th>1990</th>\n",
       "      <th>...</th>\n",
       "      <th>2004</th>\n",
       "      <th>2005</th>\n",
       "      <th>2006</th>\n",
       "      <th>2007</th>\n",
       "      <th>2008</th>\n",
       "      <th>2009</th>\n",
       "      <th>2010</th>\n",
       "      <th>2011</th>\n",
       "      <th>2012</th>\n",
       "      <th>2013</th>\n",
       "    </tr>\n",
       "  </thead>\n",
       "  <tbody>\n",
       "    <tr>\n",
       "      <th>222</th>\n",
       "      <td>57829.947364</td>\n",
       "      <td>58559.136905</td>\n",
       "      <td>62015.572011</td>\n",
       "      <td>67244.080099</td>\n",
       "      <td>69852.804663</td>\n",
       "      <td>74150.370174</td>\n",
       "      <td>77376.686137</td>\n",
       "      <td>80705.085746</td>\n",
       "      <td>83800.407148</td>\n",
       "      <td>85601.370140</td>\n",
       "      <td>...</td>\n",
       "      <td>127988.456893</td>\n",
       "      <td>128826.808780</td>\n",
       "      <td>129023.163153</td>\n",
       "      <td>129271.176692</td>\n",
       "      <td>125141.073011</td>\n",
       "      <td>127289.303357</td>\n",
       "      <td>128238.178975</td>\n",
       "      <td>127350.026602</td>\n",
       "      <td>126462.406367</td>\n",
       "      <td>134794</td>\n",
       "    </tr>\n",
       "    <tr>\n",
       "      <th>540</th>\n",
       "      <td>35421.157984</td>\n",
       "      <td>35847.032017</td>\n",
       "      <td>37653.374182</td>\n",
       "      <td>37380.769806</td>\n",
       "      <td>37487.475310</td>\n",
       "      <td>40386.353710</td>\n",
       "      <td>42689.322039</td>\n",
       "      <td>44894.655482</td>\n",
       "      <td>46017.534794</td>\n",
       "      <td>48438.879274</td>\n",
       "      <td>...</td>\n",
       "      <td>57220.694521</td>\n",
       "      <td>56913.670884</td>\n",
       "      <td>57439.885668</td>\n",
       "      <td>58281.371710</td>\n",
       "      <td>55375.421978</td>\n",
       "      <td>57264.129970</td>\n",
       "      <td>58064.483748</td>\n",
       "      <td>57214.726903</td>\n",
       "      <td>56705.292107</td>\n",
       "      <td>52268</td>\n",
       "    </tr>\n",
       "    <tr>\n",
       "      <th>2431</th>\n",
       "      <td>58882.558639</td>\n",
       "      <td>59590.512703</td>\n",
       "      <td>62593.295629</td>\n",
       "      <td>62140.130230</td>\n",
       "      <td>62317.512718</td>\n",
       "      <td>67136.479321</td>\n",
       "      <td>70964.831509</td>\n",
       "      <td>74630.879802</td>\n",
       "      <td>76497.504460</td>\n",
       "      <td>80522.639901</td>\n",
       "      <td>...</td>\n",
       "      <td>95121.139236</td>\n",
       "      <td>94610.756787</td>\n",
       "      <td>95485.512855</td>\n",
       "      <td>96884.361849</td>\n",
       "      <td>92053.640177</td>\n",
       "      <td>95193.344396</td>\n",
       "      <td>96523.816942</td>\n",
       "      <td>95111.218933</td>\n",
       "      <td>94264.357171</td>\n",
       "      <td>86888</td>\n",
       "    </tr>\n",
       "    <tr>\n",
       "      <th>704</th>\n",
       "      <td>28915.396971</td>\n",
       "      <td>29263.051238</td>\n",
       "      <td>30737.624734</td>\n",
       "      <td>30515.089272</td>\n",
       "      <td>30602.196306</td>\n",
       "      <td>32968.641236</td>\n",
       "      <td>34848.626172</td>\n",
       "      <td>36648.908703</td>\n",
       "      <td>37565.550137</td>\n",
       "      <td>39542.169221</td>\n",
       "      <td>...</td>\n",
       "      <td>46711.039141</td>\n",
       "      <td>46460.406162</td>\n",
       "      <td>46889.971717</td>\n",
       "      <td>47576.903040</td>\n",
       "      <td>45204.685562</td>\n",
       "      <td>46746.496854</td>\n",
       "      <td>47399.850627</td>\n",
       "      <td>46706.167588</td>\n",
       "      <td>46290.300062</td>\n",
       "      <td>42668</td>\n",
       "    </tr>\n",
       "    <tr>\n",
       "      <th>776</th>\n",
       "      <td>35606.843246</td>\n",
       "      <td>36034.949802</td>\n",
       "      <td>37850.761198</td>\n",
       "      <td>37576.727771</td>\n",
       "      <td>37683.992649</td>\n",
       "      <td>40598.067587</td>\n",
       "      <td>42913.108567</td>\n",
       "      <td>45130.002838</td>\n",
       "      <td>46258.768522</td>\n",
       "      <td>48692.806207</td>\n",
       "      <td>...</td>\n",
       "      <td>57520.657602</td>\n",
       "      <td>57212.024481</td>\n",
       "      <td>57740.997795</td>\n",
       "      <td>58586.895086</td>\n",
       "      <td>55665.711746</td>\n",
       "      <td>57564.320749</td>\n",
       "      <td>58368.870152</td>\n",
       "      <td>57514.658700</td>\n",
       "      <td>57002.553339</td>\n",
       "      <td>52542</td>\n",
       "    </tr>\n",
       "  </tbody>\n",
       "</table>\n",
       "<p>5 rows × 33 columns</p>\n",
       "</div>"
      ],
      "text/plain": [
       "              1981          1982          1983          1984          1985  \\\n",
       "222   57829.947364  58559.136905  62015.572011  67244.080099  69852.804663   \n",
       "540   35421.157984  35847.032017  37653.374182  37380.769806  37487.475310   \n",
       "2431  58882.558639  59590.512703  62593.295629  62140.130230  62317.512718   \n",
       "704   28915.396971  29263.051238  30737.624734  30515.089272  30602.196306   \n",
       "776   35606.843246  36034.949802  37850.761198  37576.727771  37683.992649   \n",
       "\n",
       "              1986          1987          1988          1989          1990  \\\n",
       "222   74150.370174  77376.686137  80705.085746  83800.407148  85601.370140   \n",
       "540   40386.353710  42689.322039  44894.655482  46017.534794  48438.879274   \n",
       "2431  67136.479321  70964.831509  74630.879802  76497.504460  80522.639901   \n",
       "704   32968.641236  34848.626172  36648.908703  37565.550137  39542.169221   \n",
       "776   40598.067587  42913.108567  45130.002838  46258.768522  48692.806207   \n",
       "\n",
       "       ...             2004           2005           2006           2007  \\\n",
       "222    ...    127988.456893  128826.808780  129023.163153  129271.176692   \n",
       "540    ...     57220.694521   56913.670884   57439.885668   58281.371710   \n",
       "2431   ...     95121.139236   94610.756787   95485.512855   96884.361849   \n",
       "704    ...     46711.039141   46460.406162   46889.971717   47576.903040   \n",
       "776    ...     57520.657602   57212.024481   57740.997795   58586.895086   \n",
       "\n",
       "               2008           2009           2010           2011  \\\n",
       "222   125141.073011  127289.303357  128238.178975  127350.026602   \n",
       "540    55375.421978   57264.129970   58064.483748   57214.726903   \n",
       "2431   92053.640177   95193.344396   96523.816942   95111.218933   \n",
       "704    45204.685562   46746.496854   47399.850627   46706.167588   \n",
       "776    55665.711746   57564.320749   58368.870152   57514.658700   \n",
       "\n",
       "               2012    2013  \n",
       "222   126462.406367  134794  \n",
       "540    56705.292107   52268  \n",
       "2431   94264.357171   86888  \n",
       "704    46290.300062   42668  \n",
       "776    57002.553339   52542  \n",
       "\n",
       "[5 rows x 33 columns]"
      ]
     },
     "execution_count": 131,
     "metadata": {},
     "output_type": "execute_result"
    }
   ],
   "source": [
    "df2_reordered = df2[df2.columns[::-1]]\n",
    "df2_reordered.head()"
   ]
  },
  {
   "cell_type": "code",
   "execution_count": 132,
   "metadata": {
    "collapsed": false
   },
   "outputs": [
    {
     "data": {
      "text/html": [
       "<div>\n",
       "<table border=\"1\" class=\"dataframe\">\n",
       "  <thead>\n",
       "    <tr style=\"text-align: right;\">\n",
       "      <th></th>\n",
       "      <th>1981</th>\n",
       "      <th>1982</th>\n",
       "      <th>1983</th>\n",
       "      <th>1984</th>\n",
       "      <th>1985</th>\n",
       "      <th>1986</th>\n",
       "      <th>1987</th>\n",
       "      <th>1988</th>\n",
       "      <th>1989</th>\n",
       "      <th>1990</th>\n",
       "      <th>...</th>\n",
       "      <th>2004</th>\n",
       "      <th>2005</th>\n",
       "      <th>2006</th>\n",
       "      <th>2007</th>\n",
       "      <th>2008</th>\n",
       "      <th>2009</th>\n",
       "      <th>2010</th>\n",
       "      <th>2011</th>\n",
       "      <th>2012</th>\n",
       "      <th>2013</th>\n",
       "    </tr>\n",
       "  </thead>\n",
       "  <tbody>\n",
       "    <tr>\n",
       "      <th>222</th>\n",
       "      <td>57829.947364</td>\n",
       "      <td>116389.084269</td>\n",
       "      <td>178404.656280</td>\n",
       "      <td>245648.736379</td>\n",
       "      <td>315501.541042</td>\n",
       "      <td>389651.911216</td>\n",
       "      <td>467028.597353</td>\n",
       "      <td>547733.683099</td>\n",
       "      <td>631534.090247</td>\n",
       "      <td>717135.460388</td>\n",
       "      <td>...</td>\n",
       "      <td>2226489.331504</td>\n",
       "      <td>2355316.140285</td>\n",
       "      <td>2484339.303437</td>\n",
       "      <td>2613610.480129</td>\n",
       "      <td>2738751.553140</td>\n",
       "      <td>2866040.856497</td>\n",
       "      <td>2994279.035472</td>\n",
       "      <td>3121629.062074</td>\n",
       "      <td>3248091.468441</td>\n",
       "      <td>3382885.468441</td>\n",
       "    </tr>\n",
       "    <tr>\n",
       "      <th>540</th>\n",
       "      <td>35421.157984</td>\n",
       "      <td>71268.190002</td>\n",
       "      <td>108921.564184</td>\n",
       "      <td>146302.333990</td>\n",
       "      <td>183789.809300</td>\n",
       "      <td>224176.163010</td>\n",
       "      <td>266865.485049</td>\n",
       "      <td>311760.140531</td>\n",
       "      <td>357777.675324</td>\n",
       "      <td>406216.554598</td>\n",
       "      <td>...</td>\n",
       "      <td>1215873.022028</td>\n",
       "      <td>1272786.692911</td>\n",
       "      <td>1330226.578580</td>\n",
       "      <td>1388507.950289</td>\n",
       "      <td>1443883.372267</td>\n",
       "      <td>1501147.502237</td>\n",
       "      <td>1559211.985985</td>\n",
       "      <td>1616426.712889</td>\n",
       "      <td>1673132.004996</td>\n",
       "      <td>1725400.004996</td>\n",
       "    </tr>\n",
       "    <tr>\n",
       "      <th>2431</th>\n",
       "      <td>58882.558639</td>\n",
       "      <td>118473.071341</td>\n",
       "      <td>181066.366971</td>\n",
       "      <td>243206.497201</td>\n",
       "      <td>305524.009919</td>\n",
       "      <td>372660.489241</td>\n",
       "      <td>443625.320750</td>\n",
       "      <td>518256.200552</td>\n",
       "      <td>594753.705012</td>\n",
       "      <td>675276.344914</td>\n",
       "      <td>...</td>\n",
       "      <td>2021213.268882</td>\n",
       "      <td>2115824.025669</td>\n",
       "      <td>2211309.538525</td>\n",
       "      <td>2308193.900374</td>\n",
       "      <td>2400247.540551</td>\n",
       "      <td>2495440.884947</td>\n",
       "      <td>2591964.701888</td>\n",
       "      <td>2687075.920821</td>\n",
       "      <td>2781340.277992</td>\n",
       "      <td>2868228.277992</td>\n",
       "    </tr>\n",
       "    <tr>\n",
       "      <th>704</th>\n",
       "      <td>28915.396971</td>\n",
       "      <td>58178.448209</td>\n",
       "      <td>88916.072943</td>\n",
       "      <td>119431.162215</td>\n",
       "      <td>150033.358522</td>\n",
       "      <td>183001.999757</td>\n",
       "      <td>217850.625929</td>\n",
       "      <td>254499.534633</td>\n",
       "      <td>292065.084770</td>\n",
       "      <td>331607.253991</td>\n",
       "      <td>...</td>\n",
       "      <td>992555.102622</td>\n",
       "      <td>1039015.508784</td>\n",
       "      <td>1085905.480501</td>\n",
       "      <td>1133482.383541</td>\n",
       "      <td>1178687.069103</td>\n",
       "      <td>1225433.565957</td>\n",
       "      <td>1272833.416584</td>\n",
       "      <td>1319539.584173</td>\n",
       "      <td>1365829.884235</td>\n",
       "      <td>1408497.884235</td>\n",
       "    </tr>\n",
       "    <tr>\n",
       "      <th>776</th>\n",
       "      <td>35606.843246</td>\n",
       "      <td>71641.793049</td>\n",
       "      <td>109492.554246</td>\n",
       "      <td>147069.282017</td>\n",
       "      <td>184753.274666</td>\n",
       "      <td>225351.342253</td>\n",
       "      <td>268264.450820</td>\n",
       "      <td>313394.453658</td>\n",
       "      <td>359653.222180</td>\n",
       "      <td>408346.028387</td>\n",
       "      <td>...</td>\n",
       "      <td>1222246.887644</td>\n",
       "      <td>1279458.912125</td>\n",
       "      <td>1337199.909920</td>\n",
       "      <td>1395786.805007</td>\n",
       "      <td>1451452.516753</td>\n",
       "      <td>1509016.837502</td>\n",
       "      <td>1567385.707654</td>\n",
       "      <td>1624900.366354</td>\n",
       "      <td>1681902.919693</td>\n",
       "      <td>1734444.919693</td>\n",
       "    </tr>\n",
       "  </tbody>\n",
       "</table>\n",
       "<p>5 rows × 33 columns</p>\n",
       "</div>"
      ],
      "text/plain": [
       "              1981           1982           1983           1984  \\\n",
       "222   57829.947364  116389.084269  178404.656280  245648.736379   \n",
       "540   35421.157984   71268.190002  108921.564184  146302.333990   \n",
       "2431  58882.558639  118473.071341  181066.366971  243206.497201   \n",
       "704   28915.396971   58178.448209   88916.072943  119431.162215   \n",
       "776   35606.843246   71641.793049  109492.554246  147069.282017   \n",
       "\n",
       "               1985           1986           1987           1988  \\\n",
       "222   315501.541042  389651.911216  467028.597353  547733.683099   \n",
       "540   183789.809300  224176.163010  266865.485049  311760.140531   \n",
       "2431  305524.009919  372660.489241  443625.320750  518256.200552   \n",
       "704   150033.358522  183001.999757  217850.625929  254499.534633   \n",
       "776   184753.274666  225351.342253  268264.450820  313394.453658   \n",
       "\n",
       "               1989           1990       ...                  2004  \\\n",
       "222   631534.090247  717135.460388       ...        2226489.331504   \n",
       "540   357777.675324  406216.554598       ...        1215873.022028   \n",
       "2431  594753.705012  675276.344914       ...        2021213.268882   \n",
       "704   292065.084770  331607.253991       ...         992555.102622   \n",
       "776   359653.222180  408346.028387       ...        1222246.887644   \n",
       "\n",
       "                2005            2006            2007            2008  \\\n",
       "222   2355316.140285  2484339.303437  2613610.480129  2738751.553140   \n",
       "540   1272786.692911  1330226.578580  1388507.950289  1443883.372267   \n",
       "2431  2115824.025669  2211309.538525  2308193.900374  2400247.540551   \n",
       "704   1039015.508784  1085905.480501  1133482.383541  1178687.069103   \n",
       "776   1279458.912125  1337199.909920  1395786.805007  1451452.516753   \n",
       "\n",
       "                2009            2010            2011            2012  \\\n",
       "222   2866040.856497  2994279.035472  3121629.062074  3248091.468441   \n",
       "540   1501147.502237  1559211.985985  1616426.712889  1673132.004996   \n",
       "2431  2495440.884947  2591964.701888  2687075.920821  2781340.277992   \n",
       "704   1225433.565957  1272833.416584  1319539.584173  1365829.884235   \n",
       "776   1509016.837502  1567385.707654  1624900.366354  1681902.919693   \n",
       "\n",
       "                2013  \n",
       "222   3382885.468441  \n",
       "540   1725400.004996  \n",
       "2431  2868228.277992  \n",
       "704   1408497.884235  \n",
       "776   1734444.919693  \n",
       "\n",
       "[5 rows x 33 columns]"
      ]
     },
     "execution_count": 132,
     "metadata": {},
     "output_type": "execute_result"
    }
   ],
   "source": [
    "df2_cum_sum = df2_reordered.cumsum(axis=1)\n",
    "df2_cum_sum.head()"
   ]
  },
  {
   "cell_type": "code",
   "execution_count": 133,
   "metadata": {
    "collapsed": true
   },
   "outputs": [],
   "source": [
    "df2_cum_sum['id'] = df2_cum_sum.index"
   ]
  },
  {
   "cell_type": "code",
   "execution_count": 134,
   "metadata": {
    "collapsed": false
   },
   "outputs": [
    {
     "data": {
      "text/plain": [
       "222  1981     57829.947364\n",
       "     1982    116389.084269\n",
       "     1983    178404.656280\n",
       "     1984    245648.736379\n",
       "     1985    315501.541042\n",
       "dtype: float64"
      ]
     },
     "execution_count": 134,
     "metadata": {},
     "output_type": "execute_result"
    }
   ],
   "source": [
    "desired_table = df2_cum_sum.stack()\n",
    "desired_table.head()"
   ]
  },
  {
   "cell_type": "code",
   "execution_count": 137,
   "metadata": {
    "collapsed": false
   },
   "outputs": [
    {
     "data": {
      "text/plain": [
       "222  1981      57829.947364\n",
       "     1982     116389.084269\n",
       "     1983     178404.656280\n",
       "     1984     245648.736379\n",
       "     1985     315501.541042\n",
       "     1986     389651.911216\n",
       "     1987     467028.597353\n",
       "     1988     547733.683099\n",
       "     1989     631534.090247\n",
       "     1990     717135.460388\n",
       "     1991     806392.460607\n",
       "     1992     900622.831066\n",
       "     1993     996976.133792\n",
       "     1994    1095759.749885\n",
       "     1995    1196450.959860\n",
       "     1996    1299003.213072\n",
       "     1997    1406182.935623\n",
       "     1998    1516512.366582\n",
       "     1999    1630013.344499\n",
       "     2000    1745073.508649\n",
       "     2001    1860827.344050\n",
       "     2002    1979635.373579\n",
       "     2003    2098500.874611\n",
       "     2004    2226489.331504\n",
       "     2005    2355316.140285\n",
       "     2006    2484339.303437\n",
       "     2007    2613610.480129\n",
       "     2008    2738751.553140\n",
       "     2009    2866040.856497\n",
       "     2010    2994279.035472\n",
       "     2011    3121629.062074\n",
       "     2012    3248091.468441\n",
       "     2013    3382885.468441\n",
       "     id          222.000000\n",
       "540  1981      35421.157984\n",
       "     1982      71268.190002\n",
       "     1983     108921.564184\n",
       "     1984     146302.333990\n",
       "     1985     183789.809300\n",
       "     1986     224176.163010\n",
       "     1987     266865.485049\n",
       "     1988     311760.140531\n",
       "     1989     357777.675324\n",
       "     1990     406216.554598\n",
       "     1991     455630.830217\n",
       "     1992     506186.685296\n",
       "     1993     558186.467051\n",
       "     1994     612796.207509\n",
       "     1995     669191.128045\n",
       "     1996     725237.078753\n",
       "dtype: float64"
      ]
     },
     "execution_count": 137,
     "metadata": {},
     "output_type": "execute_result"
    }
   ],
   "source": [
    "desired_table.head(50)"
   ]
  },
  {
   "cell_type": "code",
   "execution_count": 31,
   "metadata": {
    "collapsed": true
   },
   "outputs": [],
   "source": [
    "def fillESALs(row):\n",
    "    index = row['UID']\n",
    "    value = str(row['sYear'])\n",
    "    return df2.loc[index, value]"
   ]
  },
  {
   "cell_type": "code",
   "execution_count": 32,
   "metadata": {
    "collapsed": true
   },
   "outputs": [],
   "source": [
    "sds = ds[ds.sYear < 2014]"
   ]
  },
  {
   "cell_type": "code",
   "execution_count": 33,
   "metadata": {
    "collapsed": false
   },
   "outputs": [],
   "source": [
    "#\"Extrapolated\" ESALs..\n",
    "sds.loc[:,'ESALs'] = sds.apply(fillESALs, axis = 1)"
   ]
  },
  {
   "cell_type": "code",
   "execution_count": 34,
   "metadata": {
    "collapsed": true
   },
   "outputs": [],
   "source": [
    "#Exporting the almost complete dataset\n",
    "sds.to_csv(\"../FinalDatasets/CPMdatasetWesals.csv\") "
   ]
  },
  {
   "cell_type": "code",
   "execution_count": 35,
   "metadata": {
    "collapsed": false
   },
   "outputs": [
    {
     "data": {
      "text/html": [
       "<div>\n",
       "<table border=\"1\" class=\"dataframe\">\n",
       "  <thead>\n",
       "    <tr style=\"text-align: right;\">\n",
       "      <th></th>\n",
       "      <th>Unnamed: 0</th>\n",
       "      <th>sYear</th>\n",
       "      <th>Rutting</th>\n",
       "      <th>IRI</th>\n",
       "      <th>PSC</th>\n",
       "      <th>IntID</th>\n",
       "      <th>Alli</th>\n",
       "      <th>Long</th>\n",
       "      <th>Low Flexible Patching</th>\n",
       "      <th>Medium Flexible Patching</th>\n",
       "      <th>...</th>\n",
       "      <th>Total Surface Thickness</th>\n",
       "      <th>Listed Surface Type</th>\n",
       "      <th>Pavement Type</th>\n",
       "      <th>Construction Pavement Type</th>\n",
       "      <th>Major Rehab Type</th>\n",
       "      <th>Prior Major Rehab Year</th>\n",
       "      <th>Prior Major Rehab Type</th>\n",
       "      <th>AlliP</th>\n",
       "      <th>LongP</th>\n",
       "      <th>STcode</th>\n",
       "    </tr>\n",
       "  </thead>\n",
       "  <tbody>\n",
       "    <tr>\n",
       "      <th>0</th>\n",
       "      <td>0</td>\n",
       "      <td>1981</td>\n",
       "      <td>0.236</td>\n",
       "      <td>190.039</td>\n",
       "      <td>92</td>\n",
       "      <td>4</td>\n",
       "      <td>0</td>\n",
       "      <td>46</td>\n",
       "      <td>0</td>\n",
       "      <td>0</td>\n",
       "      <td>...</td>\n",
       "      <td>0.15</td>\n",
       "      <td>ACP</td>\n",
       "      <td>Composite</td>\n",
       "      <td>PCCP</td>\n",
       "      <td>ACP</td>\n",
       "      <td>1989</td>\n",
       "      <td>ACP</td>\n",
       "      <td>0.000000</td>\n",
       "      <td>3.960055</td>\n",
       "      <td>PA</td>\n",
       "    </tr>\n",
       "    <tr>\n",
       "      <th>1</th>\n",
       "      <td>1</td>\n",
       "      <td>1981</td>\n",
       "      <td>0.236</td>\n",
       "      <td>190.039</td>\n",
       "      <td>92</td>\n",
       "      <td>4</td>\n",
       "      <td>0</td>\n",
       "      <td>46</td>\n",
       "      <td>0</td>\n",
       "      <td>0</td>\n",
       "      <td>...</td>\n",
       "      <td>0.15</td>\n",
       "      <td>ACP</td>\n",
       "      <td>Composite</td>\n",
       "      <td>PCCP</td>\n",
       "      <td>ACP</td>\n",
       "      <td>1989</td>\n",
       "      <td>ACP</td>\n",
       "      <td>0.000000</td>\n",
       "      <td>3.960055</td>\n",
       "      <td>BA</td>\n",
       "    </tr>\n",
       "    <tr>\n",
       "      <th>2</th>\n",
       "      <td>2</td>\n",
       "      <td>1981</td>\n",
       "      <td>0.236</td>\n",
       "      <td>190.039</td>\n",
       "      <td>92</td>\n",
       "      <td>4</td>\n",
       "      <td>0</td>\n",
       "      <td>46</td>\n",
       "      <td>0</td>\n",
       "      <td>0</td>\n",
       "      <td>...</td>\n",
       "      <td>0.15</td>\n",
       "      <td>ACP</td>\n",
       "      <td>Composite</td>\n",
       "      <td>PCCP</td>\n",
       "      <td>ACP</td>\n",
       "      <td>1989</td>\n",
       "      <td>ACP</td>\n",
       "      <td>0.000000</td>\n",
       "      <td>3.960055</td>\n",
       "      <td>Other</td>\n",
       "    </tr>\n",
       "    <tr>\n",
       "      <th>3</th>\n",
       "      <td>3</td>\n",
       "      <td>1981</td>\n",
       "      <td>0.236</td>\n",
       "      <td>226.083</td>\n",
       "      <td>83</td>\n",
       "      <td>12</td>\n",
       "      <td>0</td>\n",
       "      <td>0</td>\n",
       "      <td>0</td>\n",
       "      <td>16</td>\n",
       "      <td>...</td>\n",
       "      <td>0.90</td>\n",
       "      <td>ACP</td>\n",
       "      <td>ACP</td>\n",
       "      <td>Unknown</td>\n",
       "      <td>ACP</td>\n",
       "      <td>1984</td>\n",
       "      <td>ACP</td>\n",
       "      <td>0.000000</td>\n",
       "      <td>0.000000</td>\n",
       "      <td>Other</td>\n",
       "    </tr>\n",
       "    <tr>\n",
       "      <th>4</th>\n",
       "      <td>4</td>\n",
       "      <td>1981</td>\n",
       "      <td>0.512</td>\n",
       "      <td>245.150</td>\n",
       "      <td>37</td>\n",
       "      <td>24</td>\n",
       "      <td>63</td>\n",
       "      <td>158</td>\n",
       "      <td>52</td>\n",
       "      <td>0</td>\n",
       "      <td>...</td>\n",
       "      <td>0.98</td>\n",
       "      <td>ACP</td>\n",
       "      <td>Composite</td>\n",
       "      <td>PCCP</td>\n",
       "      <td>ACP</td>\n",
       "      <td>1987</td>\n",
       "      <td>ACP</td>\n",
       "      <td>5.965909</td>\n",
       "      <td>14.962121</td>\n",
       "      <td>BA</td>\n",
       "    </tr>\n",
       "  </tbody>\n",
       "</table>\n",
       "<p>5 rows × 52 columns</p>\n",
       "</div>"
      ],
      "text/plain": [
       "   Unnamed: 0  sYear  Rutting      IRI  PSC  IntID  Alli  Long  \\\n",
       "0           0   1981    0.236  190.039   92      4     0    46   \n",
       "1           1   1981    0.236  190.039   92      4     0    46   \n",
       "2           2   1981    0.236  190.039   92      4     0    46   \n",
       "3           3   1981    0.236  226.083   83     12     0     0   \n",
       "4           4   1981    0.512  245.150   37     24    63   158   \n",
       "\n",
       "   Low Flexible Patching  Medium Flexible Patching  ...    \\\n",
       "0                      0                         0  ...     \n",
       "1                      0                         0  ...     \n",
       "2                      0                         0  ...     \n",
       "3                      0                        16  ...     \n",
       "4                     52                         0  ...     \n",
       "\n",
       "   Total Surface Thickness  Listed Surface Type  Pavement Type  \\\n",
       "0                     0.15                  ACP      Composite   \n",
       "1                     0.15                  ACP      Composite   \n",
       "2                     0.15                  ACP      Composite   \n",
       "3                     0.90                  ACP            ACP   \n",
       "4                     0.98                  ACP      Composite   \n",
       "\n",
       "   Construction Pavement Type  Major Rehab Type  Prior Major Rehab Year  \\\n",
       "0                        PCCP               ACP                    1989   \n",
       "1                        PCCP               ACP                    1989   \n",
       "2                        PCCP               ACP                    1989   \n",
       "3                     Unknown               ACP                    1984   \n",
       "4                        PCCP               ACP                    1987   \n",
       "\n",
       "   Prior Major Rehab Type     AlliP      LongP STcode  \n",
       "0                     ACP  0.000000   3.960055     PA  \n",
       "1                     ACP  0.000000   3.960055     BA  \n",
       "2                     ACP  0.000000   3.960055  Other  \n",
       "3                     ACP  0.000000   0.000000  Other  \n",
       "4                     ACP  5.965909  14.962121     BA  \n",
       "\n",
       "[5 rows x 52 columns]"
      ]
     },
     "execution_count": 35,
     "metadata": {},
     "output_type": "execute_result"
    }
   ],
   "source": [
    "sds.head()"
   ]
  },
  {
   "cell_type": "markdown",
   "metadata": {},
   "source": [
    "# Adding coordinates to dataset to identify segment locations"
   ]
  },
  {
   "cell_type": "code",
   "execution_count": 37,
   "metadata": {
    "collapsed": false
   },
   "outputs": [],
   "source": [
    "milePost = pd.read_csv(\"../FinalDatasets/mileposts.csv\")"
   ]
  },
  {
   "cell_type": "code",
   "execution_count": 38,
   "metadata": {
    "collapsed": false
   },
   "outputs": [
    {
     "data": {
      "text/html": [
       "<div>\n",
       "<table border=\"1\" class=\"dataframe\">\n",
       "  <thead>\n",
       "    <tr style=\"text-align: right;\">\n",
       "      <th></th>\n",
       "      <th>MP_VALUE</th>\n",
       "      <th>SR</th>\n",
       "      <th>LONGITUDE</th>\n",
       "      <th>LATITUDE</th>\n",
       "      <th>REGION</th>\n",
       "    </tr>\n",
       "  </thead>\n",
       "  <tbody>\n",
       "    <tr>\n",
       "      <th>0</th>\n",
       "      <td>1</td>\n",
       "      <td>2</td>\n",
       "      <td>-122.169366</td>\n",
       "      <td>47.978215</td>\n",
       "      <td>NW</td>\n",
       "    </tr>\n",
       "    <tr>\n",
       "      <th>1</th>\n",
       "      <td>1</td>\n",
       "      <td>2</td>\n",
       "      <td>-122.167960</td>\n",
       "      <td>47.978424</td>\n",
       "      <td>NW</td>\n",
       "    </tr>\n",
       "    <tr>\n",
       "      <th>2</th>\n",
       "      <td>2</td>\n",
       "      <td>2</td>\n",
       "      <td>-122.147555</td>\n",
       "      <td>47.978414</td>\n",
       "      <td>NW</td>\n",
       "    </tr>\n",
       "    <tr>\n",
       "      <th>3</th>\n",
       "      <td>3</td>\n",
       "      <td>2</td>\n",
       "      <td>-122.133338</td>\n",
       "      <td>47.970205</td>\n",
       "      <td>NW</td>\n",
       "    </tr>\n",
       "    <tr>\n",
       "      <th>4</th>\n",
       "      <td>3</td>\n",
       "      <td>2</td>\n",
       "      <td>-122.132785</td>\n",
       "      <td>47.970380</td>\n",
       "      <td>NW</td>\n",
       "    </tr>\n",
       "  </tbody>\n",
       "</table>\n",
       "</div>"
      ],
      "text/plain": [
       "   MP_VALUE SR   LONGITUDE   LATITUDE REGION\n",
       "0         1  2 -122.169366  47.978215     NW\n",
       "1         1  2 -122.167960  47.978424     NW\n",
       "2         2  2 -122.147555  47.978414     NW\n",
       "3         3  2 -122.133338  47.970205     NW\n",
       "4         3  2 -122.132785  47.970380     NW"
      ]
     },
     "execution_count": 38,
     "metadata": {},
     "output_type": "execute_result"
    }
   ],
   "source": [
    "milePost.head()"
   ]
  },
  {
   "cell_type": "code",
   "execution_count": 49,
   "metadata": {
    "collapsed": false
   },
   "outputs": [
    {
     "name": "stdout",
     "output_type": "stream",
     "text": [
      "[  2   3   4   5   6   7   8   9  10  11  12  14  16  17  18  19  20  21\n",
      "  22  23  24  25  26  27  28  31  41  82  90  92  96  97  99 100 101 102\n",
      " 103 104 105 106 107 108 109 110 112 113 115 116 117 119 121 122 123 124\n",
      " 125 127 128 129 131 141 142 150 153 155 160 161 162 163 164 165 166 167\n",
      " 169 170 172 173 174 181 182 193 194 195 197 202 203 204 205 206 207 211\n",
      " 215 221 223 224 225 231 240 241 243 260 261 262 263 270 271 272 274 278\n",
      " 281 282 283 290 291 292 300 302 303 305 307 308 310 395 397 401 405 409\n",
      " 410 411 432 500 501 502 503 504 505 506 507 508 509 510 512 515 516 518\n",
      " 520 522 524 525 526 527 529 530 531 532 534 536 538 539 542 544 546 547\n",
      " 548 702 705 706 730 821 823 900 902 903 904 908 970 971]\n"
     ]
    }
   ],
   "source": [
    "routeNames = np.unique(np.array(milePost.SR))\n",
    "print routeNames"
   ]
  },
  {
   "cell_type": "code",
   "execution_count": 50,
   "metadata": {
    "collapsed": false
   },
   "outputs": [],
   "source": [
    "# for name in routeNames:\n",
    "#     if len(name) > 3:\n",
    "#         print int(float(re.findall(\"[-+]?\\d+[\\.]?\\d*\", name)[0]))"
   ]
  },
  {
   "cell_type": "code",
   "execution_count": 47,
   "metadata": {
    "collapsed": true
   },
   "outputs": [],
   "source": [
    "import re\n",
    "def change2ints(row):\n",
    "    sr = row['SR']\n",
    "    if len(sr) > 3:\n",
    "        return int(float(re.findall(\"[-+]?\\d+[\\.]?\\d*\", name)[0]))\n",
    "    return int(sr)"
   ]
  },
  {
   "cell_type": "code",
   "execution_count": 48,
   "metadata": {
    "collapsed": true
   },
   "outputs": [],
   "source": [
    "milePost.loc[:,'SR'] = milePost.apply(change2ints, axis = 1)"
   ]
  },
  {
   "cell_type": "code",
   "execution_count": 53,
   "metadata": {
    "collapsed": false
   },
   "outputs": [],
   "source": [
    "db = milePost[['LONGITUDE', 'LATITUDE', 'MP_VALUE', 'SR']] "
   ]
  },
  {
   "cell_type": "code",
   "execution_count": 54,
   "metadata": {
    "collapsed": false
   },
   "outputs": [
    {
     "data": {
      "text/html": [
       "<div>\n",
       "<table border=\"1\" class=\"dataframe\">\n",
       "  <thead>\n",
       "    <tr style=\"text-align: right;\">\n",
       "      <th></th>\n",
       "      <th>LONGITUDE</th>\n",
       "      <th>LATITUDE</th>\n",
       "      <th>MP_VALUE</th>\n",
       "      <th>SR</th>\n",
       "    </tr>\n",
       "  </thead>\n",
       "  <tbody>\n",
       "    <tr>\n",
       "      <th>0</th>\n",
       "      <td>-122.169366</td>\n",
       "      <td>47.978215</td>\n",
       "      <td>1</td>\n",
       "      <td>2</td>\n",
       "    </tr>\n",
       "    <tr>\n",
       "      <th>1</th>\n",
       "      <td>-122.167960</td>\n",
       "      <td>47.978424</td>\n",
       "      <td>1</td>\n",
       "      <td>2</td>\n",
       "    </tr>\n",
       "    <tr>\n",
       "      <th>2</th>\n",
       "      <td>-122.147555</td>\n",
       "      <td>47.978414</td>\n",
       "      <td>2</td>\n",
       "      <td>2</td>\n",
       "    </tr>\n",
       "    <tr>\n",
       "      <th>3</th>\n",
       "      <td>-122.133338</td>\n",
       "      <td>47.970205</td>\n",
       "      <td>3</td>\n",
       "      <td>2</td>\n",
       "    </tr>\n",
       "    <tr>\n",
       "      <th>4</th>\n",
       "      <td>-122.132785</td>\n",
       "      <td>47.970380</td>\n",
       "      <td>3</td>\n",
       "      <td>2</td>\n",
       "    </tr>\n",
       "  </tbody>\n",
       "</table>\n",
       "</div>"
      ],
      "text/plain": [
       "    LONGITUDE   LATITUDE  MP_VALUE  SR\n",
       "0 -122.169366  47.978215         1   2\n",
       "1 -122.167960  47.978424         1   2\n",
       "2 -122.147555  47.978414         2   2\n",
       "3 -122.133338  47.970205         3   2\n",
       "4 -122.132785  47.970380         3   2"
      ]
     },
     "execution_count": 54,
     "metadata": {},
     "output_type": "execute_result"
    }
   ],
   "source": [
    "db.head()"
   ]
  },
  {
   "cell_type": "code",
   "execution_count": 59,
   "metadata": {
    "collapsed": false
   },
   "outputs": [
    {
     "name": "stdout",
     "output_type": "stream",
     "text": [
      "1\n",
      "[[-122.169366   47.978215    1.          2.      ]\n",
      " [-122.16796    47.978424    1.          2.      ]\n",
      " [-122.147555   47.978414    2.          2.      ]]\n"
     ]
    }
   ],
   "source": [
    "print int(1.98)\n",
    "sr = 2\n",
    "bmp = 0.99\n",
    "print np.array(db[((db.loc[:,'MP_VALUE'] > bmp) & (db.loc[:,'MP_VALUE'] < (bmp+2))) & (db.loc[:,'SR'] == sr)])"
   ]
  },
  {
   "cell_type": "code",
   "execution_count": 76,
   "metadata": {
    "collapsed": true
   },
   "outputs": [],
   "source": [
    "def getLat(row):\n",
    "    sr = row['SR']\n",
    "    bmp = int(row['Begin ARM'])\n",
    "#     emp = int(row['End ARM'])\n",
    "    res = np.array(db[((db.loc[:,'MP_VALUE'] > (bmp-1)) & (db.loc[:,'MP_VALUE'] < (bmp+4))) & (db.loc[:,'SR'] == sr)])\n",
    "    if len(res) > 0:\n",
    "        coordinates = res[0][0:2]\n",
    "        x = coordinates[0]\n",
    "        return coordinates[1]\n",
    "    return None\n",
    "sds.loc[:,'Latitude'] = sds.apply(getLat, axis = 1)"
   ]
  },
  {
   "cell_type": "code",
   "execution_count": 77,
   "metadata": {
    "collapsed": false
   },
   "outputs": [],
   "source": [
    "def getLong(row):\n",
    "    sr = row['SR']\n",
    "    bmp = int(row['Begin ARM'])+1\n",
    "#     emp = int(row['End ARM'])+1\n",
    "    res = np.array(db[((db.loc[:,'MP_VALUE'] > (bmp-1)) & (db.loc[:,'MP_VALUE'] < (bmp+4))) & (db.loc[:,'SR'] == sr)])\n",
    "    if len(res) > 0:\n",
    "        coordinates = res[0][0:2]\n",
    "        return coordinates[0]\n",
    "#         return coordinates[1]\n",
    "    return None\n",
    "sds.loc[:,'Longitude'] = sds.apply(getLong, axis = 1)"
   ]
  },
  {
   "cell_type": "code",
   "execution_count": 65,
   "metadata": {
    "collapsed": false
   },
   "outputs": [
    {
     "data": {
      "text/html": [
       "<div>\n",
       "<table border=\"1\" class=\"dataframe\">\n",
       "  <thead>\n",
       "    <tr style=\"text-align: right;\">\n",
       "      <th></th>\n",
       "      <th>Unnamed: 0</th>\n",
       "      <th>sYear</th>\n",
       "      <th>Rutting</th>\n",
       "      <th>IRI</th>\n",
       "      <th>PSC</th>\n",
       "      <th>IntID</th>\n",
       "      <th>Alli</th>\n",
       "      <th>Long</th>\n",
       "      <th>Low Flexible Patching</th>\n",
       "      <th>Medium Flexible Patching</th>\n",
       "      <th>...</th>\n",
       "      <th>Pavement Type</th>\n",
       "      <th>Construction Pavement Type</th>\n",
       "      <th>Major Rehab Type</th>\n",
       "      <th>Prior Major Rehab Year</th>\n",
       "      <th>Prior Major Rehab Type</th>\n",
       "      <th>AlliP</th>\n",
       "      <th>LongP</th>\n",
       "      <th>STcode</th>\n",
       "      <th>Latitude</th>\n",
       "      <th>Longitude</th>\n",
       "    </tr>\n",
       "  </thead>\n",
       "  <tbody>\n",
       "    <tr>\n",
       "      <th>0</th>\n",
       "      <td>0</td>\n",
       "      <td>1981</td>\n",
       "      <td>0.236</td>\n",
       "      <td>190.039</td>\n",
       "      <td>92</td>\n",
       "      <td>4</td>\n",
       "      <td>0</td>\n",
       "      <td>46</td>\n",
       "      <td>0</td>\n",
       "      <td>0</td>\n",
       "      <td>...</td>\n",
       "      <td>Composite</td>\n",
       "      <td>PCCP</td>\n",
       "      <td>ACP</td>\n",
       "      <td>1989</td>\n",
       "      <td>ACP</td>\n",
       "      <td>0.000000</td>\n",
       "      <td>3.960055</td>\n",
       "      <td>PA</td>\n",
       "      <td>47.863551</td>\n",
       "      <td>-121.781888</td>\n",
       "    </tr>\n",
       "    <tr>\n",
       "      <th>1</th>\n",
       "      <td>1</td>\n",
       "      <td>1981</td>\n",
       "      <td>0.236</td>\n",
       "      <td>190.039</td>\n",
       "      <td>92</td>\n",
       "      <td>4</td>\n",
       "      <td>0</td>\n",
       "      <td>46</td>\n",
       "      <td>0</td>\n",
       "      <td>0</td>\n",
       "      <td>...</td>\n",
       "      <td>Composite</td>\n",
       "      <td>PCCP</td>\n",
       "      <td>ACP</td>\n",
       "      <td>1989</td>\n",
       "      <td>ACP</td>\n",
       "      <td>0.000000</td>\n",
       "      <td>3.960055</td>\n",
       "      <td>BA</td>\n",
       "      <td>47.863551</td>\n",
       "      <td>-121.781888</td>\n",
       "    </tr>\n",
       "    <tr>\n",
       "      <th>2</th>\n",
       "      <td>2</td>\n",
       "      <td>1981</td>\n",
       "      <td>0.236</td>\n",
       "      <td>190.039</td>\n",
       "      <td>92</td>\n",
       "      <td>4</td>\n",
       "      <td>0</td>\n",
       "      <td>46</td>\n",
       "      <td>0</td>\n",
       "      <td>0</td>\n",
       "      <td>...</td>\n",
       "      <td>Composite</td>\n",
       "      <td>PCCP</td>\n",
       "      <td>ACP</td>\n",
       "      <td>1989</td>\n",
       "      <td>ACP</td>\n",
       "      <td>0.000000</td>\n",
       "      <td>3.960055</td>\n",
       "      <td>Other</td>\n",
       "      <td>47.863551</td>\n",
       "      <td>-121.781888</td>\n",
       "    </tr>\n",
       "    <tr>\n",
       "      <th>3</th>\n",
       "      <td>3</td>\n",
       "      <td>1981</td>\n",
       "      <td>0.236</td>\n",
       "      <td>226.083</td>\n",
       "      <td>83</td>\n",
       "      <td>12</td>\n",
       "      <td>0</td>\n",
       "      <td>0</td>\n",
       "      <td>0</td>\n",
       "      <td>16</td>\n",
       "      <td>...</td>\n",
       "      <td>ACP</td>\n",
       "      <td>Unknown</td>\n",
       "      <td>ACP</td>\n",
       "      <td>1984</td>\n",
       "      <td>ACP</td>\n",
       "      <td>0.000000</td>\n",
       "      <td>0.000000</td>\n",
       "      <td>Other</td>\n",
       "      <td>47.716004</td>\n",
       "      <td>-121.231507</td>\n",
       "    </tr>\n",
       "    <tr>\n",
       "      <th>4</th>\n",
       "      <td>4</td>\n",
       "      <td>1981</td>\n",
       "      <td>0.512</td>\n",
       "      <td>245.150</td>\n",
       "      <td>37</td>\n",
       "      <td>24</td>\n",
       "      <td>63</td>\n",
       "      <td>158</td>\n",
       "      <td>52</td>\n",
       "      <td>0</td>\n",
       "      <td>...</td>\n",
       "      <td>Composite</td>\n",
       "      <td>PCCP</td>\n",
       "      <td>ACP</td>\n",
       "      <td>1987</td>\n",
       "      <td>ACP</td>\n",
       "      <td>5.965909</td>\n",
       "      <td>14.962121</td>\n",
       "      <td>BA</td>\n",
       "      <td>47.642802</td>\n",
       "      <td>-118.279214</td>\n",
       "    </tr>\n",
       "  </tbody>\n",
       "</table>\n",
       "<p>5 rows × 54 columns</p>\n",
       "</div>"
      ],
      "text/plain": [
       "   Unnamed: 0  sYear  Rutting      IRI  PSC  IntID  Alli  Long  \\\n",
       "0           0   1981    0.236  190.039   92      4     0    46   \n",
       "1           1   1981    0.236  190.039   92      4     0    46   \n",
       "2           2   1981    0.236  190.039   92      4     0    46   \n",
       "3           3   1981    0.236  226.083   83     12     0     0   \n",
       "4           4   1981    0.512  245.150   37     24    63   158   \n",
       "\n",
       "   Low Flexible Patching  Medium Flexible Patching     ...      Pavement Type  \\\n",
       "0                      0                         0     ...          Composite   \n",
       "1                      0                         0     ...          Composite   \n",
       "2                      0                         0     ...          Composite   \n",
       "3                      0                        16     ...                ACP   \n",
       "4                     52                         0     ...          Composite   \n",
       "\n",
       "   Construction Pavement Type  Major Rehab Type  Prior Major Rehab Year  \\\n",
       "0                        PCCP               ACP                    1989   \n",
       "1                        PCCP               ACP                    1989   \n",
       "2                        PCCP               ACP                    1989   \n",
       "3                     Unknown               ACP                    1984   \n",
       "4                        PCCP               ACP                    1987   \n",
       "\n",
       "   Prior Major Rehab Type     AlliP      LongP  STcode   Latitude   Longitude  \n",
       "0                     ACP  0.000000   3.960055      PA  47.863551 -121.781888  \n",
       "1                     ACP  0.000000   3.960055      BA  47.863551 -121.781888  \n",
       "2                     ACP  0.000000   3.960055   Other  47.863551 -121.781888  \n",
       "3                     ACP  0.000000   0.000000   Other  47.716004 -121.231507  \n",
       "4                     ACP  5.965909  14.962121      BA  47.642802 -118.279214  \n",
       "\n",
       "[5 rows x 54 columns]"
      ]
     },
     "execution_count": 65,
     "metadata": {},
     "output_type": "execute_result"
    }
   ],
   "source": [
    "sds.head()"
   ]
  },
  {
   "cell_type": "code",
   "execution_count": 78,
   "metadata": {
    "collapsed": false
   },
   "outputs": [],
   "source": [
    "cdf = sds.drop_duplicates(subset = ['UID'])"
   ]
  },
  {
   "cell_type": "code",
   "execution_count": 84,
   "metadata": {
    "collapsed": false
   },
   "outputs": [],
   "source": [
    "cleaned = cdf[~np.isnan(cdf.Longitude)]\n",
    "cleaned = cleaned[~np.isnan(cleaned.Latitude)]"
   ]
  },
  {
   "cell_type": "code",
   "execution_count": 85,
   "metadata": {
    "collapsed": false
   },
   "outputs": [
    {
     "name": "stdout",
     "output_type": "stream",
     "text": [
      "9585\n",
      "8938\n"
     ]
    }
   ],
   "source": [
    "print len(cdf)\n",
    "print len(cleaned)"
   ]
  },
  {
   "cell_type": "code",
   "execution_count": 86,
   "metadata": {
    "collapsed": true
   },
   "outputs": [],
   "source": [
    "cleaned.index = range(len(cleaned))\n",
    "coordata = cleaned[['UID', 'Longitude', 'Latitude']]"
   ]
  },
  {
   "cell_type": "code",
   "execution_count": 87,
   "metadata": {
    "collapsed": true
   },
   "outputs": [],
   "source": [
    "coordata.to_csv('../FinalDatasets/RCsegCoord.csv')"
   ]
  },
  {
   "cell_type": "code",
   "execution_count": 88,
   "metadata": {
    "collapsed": true
   },
   "outputs": [],
   "source": [
    "sds = sds[~np.isnan(sds.Longitude)]\n",
    "sds = sds[~np.isnan(sds.Latitude)]"
   ]
  },
  {
   "cell_type": "code",
   "execution_count": 89,
   "metadata": {
    "collapsed": false
   },
   "outputs": [
    {
     "name": "stdout",
     "output_type": "stream",
     "text": [
      "427989\n"
     ]
    }
   ],
   "source": [
    "print len(sds)"
   ]
  },
  {
   "cell_type": "code",
   "execution_count": 90,
   "metadata": {
    "collapsed": true
   },
   "outputs": [],
   "source": [
    "sds.to_csv('../FinalDatasets/RoughnessCrackingDataset.csv')"
   ]
  },
  {
   "cell_type": "code",
   "execution_count": 93,
   "metadata": {
    "collapsed": false
   },
   "outputs": [
    {
     "data": {
      "text/html": [
       "<div>\n",
       "<table border=\"1\" class=\"dataframe\">\n",
       "  <thead>\n",
       "    <tr style=\"text-align: right;\">\n",
       "      <th></th>\n",
       "      <th>UID</th>\n",
       "      <th>cYear</th>\n",
       "      <th>Major Rehab Year</th>\n",
       "      <th>Prior Major Rehab Year</th>\n",
       "    </tr>\n",
       "  </thead>\n",
       "  <tbody>\n",
       "    <tr>\n",
       "      <th>0</th>\n",
       "      <td>222</td>\n",
       "      <td>1941</td>\n",
       "      <td>2000</td>\n",
       "      <td>1989</td>\n",
       "    </tr>\n",
       "    <tr>\n",
       "      <th>1</th>\n",
       "      <td>222</td>\n",
       "      <td>1989</td>\n",
       "      <td>2000</td>\n",
       "      <td>1989</td>\n",
       "    </tr>\n",
       "    <tr>\n",
       "      <th>2</th>\n",
       "      <td>222</td>\n",
       "      <td>2000</td>\n",
       "      <td>2000</td>\n",
       "      <td>1989</td>\n",
       "    </tr>\n",
       "    <tr>\n",
       "      <th>3</th>\n",
       "      <td>540</td>\n",
       "      <td>1999</td>\n",
       "      <td>1998</td>\n",
       "      <td>1984</td>\n",
       "    </tr>\n",
       "    <tr>\n",
       "      <th>4</th>\n",
       "      <td>2431</td>\n",
       "      <td>1987</td>\n",
       "      <td>1999</td>\n",
       "      <td>1987</td>\n",
       "    </tr>\n",
       "  </tbody>\n",
       "</table>\n",
       "</div>"
      ],
      "text/plain": [
       "    UID  cYear  Major Rehab Year  Prior Major Rehab Year\n",
       "0   222   1941              2000                    1989\n",
       "1   222   1989              2000                    1989\n",
       "2   222   2000              2000                    1989\n",
       "3   540   1999              1998                    1984\n",
       "4  2431   1987              1999                    1987"
      ]
     },
     "execution_count": 93,
     "metadata": {},
     "output_type": "execute_result"
    }
   ],
   "source": [
    "sds[['UID', 'cYear', 'Major Rehab Year', 'Prior Major Rehab Year']].head()"
   ]
  },
  {
   "cell_type": "code",
   "execution_count": 95,
   "metadata": {
    "collapsed": false
   },
   "outputs": [
    {
     "name": "stdout",
     "output_type": "stream",
     "text": [
      "6875\n"
     ]
    }
   ],
   "source": [
    "print len(np.unique(np.array(sds[sds.cYear > 1970].UID)))"
   ]
  },
  {
   "cell_type": "code",
   "execution_count": 96,
   "metadata": {
    "collapsed": false
   },
   "outputs": [
    {
     "data": {
      "text/html": [
       "<div>\n",
       "<table border=\"1\" class=\"dataframe\">\n",
       "  <thead>\n",
       "    <tr style=\"text-align: right;\">\n",
       "      <th></th>\n",
       "      <th>UID</th>\n",
       "      <th>Functional_Class</th>\n",
       "      <th>2013</th>\n",
       "      <th>Class</th>\n",
       "      <th>2012</th>\n",
       "      <th>2011</th>\n",
       "      <th>2010</th>\n",
       "      <th>2009</th>\n",
       "      <th>2008</th>\n",
       "      <th>2007</th>\n",
       "      <th>...</th>\n",
       "      <th>1990</th>\n",
       "      <th>1989</th>\n",
       "      <th>1988</th>\n",
       "      <th>1987</th>\n",
       "      <th>1986</th>\n",
       "      <th>1985</th>\n",
       "      <th>1984</th>\n",
       "      <th>1983</th>\n",
       "      <th>1982</th>\n",
       "      <th>1981</th>\n",
       "    </tr>\n",
       "  </thead>\n",
       "  <tbody>\n",
       "    <tr>\n",
       "      <th>0</th>\n",
       "      <td>222</td>\n",
       "      <td>Urban Other Principal Arterial</td>\n",
       "      <td>134794</td>\n",
       "      <td>Urban</td>\n",
       "      <td>126462.406367</td>\n",
       "      <td>127350.026602</td>\n",
       "      <td>128238.178975</td>\n",
       "      <td>127289.303357</td>\n",
       "      <td>125141.073011</td>\n",
       "      <td>129271.176692</td>\n",
       "      <td>...</td>\n",
       "      <td>85601.370140</td>\n",
       "      <td>83800.407148</td>\n",
       "      <td>80705.085746</td>\n",
       "      <td>77376.686137</td>\n",
       "      <td>74150.370174</td>\n",
       "      <td>69852.804663</td>\n",
       "      <td>67244.080099</td>\n",
       "      <td>62015.572011</td>\n",
       "      <td>58559.136905</td>\n",
       "      <td>57829.947364</td>\n",
       "    </tr>\n",
       "    <tr>\n",
       "      <th>3</th>\n",
       "      <td>540</td>\n",
       "      <td>Rural Other Principal Arterial</td>\n",
       "      <td>52268</td>\n",
       "      <td>Rural</td>\n",
       "      <td>56705.292107</td>\n",
       "      <td>57214.726903</td>\n",
       "      <td>58064.483748</td>\n",
       "      <td>57264.129970</td>\n",
       "      <td>55375.421978</td>\n",
       "      <td>58281.371710</td>\n",
       "      <td>...</td>\n",
       "      <td>48438.879274</td>\n",
       "      <td>46017.534794</td>\n",
       "      <td>44894.655482</td>\n",
       "      <td>42689.322039</td>\n",
       "      <td>40386.353710</td>\n",
       "      <td>37487.475310</td>\n",
       "      <td>37380.769806</td>\n",
       "      <td>37653.374182</td>\n",
       "      <td>35847.032017</td>\n",
       "      <td>35421.157984</td>\n",
       "    </tr>\n",
       "    <tr>\n",
       "      <th>4</th>\n",
       "      <td>2431</td>\n",
       "      <td>Rural Other Principal Arterial</td>\n",
       "      <td>86888</td>\n",
       "      <td>Rural</td>\n",
       "      <td>94264.357171</td>\n",
       "      <td>95111.218933</td>\n",
       "      <td>96523.816942</td>\n",
       "      <td>95193.344396</td>\n",
       "      <td>92053.640177</td>\n",
       "      <td>96884.361849</td>\n",
       "      <td>...</td>\n",
       "      <td>80522.639901</td>\n",
       "      <td>76497.504460</td>\n",
       "      <td>74630.879802</td>\n",
       "      <td>70964.831509</td>\n",
       "      <td>67136.479321</td>\n",
       "      <td>62317.512718</td>\n",
       "      <td>62140.130230</td>\n",
       "      <td>62593.295629</td>\n",
       "      <td>59590.512703</td>\n",
       "      <td>58882.558639</td>\n",
       "    </tr>\n",
       "    <tr>\n",
       "      <th>5</th>\n",
       "      <td>704</td>\n",
       "      <td>Rural Other Freeway/Expressway</td>\n",
       "      <td>42668</td>\n",
       "      <td>Rural</td>\n",
       "      <td>46290.300062</td>\n",
       "      <td>46706.167588</td>\n",
       "      <td>47399.850627</td>\n",
       "      <td>46746.496854</td>\n",
       "      <td>45204.685562</td>\n",
       "      <td>47576.903040</td>\n",
       "      <td>...</td>\n",
       "      <td>39542.169221</td>\n",
       "      <td>37565.550137</td>\n",
       "      <td>36648.908703</td>\n",
       "      <td>34848.626172</td>\n",
       "      <td>32968.641236</td>\n",
       "      <td>30602.196306</td>\n",
       "      <td>30515.089272</td>\n",
       "      <td>30737.624734</td>\n",
       "      <td>29263.051238</td>\n",
       "      <td>28915.396971</td>\n",
       "    </tr>\n",
       "    <tr>\n",
       "      <th>8</th>\n",
       "      <td>776</td>\n",
       "      <td>Rural Other Principal Arterial</td>\n",
       "      <td>52542</td>\n",
       "      <td>Rural</td>\n",
       "      <td>57002.553339</td>\n",
       "      <td>57514.658700</td>\n",
       "      <td>58368.870152</td>\n",
       "      <td>57564.320749</td>\n",
       "      <td>55665.711746</td>\n",
       "      <td>58586.895086</td>\n",
       "      <td>...</td>\n",
       "      <td>48692.806207</td>\n",
       "      <td>46258.768522</td>\n",
       "      <td>45130.002838</td>\n",
       "      <td>42913.108567</td>\n",
       "      <td>40598.067587</td>\n",
       "      <td>37683.992649</td>\n",
       "      <td>37576.727771</td>\n",
       "      <td>37850.761198</td>\n",
       "      <td>36034.949802</td>\n",
       "      <td>35606.843246</td>\n",
       "    </tr>\n",
       "  </tbody>\n",
       "</table>\n",
       "<p>5 rows × 36 columns</p>\n",
       "</div>"
      ],
      "text/plain": [
       "    UID                Functional_Class    2013  Class           2012  \\\n",
       "0   222  Urban Other Principal Arterial  134794  Urban  126462.406367   \n",
       "3   540  Rural Other Principal Arterial   52268  Rural   56705.292107   \n",
       "4  2431  Rural Other Principal Arterial   86888  Rural   94264.357171   \n",
       "5   704  Rural Other Freeway/Expressway   42668  Rural   46290.300062   \n",
       "8   776  Rural Other Principal Arterial   52542  Rural   57002.553339   \n",
       "\n",
       "            2011           2010           2009           2008           2007  \\\n",
       "0  127350.026602  128238.178975  127289.303357  125141.073011  129271.176692   \n",
       "3   57214.726903   58064.483748   57264.129970   55375.421978   58281.371710   \n",
       "4   95111.218933   96523.816942   95193.344396   92053.640177   96884.361849   \n",
       "5   46706.167588   47399.850627   46746.496854   45204.685562   47576.903040   \n",
       "8   57514.658700   58368.870152   57564.320749   55665.711746   58586.895086   \n",
       "\n",
       "       ...               1990          1989          1988          1987  \\\n",
       "0      ...       85601.370140  83800.407148  80705.085746  77376.686137   \n",
       "3      ...       48438.879274  46017.534794  44894.655482  42689.322039   \n",
       "4      ...       80522.639901  76497.504460  74630.879802  70964.831509   \n",
       "5      ...       39542.169221  37565.550137  36648.908703  34848.626172   \n",
       "8      ...       48692.806207  46258.768522  45130.002838  42913.108567   \n",
       "\n",
       "           1986          1985          1984          1983          1982  \\\n",
       "0  74150.370174  69852.804663  67244.080099  62015.572011  58559.136905   \n",
       "3  40386.353710  37487.475310  37380.769806  37653.374182  35847.032017   \n",
       "4  67136.479321  62317.512718  62140.130230  62593.295629  59590.512703   \n",
       "5  32968.641236  30602.196306  30515.089272  30737.624734  29263.051238   \n",
       "8  40598.067587  37683.992649  37576.727771  37850.761198  36034.949802   \n",
       "\n",
       "           1981  \n",
       "0  57829.947364  \n",
       "3  35421.157984  \n",
       "4  58882.558639  \n",
       "5  28915.396971  \n",
       "8  35606.843246  \n",
       "\n",
       "[5 rows x 36 columns]"
      ]
     },
     "execution_count": 96,
     "metadata": {},
     "output_type": "execute_result"
    }
   ],
   "source": [
    "df.head()"
   ]
  },
  {
   "cell_type": "code",
   "execution_count": 97,
   "metadata": {
    "collapsed": true
   },
   "outputs": [],
   "source": [
    "cumdf = df[['UID', u'1981']]"
   ]
  },
  {
   "cell_type": "code",
   "execution_count": 113,
   "metadata": {
    "collapsed": false
   },
   "outputs": [
    {
     "name": "stdout",
     "output_type": "stream",
     "text": [
      "True\n"
     ]
    }
   ],
   "source": [
    "segments = np.unique(np.array(df.UID))\n",
    "msegs = np.tile(segments, 33)\n",
    "print len(msegs) == len(segments) *33"
   ]
  },
  {
   "cell_type": "code",
   "execution_count": 114,
   "metadata": {
    "collapsed": false
   },
   "outputs": [
    {
     "name": "stdout",
     "output_type": "stream",
     "text": [
      "True\n"
     ]
    }
   ],
   "source": [
    "years = np.arange(33)+1981\n",
    "myears = np.tile(years, len(segments))\n",
    "print len(msegs) == len(myears)"
   ]
  },
  {
   "cell_type": "code",
   "execution_count": 119,
   "metadata": {
    "collapsed": false
   },
   "outputs": [
    {
     "name": "stdout",
     "output_type": "stream",
     "text": [
      "[  1.   1.   1.   1.   1.   1.   1.   1.   1.   1.   1.   1.   1.   1.   1.\n",
      "   1.   1.   1.   1.   1.   1.   1.   1.   1.   1.   1.   1.   1.   1.   1.\n",
      "   1.   1.   1.  24.  24.  24.  24.  24.  24.  24.]\n",
      "[   1.   24.   27.   28.   32.   33.   37.   38.   39.   43.   66.   81.\n",
      "   97.  102.  104.  110.  113.  114.  115.  117.  118.  120.  125.  138.\n",
      "  142.  143.  144.  150.  153.  154.  155.  159.  188.  218.  222.  226.\n",
      "  232.  233.  235.  240.]\n"
     ]
    }
   ],
   "source": [
    "sorted_segments = np.sort(msegs)\n",
    "print sorted_segments[:40]\n",
    "print msegs[0:40]\n",
    "print myears[:40]"
   ]
  },
  {
   "cell_type": "code",
   "execution_count": 126,
   "metadata": {
    "collapsed": true
   },
   "outputs": [],
   "source": [
    "segDic = {'ID': sorted_segments, 'Year': myears}"
   ]
  },
  {
   "cell_type": "code",
   "execution_count": 127,
   "metadata": {
    "collapsed": false
   },
   "outputs": [],
   "source": [
    "cumdf = pd.DataFrame(segDic)"
   ]
  },
  {
   "cell_type": "code",
   "execution_count": 140,
   "metadata": {
    "collapsed": false
   },
   "outputs": [
    {
     "data": {
      "text/html": [
       "<div>\n",
       "<table border=\"1\" class=\"dataframe\">\n",
       "  <thead>\n",
       "    <tr style=\"text-align: right;\">\n",
       "      <th></th>\n",
       "      <th>ID</th>\n",
       "      <th>Year</th>\n",
       "    </tr>\n",
       "  </thead>\n",
       "  <tbody>\n",
       "    <tr>\n",
       "      <th>0</th>\n",
       "      <td>1</td>\n",
       "      <td>1981</td>\n",
       "    </tr>\n",
       "    <tr>\n",
       "      <th>1</th>\n",
       "      <td>1</td>\n",
       "      <td>1982</td>\n",
       "    </tr>\n",
       "    <tr>\n",
       "      <th>2</th>\n",
       "      <td>1</td>\n",
       "      <td>1983</td>\n",
       "    </tr>\n",
       "    <tr>\n",
       "      <th>3</th>\n",
       "      <td>1</td>\n",
       "      <td>1984</td>\n",
       "    </tr>\n",
       "    <tr>\n",
       "      <th>4</th>\n",
       "      <td>1</td>\n",
       "      <td>1985</td>\n",
       "    </tr>\n",
       "  </tbody>\n",
       "</table>\n",
       "</div>"
      ],
      "text/plain": [
       "   ID  Year\n",
       "0   1  1981\n",
       "1   1  1982\n",
       "2   1  1983\n",
       "3   1  1984\n",
       "4   1  1985"
      ]
     },
     "execution_count": 140,
     "metadata": {},
     "output_type": "execute_result"
    }
   ],
   "source": [
    "cumdf.head()"
   ]
  },
  {
   "cell_type": "code",
   "execution_count": 139,
   "metadata": {
    "collapsed": false
   },
   "outputs": [
    {
     "name": "stdout",
     "output_type": "stream",
     "text": [
      "316305\n"
     ]
    }
   ],
   "source": [
    "print len(cumdf)"
   ]
  },
  {
   "cell_type": "code",
   "execution_count": 141,
   "metadata": {
    "collapsed": true
   },
   "outputs": [],
   "source": [
    "def getEsal(row, year):\n",
    "    id = row['ID']\n",
    "    name = str(year)\n",
    "    return df2.loc[id, name]"
   ]
  },
  {
   "cell_type": "code",
   "execution_count": null,
   "metadata": {
    "collapsed": true
   },
   "outputs": [],
   "source": [
    "for year in years:\n",
    "    cumdf.loc[:, str(year)] =cumdf.apply(getEsal, axis =1, args = (year,))"
   ]
  },
  {
   "cell_type": "code",
   "execution_count": null,
   "metadata": {
    "collapsed": true
   },
   "outputs": [],
   "source": []
  }
 ],
 "metadata": {
  "kernelspec": {
   "display_name": "Python 2",
   "language": "python",
   "name": "python2"
  },
  "language_info": {
   "codemirror_mode": {
    "name": "ipython",
    "version": 2
   },
   "file_extension": ".py",
   "mimetype": "text/x-python",
   "name": "python",
   "nbconvert_exporter": "python",
   "pygments_lexer": "ipython2",
   "version": "2.7.9"
  }
 },
 "nbformat": 4,
 "nbformat_minor": 0
}
