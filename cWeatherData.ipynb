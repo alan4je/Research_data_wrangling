{
 "cells": [
  {
   "cell_type": "code",
   "execution_count": 2,
   "metadata": {
    "collapsed": true
   },
   "outputs": [],
   "source": [
    "import numpy as np\n",
    "import pandas as pd\n",
    "import xlsxwriter"
   ]
  },
  {
   "cell_type": "code",
   "execution_count": 4,
   "metadata": {
    "collapsed": false
   },
   "outputs": [],
   "source": [
    "db = pd.read_excel(\"../DataFiles/CompleteWeatherHist2000-2013.xlsx\")"
   ]
  },
  {
   "cell_type": "code",
   "execution_count": 5,
   "metadata": {
    "collapsed": false
   },
   "outputs": [
    {
     "data": {
      "text/html": [
       "<div style=\"max-height:1000px;max-width:1500px;overflow:auto;\">\n",
       "<table border=\"1\" class=\"dataframe\">\n",
       "  <thead>\n",
       "    <tr style=\"text-align: right;\">\n",
       "      <th></th>\n",
       "      <th>Airport</th>\n",
       "      <th>Year</th>\n",
       "      <th>Month</th>\n",
       "      <th>Day</th>\n",
       "      <th>Max TemperatureF</th>\n",
       "      <th>Mean TemperatureF</th>\n",
       "      <th>Min TemperatureF</th>\n",
       "      <th>Max Dew PointF</th>\n",
       "      <th>MeanDew PointF</th>\n",
       "      <th>Min DewpointF</th>\n",
       "      <th>...</th>\n",
       "      <th>Max VisibilityMiles</th>\n",
       "      <th>Mean VisibilityMiles</th>\n",
       "      <th>Min VisibilityMiles</th>\n",
       "      <th>Max Wind SpeedMPH</th>\n",
       "      <th>Mean Wind SpeedMPH</th>\n",
       "      <th>Max Gust SpeedMPH</th>\n",
       "      <th>PrecipitationIn</th>\n",
       "      <th>CloudCover</th>\n",
       "      <th>Events</th>\n",
       "      <th>WindDirDegrees</th>\n",
       "    </tr>\n",
       "  </thead>\n",
       "  <tbody>\n",
       "    <tr>\n",
       "      <th>0</th>\n",
       "      <td>KBFI</td>\n",
       "      <td>2000</td>\n",
       "      <td>11</td>\n",
       "      <td>12</td>\n",
       "      <td>45</td>\n",
       "      <td>40</td>\n",
       "      <td>34</td>\n",
       "      <td>35</td>\n",
       "      <td>32</td>\n",
       "      <td>28</td>\n",
       "      <td>...</td>\n",
       "      <td>10</td>\n",
       "      <td>10</td>\n",
       "      <td>8</td>\n",
       "      <td>9</td>\n",
       "      <td>5</td>\n",
       "      <td>NaN</td>\n",
       "      <td>0.00</td>\n",
       "      <td>8</td>\n",
       "      <td>NaN</td>\n",
       "      <td>143</td>\n",
       "    </tr>\n",
       "    <tr>\n",
       "      <th>1</th>\n",
       "      <td>NaN</td>\n",
       "      <td>2000</td>\n",
       "      <td>6</td>\n",
       "      <td>9</td>\n",
       "      <td>55</td>\n",
       "      <td>NaN</td>\n",
       "      <td>55</td>\n",
       "      <td>47</td>\n",
       "      <td>47</td>\n",
       "      <td>47</td>\n",
       "      <td>...</td>\n",
       "      <td>10</td>\n",
       "      <td>10</td>\n",
       "      <td>10</td>\n",
       "      <td>12</td>\n",
       "      <td>12</td>\n",
       "      <td>16</td>\n",
       "      <td>0.00</td>\n",
       "      <td>6</td>\n",
       "      <td>NaN</td>\n",
       "      <td>220</td>\n",
       "    </tr>\n",
       "    <tr>\n",
       "      <th>2</th>\n",
       "      <td>NaN</td>\n",
       "      <td>2000</td>\n",
       "      <td>12</td>\n",
       "      <td>5</td>\n",
       "      <td>50</td>\n",
       "      <td>42</td>\n",
       "      <td>33</td>\n",
       "      <td>38</td>\n",
       "      <td>36</td>\n",
       "      <td>34</td>\n",
       "      <td>...</td>\n",
       "      <td>10</td>\n",
       "      <td>10</td>\n",
       "      <td>10</td>\n",
       "      <td>7</td>\n",
       "      <td>3</td>\n",
       "      <td>NaN</td>\n",
       "      <td>0.00</td>\n",
       "      <td>3</td>\n",
       "      <td>NaN</td>\n",
       "      <td>359</td>\n",
       "    </tr>\n",
       "    <tr>\n",
       "      <th>3</th>\n",
       "      <td>NaN</td>\n",
       "      <td>2000</td>\n",
       "      <td>1</td>\n",
       "      <td>3</td>\n",
       "      <td>46</td>\n",
       "      <td>40</td>\n",
       "      <td>35</td>\n",
       "      <td>42</td>\n",
       "      <td>37</td>\n",
       "      <td>32</td>\n",
       "      <td>...</td>\n",
       "      <td>10</td>\n",
       "      <td>7</td>\n",
       "      <td>2</td>\n",
       "      <td>15</td>\n",
       "      <td>7</td>\n",
       "      <td>NaN</td>\n",
       "      <td>0.32</td>\n",
       "      <td>8</td>\n",
       "      <td>Rain</td>\n",
       "      <td>143</td>\n",
       "    </tr>\n",
       "    <tr>\n",
       "      <th>4</th>\n",
       "      <td>NaN</td>\n",
       "      <td>2000</td>\n",
       "      <td>1</td>\n",
       "      <td>2</td>\n",
       "      <td>43</td>\n",
       "      <td>40</td>\n",
       "      <td>36</td>\n",
       "      <td>35</td>\n",
       "      <td>32</td>\n",
       "      <td>29</td>\n",
       "      <td>...</td>\n",
       "      <td>10</td>\n",
       "      <td>10</td>\n",
       "      <td>10</td>\n",
       "      <td>12</td>\n",
       "      <td>8</td>\n",
       "      <td>NaN</td>\n",
       "      <td>0.00</td>\n",
       "      <td>6</td>\n",
       "      <td>NaN</td>\n",
       "      <td>177</td>\n",
       "    </tr>\n",
       "    <tr>\n",
       "      <th>5</th>\n",
       "      <td>NaN</td>\n",
       "      <td>2000</td>\n",
       "      <td>1</td>\n",
       "      <td>1</td>\n",
       "      <td>44</td>\n",
       "      <td>42</td>\n",
       "      <td>39</td>\n",
       "      <td>37</td>\n",
       "      <td>30</td>\n",
       "      <td>28</td>\n",
       "      <td>...</td>\n",
       "      <td>10</td>\n",
       "      <td>9</td>\n",
       "      <td>4</td>\n",
       "      <td>20</td>\n",
       "      <td>11</td>\n",
       "      <td>30</td>\n",
       "      <td>0.27</td>\n",
       "      <td>8</td>\n",
       "      <td>Rain</td>\n",
       "      <td>175</td>\n",
       "    </tr>\n",
       "    <tr>\n",
       "      <th>6</th>\n",
       "      <td>NaN</td>\n",
       "      <td>2000</td>\n",
       "      <td>1</td>\n",
       "      <td>7</td>\n",
       "      <td>46</td>\n",
       "      <td>44</td>\n",
       "      <td>41</td>\n",
       "      <td>45</td>\n",
       "      <td>41</td>\n",
       "      <td>31</td>\n",
       "      <td>...</td>\n",
       "      <td>10</td>\n",
       "      <td>8</td>\n",
       "      <td>3</td>\n",
       "      <td>15</td>\n",
       "      <td>8</td>\n",
       "      <td>NaN</td>\n",
       "      <td>0.29</td>\n",
       "      <td>8</td>\n",
       "      <td>Rain</td>\n",
       "      <td>161</td>\n",
       "    </tr>\n",
       "    <tr>\n",
       "      <th>7</th>\n",
       "      <td>NaN</td>\n",
       "      <td>2000</td>\n",
       "      <td>1</td>\n",
       "      <td>6</td>\n",
       "      <td>42</td>\n",
       "      <td>37</td>\n",
       "      <td>32</td>\n",
       "      <td>39</td>\n",
       "      <td>32</td>\n",
       "      <td>30</td>\n",
       "      <td>...</td>\n",
       "      <td>10</td>\n",
       "      <td>9</td>\n",
       "      <td>4</td>\n",
       "      <td>12</td>\n",
       "      <td>6</td>\n",
       "      <td>NaN</td>\n",
       "      <td>0.02</td>\n",
       "      <td>5</td>\n",
       "      <td>Rain</td>\n",
       "      <td>147</td>\n",
       "    </tr>\n",
       "    <tr>\n",
       "      <th>8</th>\n",
       "      <td>NaN</td>\n",
       "      <td>2000</td>\n",
       "      <td>1</td>\n",
       "      <td>5</td>\n",
       "      <td>44</td>\n",
       "      <td>40</td>\n",
       "      <td>35</td>\n",
       "      <td>38</td>\n",
       "      <td>36</td>\n",
       "      <td>32</td>\n",
       "      <td>...</td>\n",
       "      <td>10</td>\n",
       "      <td>9</td>\n",
       "      <td>6</td>\n",
       "      <td>8</td>\n",
       "      <td>3</td>\n",
       "      <td>NaN</td>\n",
       "      <td>0.03</td>\n",
       "      <td>6</td>\n",
       "      <td>Rain</td>\n",
       "      <td>134</td>\n",
       "    </tr>\n",
       "    <tr>\n",
       "      <th>9</th>\n",
       "      <td>NaN</td>\n",
       "      <td>2000</td>\n",
       "      <td>1</td>\n",
       "      <td>4</td>\n",
       "      <td>48</td>\n",
       "      <td>45</td>\n",
       "      <td>41</td>\n",
       "      <td>45</td>\n",
       "      <td>40</td>\n",
       "      <td>37</td>\n",
       "      <td>...</td>\n",
       "      <td>10</td>\n",
       "      <td>9</td>\n",
       "      <td>3</td>\n",
       "      <td>21</td>\n",
       "      <td>11</td>\n",
       "      <td>30</td>\n",
       "      <td>0.25</td>\n",
       "      <td>6</td>\n",
       "      <td>Rain</td>\n",
       "      <td>192</td>\n",
       "    </tr>\n",
       "  </tbody>\n",
       "</table>\n",
       "<p>10 rows × 26 columns</p>\n",
       "</div>"
      ],
      "text/plain": [
       "  Airport  Year  Month  Day  Max TemperatureF  Mean TemperatureF  \\\n",
       "0    KBFI  2000     11   12                45                 40   \n",
       "1     NaN  2000      6    9                55                NaN   \n",
       "2     NaN  2000     12    5                50                 42   \n",
       "3     NaN  2000      1    3                46                 40   \n",
       "4     NaN  2000      1    2                43                 40   \n",
       "5     NaN  2000      1    1                44                 42   \n",
       "6     NaN  2000      1    7                46                 44   \n",
       "7     NaN  2000      1    6                42                 37   \n",
       "8     NaN  2000      1    5                44                 40   \n",
       "9     NaN  2000      1    4                48                 45   \n",
       "\n",
       "   Min TemperatureF  Max Dew PointF  MeanDew PointF  Min DewpointF  \\\n",
       "0                34              35              32             28   \n",
       "1                55              47              47             47   \n",
       "2                33              38              36             34   \n",
       "3                35              42              37             32   \n",
       "4                36              35              32             29   \n",
       "5                39              37              30             28   \n",
       "6                41              45              41             31   \n",
       "7                32              39              32             30   \n",
       "8                35              38              36             32   \n",
       "9                41              45              40             37   \n",
       "\n",
       "        ...        Max VisibilityMiles  Mean VisibilityMiles  \\\n",
       "0       ...                         10                    10   \n",
       "1       ...                         10                    10   \n",
       "2       ...                         10                    10   \n",
       "3       ...                         10                     7   \n",
       "4       ...                         10                    10   \n",
       "5       ...                         10                     9   \n",
       "6       ...                         10                     8   \n",
       "7       ...                         10                     9   \n",
       "8       ...                         10                     9   \n",
       "9       ...                         10                     9   \n",
       "\n",
       "   Min VisibilityMiles  Max Wind SpeedMPH  Mean Wind SpeedMPH  \\\n",
       "0                    8                  9                   5   \n",
       "1                   10                 12                  12   \n",
       "2                   10                  7                   3   \n",
       "3                    2                 15                   7   \n",
       "4                   10                 12                   8   \n",
       "5                    4                 20                  11   \n",
       "6                    3                 15                   8   \n",
       "7                    4                 12                   6   \n",
       "8                    6                  8                   3   \n",
       "9                    3                 21                  11   \n",
       "\n",
       "   Max Gust SpeedMPH  PrecipitationIn  CloudCover  Events  WindDirDegrees  \n",
       "0                NaN             0.00           8     NaN             143  \n",
       "1                 16             0.00           6     NaN             220  \n",
       "2                NaN             0.00           3     NaN             359  \n",
       "3                NaN             0.32           8    Rain             143  \n",
       "4                NaN             0.00           6     NaN             177  \n",
       "5                 30             0.27           8    Rain             175  \n",
       "6                NaN             0.29           8    Rain             161  \n",
       "7                NaN             0.02           5    Rain             147  \n",
       "8                NaN             0.03           6    Rain             134  \n",
       "9                 30             0.25           6    Rain             192  \n",
       "\n",
       "[10 rows x 26 columns]"
      ]
     },
     "execution_count": 5,
     "metadata": {},
     "output_type": "execute_result"
    }
   ],
   "source": [
    "db.head(10)"
   ]
  },
  {
   "cell_type": "code",
   "execution_count": 6,
   "metadata": {
    "collapsed": false
   },
   "outputs": [],
   "source": [
    "db.loc[:,\"ApVal\"] = pd.isnull(db.loc[:,\"Airport\"])  # boolean type indicating whether the airport is null."
   ]
  },
  {
   "cell_type": "code",
   "execution_count": 7,
   "metadata": {
    "collapsed": false
   },
   "outputs": [],
   "source": [
    "# The excel file format had merged all the rows that belonged to the \"airport code\" column and when imported into\n",
    "# pandas, the merged rows are split with the contents for the cells allocated to the first cell, leaving the rest\n",
    "# of the cells blank, the following code allocates code-names respectively to restore the intended assignments\n",
    "for i in range(len(db)):\n",
    "    if db.loc[i,\"ApVal\"]:\n",
    "        db.loc[i, \"Airport\"] = db.loc[(i-1), \"Airport\"]"
   ]
  },
  {
   "cell_type": "code",
   "execution_count": 42,
   "metadata": {
    "collapsed": false
   },
   "outputs": [],
   "source": [
    "# db.PrecipitationIn.astype(float)"
   ]
  },
  {
   "cell_type": "code",
   "execution_count": 39,
   "metadata": {
    "collapsed": false
   },
   "outputs": [
    {
     "data": {
      "text/plain": [
       "dtype('O')"
      ]
     },
     "execution_count": 39,
     "metadata": {},
     "output_type": "execute_result"
    }
   ],
   "source": [
    "db.PrecipitationIn.dtype"
   ]
  },
  {
   "cell_type": "code",
   "execution_count": null,
   "metadata": {
    "collapsed": false
   },
   "outputs": [],
   "source": [
    "# sample.tail(30)"
   ]
  },
  {
   "cell_type": "code",
   "execution_count": null,
   "metadata": {
    "collapsed": false
   },
   "outputs": [],
   "source": [
    "# sample.columns"
   ]
  },
  {
   "cell_type": "code",
   "execution_count": 8,
   "metadata": {
    "collapsed": true
   },
   "outputs": [],
   "source": [
    "codes = ['KBFI', 'KPUW', 'KPSC', 'KESW', 'KALW', 'KTDO', 'KVUO', 'KPWT', 'KMWH', 'KPAE', 'KEPH', \n",
    "         'KSEA', 'KHQM', 'KUIL', 'KGRF', 'KTIW', 'KSKA', 'KEAT', 'KOLM', 'KTCM', 'KYKM', 'KBLI', 'KGEG', \n",
    "         'KAWO', 'KSFF', 'KCLM', 'KDLS', 'KRLD']"
   ]
  },
  {
   "cell_type": "code",
   "execution_count": 51,
   "metadata": {
    "collapsed": false
   },
   "outputs": [],
   "source": [
    "monthlyR = {}\n",
    "for ap in codes:\n",
    "    monthlyR[ap] = {}\n",
    "    for y in np.arange(14)+2000:\n",
    "        for m in np.arange(12)+1:\n",
    "            sampleDB = db[(db.loc[:, \"Airport\"] == ap) & ((db.loc[:, \"Year\"] == y) & (db.loc[:, \"Month\"] == m))]\n",
    "#             summaryT = sampleDB[['Max TemperatureF','Min TemperatureF']].mean(0)\n",
    "#             maxT = summaryT[0]\n",
    "#             minT = summaryT[1]\n",
    "#             prep = sampleDB[['PrecipitationIn']].sum(0)[0]\n",
    "            ftCycles = len(sampleDB[((((sampleDB.loc[:,'Events'] == \"Snow\") | ((sampleDB.loc[:,'Events'] == \"Rain-Snow\")|\n",
    "                                       (sampleDB.loc[:,'Events'] == \"Rain-Snow-Thunderstorm\"))) |\n",
    "                                   ((sampleDB.loc[:,'Events'] == \"Fog-Rain-Snow\") | (sampleDB.loc[:,'Events'] == \"Fog-Rain-Snow-Hail\"))) |\n",
    "                                   ((sampleDB.loc[:,'Events'] == \"Fog-Rain-Snow-Hail-Thunderstorm\") | \n",
    "                                    (sampleDB.loc[:,'Events'] == \"Fog-Rain-Snow-Thunderstorm\"))) |\n",
    "                                   (((sampleDB.loc[:,'Events'] == \"Fog-Snow\") | \n",
    "                                    (sampleDB.loc[:,'Events'] == \"Fog-Snow-Thunderstorm\")) |\n",
    "                                   (((sampleDB.loc[:,'Events'] == \"Fog-Snow-Hail\") | \n",
    "                                    (sampleDB.loc[:,'Events'] == \"Fog-Snow-Hail-Thunderstorm\")) |\n",
    "                                   ((sampleDB.loc[:,'Events'] == \"Rain-Snow-Hail\") | \n",
    "                                    (sampleDB.loc[:,'Events'] == \"Rain-Snow-Hail-Thunderstorm\"))))])\n",
    "            vals = ftCycles\n",
    "            key  = str(y)+'-'+ str(m)\n",
    "            monthlyR[ap][key] = vals"
   ]
  },
  {
   "cell_type": "code",
   "execution_count": 52,
   "metadata": {
    "collapsed": false
   },
   "outputs": [],
   "source": [
    "frames = []\n",
    "for key in monthlyR.keys():\n",
    "    pdb = pd.DataFrame.from_dict(monthlyR[key], orient = 'index')\n",
    "    pdb['Name'] = key\n",
    "    frames.append(pdb)\n",
    "wdataM = pd.concat(frames)"
   ]
  },
  {
   "cell_type": "code",
   "execution_count": 53,
   "metadata": {
    "collapsed": false
   },
   "outputs": [
    {
     "data": {
      "text/plain": [
       "False"
      ]
     },
     "execution_count": 53,
     "metadata": {},
     "output_type": "execute_result"
    }
   ],
   "source": [
    "len(wdataM) == 28*240"
   ]
  },
  {
   "cell_type": "code",
   "execution_count": 54,
   "metadata": {
    "collapsed": false
   },
   "outputs": [
    {
     "data": {
      "text/html": [
       "<div style=\"max-height:1000px;max-width:1500px;overflow:auto;\">\n",
       "<table border=\"1\" class=\"dataframe\">\n",
       "  <thead>\n",
       "    <tr style=\"text-align: right;\">\n",
       "      <th></th>\n",
       "      <th>0</th>\n",
       "      <th>Name</th>\n",
       "    </tr>\n",
       "  </thead>\n",
       "  <tbody>\n",
       "    <tr>\n",
       "      <th>2003-12</th>\n",
       "      <td>3</td>\n",
       "      <td>KBFI</td>\n",
       "    </tr>\n",
       "    <tr>\n",
       "      <th>2004-6</th>\n",
       "      <td>0</td>\n",
       "      <td>KBFI</td>\n",
       "    </tr>\n",
       "    <tr>\n",
       "      <th>2003-10</th>\n",
       "      <td>0</td>\n",
       "      <td>KBFI</td>\n",
       "    </tr>\n",
       "    <tr>\n",
       "      <th>2003-11</th>\n",
       "      <td>2</td>\n",
       "      <td>KBFI</td>\n",
       "    </tr>\n",
       "    <tr>\n",
       "      <th>2004-3</th>\n",
       "      <td>0</td>\n",
       "      <td>KBFI</td>\n",
       "    </tr>\n",
       "    <tr>\n",
       "      <th>2004-2</th>\n",
       "      <td>0</td>\n",
       "      <td>KBFI</td>\n",
       "    </tr>\n",
       "    <tr>\n",
       "      <th>2004-1</th>\n",
       "      <td>4</td>\n",
       "      <td>KBFI</td>\n",
       "    </tr>\n",
       "    <tr>\n",
       "      <th>2007-4</th>\n",
       "      <td>0</td>\n",
       "      <td>KBFI</td>\n",
       "    </tr>\n",
       "    <tr>\n",
       "      <th>2007-5</th>\n",
       "      <td>0</td>\n",
       "      <td>KBFI</td>\n",
       "    </tr>\n",
       "    <tr>\n",
       "      <th>2007-6</th>\n",
       "      <td>0</td>\n",
       "      <td>KBFI</td>\n",
       "    </tr>\n",
       "    <tr>\n",
       "      <th>2007-7</th>\n",
       "      <td>0</td>\n",
       "      <td>KBFI</td>\n",
       "    </tr>\n",
       "    <tr>\n",
       "      <th>2001-10</th>\n",
       "      <td>0</td>\n",
       "      <td>KBFI</td>\n",
       "    </tr>\n",
       "    <tr>\n",
       "      <th>2001-11</th>\n",
       "      <td>1</td>\n",
       "      <td>KBFI</td>\n",
       "    </tr>\n",
       "    <tr>\n",
       "      <th>2001-12</th>\n",
       "      <td>0</td>\n",
       "      <td>KBFI</td>\n",
       "    </tr>\n",
       "    <tr>\n",
       "      <th>2004-8</th>\n",
       "      <td>0</td>\n",
       "      <td>KBFI</td>\n",
       "    </tr>\n",
       "    <tr>\n",
       "      <th>2004-4</th>\n",
       "      <td>0</td>\n",
       "      <td>KBFI</td>\n",
       "    </tr>\n",
       "    <tr>\n",
       "      <th>2007-8</th>\n",
       "      <td>0</td>\n",
       "      <td>KBFI</td>\n",
       "    </tr>\n",
       "    <tr>\n",
       "      <th>2004-9</th>\n",
       "      <td>0</td>\n",
       "      <td>KBFI</td>\n",
       "    </tr>\n",
       "    <tr>\n",
       "      <th>2007-9</th>\n",
       "      <td>0</td>\n",
       "      <td>KBFI</td>\n",
       "    </tr>\n",
       "    <tr>\n",
       "      <th>2003-1</th>\n",
       "      <td>0</td>\n",
       "      <td>KBFI</td>\n",
       "    </tr>\n",
       "  </tbody>\n",
       "</table>\n",
       "</div>"
      ],
      "text/plain": [
       "         0  Name\n",
       "2003-12  3  KBFI\n",
       "2004-6   0  KBFI\n",
       "2003-10  0  KBFI\n",
       "2003-11  2  KBFI\n",
       "2004-3   0  KBFI\n",
       "2004-2   0  KBFI\n",
       "2004-1   4  KBFI\n",
       "2007-4   0  KBFI\n",
       "2007-5   0  KBFI\n",
       "2007-6   0  KBFI\n",
       "2007-7   0  KBFI\n",
       "2001-10  0  KBFI\n",
       "2001-11  1  KBFI\n",
       "2001-12  0  KBFI\n",
       "2004-8   0  KBFI\n",
       "2004-4   0  KBFI\n",
       "2007-8   0  KBFI\n",
       "2004-9   0  KBFI\n",
       "2007-9   0  KBFI\n",
       "2003-1   0  KBFI"
      ]
     },
     "execution_count": 54,
     "metadata": {},
     "output_type": "execute_result"
    }
   ],
   "source": [
    "wdataM.head(20)"
   ]
  },
  {
   "cell_type": "code",
   "execution_count": 55,
   "metadata": {
    "collapsed": false
   },
   "outputs": [],
   "source": [
    "wdataM.to_excel(\"../DataFiles/monthlyWeatherR2.xlsx\")"
   ]
  },
  {
   "cell_type": "code",
   "execution_count": 22,
   "metadata": {
    "collapsed": true
   },
   "outputs": [],
   "source": [
    "# In the following lines, I wanted to check whether the precipitation variable had no erroneous values. However, got \n",
    "# a better dataset so this one nolonger mattered that much. I reviewed this code to extract the number of freeze thaw\n",
    "# cycles for the new weather dataset\n",
    "# tdb = db[(db.loc[:, \"Airport\"] == 'KDLS') & ((db.loc[:, \"Year\"] == 2005))]\n",
    "# tdb[tdb.loc[:,\"PrecipitationIn\"] > 1000.0]"
   ]
  },
  {
   "cell_type": "code",
   "execution_count": 60,
   "metadata": {
    "collapsed": true
   },
   "outputs": [],
   "source": [
    "db2 = pd.read_excel(\"../DataFiles/monthlyWeatherR2.xlsx\")"
   ]
  },
  {
   "cell_type": "code",
   "execution_count": 61,
   "metadata": {
    "collapsed": false
   },
   "outputs": [],
   "source": [
    "AnnualR = {}\n",
    "for ap in codes:\n",
    "    AnnualR[ap] = {}\n",
    "    for y in np.arange(14)+2000:\n",
    "        sampleDB = db2[(db2.loc[:, \"Name\"] == ap) & (db2.loc[:, \"Year\"] == y)]\n",
    "#         summaryT = sampleDB[['MaxT','MinT']].mean(0)\n",
    "#         AMmaxT = sampleDB[['MaxT']].max(0)[0]\n",
    "#         AMminT = sampleDB[['MinT']].min(0)[0]\n",
    "#         AAmaxT = summaryT[0]\n",
    "#         AAminT = summaryT[1]\n",
    "#         AnnualPrecFT = sampleDB[['Precipitation', 'FTCycles']].sum(0)\n",
    "#         Aprep = AnnualPrecFT[0]\n",
    "        AftCycles = sampleDB[['FTCycles']].sum(0)\n",
    "        vals = AftCycles\n",
    "        key  = str(y)\n",
    "        AnnualR[ap][key] = vals"
   ]
  },
  {
   "cell_type": "code",
   "execution_count": 62,
   "metadata": {
    "collapsed": false
   },
   "outputs": [
    {
     "data": {
      "text/plain": [
       "28"
      ]
     },
     "execution_count": 62,
     "metadata": {},
     "output_type": "execute_result"
    }
   ],
   "source": [
    "len(AnnualR.keys())"
   ]
  },
  {
   "cell_type": "code",
   "execution_count": 63,
   "metadata": {
    "collapsed": true
   },
   "outputs": [],
   "source": [
    "test = pd.DataFrame.from_dict(AnnualR['KBFI'], orient = 'index')"
   ]
  },
  {
   "cell_type": "code",
   "execution_count": 64,
   "metadata": {
    "collapsed": false
   },
   "outputs": [
    {
     "data": {
      "text/html": [
       "<div style=\"max-height:1000px;max-width:1500px;overflow:auto;\">\n",
       "<table border=\"1\" class=\"dataframe\">\n",
       "  <thead>\n",
       "    <tr style=\"text-align: right;\">\n",
       "      <th></th>\n",
       "      <th>FTCycles</th>\n",
       "    </tr>\n",
       "  </thead>\n",
       "  <tbody>\n",
       "    <tr>\n",
       "      <th>2000</th>\n",
       "      <td>3</td>\n",
       "    </tr>\n",
       "    <tr>\n",
       "      <th>2001</th>\n",
       "      <td>5</td>\n",
       "    </tr>\n",
       "    <tr>\n",
       "      <th>2002</th>\n",
       "      <td>9</td>\n",
       "    </tr>\n",
       "    <tr>\n",
       "      <th>2003</th>\n",
       "      <td>5</td>\n",
       "    </tr>\n",
       "    <tr>\n",
       "      <th>2004</th>\n",
       "      <td>4</td>\n",
       "    </tr>\n",
       "  </tbody>\n",
       "</table>\n",
       "</div>"
      ],
      "text/plain": [
       "      FTCycles\n",
       "2000         3\n",
       "2001         5\n",
       "2002         9\n",
       "2003         5\n",
       "2004         4"
      ]
     },
     "execution_count": 64,
     "metadata": {},
     "output_type": "execute_result"
    }
   ],
   "source": [
    "test.head()"
   ]
  },
  {
   "cell_type": "code",
   "execution_count": 65,
   "metadata": {
    "collapsed": false
   },
   "outputs": [],
   "source": [
    "frames2 = []\n",
    "for key in AnnualR.keys():\n",
    "    pdb = pd.DataFrame.from_dict(AnnualR[key], orient = 'index')\n",
    "    pdb['Airport'] = key\n",
    "    frames2.append(pdb)\n",
    "wdataAnnual = pd.concat(frames2)"
   ]
  },
  {
   "cell_type": "code",
   "execution_count": 66,
   "metadata": {
    "collapsed": false
   },
   "outputs": [
    {
     "data": {
      "text/html": [
       "<div style=\"max-height:1000px;max-width:1500px;overflow:auto;\">\n",
       "<table border=\"1\" class=\"dataframe\">\n",
       "  <thead>\n",
       "    <tr style=\"text-align: right;\">\n",
       "      <th></th>\n",
       "      <th>FTCycles</th>\n",
       "      <th>Airport</th>\n",
       "    </tr>\n",
       "  </thead>\n",
       "  <tbody>\n",
       "    <tr>\n",
       "      <th>2000</th>\n",
       "      <td>3</td>\n",
       "      <td>KBFI</td>\n",
       "    </tr>\n",
       "    <tr>\n",
       "      <th>2001</th>\n",
       "      <td>5</td>\n",
       "      <td>KBFI</td>\n",
       "    </tr>\n",
       "    <tr>\n",
       "      <th>2002</th>\n",
       "      <td>9</td>\n",
       "      <td>KBFI</td>\n",
       "    </tr>\n",
       "    <tr>\n",
       "      <th>2003</th>\n",
       "      <td>5</td>\n",
       "      <td>KBFI</td>\n",
       "    </tr>\n",
       "    <tr>\n",
       "      <th>2004</th>\n",
       "      <td>4</td>\n",
       "      <td>KBFI</td>\n",
       "    </tr>\n",
       "  </tbody>\n",
       "</table>\n",
       "</div>"
      ],
      "text/plain": [
       "      FTCycles Airport\n",
       "2000         3    KBFI\n",
       "2001         5    KBFI\n",
       "2002         9    KBFI\n",
       "2003         5    KBFI\n",
       "2004         4    KBFI"
      ]
     },
     "execution_count": 66,
     "metadata": {},
     "output_type": "execute_result"
    }
   ],
   "source": [
    "wdataAnnual.head()"
   ]
  },
  {
   "cell_type": "code",
   "execution_count": 67,
   "metadata": {
    "collapsed": false
   },
   "outputs": [],
   "source": [
    "wdataAnnual.columns = [\"FTCycles\", \"Airport\" ]"
   ]
  },
  {
   "cell_type": "code",
   "execution_count": 68,
   "metadata": {
    "collapsed": true
   },
   "outputs": [],
   "source": [
    "wdataAnnual.to_excel(\"../DataFiles/AnnualWeatherR2.xlsx\")"
   ]
  },
  {
   "cell_type": "code",
   "execution_count": null,
   "metadata": {
    "collapsed": true
   },
   "outputs": [],
   "source": []
  }
 ],
 "metadata": {
  "kernelspec": {
   "display_name": "Python 2",
   "language": "python",
   "name": "python2"
  },
  "language_info": {
   "codemirror_mode": {
    "name": "ipython",
    "version": 2
   },
   "file_extension": ".py",
   "mimetype": "text/x-python",
   "name": "python",
   "nbconvert_exporter": "python",
   "pygments_lexer": "ipython2",
   "version": "2.7.9"
  }
 },
 "nbformat": 4,
 "nbformat_minor": 0
}
