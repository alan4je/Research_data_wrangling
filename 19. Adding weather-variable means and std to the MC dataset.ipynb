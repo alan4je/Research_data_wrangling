{
 "cells": [
  {
   "cell_type": "code",
   "execution_count": 1,
   "metadata": {
    "collapsed": true
   },
   "outputs": [],
   "source": [
    "import pandas as pd, numpy as np"
   ]
  },
  {
   "cell_type": "code",
   "execution_count": 34,
   "metadata": {
    "collapsed": false
   },
   "outputs": [],
   "source": [
    "d1 = pd.read_csv('../modelDatasets/weather_vars_stats2.csv')\n",
    "d2 = pd.read_csv('../../Research Data/Rmodels/data/mdata.csv')\n",
    "d3 = pd.read_csv('../../Research Data/Rmodels/data/mcdata.csv')"
   ]
  },
  {
   "cell_type": "code",
   "execution_count": 33,
   "metadata": {
    "collapsed": false
   },
   "outputs": [
    {
     "data": {
      "text/plain": [
       "Index([u'UID', u'IsBridge', u'Lane Surface Type', u'LaneMiles', u'Region_x',\n",
       "       u'FFClass', u'SurfaceTypeCode', u'STDescription', u'TreatBaseCode',\n",
       "       u'TreatBaseDescription', u'TBThick', u'untrthick', u'Y_ESAL',\n",
       "       u'MajorRehabYear', u'Cum_ESAL', u'SURFTHK', u'ULT', u'TSfThick',\n",
       "       u'tmin', u'tmax', u'cumESALs', u'IRIsi', u'Alli', u'Long', u'E_Alli',\n",
       "       u'E_Long', u'prep', u'MinT', u'MaxT', u'FTCycles', u'actbthick',\n",
       "       u'pctbthick', u'ftprep', u'BA', u'AA', u'AADT', u'ptrucks', u'Trucks',\n",
       "       u'PCars', u'VehMiles', u'TruckMiles'],\n",
       "      dtype='object')"
      ]
     },
     "execution_count": 33,
     "metadata": {},
     "output_type": "execute_result"
    }
   ],
   "source": [
    "d2.columns"
   ]
  },
  {
   "cell_type": "code",
   "execution_count": 35,
   "metadata": {
    "collapsed": false
   },
   "outputs": [
    {
     "data": {
      "text/plain": [
       "Index([u'Unnamed: 0', u'UID', u'IsBridge', u'Lane Surface Type', u'LaneMiles',\n",
       "       u'Region_x', u'FFClass', u'SurfaceTypeCode', u'STDescription',\n",
       "       u'TreatBaseCode', u'TreatBaseDescription', u'TBThick', u'untrthick',\n",
       "       u'Y_ESAL', u'MajorRehabYear', u'Cum_ESAL', u'SURFTHK', u'ULT',\n",
       "       u'TSfThick', u'tmin', u'tmax', u'cumESALs', u'IRIsi', u'Alli', u'Long',\n",
       "       u'E_Alli', u'E_Long', u'prep', u'MinT', u'MaxT', u'FTCycles',\n",
       "       u'actbthick', u'pctbthick', u'ftprep', u'BA', u'AA', u'SR', u'BMP',\n",
       "       u'SpeedLimit'],\n",
       "      dtype='object')"
      ]
     },
     "execution_count": 35,
     "metadata": {},
     "output_type": "execute_result"
    }
   ],
   "source": [
    "d3.columns"
   ]
  },
  {
   "cell_type": "code",
   "execution_count": 37,
   "metadata": {
    "collapsed": false
   },
   "outputs": [
    {
     "name": "stdout",
     "output_type": "stream",
     "text": [
      "True\n"
     ]
    },
    {
     "data": {
      "text/html": [
       "<div>\n",
       "<table border=\"1\" class=\"dataframe\">\n",
       "  <thead>\n",
       "    <tr style=\"text-align: right;\">\n",
       "      <th></th>\n",
       "      <th>UID</th>\n",
       "      <th>IsBridge</th>\n",
       "      <th>Lane Surface Type</th>\n",
       "      <th>LaneMiles</th>\n",
       "      <th>Region_x</th>\n",
       "      <th>FFClass</th>\n",
       "      <th>SurfaceTypeCode</th>\n",
       "      <th>STDescription</th>\n",
       "      <th>TreatBaseCode</th>\n",
       "      <th>TreatBaseDescription</th>\n",
       "      <th>...</th>\n",
       "      <th>pctbthick</th>\n",
       "      <th>ftprep</th>\n",
       "      <th>BA</th>\n",
       "      <th>AA</th>\n",
       "      <th>AADT</th>\n",
       "      <th>ptrucks</th>\n",
       "      <th>Trucks</th>\n",
       "      <th>PCars</th>\n",
       "      <th>VehMiles</th>\n",
       "      <th>TruckMiles</th>\n",
       "    </tr>\n",
       "  </thead>\n",
       "  <tbody>\n",
       "    <tr>\n",
       "      <th>0</th>\n",
       "      <td>650</td>\n",
       "      <td>0</td>\n",
       "      <td>ACP</td>\n",
       "      <td>0.20</td>\n",
       "      <td>North Central</td>\n",
       "      <td>Rural Other Principal Arterial</td>\n",
       "      <td>D2</td>\n",
       "      <td>ACP CLASS 1/2IN PG58-34</td>\n",
       "      <td>0</td>\n",
       "      <td>NaN</td>\n",
       "      <td>...</td>\n",
       "      <td>0</td>\n",
       "      <td>78155.358890</td>\n",
       "      <td>0</td>\n",
       "      <td>0</td>\n",
       "      <td>4257</td>\n",
       "      <td>8.42</td>\n",
       "      <td>107531.82</td>\n",
       "      <td>1446273.18</td>\n",
       "      <td>289254.6360</td>\n",
       "      <td>21506.3640</td>\n",
       "    </tr>\n",
       "    <tr>\n",
       "      <th>1</th>\n",
       "      <td>2651</td>\n",
       "      <td>0</td>\n",
       "      <td>ACP</td>\n",
       "      <td>0.30</td>\n",
       "      <td>Eastern</td>\n",
       "      <td>Rural Other Principal Arterial</td>\n",
       "      <td>BA</td>\n",
       "      <td>ACP CLASS B AR4000W</td>\n",
       "      <td>0</td>\n",
       "      <td>NaN</td>\n",
       "      <td>...</td>\n",
       "      <td>0</td>\n",
       "      <td>28866.599490</td>\n",
       "      <td>1</td>\n",
       "      <td>0</td>\n",
       "      <td>7834</td>\n",
       "      <td>12.01</td>\n",
       "      <td>282259.02</td>\n",
       "      <td>2577150.98</td>\n",
       "      <td>773145.2940</td>\n",
       "      <td>84677.7060</td>\n",
       "    </tr>\n",
       "    <tr>\n",
       "      <th>2</th>\n",
       "      <td>1193</td>\n",
       "      <td>0</td>\n",
       "      <td>ACP</td>\n",
       "      <td>0.20</td>\n",
       "      <td>North Central</td>\n",
       "      <td>Urban Other Freeway/Expressway</td>\n",
       "      <td>BA</td>\n",
       "      <td>ACP CLASS B AR4000W</td>\n",
       "      <td>0</td>\n",
       "      <td>NaN</td>\n",
       "      <td>...</td>\n",
       "      <td>0</td>\n",
       "      <td>4056.779846</td>\n",
       "      <td>1</td>\n",
       "      <td>0</td>\n",
       "      <td>21068</td>\n",
       "      <td>13.73</td>\n",
       "      <td>867790.92</td>\n",
       "      <td>6822029.08</td>\n",
       "      <td>1364405.8160</td>\n",
       "      <td>173558.1840</td>\n",
       "    </tr>\n",
       "    <tr>\n",
       "      <th>3</th>\n",
       "      <td>1070</td>\n",
       "      <td>0</td>\n",
       "      <td>ACP</td>\n",
       "      <td>0.20</td>\n",
       "      <td>North Central</td>\n",
       "      <td>Rural Other Freeway/Expressway</td>\n",
       "      <td>BA</td>\n",
       "      <td>ACP CLASS B AR4000W</td>\n",
       "      <td>0</td>\n",
       "      <td>NaN</td>\n",
       "      <td>...</td>\n",
       "      <td>0</td>\n",
       "      <td>6786.360077</td>\n",
       "      <td>1</td>\n",
       "      <td>0</td>\n",
       "      <td>14987</td>\n",
       "      <td>12.31</td>\n",
       "      <td>553469.91</td>\n",
       "      <td>4916785.09</td>\n",
       "      <td>983357.0180</td>\n",
       "      <td>110693.9820</td>\n",
       "    </tr>\n",
       "    <tr>\n",
       "      <th>4</th>\n",
       "      <td>1192</td>\n",
       "      <td>0</td>\n",
       "      <td>ACP</td>\n",
       "      <td>0.12</td>\n",
       "      <td>North Central</td>\n",
       "      <td>Urban Other Freeway/Expressway</td>\n",
       "      <td>H2</td>\n",
       "      <td>ACP CLASS 1/2IN PG70-28</td>\n",
       "      <td>0</td>\n",
       "      <td>NaN</td>\n",
       "      <td>...</td>\n",
       "      <td>0</td>\n",
       "      <td>4056.779846</td>\n",
       "      <td>0</td>\n",
       "      <td>0</td>\n",
       "      <td>19317</td>\n",
       "      <td>13.73</td>\n",
       "      <td>795667.23</td>\n",
       "      <td>6255037.77</td>\n",
       "      <td>750604.5324</td>\n",
       "      <td>95480.0676</td>\n",
       "    </tr>\n",
       "  </tbody>\n",
       "</table>\n",
       "<p>5 rows × 41 columns</p>\n",
       "</div>"
      ],
      "text/plain": [
       "    UID  IsBridge Lane Surface Type  LaneMiles       Region_x  \\\n",
       "0   650         0               ACP       0.20  North Central   \n",
       "1  2651         0               ACP       0.30        Eastern   \n",
       "2  1193         0               ACP       0.20  North Central   \n",
       "3  1070         0               ACP       0.20  North Central   \n",
       "4  1192         0               ACP       0.12  North Central   \n",
       "\n",
       "                          FFClass SurfaceTypeCode            STDescription  \\\n",
       "0  Rural Other Principal Arterial              D2  ACP CLASS 1/2IN PG58-34   \n",
       "1  Rural Other Principal Arterial              BA      ACP CLASS B AR4000W   \n",
       "2  Urban Other Freeway/Expressway              BA      ACP CLASS B AR4000W   \n",
       "3  Rural Other Freeway/Expressway              BA      ACP CLASS B AR4000W   \n",
       "4  Urban Other Freeway/Expressway              H2  ACP CLASS 1/2IN PG70-28   \n",
       "\n",
       "   TreatBaseCode TreatBaseDescription     ...       pctbthick        ftprep  \\\n",
       "0              0                  NaN     ...               0  78155.358890   \n",
       "1              0                  NaN     ...               0  28866.599490   \n",
       "2              0                  NaN     ...               0   4056.779846   \n",
       "3              0                  NaN     ...               0   6786.360077   \n",
       "4              0                  NaN     ...               0   4056.779846   \n",
       "\n",
       "   BA  AA   AADT  ptrucks     Trucks       PCars      VehMiles   TruckMiles  \n",
       "0   0   0   4257     8.42  107531.82  1446273.18   289254.6360   21506.3640  \n",
       "1   1   0   7834    12.01  282259.02  2577150.98   773145.2940   84677.7060  \n",
       "2   1   0  21068    13.73  867790.92  6822029.08  1364405.8160  173558.1840  \n",
       "3   1   0  14987    12.31  553469.91  4916785.09   983357.0180  110693.9820  \n",
       "4   0   0  19317    13.73  795667.23  6255037.77   750604.5324   95480.0676  \n",
       "\n",
       "[5 rows x 41 columns]"
      ]
     },
     "execution_count": 37,
     "metadata": {},
     "output_type": "execute_result"
    }
   ],
   "source": [
    "print len(d2) == len(d3)\n",
    "d2.head()"
   ]
  },
  {
   "cell_type": "code",
   "execution_count": 39,
   "metadata": {
    "collapsed": false
   },
   "outputs": [],
   "source": [
    "d4 = d3[['UID', 'SpeedLimit']]"
   ]
  },
  {
   "cell_type": "code",
   "execution_count": 40,
   "metadata": {
    "collapsed": false
   },
   "outputs": [
    {
     "name": "stdout",
     "output_type": "stream",
     "text": [
      "True\n"
     ]
    }
   ],
   "source": [
    "d5 = pd.merge(d2, d4, how = 'left', left_on = ['UID'], right_on = 'UID')\n",
    "print len(d5) == len(d2)"
   ]
  },
  {
   "cell_type": "code",
   "execution_count": 41,
   "metadata": {
    "collapsed": false
   },
   "outputs": [
    {
     "data": {
      "text/html": [
       "<div>\n",
       "<table border=\"1\" class=\"dataframe\">\n",
       "  <thead>\n",
       "    <tr style=\"text-align: right;\">\n",
       "      <th></th>\n",
       "      <th>UID</th>\n",
       "      <th>IsBridge</th>\n",
       "      <th>Lane Surface Type</th>\n",
       "      <th>LaneMiles</th>\n",
       "      <th>Region_x</th>\n",
       "      <th>FFClass</th>\n",
       "      <th>SurfaceTypeCode</th>\n",
       "      <th>STDescription</th>\n",
       "      <th>TreatBaseCode</th>\n",
       "      <th>TreatBaseDescription</th>\n",
       "      <th>...</th>\n",
       "      <th>ftprep</th>\n",
       "      <th>BA</th>\n",
       "      <th>AA</th>\n",
       "      <th>AADT</th>\n",
       "      <th>ptrucks</th>\n",
       "      <th>Trucks</th>\n",
       "      <th>PCars</th>\n",
       "      <th>VehMiles</th>\n",
       "      <th>TruckMiles</th>\n",
       "      <th>SpeedLimit</th>\n",
       "    </tr>\n",
       "  </thead>\n",
       "  <tbody>\n",
       "    <tr>\n",
       "      <th>0</th>\n",
       "      <td>650</td>\n",
       "      <td>0</td>\n",
       "      <td>ACP</td>\n",
       "      <td>0.20</td>\n",
       "      <td>North Central</td>\n",
       "      <td>Rural Other Principal Arterial</td>\n",
       "      <td>D2</td>\n",
       "      <td>ACP CLASS 1/2IN PG58-34</td>\n",
       "      <td>0</td>\n",
       "      <td>NaN</td>\n",
       "      <td>...</td>\n",
       "      <td>78155.358890</td>\n",
       "      <td>0</td>\n",
       "      <td>0</td>\n",
       "      <td>4257</td>\n",
       "      <td>8.42</td>\n",
       "      <td>107531.82</td>\n",
       "      <td>1446273.18</td>\n",
       "      <td>289254.6360</td>\n",
       "      <td>21506.3640</td>\n",
       "      <td>35</td>\n",
       "    </tr>\n",
       "    <tr>\n",
       "      <th>1</th>\n",
       "      <td>2651</td>\n",
       "      <td>0</td>\n",
       "      <td>ACP</td>\n",
       "      <td>0.30</td>\n",
       "      <td>Eastern</td>\n",
       "      <td>Rural Other Principal Arterial</td>\n",
       "      <td>BA</td>\n",
       "      <td>ACP CLASS B AR4000W</td>\n",
       "      <td>0</td>\n",
       "      <td>NaN</td>\n",
       "      <td>...</td>\n",
       "      <td>28866.599490</td>\n",
       "      <td>1</td>\n",
       "      <td>0</td>\n",
       "      <td>7834</td>\n",
       "      <td>12.01</td>\n",
       "      <td>282259.02</td>\n",
       "      <td>2577150.98</td>\n",
       "      <td>773145.2940</td>\n",
       "      <td>84677.7060</td>\n",
       "      <td>60</td>\n",
       "    </tr>\n",
       "    <tr>\n",
       "      <th>2</th>\n",
       "      <td>1193</td>\n",
       "      <td>0</td>\n",
       "      <td>ACP</td>\n",
       "      <td>0.20</td>\n",
       "      <td>North Central</td>\n",
       "      <td>Urban Other Freeway/Expressway</td>\n",
       "      <td>BA</td>\n",
       "      <td>ACP CLASS B AR4000W</td>\n",
       "      <td>0</td>\n",
       "      <td>NaN</td>\n",
       "      <td>...</td>\n",
       "      <td>4056.779846</td>\n",
       "      <td>1</td>\n",
       "      <td>0</td>\n",
       "      <td>21068</td>\n",
       "      <td>13.73</td>\n",
       "      <td>867790.92</td>\n",
       "      <td>6822029.08</td>\n",
       "      <td>1364405.8160</td>\n",
       "      <td>173558.1840</td>\n",
       "      <td>45</td>\n",
       "    </tr>\n",
       "    <tr>\n",
       "      <th>3</th>\n",
       "      <td>1070</td>\n",
       "      <td>0</td>\n",
       "      <td>ACP</td>\n",
       "      <td>0.20</td>\n",
       "      <td>North Central</td>\n",
       "      <td>Rural Other Freeway/Expressway</td>\n",
       "      <td>BA</td>\n",
       "      <td>ACP CLASS B AR4000W</td>\n",
       "      <td>0</td>\n",
       "      <td>NaN</td>\n",
       "      <td>...</td>\n",
       "      <td>6786.360077</td>\n",
       "      <td>1</td>\n",
       "      <td>0</td>\n",
       "      <td>14987</td>\n",
       "      <td>12.31</td>\n",
       "      <td>553469.91</td>\n",
       "      <td>4916785.09</td>\n",
       "      <td>983357.0180</td>\n",
       "      <td>110693.9820</td>\n",
       "      <td>60</td>\n",
       "    </tr>\n",
       "    <tr>\n",
       "      <th>4</th>\n",
       "      <td>1192</td>\n",
       "      <td>0</td>\n",
       "      <td>ACP</td>\n",
       "      <td>0.12</td>\n",
       "      <td>North Central</td>\n",
       "      <td>Urban Other Freeway/Expressway</td>\n",
       "      <td>H2</td>\n",
       "      <td>ACP CLASS 1/2IN PG70-28</td>\n",
       "      <td>0</td>\n",
       "      <td>NaN</td>\n",
       "      <td>...</td>\n",
       "      <td>4056.779846</td>\n",
       "      <td>0</td>\n",
       "      <td>0</td>\n",
       "      <td>19317</td>\n",
       "      <td>13.73</td>\n",
       "      <td>795667.23</td>\n",
       "      <td>6255037.77</td>\n",
       "      <td>750604.5324</td>\n",
       "      <td>95480.0676</td>\n",
       "      <td>45</td>\n",
       "    </tr>\n",
       "  </tbody>\n",
       "</table>\n",
       "<p>5 rows × 42 columns</p>\n",
       "</div>"
      ],
      "text/plain": [
       "    UID  IsBridge Lane Surface Type  LaneMiles       Region_x  \\\n",
       "0   650         0               ACP       0.20  North Central   \n",
       "1  2651         0               ACP       0.30        Eastern   \n",
       "2  1193         0               ACP       0.20  North Central   \n",
       "3  1070         0               ACP       0.20  North Central   \n",
       "4  1192         0               ACP       0.12  North Central   \n",
       "\n",
       "                          FFClass SurfaceTypeCode            STDescription  \\\n",
       "0  Rural Other Principal Arterial              D2  ACP CLASS 1/2IN PG58-34   \n",
       "1  Rural Other Principal Arterial              BA      ACP CLASS B AR4000W   \n",
       "2  Urban Other Freeway/Expressway              BA      ACP CLASS B AR4000W   \n",
       "3  Rural Other Freeway/Expressway              BA      ACP CLASS B AR4000W   \n",
       "4  Urban Other Freeway/Expressway              H2  ACP CLASS 1/2IN PG70-28   \n",
       "\n",
       "   TreatBaseCode TreatBaseDescription     ...            ftprep  BA  AA  \\\n",
       "0              0                  NaN     ...      78155.358890   0   0   \n",
       "1              0                  NaN     ...      28866.599490   1   0   \n",
       "2              0                  NaN     ...       4056.779846   1   0   \n",
       "3              0                  NaN     ...       6786.360077   1   0   \n",
       "4              0                  NaN     ...       4056.779846   0   0   \n",
       "\n",
       "    AADT  ptrucks     Trucks       PCars      VehMiles   TruckMiles  \\\n",
       "0   4257     8.42  107531.82  1446273.18   289254.6360   21506.3640   \n",
       "1   7834    12.01  282259.02  2577150.98   773145.2940   84677.7060   \n",
       "2  21068    13.73  867790.92  6822029.08  1364405.8160  173558.1840   \n",
       "3  14987    12.31  553469.91  4916785.09   983357.0180  110693.9820   \n",
       "4  19317    13.73  795667.23  6255037.77   750604.5324   95480.0676   \n",
       "\n",
       "   SpeedLimit  \n",
       "0          35  \n",
       "1          60  \n",
       "2          45  \n",
       "3          60  \n",
       "4          45  \n",
       "\n",
       "[5 rows x 42 columns]"
      ]
     },
     "execution_count": 41,
     "metadata": {},
     "output_type": "execute_result"
    }
   ],
   "source": [
    "d5.head()"
   ]
  },
  {
   "cell_type": "code",
   "execution_count": 42,
   "metadata": {
    "collapsed": true
   },
   "outputs": [],
   "source": [
    "d2 = d5.copy()"
   ]
  },
  {
   "cell_type": "code",
   "execution_count": 43,
   "metadata": {
    "collapsed": false
   },
   "outputs": [
    {
     "name": "stdout",
     "output_type": "stream",
     "text": [
      "100.0\n"
     ]
    }
   ],
   "source": [
    "print len(d2[d2.UID.isin(d1.UID)])*100.0/len(d2)"
   ]
  },
  {
   "cell_type": "code",
   "execution_count": 44,
   "metadata": {
    "collapsed": false
   },
   "outputs": [
    {
     "name": "stdout",
     "output_type": "stream",
     "text": [
      "True\n"
     ]
    }
   ],
   "source": [
    "d3 = pd.merge(d2,d1, how = 'left', left_on = 'UID', right_on = 'UID')\n",
    "print len(d3) == len(d2)"
   ]
  },
  {
   "cell_type": "code",
   "execution_count": 45,
   "metadata": {
    "collapsed": false
   },
   "outputs": [
    {
     "data": {
      "text/html": [
       "<div>\n",
       "<table border=\"1\" class=\"dataframe\">\n",
       "  <thead>\n",
       "    <tr style=\"text-align: right;\">\n",
       "      <th></th>\n",
       "      <th>UID</th>\n",
       "      <th>IsBridge</th>\n",
       "      <th>Lane Surface Type</th>\n",
       "      <th>LaneMiles</th>\n",
       "      <th>Region_x</th>\n",
       "      <th>FFClass</th>\n",
       "      <th>SurfaceTypeCode</th>\n",
       "      <th>STDescription</th>\n",
       "      <th>TreatBaseCode</th>\n",
       "      <th>TreatBaseDescription</th>\n",
       "      <th>...</th>\n",
       "      <th>ESALmean</th>\n",
       "      <th>ESALstd</th>\n",
       "      <th>PPTmean</th>\n",
       "      <th>PPTstd</th>\n",
       "      <th>MINTmean</th>\n",
       "      <th>MINTstd</th>\n",
       "      <th>MAXTmean</th>\n",
       "      <th>MAXTstd</th>\n",
       "      <th>FTCmean</th>\n",
       "      <th>FTCstd</th>\n",
       "    </tr>\n",
       "  </thead>\n",
       "  <tbody>\n",
       "    <tr>\n",
       "      <th>0</th>\n",
       "      <td>650</td>\n",
       "      <td>0</td>\n",
       "      <td>ACP</td>\n",
       "      <td>0.20</td>\n",
       "      <td>North Central</td>\n",
       "      <td>Rural Other Principal Arterial</td>\n",
       "      <td>D2</td>\n",
       "      <td>ACP CLASS 1/2IN PG58-34</td>\n",
       "      <td>0</td>\n",
       "      <td>NaN</td>\n",
       "      <td>...</td>\n",
       "      <td>44081.379449</td>\n",
       "      <td>6589.909598</td>\n",
       "      <td>2224.992258</td>\n",
       "      <td>426.469803</td>\n",
       "      <td>-7.831613</td>\n",
       "      <td>2.052909</td>\n",
       "      <td>20.842258</td>\n",
       "      <td>1.514390</td>\n",
       "      <td>109.058824</td>\n",
       "      <td>24.197347</td>\n",
       "    </tr>\n",
       "    <tr>\n",
       "      <th>1</th>\n",
       "      <td>2651</td>\n",
       "      <td>0</td>\n",
       "      <td>ACP</td>\n",
       "      <td>0.30</td>\n",
       "      <td>Eastern</td>\n",
       "      <td>Rural Other Principal Arterial</td>\n",
       "      <td>BA</td>\n",
       "      <td>ACP CLASS B AR4000W</td>\n",
       "      <td>0</td>\n",
       "      <td>NaN</td>\n",
       "      <td>...</td>\n",
       "      <td>115228.195023</td>\n",
       "      <td>17225.944328</td>\n",
       "      <td>406.129032</td>\n",
       "      <td>82.530361</td>\n",
       "      <td>-7.534194</td>\n",
       "      <td>2.057869</td>\n",
       "      <td>29.046129</td>\n",
       "      <td>1.505589</td>\n",
       "      <td>57.235294</td>\n",
       "      <td>13.751163</td>\n",
       "    </tr>\n",
       "    <tr>\n",
       "      <th>2</th>\n",
       "      <td>1193</td>\n",
       "      <td>0</td>\n",
       "      <td>ACP</td>\n",
       "      <td>0.20</td>\n",
       "      <td>North Central</td>\n",
       "      <td>Urban Other Freeway/Expressway</td>\n",
       "      <td>BA</td>\n",
       "      <td>ACP CLASS B AR4000W</td>\n",
       "      <td>0</td>\n",
       "      <td>NaN</td>\n",
       "      <td>...</td>\n",
       "      <td>302745.962932</td>\n",
       "      <td>62935.804968</td>\n",
       "      <td>235.987095</td>\n",
       "      <td>66.798432</td>\n",
       "      <td>-5.805484</td>\n",
       "      <td>2.233711</td>\n",
       "      <td>32.124194</td>\n",
       "      <td>1.326798</td>\n",
       "      <td>28.470588</td>\n",
       "      <td>15.065987</td>\n",
       "    </tr>\n",
       "    <tr>\n",
       "      <th>3</th>\n",
       "      <td>1070</td>\n",
       "      <td>0</td>\n",
       "      <td>ACP</td>\n",
       "      <td>0.20</td>\n",
       "      <td>North Central</td>\n",
       "      <td>Rural Other Freeway/Expressway</td>\n",
       "      <td>BA</td>\n",
       "      <td>ACP CLASS B AR4000W</td>\n",
       "      <td>0</td>\n",
       "      <td>NaN</td>\n",
       "      <td>...</td>\n",
       "      <td>238905.150962</td>\n",
       "      <td>35714.929228</td>\n",
       "      <td>417.224842</td>\n",
       "      <td>105.782953</td>\n",
       "      <td>-6.976774</td>\n",
       "      <td>2.114408</td>\n",
       "      <td>31.401935</td>\n",
       "      <td>1.365993</td>\n",
       "      <td>28.470588</td>\n",
       "      <td>15.065987</td>\n",
       "    </tr>\n",
       "    <tr>\n",
       "      <th>4</th>\n",
       "      <td>1192</td>\n",
       "      <td>0</td>\n",
       "      <td>ACP</td>\n",
       "      <td>0.12</td>\n",
       "      <td>North Central</td>\n",
       "      <td>Urban Other Freeway/Expressway</td>\n",
       "      <td>H2</td>\n",
       "      <td>ACP CLASS 1/2IN PG70-28</td>\n",
       "      <td>0</td>\n",
       "      <td>NaN</td>\n",
       "      <td>...</td>\n",
       "      <td>277551.984267</td>\n",
       "      <td>57698.399613</td>\n",
       "      <td>235.987095</td>\n",
       "      <td>66.798432</td>\n",
       "      <td>-5.805484</td>\n",
       "      <td>2.233711</td>\n",
       "      <td>32.124194</td>\n",
       "      <td>1.326798</td>\n",
       "      <td>28.470588</td>\n",
       "      <td>15.065987</td>\n",
       "    </tr>\n",
       "  </tbody>\n",
       "</table>\n",
       "<p>5 rows × 53 columns</p>\n",
       "</div>"
      ],
      "text/plain": [
       "    UID  IsBridge Lane Surface Type  LaneMiles       Region_x  \\\n",
       "0   650         0               ACP       0.20  North Central   \n",
       "1  2651         0               ACP       0.30        Eastern   \n",
       "2  1193         0               ACP       0.20  North Central   \n",
       "3  1070         0               ACP       0.20  North Central   \n",
       "4  1192         0               ACP       0.12  North Central   \n",
       "\n",
       "                          FFClass SurfaceTypeCode            STDescription  \\\n",
       "0  Rural Other Principal Arterial              D2  ACP CLASS 1/2IN PG58-34   \n",
       "1  Rural Other Principal Arterial              BA      ACP CLASS B AR4000W   \n",
       "2  Urban Other Freeway/Expressway              BA      ACP CLASS B AR4000W   \n",
       "3  Rural Other Freeway/Expressway              BA      ACP CLASS B AR4000W   \n",
       "4  Urban Other Freeway/Expressway              H2  ACP CLASS 1/2IN PG70-28   \n",
       "\n",
       "   TreatBaseCode TreatBaseDescription    ...           ESALmean       ESALstd  \\\n",
       "0              0                  NaN    ...       44081.379449   6589.909598   \n",
       "1              0                  NaN    ...      115228.195023  17225.944328   \n",
       "2              0                  NaN    ...      302745.962932  62935.804968   \n",
       "3              0                  NaN    ...      238905.150962  35714.929228   \n",
       "4              0                  NaN    ...      277551.984267  57698.399613   \n",
       "\n",
       "       PPTmean      PPTstd  MINTmean   MINTstd   MAXTmean   MAXTstd  \\\n",
       "0  2224.992258  426.469803 -7.831613  2.052909  20.842258  1.514390   \n",
       "1   406.129032   82.530361 -7.534194  2.057869  29.046129  1.505589   \n",
       "2   235.987095   66.798432 -5.805484  2.233711  32.124194  1.326798   \n",
       "3   417.224842  105.782953 -6.976774  2.114408  31.401935  1.365993   \n",
       "4   235.987095   66.798432 -5.805484  2.233711  32.124194  1.326798   \n",
       "\n",
       "      FTCmean     FTCstd  \n",
       "0  109.058824  24.197347  \n",
       "1   57.235294  13.751163  \n",
       "2   28.470588  15.065987  \n",
       "3   28.470588  15.065987  \n",
       "4   28.470588  15.065987  \n",
       "\n",
       "[5 rows x 53 columns]"
      ]
     },
     "execution_count": 45,
     "metadata": {},
     "output_type": "execute_result"
    }
   ],
   "source": [
    "d3.head()"
   ]
  },
  {
   "cell_type": "code",
   "execution_count": 46,
   "metadata": {
    "collapsed": false
   },
   "outputs": [
    {
     "data": {
      "text/plain": [
       "Index([u'UID', u'IsBridge', u'Lane Surface Type', u'LaneMiles', u'Region_x',\n",
       "       u'FFClass', u'SurfaceTypeCode', u'STDescription', u'TreatBaseCode',\n",
       "       u'TreatBaseDescription', u'TBThick', u'untrthick', u'Y_ESAL',\n",
       "       u'MajorRehabYear', u'Cum_ESAL', u'SURFTHK', u'ULT', u'TSfThick',\n",
       "       u'tmin', u'tmax', u'cumESALs', u'IRIsi', u'Alli', u'Long', u'E_Alli',\n",
       "       u'E_Long', u'prep', u'MinT', u'MaxT', u'FTCycles', u'actbthick',\n",
       "       u'pctbthick', u'ftprep', u'BA', u'AA', u'AADT', u'ptrucks', u'Trucks',\n",
       "       u'PCars', u'VehMiles', u'TruckMiles', u'SpeedLimit', u'Unnamed: 0',\n",
       "       u'ESALmean', u'ESALstd', u'PPTmean', u'PPTstd', u'MINTmean', u'MINTstd',\n",
       "       u'MAXTmean', u'MAXTstd', u'FTCmean', u'FTCstd'],\n",
       "      dtype='object')"
      ]
     },
     "execution_count": 46,
     "metadata": {},
     "output_type": "execute_result"
    }
   ],
   "source": [
    "d3.columns"
   ]
  },
  {
   "cell_type": "code",
   "execution_count": 48,
   "metadata": {
    "collapsed": false
   },
   "outputs": [
    {
     "data": {
      "text/html": [
       "<div>\n",
       "<table border=\"1\" class=\"dataframe\">\n",
       "  <thead>\n",
       "    <tr style=\"text-align: right;\">\n",
       "      <th></th>\n",
       "      <th>UID</th>\n",
       "      <th>Lane Surface Type</th>\n",
       "      <th>SURFTHK</th>\n",
       "      <th>ULT</th>\n",
       "    </tr>\n",
       "  </thead>\n",
       "  <tbody>\n",
       "    <tr>\n",
       "      <th>0</th>\n",
       "      <td>650</td>\n",
       "      <td>ACP</td>\n",
       "      <td>0.17</td>\n",
       "      <td>1.40</td>\n",
       "    </tr>\n",
       "    <tr>\n",
       "      <th>1</th>\n",
       "      <td>2651</td>\n",
       "      <td>ACP</td>\n",
       "      <td>0.15</td>\n",
       "      <td>2.47</td>\n",
       "    </tr>\n",
       "    <tr>\n",
       "      <th>2</th>\n",
       "      <td>1193</td>\n",
       "      <td>ACP</td>\n",
       "      <td>0.25</td>\n",
       "      <td>1.55</td>\n",
       "    </tr>\n",
       "    <tr>\n",
       "      <th>3</th>\n",
       "      <td>1070</td>\n",
       "      <td>ACP</td>\n",
       "      <td>0.25</td>\n",
       "      <td>1.29</td>\n",
       "    </tr>\n",
       "    <tr>\n",
       "      <th>4</th>\n",
       "      <td>1192</td>\n",
       "      <td>ACP</td>\n",
       "      <td>0.15</td>\n",
       "      <td>1.48</td>\n",
       "    </tr>\n",
       "  </tbody>\n",
       "</table>\n",
       "</div>"
      ],
      "text/plain": [
       "    UID Lane Surface Type  SURFTHK   ULT\n",
       "0   650               ACP     0.17  1.40\n",
       "1  2651               ACP     0.15  2.47\n",
       "2  1193               ACP     0.25  1.55\n",
       "3  1070               ACP     0.25  1.29\n",
       "4  1192               ACP     0.15  1.48"
      ]
     },
     "execution_count": 48,
     "metadata": {},
     "output_type": "execute_result"
    }
   ],
   "source": [
    "d3[['UID', 'Lane Surface Type', 'SURFTHK', 'ULT']].head()"
   ]
  },
  {
   "cell_type": "code",
   "execution_count": 49,
   "metadata": {
    "collapsed": true
   },
   "outputs": [],
   "source": [
    "ds = d3[[u'UID', u'IsBridge', u'Lane Surface Type', u'LaneMiles', u'Region_x',\n",
    "       u'FFClass', u'SurfaceTypeCode', u'STDescription', u'TreatBaseCode',\n",
    "       u'TreatBaseDescription', u'TBThick', u'untrthick', u'Y_ESAL',\n",
    "       u'MajorRehabYear', u'Cum_ESAL', u'SURFTHK', u'ULT', u'TSfThick',\n",
    "       u'tmin', u'tmax', u'cumESALs', u'IRIsi', u'Alli', u'Long', u'E_Alli',\n",
    "       u'E_Long', u'prep', u'MinT', u'MaxT', u'FTCycles', u'actbthick',\n",
    "       u'pctbthick', u'ftprep', u'BA', u'AA', u'AADT', u'ptrucks', u'Trucks',\n",
    "       u'PCars', u'VehMiles', u'TruckMiles', u'SpeedLimit',\n",
    "       u'ESALmean', u'ESALstd', u'PPTmean', u'PPTstd', u'MINTmean', u'MINTstd',\n",
    "       u'MAXTmean', u'MAXTstd', u'FTCmean', u'FTCstd']]"
   ]
  },
  {
   "cell_type": "code",
   "execution_count": 50,
   "metadata": {
    "collapsed": false
   },
   "outputs": [
    {
     "name": "stderr",
     "output_type": "stream",
     "text": [
      "/Users/Alan/anaconda2/lib/python2.7/site-packages/ipykernel/__main__.py:1: SettingWithCopyWarning: \n",
      "A value is trying to be set on a copy of a slice from a DataFrame.\n",
      "Try using .loc[row_indexer,col_indexer] = value instead\n",
      "\n",
      "See the caveats in the documentation: http://pandas.pydata.org/pandas-docs/stable/indexing.html#indexing-view-versus-copy\n",
      "  if __name__ == '__main__':\n"
     ]
    }
   ],
   "source": [
    "ds['SpeedLimit'] = ds.SpeedLimit.astype(int)"
   ]
  },
  {
   "cell_type": "code",
   "execution_count": 51,
   "metadata": {
    "collapsed": false
   },
   "outputs": [
    {
     "data": {
      "text/plain": [
       "0    35\n",
       "1    60\n",
       "2    45\n",
       "3    60\n",
       "4    45\n",
       "Name: SpeedLimit, dtype: int64"
      ]
     },
     "execution_count": 51,
     "metadata": {},
     "output_type": "execute_result"
    }
   ],
   "source": [
    "ds.SpeedLimit.head()"
   ]
  },
  {
   "cell_type": "code",
   "execution_count": 52,
   "metadata": {
    "collapsed": true
   },
   "outputs": [],
   "source": [
    "ds.to_csv('../../Research Data/Rmodels/data/mcsdataset.csv')"
   ]
  },
  {
   "cell_type": "markdown",
   "metadata": {},
   "source": [
    "# working on fuel efficiency dataset"
   ]
  },
  {
   "cell_type": "code",
   "execution_count": 19,
   "metadata": {
    "collapsed": true
   },
   "outputs": [],
   "source": [
    "df = pd.read_csv('../../Research Data/Rmodels/data/VehFE2.csv')"
   ]
  },
  {
   "cell_type": "code",
   "execution_count": 20,
   "metadata": {
    "collapsed": false
   },
   "outputs": [
    {
     "data": {
      "text/html": [
       "<div>\n",
       "<table border=\"1\" class=\"dataframe\">\n",
       "  <thead>\n",
       "    <tr style=\"text-align: right;\">\n",
       "      <th></th>\n",
       "      <th>Unnamed: 0</th>\n",
       "      <th>IRI</th>\n",
       "      <th>PC25</th>\n",
       "      <th>PT25</th>\n",
       "      <th>PC30</th>\n",
       "      <th>PT30</th>\n",
       "      <th>PC35</th>\n",
       "      <th>PT35</th>\n",
       "      <th>PC40</th>\n",
       "      <th>PT40</th>\n",
       "      <th>...</th>\n",
       "      <th>PC50</th>\n",
       "      <th>PT50</th>\n",
       "      <th>PC55</th>\n",
       "      <th>PT55</th>\n",
       "      <th>PC60</th>\n",
       "      <th>PT60</th>\n",
       "      <th>PC65</th>\n",
       "      <th>PT65</th>\n",
       "      <th>PC70</th>\n",
       "      <th>PT70</th>\n",
       "    </tr>\n",
       "  </thead>\n",
       "  <tbody>\n",
       "    <tr>\n",
       "      <th>0</th>\n",
       "      <td>0</td>\n",
       "      <td>2.00</td>\n",
       "      <td>34.664233</td>\n",
       "      <td>15.343837</td>\n",
       "      <td>33.007217</td>\n",
       "      <td>14.453644</td>\n",
       "      <td>31.350200</td>\n",
       "      <td>13.563450</td>\n",
       "      <td>29.693183</td>\n",
       "      <td>12.673256</td>\n",
       "      <td>...</td>\n",
       "      <td>26.379150</td>\n",
       "      <td>10.892869</td>\n",
       "      <td>24.722133</td>\n",
       "      <td>10.002675</td>\n",
       "      <td>22.534165</td>\n",
       "      <td>8.807644</td>\n",
       "      <td>20.580273</td>\n",
       "      <td>7.608519</td>\n",
       "      <td>18.608190</td>\n",
       "      <td>6.405300</td>\n",
       "    </tr>\n",
       "    <tr>\n",
       "      <th>1</th>\n",
       "      <td>1</td>\n",
       "      <td>2.01</td>\n",
       "      <td>34.656694</td>\n",
       "      <td>15.341129</td>\n",
       "      <td>33.000259</td>\n",
       "      <td>14.451273</td>\n",
       "      <td>31.343802</td>\n",
       "      <td>13.561395</td>\n",
       "      <td>29.687323</td>\n",
       "      <td>12.671494</td>\n",
       "      <td>...</td>\n",
       "      <td>26.374298</td>\n",
       "      <td>10.891627</td>\n",
       "      <td>24.717752</td>\n",
       "      <td>10.001660</td>\n",
       "      <td>22.531090</td>\n",
       "      <td>8.806752</td>\n",
       "      <td>20.576772</td>\n",
       "      <td>7.607750</td>\n",
       "      <td>18.604404</td>\n",
       "      <td>6.404653</td>\n",
       "    </tr>\n",
       "    <tr>\n",
       "      <th>2</th>\n",
       "      <td>2</td>\n",
       "      <td>2.02</td>\n",
       "      <td>34.649036</td>\n",
       "      <td>15.338403</td>\n",
       "      <td>32.993245</td>\n",
       "      <td>14.448889</td>\n",
       "      <td>31.337404</td>\n",
       "      <td>13.559330</td>\n",
       "      <td>29.681513</td>\n",
       "      <td>12.669725</td>\n",
       "      <td>...</td>\n",
       "      <td>26.369581</td>\n",
       "      <td>10.890383</td>\n",
       "      <td>24.713539</td>\n",
       "      <td>10.000644</td>\n",
       "      <td>22.528469</td>\n",
       "      <td>8.805859</td>\n",
       "      <td>20.573477</td>\n",
       "      <td>7.606980</td>\n",
       "      <td>18.600618</td>\n",
       "      <td>6.404006</td>\n",
       "    </tr>\n",
       "    <tr>\n",
       "      <th>3</th>\n",
       "      <td>3</td>\n",
       "      <td>2.03</td>\n",
       "      <td>34.641378</td>\n",
       "      <td>15.335677</td>\n",
       "      <td>32.986231</td>\n",
       "      <td>14.446504</td>\n",
       "      <td>31.331006</td>\n",
       "      <td>13.557264</td>\n",
       "      <td>29.675703</td>\n",
       "      <td>12.667956</td>\n",
       "      <td>...</td>\n",
       "      <td>26.364863</td>\n",
       "      <td>10.889139</td>\n",
       "      <td>24.709326</td>\n",
       "      <td>9.999629</td>\n",
       "      <td>22.525848</td>\n",
       "      <td>8.804966</td>\n",
       "      <td>20.570183</td>\n",
       "      <td>7.606210</td>\n",
       "      <td>18.596832</td>\n",
       "      <td>6.403359</td>\n",
       "    </tr>\n",
       "    <tr>\n",
       "      <th>4</th>\n",
       "      <td>4</td>\n",
       "      <td>2.04</td>\n",
       "      <td>34.633720</td>\n",
       "      <td>15.332951</td>\n",
       "      <td>32.979217</td>\n",
       "      <td>14.444120</td>\n",
       "      <td>31.324608</td>\n",
       "      <td>13.555199</td>\n",
       "      <td>29.669893</td>\n",
       "      <td>12.666187</td>\n",
       "      <td>...</td>\n",
       "      <td>26.360146</td>\n",
       "      <td>10.887894</td>\n",
       "      <td>24.705113</td>\n",
       "      <td>9.998613</td>\n",
       "      <td>22.523227</td>\n",
       "      <td>8.804074</td>\n",
       "      <td>20.566888</td>\n",
       "      <td>7.605440</td>\n",
       "      <td>18.593046</td>\n",
       "      <td>6.402712</td>\n",
       "    </tr>\n",
       "  </tbody>\n",
       "</table>\n",
       "<p>5 rows × 22 columns</p>\n",
       "</div>"
      ],
      "text/plain": [
       "   Unnamed: 0   IRI       PC25       PT25       PC30       PT30       PC35  \\\n",
       "0           0  2.00  34.664233  15.343837  33.007217  14.453644  31.350200   \n",
       "1           1  2.01  34.656694  15.341129  33.000259  14.451273  31.343802   \n",
       "2           2  2.02  34.649036  15.338403  32.993245  14.448889  31.337404   \n",
       "3           3  2.03  34.641378  15.335677  32.986231  14.446504  31.331006   \n",
       "4           4  2.04  34.633720  15.332951  32.979217  14.444120  31.324608   \n",
       "\n",
       "        PT35       PC40       PT40    ...          PC50       PT50       PC55  \\\n",
       "0  13.563450  29.693183  12.673256    ...     26.379150  10.892869  24.722133   \n",
       "1  13.561395  29.687323  12.671494    ...     26.374298  10.891627  24.717752   \n",
       "2  13.559330  29.681513  12.669725    ...     26.369581  10.890383  24.713539   \n",
       "3  13.557264  29.675703  12.667956    ...     26.364863  10.889139  24.709326   \n",
       "4  13.555199  29.669893  12.666187    ...     26.360146  10.887894  24.705113   \n",
       "\n",
       "        PT55       PC60      PT60       PC65      PT65       PC70      PT70  \n",
       "0  10.002675  22.534165  8.807644  20.580273  7.608519  18.608190  6.405300  \n",
       "1  10.001660  22.531090  8.806752  20.576772  7.607750  18.604404  6.404653  \n",
       "2  10.000644  22.528469  8.805859  20.573477  7.606980  18.600618  6.404006  \n",
       "3   9.999629  22.525848  8.804966  20.570183  7.606210  18.596832  6.403359  \n",
       "4   9.998613  22.523227  8.804074  20.566888  7.605440  18.593046  6.402712  \n",
       "\n",
       "[5 rows x 22 columns]"
      ]
     },
     "execution_count": 20,
     "metadata": {},
     "output_type": "execute_result"
    }
   ],
   "source": [
    "df.head()"
   ]
  },
  {
   "cell_type": "code",
   "execution_count": 21,
   "metadata": {
    "collapsed": true
   },
   "outputs": [],
   "source": [
    "df['IRI'] = df.IRI.mul(100)"
   ]
  },
  {
   "cell_type": "code",
   "execution_count": 22,
   "metadata": {
    "collapsed": false
   },
   "outputs": [
    {
     "data": {
      "text/plain": [
       "Index([u'Unnamed: 0', u'IRI', u'PC25', u'PT25', u'PC30', u'PT30', u'PC35',\n",
       "       u'PT35', u'PC40', u'PT40', u'PC45', u'PT45', u'PC50', u'PT50', u'PC55',\n",
       "       u'PT55', u'PC60', u'PT60', u'PC65', u'PT65', u'PC70', u'PT70'],\n",
       "      dtype='object')"
      ]
     },
     "execution_count": 22,
     "metadata": {},
     "output_type": "execute_result"
    }
   ],
   "source": [
    "df.columns"
   ]
  },
  {
   "cell_type": "code",
   "execution_count": 24,
   "metadata": {
    "collapsed": false
   },
   "outputs": [],
   "source": [
    "feds = df[[u'IRI', u'PC25', u'PT25', u'PC30', u'PT30', u'PC35',\n",
    "       u'PT35', u'PC40', u'PT40', u'PC45', u'PT45', u'PC50', u'PT50', u'PC55',\n",
    "       u'PT55', u'PC60', u'PT60', u'PC65', u'PT65', u'PC70', u'PT70']]"
   ]
  },
  {
   "cell_type": "code",
   "execution_count": 25,
   "metadata": {
    "collapsed": false
   },
   "outputs": [
    {
     "data": {
      "text/html": [
       "<div>\n",
       "<table border=\"1\" class=\"dataframe\">\n",
       "  <thead>\n",
       "    <tr style=\"text-align: right;\">\n",
       "      <th></th>\n",
       "      <th>IRI</th>\n",
       "      <th>PC25</th>\n",
       "      <th>PT25</th>\n",
       "      <th>PC30</th>\n",
       "      <th>PT30</th>\n",
       "      <th>PC35</th>\n",
       "      <th>PT35</th>\n",
       "      <th>PC40</th>\n",
       "      <th>PT40</th>\n",
       "      <th>PC45</th>\n",
       "      <th>...</th>\n",
       "      <th>PC50</th>\n",
       "      <th>PT50</th>\n",
       "      <th>PC55</th>\n",
       "      <th>PT55</th>\n",
       "      <th>PC60</th>\n",
       "      <th>PT60</th>\n",
       "      <th>PC65</th>\n",
       "      <th>PT65</th>\n",
       "      <th>PC70</th>\n",
       "      <th>PT70</th>\n",
       "    </tr>\n",
       "  </thead>\n",
       "  <tbody>\n",
       "    <tr>\n",
       "      <th>0</th>\n",
       "      <td>200</td>\n",
       "      <td>34.664233</td>\n",
       "      <td>15.343837</td>\n",
       "      <td>33.007217</td>\n",
       "      <td>14.453644</td>\n",
       "      <td>31.350200</td>\n",
       "      <td>13.563450</td>\n",
       "      <td>29.693183</td>\n",
       "      <td>12.673256</td>\n",
       "      <td>28.036167</td>\n",
       "      <td>...</td>\n",
       "      <td>26.379150</td>\n",
       "      <td>10.892869</td>\n",
       "      <td>24.722133</td>\n",
       "      <td>10.002675</td>\n",
       "      <td>22.534165</td>\n",
       "      <td>8.807644</td>\n",
       "      <td>20.580273</td>\n",
       "      <td>7.608519</td>\n",
       "      <td>18.608190</td>\n",
       "      <td>6.405300</td>\n",
       "    </tr>\n",
       "    <tr>\n",
       "      <th>1</th>\n",
       "      <td>201</td>\n",
       "      <td>34.656694</td>\n",
       "      <td>15.341129</td>\n",
       "      <td>33.000259</td>\n",
       "      <td>14.451273</td>\n",
       "      <td>31.343802</td>\n",
       "      <td>13.561395</td>\n",
       "      <td>29.687323</td>\n",
       "      <td>12.671494</td>\n",
       "      <td>28.030821</td>\n",
       "      <td>...</td>\n",
       "      <td>26.374298</td>\n",
       "      <td>10.891627</td>\n",
       "      <td>24.717752</td>\n",
       "      <td>10.001660</td>\n",
       "      <td>22.531090</td>\n",
       "      <td>8.806752</td>\n",
       "      <td>20.576772</td>\n",
       "      <td>7.607750</td>\n",
       "      <td>18.604404</td>\n",
       "      <td>6.404653</td>\n",
       "    </tr>\n",
       "    <tr>\n",
       "      <th>2</th>\n",
       "      <td>202</td>\n",
       "      <td>34.649036</td>\n",
       "      <td>15.338403</td>\n",
       "      <td>32.993245</td>\n",
       "      <td>14.448889</td>\n",
       "      <td>31.337404</td>\n",
       "      <td>13.559330</td>\n",
       "      <td>29.681513</td>\n",
       "      <td>12.669725</td>\n",
       "      <td>28.025572</td>\n",
       "      <td>...</td>\n",
       "      <td>26.369581</td>\n",
       "      <td>10.890383</td>\n",
       "      <td>24.713539</td>\n",
       "      <td>10.000644</td>\n",
       "      <td>22.528469</td>\n",
       "      <td>8.805859</td>\n",
       "      <td>20.573477</td>\n",
       "      <td>7.606980</td>\n",
       "      <td>18.600618</td>\n",
       "      <td>6.404006</td>\n",
       "    </tr>\n",
       "    <tr>\n",
       "      <th>3</th>\n",
       "      <td>203</td>\n",
       "      <td>34.641378</td>\n",
       "      <td>15.335677</td>\n",
       "      <td>32.986231</td>\n",
       "      <td>14.446504</td>\n",
       "      <td>31.331006</td>\n",
       "      <td>13.557264</td>\n",
       "      <td>29.675703</td>\n",
       "      <td>12.667956</td>\n",
       "      <td>28.020322</td>\n",
       "      <td>...</td>\n",
       "      <td>26.364863</td>\n",
       "      <td>10.889139</td>\n",
       "      <td>24.709326</td>\n",
       "      <td>9.999629</td>\n",
       "      <td>22.525848</td>\n",
       "      <td>8.804966</td>\n",
       "      <td>20.570183</td>\n",
       "      <td>7.606210</td>\n",
       "      <td>18.596832</td>\n",
       "      <td>6.403359</td>\n",
       "    </tr>\n",
       "    <tr>\n",
       "      <th>4</th>\n",
       "      <td>204</td>\n",
       "      <td>34.633720</td>\n",
       "      <td>15.332951</td>\n",
       "      <td>32.979217</td>\n",
       "      <td>14.444120</td>\n",
       "      <td>31.324608</td>\n",
       "      <td>13.555199</td>\n",
       "      <td>29.669893</td>\n",
       "      <td>12.666187</td>\n",
       "      <td>28.015073</td>\n",
       "      <td>...</td>\n",
       "      <td>26.360146</td>\n",
       "      <td>10.887894</td>\n",
       "      <td>24.705113</td>\n",
       "      <td>9.998613</td>\n",
       "      <td>22.523227</td>\n",
       "      <td>8.804074</td>\n",
       "      <td>20.566888</td>\n",
       "      <td>7.605440</td>\n",
       "      <td>18.593046</td>\n",
       "      <td>6.402712</td>\n",
       "    </tr>\n",
       "  </tbody>\n",
       "</table>\n",
       "<p>5 rows × 21 columns</p>\n",
       "</div>"
      ],
      "text/plain": [
       "   IRI       PC25       PT25       PC30       PT30       PC35       PT35  \\\n",
       "0  200  34.664233  15.343837  33.007217  14.453644  31.350200  13.563450   \n",
       "1  201  34.656694  15.341129  33.000259  14.451273  31.343802  13.561395   \n",
       "2  202  34.649036  15.338403  32.993245  14.448889  31.337404  13.559330   \n",
       "3  203  34.641378  15.335677  32.986231  14.446504  31.331006  13.557264   \n",
       "4  204  34.633720  15.332951  32.979217  14.444120  31.324608  13.555199   \n",
       "\n",
       "        PC40       PT40       PC45    ...          PC50       PT50       PC55  \\\n",
       "0  29.693183  12.673256  28.036167    ...     26.379150  10.892869  24.722133   \n",
       "1  29.687323  12.671494  28.030821    ...     26.374298  10.891627  24.717752   \n",
       "2  29.681513  12.669725  28.025572    ...     26.369581  10.890383  24.713539   \n",
       "3  29.675703  12.667956  28.020322    ...     26.364863  10.889139  24.709326   \n",
       "4  29.669893  12.666187  28.015073    ...     26.360146  10.887894  24.705113   \n",
       "\n",
       "        PT55       PC60      PT60       PC65      PT65       PC70      PT70  \n",
       "0  10.002675  22.534165  8.807644  20.580273  7.608519  18.608190  6.405300  \n",
       "1  10.001660  22.531090  8.806752  20.576772  7.607750  18.604404  6.404653  \n",
       "2  10.000644  22.528469  8.805859  20.573477  7.606980  18.600618  6.404006  \n",
       "3   9.999629  22.525848  8.804966  20.570183  7.606210  18.596832  6.403359  \n",
       "4   9.998613  22.523227  8.804074  20.566888  7.605440  18.593046  6.402712  \n",
       "\n",
       "[5 rows x 21 columns]"
      ]
     },
     "execution_count": 25,
     "metadata": {},
     "output_type": "execute_result"
    }
   ],
   "source": [
    "feds.head()"
   ]
  },
  {
   "cell_type": "code",
   "execution_count": 27,
   "metadata": {
    "collapsed": false
   },
   "outputs": [
    {
     "name": "stderr",
     "output_type": "stream",
     "text": [
      "/Users/Alan/anaconda2/lib/python2.7/site-packages/ipykernel/__main__.py:1: SettingWithCopyWarning: \n",
      "A value is trying to be set on a copy of a slice from a DataFrame.\n",
      "Try using .loc[row_indexer,col_indexer] = value instead\n",
      "\n",
      "See the caveats in the documentation: http://pandas.pydata.org/pandas-docs/stable/indexing.html#indexing-view-versus-copy\n",
      "  if __name__ == '__main__':\n"
     ]
    }
   ],
   "source": [
    "feds['IRI'] = feds.IRI.astype(int)"
   ]
  },
  {
   "cell_type": "code",
   "execution_count": 29,
   "metadata": {
    "collapsed": false
   },
   "outputs": [
    {
     "data": {
      "text/plain": [
       "0    200\n",
       "1    200\n",
       "2    202\n",
       "3    202\n",
       "4    204\n",
       "Name: IRI, dtype: int64"
      ]
     },
     "execution_count": 29,
     "metadata": {},
     "output_type": "execute_result"
    }
   ],
   "source": [
    "feds.IRI.head()"
   ]
  },
  {
   "cell_type": "code",
   "execution_count": 28,
   "metadata": {
    "collapsed": true
   },
   "outputs": [],
   "source": [
    "feds.to_csv('../../Research Data/Rmodels/data/VehFuelE.csv') # Vehicle Fuel Efficiency dataset"
   ]
  }
 ],
 "metadata": {
  "kernelspec": {
   "display_name": "Python 2",
   "language": "python",
   "name": "python2"
  },
  "language_info": {
   "codemirror_mode": {
    "name": "ipython",
    "version": 2
   },
   "file_extension": ".py",
   "mimetype": "text/x-python",
   "name": "python",
   "nbconvert_exporter": "python",
   "pygments_lexer": "ipython2",
   "version": "2.7.10"
  }
 },
 "nbformat": 4,
 "nbformat_minor": 0
}
