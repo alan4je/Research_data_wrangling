{
 "cells": [
  {
   "cell_type": "code",
   "execution_count": 1,
   "metadata": {
    "collapsed": true
   },
   "outputs": [],
   "source": [
    "import pandas as pd, numpy as np"
   ]
  },
  {
   "cell_type": "code",
   "execution_count": 3,
   "metadata": {
    "collapsed": false
   },
   "outputs": [],
   "source": [
    "ds = pd.read_csv(\"../../Research Data/Rmodels/data/mcsdataset.csv\")"
   ]
  },
  {
   "cell_type": "code",
   "execution_count": 4,
   "metadata": {
    "collapsed": false
   },
   "outputs": [
    {
     "data": {
      "text/html": [
       "<div>\n",
       "<table border=\"1\" class=\"dataframe\">\n",
       "  <thead>\n",
       "    <tr style=\"text-align: right;\">\n",
       "      <th></th>\n",
       "      <th>Unnamed: 0</th>\n",
       "      <th>UID</th>\n",
       "      <th>IsBridge</th>\n",
       "      <th>Lane Surface Type</th>\n",
       "      <th>LaneMiles</th>\n",
       "      <th>Region_x</th>\n",
       "      <th>FFClass</th>\n",
       "      <th>SurfaceTypeCode</th>\n",
       "      <th>STDescription</th>\n",
       "      <th>TreatBaseCode</th>\n",
       "      <th>...</th>\n",
       "      <th>ESALmean</th>\n",
       "      <th>ESALstd</th>\n",
       "      <th>PPTmean</th>\n",
       "      <th>PPTstd</th>\n",
       "      <th>MINTmean</th>\n",
       "      <th>MINTstd</th>\n",
       "      <th>MAXTmean</th>\n",
       "      <th>MAXTstd</th>\n",
       "      <th>FTCmean</th>\n",
       "      <th>FTCstd</th>\n",
       "    </tr>\n",
       "  </thead>\n",
       "  <tbody>\n",
       "    <tr>\n",
       "      <th>0</th>\n",
       "      <td>0</td>\n",
       "      <td>650</td>\n",
       "      <td>0</td>\n",
       "      <td>ACP</td>\n",
       "      <td>0.20</td>\n",
       "      <td>North Central</td>\n",
       "      <td>Rural Other Principal Arterial</td>\n",
       "      <td>D2</td>\n",
       "      <td>ACP CLASS 1/2IN PG58-34</td>\n",
       "      <td>0</td>\n",
       "      <td>...</td>\n",
       "      <td>44081.379449</td>\n",
       "      <td>6589.909598</td>\n",
       "      <td>2224.992258</td>\n",
       "      <td>426.469803</td>\n",
       "      <td>-7.831613</td>\n",
       "      <td>2.052909</td>\n",
       "      <td>20.842258</td>\n",
       "      <td>1.514390</td>\n",
       "      <td>109.058824</td>\n",
       "      <td>24.197347</td>\n",
       "    </tr>\n",
       "    <tr>\n",
       "      <th>1</th>\n",
       "      <td>1</td>\n",
       "      <td>2651</td>\n",
       "      <td>0</td>\n",
       "      <td>ACP</td>\n",
       "      <td>0.30</td>\n",
       "      <td>Eastern</td>\n",
       "      <td>Rural Other Principal Arterial</td>\n",
       "      <td>BA</td>\n",
       "      <td>ACP CLASS B AR4000W</td>\n",
       "      <td>0</td>\n",
       "      <td>...</td>\n",
       "      <td>115228.195023</td>\n",
       "      <td>17225.944328</td>\n",
       "      <td>406.129032</td>\n",
       "      <td>82.530361</td>\n",
       "      <td>-7.534194</td>\n",
       "      <td>2.057869</td>\n",
       "      <td>29.046129</td>\n",
       "      <td>1.505589</td>\n",
       "      <td>57.235294</td>\n",
       "      <td>13.751163</td>\n",
       "    </tr>\n",
       "    <tr>\n",
       "      <th>2</th>\n",
       "      <td>2</td>\n",
       "      <td>1193</td>\n",
       "      <td>0</td>\n",
       "      <td>ACP</td>\n",
       "      <td>0.20</td>\n",
       "      <td>North Central</td>\n",
       "      <td>Urban Other Freeway/Expressway</td>\n",
       "      <td>BA</td>\n",
       "      <td>ACP CLASS B AR4000W</td>\n",
       "      <td>0</td>\n",
       "      <td>...</td>\n",
       "      <td>302745.962932</td>\n",
       "      <td>62935.804968</td>\n",
       "      <td>235.987095</td>\n",
       "      <td>66.798432</td>\n",
       "      <td>-5.805484</td>\n",
       "      <td>2.233711</td>\n",
       "      <td>32.124194</td>\n",
       "      <td>1.326798</td>\n",
       "      <td>28.470588</td>\n",
       "      <td>15.065987</td>\n",
       "    </tr>\n",
       "    <tr>\n",
       "      <th>3</th>\n",
       "      <td>3</td>\n",
       "      <td>1070</td>\n",
       "      <td>0</td>\n",
       "      <td>ACP</td>\n",
       "      <td>0.20</td>\n",
       "      <td>North Central</td>\n",
       "      <td>Rural Other Freeway/Expressway</td>\n",
       "      <td>BA</td>\n",
       "      <td>ACP CLASS B AR4000W</td>\n",
       "      <td>0</td>\n",
       "      <td>...</td>\n",
       "      <td>238905.150962</td>\n",
       "      <td>35714.929228</td>\n",
       "      <td>417.224842</td>\n",
       "      <td>105.782953</td>\n",
       "      <td>-6.976774</td>\n",
       "      <td>2.114408</td>\n",
       "      <td>31.401935</td>\n",
       "      <td>1.365993</td>\n",
       "      <td>28.470588</td>\n",
       "      <td>15.065987</td>\n",
       "    </tr>\n",
       "    <tr>\n",
       "      <th>4</th>\n",
       "      <td>4</td>\n",
       "      <td>1192</td>\n",
       "      <td>0</td>\n",
       "      <td>ACP</td>\n",
       "      <td>0.12</td>\n",
       "      <td>North Central</td>\n",
       "      <td>Urban Other Freeway/Expressway</td>\n",
       "      <td>H2</td>\n",
       "      <td>ACP CLASS 1/2IN PG70-28</td>\n",
       "      <td>0</td>\n",
       "      <td>...</td>\n",
       "      <td>277551.984267</td>\n",
       "      <td>57698.399613</td>\n",
       "      <td>235.987095</td>\n",
       "      <td>66.798432</td>\n",
       "      <td>-5.805484</td>\n",
       "      <td>2.233711</td>\n",
       "      <td>32.124194</td>\n",
       "      <td>1.326798</td>\n",
       "      <td>28.470588</td>\n",
       "      <td>15.065987</td>\n",
       "    </tr>\n",
       "  </tbody>\n",
       "</table>\n",
       "<p>5 rows × 53 columns</p>\n",
       "</div>"
      ],
      "text/plain": [
       "   Unnamed: 0   UID  IsBridge Lane Surface Type  LaneMiles       Region_x  \\\n",
       "0           0   650         0               ACP       0.20  North Central   \n",
       "1           1  2651         0               ACP       0.30        Eastern   \n",
       "2           2  1193         0               ACP       0.20  North Central   \n",
       "3           3  1070         0               ACP       0.20  North Central   \n",
       "4           4  1192         0               ACP       0.12  North Central   \n",
       "\n",
       "                          FFClass SurfaceTypeCode            STDescription  \\\n",
       "0  Rural Other Principal Arterial              D2  ACP CLASS 1/2IN PG58-34   \n",
       "1  Rural Other Principal Arterial              BA      ACP CLASS B AR4000W   \n",
       "2  Urban Other Freeway/Expressway              BA      ACP CLASS B AR4000W   \n",
       "3  Rural Other Freeway/Expressway              BA      ACP CLASS B AR4000W   \n",
       "4  Urban Other Freeway/Expressway              H2  ACP CLASS 1/2IN PG70-28   \n",
       "\n",
       "   TreatBaseCode    ...           ESALmean       ESALstd      PPTmean  \\\n",
       "0              0    ...       44081.379449   6589.909598  2224.992258   \n",
       "1              0    ...      115228.195023  17225.944328   406.129032   \n",
       "2              0    ...      302745.962932  62935.804968   235.987095   \n",
       "3              0    ...      238905.150962  35714.929228   417.224842   \n",
       "4              0    ...      277551.984267  57698.399613   235.987095   \n",
       "\n",
       "       PPTstd  MINTmean   MINTstd   MAXTmean   MAXTstd     FTCmean     FTCstd  \n",
       "0  426.469803 -7.831613  2.052909  20.842258  1.514390  109.058824  24.197347  \n",
       "1   82.530361 -7.534194  2.057869  29.046129  1.505589   57.235294  13.751163  \n",
       "2   66.798432 -5.805484  2.233711  32.124194  1.326798   28.470588  15.065987  \n",
       "3  105.782953 -6.976774  2.114408  31.401935  1.365993   28.470588  15.065987  \n",
       "4   66.798432 -5.805484  2.233711  32.124194  1.326798   28.470588  15.065987  \n",
       "\n",
       "[5 rows x 53 columns]"
      ]
     },
     "execution_count": 4,
     "metadata": {},
     "output_type": "execute_result"
    }
   ],
   "source": [
    "ds.head()"
   ]
  },
  {
   "cell_type": "code",
   "execution_count": 6,
   "metadata": {
    "collapsed": false
   },
   "outputs": [
    {
     "data": {
      "text/plain": [
       "Index([u'Unnamed: 0', u'UID', u'IsBridge', u'Lane Surface Type', u'LaneMiles',\n",
       "       u'Region_x', u'FFClass', u'SurfaceTypeCode', u'STDescription',\n",
       "       u'TreatBaseCode', u'TreatBaseDescription', u'TBThick', u'untrthick',\n",
       "       u'Y_ESAL', u'MajorRehabYear', u'Cum_ESAL', u'SURFTHK', u'ULT',\n",
       "       u'TSfThick', u'tmin', u'tmax', u'cumESALs', u'IRIsi', u'Alli', u'Long',\n",
       "       u'E_Alli', u'E_Long', u'prep', u'MinT', u'MaxT', u'FTCycles',\n",
       "       u'actbthick', u'pctbthick', u'ftprep', u'BA', u'AA', u'AADT',\n",
       "       u'ptrucks', u'Trucks', u'PCars', u'VehMiles', u'TruckMiles',\n",
       "       u'SpeedLimit', u'ESALmean', u'ESALstd', u'PPTmean', u'PPTstd',\n",
       "       u'MINTmean', u'MINTstd', u'MAXTmean', u'MAXTstd', u'FTCmean',\n",
       "       u'FTCstd'],\n",
       "      dtype='object')"
      ]
     },
     "execution_count": 6,
     "metadata": {},
     "output_type": "execute_result"
    }
   ],
   "source": [
    "ds.columns"
   ]
  },
  {
   "cell_type": "code",
   "execution_count": 8,
   "metadata": {
    "collapsed": false
   },
   "outputs": [
    {
     "data": {
      "text/html": [
       "<div>\n",
       "<table border=\"1\" class=\"dataframe\">\n",
       "  <thead>\n",
       "    <tr style=\"text-align: right;\">\n",
       "      <th></th>\n",
       "      <th>tmax</th>\n",
       "      <th>tmin</th>\n",
       "      <th>MinT</th>\n",
       "      <th>MaxT</th>\n",
       "    </tr>\n",
       "  </thead>\n",
       "  <tbody>\n",
       "    <tr>\n",
       "      <th>count</th>\n",
       "      <td>4083.000000</td>\n",
       "      <td>4083.000000</td>\n",
       "      <td>4083.000000</td>\n",
       "      <td>4083.000000</td>\n",
       "    </tr>\n",
       "    <tr>\n",
       "      <th>mean</th>\n",
       "      <td>26.538737</td>\n",
       "      <td>-1.883748</td>\n",
       "      <td>-2.763559</td>\n",
       "      <td>27.112192</td>\n",
       "    </tr>\n",
       "    <tr>\n",
       "      <th>std</th>\n",
       "      <td>3.508982</td>\n",
       "      <td>3.012661</td>\n",
       "      <td>3.108339</td>\n",
       "      <td>3.976180</td>\n",
       "    </tr>\n",
       "    <tr>\n",
       "      <th>min</th>\n",
       "      <td>17.492667</td>\n",
       "      <td>-9.650000</td>\n",
       "      <td>-10.100000</td>\n",
       "      <td>17.889999</td>\n",
       "    </tr>\n",
       "    <tr>\n",
       "      <th>25%</th>\n",
       "      <td>24.386875</td>\n",
       "      <td>-4.889028</td>\n",
       "      <td>-5.730000</td>\n",
       "      <td>24.850000</td>\n",
       "    </tr>\n",
       "    <tr>\n",
       "      <th>50%</th>\n",
       "      <td>25.376667</td>\n",
       "      <td>-0.480000</td>\n",
       "      <td>-1.240000</td>\n",
       "      <td>25.770000</td>\n",
       "    </tr>\n",
       "    <tr>\n",
       "      <th>75%</th>\n",
       "      <td>29.708333</td>\n",
       "      <td>0.401765</td>\n",
       "      <td>-0.450000</td>\n",
       "      <td>30.865000</td>\n",
       "    </tr>\n",
       "    <tr>\n",
       "      <th>max</th>\n",
       "      <td>34.441538</td>\n",
       "      <td>2.237647</td>\n",
       "      <td>1.310000</td>\n",
       "      <td>36.169998</td>\n",
       "    </tr>\n",
       "  </tbody>\n",
       "</table>\n",
       "</div>"
      ],
      "text/plain": [
       "              tmax         tmin         MinT         MaxT\n",
       "count  4083.000000  4083.000000  4083.000000  4083.000000\n",
       "mean     26.538737    -1.883748    -2.763559    27.112192\n",
       "std       3.508982     3.012661     3.108339     3.976180\n",
       "min      17.492667    -9.650000   -10.100000    17.889999\n",
       "25%      24.386875    -4.889028    -5.730000    24.850000\n",
       "50%      25.376667    -0.480000    -1.240000    25.770000\n",
       "75%      29.708333     0.401765    -0.450000    30.865000\n",
       "max      34.441538     2.237647     1.310000    36.169998"
      ]
     },
     "execution_count": 8,
     "metadata": {},
     "output_type": "execute_result"
    }
   ],
   "source": [
    "ds[['tmax', 'tmin', 'MinT', 'MaxT']].describe()"
   ]
  },
  {
   "cell_type": "code",
   "execution_count": 9,
   "metadata": {
    "collapsed": false
   },
   "outputs": [],
   "source": [
    "ds['tmin'] = ds.tmin.mul(9.0/5).add(32)\n",
    "ds['tmax'] = ds.tmax.mul(9.0/5).add(32)"
   ]
  },
  {
   "cell_type": "code",
   "execution_count": 11,
   "metadata": {
    "collapsed": true
   },
   "outputs": [],
   "source": [
    "ds['MINTmean'] = ds.MINTmean.mul(9.0/5).add(32)\n",
    "ds['MINTstd'] = ds.MINTstd.mul(9.0/5).add(32)\n",
    "ds['MAXTmean'] = ds.MAXTmean.mul(9.0/5).add(32)\n",
    "ds['MAXTstd'] = ds.MAXTstd.mul(9.0/5).add(32)"
   ]
  },
  {
   "cell_type": "code",
   "execution_count": 12,
   "metadata": {
    "collapsed": true
   },
   "outputs": [],
   "source": [
    "ds.to_csv(\"../../Research Data/Rmodels/data/mcsdataset2.csv\")"
   ]
  }
 ],
 "metadata": {
  "kernelspec": {
   "display_name": "Python 2",
   "language": "python",
   "name": "python2"
  },
  "language_info": {
   "codemirror_mode": {
    "name": "ipython",
    "version": 2
   },
   "file_extension": ".py",
   "mimetype": "text/x-python",
   "name": "python",
   "nbconvert_exporter": "python",
   "pygments_lexer": "ipython2",
   "version": "2.7.10"
  }
 },
 "nbformat": 4,
 "nbformat_minor": 0
}
