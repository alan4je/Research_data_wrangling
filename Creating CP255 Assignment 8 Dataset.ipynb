{
 "cells": [
  {
   "cell_type": "code",
   "execution_count": 1,
   "metadata": {
    "collapsed": true
   },
   "outputs": [],
   "source": [
    "import pandas as pd, numpy as np"
   ]
  },
  {
   "cell_type": "code",
   "execution_count": 2,
   "metadata": {
    "collapsed": true
   },
   "outputs": [],
   "source": [
    "cds = pd.read_csv('../FinalDatasets/RCSegCoord.csv')"
   ]
  },
  {
   "cell_type": "code",
   "execution_count": 10,
   "metadata": {
    "collapsed": false
   },
   "outputs": [],
   "source": [
    "cds = cds[['UID', 'Longitude', 'Latitude']]"
   ]
  },
  {
   "cell_type": "code",
   "execution_count": 5,
   "metadata": {
    "collapsed": false
   },
   "outputs": [],
   "source": [
    "df = pd.read_csv('../modelDatasets/mdata.csv')"
   ]
  },
  {
   "cell_type": "code",
   "execution_count": 7,
   "metadata": {
    "collapsed": false
   },
   "outputs": [
    {
     "data": {
      "text/plain": [
       "Index([u'Unnamed: 0', u'Unnamed: 0.1', u'UID', u'IsBridge',\n",
       "       u'Lane Surface Type', u'LaneMiles', u'Region_x', u'FFClass',\n",
       "       u'SurfaceTypeCode', u'STDescription', u'TreatBaseCode',\n",
       "       u'TreatBaseDescription', u'TBThick', u'untrthick', u'Y_ESAL',\n",
       "       u'MajorRehabYear', u'Cum_ESAL', u'SURFTHK', u'ULT', u'TSfThick',\n",
       "       u'tmin', u'tmax', u'cumESALs', u'IRIsi', u'Alli', u'Long', u'E_Alli',\n",
       "       u'E_Long', u'prep', u'MinT', u'MaxT', u'FTCycles', u'actbthick',\n",
       "       u'pctbthick', u'ftprep', u'BA', u'AA', u'AADT', u'ptrucks', u'Trucks',\n",
       "       u'PCars'],\n",
       "      dtype='object')"
      ]
     },
     "execution_count": 7,
     "metadata": {},
     "output_type": "execute_result"
    }
   ],
   "source": [
    "df.columns"
   ]
  },
  {
   "cell_type": "code",
   "execution_count": 9,
   "metadata": {
    "collapsed": false
   },
   "outputs": [],
   "source": [
    "ndf = df[['UID', 'IsBridge', 'SURFTHK', 'ULT', 'MinT', 'MaxT', 'prep', 'AADT', 'Y_ESAL']]"
   ]
  },
  {
   "cell_type": "code",
   "execution_count": 12,
   "metadata": {
    "collapsed": false
   },
   "outputs": [
    {
     "name": "stdout",
     "output_type": "stream",
     "text": [
      "0\n"
     ]
    }
   ],
   "source": [
    "ds = pd.merge(ndf, cds, how='left', left_on = 'UID', right_on = 'UID')\n",
    "print len(ds[ds.prep.isnull()==1])"
   ]
  },
  {
   "cell_type": "code",
   "execution_count": 14,
   "metadata": {
    "collapsed": false
   },
   "outputs": [
    {
     "name": "stdout",
     "output_type": "stream",
     "text": [
      "True\n"
     ]
    },
    {
     "data": {
      "text/html": [
       "<div>\n",
       "<table border=\"1\" class=\"dataframe\">\n",
       "  <thead>\n",
       "    <tr style=\"text-align: right;\">\n",
       "      <th></th>\n",
       "      <th>UID</th>\n",
       "      <th>IsBridge</th>\n",
       "      <th>SURFTHK</th>\n",
       "      <th>ULT</th>\n",
       "      <th>MinT</th>\n",
       "      <th>MaxT</th>\n",
       "      <th>prep</th>\n",
       "      <th>AADT</th>\n",
       "      <th>Y_ESAL</th>\n",
       "      <th>Longitude</th>\n",
       "      <th>Latitude</th>\n",
       "    </tr>\n",
       "  </thead>\n",
       "  <tbody>\n",
       "    <tr>\n",
       "      <th>0</th>\n",
       "      <td>650</td>\n",
       "      <td>0</td>\n",
       "      <td>0.17</td>\n",
       "      <td>1.40</td>\n",
       "      <td>-5.48</td>\n",
       "      <td>21.600000</td>\n",
       "      <td>2056.719971</td>\n",
       "      <td>4257</td>\n",
       "      <td>43180</td>\n",
       "      <td>-121.081023</td>\n",
       "      <td>47.747946</td>\n",
       "    </tr>\n",
       "    <tr>\n",
       "      <th>1</th>\n",
       "      <td>2651</td>\n",
       "      <td>0</td>\n",
       "      <td>0.15</td>\n",
       "      <td>2.47</td>\n",
       "      <td>-8.73</td>\n",
       "      <td>30.420000</td>\n",
       "      <td>343.649994</td>\n",
       "      <td>7834</td>\n",
       "      <td>112872</td>\n",
       "      <td>-117.836807</td>\n",
       "      <td>47.667265</td>\n",
       "    </tr>\n",
       "    <tr>\n",
       "      <th>2</th>\n",
       "      <td>1193</td>\n",
       "      <td>0</td>\n",
       "      <td>0.25</td>\n",
       "      <td>1.55</td>\n",
       "      <td>-4.85</td>\n",
       "      <td>33.630001</td>\n",
       "      <td>193.179993</td>\n",
       "      <td>21068</td>\n",
       "      <td>387283</td>\n",
       "      <td>-120.314557</td>\n",
       "      <td>47.467898</td>\n",
       "    </tr>\n",
       "    <tr>\n",
       "      <th>3</th>\n",
       "      <td>1070</td>\n",
       "      <td>0</td>\n",
       "      <td>0.25</td>\n",
       "      <td>1.29</td>\n",
       "      <td>-6.27</td>\n",
       "      <td>32.840000</td>\n",
       "      <td>323.160004</td>\n",
       "      <td>14987</td>\n",
       "      <td>234020</td>\n",
       "      <td>-120.552730</td>\n",
       "      <td>47.543849</td>\n",
       "    </tr>\n",
       "    <tr>\n",
       "      <th>4</th>\n",
       "      <td>1192</td>\n",
       "      <td>0</td>\n",
       "      <td>0.15</td>\n",
       "      <td>1.48</td>\n",
       "      <td>-4.85</td>\n",
       "      <td>33.630001</td>\n",
       "      <td>193.179993</td>\n",
       "      <td>19317</td>\n",
       "      <td>355054</td>\n",
       "      <td>-120.314557</td>\n",
       "      <td>47.467898</td>\n",
       "    </tr>\n",
       "  </tbody>\n",
       "</table>\n",
       "</div>"
      ],
      "text/plain": [
       "    UID  IsBridge  SURFTHK   ULT  MinT       MaxT         prep   AADT  Y_ESAL  \\\n",
       "0   650         0     0.17  1.40 -5.48  21.600000  2056.719971   4257   43180   \n",
       "1  2651         0     0.15  2.47 -8.73  30.420000   343.649994   7834  112872   \n",
       "2  1193         0     0.25  1.55 -4.85  33.630001   193.179993  21068  387283   \n",
       "3  1070         0     0.25  1.29 -6.27  32.840000   323.160004  14987  234020   \n",
       "4  1192         0     0.15  1.48 -4.85  33.630001   193.179993  19317  355054   \n",
       "\n",
       "    Longitude   Latitude  \n",
       "0 -121.081023  47.747946  \n",
       "1 -117.836807  47.667265  \n",
       "2 -120.314557  47.467898  \n",
       "3 -120.552730  47.543849  \n",
       "4 -120.314557  47.467898  "
      ]
     },
     "execution_count": 14,
     "metadata": {},
     "output_type": "execute_result"
    }
   ],
   "source": [
    "print len(ds) == len(ndf)\n",
    "ds.head()"
   ]
  },
  {
   "cell_type": "code",
   "execution_count": 35,
   "metadata": {
    "collapsed": false
   },
   "outputs": [
    {
     "name": "stderr",
     "output_type": "stream",
     "text": [
      "/Users/Alan/anaconda2/lib/python2.7/site-packages/ipykernel/__main__.py:1: FutureWarning: sort(columns=....) is deprecated, use sort_values(by=.....)\n",
      "  if __name__ == '__main__':\n"
     ]
    },
    {
     "data": {
      "text/html": [
       "<div>\n",
       "<table border=\"1\" class=\"dataframe\">\n",
       "  <thead>\n",
       "    <tr style=\"text-align: right;\">\n",
       "      <th></th>\n",
       "      <th>UID</th>\n",
       "      <th>IsBridge</th>\n",
       "      <th>SURFTHK</th>\n",
       "      <th>ULT</th>\n",
       "      <th>MinT</th>\n",
       "      <th>MaxT</th>\n",
       "      <th>prep</th>\n",
       "      <th>AADT</th>\n",
       "      <th>Y_ESAL</th>\n",
       "      <th>Longitude</th>\n",
       "      <th>Latitude</th>\n",
       "    </tr>\n",
       "  </thead>\n",
       "  <tbody>\n",
       "    <tr>\n",
       "      <th>712</th>\n",
       "      <td>1</td>\n",
       "      <td>0</td>\n",
       "      <td>0.25</td>\n",
       "      <td>1.00</td>\n",
       "      <td>-0.69</td>\n",
       "      <td>24.90</td>\n",
       "      <td>841.650024</td>\n",
       "      <td>6415</td>\n",
       "      <td>30058</td>\n",
       "      <td>-122.169366</td>\n",
       "      <td>47.978215</td>\n",
       "    </tr>\n",
       "    <tr>\n",
       "      <th>635</th>\n",
       "      <td>24</td>\n",
       "      <td>1</td>\n",
       "      <td>0.00</td>\n",
       "      <td>0.15</td>\n",
       "      <td>-0.92</td>\n",
       "      <td>24.65</td>\n",
       "      <td>906.809998</td>\n",
       "      <td>45712</td>\n",
       "      <td>174012</td>\n",
       "      <td>-122.133338</td>\n",
       "      <td>47.978414</td>\n",
       "    </tr>\n",
       "    <tr>\n",
       "      <th>1704</th>\n",
       "      <td>27</td>\n",
       "      <td>0</td>\n",
       "      <td>0.35</td>\n",
       "      <td>1.35</td>\n",
       "      <td>-0.92</td>\n",
       "      <td>24.65</td>\n",
       "      <td>906.809998</td>\n",
       "      <td>28060</td>\n",
       "      <td>106908</td>\n",
       "      <td>-122.133338</td>\n",
       "      <td>47.978414</td>\n",
       "    </tr>\n",
       "    <tr>\n",
       "      <th>706</th>\n",
       "      <td>28</td>\n",
       "      <td>0</td>\n",
       "      <td>0.15</td>\n",
       "      <td>1.69</td>\n",
       "      <td>-0.92</td>\n",
       "      <td>24.65</td>\n",
       "      <td>906.809998</td>\n",
       "      <td>28060</td>\n",
       "      <td>106908</td>\n",
       "      <td>-122.133338</td>\n",
       "      <td>47.978414</td>\n",
       "    </tr>\n",
       "    <tr>\n",
       "      <th>671</th>\n",
       "      <td>33</td>\n",
       "      <td>0</td>\n",
       "      <td>0.12</td>\n",
       "      <td>1.54</td>\n",
       "      <td>-0.92</td>\n",
       "      <td>24.65</td>\n",
       "      <td>906.809998</td>\n",
       "      <td>31066</td>\n",
       "      <td>118246</td>\n",
       "      <td>-122.120592</td>\n",
       "      <td>47.970205</td>\n",
       "    </tr>\n",
       "    <tr>\n",
       "      <th>27</th>\n",
       "      <td>66</td>\n",
       "      <td>1</td>\n",
       "      <td>0.00</td>\n",
       "      <td>0.15</td>\n",
       "      <td>-1.14</td>\n",
       "      <td>24.42</td>\n",
       "      <td>1024.199951</td>\n",
       "      <td>20944</td>\n",
       "      <td>79442</td>\n",
       "      <td>-122.070079</td>\n",
       "      <td>47.947539</td>\n",
       "    </tr>\n",
       "  </tbody>\n",
       "</table>\n",
       "</div>"
      ],
      "text/plain": [
       "      UID  IsBridge  SURFTHK   ULT  MinT   MaxT         prep   AADT  Y_ESAL  \\\n",
       "712     1         0     0.25  1.00 -0.69  24.90   841.650024   6415   30058   \n",
       "635    24         1     0.00  0.15 -0.92  24.65   906.809998  45712  174012   \n",
       "1704   27         0     0.35  1.35 -0.92  24.65   906.809998  28060  106908   \n",
       "706    28         0     0.15  1.69 -0.92  24.65   906.809998  28060  106908   \n",
       "671    33         0     0.12  1.54 -0.92  24.65   906.809998  31066  118246   \n",
       "27     66         1     0.00  0.15 -1.14  24.42  1024.199951  20944   79442   \n",
       "\n",
       "       Longitude   Latitude  \n",
       "712  -122.169366  47.978215  \n",
       "635  -122.133338  47.978414  \n",
       "1704 -122.133338  47.978414  \n",
       "706  -122.133338  47.978414  \n",
       "671  -122.120592  47.970205  \n",
       "27   -122.070079  47.947539  "
      ]
     },
     "execution_count": 35,
     "metadata": {},
     "output_type": "execute_result"
    }
   ],
   "source": [
    "ds = ds.sort(columns = ['UID'])\n",
    "ds.head(6)"
   ]
  },
  {
   "cell_type": "code",
   "execution_count": 25,
   "metadata": {
    "collapsed": false
   },
   "outputs": [],
   "source": [
    "diff = np.array(ds.UID)[1:] - np.array(ds.UID)[:-1]"
   ]
  },
  {
   "cell_type": "code",
   "execution_count": 36,
   "metadata": {
    "collapsed": false
   },
   "outputs": [
    {
     "name": "stdout",
     "output_type": "stream",
     "text": [
      "4083\n",
      "1761\n"
     ]
    }
   ],
   "source": [
    "mask = diff > 4\n",
    "col_mask = [True] + list(mask)\n",
    "print len(col_mask)\n",
    "print sum(col_mask)"
   ]
  },
  {
   "cell_type": "code",
   "execution_count": 37,
   "metadata": {
    "collapsed": false
   },
   "outputs": [
    {
     "name": "stdout",
     "output_type": "stream",
     "text": [
      "4082\n",
      "[ True False False  True  True]\n",
      "1760\n"
     ]
    }
   ],
   "source": [
    "print len(mask)\n",
    "print mask[:5]\n",
    "print sum(mask)"
   ]
  },
  {
   "cell_type": "code",
   "execution_count": 26,
   "metadata": {
    "collapsed": false
   },
   "outputs": [
    {
     "name": "stdout",
     "output_type": "stream",
     "text": [
      "4082\n",
      "4083\n"
     ]
    }
   ],
   "source": [
    "print len(diff)\n",
    "print len(ds)"
   ]
  },
  {
   "cell_type": "code",
   "execution_count": 38,
   "metadata": {
    "collapsed": false
   },
   "outputs": [],
   "source": [
    "sds = ds[col_mask]"
   ]
  },
  {
   "cell_type": "code",
   "execution_count": 39,
   "metadata": {
    "collapsed": false
   },
   "outputs": [
    {
     "name": "stdout",
     "output_type": "stream",
     "text": [
      "1761\n"
     ]
    },
    {
     "data": {
      "text/html": [
       "<div>\n",
       "<table border=\"1\" class=\"dataframe\">\n",
       "  <thead>\n",
       "    <tr style=\"text-align: right;\">\n",
       "      <th></th>\n",
       "      <th>UID</th>\n",
       "      <th>IsBridge</th>\n",
       "      <th>SURFTHK</th>\n",
       "      <th>ULT</th>\n",
       "      <th>MinT</th>\n",
       "      <th>MaxT</th>\n",
       "      <th>prep</th>\n",
       "      <th>AADT</th>\n",
       "      <th>Y_ESAL</th>\n",
       "      <th>Longitude</th>\n",
       "      <th>Latitude</th>\n",
       "    </tr>\n",
       "  </thead>\n",
       "  <tbody>\n",
       "    <tr>\n",
       "      <th>712</th>\n",
       "      <td>1</td>\n",
       "      <td>0</td>\n",
       "      <td>0.25</td>\n",
       "      <td>1.00</td>\n",
       "      <td>-0.69</td>\n",
       "      <td>24.900000</td>\n",
       "      <td>841.650024</td>\n",
       "      <td>6415</td>\n",
       "      <td>30058</td>\n",
       "      <td>-122.169366</td>\n",
       "      <td>47.978215</td>\n",
       "    </tr>\n",
       "    <tr>\n",
       "      <th>635</th>\n",
       "      <td>24</td>\n",
       "      <td>1</td>\n",
       "      <td>0.00</td>\n",
       "      <td>0.15</td>\n",
       "      <td>-0.92</td>\n",
       "      <td>24.650000</td>\n",
       "      <td>906.809998</td>\n",
       "      <td>45712</td>\n",
       "      <td>174012</td>\n",
       "      <td>-122.133338</td>\n",
       "      <td>47.978414</td>\n",
       "    </tr>\n",
       "    <tr>\n",
       "      <th>671</th>\n",
       "      <td>33</td>\n",
       "      <td>0</td>\n",
       "      <td>0.12</td>\n",
       "      <td>1.54</td>\n",
       "      <td>-0.92</td>\n",
       "      <td>24.650000</td>\n",
       "      <td>906.809998</td>\n",
       "      <td>31066</td>\n",
       "      <td>118246</td>\n",
       "      <td>-122.120592</td>\n",
       "      <td>47.970205</td>\n",
       "    </tr>\n",
       "    <tr>\n",
       "      <th>27</th>\n",
       "      <td>66</td>\n",
       "      <td>1</td>\n",
       "      <td>0.00</td>\n",
       "      <td>0.15</td>\n",
       "      <td>-1.14</td>\n",
       "      <td>24.420000</td>\n",
       "      <td>1024.199951</td>\n",
       "      <td>20944</td>\n",
       "      <td>79442</td>\n",
       "      <td>-122.070079</td>\n",
       "      <td>47.947539</td>\n",
       "    </tr>\n",
       "    <tr>\n",
       "      <th>694</th>\n",
       "      <td>81</td>\n",
       "      <td>0</td>\n",
       "      <td>0.25</td>\n",
       "      <td>1.15</td>\n",
       "      <td>-1.31</td>\n",
       "      <td>24.799999</td>\n",
       "      <td>1088.739990</td>\n",
       "      <td>20995</td>\n",
       "      <td>79671</td>\n",
       "      <td>-122.062374</td>\n",
       "      <td>47.922928</td>\n",
       "    </tr>\n",
       "  </tbody>\n",
       "</table>\n",
       "</div>"
      ],
      "text/plain": [
       "     UID  IsBridge  SURFTHK   ULT  MinT       MaxT         prep   AADT  \\\n",
       "712    1         0     0.25  1.00 -0.69  24.900000   841.650024   6415   \n",
       "635   24         1     0.00  0.15 -0.92  24.650000   906.809998  45712   \n",
       "671   33         0     0.12  1.54 -0.92  24.650000   906.809998  31066   \n",
       "27    66         1     0.00  0.15 -1.14  24.420000  1024.199951  20944   \n",
       "694   81         0     0.25  1.15 -1.31  24.799999  1088.739990  20995   \n",
       "\n",
       "     Y_ESAL   Longitude   Latitude  \n",
       "712   30058 -122.169366  47.978215  \n",
       "635  174012 -122.133338  47.978414  \n",
       "671  118246 -122.120592  47.970205  \n",
       "27    79442 -122.070079  47.947539  \n",
       "694   79671 -122.062374  47.922928  "
      ]
     },
     "execution_count": 39,
     "metadata": {},
     "output_type": "execute_result"
    }
   ],
   "source": [
    "print len(sds)\n",
    "sds.head()"
   ]
  },
  {
   "cell_type": "code",
   "execution_count": 40,
   "metadata": {
    "collapsed": true
   },
   "outputs": [],
   "source": [
    "sds.to_csv('../modelDatasets/cp255A8.csv')"
   ]
  },
  {
   "cell_type": "code",
   "execution_count": null,
   "metadata": {
    "collapsed": true
   },
   "outputs": [],
   "source": []
  }
 ],
 "metadata": {
  "kernelspec": {
   "display_name": "Python 2",
   "language": "python",
   "name": "python2"
  },
  "language_info": {
   "codemirror_mode": {
    "name": "ipython",
    "version": 2
   },
   "file_extension": ".py",
   "mimetype": "text/x-python",
   "name": "python",
   "nbconvert_exporter": "python",
   "pygments_lexer": "ipython2",
   "version": "2.7.10"
  }
 },
 "nbformat": 4,
 "nbformat_minor": 0
}
